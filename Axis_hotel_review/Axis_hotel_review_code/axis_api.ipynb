{
 "cells": [
  {
   "cell_type": "code",
   "execution_count": 45,
   "metadata": {},
   "outputs": [
    {
     "name": "stderr",
     "output_type": "stream",
     "text": [
      "[nltk_data] Downloading package punkt to\n",
      "[nltk_data]     C:\\Users\\Limpens\\AppData\\Roaming\\nltk_data...\n",
      "[nltk_data]   Package punkt is already up-to-date!\n",
      "[nltk_data] Downloading package stopwords to\n",
      "[nltk_data]     C:\\Users\\Limpens\\AppData\\Roaming\\nltk_data...\n",
      "[nltk_data]   Package stopwords is already up-to-date!\n"
     ]
    },
    {
     "data": {
      "text/plain": [
       "True"
      ]
     },
     "execution_count": 45,
     "metadata": {},
     "output_type": "execute_result"
    }
   ],
   "source": [
    "import requests\n",
    "import csv\n",
    "from dotenv import load_dotenv\n",
    "import os\n",
    "import googlemaps\n",
    "import pandas as pd\n",
    "import nltk\n",
    "from nltk.corpus import stopwords\n",
    "from nltk.tokenize import word_tokenize\n",
    "from nltk.stem import PorterStemmer\n",
    "import re\n",
    "nltk.download('punkt')\n",
    "nltk.download('stopwords')"
   ]
  },
  {
   "cell_type": "code",
   "execution_count": 46,
   "metadata": {},
   "outputs": [],
   "source": [
    "load_dotenv()\n",
    "API_KEY = os.getenv(\"MAPS_API_KEY\")\n",
    "\n",
    "gmaps = googlemaps.Client(key=API_KEY)\n",
    "\n",
    "viana_axis_hotel = 'AXIS VIANA BUSINESS & SPA HOTEL'\n",
    "ponte_lima_axis_hotel = 'Axis Ponte de Lima Golf Resort Hotel'\n",
    "ofir_axis_hotel = 'Axis Ofir Beach Resort Hotel'\n",
    "braga_axis_hotel = 'Basic Braga by Axis'\n",
    "vermar_axis_hotel = 'Hotel Axis Vermar Conference & Beach Hotel'\n",
    "porto_axis_hotel = 'Axis Porto Business & SPA Hotel'\n",
    "porto_club_axis_hotel = 'Axis Porto Club Hotel'\n",
    "\n",
    "def get_hotel_reviews(hotel_name, api_key):\n",
    "    \"\"\"Fetches all reviews for a hotel using the Google Places API, handling pagination.\"\"\"\n",
    "    place_id = gmaps.find_place(input=hotel_name, input_type='textquery', fields=['place_id'])['candidates'][0]['place_id']\n",
    "    all_reviews = []\n",
    "    next_page_token = None\n",
    "\n",
    "    while True:\n",
    "        place_details = gmaps.place(place_id, fields=['name', 'reviews'])\n",
    "        reviews = place_details['result']['reviews']\n",
    "        all_reviews.extend(reviews)\n",
    "\n",
    "        if 'next_page_token' in place_details['result']:\n",
    "            next_page_token = place_details['result']['next_page_token']\n",
    "        else:\n",
    "            break\n",
    "\n",
    "    return all_reviews\n",
    "\n",
    "def save_reviews_to_csv(reviews, file_name):\n",
    "    \"\"\"Saves hotel reviews to a CSV file.\"\"\"\n",
    "    with open(file_name, 'w', newline='', encoding='utf-8') as csvfile:\n",
    "        writer = csv.writer(csvfile)\n",
    "        writer.writerow(['Review']) \n",
    "        for review in reviews:\n",
    "            writer.writerow([review['text']]) \n",
    "            \n",
    "viana_reviews = get_hotel_reviews(viana_axis_hotel, API_KEY)\n",
    "save_reviews_to_csv(viana_reviews, 'viana_reviews.csv')\n",
    "\n",
    "ponte_lima_reviews = get_hotel_reviews(ponte_lima_axis_hotel, API_KEY)\n",
    "save_reviews_to_csv(ponte_lima_reviews, 'ponte_lima_reviews.csv')\n",
    "\n",
    "ofir_reviews = get_hotel_reviews(ofir_axis_hotel, API_KEY)\n",
    "save_reviews_to_csv(ofir_reviews, 'ofir_reviews.csv')\n",
    "\n",
    "braga_reviews = get_hotel_reviews(braga_axis_hotel, API_KEY)\n",
    "save_reviews_to_csv(braga_reviews, 'braga_reviews.csv')\n",
    "\n",
    "vermar_reviews = get_hotel_reviews(vermar_axis_hotel, API_KEY)\n",
    "save_reviews_to_csv(vermar_reviews, 'vermar_reviews.csv')\n",
    "\n",
    "porto_business_reviews = get_hotel_reviews(porto_axis_hotel, API_KEY)\n",
    "save_reviews_to_csv(porto_business_reviews, 'porto_business_reviews.csv')\n",
    "\n",
    "porto_club_reviews = get_hotel_reviews(porto_club_axis_hotel, API_KEY)\n",
    "save_reviews_to_csv(porto_club_reviews, 'porto_club_reviews.csv')"
   ]
  },
  {
   "cell_type": "code",
   "execution_count": 47,
   "metadata": {},
   "outputs": [
    {
     "name": "stdout",
     "output_type": "stream",
     "text": [
      "viana_reviews.csv foi excluído com sucesso.\n",
      "ponte_lima_reviews.csv foi excluído com sucesso.\n",
      "ofir_reviews.csv foi excluído com sucesso.\n",
      "braga_reviews.csv foi excluído com sucesso.\n",
      "vermar_reviews.csv foi excluído com sucesso.\n",
      "porto_business_reviews.csv foi excluído com sucesso.\n",
      "porto_club_reviews.csv foi excluído com sucesso.\n"
     ]
    }
   ],
   "source": [
    "file_paths = ['viana_reviews.csv', 'ponte_lima_reviews.csv', 'ofir_reviews.csv', \n",
    "              'braga_reviews.csv', 'vermar_reviews.csv', 'porto_business_reviews.csv', 'porto_club_reviews.csv']\n",
    "\n",
    "combined_df = pd.read_csv(file_paths[0])\n",
    "\n",
    "for file_path in file_paths[1:]:\n",
    "    temp_df = pd.read_csv(file_path, header=0) \n",
    "    combined_df = pd.concat([combined_df, temp_df], ignore_index=True)\n",
    "\n",
    "combined_df.to_csv('combined.csv', index=False)\n",
    "\n",
    "for file_path in file_paths:\n",
    "    try:\n",
    "        os.remove(file_path)\n",
    "        print(f'{file_path} foi excluído com sucesso.')\n",
    "    except Exception as e:\n",
    "        print(f'Erro ao excluir {file_path}: {e}')"
   ]
  },
  {
   "cell_type": "code",
   "execution_count": 48,
   "metadata": {},
   "outputs": [
    {
     "name": "stdout",
     "output_type": "stream",
     "text": [
      "Processamento concluído. O arquivo foi salvo como Projeto_Processed.xlsx.\n",
      "Combined.csv foi excluído com sucesso.\n"
     ]
    }
   ],
   "source": [
    "stop_words = set(stopwords.words('english'))\n",
    "stemmer = PorterStemmer()\n",
    "\n",
    "def preprocess_text(text):\n",
    "    if not isinstance(text, str):\n",
    "        return ''\n",
    "    text = text.lower() \n",
    "    text = re.sub(r'http\\S+|www\\S+|https\\S+', '', text, flags=re.MULTILINE) \n",
    "    text = re.sub(r'\\W', ' ', text)  \n",
    "    text = re.sub(r'\\d+', '', text)  \n",
    "    words = word_tokenize(text) \n",
    "    words = [word for word in words if word not in stop_words] \n",
    "    words = [stemmer.stem(word) for word in words]  \n",
    "    return ' '.join(words)\n",
    "\n",
    "file_path = 'Combined.csv'\n",
    "df = pd.read_csv(file_path)\n",
    "\n",
    "if 'Review' in df.columns:\n",
    "    df['Review'] = df['Review'].apply(preprocess_text)\n",
    "\n",
    "    df.to_excel('Projeto_Processed.xlsx', index=False)\n",
    "    print('Processamento concluído. O arquivo foi salvo como Projeto_Processed.xlsx.')\n",
    "    \n",
    "    try:\n",
    "        os.remove(file_path)\n",
    "        print(f'{file_path} foi excluído com sucesso.')\n",
    "    except Exception as e:\n",
    "        print(f'Erro ao excluir {file_path}: {e}')\n",
    "else:\n",
    "    print('A coluna \"Review\" não foi encontrada no arquivo.')"
   ]
  },
  {
   "cell_type": "code",
   "execution_count": 49,
   "metadata": {},
   "outputs": [
    {
     "name": "stderr",
     "output_type": "stream",
     "text": [
      "No model was supplied, defaulted to distilbert/distilbert-base-uncased-finetuned-sst-2-english and revision 714eb0f (https://huggingface.co/distilbert/distilbert-base-uncased-finetuned-sst-2-english).\n",
      "Using a pipeline without specifying a model name and revision in production is not recommended.\n"
     ]
    },
    {
     "name": "stdout",
     "output_type": "stream",
     "text": [
      "\n",
      "Carregando o modelo de análise de sentimentos BERT...\n"
     ]
    },
    {
     "name": "stderr",
     "output_type": "stream",
     "text": [
      "Device set to use cpu\n"
     ]
    },
    {
     "name": "stdout",
     "output_type": "stream",
     "text": [
      "\n",
      "Aplicando a análise de sentimentos...\n",
      "\n",
      "Arquivo atualizado salvo com sucesso em: Projeto_with_sentiment.xlsx\n",
      "Arquivo original 'Projeto_processed.xlsx' deletado com sucesso.\n"
     ]
    }
   ],
   "source": [
    "import pandas as pd\n",
    "import os\n",
    "from transformers import pipeline\n",
    "\n",
    "file_path = 'Projeto_processed.xlsx' \n",
    "df = pd.read_excel(file_path)\n",
    "\n",
    "coluna_review = 'Review'\n",
    "\n",
    "print(\"\\nCarregando o modelo de análise de sentimentos BERT...\")\n",
    "sentiment_pipeline = pipeline('sentiment-analysis')\n",
    "\n",
    "print(\"\\nAplicando a análise de sentimentos...\")\n",
    "df['Sentimento'] = df[coluna_review].apply(\n",
    "    lambda x: sentiment_pipeline(x)[0]['label'] if isinstance(x, str) and pd.notnull(x) else 'Sem análise'\n",
    ")\n",
    "\n",
    "output_path = 'Projeto_with_sentiment.xlsx'\n",
    "df.to_excel(output_path, index=False)\n",
    "print(f\"\\nArquivo atualizado salvo com sucesso em: {output_path}\")\n",
    "\n",
    "try:\n",
    "    if os.path.exists(file_path):\n",
    "        os.remove(file_path)\n",
    "        print(f\"Arquivo original '{file_path}' deletado com sucesso.\")\n",
    "    else:\n",
    "        print(f\"O arquivo '{file_path}' não foi encontrado para exclusão.\")\n",
    "except Exception as e:\n",
    "    print(f\"Erro ao tentar deletar o arquivo '{file_path}': {e}\")\n",
    "\n"
   ]
  },
  {
   "cell_type": "code",
   "execution_count": 50,
   "metadata": {},
   "outputs": [],
   "source": [
    "df['Sentimento_Binario'] = df['Sentimento'].map({'POSITIVE': 1, 'NEGATIVE': 0})\n",
    "\n",
    "output_path = 'Projeto_with_sentiment.xlsx'\n",
    "df.to_excel(output_path, index=False)"
   ]
  }
 ],
 "metadata": {
  "kernelspec": {
   "display_name": "TACHANDSON",
   "language": "python",
   "name": "python3"
  },
  "language_info": {
   "codemirror_mode": {
    "name": "ipython",
    "version": 3
   },
   "file_extension": ".py",
   "mimetype": "text/x-python",
   "name": "python",
   "nbconvert_exporter": "python",
   "pygments_lexer": "ipython3",
   "version": "3.10.14"
  }
 },
 "nbformat": 4,
 "nbformat_minor": 2
}
