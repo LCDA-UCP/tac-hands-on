{
 "cells": [
  {
   "cell_type": "code",
   "execution_count": null,
   "metadata": {},
   "outputs": [
    {
     "name": "stderr",
     "output_type": "stream",
     "text": [
      "[nltk_data] Downloading package punkt to\n",
      "[nltk_data]     C:\\Users\\diogo\\AppData\\Roaming\\nltk_data...\n",
      "[nltk_data]   Package punkt is already up-to-date!\n",
      "[nltk_data] Downloading package stopwords to\n",
      "[nltk_data]     C:\\Users\\diogo\\AppData\\Roaming\\nltk_data...\n",
      "[nltk_data]   Package stopwords is already up-to-date!\n"
     ]
    },
    {
     "data": {
      "text/plain": [
       "True"
      ]
     },
     "execution_count": 27,
     "metadata": {},
     "output_type": "execute_result"
    }
   ],
   "source": [
    "import requests\n",
    "import csv\n",
    "from dotenv import load_dotenv\n",
    "import os\n",
    "import pandas as pd\n",
    "import nltk\n",
    "from nltk.corpus import stopwords\n",
    "from nltk.tokenize import word_tokenize\n",
    "from nltk.stem import PorterStemmer\n",
    "from transformers import pipeline\n",
    "import re\n",
    "nltk.download('punkt')\n",
    "nltk.download('stopwords')"
   ]
  },
  {
   "cell_type": "code",
   "execution_count": null,
   "metadata": {},
   "outputs": [],
   "source": [
    "viana_axis_hotel = 'AXIS VIANA BUSINESS & SPA HOTEL'\n",
    "ponte_lima_axis_hotel = 'Axis Ponte de Lima Golf Resort Hotel'\n",
    "ofir_axis_hotel = 'Axis Ofir Beach Resort Hotel'\n",
    "braga_axis_hotel = 'Basic Braga by Axis'\n",
    "vermar_axis_hotel = 'Hotel Axis Vermar Conference & Beach Hotel'\n",
    "porto_axis_hotel = 'Axis Porto Business & SPA Hotel'\n",
    "porto_club_axis_hotel = 'Axis Porto Club Hotel'\n",
    "\n",
    "\n",
    "def get_hotel_reviews(hotel_name, api_key):\n",
    "    import googlemaps\n",
    "    \"\"\"Fetches all reviews for a hotel using the Google Places API, handling pagination.\"\"\"\n",
    "    gmaps = googlemaps.Client(key=api_key)\n",
    "\n",
    "    place_id = gmaps.find_place(input=hotel_name, input_type='textquery', fields=['place_id'])['candidates'][0]['place_id']\n",
    "    all_reviews = []\n",
    "    next_page_token = None\n",
    "\n",
    "    while True:\n",
    "        place_details = gmaps.place(place_id, fields=['name', 'reviews'])\n",
    "        reviews = place_details['result']['reviews']\n",
    "        all_reviews.extend(reviews)\n",
    "\n",
    "        if 'next_page_token' in place_details['result']:\n",
    "            next_page_token = place_details['result']['next_page_token']\n",
    "        else:\n",
    "            break\n",
    "\n",
    "    return all_reviews\n",
    "\n",
    "\n",
    "def save_reviews_to_csv(reviews, file_name):\n",
    "    \"\"\"Saves hotel reviews to a CSV file.\"\"\"\n",
    "    with open(file_name, 'w', newline='', encoding='utf-8') as csvfile:\n",
    "        writer = csv.writer(csvfile)\n",
    "        writer.writerow(['Review']) \n",
    "        for review in reviews:\n",
    "            writer.writerow([review['text']]) "
   ]
  },
  {
   "cell_type": "code",
   "execution_count": null,
   "metadata": {},
   "outputs": [],
   "source": [
    "load_dotenv()\n",
    "API_KEY = os.getenv(\"MAPS_API_KEY\")\n",
    "\n",
    "viana_reviews = get_hotel_reviews(viana_axis_hotel, API_KEY)\n",
    "save_reviews_to_csv(viana_reviews, 'viana_reviews.csv')\n",
    "\n",
    "ponte_lima_reviews = get_hotel_reviews(ponte_lima_axis_hotel, API_KEY)\n",
    "save_reviews_to_csv(ponte_lima_reviews, 'ponte_lima_reviews.csv')\n",
    "\n",
    "ofir_reviews = get_hotel_reviews(ofir_axis_hotel, API_KEY)\n",
    "save_reviews_to_csv(ofir_reviews, 'ofir_reviews.csv')\n",
    "\n",
    "braga_reviews = get_hotel_reviews(braga_axis_hotel, API_KEY)\n",
    "save_reviews_to_csv(braga_reviews, 'braga_reviews.csv')\n",
    "\n",
    "vermar_reviews = get_hotel_reviews(vermar_axis_hotel, API_KEY)\n",
    "save_reviews_to_csv(vermar_reviews, 'vermar_reviews.csv')\n",
    "\n",
    "porto_business_reviews = get_hotel_reviews(porto_axis_hotel, API_KEY)\n",
    "save_reviews_to_csv(porto_business_reviews, 'porto_business_reviews.csv')\n",
    "\n",
    "porto_club_reviews = get_hotel_reviews(porto_club_axis_hotel, API_KEY)\n",
    "save_reviews_to_csv(porto_club_reviews, 'porto_club_reviews.csv')"
   ]
  },
  {
   "cell_type": "code",
   "execution_count": 30,
   "metadata": {},
   "outputs": [],
   "source": [
    "file_paths = ['viana_reviews.csv', 'ponte_lima_reviews.csv', 'ofir_reviews.csv', \n",
    "              'braga_reviews.csv', 'vermar_reviews.csv', 'porto_business_reviews.csv', 'porto_club_reviews.csv']\n",
    "\n",
    "combined_df = pd.read_csv(file_paths[0])\n",
    "\n",
    "for file_path in file_paths[1:]:\n",
    "    temp_df = pd.read_csv(file_path, header=0) \n",
    "    combined_df = pd.concat([combined_df, temp_df], ignore_index=True)\n",
    "\n",
    "output_path = 'combined.csv'\n",
    "with open(output_path, 'w', newline='', encoding='utf-8') as f:\n",
    "    writer = csv.writer(f)\n",
    "    writer.writerow(combined_df.columns)\n",
    "    writer.writerows(combined_df.values)\n",
    "\n",
    "for file_path in file_paths:\n",
    "    if os.path.exists(file_path):\n",
    "        os.remove(file_path)"
   ]
  },
  {
   "cell_type": "code",
   "execution_count": 31,
   "metadata": {},
   "outputs": [],
   "source": [
    "stop_words = set(stopwords.words('english'))\n",
    "stemmer = PorterStemmer()\n",
    "\n",
    "def preprocess_text(text):\n",
    "    if not isinstance(text, str):\n",
    "        return ''\n",
    "    text = text.lower() \n",
    "    text = re.sub(r'http\\S+|www\\S+|https\\S+', '', text, flags=re.MULTILINE) \n",
    "    text = re.sub(r'\\W', ' ', text)  \n",
    "    text = re.sub(r'\\d+', '', text)  \n",
    "    words = word_tokenize(text) \n",
    "    words = [word for word in words if word not in stop_words] \n",
    "    words = [stemmer.stem(word) for word in words]  \n",
    "    return ' '.join(words)"
   ]
  },
  {
   "cell_type": "code",
   "execution_count": 32,
   "metadata": {},
   "outputs": [],
   "source": [
    "file_path = 'combined.csv'\n",
    "df = pd.read_csv(file_path)\n",
    "\n",
    "if 'Review' in df.columns:\n",
    "    # Adding a new column with the original reviews\n",
    "    df['Original_Review'] = df['Review']\n",
    "    # Apply the preprocessing function in the data\n",
    "    df['Review'] = df['Review'].apply(preprocess_text)\n",
    "\n",
    "    # Saving the result in a new csv file\n",
    "    processed_file_path = 'Processed_Project.csv'\n",
    "    with open(processed_file_path, 'w', newline='', encoding='utf-8') as f:\n",
    "        writer = csv.writer(f)\n",
    "        writer.writerow(df.columns) # Writing the headers\n",
    "        writer.writerows(df.values) # Writing the DataFrame lines\n",
    "\n",
    "os.remove(file_path) # Removing the original file"
   ]
  },
  {
   "cell_type": "code",
   "execution_count": 33,
   "metadata": {},
   "outputs": [
    {
     "name": "stderr",
     "output_type": "stream",
     "text": [
      "No model was supplied, defaulted to distilbert/distilbert-base-uncased-finetuned-sst-2-english and revision 714eb0f (https://huggingface.co/distilbert/distilbert-base-uncased-finetuned-sst-2-english).\n",
      "Using a pipeline without specifying a model name and revision in production is not recommended.\n"
     ]
    },
    {
     "name": "stderr",
     "output_type": "stream",
     "text": [
      "Device set to use cuda:0\n"
     ]
    }
   ],
   "source": [
    "file_path = 'Processed_Project.csv' \n",
    "df = pd.read_csv(file_path)\n",
    "\n",
    "review_column = 'Review'\n",
    "\n",
    "sentiment_pipeline = pipeline('sentiment-analysis')\n",
    "\n",
    "def analyze_sentiment(text):\n",
    "    if isinstance(text, str) and pd.notnull(text): # Check if the input is a string and a not-null value\n",
    "        return sentiment_pipeline(text)[0]['label'] # Calling the pipeline from transformers and returns the sentiment analysis\n",
    "    else:\n",
    "        return \"No analysis\" # If the input is not a string or a null (NaN/None) value, does nothing\n",
    "\n",
    "df['Sentiment'] = df[review_column].apply(analyze_sentiment)\n",
    "sentiment_map = {'POSITIVE': 1, 'NEGATIVE': 0}\n",
    "df['Binary_Sentiment'] = df['Sentiment'].map(sentiment_map)"
   ]
  },
  {
   "cell_type": "code",
   "execution_count": 35,
   "metadata": {},
   "outputs": [],
   "source": [
    "# Saving the results in a new CSV file\n",
    "output_path = 'Sentiment_analysis.csv'\n",
    "\n",
    "with open(output_path, 'w', newline='', encoding='utf-8') as f:\n",
    "    writer = csv.writer(f)\n",
    "    writer.writerow(df.columns)\n",
    "    writer.writerows(df.values)\n",
    "\n",
    "# Deleting the original file\n",
    "if os.path.exists(file_path):\n",
    "    os.remove(file_path)"
   ]
  }
 ],
 "metadata": {
  "kernelspec": {
   "display_name": "tac-hands-on",
   "language": "python",
   "name": "python3"
  },
  "language_info": {
   "codemirror_mode": {
    "name": "ipython",
    "version": 3
   },
   "file_extension": ".py",
   "mimetype": "text/x-python",
   "name": "python",
   "nbconvert_exporter": "python",
   "pygments_lexer": "ipython3",
   "version": "3.10.14"
  }
 },
 "nbformat": 4,
 "nbformat_minor": 2
}
