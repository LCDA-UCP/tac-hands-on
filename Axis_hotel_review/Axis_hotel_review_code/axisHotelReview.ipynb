{
 "cells": [
  {
   "cell_type": "markdown",
   "metadata": {},
   "source": [
    "# Get the Amazon's Products with APIs"
   ]
  },
  {
   "cell_type": "markdown",
   "metadata": {},
   "source": [
    "*Application Programming Interfaces* (APIs) are a set of tools, definitions and protocols for building software applications. APIs connect solutions and services without the need to know how these elements have been implemented.\n",
    "\n",
    "Since Amazon has many APIs, each for a specific topic, we will use the **Product Advertising API 5.0**. This free API provides access to a lot of data used by Amazon including the items for sale, customer reviews, seller reviews. This opens the doors to Amazon's databases so that we as developers can take advantage of Amazon's sophisticated e-commerce data and functionality"
   ]
  },
  {
   "cell_type": "markdown",
   "metadata": {},
   "source": [
    "## Librarys"
   ]
  },
  {
   "cell_type": "code",
   "execution_count": 1,
   "metadata": {},
   "outputs": [],
   "source": [
    "import praw\n",
    "import os\n",
    "from dotenv import load_dotenv"
   ]
  },
  {
   "cell_type": "markdown",
   "metadata": {},
   "source": [
    "## Loading the enviroment variables"
   ]
  }
 ],
 "metadata": {
  "kernelspec": {
   "display_name": "tac-hands-on",
   "language": "python",
   "name": "python3"
  },
  "language_info": {
   "codemirror_mode": {
    "name": "ipython",
    "version": 3
   },
   "file_extension": ".py",
   "mimetype": "text/x-python",
   "name": "python",
   "nbconvert_exporter": "python",
   "pygments_lexer": "ipython3",
   "version": "3.10.14"
  }
 },
 "nbformat": 4,
 "nbformat_minor": 2
}
