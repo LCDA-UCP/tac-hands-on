{
 "cells": [
  {
   "metadata": {},
   "cell_type": "markdown",
   "source": [
    "# Text Similarity"
   ],
   "id": "8a73294c3c6031a7"
  },
  {
   "metadata": {},
   "cell_type": "markdown",
   "source": [
    "## Jaccard Similarity\n",
    "\n",
    "Implement the Jaccard similarity function. The function should take two strings and return the Jaccard similarity between the two strings. The Jaccard similarity is defined as the size of the intersection divided by the size of the union of the two sets of tokens."
   ],
   "id": "27c7e92f52223e3"
  },
  {
   "metadata": {
    "ExecuteTime": {
     "end_time": "2024-09-22T11:11:06.900058Z",
     "start_time": "2024-09-22T11:11:06.896380Z"
    }
   },
   "cell_type": "code",
   "source": [
    "def jaccard_similarity(str1: str, str2: str) -> float:\n",
    "    \"\"\"\n",
    "    Compute the Jaccard similarity between two strings.\n",
    "    \n",
    "    Parameters\n",
    "    ----------\n",
    "    str1: str\n",
    "        The first string.\n",
    "    str2: str\n",
    "        The second string.\n",
    "\n",
    "    Returns\n",
    "    -------\n",
    "    float\n",
    "        The Jaccard similarity between the two strings.\n",
    "    \"\"\"\n",
    "    # add code here\n",
    "    # ...\n",
    "    return ..."
   ],
   "id": "892b794b1260fc8c",
   "outputs": [],
   "execution_count": 2
  },
  {
   "metadata": {},
   "cell_type": "markdown",
   "source": [
    "Test the function with the following strings:"
   ],
   "id": "3ce3493c81fac4d9"
  },
  {
   "metadata": {
    "ExecuteTime": {
     "end_time": "2024-09-22T11:13:54.491453Z",
     "start_time": "2024-09-22T11:13:54.489154Z"
    }
   },
   "cell_type": "code",
   "source": [
    "str1 = \"I love applied data science\"\n",
    "str2 = \"I love data mining\"\n",
    "str3 = \"I hate applied data science\"\n",
    "str4 = \"This class is awesome\""
   ],
   "id": "8fdd6057063f903e",
   "outputs": [],
   "execution_count": 4
  },
  {
   "metadata": {
    "ExecuteTime": {
     "end_time": "2024-09-26T20:00:48.395602Z",
     "start_time": "2024-09-26T20:00:48.392105Z"
    }
   },
   "cell_type": "code",
   "source": [
    "import seaborn as sns\n",
    "import pandas as pd\n",
    "import numpy as np\n",
    "\n",
    "# heat map of jaccard similarities\n",
    "# add code here\n",
    "similarities = np.array([jaccard_similarity(str1, str1)]\n",
    "# ..."
   ],
   "id": "63790d9789299767",
   "outputs": [],
   "execution_count": 2
  },
  {
   "metadata": {},
   "cell_type": "markdown",
   "source": [
    "## Cosine Similarity\n",
    "\n",
    "Implement the cosine similarity function. The function should take two strings and return the cosine similarity between the two strings. The cosine similarity is defined as the dot product of the two vectors divided by the product of the magnitudes of the two vectors.\n"
   ],
   "id": "de065f264fb4a514"
  },
  {
   "metadata": {
    "ExecuteTime": {
     "end_time": "2024-09-22T11:27:41.372086Z",
     "start_time": "2024-09-22T11:27:41.367690Z"
    }
   },
   "cell_type": "code",
   "source": [
    "from sklearn.feature_extraction.text import CountVectorizer\n",
    "\n",
    "def cosine_similarity(str1: str, str2: str) -> float:\n",
    "    \"\"\"\n",
    "    Compute the cosine similarity between two strings.\n",
    "    \n",
    "    Parameters\n",
    "    ----------\n",
    "    str1: str\n",
    "        The first string.\n",
    "    str2: str\n",
    "        The second string.\n",
    "\n",
    "    Returns\n",
    "    -------\n",
    "    float\n",
    "        The cosine similarity between the two strings.\n",
    "    \"\"\"\n",
    "    # calculate the count of each word in the two strings\n",
    "    vectorizer = CountVectorizer()\n",
    "    X = vectorizer.fit_transform([str1, str2])\n",
    "    vec1 = X.toarray()[0]\n",
    "    vec2 = X.toarray()[1]\n",
    "    \n",
    "    # calculate the norm of the two vectors\n",
    "    # add code here\n",
    "    # ...\n",
    "    \n",
    "    # calculate the cosine similarity by computing the dot product of the two vectors and dividing by the product of the norms\n",
    "    return ..."
   ],
   "id": "ca0447447d105d9",
   "outputs": [],
   "execution_count": 21
  },
  {
   "metadata": {
    "ExecuteTime": {
     "end_time": "2024-09-22T11:27:43.409188Z",
     "start_time": "2024-09-22T11:27:43.404849Z"
    }
   },
   "cell_type": "code",
   "source": [
    "# Test with the first two strings\n",
    "cosine_similarity(str1, str2)"
   ],
   "id": "6bce19b4bea3dcce",
   "outputs": [
    {
     "name": "stdout",
     "output_type": "stream",
     "text": [
      "[1 1 1 0 1]\n",
      "[0 1 1 1 0]\n",
      "['applied' 'data' 'love' 'mining' 'science']\n"
     ]
    },
    {
     "data": {
      "text/plain": [
       "np.float64(0.5773502691896258)"
      ]
     },
     "execution_count": 22,
     "metadata": {},
     "output_type": "execute_result"
    }
   ],
   "execution_count": 22
  },
  {
   "metadata": {
    "ExecuteTime": {
     "end_time": "2024-09-26T20:00:42.593567Z",
     "start_time": "2024-09-26T20:00:42.590975Z"
    }
   },
   "cell_type": "code",
   "source": [
    "# heat map of cosine similarities\n",
    "# add code here\n",
    "cosine_similarity()\n",
    "# ..."
   ],
   "id": "3ccf3e74e321e6c4",
   "outputs": [],
   "execution_count": 1
  },
  {
   "metadata": {},
   "cell_type": "code",
   "outputs": [],
   "execution_count": null,
   "source": [],
   "id": "569978cecf9283b"
  }
 ],
 "metadata": {
  "kernelspec": {
   "display_name": "Python 3",
   "language": "python",
   "name": "python3"
  },
  "language_info": {
   "codemirror_mode": {
    "name": "ipython",
    "version": 2
   },
   "file_extension": ".py",
   "mimetype": "text/x-python",
   "name": "python",
   "nbconvert_exporter": "python",
   "pygments_lexer": "ipython2",
   "version": "2.7.6"
  }
 },
 "nbformat": 4,
 "nbformat_minor": 5
}
