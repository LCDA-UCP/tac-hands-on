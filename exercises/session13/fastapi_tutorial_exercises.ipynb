{
 "cells": [
  {
   "cell_type": "markdown",
   "id": "b6c729e8f0894697",
   "metadata": {},
   "source": [
    "# FastAPI Tutorial\n",
    "\n",
    "FastAPI is a modern web framework for building APIs with Python 3.6+ based on standard Python type hints. \n",
    "\n",
    "It is designed to be fast, efficient, and easy to use, making it a popular choice for developing RESTful APIs and web applications. \n",
    "\n",
    "Here’s a quick introduction to its key features and concepts.\n",
    "\n",
    "## Key Features\n",
    "\n",
    "1. **Fast Performance**:\n",
    "   - Built on Starlette for the web parts and Pydantic for the data parts.\n",
    "   - FastAPI is one of the fastest web frameworks available, rivaling Node.js and Go.\n",
    "\n",
    "2. **Easy to Use**:\n",
    "   - Designed to be simple and intuitive, allowing you to get started quickly.\n",
    "   - Automatic generation of OpenAPI and JSON Schema documentation.\n",
    "\n",
    "3. **Type Hints**:\n",
    "   - Leverages Python type hints for request validation, serialization, and documentation.\n",
    "   - Reduces bugs by catching errors early in development.\n",
    "\n",
    "4. **Asynchronous Support**:\n",
    "   - Supports asynchronous programming, allowing for high-performance applications that can handle many requests simultaneously.\n",
    "\n",
    "5. **Dependency Injection**:\n",
    "   - Simplifies the management of application dependencies, making your code more modular and maintainable.\n"
   ]
  },
  {
   "cell_type": "markdown",
   "id": "57e8b1a32e57f79b",
   "metadata": {},
   "source": [
    "## Install FastAPI\n",
    "\n",
    "To install FastAPI, you need to have Python 3.6 or higher. You can install FastAPI and an ASGI (Asynchronous Server Gateway Interface) server (such as `uvicorn`) using pip. Follow these steps:\n",
    "\n",
    "**Install FastAPI and Uvicorn**:\n",
    "   Open your terminal and run the following command:\n",
    "\n",
    "```bash\n",
    "pip install fastapi uvicorn\n",
    "```"
   ]
  },
  {
   "cell_type": "markdown",
   "id": "f9a2ab4ae7c1dd2b",
   "metadata": {},
   "source": [
    "Inside today's session directory create a new directory named \"fastapi\" for our project.\n",
    "\n",
    "```bash\n",
    "mkdir fastapi\n",
    "```"
   ]
  },
  {
   "cell_type": "markdown",
   "id": "3c36001d9e9bb2ed",
   "metadata": {},
   "source": [
    "Enter the \"fastapi\" directory and create a new file named \"main.py\".\n",
    "\n",
    "```bash\n",
    "cd fastapi\n",
    "touch main.py\n",
    "```"
   ]
  },
  {
   "cell_type": "markdown",
   "id": "dc7297b6f99deb13",
   "metadata": {},
   "source": [
    "Open the \"main.py\" file in your favorite code editor and import the necessary modules.\n",
    "\n",
    "```python\n",
    "from fastapi import FastAPI\n",
    "```\n",
    "\n",
    "Create an instance of the FastAPI class.\n",
    "\n",
    "```python\n",
    "app = FastAPI()\n",
    "```\n",
    "\n",
    "Define a route using a decorator.\n",
    "\n",
    "```python\n",
    "@app.get(\"/\")\n",
    "def root():\n",
    "    return {\"Hello\": \"World\"}\n",
    "```\n",
    "\n",
    "Run the FastAPI application using the `uvicorn` command-line interface.\n",
    "\n",
    "```bash\n",
    "uvicorn main:app --reload\n",
    "```"
   ]
  },
  {
   "cell_type": "markdown",
   "id": "bcec5030998fd665",
   "metadata": {},
   "source": [
    "If you open your browser and navigate to `http://127.0.0.1:8000`, you should see the following JSON response:\n",
    "    \n",
    "```json\n",
    "{\"Hello\": \"World\"}\n",
    "```"
   ]
  },
  {
   "cell_type": "markdown",
   "id": "eff3fd8db3bfc827",
   "metadata": {},
   "source": [
    "## Creating Routes\n",
    "\n",
    "Routes are the URLs that your API responds to. You can define routes using the `@app.get`, `@app.post`, `@app.put`, `@app.delete`, and `@app.patch` decorators.\n",
    "\n",
    "Here’s an example of a route that returns a JSON response:\n",
    "    \n",
    "```python\n",
    "@app.get(\"/items\")\n",
    "def get_items():\n",
    "    return {\"todo_list\": todo_list}\n",
    "```"
   ]
  },
  {
   "cell_type": "markdown",
   "id": "bd6735a698d7b301",
   "metadata": {},
   "source": [
    "### Let's create a todo list API using FastAPI\n",
    "\n",
    "First let's add an empty list to store our todo items.\n",
    "\n",
    "```python\n",
    "from fastapi import FastAPI\n",
    "\n",
    "app = FastAPI()\n",
    "\n",
    "# Create an empty list to store todo items\n",
    "todo_list = []\n",
    "```\n",
    "\n",
    "Next, let's define a route to add a new todo item to the list.\n",
    "\n",
    "```python\n",
    "@app.post(\"/items\")\n",
    "def create_item(item: str):\n",
    "    todo_list.append(item)\n",
    "    return {\"message\": f\"Item {item} added successfully\\n\"}\n",
    "```"
   ]
  },
  {
   "cell_type": "markdown",
   "id": "4fba6d611bdeb413",
   "metadata": {},
   "source": [
    "To test the API, you can use a tool like `curl` or `Postman` to send a POST request to `http://127.0.0.1:8000/items` with a JSON payload containing the new todo item.\n",
    "\n",
    "For example, using `curl`:\n",
    "    \n",
    "```bash\n",
    "curl -X POST -H \"Content-Type: application/json\" 'http://127.0.0.1:8000/items?item=Buy%20groceries'\n",
    "```"
   ]
  },
  {
   "cell_type": "markdown",
   "id": "9f1ecdc3ccf98b93",
   "metadata": {},
   "source": [
    "Using `requests` library:\n",
    "\n",
    "```python\n",
    "import requests\n",
    "\n",
    "url = 'http://127.0.0.1:8000/items'\n",
    "data = {'item': 'Buy groceries'}\n",
    "\n",
    "response = requests.post(url, data=data)\n",
    "print(response.json())\n",
    "```"
   ]
  },
  {
   "cell_type": "markdown",
   "id": "3b61a2587e14ab09",
   "metadata": {},
   "source": [
    "Now let's define a route to get all the todo items in the list.\n",
    "\n",
    "```python\n",
    "@app.get(\"/items\")\n",
    "def get_items():\n",
    "    return {\"todo_list\": todo_list}\n",
    "```\n",
    "\n",
    "To test the API, you can use a tool like `curl` or `Postman` to send a GET request to `http://127.0.0.1:8000/items`.\n",
    "\n",
    "For example, using `curl`:\n",
    "\n",
    "```bash\n",
    "curl -X GET 'http://127.0.0.1:8000/items'\n",
    "```\n"
   ]
  },
  {
   "cell_type": "markdown",
   "id": "fc038dac2359ac4e",
   "metadata": {},
   "source": [
    "Now let's define a route to get a specific todo item by its index in the list.\n",
    "\n",
    "```python\n",
    "@app.get(\"/items/{item_id}\")\n",
    "def get_item(item_id: int):\n",
    "    if item_id < len(todo_list):\n",
    "        return {\"item\": todo_list[item_id]}\n",
    "    else:\n",
    "        return {\"message\": \"Item not found\"}\n",
    "```"
   ]
  },
  {
   "cell_type": "markdown",
   "id": "3112a3ad7323bf8e",
   "metadata": {},
   "source": [
    "To get an item by its index, you can send a GET request to `http://127.0.0.1:8000/items/{item_id}` where `{item_id}` is the index of the item in the list.\n",
    "\n",
    "For example, using `curl`:\n",
    "\n",
    "```bash\n",
    "curl -X GET 'http://127.0.0.1:8000/items/0'\n",
    "```"
   ]
  },
  {
   "cell_type": "markdown",
   "id": "bab811e0609ab76a",
   "metadata": {},
   "source": [
    "## Exercises:\n",
    "\n",
    "**1. Add a new route to delete a todo item from the list by its index.**\n"
   ]
  },
  {
   "cell_type": "markdown",
   "id": "20043cda24425b67",
   "metadata": {},
   "source": [
    "**2. Add a new route to update a todo item in the list by its index.**\n"
   ]
  },
  {
   "cell_type": "markdown",
   "id": "37c7bd31527d369b",
   "metadata": {},
   "source": [
    "## Pydantic Models\n",
    "\n",
    "Pydantic is a data validation library that provides runtime checking and parsing of data structures using Python type hints. It is used in FastAPI for request and response validation.\n",
    "    \n",
    "To define a Pydantic model, you need to create a class that inherits from `pydantic.BaseModel` and specify the fields with their types and validation rules.\n",
    "\n",
    "Here’s an example of a Pydantic model for a todo item:\n",
    "    \n",
    "```python\n",
    "from pydantic import BaseModel\n",
    "\n",
    "class TodoItem(BaseModel):\n",
    "    description: str\n",
    "    completed: bool\n",
    "```"
   ]
  },
  {
   "cell_type": "markdown",
   "id": "4c4f06c6ee96b6d0",
   "metadata": {},
   "source": [
    "Now that we have defined a Pydantic model for a todo item, we can use it in our FastAPI routes to validate the request data and serialize the response data.\n",
    "\n",
    "Here’s an example of a route that uses the Pydantic model:\n",
    "\n",
    "```python\n",
    "from fastapi import FastAPI, HTTPException\n",
    "from pydantic import BaseModel\n",
    "\n",
    "app = FastAPI()\n",
    "\n",
    "class TodoItem(BaseModel):\n",
    "    description: str\n",
    "    completed: bool\n",
    "\n",
    "todo_list = []\n",
    "\n",
    "@app.post(\"/items\")\n",
    "def create_item(item: TodoItem):\n",
    "    todo_list.append(item.dict())\n",
    "    return {\"message\": f\"Item {item.description} added successfully\\n\"}\n",
    "\n",
    "@app.get(\"/items/{item}\", response_model=TodoItem)\n",
    "def get_item(item: int) -> TodoItem:\n",
    "    if item < len(todo_list):\n",
    "        return todo_list[item]\n",
    "    else:\n",
    "        raise HTTPException(status_code=404, detail=\"Item not found\")\n",
    "```"
   ]
  },
  {
   "cell_type": "markdown",
   "id": "819b4f30ee9d9148",
   "metadata": {},
   "source": [
    "Now, when you send a POST request to `http://127.0.0.1:8000/items` with a JSON payload containing the `description` and `completed` fields, FastAPI will automatically validate the request data against the `TodoItem` model and serialize the response data as a JSON object.\n",
    "\n",
    "For example, using `curl`:\n",
    "    \n",
    "```bash\n",
    "curl -X POST -H \"Content-Type: application/json\" -d '{\"description\": \"Buy groceries\", \"completed\": false}' 'http://127.0.0.1:8000/items'\n",
    "```"
   ]
  },
  {
   "cell_type": "markdown",
   "id": "e43a45df833bca3b",
   "metadata": {},
   "source": [
    "## Interactive API Documentation\n",
    "\n",
    "FastAPI automatically generates interactive API documentation using Swagger UI based on the OpenAPI specification. You can access the documentation by navigating to `http://127.0.0.1:8000/docs` in your browser.\n",
    "\n",
    "The documentation provides an interactive interface for testing your API endpoints, viewing request and response data, and exploring the available routes and models.\n"
   ]
  },
  {
   "cell_type": "markdown",
   "id": "e19eee10316f06d6",
   "metadata": {},
   "source": [
    "from fastapi import FastAPI\n",
    "\n",
    "## Exercises:\n",
    "\n",
    "Develop a FastAPI application that serves a HuggingFace model of your choice. The application should have the following routes:\n",
    "\n",
    "1. `POST /predict`: Takes a text input and returns the model's prediction. The input should be stored for future reference.\n",
    "2. `GET /history`: Returns a list of all text inputs that have been submitted to the model.\n",
    "\n",
    "This exercise should be done individually. Submissions are due by the next session."
   ]
  },
  {
   "cell_type": "code",
   "execution_count": null,
   "id": "7972e504bb281d2b",
   "metadata": {},
   "outputs": [],
   "source": []
  }
 ],
 "metadata": {
  "kernelspec": {
   "display_name": "Python 3",
   "language": "python",
   "name": "python3"
  },
  "language_info": {
   "codemirror_mode": {
    "name": "ipython",
    "version": 2
   },
   "file_extension": ".py",
   "mimetype": "text/x-python",
   "name": "python",
   "nbconvert_exporter": "python",
   "pygments_lexer": "ipython2",
   "version": "2.7.6"
  }
 },
 "nbformat": 4,
 "nbformat_minor": 5
}
