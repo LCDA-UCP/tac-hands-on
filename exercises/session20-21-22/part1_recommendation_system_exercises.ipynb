{
 "cells": [
  {
   "metadata": {},
   "cell_type": "markdown",
   "source": [
    "# Recommender Systems"
   ]
  },
  {
   "metadata": {},
   "cell_type": "markdown",
   "source": [
    "# Exercises: Building an Item-Item Recommender\n",
    "\n",
    "If you use Netflix, you will notice that there is a section titled \"Because you watched Movie X\", which provides recommendations for movies based on a recent movie that you've watched. This is a classic example of an item-item recommendation. \n",
    "\n",
    "In this tutorial, we will generate item-item recommendations using collaborative filtering. Let's get started! "
   ]
  },
  {
   "cell_type": "markdown",
   "metadata": {},
   "source": [
    "## Exercise 1: Load the Data\n",
    "\n",
    "We're working with data in `data/ml-latest-small/` directory which contains the following files:\n",
    "- `ratings.csv`\n",
    "- `movies.csv`\n",
    "\n",
    "The `ratings.csv` file contains ratings from users. Each row contains a user, a movie, a rating, and a timestamp.\n",
    "\n",
    "The `movies.csv` file contains movie titles and their corresponding movieId's and genres.\n",
    "\n",
    "###  <span style=\"color:green\">1. Let's load in our data using pandas and take a look at the first few rows of each dataframe.</span>"
   ]
  },
  {
   "cell_type": "code",
   "metadata": {
    "ExecuteTime": {
     "end_time": "2024-11-29T09:37:02.768987Z",
     "start_time": "2024-11-29T09:37:02.733872Z"
    }
   },
   "source": [
    "import pandas as pd\n",
    "\n",
    "ratings = pd.read_csv('data/ml-latest-small/ratings.csv')\n",
    "ratings.head()"
   ],
   "outputs": [
    {
     "data": {
      "text/plain": "   userId  movieId  rating  timestamp\n0       1        1     4.0  964982703\n1       1        3     4.0  964981247\n2       1        6     4.0  964982224\n3       1       47     5.0  964983815\n4       1       50     5.0  964982931",
      "text/html": "<div>\n<style scoped>\n    .dataframe tbody tr th:only-of-type {\n        vertical-align: middle;\n    }\n\n    .dataframe tbody tr th {\n        vertical-align: top;\n    }\n\n    .dataframe thead th {\n        text-align: right;\n    }\n</style>\n<table border=\"1\" class=\"dataframe\">\n  <thead>\n    <tr style=\"text-align: right;\">\n      <th></th>\n      <th>userId</th>\n      <th>movieId</th>\n      <th>rating</th>\n      <th>timestamp</th>\n    </tr>\n  </thead>\n  <tbody>\n    <tr>\n      <th>0</th>\n      <td>1</td>\n      <td>1</td>\n      <td>4.0</td>\n      <td>964982703</td>\n    </tr>\n    <tr>\n      <th>1</th>\n      <td>1</td>\n      <td>3</td>\n      <td>4.0</td>\n      <td>964981247</td>\n    </tr>\n    <tr>\n      <th>2</th>\n      <td>1</td>\n      <td>6</td>\n      <td>4.0</td>\n      <td>964982224</td>\n    </tr>\n    <tr>\n      <th>3</th>\n      <td>1</td>\n      <td>47</td>\n      <td>5.0</td>\n      <td>964983815</td>\n    </tr>\n    <tr>\n      <th>4</th>\n      <td>1</td>\n      <td>50</td>\n      <td>5.0</td>\n      <td>964982931</td>\n    </tr>\n  </tbody>\n</table>\n</div>"
     },
     "execution_count": 1,
     "metadata": {},
     "output_type": "execute_result"
    }
   ],
   "execution_count": 1
  },
  {
   "cell_type": "code",
   "metadata": {
    "ExecuteTime": {
     "end_time": "2024-11-29T09:37:04.661660Z",
     "start_time": "2024-11-29T09:37:04.643269Z"
    }
   },
   "source": [
    "movies = pd.read_csv('data/ml-latest-small/movies.csv')\n",
    "movies.head()"
   ],
   "outputs": [
    {
     "data": {
      "text/plain": "   movieId                               title  \\\n0        1                    Toy Story (1995)   \n1        2                      Jumanji (1995)   \n2        3             Grumpier Old Men (1995)   \n3        4            Waiting to Exhale (1995)   \n4        5  Father of the Bride Part II (1995)   \n\n                                        genres  \n0  Adventure|Animation|Children|Comedy|Fantasy  \n1                   Adventure|Children|Fantasy  \n2                               Comedy|Romance  \n3                         Comedy|Drama|Romance  \n4                                       Comedy  ",
      "text/html": "<div>\n<style scoped>\n    .dataframe tbody tr th:only-of-type {\n        vertical-align: middle;\n    }\n\n    .dataframe tbody tr th {\n        vertical-align: top;\n    }\n\n    .dataframe thead th {\n        text-align: right;\n    }\n</style>\n<table border=\"1\" class=\"dataframe\">\n  <thead>\n    <tr style=\"text-align: right;\">\n      <th></th>\n      <th>movieId</th>\n      <th>title</th>\n      <th>genres</th>\n    </tr>\n  </thead>\n  <tbody>\n    <tr>\n      <th>0</th>\n      <td>1</td>\n      <td>Toy Story (1995)</td>\n      <td>Adventure|Animation|Children|Comedy|Fantasy</td>\n    </tr>\n    <tr>\n      <th>1</th>\n      <td>2</td>\n      <td>Jumanji (1995)</td>\n      <td>Adventure|Children|Fantasy</td>\n    </tr>\n    <tr>\n      <th>2</th>\n      <td>3</td>\n      <td>Grumpier Old Men (1995)</td>\n      <td>Comedy|Romance</td>\n    </tr>\n    <tr>\n      <th>3</th>\n      <td>4</td>\n      <td>Waiting to Exhale (1995)</td>\n      <td>Comedy|Drama|Romance</td>\n    </tr>\n    <tr>\n      <th>4</th>\n      <td>5</td>\n      <td>Father of the Bride Part II (1995)</td>\n      <td>Comedy</td>\n    </tr>\n  </tbody>\n</table>\n</div>"
     },
     "execution_count": 2,
     "metadata": {},
     "output_type": "execute_result"
    }
   ],
   "execution_count": 2
  },
  {
   "cell_type": "markdown",
   "metadata": {},
   "source": [
    "## Exercise 2: Exploratory Data Analysis\n",
    "\n",
    "### <span style=\"color:green\">2.1: How many ratings are in our dataset?</span>\n",
    "### <span style=\"color:green\">2.2: How many unique movies are in our dataset?</span>\n",
    "### <span style=\"color:green\">2.3: How many users are in our dataset?</span>\n",
    "### <span style=\"color:green\">2.4: What is the average number of ratings per user?</span>\n",
    "### <span style=\"color:green\">2.5: What is the average number of ratings per movie?</span>\n"
   ]
  },
  {
   "cell_type": "code",
   "metadata": {
    "ExecuteTime": {
     "end_time": "2024-11-29T09:37:05.432241Z",
     "start_time": "2024-11-29T09:37:05.424554Z"
    }
   },
   "source": [
    "n_ratings = len(ratings)\n",
    "n_movies = ratings['movieId'].nunique()\n",
    "n_users = ratings['userId'].nunique()\n",
    "\n",
    "print(f\"Number of ratings: {n_ratings}\")\n",
    "print(f\"Number of unique movieId's: {n_movies}\")\n",
    "print(f\"Number of unique users: {n_users}\")\n",
    "print(f\"Average number of ratings per user: {round(n_ratings/n_users, 2)}\")\n",
    "print(f\"Average number of ratings per movie: {round(n_ratings/n_movies, 2)}\")"
   ],
   "outputs": [
    {
     "name": "stdout",
     "output_type": "stream",
     "text": [
      "Number of ratings: 100836\n",
      "Number of unique movieId's: 9724\n",
      "Number of unique users: 610\n",
      "Average number of ratings per user: 165.3\n",
      "Average number of ratings per movie: 10.37\n"
     ]
    }
   ],
   "execution_count": 3
  },
  {
   "cell_type": "markdown",
   "metadata": {},
   "source": [
    "### <span style=\"color:green\">2.6: Plot the distribution of ratings and the number of ratings per movie.</span>\n",
    "\n",
    "Now, let's take a look at users' rating counts. We can do this using pandas' `groupby()` and `count()` which groups the data by `userId`'s and counts the number of ratings for each userId. "
   ]
  },
  {
   "cell_type": "code",
   "metadata": {
    "ExecuteTime": {
     "end_time": "2024-11-29T09:37:05.886810Z",
     "start_time": "2024-11-29T09:37:05.879024Z"
    }
   },
   "source": [
    "user_freq = ratings[['userId', 'movieId']].groupby('userId').count()\n",
    "user_freq"
   ],
   "outputs": [
    {
     "data": {
      "text/plain": "        movieId\nuserId         \n1           232\n2            29\n3            39\n4           216\n5            44\n...         ...\n606        1115\n607         187\n608         831\n609          37\n610        1302\n\n[610 rows x 1 columns]",
      "text/html": "<div>\n<style scoped>\n    .dataframe tbody tr th:only-of-type {\n        vertical-align: middle;\n    }\n\n    .dataframe tbody tr th {\n        vertical-align: top;\n    }\n\n    .dataframe thead th {\n        text-align: right;\n    }\n</style>\n<table border=\"1\" class=\"dataframe\">\n  <thead>\n    <tr style=\"text-align: right;\">\n      <th></th>\n      <th>movieId</th>\n    </tr>\n    <tr>\n      <th>userId</th>\n      <th></th>\n    </tr>\n  </thead>\n  <tbody>\n    <tr>\n      <th>1</th>\n      <td>232</td>\n    </tr>\n    <tr>\n      <th>2</th>\n      <td>29</td>\n    </tr>\n    <tr>\n      <th>3</th>\n      <td>39</td>\n    </tr>\n    <tr>\n      <th>4</th>\n      <td>216</td>\n    </tr>\n    <tr>\n      <th>5</th>\n      <td>44</td>\n    </tr>\n    <tr>\n      <th>...</th>\n      <td>...</td>\n    </tr>\n    <tr>\n      <th>606</th>\n      <td>1115</td>\n    </tr>\n    <tr>\n      <th>607</th>\n      <td>187</td>\n    </tr>\n    <tr>\n      <th>608</th>\n      <td>831</td>\n    </tr>\n    <tr>\n      <th>609</th>\n      <td>37</td>\n    </tr>\n    <tr>\n      <th>610</th>\n      <td>1302</td>\n    </tr>\n  </tbody>\n</table>\n<p>610 rows × 1 columns</p>\n</div>"
     },
     "execution_count": 4,
     "metadata": {},
     "output_type": "execute_result"
    }
   ],
   "execution_count": 4
  },
  {
   "cell_type": "code",
   "metadata": {
    "ExecuteTime": {
     "end_time": "2024-11-29T09:37:07.383416Z",
     "start_time": "2024-11-29T09:37:06.058130Z"
    }
   },
   "source": [
    "import matplotlib.pyplot as plt\n",
    "import seaborn as sns\n",
    "\n",
    "sns.set_style('whitegrid')\n",
    "plt.figure(figsize=(14, 5))\n",
    "plt.subplot(1, 2, 1)\n",
    "ax = sns.countplot(x='rating', data = ratings)\n",
    "plt.title('Rating Distribution')\n",
    "\n",
    "user_freq = user_freq.reset_index()\n",
    "user_freq.columns = ['userId', 'n_ratings']\n",
    "\n",
    "plt.subplot(1, 2, 2)\n",
    "ax = sns.kdeplot(x=user_freq['n_ratings'])"
   ],
   "outputs": [
    {
     "ename": "TypeError",
     "evalue": "",
     "output_type": "error",
     "traceback": [
      "\u001B[0;31m---------------------------------------------------------------------------\u001B[0m",
      "\u001B[0;31mTypeError\u001B[0m                                 Traceback (most recent call last)",
      "Cell \u001B[0;32mIn[5], line 2\u001B[0m\n\u001B[1;32m      1\u001B[0m \u001B[38;5;28;01mimport\u001B[39;00m \u001B[38;5;21;01mmatplotlib\u001B[39;00m\u001B[38;5;21;01m.\u001B[39;00m\u001B[38;5;21;01mpyplot\u001B[39;00m \u001B[38;5;28;01mas\u001B[39;00m \u001B[38;5;21;01mplt\u001B[39;00m\n\u001B[0;32m----> 2\u001B[0m \u001B[38;5;28;01mimport\u001B[39;00m \u001B[38;5;21;01mseaborn\u001B[39;00m \u001B[38;5;28;01mas\u001B[39;00m \u001B[38;5;21;01msns\u001B[39;00m\n\u001B[1;32m      4\u001B[0m sns\u001B[38;5;241m.\u001B[39mset_style(\u001B[38;5;124m'\u001B[39m\u001B[38;5;124mwhitegrid\u001B[39m\u001B[38;5;124m'\u001B[39m)\n\u001B[1;32m      5\u001B[0m plt\u001B[38;5;241m.\u001B[39mfigure(figsize\u001B[38;5;241m=\u001B[39m(\u001B[38;5;241m14\u001B[39m, \u001B[38;5;241m5\u001B[39m))\n",
      "File \u001B[0;32m~/anaconda3/envs/tac-hands-on/lib/python3.10/site-packages/seaborn/__init__.py:5\u001B[0m\n\u001B[1;32m      3\u001B[0m \u001B[38;5;28;01mfrom\u001B[39;00m \u001B[38;5;21;01m.\u001B[39;00m\u001B[38;5;21;01mutils\u001B[39;00m \u001B[38;5;28;01mimport\u001B[39;00m \u001B[38;5;241m*\u001B[39m  \u001B[38;5;66;03m# noqa: F401,F403\u001B[39;00m\n\u001B[1;32m      4\u001B[0m \u001B[38;5;28;01mfrom\u001B[39;00m \u001B[38;5;21;01m.\u001B[39;00m\u001B[38;5;21;01mpalettes\u001B[39;00m \u001B[38;5;28;01mimport\u001B[39;00m \u001B[38;5;241m*\u001B[39m  \u001B[38;5;66;03m# noqa: F401,F403\u001B[39;00m\n\u001B[0;32m----> 5\u001B[0m \u001B[38;5;28;01mfrom\u001B[39;00m \u001B[38;5;21;01m.\u001B[39;00m\u001B[38;5;21;01mrelational\u001B[39;00m \u001B[38;5;28;01mimport\u001B[39;00m \u001B[38;5;241m*\u001B[39m  \u001B[38;5;66;03m# noqa: F401,F403\u001B[39;00m\n\u001B[1;32m      6\u001B[0m \u001B[38;5;28;01mfrom\u001B[39;00m \u001B[38;5;21;01m.\u001B[39;00m\u001B[38;5;21;01mregression\u001B[39;00m \u001B[38;5;28;01mimport\u001B[39;00m \u001B[38;5;241m*\u001B[39m  \u001B[38;5;66;03m# noqa: F401,F403\u001B[39;00m\n\u001B[1;32m      7\u001B[0m \u001B[38;5;28;01mfrom\u001B[39;00m \u001B[38;5;21;01m.\u001B[39;00m\u001B[38;5;21;01mcategorical\u001B[39;00m \u001B[38;5;28;01mimport\u001B[39;00m \u001B[38;5;241m*\u001B[39m  \u001B[38;5;66;03m# noqa: F401,F403\u001B[39;00m\n",
      "File \u001B[0;32m~/anaconda3/envs/tac-hands-on/lib/python3.10/site-packages/seaborn/relational.py:21\u001B[0m\n\u001B[1;32m     13\u001B[0m \u001B[38;5;28;01mfrom\u001B[39;00m \u001B[38;5;21;01m.\u001B[39;00m\u001B[38;5;21;01mutils\u001B[39;00m \u001B[38;5;28;01mimport\u001B[39;00m (\n\u001B[1;32m     14\u001B[0m     adjust_legend_subtitles,\n\u001B[1;32m     15\u001B[0m     _default_color,\n\u001B[0;32m   (...)\u001B[0m\n\u001B[1;32m     18\u001B[0m     _scatter_legend_artist,\n\u001B[1;32m     19\u001B[0m )\n\u001B[1;32m     20\u001B[0m \u001B[38;5;28;01mfrom\u001B[39;00m \u001B[38;5;21;01m.\u001B[39;00m\u001B[38;5;21;01m_compat\u001B[39;00m \u001B[38;5;28;01mimport\u001B[39;00m groupby_apply_include_groups\n\u001B[0;32m---> 21\u001B[0m \u001B[38;5;28;01mfrom\u001B[39;00m \u001B[38;5;21;01m.\u001B[39;00m\u001B[38;5;21;01m_statistics\u001B[39;00m \u001B[38;5;28;01mimport\u001B[39;00m EstimateAggregator, WeightedAggregator\n\u001B[1;32m     22\u001B[0m \u001B[38;5;28;01mfrom\u001B[39;00m \u001B[38;5;21;01m.\u001B[39;00m\u001B[38;5;21;01maxisgrid\u001B[39;00m \u001B[38;5;28;01mimport\u001B[39;00m FacetGrid, _facet_docs\n\u001B[1;32m     23\u001B[0m \u001B[38;5;28;01mfrom\u001B[39;00m \u001B[38;5;21;01m.\u001B[39;00m\u001B[38;5;21;01m_docstrings\u001B[39;00m \u001B[38;5;28;01mimport\u001B[39;00m DocstringComponents, _core_docs\n",
      "File \u001B[0;32m~/anaconda3/envs/tac-hands-on/lib/python3.10/site-packages/seaborn/_statistics.py:32\u001B[0m\n\u001B[1;32m     30\u001B[0m \u001B[38;5;28;01mimport\u001B[39;00m \u001B[38;5;21;01mpandas\u001B[39;00m \u001B[38;5;28;01mas\u001B[39;00m \u001B[38;5;21;01mpd\u001B[39;00m\n\u001B[1;32m     31\u001B[0m \u001B[38;5;28;01mtry\u001B[39;00m:\n\u001B[0;32m---> 32\u001B[0m     \u001B[38;5;28;01mfrom\u001B[39;00m \u001B[38;5;21;01mscipy\u001B[39;00m\u001B[38;5;21;01m.\u001B[39;00m\u001B[38;5;21;01mstats\u001B[39;00m \u001B[38;5;28;01mimport\u001B[39;00m gaussian_kde\n\u001B[1;32m     33\u001B[0m     _no_scipy \u001B[38;5;241m=\u001B[39m \u001B[38;5;28;01mFalse\u001B[39;00m\n\u001B[1;32m     34\u001B[0m \u001B[38;5;28;01mexcept\u001B[39;00m \u001B[38;5;167;01mImportError\u001B[39;00m:\n",
      "File \u001B[0;32m~/anaconda3/envs/tac-hands-on/lib/python3.10/site-packages/scipy/stats/__init__.py:610\u001B[0m\n\u001B[1;32m      1\u001B[0m \u001B[38;5;124;03m\"\"\"\u001B[39;00m\n\u001B[1;32m      2\u001B[0m \u001B[38;5;124;03m.. _statsrefmanual:\u001B[39;00m\n\u001B[1;32m      3\u001B[0m \n\u001B[0;32m   (...)\u001B[0m\n\u001B[1;32m    605\u001B[0m \n\u001B[1;32m    606\u001B[0m \u001B[38;5;124;03m\"\"\"\u001B[39;00m  \u001B[38;5;66;03m# noqa: E501\u001B[39;00m\n\u001B[1;32m    608\u001B[0m \u001B[38;5;28;01mfrom\u001B[39;00m \u001B[38;5;21;01m.\u001B[39;00m\u001B[38;5;21;01m_warnings_errors\u001B[39;00m \u001B[38;5;28;01mimport\u001B[39;00m (ConstantInputWarning, NearConstantInputWarning,\n\u001B[1;32m    609\u001B[0m                                DegenerateDataWarning, FitError)\n\u001B[0;32m--> 610\u001B[0m \u001B[38;5;28;01mfrom\u001B[39;00m \u001B[38;5;21;01m.\u001B[39;00m\u001B[38;5;21;01m_stats_py\u001B[39;00m \u001B[38;5;28;01mimport\u001B[39;00m \u001B[38;5;241m*\u001B[39m\n\u001B[1;32m    611\u001B[0m \u001B[38;5;28;01mfrom\u001B[39;00m \u001B[38;5;21;01m.\u001B[39;00m\u001B[38;5;21;01m_variation\u001B[39;00m \u001B[38;5;28;01mimport\u001B[39;00m variation\n\u001B[1;32m    612\u001B[0m \u001B[38;5;28;01mfrom\u001B[39;00m \u001B[38;5;21;01m.\u001B[39;00m\u001B[38;5;21;01mdistributions\u001B[39;00m \u001B[38;5;28;01mimport\u001B[39;00m \u001B[38;5;241m*\u001B[39m\n",
      "File \u001B[0;32m~/anaconda3/envs/tac-hands-on/lib/python3.10/site-packages/scipy/stats/_stats_py.py:49\u001B[0m\n\u001B[1;32m     46\u001B[0m \u001B[38;5;66;03m# Import unused here but needs to stay until end of deprecation periode\u001B[39;00m\n\u001B[1;32m     47\u001B[0m \u001B[38;5;66;03m# See https://github.com/scipy/scipy/issues/15765#issuecomment-1875564522\u001B[39;00m\n\u001B[1;32m     48\u001B[0m \u001B[38;5;28;01mfrom\u001B[39;00m \u001B[38;5;21;01mscipy\u001B[39;00m \u001B[38;5;28;01mimport\u001B[39;00m linalg  \u001B[38;5;66;03m# noqa: F401\u001B[39;00m\n\u001B[0;32m---> 49\u001B[0m \u001B[38;5;28;01mfrom\u001B[39;00m \u001B[38;5;21;01m.\u001B[39;00m \u001B[38;5;28;01mimport\u001B[39;00m distributions\n\u001B[1;32m     50\u001B[0m \u001B[38;5;28;01mfrom\u001B[39;00m \u001B[38;5;21;01m.\u001B[39;00m \u001B[38;5;28;01mimport\u001B[39;00m _mstats_basic \u001B[38;5;28;01mas\u001B[39;00m mstats_basic\n\u001B[1;32m     52\u001B[0m \u001B[38;5;28;01mfrom\u001B[39;00m \u001B[38;5;21;01m.\u001B[39;00m\u001B[38;5;21;01m_stats_mstats_common\u001B[39;00m \u001B[38;5;28;01mimport\u001B[39;00m _find_repeats, theilslopes, siegelslopes\n",
      "File \u001B[0;32m~/anaconda3/envs/tac-hands-on/lib/python3.10/site-packages/scipy/stats/distributions.py:10\u001B[0m\n\u001B[1;32m      1\u001B[0m \u001B[38;5;66;03m#\u001B[39;00m\n\u001B[1;32m      2\u001B[0m \u001B[38;5;66;03m# Author:  Travis Oliphant  2002-2011 with contributions from\u001B[39;00m\n\u001B[1;32m      3\u001B[0m \u001B[38;5;66;03m#          SciPy Developers 2004-2011\u001B[39;00m\n\u001B[0;32m   (...)\u001B[0m\n\u001B[1;32m      6\u001B[0m \u001B[38;5;66;03m#       instead of `git blame -Lxxx,+x`.\u001B[39;00m\n\u001B[1;32m      7\u001B[0m \u001B[38;5;66;03m#\u001B[39;00m\n\u001B[1;32m      8\u001B[0m \u001B[38;5;28;01mfrom\u001B[39;00m \u001B[38;5;21;01m.\u001B[39;00m\u001B[38;5;21;01m_distn_infrastructure\u001B[39;00m \u001B[38;5;28;01mimport\u001B[39;00m (rv_discrete, rv_continuous, rv_frozen)  \u001B[38;5;66;03m# noqa: F401\u001B[39;00m\n\u001B[0;32m---> 10\u001B[0m \u001B[38;5;28;01mfrom\u001B[39;00m \u001B[38;5;21;01m.\u001B[39;00m \u001B[38;5;28;01mimport\u001B[39;00m _continuous_distns\n\u001B[1;32m     11\u001B[0m \u001B[38;5;28;01mfrom\u001B[39;00m \u001B[38;5;21;01m.\u001B[39;00m \u001B[38;5;28;01mimport\u001B[39;00m _discrete_distns\n\u001B[1;32m     13\u001B[0m \u001B[38;5;28;01mfrom\u001B[39;00m \u001B[38;5;21;01m.\u001B[39;00m\u001B[38;5;21;01m_continuous_distns\u001B[39;00m \u001B[38;5;28;01mimport\u001B[39;00m \u001B[38;5;241m*\u001B[39m  \u001B[38;5;66;03m# noqa: F403\u001B[39;00m\n",
      "File \u001B[0;32m~/anaconda3/envs/tac-hands-on/lib/python3.10/site-packages/scipy/stats/_continuous_distns.py:12\u001B[0m\n\u001B[1;32m     10\u001B[0m \u001B[38;5;28;01mimport\u001B[39;00m \u001B[38;5;21;01mnumpy\u001B[39;00m \u001B[38;5;28;01mas\u001B[39;00m \u001B[38;5;21;01mnp\u001B[39;00m\n\u001B[1;32m     11\u001B[0m \u001B[38;5;28;01mfrom\u001B[39;00m \u001B[38;5;21;01mnumpy\u001B[39;00m\u001B[38;5;21;01m.\u001B[39;00m\u001B[38;5;21;01mpolynomial\u001B[39;00m \u001B[38;5;28;01mimport\u001B[39;00m Polynomial\n\u001B[0;32m---> 12\u001B[0m \u001B[38;5;28;01mfrom\u001B[39;00m \u001B[38;5;21;01mscipy\u001B[39;00m\u001B[38;5;21;01m.\u001B[39;00m\u001B[38;5;21;01minterpolate\u001B[39;00m \u001B[38;5;28;01mimport\u001B[39;00m BSpline\n\u001B[1;32m     13\u001B[0m \u001B[38;5;28;01mfrom\u001B[39;00m \u001B[38;5;21;01mscipy\u001B[39;00m\u001B[38;5;21;01m.\u001B[39;00m\u001B[38;5;21;01m_lib\u001B[39;00m\u001B[38;5;21;01m.\u001B[39;00m\u001B[38;5;21;01mdoccer\u001B[39;00m \u001B[38;5;28;01mimport\u001B[39;00m (extend_notes_in_docstring,\n\u001B[1;32m     14\u001B[0m                                replace_notes_in_docstring,\n\u001B[1;32m     15\u001B[0m                                inherit_docstring_from)\n\u001B[1;32m     16\u001B[0m \u001B[38;5;28;01mfrom\u001B[39;00m \u001B[38;5;21;01mscipy\u001B[39;00m\u001B[38;5;21;01m.\u001B[39;00m\u001B[38;5;21;01m_lib\u001B[39;00m\u001B[38;5;21;01m.\u001B[39;00m\u001B[38;5;21;01m_ccallback\u001B[39;00m \u001B[38;5;28;01mimport\u001B[39;00m LowLevelCallable\n",
      "File \u001B[0;32m~/anaconda3/envs/tac-hands-on/lib/python3.10/site-packages/scipy/interpolate/__init__.py:167\u001B[0m\n\u001B[1;32m      1\u001B[0m \u001B[38;5;124;03m\"\"\"\u001B[39;00m\n\u001B[1;32m      2\u001B[0m \u001B[38;5;124;03m========================================\u001B[39;00m\n\u001B[1;32m      3\u001B[0m \u001B[38;5;124;03mInterpolation (:mod:`scipy.interpolate`)\u001B[39;00m\n\u001B[0;32m   (...)\u001B[0m\n\u001B[1;32m    165\u001B[0m \u001B[38;5;124;03m(should not be used in new code).\u001B[39;00m\n\u001B[1;32m    166\u001B[0m \u001B[38;5;124;03m\"\"\"\u001B[39;00m\n\u001B[0;32m--> 167\u001B[0m \u001B[38;5;28;01mfrom\u001B[39;00m \u001B[38;5;21;01m.\u001B[39;00m\u001B[38;5;21;01m_interpolate\u001B[39;00m \u001B[38;5;28;01mimport\u001B[39;00m \u001B[38;5;241m*\u001B[39m\n\u001B[1;32m    168\u001B[0m \u001B[38;5;28;01mfrom\u001B[39;00m \u001B[38;5;21;01m.\u001B[39;00m\u001B[38;5;21;01m_fitpack_py\u001B[39;00m \u001B[38;5;28;01mimport\u001B[39;00m \u001B[38;5;241m*\u001B[39m\n\u001B[1;32m    170\u001B[0m \u001B[38;5;66;03m# New interface to fitpack library:\u001B[39;00m\n",
      "File \u001B[0;32m~/anaconda3/envs/tac-hands-on/lib/python3.10/site-packages/scipy/interpolate/_interpolate.py:12\u001B[0m\n\u001B[1;32m      9\u001B[0m \u001B[38;5;28;01mfrom\u001B[39;00m \u001B[38;5;21;01mscipy\u001B[39;00m\u001B[38;5;21;01m.\u001B[39;00m\u001B[38;5;21;01m_lib\u001B[39;00m\u001B[38;5;21;01m.\u001B[39;00m\u001B[38;5;21;01m_util\u001B[39;00m \u001B[38;5;28;01mimport\u001B[39;00m copy_if_needed\n\u001B[1;32m     10\u001B[0m \u001B[38;5;28;01mfrom\u001B[39;00m \u001B[38;5;21;01mscipy\u001B[39;00m\u001B[38;5;21;01m.\u001B[39;00m\u001B[38;5;21;01mspecial\u001B[39;00m \u001B[38;5;28;01mimport\u001B[39;00m comb\n\u001B[0;32m---> 12\u001B[0m \u001B[38;5;28;01mfrom\u001B[39;00m \u001B[38;5;21;01m.\u001B[39;00m \u001B[38;5;28;01mimport\u001B[39;00m _fitpack_py\n\u001B[1;32m     13\u001B[0m \u001B[38;5;28;01mfrom\u001B[39;00m \u001B[38;5;21;01m.\u001B[39;00m\u001B[38;5;21;01m_polyint\u001B[39;00m \u001B[38;5;28;01mimport\u001B[39;00m _Interpolator1D\n\u001B[1;32m     14\u001B[0m \u001B[38;5;28;01mfrom\u001B[39;00m \u001B[38;5;21;01m.\u001B[39;00m \u001B[38;5;28;01mimport\u001B[39;00m _ppoly\n",
      "File \u001B[0;32m~/anaconda3/envs/tac-hands-on/lib/python3.10/site-packages/scipy/interpolate/_fitpack_py.py:8\u001B[0m\n\u001B[1;32m      5\u001B[0m \u001B[38;5;28;01mimport\u001B[39;00m \u001B[38;5;21;01mnumpy\u001B[39;00m \u001B[38;5;28;01mas\u001B[39;00m \u001B[38;5;21;01mnp\u001B[39;00m\n\u001B[1;32m      7\u001B[0m \u001B[38;5;66;03m# These are in the API for fitpack even if not used in fitpack.py itself.\u001B[39;00m\n\u001B[0;32m----> 8\u001B[0m \u001B[38;5;28;01mfrom\u001B[39;00m \u001B[38;5;21;01m.\u001B[39;00m\u001B[38;5;21;01m_fitpack_impl\u001B[39;00m \u001B[38;5;28;01mimport\u001B[39;00m bisplrep, bisplev, dblint  \u001B[38;5;66;03m# noqa: F401\u001B[39;00m\n\u001B[1;32m      9\u001B[0m \u001B[38;5;28;01mfrom\u001B[39;00m \u001B[38;5;21;01m.\u001B[39;00m \u001B[38;5;28;01mimport\u001B[39;00m _fitpack_impl \u001B[38;5;28;01mas\u001B[39;00m _impl\n\u001B[1;32m     10\u001B[0m \u001B[38;5;28;01mfrom\u001B[39;00m \u001B[38;5;21;01m.\u001B[39;00m\u001B[38;5;21;01m_bsplines\u001B[39;00m \u001B[38;5;28;01mimport\u001B[39;00m BSpline\n",
      "File \u001B[0;32m~/anaconda3/envs/tac-hands-on/lib/python3.10/site-packages/scipy/interpolate/_fitpack_impl.py:103\u001B[0m\n\u001B[1;32m     52\u001B[0m _iermess \u001B[38;5;241m=\u001B[39m {\n\u001B[1;32m     53\u001B[0m     \u001B[38;5;241m0\u001B[39m: [\u001B[38;5;124m\"\u001B[39m\u001B[38;5;124mThe spline has a residual sum of squares fp such that \u001B[39m\u001B[38;5;124m\"\u001B[39m\n\u001B[1;32m     54\u001B[0m         \u001B[38;5;124m\"\u001B[39m\u001B[38;5;124mabs(fp-s)/s<=0.001\u001B[39m\u001B[38;5;124m\"\u001B[39m, \u001B[38;5;28;01mNone\u001B[39;00m],\n\u001B[0;32m   (...)\u001B[0m\n\u001B[1;32m     68\u001B[0m     \u001B[38;5;124m'\u001B[39m\u001B[38;5;124munknown\u001B[39m\u001B[38;5;124m'\u001B[39m: [\u001B[38;5;124m\"\u001B[39m\u001B[38;5;124mAn error occurred\u001B[39m\u001B[38;5;124m\"\u001B[39m, \u001B[38;5;167;01mTypeError\u001B[39;00m]\n\u001B[1;32m     69\u001B[0m }\n\u001B[1;32m     71\u001B[0m _iermess2 \u001B[38;5;241m=\u001B[39m {\n\u001B[1;32m     72\u001B[0m     \u001B[38;5;241m0\u001B[39m: [\u001B[38;5;124m\"\u001B[39m\u001B[38;5;124mThe spline has a residual sum of squares fp such that \u001B[39m\u001B[38;5;124m\"\u001B[39m\n\u001B[1;32m     73\u001B[0m         \u001B[38;5;124m\"\u001B[39m\u001B[38;5;124mabs(fp-s)/s<=0.001\u001B[39m\u001B[38;5;124m\"\u001B[39m, \u001B[38;5;28;01mNone\u001B[39;00m],\n\u001B[0;32m   (...)\u001B[0m\n\u001B[1;32m     99\u001B[0m     \u001B[38;5;124m'\u001B[39m\u001B[38;5;124munknown\u001B[39m\u001B[38;5;124m'\u001B[39m: [\u001B[38;5;124m\"\u001B[39m\u001B[38;5;124mAn error occurred\u001B[39m\u001B[38;5;124m\"\u001B[39m, \u001B[38;5;167;01mTypeError\u001B[39;00m]\n\u001B[1;32m    100\u001B[0m }\n\u001B[1;32m    102\u001B[0m _parcur_cache \u001B[38;5;241m=\u001B[39m {\u001B[38;5;124m'\u001B[39m\u001B[38;5;124mt\u001B[39m\u001B[38;5;124m'\u001B[39m: array([], \u001B[38;5;28mfloat\u001B[39m), \u001B[38;5;124m'\u001B[39m\u001B[38;5;124mwrk\u001B[39m\u001B[38;5;124m'\u001B[39m: array([], \u001B[38;5;28mfloat\u001B[39m),\n\u001B[0;32m--> 103\u001B[0m                  \u001B[38;5;124m'\u001B[39m\u001B[38;5;124miwrk\u001B[39m\u001B[38;5;124m'\u001B[39m: \u001B[43marray\u001B[49m\u001B[43m(\u001B[49m\u001B[43m[\u001B[49m\u001B[43m]\u001B[49m\u001B[43m,\u001B[49m\u001B[43m \u001B[49m\u001B[43mdfitpack_int\u001B[49m\u001B[43m)\u001B[49m, \u001B[38;5;124m'\u001B[39m\u001B[38;5;124mu\u001B[39m\u001B[38;5;124m'\u001B[39m: array([], \u001B[38;5;28mfloat\u001B[39m),\n\u001B[1;32m    104\u001B[0m                  \u001B[38;5;124m'\u001B[39m\u001B[38;5;124mub\u001B[39m\u001B[38;5;124m'\u001B[39m: \u001B[38;5;241m0\u001B[39m, \u001B[38;5;124m'\u001B[39m\u001B[38;5;124mue\u001B[39m\u001B[38;5;124m'\u001B[39m: \u001B[38;5;241m1\u001B[39m}\n\u001B[1;32m    107\u001B[0m \u001B[38;5;28;01mdef\u001B[39;00m \u001B[38;5;21msplprep\u001B[39m(x, w\u001B[38;5;241m=\u001B[39m\u001B[38;5;28;01mNone\u001B[39;00m, u\u001B[38;5;241m=\u001B[39m\u001B[38;5;28;01mNone\u001B[39;00m, ub\u001B[38;5;241m=\u001B[39m\u001B[38;5;28;01mNone\u001B[39;00m, ue\u001B[38;5;241m=\u001B[39m\u001B[38;5;28;01mNone\u001B[39;00m, k\u001B[38;5;241m=\u001B[39m\u001B[38;5;241m3\u001B[39m, task\u001B[38;5;241m=\u001B[39m\u001B[38;5;241m0\u001B[39m, s\u001B[38;5;241m=\u001B[39m\u001B[38;5;28;01mNone\u001B[39;00m, t\u001B[38;5;241m=\u001B[39m\u001B[38;5;28;01mNone\u001B[39;00m,\n\u001B[1;32m    108\u001B[0m             full_output\u001B[38;5;241m=\u001B[39m\u001B[38;5;241m0\u001B[39m, nest\u001B[38;5;241m=\u001B[39m\u001B[38;5;28;01mNone\u001B[39;00m, per\u001B[38;5;241m=\u001B[39m\u001B[38;5;241m0\u001B[39m, quiet\u001B[38;5;241m=\u001B[39m\u001B[38;5;241m1\u001B[39m):\n\u001B[1;32m    109\u001B[0m     \u001B[38;5;66;03m# see the docstring of `_fitpack_py/splprep`\u001B[39;00m\n\u001B[1;32m    110\u001B[0m     \u001B[38;5;28;01mif\u001B[39;00m task \u001B[38;5;241m<\u001B[39m\u001B[38;5;241m=\u001B[39m \u001B[38;5;241m0\u001B[39m:\n",
      "\u001B[0;31mTypeError\u001B[0m: "
     ]
    }
   ],
   "execution_count": 5
  },
  {
   "cell_type": "markdown",
   "metadata": {},
   "source": [
    "The most common rating is 4.0, while lower ratings such as 0.5 or 1.0 are much more rare. "
   ]
  },
  {
   "cell_type": "markdown",
   "metadata": {},
   "source": [
    "### <span style=\"color:green\">2.7: Which movie has the lowest and highest average rating?</span>"
   ]
  },
  {
   "cell_type": "code",
   "metadata": {
    "ExecuteTime": {
     "start_time": "2024-11-29T09:37:07.385958Z"
    }
   },
   "source": [
    "mean_rating = ratings.groupby('movieId')[['rating']].mean()\n",
    "\n",
    "lowest_rated = mean_rating['rating'].idxmin()\n",
    "highest_rated = mean_rating['rating'].idxmax()\n",
    "movies.loc[movies['movieId'] == lowest_rated]\n",
    "movies.loc[movies['movieId'] == highest_rated]"
   ],
   "outputs": [],
   "execution_count": null
  },
  {
   "cell_type": "markdown",
   "metadata": {},
   "source": [
    "One of the lowest rated movies is `Gypsy (1962)`."
   ]
  },
  {
   "cell_type": "code",
   "metadata": {
    "ExecuteTime": {
     "end_time": "2024-11-29T09:37:07.391772Z",
     "start_time": "2024-11-29T09:37:07.387690Z"
    }
   },
   "source": [
    "#..."
   ],
   "outputs": [],
   "execution_count": null
  },
  {
   "cell_type": "markdown",
   "metadata": {},
   "source": [
    "`Lamerica (1994)` may be the \"highest\" rated movie, but how many ratings does it have?"
   ]
  },
  {
   "metadata": {},
   "cell_type": "markdown",
   "source": [
    "### <span style=\"color:green\">2.8: How many ratings does the highest rated movie have?</span>"
   ]
  },
  {
   "cell_type": "code",
   "metadata": {
    "ExecuteTime": {
     "end_time": "2024-11-29T09:37:07.468405Z",
     "start_time": "2024-11-29T09:37:07.456196Z"
    }
   },
   "source": [
    "ratings[ratings['movieId'] == 53]"
   ],
   "outputs": [
    {
     "data": {
      "text/plain": "       userId  movieId  rating  timestamp\n13368      85       53     5.0  889468268\n96115     603       53     5.0  963180003",
      "text/html": "<div>\n<style scoped>\n    .dataframe tbody tr th:only-of-type {\n        vertical-align: middle;\n    }\n\n    .dataframe tbody tr th {\n        vertical-align: top;\n    }\n\n    .dataframe thead th {\n        text-align: right;\n    }\n</style>\n<table border=\"1\" class=\"dataframe\">\n  <thead>\n    <tr style=\"text-align: right;\">\n      <th></th>\n      <th>userId</th>\n      <th>movieId</th>\n      <th>rating</th>\n      <th>timestamp</th>\n    </tr>\n  </thead>\n  <tbody>\n    <tr>\n      <th>13368</th>\n      <td>85</td>\n      <td>53</td>\n      <td>5.0</td>\n      <td>889468268</td>\n    </tr>\n    <tr>\n      <th>96115</th>\n      <td>603</td>\n      <td>53</td>\n      <td>5.0</td>\n      <td>963180003</td>\n    </tr>\n  </tbody>\n</table>\n</div>"
     },
     "execution_count": 6,
     "metadata": {},
     "output_type": "execute_result"
    }
   ],
   "execution_count": 6
  },
  {
   "cell_type": "markdown",
   "metadata": {},
   "source": [
    "Lamerica has only 2 ratings. A better approach for evaluating movie popularity is to look at the [Bayesian average](https://en.wikipedia.org/wiki/Bayesian_average)."
   ]
  },
  {
   "cell_type": "markdown",
   "metadata": {},
   "source": [
    "#### Bayesian Average\n",
    "\n",
    "Bayesian Average is defined as:\n",
    "\n",
    "$r_{i} = \\frac{C \\times m + \\Sigma{\\text{reviews}}}{C+N}$\n",
    "\n",
    "where $C$ represents our confidence, $m$ represents our prior, and $N$ is the total number of reviews for movie $i$. In this case, our prior will be the average rating across all movies. By defintion, C represents \"the typical dataset size\". Let's make $C$ be the average number of ratings for a given movie."
   ]
  },
  {
   "metadata": {},
   "cell_type": "markdown",
   "source": [
    "### <span style=\"color:green\">2.9: Calculate the Bayesian average for each movie.</span>"
   ]
  },
  {
   "cell_type": "code",
   "metadata": {
    "ExecuteTime": {
     "end_time": "2024-11-29T09:37:08.710282Z",
     "start_time": "2024-11-29T09:37:08.680813Z"
    }
   },
   "source": [
    "movie_stats = ratings.groupby('movieId')[['rating']].agg(['count', 'mean']).reset_index()\n",
    "movie_stats.columns = ['movieId', 'count', 'mean']\n",
    "movie_stats"
   ],
   "outputs": [
    {
     "data": {
      "text/plain": "      movieId  count      mean\n0           1    215  3.920930\n1           2    110  3.431818\n2           3     52  3.259615\n3           4      7  2.357143\n4           5     49  3.071429\n...       ...    ...       ...\n9719   193581      1  4.000000\n9720   193583      1  3.500000\n9721   193585      1  3.500000\n9722   193587      1  3.500000\n9723   193609      1  4.000000\n\n[9724 rows x 3 columns]",
      "text/html": "<div>\n<style scoped>\n    .dataframe tbody tr th:only-of-type {\n        vertical-align: middle;\n    }\n\n    .dataframe tbody tr th {\n        vertical-align: top;\n    }\n\n    .dataframe thead th {\n        text-align: right;\n    }\n</style>\n<table border=\"1\" class=\"dataframe\">\n  <thead>\n    <tr style=\"text-align: right;\">\n      <th></th>\n      <th>movieId</th>\n      <th>count</th>\n      <th>mean</th>\n    </tr>\n  </thead>\n  <tbody>\n    <tr>\n      <th>0</th>\n      <td>1</td>\n      <td>215</td>\n      <td>3.920930</td>\n    </tr>\n    <tr>\n      <th>1</th>\n      <td>2</td>\n      <td>110</td>\n      <td>3.431818</td>\n    </tr>\n    <tr>\n      <th>2</th>\n      <td>3</td>\n      <td>52</td>\n      <td>3.259615</td>\n    </tr>\n    <tr>\n      <th>3</th>\n      <td>4</td>\n      <td>7</td>\n      <td>2.357143</td>\n    </tr>\n    <tr>\n      <th>4</th>\n      <td>5</td>\n      <td>49</td>\n      <td>3.071429</td>\n    </tr>\n    <tr>\n      <th>...</th>\n      <td>...</td>\n      <td>...</td>\n      <td>...</td>\n    </tr>\n    <tr>\n      <th>9719</th>\n      <td>193581</td>\n      <td>1</td>\n      <td>4.000000</td>\n    </tr>\n    <tr>\n      <th>9720</th>\n      <td>193583</td>\n      <td>1</td>\n      <td>3.500000</td>\n    </tr>\n    <tr>\n      <th>9721</th>\n      <td>193585</td>\n      <td>1</td>\n      <td>3.500000</td>\n    </tr>\n    <tr>\n      <th>9722</th>\n      <td>193587</td>\n      <td>1</td>\n      <td>3.500000</td>\n    </tr>\n    <tr>\n      <th>9723</th>\n      <td>193609</td>\n      <td>1</td>\n      <td>4.000000</td>\n    </tr>\n  </tbody>\n</table>\n<p>9724 rows × 3 columns</p>\n</div>"
     },
     "execution_count": 7,
     "metadata": {},
     "output_type": "execute_result"
    }
   ],
   "execution_count": 7
  },
  {
   "cell_type": "code",
   "metadata": {
    "ExecuteTime": {
     "end_time": "2024-11-29T09:37:09.320086Z",
     "start_time": "2024-11-29T09:37:09.006740Z"
    }
   },
   "source": [
    "C = movie_stats[\"count\"].mean()\n",
    "m = movie_stats[\"mean\"].mean()\n",
    "\n",
    "def bayesian_avg(ratings):\n",
    "    return (C*m+ratings.sum()) / C + ratings.count()\n",
    "\n",
    "bayesian_stats = ratings.groupby(\"movieId\")[['rating']].agg(bayesian_avg).reset_index()\n",
    "bayesian_stats.columns = [\"movieId\", \"bayesian_avg\"]\n",
    "movie_stats = movie_stats.merge(bayesian_stats, on=\"movieId\")\n",
    "movie_stats"
   ],
   "outputs": [
    {
     "data": {
      "text/plain": "      movieId  count      mean  bayesian_avg\n0           1    215  3.920930    299.556153\n1           2    110  3.431818    149.666213\n2           3     52  3.259615     71.607980\n3           4      7  2.357143     11.853606\n4           5     49  3.071429     66.775737\n...       ...    ...       ...           ...\n9719   193581      1  4.000000      4.648184\n9720   193583      1  3.500000      4.599967\n9721   193585      1  3.500000      4.599967\n9722   193587      1  3.500000      4.599967\n9723   193609      1  4.000000      4.648184\n\n[9724 rows x 4 columns]",
      "text/html": "<div>\n<style scoped>\n    .dataframe tbody tr th:only-of-type {\n        vertical-align: middle;\n    }\n\n    .dataframe tbody tr th {\n        vertical-align: top;\n    }\n\n    .dataframe thead th {\n        text-align: right;\n    }\n</style>\n<table border=\"1\" class=\"dataframe\">\n  <thead>\n    <tr style=\"text-align: right;\">\n      <th></th>\n      <th>movieId</th>\n      <th>count</th>\n      <th>mean</th>\n      <th>bayesian_avg</th>\n    </tr>\n  </thead>\n  <tbody>\n    <tr>\n      <th>0</th>\n      <td>1</td>\n      <td>215</td>\n      <td>3.920930</td>\n      <td>299.556153</td>\n    </tr>\n    <tr>\n      <th>1</th>\n      <td>2</td>\n      <td>110</td>\n      <td>3.431818</td>\n      <td>149.666213</td>\n    </tr>\n    <tr>\n      <th>2</th>\n      <td>3</td>\n      <td>52</td>\n      <td>3.259615</td>\n      <td>71.607980</td>\n    </tr>\n    <tr>\n      <th>3</th>\n      <td>4</td>\n      <td>7</td>\n      <td>2.357143</td>\n      <td>11.853606</td>\n    </tr>\n    <tr>\n      <th>4</th>\n      <td>5</td>\n      <td>49</td>\n      <td>3.071429</td>\n      <td>66.775737</td>\n    </tr>\n    <tr>\n      <th>...</th>\n      <td>...</td>\n      <td>...</td>\n      <td>...</td>\n      <td>...</td>\n    </tr>\n    <tr>\n      <th>9719</th>\n      <td>193581</td>\n      <td>1</td>\n      <td>4.000000</td>\n      <td>4.648184</td>\n    </tr>\n    <tr>\n      <th>9720</th>\n      <td>193583</td>\n      <td>1</td>\n      <td>3.500000</td>\n      <td>4.599967</td>\n    </tr>\n    <tr>\n      <th>9721</th>\n      <td>193585</td>\n      <td>1</td>\n      <td>3.500000</td>\n      <td>4.599967</td>\n    </tr>\n    <tr>\n      <th>9722</th>\n      <td>193587</td>\n      <td>1</td>\n      <td>3.500000</td>\n      <td>4.599967</td>\n    </tr>\n    <tr>\n      <th>9723</th>\n      <td>193609</td>\n      <td>1</td>\n      <td>4.000000</td>\n      <td>4.648184</td>\n    </tr>\n  </tbody>\n</table>\n<p>9724 rows × 4 columns</p>\n</div>"
     },
     "execution_count": 8,
     "metadata": {},
     "output_type": "execute_result"
    }
   ],
   "execution_count": 8
  },
  {
   "cell_type": "code",
   "metadata": {
    "ExecuteTime": {
     "end_time": "2024-11-29T09:37:09.328538Z",
     "start_time": "2024-11-29T09:37:09.316424Z"
    }
   },
   "source": [
    "movie_stats = movie_stats.merge(movies[['movieId', 'title']], on=\"movieId\")\n",
    "movie_stats"
   ],
   "outputs": [
    {
     "data": {
      "text/plain": "      movieId  count      mean  bayesian_avg  \\\n0           1    215  3.920930    299.556153   \n1           2    110  3.431818    149.666213   \n2           3     52  3.259615     71.607980   \n3           4      7  2.357143     11.853606   \n4           5     49  3.071429     66.775737   \n...       ...    ...       ...           ...   \n9719   193581      1  4.000000      4.648184   \n9720   193583      1  3.500000      4.599967   \n9721   193585      1  3.500000      4.599967   \n9722   193587      1  3.500000      4.599967   \n9723   193609      1  4.000000      4.648184   \n\n                                          title  \n0                              Toy Story (1995)  \n1                                Jumanji (1995)  \n2                       Grumpier Old Men (1995)  \n3                      Waiting to Exhale (1995)  \n4            Father of the Bride Part II (1995)  \n...                                         ...  \n9719  Black Butler: Book of the Atlantic (2017)  \n9720               No Game No Life: Zero (2017)  \n9721                               Flint (2017)  \n9722        Bungo Stray Dogs: Dead Apple (2018)  \n9723        Andrew Dice Clay: Dice Rules (1991)  \n\n[9724 rows x 5 columns]",
      "text/html": "<div>\n<style scoped>\n    .dataframe tbody tr th:only-of-type {\n        vertical-align: middle;\n    }\n\n    .dataframe tbody tr th {\n        vertical-align: top;\n    }\n\n    .dataframe thead th {\n        text-align: right;\n    }\n</style>\n<table border=\"1\" class=\"dataframe\">\n  <thead>\n    <tr style=\"text-align: right;\">\n      <th></th>\n      <th>movieId</th>\n      <th>count</th>\n      <th>mean</th>\n      <th>bayesian_avg</th>\n      <th>title</th>\n    </tr>\n  </thead>\n  <tbody>\n    <tr>\n      <th>0</th>\n      <td>1</td>\n      <td>215</td>\n      <td>3.920930</td>\n      <td>299.556153</td>\n      <td>Toy Story (1995)</td>\n    </tr>\n    <tr>\n      <th>1</th>\n      <td>2</td>\n      <td>110</td>\n      <td>3.431818</td>\n      <td>149.666213</td>\n      <td>Jumanji (1995)</td>\n    </tr>\n    <tr>\n      <th>2</th>\n      <td>3</td>\n      <td>52</td>\n      <td>3.259615</td>\n      <td>71.607980</td>\n      <td>Grumpier Old Men (1995)</td>\n    </tr>\n    <tr>\n      <th>3</th>\n      <td>4</td>\n      <td>7</td>\n      <td>2.357143</td>\n      <td>11.853606</td>\n      <td>Waiting to Exhale (1995)</td>\n    </tr>\n    <tr>\n      <th>4</th>\n      <td>5</td>\n      <td>49</td>\n      <td>3.071429</td>\n      <td>66.775737</td>\n      <td>Father of the Bride Part II (1995)</td>\n    </tr>\n    <tr>\n      <th>...</th>\n      <td>...</td>\n      <td>...</td>\n      <td>...</td>\n      <td>...</td>\n      <td>...</td>\n    </tr>\n    <tr>\n      <th>9719</th>\n      <td>193581</td>\n      <td>1</td>\n      <td>4.000000</td>\n      <td>4.648184</td>\n      <td>Black Butler: Book of the Atlantic (2017)</td>\n    </tr>\n    <tr>\n      <th>9720</th>\n      <td>193583</td>\n      <td>1</td>\n      <td>3.500000</td>\n      <td>4.599967</td>\n      <td>No Game No Life: Zero (2017)</td>\n    </tr>\n    <tr>\n      <th>9721</th>\n      <td>193585</td>\n      <td>1</td>\n      <td>3.500000</td>\n      <td>4.599967</td>\n      <td>Flint (2017)</td>\n    </tr>\n    <tr>\n      <th>9722</th>\n      <td>193587</td>\n      <td>1</td>\n      <td>3.500000</td>\n      <td>4.599967</td>\n      <td>Bungo Stray Dogs: Dead Apple (2018)</td>\n    </tr>\n    <tr>\n      <th>9723</th>\n      <td>193609</td>\n      <td>1</td>\n      <td>4.000000</td>\n      <td>4.648184</td>\n      <td>Andrew Dice Clay: Dice Rules (1991)</td>\n    </tr>\n  </tbody>\n</table>\n<p>9724 rows × 5 columns</p>\n</div>"
     },
     "execution_count": 9,
     "metadata": {},
     "output_type": "execute_result"
    }
   ],
   "execution_count": 9
  },
  {
   "cell_type": "markdown",
   "metadata": {},
   "source": [
    "Using the Bayesian average, we see that `Shawshank Redemption`, `The Godfather`, and `Fight Club` are the most highly rated movies. This result makes much more sense since these movies are critically acclaimed films.\n",
    "\n",
    "### <span style=\"color:green\">2.10: Now which movies are the worst rated, according to the Bayesian average?</span>"
   ]
  },
  {
   "cell_type": "code",
   "metadata": {
    "ExecuteTime": {
     "end_time": "2024-11-29T09:37:10.604711Z",
     "start_time": "2024-11-29T09:37:10.589300Z"
    }
   },
   "source": [
    "movie_stats.sort_values('bayesian_avg', ascending=True, inplace=True)\n",
    "movie_stats"
   ],
   "outputs": [
    {
     "data": {
      "text/plain": "      movieId  count      mean  bayesian_avg  \\\n5781    31692      1  0.500000      4.310665   \n7184    72696      1  0.500000      4.310665   \n7473    82684      1  0.500000      4.310665   \n7305    77427      1  0.500000      4.310665   \n7925    95796      1  0.500000      4.310665   \n...       ...    ...       ...           ...   \n1938     2571    278  4.192446    393.656058   \n510       593    279  4.161290    394.222106   \n257       296    307  4.197068    434.517417   \n277       318    317  4.429022    455.655522   \n314       356    329  4.164134    464.376773   \n\n                                             title  \n5781                             Uncle Nino (2003)  \n7184                               Old Dogs (2009)  \n7473                          Trash Humpers (2009)  \n7305  Human Centipede, The (First Sequence) (2009)  \n7925                Anaconda: The Offspring (2008)  \n...                                            ...  \n1938                            Matrix, The (1999)  \n510               Silence of the Lambs, The (1991)  \n257                            Pulp Fiction (1994)  \n277               Shawshank Redemption, The (1994)  \n314                            Forrest Gump (1994)  \n\n[9724 rows x 5 columns]",
      "text/html": "<div>\n<style scoped>\n    .dataframe tbody tr th:only-of-type {\n        vertical-align: middle;\n    }\n\n    .dataframe tbody tr th {\n        vertical-align: top;\n    }\n\n    .dataframe thead th {\n        text-align: right;\n    }\n</style>\n<table border=\"1\" class=\"dataframe\">\n  <thead>\n    <tr style=\"text-align: right;\">\n      <th></th>\n      <th>movieId</th>\n      <th>count</th>\n      <th>mean</th>\n      <th>bayesian_avg</th>\n      <th>title</th>\n    </tr>\n  </thead>\n  <tbody>\n    <tr>\n      <th>5781</th>\n      <td>31692</td>\n      <td>1</td>\n      <td>0.500000</td>\n      <td>4.310665</td>\n      <td>Uncle Nino (2003)</td>\n    </tr>\n    <tr>\n      <th>7184</th>\n      <td>72696</td>\n      <td>1</td>\n      <td>0.500000</td>\n      <td>4.310665</td>\n      <td>Old Dogs (2009)</td>\n    </tr>\n    <tr>\n      <th>7473</th>\n      <td>82684</td>\n      <td>1</td>\n      <td>0.500000</td>\n      <td>4.310665</td>\n      <td>Trash Humpers (2009)</td>\n    </tr>\n    <tr>\n      <th>7305</th>\n      <td>77427</td>\n      <td>1</td>\n      <td>0.500000</td>\n      <td>4.310665</td>\n      <td>Human Centipede, The (First Sequence) (2009)</td>\n    </tr>\n    <tr>\n      <th>7925</th>\n      <td>95796</td>\n      <td>1</td>\n      <td>0.500000</td>\n      <td>4.310665</td>\n      <td>Anaconda: The Offspring (2008)</td>\n    </tr>\n    <tr>\n      <th>...</th>\n      <td>...</td>\n      <td>...</td>\n      <td>...</td>\n      <td>...</td>\n      <td>...</td>\n    </tr>\n    <tr>\n      <th>1938</th>\n      <td>2571</td>\n      <td>278</td>\n      <td>4.192446</td>\n      <td>393.656058</td>\n      <td>Matrix, The (1999)</td>\n    </tr>\n    <tr>\n      <th>510</th>\n      <td>593</td>\n      <td>279</td>\n      <td>4.161290</td>\n      <td>394.222106</td>\n      <td>Silence of the Lambs, The (1991)</td>\n    </tr>\n    <tr>\n      <th>257</th>\n      <td>296</td>\n      <td>307</td>\n      <td>4.197068</td>\n      <td>434.517417</td>\n      <td>Pulp Fiction (1994)</td>\n    </tr>\n    <tr>\n      <th>277</th>\n      <td>318</td>\n      <td>317</td>\n      <td>4.429022</td>\n      <td>455.655522</td>\n      <td>Shawshank Redemption, The (1994)</td>\n    </tr>\n    <tr>\n      <th>314</th>\n      <td>356</td>\n      <td>329</td>\n      <td>4.164134</td>\n      <td>464.376773</td>\n      <td>Forrest Gump (1994)</td>\n    </tr>\n  </tbody>\n</table>\n<p>9724 rows × 5 columns</p>\n</div>"
     },
     "execution_count": 10,
     "metadata": {},
     "output_type": "execute_result"
    }
   ],
   "execution_count": 10
  },
  {
   "cell_type": "code",
   "outputs": [
    {
     "data": {
      "text/plain": "      movieId  count      mean  bayesian_avg  \\\n314       356    329  4.164134    464.376773   \n277       318    317  4.429022    455.655522   \n257       296    307  4.197068    434.517417   \n510       593    279  4.161290    394.222106   \n1938     2571    278  4.192446    393.656058   \n...       ...    ...       ...           ...   \n9190   151687      1  0.500000      4.310665   \n5764    31424      1  0.500000      4.310665   \n8913   136297      1  0.500000      4.310665   \n6832    61818      1  0.500000      4.310665   \n5781    31692      1  0.500000      4.310665   \n\n                                         title  \n314                        Forrest Gump (1994)  \n277           Shawshank Redemption, The (1994)  \n257                        Pulp Fiction (1994)  \n510           Silence of the Lambs, The (1991)  \n1938                        Matrix, The (1999)  \n...                                        ...  \n9190                              Risen (2016)  \n5764                  Alone in the Dark (2005)  \n8913  Mortal Kombat: The Journey Begins (1995)  \n6832           Crow, The: Wicked Prayer (2005)  \n5781                         Uncle Nino (2003)  \n\n[9724 rows x 5 columns]",
      "text/html": "<div>\n<style scoped>\n    .dataframe tbody tr th:only-of-type {\n        vertical-align: middle;\n    }\n\n    .dataframe tbody tr th {\n        vertical-align: top;\n    }\n\n    .dataframe thead th {\n        text-align: right;\n    }\n</style>\n<table border=\"1\" class=\"dataframe\">\n  <thead>\n    <tr style=\"text-align: right;\">\n      <th></th>\n      <th>movieId</th>\n      <th>count</th>\n      <th>mean</th>\n      <th>bayesian_avg</th>\n      <th>title</th>\n    </tr>\n  </thead>\n  <tbody>\n    <tr>\n      <th>314</th>\n      <td>356</td>\n      <td>329</td>\n      <td>4.164134</td>\n      <td>464.376773</td>\n      <td>Forrest Gump (1994)</td>\n    </tr>\n    <tr>\n      <th>277</th>\n      <td>318</td>\n      <td>317</td>\n      <td>4.429022</td>\n      <td>455.655522</td>\n      <td>Shawshank Redemption, The (1994)</td>\n    </tr>\n    <tr>\n      <th>257</th>\n      <td>296</td>\n      <td>307</td>\n      <td>4.197068</td>\n      <td>434.517417</td>\n      <td>Pulp Fiction (1994)</td>\n    </tr>\n    <tr>\n      <th>510</th>\n      <td>593</td>\n      <td>279</td>\n      <td>4.161290</td>\n      <td>394.222106</td>\n      <td>Silence of the Lambs, The (1991)</td>\n    </tr>\n    <tr>\n      <th>1938</th>\n      <td>2571</td>\n      <td>278</td>\n      <td>4.192446</td>\n      <td>393.656058</td>\n      <td>Matrix, The (1999)</td>\n    </tr>\n    <tr>\n      <th>...</th>\n      <td>...</td>\n      <td>...</td>\n      <td>...</td>\n      <td>...</td>\n      <td>...</td>\n    </tr>\n    <tr>\n      <th>9190</th>\n      <td>151687</td>\n      <td>1</td>\n      <td>0.500000</td>\n      <td>4.310665</td>\n      <td>Risen (2016)</td>\n    </tr>\n    <tr>\n      <th>5764</th>\n      <td>31424</td>\n      <td>1</td>\n      <td>0.500000</td>\n      <td>4.310665</td>\n      <td>Alone in the Dark (2005)</td>\n    </tr>\n    <tr>\n      <th>8913</th>\n      <td>136297</td>\n      <td>1</td>\n      <td>0.500000</td>\n      <td>4.310665</td>\n      <td>Mortal Kombat: The Journey Begins (1995)</td>\n    </tr>\n    <tr>\n      <th>6832</th>\n      <td>61818</td>\n      <td>1</td>\n      <td>0.500000</td>\n      <td>4.310665</td>\n      <td>Crow, The: Wicked Prayer (2005)</td>\n    </tr>\n    <tr>\n      <th>5781</th>\n      <td>31692</td>\n      <td>1</td>\n      <td>0.500000</td>\n      <td>4.310665</td>\n      <td>Uncle Nino (2003)</td>\n    </tr>\n  </tbody>\n</table>\n<p>9724 rows × 5 columns</p>\n</div>"
     },
     "execution_count": 11,
     "metadata": {},
     "output_type": "execute_result"
    }
   ],
   "source": [
    "movie_stats.sort_values('bayesian_avg', ascending=False, inplace=True)\n",
    "movie_stats"
   ],
   "metadata": {
    "collapsed": false,
    "ExecuteTime": {
     "end_time": "2024-11-29T09:37:11.245619Z",
     "start_time": "2024-11-29T09:37:11.177139Z"
    }
   },
   "execution_count": 11
  },
  {
   "cell_type": "markdown",
   "metadata": {},
   "source": [
    "With Bayesian averaging, it looks like `Speed 2: Cruise Control`, `Battlefield Earth`, and `Godzilla` are the worst rated movies. `Gypsy` isn't so bad after all!"
   ]
  },
  {
   "cell_type": "markdown",
   "metadata": {},
   "source": [
    "## Exercise 3: Transforming the data\n",
    "\n",
    "We will be using a technique called [collaborative filtering](https://en.wikipedia.org/wiki/Collaborative_filtering) to generate user recommendations. This technique is based on the assumption of \"homophily\" - similar users like similar things. Collaborative filtering is a type of unsupervised learning that makes predictions about the interests of a user by learning from the interests of a larger population.\n",
    "\n",
    "The first step of collaborative filtering is to transform our data into a `user-item matrix` - also known as a \"utility\" matrix. In this matrix, rows represent users and columns represent items. The beauty of collaborative filtering is that it doesn't require any information about the users or items to generate recommendations. \n",
    "\n",
    "\n",
    "<img src=\"img/user-movie-matrix.png\" width=\"500px\" align=\"left\">"
   ]
  },
  {
   "cell_type": "markdown",
   "metadata": {},
   "source": [
    "### <span style=\"color:green\">3.1: Create the user-item matrix.</span>\n",
    "\n",
    "The `user_item_matrix()` function outputs a sparse matrix X with four mapper dictionaries:\n",
    "- **user_mapper:** maps user id to user index\n",
    "- **movie_mapper:** maps movie id to movie index\n",
    "- **user_inv_mapper:** maps user index to user id\n",
    "- **movie_inv_mapper:** maps movie index to movie id\n",
    "\n",
    "We need these dictionaries because they map which row and column of the utility matrix corresponds to which user ID and movie ID, respectively.\n",
    "\n",
    "The **_user_item_matrix** matrix is a [scipy.sparse.csr_matrix](scipylinkhere) which stores the data sparsely.\n",
    "\n",
    "This matrix can be created using the following constructor:\n",
    "```txt\n",
    "csr_matrix((data, (row_ind, col_ind)), [shape=(M, N)])\n",
    "    where data, row_ind and col_ind satisfy the relationship a[row_ind[k], col_ind[k]] = data[k].\n",
    "```"
   ]
  },
  {
   "cell_type": "code",
   "metadata": {
    "ExecuteTime": {
     "end_time": "2024-11-29T09:41:12.438592Z",
     "start_time": "2024-11-29T09:41:12.429907Z"
    }
   },
   "source": [
    "from scipy.sparse import csr_matrix\n",
    "import numpy as np\n",
    "\n",
    "def user_item_matrix(df):\n",
    "    \"\"\"\n",
    "    Generates a sparse matrix from ratings dataframe.\n",
    "    \n",
    "    Args:\n",
    "        df: pandas dataframe\n",
    "    \n",
    "    Returns:\n",
    "        X: sparse matrix\n",
    "        user_mapper: dict that maps user id's to user indices\n",
    "        user_inv_mapper: dict that maps user indices to user id's\n",
    "        movie_mapper: dict that maps movie id's to movie indices\n",
    "        movie_inv_mapper: dict that maps movie indices to movie id's\n",
    "    \"\"\"\n",
    "    N = df['userId'].nunique()\n",
    "    M = df['movieId'].nunique()\n",
    "    \n",
    "    user_map = dict(zip(df['userId'].unique(), range(N)))\n",
    "    movie_map = dict(zip(df['movieId'].unique(), range(M)))\n",
    "    \n",
    "    user_inv_map = dict(zip(range(N), df['userId'].unique()))\n",
    "    movie_inv_map = dict(zip(range(M), df['movieId'].unique()))\n",
    "    \n",
    "    user_index = [user_map[_i] for _i in df['userId']]\n",
    "    movie_index = [movie_map[_i] for _i in df['movieId']]\n",
    "    \n",
    "    _user_item_matrix = csr_matrix((df['rating'], (movie_index, user_index)), (M, N))\n",
    "    \n",
    "    \n",
    "    return _user_item_matrix, user_map, movie_map, user_inv_map, movie_inv_map"
   ],
   "outputs": [],
   "execution_count": 15
  },
  {
   "cell_type": "code",
   "metadata": {
    "ExecuteTime": {
     "end_time": "2024-11-29T09:41:12.934565Z",
     "start_time": "2024-11-29T09:41:12.881624Z"
    }
   },
   "source": [
    "X, user_mapper, movie_mapper, user_inv_mapper, movie_inv_mapper = user_item_matrix(ratings)"
   ],
   "outputs": [],
   "execution_count": 16
  },
  {
   "cell_type": "markdown",
   "metadata": {},
   "source": [
    "Let's check out the sparsity of our X matrix.\n",
    "\n",
    "Here, we calculate sparsity by dividing the number of non-zero elements by total number of elements as described in the equation below: \n",
    "\n",
    "$$S=\\frac{\\text{\\# non-zero elements}}{\\text{total elements}}$$"
   ]
  },
  {
   "cell_type": "code",
   "metadata": {
    "ExecuteTime": {
     "end_time": "2024-11-29T09:44:27.417825Z",
     "start_time": "2024-11-29T09:44:27.362083Z"
    }
   },
   "source": [
    "sparsity = X.count_nonzero() / (X.shape[0] * X.shape[1])\n",
    "\n",
    "print(f\"Matrix sparsity: {round(sparsity*100,2)}%\")"
   ],
   "outputs": [
    {
     "name": "stdout",
     "output_type": "stream",
     "text": [
      "Matrix sparsity: 1.7%\n"
     ]
    }
   ],
   "execution_count": 17
  },
  {
   "cell_type": "markdown",
   "metadata": {},
   "source": [
    "Only 1.7% of cells in our user-item matrix are populated with ratings. But don't be discouraged by this sparsity! User-item matrices are typically very sparse. A general rule of thumb is that your matrix sparsity should be no lower than 0.5% to generate decent results."
   ]
  },
  {
   "cell_type": "markdown",
   "metadata": {},
   "source": [
    "### Writing your matrix to a file\n",
    "\n",
    "We can save our user-item matrix to a file using the `scipy.sparse.save_npz` function. This function saves the matrix in a `.npz` format which can be loaded later using the `scipy.sparse.load_npz` function."
   ]
  },
  {
   "cell_type": "code",
   "metadata": {
    "ExecuteTime": {
     "end_time": "2024-11-29T09:45:19.355020Z",
     "start_time": "2024-11-29T09:45:19.283360Z"
    }
   },
   "source": [
    "from scipy.sparse import save_npz\n",
    "\n",
    "save_npz('data/user_item_matrix.npz', X)"
   ],
   "outputs": [],
   "execution_count": 18
  },
  {
   "cell_type": "markdown",
   "metadata": {},
   "source": [
    "<img src=\"img/knn.png\" width=\"20%\" align=\"right\"/>\n",
    "\n",
    "## Exercise 4: Finding similar movies using k-Nearest Neighbours\n",
    "\n",
    "This approach looks for the $k$ nearest neighbours of a given movie by identifying $k$ points in the dataset that are closest to movie $m$. kNN makes use of distance metrics such as:\n",
    "\n",
    "1. Cosine similarity\n",
    "2. Euclidean distance\n",
    "3. Manhattan distance\n",
    "4. Pearson correlation \n",
    "\n",
    "Although difficult to visualize, we are working in a M-dimensional space where `M` represents the number of movies in our `user_item_matrix`. "
   ]
  },
  {
   "metadata": {},
   "cell_type": "markdown",
   "source": [
    "## <span style=\"color:green\">4.1: Implement the `find_similar_movies()` function.</span>\n",
    "\n",
    "The `find_similar_movies()` function takes in a movieId and user-item X matrix, and outputs a list of $k$ movies that are similar to the movieId of interest.\n",
    "\n",
    "The function has the following parameters:\n",
    "- `movie_id`: id of the movie of interest\n",
    "- `X`: user-item utility matrix\n",
    "- `k`: number of similar movies to retrieve\n",
    "- `metric`: distance metric for kNN calculations\n",
    "- `show_distance`: whether to show the distance between the movies\n",
    "\n",
    "The function returns a list of k similar movie ID's.\n",
    "\n",
    "**Note: You can use the `NearestNeighbors` class from the `sklearn.neighbors` module to find the k-nearest neighbours.**"
   ]
  },
  {
   "cell_type": "code",
   "metadata": {
    "ExecuteTime": {
     "start_time": "2024-11-29T09:19:15.206567Z"
    }
   },
   "source": [
    "from sklearn.neighbors import NearestNeighbors\n",
    "\n",
    "def find_similar_movies(movie_id, X, k, metric='cosine', show_distance=False):\n",
    "    \"\"\"\n",
    "    Finds k-nearest neighbours for a given movie id.\n",
    "    \n",
    "    Args:\n",
    "        movie_id: id of the movie of interest\n",
    "        X: user-item utility matrix\n",
    "        k: number of similar movies to retrieve\n",
    "        metric: distance metric for kNN calculations\n",
    "    \n",
    "    Returns:\n",
    "        list of k similar movie ID's\n",
    "    \"\"\"\n",
    "    movie_ind = movie_mapper[movie_id]\n",
    "    movie_vec = X[movie_ind]\n",
    "    \n",
    "    knn = NearestNeighbors(n_neighbors=k, metric=metric)\n",
    "    knn.fit(X)\n",
    "    neighbors = knn.kneighbors(movie_vec, n_neighbors=k, return_distance=False)\n",
    "    neighbour_ids = []\n",
    "    for i in range(k):\n",
    "        n = neighbors.item(i)\n",
    "        neighbour_ids.append(n)\n",
    "    \n",
    "    return neighbour_ids"
   ],
   "outputs": [],
   "execution_count": null
  },
  {
   "cell_type": "markdown",
   "metadata": {},
   "source": [
    "Let's see how it works in action. We will first create another mapper that maps `movieId` to `title` so that our results are interpretable. "
   ]
  },
  {
   "cell_type": "code",
   "metadata": {
    "ExecuteTime": {
     "start_time": "2024-11-29T09:19:15.207741Z"
    }
   },
   "source": [
    "movie_titles = dict(zip(movies['movie_Id'], movies['title']))\n",
    "\n",
    "movie_title\n",
    "\n",
    "print(f\"Because you watched {movie_title}\")\n",
    "for i in range(len(movie_titles)):\n",
    "    print(movie_titles[i])"
   ],
   "outputs": [],
   "execution_count": null
  },
  {
   "cell_type": "markdown",
   "metadata": {},
   "source": [
    "The results above show the 10 most similar movies to Toy Story. Most movies in this list are family movies from the 1990s, which seems pretty reasonable. Note that these recommendations are based solely on user-item ratings. Movie features such as genres are not taken into consideration in this approach.  \n",
    "\n",
    "You can also play around with the kNN distance metric and see what results you would get if you use \"manhattan\" or \"euclidean\" instead of \"cosine\"."
   ]
  },
  {
   "cell_type": "code",
   "metadata": {
    "ExecuteTime": {
     "start_time": "2024-11-29T09:19:15.208764Z"
    }
   },
   "source": [
    "movie_titles = dict(zip(movies['movieId'], movies['title']))\n",
    "\n",
    "movie_id = 1\n",
    "similar_ids = find_similar_movies(movie_id, X, k=10, metric=\"euclidean\")\n",
    "\n",
    "movie_title = movie_titles[movie_id]\n",
    "print(f\"Because you watched {movie_title}:\")\n",
    "for i in similar_ids:\n",
    "    print(movie_titles[i])"
   ],
   "outputs": [],
   "execution_count": null
  }
 ],
 "metadata": {
  "kernelspec": {
   "display_name": "Python 3",
   "language": "python",
   "name": "python3"
  },
  "language_info": {
   "codemirror_mode": {
    "name": "ipython",
    "version": 3
   },
   "file_extension": ".py",
   "mimetype": "text/x-python",
   "name": "python",
   "nbconvert_exporter": "python",
   "pygments_lexer": "ipython3",
   "version": "3.7.6"
  }
 },
 "nbformat": 4,
 "nbformat_minor": 2
}
