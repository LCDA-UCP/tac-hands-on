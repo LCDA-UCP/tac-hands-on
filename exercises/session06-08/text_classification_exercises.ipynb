{
 "cells": [
  {
   "metadata": {},
   "cell_type": "markdown",
   "source": "# Text Classification Exercises",
   "id": "5455135070daf480"
  },
  {
   "metadata": {},
   "cell_type": "markdown",
   "source": [
    "## Exercise 1: Dataset Exploration\n",
    "\n",
    "**Objective**: Familiarize yourself with the dataset.\n",
    "\n",
    "1. Load the **News Category Dataset** (News_Category_Dataset_v3.json), which contains approximately 210,000 news headlines from 2012 to 2022. **Hint: read the file with Python, parse it with the json library and convert it to a pandas DataFrame.** **Note: you need to extract the file from the zip archive before loading it.**\n",
    "2. Identify the target label.\n",
    "3. Which features do you find relevant for the classification task?\n",
    "4. Perform exploratory data analysis (EDA):\n",
    "   - Check for any missing values.\n",
    "   - Visualize the distribution of categories.\n"
   ],
   "id": "f6a004ba75b584a4"
  },
  {
   "metadata": {
    "ExecuteTime": {
     "end_time": "2024-10-11T08:39:30.047591Z",
     "start_time": "2024-10-11T08:39:29.333742Z"
    }
   },
   "cell_type": "code",
   "source": [
    "import json\n",
    "\n",
    "import numpy as np\n",
    "import pandas as pd\n",
    "\n",
    "with open(\"../../data/News_Category_Dataset_v3.json\", 'r') as f:\n",
    "    data = f.read()\n",
    "\n",
    "json_data = [json.loads(line) for line in data.split('\\n') if line]\n",
    "df = pd.DataFrame(json_data)\n",
    "\n",
    "df.head()"
   ],
   "id": "f0ae9fc46f891e20",
   "outputs": [
    {
     "data": {
      "text/plain": [
       "                                                link  \\\n",
       "0  https://www.huffpost.com/entry/covid-boosters-...   \n",
       "1  https://www.huffpost.com/entry/american-airlin...   \n",
       "2  https://www.huffpost.com/entry/funniest-tweets...   \n",
       "3  https://www.huffpost.com/entry/funniest-parent...   \n",
       "4  https://www.huffpost.com/entry/amy-cooper-lose...   \n",
       "\n",
       "                                            headline   category  \\\n",
       "0  Over 4 Million Americans Roll Up Sleeves For O...  U.S. NEWS   \n",
       "1  American Airlines Flyer Charged, Banned For Li...  U.S. NEWS   \n",
       "2  23 Of The Funniest Tweets About Cats And Dogs ...     COMEDY   \n",
       "3  The Funniest Tweets From Parents This Week (Se...  PARENTING   \n",
       "4  Woman Who Called Cops On Black Bird-Watcher Lo...  U.S. NEWS   \n",
       "\n",
       "                                   short_description               authors  \\\n",
       "0  Health experts said it is too early to predict...  Carla K. Johnson, AP   \n",
       "1  He was subdued by passengers and crew when he ...        Mary Papenfuss   \n",
       "2  \"Until you have a dog you don't understand wha...         Elyse Wanshel   \n",
       "3  \"Accidentally put grown-up toothpaste on my to...      Caroline Bologna   \n",
       "4  Amy Cooper accused investment firm Franklin Te...        Nina Golgowski   \n",
       "\n",
       "         date  \n",
       "0  2022-09-23  \n",
       "1  2022-09-23  \n",
       "2  2022-09-23  \n",
       "3  2022-09-23  \n",
       "4  2022-09-22  "
      ],
      "text/html": [
       "<div>\n",
       "<style scoped>\n",
       "    .dataframe tbody tr th:only-of-type {\n",
       "        vertical-align: middle;\n",
       "    }\n",
       "\n",
       "    .dataframe tbody tr th {\n",
       "        vertical-align: top;\n",
       "    }\n",
       "\n",
       "    .dataframe thead th {\n",
       "        text-align: right;\n",
       "    }\n",
       "</style>\n",
       "<table border=\"1\" class=\"dataframe\">\n",
       "  <thead>\n",
       "    <tr style=\"text-align: right;\">\n",
       "      <th></th>\n",
       "      <th>link</th>\n",
       "      <th>headline</th>\n",
       "      <th>category</th>\n",
       "      <th>short_description</th>\n",
       "      <th>authors</th>\n",
       "      <th>date</th>\n",
       "    </tr>\n",
       "  </thead>\n",
       "  <tbody>\n",
       "    <tr>\n",
       "      <th>0</th>\n",
       "      <td>https://www.huffpost.com/entry/covid-boosters-...</td>\n",
       "      <td>Over 4 Million Americans Roll Up Sleeves For O...</td>\n",
       "      <td>U.S. NEWS</td>\n",
       "      <td>Health experts said it is too early to predict...</td>\n",
       "      <td>Carla K. Johnson, AP</td>\n",
       "      <td>2022-09-23</td>\n",
       "    </tr>\n",
       "    <tr>\n",
       "      <th>1</th>\n",
       "      <td>https://www.huffpost.com/entry/american-airlin...</td>\n",
       "      <td>American Airlines Flyer Charged, Banned For Li...</td>\n",
       "      <td>U.S. NEWS</td>\n",
       "      <td>He was subdued by passengers and crew when he ...</td>\n",
       "      <td>Mary Papenfuss</td>\n",
       "      <td>2022-09-23</td>\n",
       "    </tr>\n",
       "    <tr>\n",
       "      <th>2</th>\n",
       "      <td>https://www.huffpost.com/entry/funniest-tweets...</td>\n",
       "      <td>23 Of The Funniest Tweets About Cats And Dogs ...</td>\n",
       "      <td>COMEDY</td>\n",
       "      <td>\"Until you have a dog you don't understand wha...</td>\n",
       "      <td>Elyse Wanshel</td>\n",
       "      <td>2022-09-23</td>\n",
       "    </tr>\n",
       "    <tr>\n",
       "      <th>3</th>\n",
       "      <td>https://www.huffpost.com/entry/funniest-parent...</td>\n",
       "      <td>The Funniest Tweets From Parents This Week (Se...</td>\n",
       "      <td>PARENTING</td>\n",
       "      <td>\"Accidentally put grown-up toothpaste on my to...</td>\n",
       "      <td>Caroline Bologna</td>\n",
       "      <td>2022-09-23</td>\n",
       "    </tr>\n",
       "    <tr>\n",
       "      <th>4</th>\n",
       "      <td>https://www.huffpost.com/entry/amy-cooper-lose...</td>\n",
       "      <td>Woman Who Called Cops On Black Bird-Watcher Lo...</td>\n",
       "      <td>U.S. NEWS</td>\n",
       "      <td>Amy Cooper accused investment firm Franklin Te...</td>\n",
       "      <td>Nina Golgowski</td>\n",
       "      <td>2022-09-22</td>\n",
       "    </tr>\n",
       "  </tbody>\n",
       "</table>\n",
       "</div>"
      ]
     },
     "execution_count": 14,
     "metadata": {},
     "output_type": "execute_result"
    }
   ],
   "execution_count": 14
  },
  {
   "metadata": {
    "ExecuteTime": {
     "end_time": "2024-10-11T08:39:30.081003Z",
     "start_time": "2024-10-11T08:39:30.070006Z"
    }
   },
   "cell_type": "code",
   "source": [
    "df = df[['headline', 'category', 'short_description']]\n",
    "df.head()"
   ],
   "id": "a982935caba9f460",
   "outputs": [
    {
     "data": {
      "text/plain": [
       "                                            headline   category  \\\n",
       "0  Over 4 Million Americans Roll Up Sleeves For O...  U.S. NEWS   \n",
       "1  American Airlines Flyer Charged, Banned For Li...  U.S. NEWS   \n",
       "2  23 Of The Funniest Tweets About Cats And Dogs ...     COMEDY   \n",
       "3  The Funniest Tweets From Parents This Week (Se...  PARENTING   \n",
       "4  Woman Who Called Cops On Black Bird-Watcher Lo...  U.S. NEWS   \n",
       "\n",
       "                                   short_description  \n",
       "0  Health experts said it is too early to predict...  \n",
       "1  He was subdued by passengers and crew when he ...  \n",
       "2  \"Until you have a dog you don't understand wha...  \n",
       "3  \"Accidentally put grown-up toothpaste on my to...  \n",
       "4  Amy Cooper accused investment firm Franklin Te...  "
      ],
      "text/html": [
       "<div>\n",
       "<style scoped>\n",
       "    .dataframe tbody tr th:only-of-type {\n",
       "        vertical-align: middle;\n",
       "    }\n",
       "\n",
       "    .dataframe tbody tr th {\n",
       "        vertical-align: top;\n",
       "    }\n",
       "\n",
       "    .dataframe thead th {\n",
       "        text-align: right;\n",
       "    }\n",
       "</style>\n",
       "<table border=\"1\" class=\"dataframe\">\n",
       "  <thead>\n",
       "    <tr style=\"text-align: right;\">\n",
       "      <th></th>\n",
       "      <th>headline</th>\n",
       "      <th>category</th>\n",
       "      <th>short_description</th>\n",
       "    </tr>\n",
       "  </thead>\n",
       "  <tbody>\n",
       "    <tr>\n",
       "      <th>0</th>\n",
       "      <td>Over 4 Million Americans Roll Up Sleeves For O...</td>\n",
       "      <td>U.S. NEWS</td>\n",
       "      <td>Health experts said it is too early to predict...</td>\n",
       "    </tr>\n",
       "    <tr>\n",
       "      <th>1</th>\n",
       "      <td>American Airlines Flyer Charged, Banned For Li...</td>\n",
       "      <td>U.S. NEWS</td>\n",
       "      <td>He was subdued by passengers and crew when he ...</td>\n",
       "    </tr>\n",
       "    <tr>\n",
       "      <th>2</th>\n",
       "      <td>23 Of The Funniest Tweets About Cats And Dogs ...</td>\n",
       "      <td>COMEDY</td>\n",
       "      <td>\"Until you have a dog you don't understand wha...</td>\n",
       "    </tr>\n",
       "    <tr>\n",
       "      <th>3</th>\n",
       "      <td>The Funniest Tweets From Parents This Week (Se...</td>\n",
       "      <td>PARENTING</td>\n",
       "      <td>\"Accidentally put grown-up toothpaste on my to...</td>\n",
       "    </tr>\n",
       "    <tr>\n",
       "      <th>4</th>\n",
       "      <td>Woman Who Called Cops On Black Bird-Watcher Lo...</td>\n",
       "      <td>U.S. NEWS</td>\n",
       "      <td>Amy Cooper accused investment firm Franklin Te...</td>\n",
       "    </tr>\n",
       "  </tbody>\n",
       "</table>\n",
       "</div>"
      ]
     },
     "execution_count": 15,
     "metadata": {},
     "output_type": "execute_result"
    }
   ],
   "execution_count": 15
  },
  {
   "metadata": {
    "ExecuteTime": {
     "end_time": "2024-10-11T08:39:30.383486Z",
     "start_time": "2024-10-11T08:39:30.362449Z"
    }
   },
   "cell_type": "code",
   "source": "df['category'].value_counts()",
   "id": "96481d1100210e87",
   "outputs": [
    {
     "data": {
      "text/plain": [
       "category\n",
       "POLITICS          35602\n",
       "WELLNESS          17945\n",
       "ENTERTAINMENT     17362\n",
       "TRAVEL             9900\n",
       "STYLE & BEAUTY     9814\n",
       "PARENTING          8791\n",
       "HEALTHY LIVING     6694\n",
       "QUEER VOICES       6347\n",
       "FOOD & DRINK       6340\n",
       "BUSINESS           5992\n",
       "COMEDY             5400\n",
       "SPORTS             5077\n",
       "BLACK VOICES       4583\n",
       "HOME & LIVING      4320\n",
       "PARENTS            3955\n",
       "THE WORLDPOST      3664\n",
       "WEDDINGS           3653\n",
       "WOMEN              3572\n",
       "CRIME              3562\n",
       "IMPACT             3484\n",
       "DIVORCE            3426\n",
       "WORLD NEWS         3299\n",
       "MEDIA              2944\n",
       "WEIRD NEWS         2777\n",
       "GREEN              2622\n",
       "WORLDPOST          2579\n",
       "RELIGION           2577\n",
       "STYLE              2254\n",
       "SCIENCE            2206\n",
       "TECH               2104\n",
       "TASTE              2096\n",
       "MONEY              1756\n",
       "ARTS               1509\n",
       "ENVIRONMENT        1444\n",
       "FIFTY              1401\n",
       "GOOD NEWS          1398\n",
       "U.S. NEWS          1377\n",
       "ARTS & CULTURE     1339\n",
       "COLLEGE            1144\n",
       "LATINO VOICES      1130\n",
       "CULTURE & ARTS     1074\n",
       "EDUCATION          1014\n",
       "Name: count, dtype: int64"
      ]
     },
     "execution_count": 16,
     "metadata": {},
     "output_type": "execute_result"
    }
   ],
   "execution_count": 16
  },
  {
   "metadata": {
    "ExecuteTime": {
     "end_time": "2024-10-11T08:39:30.889066Z",
     "start_time": "2024-10-11T08:39:30.869588Z"
    }
   },
   "cell_type": "code",
   "source": [
    "top10 = df['category'].value_counts().nlargest(10)\n",
    "\n",
    "top10"
   ],
   "id": "8db2a3f0a2b0159b",
   "outputs": [
    {
     "data": {
      "text/plain": [
       "category\n",
       "POLITICS          35602\n",
       "WELLNESS          17945\n",
       "ENTERTAINMENT     17362\n",
       "TRAVEL             9900\n",
       "STYLE & BEAUTY     9814\n",
       "PARENTING          8791\n",
       "HEALTHY LIVING     6694\n",
       "QUEER VOICES       6347\n",
       "FOOD & DRINK       6340\n",
       "BUSINESS           5992\n",
       "Name: count, dtype: int64"
      ]
     },
     "execution_count": 17,
     "metadata": {},
     "output_type": "execute_result"
    }
   ],
   "execution_count": 17
  },
  {
   "metadata": {
    "ExecuteTime": {
     "end_time": "2024-10-11T08:39:31.552546Z",
     "start_time": "2024-10-11T08:39:31.534523Z"
    }
   },
   "cell_type": "code",
   "source": [
    "top10 = top10.index\n",
    "\n",
    "df_i = df[df['category'].isin(top10)]\n",
    "df_i"
   ],
   "id": "46dfab1f4956d27f",
   "outputs": [
    {
     "data": {
      "text/plain": [
       "                                                 headline       category  \\\n",
       "3       The Funniest Tweets From Parents This Week (Se...      PARENTING   \n",
       "20      Golden Globes Returning To NBC In January Afte...  ENTERTAINMENT   \n",
       "21      Biden Says U.S. Forces Would Defend Taiwan If ...       POLITICS   \n",
       "24      ‘Beautiful And Sad At The Same Time’: Ukrainia...       POLITICS   \n",
       "28      James Cameron Says He 'Clashed' With Studio Be...  ENTERTAINMENT   \n",
       "...                                                   ...            ...   \n",
       "209509            Walmart Waving Goodbye To Some Greeters       BUSINESS   \n",
       "209510  At World Economic Forum, Fear of Global Contag...       BUSINESS   \n",
       "209511  Positive Customer Experience: What's the Retur...       BUSINESS   \n",
       "209512  Sundance, Ice-T, and Shades of the American Ra...  ENTERTAINMENT   \n",
       "209513  'Girl With the Dragon Tattoo' India Release Ca...  ENTERTAINMENT   \n",
       "\n",
       "                                        short_description  \n",
       "3       \"Accidentally put grown-up toothpaste on my to...  \n",
       "20      For the past 18 months, Hollywood has effectiv...  \n",
       "21      President issues vow as tensions with China rise.  \n",
       "24      An annual celebration took on a different feel...  \n",
       "28      The \"Avatar\" director said aspects of his 2009...  \n",
       "...                                                   ...  \n",
       "209509  After 30 years, \"People Greeters\" will no long...  \n",
       "209510  For decades, as crises have assailed developin...  \n",
       "209511  \"Analysts at Adobe combined historical purchas...  \n",
       "209512  Representation of the collective diaspora has ...  \n",
       "209513  \"Sony Pictures will not be releasing The Girl ...  \n",
       "\n",
       "[124787 rows x 3 columns]"
      ],
      "text/html": [
       "<div>\n",
       "<style scoped>\n",
       "    .dataframe tbody tr th:only-of-type {\n",
       "        vertical-align: middle;\n",
       "    }\n",
       "\n",
       "    .dataframe tbody tr th {\n",
       "        vertical-align: top;\n",
       "    }\n",
       "\n",
       "    .dataframe thead th {\n",
       "        text-align: right;\n",
       "    }\n",
       "</style>\n",
       "<table border=\"1\" class=\"dataframe\">\n",
       "  <thead>\n",
       "    <tr style=\"text-align: right;\">\n",
       "      <th></th>\n",
       "      <th>headline</th>\n",
       "      <th>category</th>\n",
       "      <th>short_description</th>\n",
       "    </tr>\n",
       "  </thead>\n",
       "  <tbody>\n",
       "    <tr>\n",
       "      <th>3</th>\n",
       "      <td>The Funniest Tweets From Parents This Week (Se...</td>\n",
       "      <td>PARENTING</td>\n",
       "      <td>\"Accidentally put grown-up toothpaste on my to...</td>\n",
       "    </tr>\n",
       "    <tr>\n",
       "      <th>20</th>\n",
       "      <td>Golden Globes Returning To NBC In January Afte...</td>\n",
       "      <td>ENTERTAINMENT</td>\n",
       "      <td>For the past 18 months, Hollywood has effectiv...</td>\n",
       "    </tr>\n",
       "    <tr>\n",
       "      <th>21</th>\n",
       "      <td>Biden Says U.S. Forces Would Defend Taiwan If ...</td>\n",
       "      <td>POLITICS</td>\n",
       "      <td>President issues vow as tensions with China rise.</td>\n",
       "    </tr>\n",
       "    <tr>\n",
       "      <th>24</th>\n",
       "      <td>‘Beautiful And Sad At The Same Time’: Ukrainia...</td>\n",
       "      <td>POLITICS</td>\n",
       "      <td>An annual celebration took on a different feel...</td>\n",
       "    </tr>\n",
       "    <tr>\n",
       "      <th>28</th>\n",
       "      <td>James Cameron Says He 'Clashed' With Studio Be...</td>\n",
       "      <td>ENTERTAINMENT</td>\n",
       "      <td>The \"Avatar\" director said aspects of his 2009...</td>\n",
       "    </tr>\n",
       "    <tr>\n",
       "      <th>...</th>\n",
       "      <td>...</td>\n",
       "      <td>...</td>\n",
       "      <td>...</td>\n",
       "    </tr>\n",
       "    <tr>\n",
       "      <th>209509</th>\n",
       "      <td>Walmart Waving Goodbye To Some Greeters</td>\n",
       "      <td>BUSINESS</td>\n",
       "      <td>After 30 years, \"People Greeters\" will no long...</td>\n",
       "    </tr>\n",
       "    <tr>\n",
       "      <th>209510</th>\n",
       "      <td>At World Economic Forum, Fear of Global Contag...</td>\n",
       "      <td>BUSINESS</td>\n",
       "      <td>For decades, as crises have assailed developin...</td>\n",
       "    </tr>\n",
       "    <tr>\n",
       "      <th>209511</th>\n",
       "      <td>Positive Customer Experience: What's the Retur...</td>\n",
       "      <td>BUSINESS</td>\n",
       "      <td>\"Analysts at Adobe combined historical purchas...</td>\n",
       "    </tr>\n",
       "    <tr>\n",
       "      <th>209512</th>\n",
       "      <td>Sundance, Ice-T, and Shades of the American Ra...</td>\n",
       "      <td>ENTERTAINMENT</td>\n",
       "      <td>Representation of the collective diaspora has ...</td>\n",
       "    </tr>\n",
       "    <tr>\n",
       "      <th>209513</th>\n",
       "      <td>'Girl With the Dragon Tattoo' India Release Ca...</td>\n",
       "      <td>ENTERTAINMENT</td>\n",
       "      <td>\"Sony Pictures will not be releasing The Girl ...</td>\n",
       "    </tr>\n",
       "  </tbody>\n",
       "</table>\n",
       "<p>124787 rows × 3 columns</p>\n",
       "</div>"
      ]
     },
     "execution_count": 18,
     "metadata": {},
     "output_type": "execute_result"
    }
   ],
   "execution_count": 18
  },
  {
   "metadata": {
    "ExecuteTime": {
     "end_time": "2024-10-11T08:39:32.251190Z",
     "start_time": "2024-10-11T08:39:32.184449Z"
    }
   },
   "cell_type": "code",
   "source": [
    "import matplotlib.pyplot as plt\n",
    "category_counts = df_i['category'].value_counts()\n",
    "\n",
    "plt.figure(figsize=(6, 6))\n",
    "plt.pie(category_counts, labels=category_counts.index, autopct='%1.1f%%', startangle=140)\n",
    "plt.title('Distribution of Top 10 Categories')\n",
    "plt.axis('equal')\n",
    "plt.show()"
   ],
   "id": "4f54e2233614da56",
   "outputs": [
    {
     "data": {
      "text/plain": [
       "<Figure size 600x600 with 1 Axes>"
      ],
      "image/png": "[encoded data removed]"
     },
     "metadata": {},
     "output_type": "display_data"
    }
   ],
   "execution_count": 19
  },
  {
   "metadata": {},
   "cell_type": "markdown",
   "source": [
    "## Exercise 2: Text Preprocessing\n",
    "\n",
    "**Objective**: Prepare the text data for classification tasks.\n",
    "\n",
    "1. Preprocess the \"headline\" and \"short_description\" fields by performing the following steps:\n",
    "   - Convert all text to lowercase.\n",
    "   - Remove punctuation, digits, and any other irrelevant characters.\n",
    "   - Remove stop words.\n",
    "   - Apply either stemming or lemmatization.\n",
    "2. Observe how the data changes at each step of preprocessing.\n",
    "3. Create a new column that concatenates the processed \"headline\" and \"short_description\" fields."
   ],
   "id": "190f3e008f235d44"
  },
  {
   "metadata": {
    "ExecuteTime": {
     "end_time": "2024-10-11T09:23:53.236281Z",
     "start_time": "2024-10-11T09:23:53.214205Z"
    }
   },
   "cell_type": "code",
   "source": [
    "import re\n",
    "import string\n",
    "from nltk.corpus import stopwords\n",
    "import nltk\n",
    "from nltk.stem import SnowballStemmer, WordNetLemmatizer\n",
    "\n",
    "nltk.download('stopwords')\n",
    "nltk.download('wordnet')\n",
    "\n",
    "def process_text(text):\n",
    "    text = text.lower()\n",
    "    text = re.sub(r'http\\S+', ' ', text)\n",
    "    text = re.sub(r\"\\d\", \"\", text)\n",
    "    punct = string.punctuation\n",
    "    text = text.replace(punct, \"\")\n",
    "    text = re.sub(r\"\\W\", \" \", text)\n",
    "    return \" \".join(text.split())\n",
    "\n",
    "def eliminate_stop_words(text):\n",
    "    stop_words = set(stopwords.words('english'))\n",
    "    words = text.split()\n",
    "    words = [word for word in words if word not in stop_words]\n",
    "    return ' '.join(words)\n",
    "    \n",
    "def apply_stemming(text):\n",
    "    stemer = SnowballStemmer(language='english')\n",
    "    words = text.split()\n",
    "    words = [stemer.stem(word) for word in words]\n",
    "    return ' '.join(words)\n",
    "\n",
    "def apply_lemmatization(text):\n",
    "    lemmatizer = WordNetLemmatizer()\n",
    "    words = text.split()\n",
    "    words = [lemmatizer.lemmatize(word) for word in words]\n",
    "    return ' '.join(words)\n",
    "\n",
    "def process_and_clean(text):\n",
    "    text = process_text(text)\n",
    "    text = eliminate_stop_words(text)\n",
    "    text = apply_stemming(text)\n",
    "    return text\n",
    "    "
   ],
   "id": "35eabf9cfd8d3e6a",
   "outputs": [
    {
     "name": "stderr",
     "output_type": "stream",
     "text": [
      "[nltk_data] Downloading package stopwords to /home/lcda/nltk_data...\n",
      "[nltk_data]   Package stopwords is already up-to-date!\n",
      "[nltk_data] Downloading package wordnet to /home/lcda/nltk_data...\n",
      "[nltk_data]   Package wordnet is already up-to-date!\n"
     ]
    }
   ],
   "execution_count": 66
  },
  {
   "metadata": {
    "ExecuteTime": {
     "end_time": "2024-10-11T08:53:02.413080Z",
     "start_time": "2024-10-11T08:53:02.410603Z"
    }
   },
   "cell_type": "code",
   "source": "print(df_i.iloc[0]['headline'])",
   "id": "f71aae3c9796fbb6",
   "outputs": [
    {
     "name": "stdout",
     "output_type": "stream",
     "text": [
      "The Funniest Tweets From Parents This Week (Sept. 17-23)\n"
     ]
    }
   ],
   "execution_count": 42
  },
  {
   "metadata": {
    "ExecuteTime": {
     "end_time": "2024-10-11T08:53:06.254605Z",
     "start_time": "2024-10-11T08:53:06.250355Z"
    }
   },
   "cell_type": "code",
   "source": [
    "iter1 = process_text(df_i.iloc[0]['headline'])\n",
    "iter1"
   ],
   "id": "265b954a3e4fbb7e",
   "outputs": [
    {
     "data": {
      "text/plain": [
       "'the funniest tweets from parents this week sept'"
      ]
     },
     "execution_count": 43,
     "metadata": {},
     "output_type": "execute_result"
    }
   ],
   "execution_count": 43
  },
  {
   "metadata": {
    "ExecuteTime": {
     "end_time": "2024-10-11T08:54:11.673446Z",
     "start_time": "2024-10-11T08:54:11.666942Z"
    }
   },
   "cell_type": "code",
   "source": [
    "iter2 = eliminate_stop_words(iter1)\n",
    "iter2"
   ],
   "id": "17c23d6ea3a8c0cd",
   "outputs": [
    {
     "data": {
      "text/plain": [
       "'funniest tweets parents week sept'"
      ]
     },
     "execution_count": 44,
     "metadata": {},
     "output_type": "execute_result"
    }
   ],
   "execution_count": 44
  },
  {
   "metadata": {
    "ExecuteTime": {
     "end_time": "2024-10-11T09:03:23.692912Z",
     "start_time": "2024-10-11T09:03:23.688658Z"
    }
   },
   "cell_type": "code",
   "source": [
    "iter3 = apply_stemming(iter2)\n",
    "iter3"
   ],
   "id": "5586479173d7c53b",
   "outputs": [
    {
     "data": {
      "text/plain": [
       "'funniest tweet parent week sept'"
      ]
     },
     "execution_count": 48,
     "metadata": {},
     "output_type": "execute_result"
    }
   ],
   "execution_count": 48
  },
  {
   "metadata": {
    "ExecuteTime": {
     "end_time": "2024-10-11T09:15:35.833573Z",
     "start_time": "2024-10-11T09:15:35.829818Z"
    }
   },
   "cell_type": "code",
   "source": [
    "iter4 = apply_lemmatization(iter2)\n",
    "iter4"
   ],
   "id": "9a7a8b3df9d5a762",
   "outputs": [
    {
     "data": {
      "text/plain": [
       "'funniest tweet parent week sept'"
      ]
     },
     "execution_count": 61,
     "metadata": {},
     "output_type": "execute_result"
    }
   ],
   "execution_count": 61
  },
  {
   "metadata": {
    "ExecuteTime": {
     "end_time": "2024-10-11T09:19:16.859761Z",
     "start_time": "2024-10-11T09:19:16.834959Z"
    }
   },
   "cell_type": "code",
   "source": [
    "# merge headline and short_description in one column\n",
    "df_i['text'] = df_i['headline'] + df_i['short_description']\n",
    "df_i.head()"
   ],
   "id": "ae2e9a0a694e7a8b",
   "outputs": [
    {
     "name": "stderr",
     "output_type": "stream",
     "text": [
      "/tmp/ipykernel_7845/793805773.py:2: SettingWithCopyWarning: \n",
      "A value is trying to be set on a copy of a slice from a DataFrame.\n",
      "Try using .loc[row_indexer,col_indexer] = value instead\n",
      "\n",
      "See the caveats in the documentation: https://pandas.pydata.org/pandas-docs/stable/user_guide/indexing.html#returning-a-view-versus-a-copy\n",
      "  df_i['text'] = df_i['headline'] + df_i['short_description']\n"
     ]
    },
    {
     "data": {
      "text/plain": [
       "                                             headline       category  \\\n",
       "3   The Funniest Tweets From Parents This Week (Se...      PARENTING   \n",
       "20  Golden Globes Returning To NBC In January Afte...  ENTERTAINMENT   \n",
       "21  Biden Says U.S. Forces Would Defend Taiwan If ...       POLITICS   \n",
       "24  ‘Beautiful And Sad At The Same Time’: Ukrainia...       POLITICS   \n",
       "28  James Cameron Says He 'Clashed' With Studio Be...  ENTERTAINMENT   \n",
       "\n",
       "                                    short_description  \\\n",
       "3   \"Accidentally put grown-up toothpaste on my to...   \n",
       "20  For the past 18 months, Hollywood has effectiv...   \n",
       "21  President issues vow as tensions with China rise.   \n",
       "24  An annual celebration took on a different feel...   \n",
       "28  The \"Avatar\" director said aspects of his 2009...   \n",
       "\n",
       "                                                 text  \n",
       "3   The Funniest Tweets From Parents This Week (Se...  \n",
       "20  Golden Globes Returning To NBC In January Afte...  \n",
       "21  Biden Says U.S. Forces Would Defend Taiwan If ...  \n",
       "24  ‘Beautiful And Sad At The Same Time’: Ukrainia...  \n",
       "28  James Cameron Says He 'Clashed' With Studio Be...  "
      ],
      "text/html": [
       "<div>\n",
       "<style scoped>\n",
       "    .dataframe tbody tr th:only-of-type {\n",
       "        vertical-align: middle;\n",
       "    }\n",
       "\n",
       "    .dataframe tbody tr th {\n",
       "        vertical-align: top;\n",
       "    }\n",
       "\n",
       "    .dataframe thead th {\n",
       "        text-align: right;\n",
       "    }\n",
       "</style>\n",
       "<table border=\"1\" class=\"dataframe\">\n",
       "  <thead>\n",
       "    <tr style=\"text-align: right;\">\n",
       "      <th></th>\n",
       "      <th>headline</th>\n",
       "      <th>category</th>\n",
       "      <th>short_description</th>\n",
       "      <th>text</th>\n",
       "    </tr>\n",
       "  </thead>\n",
       "  <tbody>\n",
       "    <tr>\n",
       "      <th>3</th>\n",
       "      <td>The Funniest Tweets From Parents This Week (Se...</td>\n",
       "      <td>PARENTING</td>\n",
       "      <td>\"Accidentally put grown-up toothpaste on my to...</td>\n",
       "      <td>The Funniest Tweets From Parents This Week (Se...</td>\n",
       "    </tr>\n",
       "    <tr>\n",
       "      <th>20</th>\n",
       "      <td>Golden Globes Returning To NBC In January Afte...</td>\n",
       "      <td>ENTERTAINMENT</td>\n",
       "      <td>For the past 18 months, Hollywood has effectiv...</td>\n",
       "      <td>Golden Globes Returning To NBC In January Afte...</td>\n",
       "    </tr>\n",
       "    <tr>\n",
       "      <th>21</th>\n",
       "      <td>Biden Says U.S. Forces Would Defend Taiwan If ...</td>\n",
       "      <td>POLITICS</td>\n",
       "      <td>President issues vow as tensions with China rise.</td>\n",
       "      <td>Biden Says U.S. Forces Would Defend Taiwan If ...</td>\n",
       "    </tr>\n",
       "    <tr>\n",
       "      <th>24</th>\n",
       "      <td>‘Beautiful And Sad At The Same Time’: Ukrainia...</td>\n",
       "      <td>POLITICS</td>\n",
       "      <td>An annual celebration took on a different feel...</td>\n",
       "      <td>‘Beautiful And Sad At The Same Time’: Ukrainia...</td>\n",
       "    </tr>\n",
       "    <tr>\n",
       "      <th>28</th>\n",
       "      <td>James Cameron Says He 'Clashed' With Studio Be...</td>\n",
       "      <td>ENTERTAINMENT</td>\n",
       "      <td>The \"Avatar\" director said aspects of his 2009...</td>\n",
       "      <td>James Cameron Says He 'Clashed' With Studio Be...</td>\n",
       "    </tr>\n",
       "  </tbody>\n",
       "</table>\n",
       "</div>"
      ]
     },
     "execution_count": 63,
     "metadata": {},
     "output_type": "execute_result"
    }
   ],
   "execution_count": 63
  },
  {
   "metadata": {
    "ExecuteTime": {
     "end_time": "2024-10-11T09:24:16.410388Z",
     "start_time": "2024-10-11T09:23:57.979277Z"
    }
   },
   "cell_type": "code",
   "source": [
    "df_i['preprocessed_text'] = df_i['text'].apply(process_and_clean)\n",
    "df_i = df_i[['preprocessed_text', 'category']]\n",
    "df_i.head()"
   ],
   "id": "7c29f623b6452a05",
   "outputs": [
    {
     "name": "stderr",
     "output_type": "stream",
     "text": [
      "/tmp/ipykernel_7845/740878646.py:1: SettingWithCopyWarning: \n",
      "A value is trying to be set on a copy of a slice from a DataFrame.\n",
      "Try using .loc[row_indexer,col_indexer] = value instead\n",
      "\n",
      "See the caveats in the documentation: https://pandas.pydata.org/pandas-docs/stable/user_guide/indexing.html#returning-a-view-versus-a-copy\n",
      "  df_i['preprocessed_text'] = df_i['text'].apply(process_and_clean)\n"
     ]
    },
    {
     "data": {
      "text/plain": [
       "                                    preprocessed_text       category\n",
       "3   funniest tweet parent week sept accident put g...      PARENTING\n",
       "20  golden globe return nbc januari year airfor pa...  ENTERTAINMENT\n",
       "21  biden say u forc would defend taiwan china inv...       POLITICS\n",
       "24  beauti sad time ukrainian cultur festiv take d...       POLITICS\n",
       "28  jame cameron say clash studio avatar releaseth...  ENTERTAINMENT"
      ],
      "text/html": [
       "<div>\n",
       "<style scoped>\n",
       "    .dataframe tbody tr th:only-of-type {\n",
       "        vertical-align: middle;\n",
       "    }\n",
       "\n",
       "    .dataframe tbody tr th {\n",
       "        vertical-align: top;\n",
       "    }\n",
       "\n",
       "    .dataframe thead th {\n",
       "        text-align: right;\n",
       "    }\n",
       "</style>\n",
       "<table border=\"1\" class=\"dataframe\">\n",
       "  <thead>\n",
       "    <tr style=\"text-align: right;\">\n",
       "      <th></th>\n",
       "      <th>preprocessed_text</th>\n",
       "      <th>category</th>\n",
       "    </tr>\n",
       "  </thead>\n",
       "  <tbody>\n",
       "    <tr>\n",
       "      <th>3</th>\n",
       "      <td>funniest tweet parent week sept accident put g...</td>\n",
       "      <td>PARENTING</td>\n",
       "    </tr>\n",
       "    <tr>\n",
       "      <th>20</th>\n",
       "      <td>golden globe return nbc januari year airfor pa...</td>\n",
       "      <td>ENTERTAINMENT</td>\n",
       "    </tr>\n",
       "    <tr>\n",
       "      <th>21</th>\n",
       "      <td>biden say u forc would defend taiwan china inv...</td>\n",
       "      <td>POLITICS</td>\n",
       "    </tr>\n",
       "    <tr>\n",
       "      <th>24</th>\n",
       "      <td>beauti sad time ukrainian cultur festiv take d...</td>\n",
       "      <td>POLITICS</td>\n",
       "    </tr>\n",
       "    <tr>\n",
       "      <th>28</th>\n",
       "      <td>jame cameron say clash studio avatar releaseth...</td>\n",
       "      <td>ENTERTAINMENT</td>\n",
       "    </tr>\n",
       "  </tbody>\n",
       "</table>\n",
       "</div>"
      ]
     },
     "execution_count": 67,
     "metadata": {},
     "output_type": "execute_result"
    }
   ],
   "execution_count": 67
  },
  {
   "metadata": {},
   "cell_type": "markdown",
   "source": [
    "## Exercise 3: Data Splitting\n",
    "\n",
    "**Objective**: Split the dataset into training and testing sets.\n",
    "\n",
    "1. Divide the data into **training** and **testing** sets.\n",
    "   - Use an appropriate train-test split ratio (e.g., 80-20 or 70-30).\n",
    "   - Ensure the split is **stratified** to maintain the distribution of categories.\n",
    "   "
   ],
   "id": "90a25d9a89306675"
  },
  {
   "metadata": {
    "ExecuteTime": {
     "end_time": "2024-10-11T09:32:37.066875Z",
     "start_time": "2024-10-11T09:32:36.964226Z"
    }
   },
   "cell_type": "code",
   "source": [
    "from sklearn.model_selection import train_test_split\n",
    "\n",
    "train, test = train_test_split(df_i, test_size=0.2, random_state=42, stratify=df_i['category'])\n",
    "train.shape, test.shape"
   ],
   "id": "9c977860c53a1890",
   "outputs": [
    {
     "data": {
      "text/plain": [
       "((99829, 2), (24958, 2))"
      ]
     },
     "execution_count": 68,
     "metadata": {},
     "output_type": "execute_result"
    }
   ],
   "execution_count": 68
  },
  {
   "metadata": {
    "ExecuteTime": {
     "end_time": "2024-10-11T09:32:50.069373Z",
     "start_time": "2024-10-11T09:32:50.062825Z"
    }
   },
   "cell_type": "code",
   "source": "train.head()",
   "id": "cf7acdacd315e31c",
   "outputs": [
    {
     "data": {
      "text/plain": [
       "                                        preprocessed_text      category\n",
       "185942  sriracha ice cream sandwich glut life total in...  FOOD & DRINK\n",
       "49565   friday talk point turkey leftoversso everyon f...      POLITICS\n",
       "195665  elli krieger healthi snack learn love cookinge...      WELLNESS\n",
       "27355   main gov paul lepag say take confeder statu li...      POLITICS\n",
       "196189  teen sext need knowsend photo may seem like fu...     PARENTING"
      ],
      "text/html": [
       "<div>\n",
       "<style scoped>\n",
       "    .dataframe tbody tr th:only-of-type {\n",
       "        vertical-align: middle;\n",
       "    }\n",
       "\n",
       "    .dataframe tbody tr th {\n",
       "        vertical-align: top;\n",
       "    }\n",
       "\n",
       "    .dataframe thead th {\n",
       "        text-align: right;\n",
       "    }\n",
       "</style>\n",
       "<table border=\"1\" class=\"dataframe\">\n",
       "  <thead>\n",
       "    <tr style=\"text-align: right;\">\n",
       "      <th></th>\n",
       "      <th>preprocessed_text</th>\n",
       "      <th>category</th>\n",
       "    </tr>\n",
       "  </thead>\n",
       "  <tbody>\n",
       "    <tr>\n",
       "      <th>185942</th>\n",
       "      <td>sriracha ice cream sandwich glut life total in...</td>\n",
       "      <td>FOOD &amp; DRINK</td>\n",
       "    </tr>\n",
       "    <tr>\n",
       "      <th>49565</th>\n",
       "      <td>friday talk point turkey leftoversso everyon f...</td>\n",
       "      <td>POLITICS</td>\n",
       "    </tr>\n",
       "    <tr>\n",
       "      <th>195665</th>\n",
       "      <td>elli krieger healthi snack learn love cookinge...</td>\n",
       "      <td>WELLNESS</td>\n",
       "    </tr>\n",
       "    <tr>\n",
       "      <th>27355</th>\n",
       "      <td>main gov paul lepag say take confeder statu li...</td>\n",
       "      <td>POLITICS</td>\n",
       "    </tr>\n",
       "    <tr>\n",
       "      <th>196189</th>\n",
       "      <td>teen sext need knowsend photo may seem like fu...</td>\n",
       "      <td>PARENTING</td>\n",
       "    </tr>\n",
       "  </tbody>\n",
       "</table>\n",
       "</div>"
      ]
     },
     "execution_count": 69,
     "metadata": {},
     "output_type": "execute_result"
    }
   ],
   "execution_count": 69
  },
  {
   "metadata": {
    "ExecuteTime": {
     "end_time": "2024-10-11T09:34:55.630503Z",
     "start_time": "2024-10-11T09:34:55.627676Z"
    }
   },
   "cell_type": "code",
   "source": [
    "x_train = train['preprocessed_text']\n",
    "y_train = train['category']\n",
    "x_test = test['preprocessed_text']\n",
    "y_test = test['category']"
   ],
   "id": "aaaa2fdc0158351d",
   "outputs": [],
   "execution_count": 70
  },
  {
   "metadata": {},
   "cell_type": "markdown",
   "source": [
    "## Exercise 4: Feature Extraction\n",
    "\n",
    "**Objective**: Convert the text data into numerical features.\n",
    "\n",
    "1. Apply one of the following feature extraction techniques:\n",
    "   - **Bag-of-Words (BoW)**\n",
    "   - **TF-IDF**\n",
    "   - Optionally, apply N-grams (unigrams, bigrams, etc.) before feature extraction.\n",
    "2. Use either the **sklearn** or **nltk** packages for feature extraction."
   ],
   "id": "e0a5fca79bcca55f"
  },
  {
   "metadata": {
    "ExecuteTime": {
     "end_time": "2024-10-11T09:43:21.731223Z",
     "start_time": "2024-10-11T09:43:20.688266Z"
    }
   },
   "cell_type": "code",
   "source": [
    "from sklearn.feature_extraction.text import CountVectorizer\n",
    "\n",
    "vectorize = CountVectorizer(max_features=5000)\n",
    "\n",
    "x_train_bow = vectorize.fit_transform(x_train)\n",
    "x_test_bow = vectorize.transform(x_test)\n",
    "\n",
    "x_train_bow.shape, x_test_bow.shape"
   ],
   "id": "e1204f7b398b8a19",
   "outputs": [
    {
     "data": {
      "text/plain": [
       "((99829, 5000), (24958, 5000))"
      ]
     },
     "execution_count": 73,
     "metadata": {},
     "output_type": "execute_result"
    }
   ],
   "execution_count": 73
  },
  {
   "metadata": {
    "ExecuteTime": {
     "end_time": "2024-10-11T09:48:33.421930Z",
     "start_time": "2024-10-11T09:48:33.417073Z"
    }
   },
   "cell_type": "code",
   "source": "vectorize.get_feature_names_out()",
   "id": "5db4e6e475359f1f",
   "outputs": [
    {
     "data": {
      "text/plain": [
       "array(['aaron', 'ab', 'abandon', ..., 'zombi', 'zone', 'zuckerberg'],\n",
       "      dtype=object)"
      ]
     },
     "execution_count": 81,
     "metadata": {},
     "output_type": "execute_result"
    }
   ],
   "execution_count": 81
  },
  {
   "metadata": {},
   "cell_type": "markdown",
   "source": [
    "## Exercise 5: Clustering\n",
    "\n",
    "**Objective**: Cluster news articles based on their content.\n",
    "\n",
    "1. Apply KMeans clustering to group news articles into 10 clusters.\n",
    "2. Visualize the clusters using PCA or t-SNE."
   ],
   "id": "e4c0485d1397a8c7"
  },
  {
   "metadata": {
    "ExecuteTime": {
     "end_time": "2024-10-11T10:45:25.862571Z",
     "start_time": "2024-10-11T10:45:25.610669Z"
    }
   },
   "cell_type": "code",
   "source": [
    "from sklearn.cluster import KMeans\n",
    "\n",
    "k = 10\n",
    "kmeans = KMeans(n_clusters=k, random_state=123).fit(x_train_bow)"
   ],
   "id": "618184bbf1586562",
   "outputs": [],
   "execution_count": 82
  },
  {
   "metadata": {
    "ExecuteTime": {
     "end_time": "2024-10-11T10:47:30.238580Z",
     "start_time": "2024-10-11T10:47:30.234269Z"
    }
   },
   "cell_type": "code",
   "source": "kmeans.labels_[:10]",
   "id": "f9d62f80e0fcbae",
   "outputs": [
    {
     "data": {
      "text/plain": [
       "array([2, 6, 2, 6, 8, 8, 8, 8, 6, 8], dtype=int32)"
      ]
     },
     "execution_count": 84,
     "metadata": {},
     "output_type": "execute_result"
    }
   ],
   "execution_count": 84
  },
  {
   "metadata": {
    "ExecuteTime": {
     "end_time": "2024-10-11T10:47:49.212479Z",
     "start_time": "2024-10-11T10:47:49.208657Z"
    }
   },
   "cell_type": "code",
   "source": "y_train[:10]",
   "id": "f09fe8151939a692",
   "outputs": [
    {
     "data": {
      "text/plain": [
       "185942      FOOD & DRINK\n",
       "49565           POLITICS\n",
       "195665          WELLNESS\n",
       "27355           POLITICS\n",
       "196189         PARENTING\n",
       "108680    HEALTHY LIVING\n",
       "180116      FOOD & DRINK\n",
       "156600      FOOD & DRINK\n",
       "42511           POLITICS\n",
       "195446          WELLNESS\n",
       "Name: category, dtype: object"
      ]
     },
     "execution_count": 85,
     "metadata": {},
     "output_type": "execute_result"
    }
   ],
   "execution_count": 85
  },
  {
   "metadata": {
    "ExecuteTime": {
     "end_time": "2024-10-11T10:56:54.411637Z",
     "start_time": "2024-10-11T10:56:54.223137Z"
    }
   },
   "cell_type": "code",
   "source": [
    "from sklearn.decomposition import PCA\n",
    "\n",
    "pca = PCA(n_components=2, random_state=123).fit(x_train_bow)\n",
    "X_reduced = pca.fit_transform(x_train_bow)\n",
    "X_reduced"
   ],
   "id": "4a44303ac95ce5fe",
   "outputs": [
    {
     "data": {
      "text/plain": [
       "array([[-0.28980808, -0.08597367],\n",
       "       [ 1.01729947,  0.04291636],\n",
       "       [-0.33516416,  0.04587046],\n",
       "       ...,\n",
       "       [-0.24562217, -0.17228228],\n",
       "       [ 0.75301915,  0.00656649],\n",
       "       [-0.05018473, -0.14486838]])"
      ]
     },
     "execution_count": 87,
     "metadata": {},
     "output_type": "execute_result"
    }
   ],
   "execution_count": 87
  },
  {
   "metadata": {
    "ExecuteTime": {
     "end_time": "2024-10-11T11:05:16.414049Z",
     "start_time": "2024-10-11T11:05:15.459323Z"
    }
   },
   "cell_type": "code",
   "source": [
    "color_map = {cat: i for i, cat in enumerate(set(y_train))}\n",
    "colors = y_train.map(color_map)\n",
    "\n",
    "plt.figure(figsize=(8, 6))\n",
    "scatter = plt.scatter(X_reduced[:, 0], X_reduced[:, 1], c=colors, cmap='rainbow', label=y_train)\n",
    "plt.title('KMeans Clusters')\n",
    "plt.xlabel('PC 1')\n",
    "plt.ylabel('PC 2')\n",
    "\n",
    "plt.legend(*scatter.legend_elements(), loc='center left', bbox_to_anchor=(1, 0.5), title='Clusters')\n",
    "plt.show()"
   ],
   "id": "c6c805c789893d89",
   "outputs": [
    {
     "data": {
      "text/plain": [
       "<Figure size 800x600 with 1 Axes>"
      ],
      "image/png": "[encoded data removed]"
     },
     "metadata": {},
     "output_type": "display_data"
    }
   ],
   "execution_count": 95
  },
  {
   "metadata": {
    "ExecuteTime": {
     "end_time": "2024-10-11T10:59:42.233789Z",
     "start_time": "2024-10-11T10:59:42.230866Z"
    }
   },
   "cell_type": "code",
   "source": "color_map",
   "id": "7ff8baaf38572f24",
   "outputs": [
    {
     "data": {
      "text/plain": [
       "{'HEALTHY LIVING': 0,\n",
       " 'POLITICS': 1,\n",
       " 'STYLE & BEAUTY': 2,\n",
       " 'PARENTING': 3,\n",
       " 'ENTERTAINMENT': 4,\n",
       " 'QUEER VOICES': 5,\n",
       " 'WELLNESS': 6,\n",
       " 'TRAVEL': 7,\n",
       " 'FOOD & DRINK': 8,\n",
       " 'BUSINESS': 9}"
      ]
     },
     "execution_count": 89,
     "metadata": {},
     "output_type": "execute_result"
    }
   ],
   "execution_count": 89
  },
  {
   "metadata": {
    "ExecuteTime": {
     "end_time": "2024-10-11T10:59:55.155181Z",
     "start_time": "2024-10-11T10:59:55.148878Z"
    }
   },
   "cell_type": "code",
   "source": "y_train",
   "id": "baf76419548eb3b2",
   "outputs": [
    {
     "data": {
      "text/plain": [
       "185942     FOOD & DRINK\n",
       "49565          POLITICS\n",
       "195665         WELLNESS\n",
       "27355          POLITICS\n",
       "196189        PARENTING\n",
       "              ...      \n",
       "31091          POLITICS\n",
       "66017     ENTERTAINMENT\n",
       "208543     FOOD & DRINK\n",
       "17268          POLITICS\n",
       "48353          POLITICS\n",
       "Name: category, Length: 99829, dtype: object"
      ]
     },
     "execution_count": 90,
     "metadata": {},
     "output_type": "execute_result"
    }
   ],
   "execution_count": 90
  },
  {
   "metadata": {},
   "cell_type": "markdown",
   "source": [
    "## Exercise 6: Model Training\n",
    "\n",
    "**Objective**: Train machine learning models for text classification.\n",
    "\n",
    "1. Train various machine learning models on the preprocessed and vectorized data.\n",
    "   - Choose models from the **sklearn** library (e.g., Logistic Regression, Random Forest, SVM).\n",
    "   "
   ],
   "id": "c384b0a5acc0b062"
  },
  {
   "metadata": {
    "ExecuteTime": {
     "end_time": "2024-10-11T11:14:01.854878Z",
     "start_time": "2024-10-11T11:13:44.373672Z"
    }
   },
   "cell_type": "code",
   "source": [
    "from sklearn.linear_model import LogisticRegression\n",
    "\n",
    "model = LogisticRegression(random_state=123).fit(x_train_bow, y_train)"
   ],
   "id": "a26c181298845ca4",
   "outputs": [
    {
     "name": "stderr",
     "output_type": "stream",
     "text": [
      "/home/lcda/miniconda3/envs/tac-hands-on/lib/python3.10/site-packages/sklearn/linear_model/_logistic.py:469: ConvergenceWarning: lbfgs failed to converge (status=1):\n",
      "STOP: TOTAL NO. of ITERATIONS REACHED LIMIT.\n",
      "\n",
      "Increase the number of iterations (max_iter) or scale the data as shown in:\n",
      "    https://scikit-learn.org/stable/modules/preprocessing.html\n",
      "Please also refer to the documentation for alternative solver options:\n",
      "    https://scikit-learn.org/stable/modules/linear_model.html#logistic-regression\n",
      "  n_iter_i = _check_optimize_result(\n"
     ]
    }
   ],
   "execution_count": 96
  },
  {
   "metadata": {
    "ExecuteTime": {
     "end_time": "2024-10-11T11:20:31.491379Z",
     "start_time": "2024-10-11T11:17:06.181290Z"
    }
   },
   "cell_type": "code",
   "source": [
    "from sklearn.ensemble import RandomForestClassifier\n",
    "\n",
    "rf = RandomForestClassifier(random_state=123).fit(x_train_bow, y_train)"
   ],
   "id": "de89bd92eb9e729f",
   "outputs": [],
   "execution_count": 97
  },
  {
   "metadata": {},
   "cell_type": "code",
   "outputs": [],
   "execution_count": null,
   "source": "",
   "id": "7d48b0da7d9b1a4f"
  },
  {
   "metadata": {},
   "cell_type": "markdown",
   "source": [
    "## Exercise 7: Model Evaluation\n",
    "\n",
    "**Objective**: Evaluate the performance of the trained models.\n",
    "\n",
    "1. Evaluate the models using appropriate metrics such as accuracy, precision, recall, and F1-score.\n",
    "2. Perform **cross-validation** on at least one model to ensure reliable performance evaluation.\n"
   ],
   "id": "67d1c24939321e06"
  },
  {
   "metadata": {
    "ExecuteTime": {
     "end_time": "2024-10-11T11:26:19.259051Z",
     "start_time": "2024-10-11T11:26:18.944071Z"
    }
   },
   "cell_type": "code",
   "source": [
    "from sklearn.metrics import accuracy_score, precision_score, recall_score, f1_score\n",
    "\n",
    "y_pred_lr = model.predict(x_test_bow)\n",
    "acc = accuracy_score(y_test, y_pred_lr)\n",
    "precision = precision_score(y_test, y_pred_lr, average='weighted')\n",
    "recall = recall_score(y_test, y_pred_lr, average='weighted')\n",
    "f1 = f1_score(y_test, y_pred_lr, average='weighted')\n",
    "\n",
    "acc, precision, recall, f1"
   ],
   "id": "55c8fdbf9aace97e",
   "outputs": [
    {
     "data": {
      "text/plain": [
       "(0.7671287763442584,\n",
       " np.float64(0.7627128526028978),\n",
       " np.float64(0.7671287763442584),\n",
       " np.float64(0.7639566567028816))"
      ]
     },
     "execution_count": 101,
     "metadata": {},
     "output_type": "execute_result"
    }
   ],
   "execution_count": 101
  },
  {
   "metadata": {
    "ExecuteTime": {
     "end_time": "2024-10-11T11:28:23.669161Z",
     "start_time": "2024-10-11T11:28:23.206932Z"
    }
   },
   "cell_type": "code",
   "source": [
    "from sklearn.metrics import classification_report\n",
    "import pprint\n",
    "\n",
    "pprint.pp(classification_report(y_test, y_pred_lr, target_names=set(set(y_train))))"
   ],
   "id": "dc93d4f22fedbe00",
   "outputs": [
    {
     "name": "stdout",
     "output_type": "stream",
     "text": [
      "('                precision    recall  f1-score   support\\n'\n",
      " '\\n'\n",
      " 'HEALTHY LIVING       0.61      0.53      0.56      1198\\n'\n",
      " '      POLITICS       0.77      0.81      0.79      3473\\n'\n",
      " 'STYLE & BEAUTY       0.78      0.74      0.76      1268\\n'\n",
      " '     PARENTING       0.42      0.35      0.38      1339\\n'\n",
      " ' ENTERTAINMENT       0.73      0.67      0.70      1758\\n'\n",
      " '  QUEER VOICES       0.86      0.90      0.88      7121\\n'\n",
      " '      WELLNESS       0.79      0.69      0.74      1269\\n'\n",
      " '        TRAVEL       0.85      0.84      0.85      1963\\n'\n",
      " '  FOOD & DRINK       0.79      0.77      0.78      1980\\n'\n",
      " '      BUSINESS       0.68      0.74      0.71      3589\\n'\n",
      " '\\n'\n",
      " '      accuracy                           0.77     24958\\n'\n",
      " '     macro avg       0.73      0.70      0.71     24958\\n'\n",
      " '  weighted avg       0.76      0.77      0.76     24958\\n')\n"
     ]
    }
   ],
   "execution_count": 104
  },
  {
   "metadata": {
    "ExecuteTime": {
     "end_time": "2024-10-11T11:30:35.350339Z",
     "start_time": "2024-10-11T11:30:33.884979Z"
    }
   },
   "cell_type": "code",
   "source": [
    "y_pred_lr = rf.predict(x_test_bow)\n",
    "acc = accuracy_score(y_test, y_pred_lr)\n",
    "precision = precision_score(y_test, y_pred_lr, average='weighted')\n",
    "recall = recall_score(y_test, y_pred_lr, average='weighted')\n",
    "f1 = f1_score(y_test, y_pred_lr, average='weighted')\n",
    "\n",
    "acc, precision, recall, f1"
   ],
   "id": "9088fc738117a2b6",
   "outputs": [
    {
     "data": {
      "text/plain": [
       "(0.7246173571600288,\n",
       " np.float64(0.7194341377738263),\n",
       " np.float64(0.7246173571600288),\n",
       " np.float64(0.7177049117729434))"
      ]
     },
     "execution_count": 105,
     "metadata": {},
     "output_type": "execute_result"
    }
   ],
   "execution_count": 105
  },
  {
   "metadata": {
    "ExecuteTime": {
     "end_time": "2024-10-11T11:33:09.709067Z",
     "start_time": "2024-10-11T11:32:16.841993Z"
    }
   },
   "cell_type": "code",
   "source": [
    "from sklearn.model_selection import cross_val_score\n",
    "\n",
    "print(cross_val_score(model, x_train_bow, y_train, cv=3))"
   ],
   "id": "5cb78078b531dfea",
   "outputs": [
    {
     "name": "stderr",
     "output_type": "stream",
     "text": [
      "/home/lcda/miniconda3/envs/tac-hands-on/lib/python3.10/site-packages/sklearn/linear_model/_logistic.py:469: ConvergenceWarning: lbfgs failed to converge (status=1):\n",
      "STOP: TOTAL NO. of ITERATIONS REACHED LIMIT.\n",
      "\n",
      "Increase the number of iterations (max_iter) or scale the data as shown in:\n",
      "    https://scikit-learn.org/stable/modules/preprocessing.html\n",
      "Please also refer to the documentation for alternative solver options:\n",
      "    https://scikit-learn.org/stable/modules/linear_model.html#logistic-regression\n",
      "  n_iter_i = _check_optimize_result(\n",
      "/home/lcda/miniconda3/envs/tac-hands-on/lib/python3.10/site-packages/sklearn/linear_model/_logistic.py:469: ConvergenceWarning: lbfgs failed to converge (status=1):\n",
      "STOP: TOTAL NO. of ITERATIONS REACHED LIMIT.\n",
      "\n",
      "Increase the number of iterations (max_iter) or scale the data as shown in:\n",
      "    https://scikit-learn.org/stable/modules/preprocessing.html\n",
      "Please also refer to the documentation for alternative solver options:\n",
      "    https://scikit-learn.org/stable/modules/linear_model.html#logistic-regression\n",
      "  n_iter_i = _check_optimize_result(\n"
     ]
    },
    {
     "name": "stdout",
     "output_type": "stream",
     "text": [
      "[0.75761036 0.75655127 0.75567977]\n"
     ]
    },
    {
     "name": "stderr",
     "output_type": "stream",
     "text": [
      "/home/lcda/miniconda3/envs/tac-hands-on/lib/python3.10/site-packages/sklearn/linear_model/_logistic.py:469: ConvergenceWarning: lbfgs failed to converge (status=1):\n",
      "STOP: TOTAL NO. of ITERATIONS REACHED LIMIT.\n",
      "\n",
      "Increase the number of iterations (max_iter) or scale the data as shown in:\n",
      "    https://scikit-learn.org/stable/modules/preprocessing.html\n",
      "Please also refer to the documentation for alternative solver options:\n",
      "    https://scikit-learn.org/stable/modules/linear_model.html#logistic-regression\n",
      "  n_iter_i = _check_optimize_result(\n"
     ]
    }
   ],
   "execution_count": 106
  },
  {
   "metadata": {
    "ExecuteTime": {
     "end_time": "2024-10-11T11:35:57.360422Z",
     "start_time": "2024-10-11T11:35:04.675351Z"
    }
   },
   "cell_type": "code",
   "source": [
    "from sklearn.model_selection import cross_val_predict\n",
    "\n",
    "y_pred = cross_val_predict(model, x_train_bow, y_train, cv=3)\n",
    "y_pred"
   ],
   "id": "af2381c68009f1ea",
   "outputs": [
    {
     "name": "stderr",
     "output_type": "stream",
     "text": [
      "/home/lcda/miniconda3/envs/tac-hands-on/lib/python3.10/site-packages/sklearn/linear_model/_logistic.py:469: ConvergenceWarning: lbfgs failed to converge (status=1):\n",
      "STOP: TOTAL NO. of ITERATIONS REACHED LIMIT.\n",
      "\n",
      "Increase the number of iterations (max_iter) or scale the data as shown in:\n",
      "    https://scikit-learn.org/stable/modules/preprocessing.html\n",
      "Please also refer to the documentation for alternative solver options:\n",
      "    https://scikit-learn.org/stable/modules/linear_model.html#logistic-regression\n",
      "  n_iter_i = _check_optimize_result(\n",
      "/home/lcda/miniconda3/envs/tac-hands-on/lib/python3.10/site-packages/sklearn/linear_model/_logistic.py:469: ConvergenceWarning: lbfgs failed to converge (status=1):\n",
      "STOP: TOTAL NO. of ITERATIONS REACHED LIMIT.\n",
      "\n",
      "Increase the number of iterations (max_iter) or scale the data as shown in:\n",
      "    https://scikit-learn.org/stable/modules/preprocessing.html\n",
      "Please also refer to the documentation for alternative solver options:\n",
      "    https://scikit-learn.org/stable/modules/linear_model.html#logistic-regression\n",
      "  n_iter_i = _check_optimize_result(\n",
      "/home/lcda/miniconda3/envs/tac-hands-on/lib/python3.10/site-packages/sklearn/linear_model/_logistic.py:469: ConvergenceWarning: lbfgs failed to converge (status=1):\n",
      "STOP: TOTAL NO. of ITERATIONS REACHED LIMIT.\n",
      "\n",
      "Increase the number of iterations (max_iter) or scale the data as shown in:\n",
      "    https://scikit-learn.org/stable/modules/preprocessing.html\n",
      "Please also refer to the documentation for alternative solver options:\n",
      "    https://scikit-learn.org/stable/modules/linear_model.html#logistic-regression\n",
      "  n_iter_i = _check_optimize_result(\n"
     ]
    },
    {
     "data": {
      "text/plain": [
       "array(['FOOD & DRINK', 'POLITICS', 'HEALTHY LIVING', ..., 'FOOD & DRINK',\n",
       "       'POLITICS', 'POLITICS'], dtype=object)"
      ]
     },
     "execution_count": 108,
     "metadata": {},
     "output_type": "execute_result"
    }
   ],
   "execution_count": 108
  },
  {
   "metadata": {
    "ExecuteTime": {
     "end_time": "2024-10-11T11:37:08.385651Z",
     "start_time": "2024-10-11T11:37:08.382031Z"
    }
   },
   "cell_type": "code",
   "source": "len(y_pred)",
   "id": "ada286ecafabfe72",
   "outputs": [
    {
     "data": {
      "text/plain": [
       "99829"
      ]
     },
     "execution_count": 109,
     "metadata": {},
     "output_type": "execute_result"
    }
   ],
   "execution_count": 109
  },
  {
   "metadata": {
    "ExecuteTime": {
     "end_time": "2024-10-11T11:41:44.042452Z",
     "start_time": "2024-10-11T11:41:29.087573Z"
    }
   },
   "cell_type": "code",
   "source": [
    "from sklearn.model_selection import GridSearchCV\n",
    "\n",
    "model = RandomForestClassifier(random_state=123)\n",
    "params = {'max_depth': [1, 2, 3],\n",
    "          'n_estimators': [100, 200],}\n",
    "\n",
    "gs = GridSearchCV(model, params, cv=3)\n",
    "gs.fit(x_train_bow, y_train)\n"
   ],
   "id": "8f7b27002fdaf136",
   "outputs": [
    {
     "data": {
      "text/plain": [
       "GridSearchCV(cv=3, estimator=RandomForestClassifier(random_state=123),\n",
       "             param_grid={'max_depth': [1, 2, 3], 'n_estimators': [100, 200]})"
      ],
      "text/html": [
       "<style>#sk-container-id-1 {\n",
       "  /* Definition of color scheme common for light and dark mode */\n",
       "  --sklearn-color-text: black;\n",
       "  --sklearn-color-line: gray;\n",
       "  /* Definition of color scheme for unfitted estimators */\n",
       "  --sklearn-color-unfitted-level-0: #fff5e6;\n",
       "  --sklearn-color-unfitted-level-1: #f6e4d2;\n",
       "  --sklearn-color-unfitted-level-2: #ffe0b3;\n",
       "  --sklearn-color-unfitted-level-3: chocolate;\n",
       "  /* Definition of color scheme for fitted estimators */\n",
       "  --sklearn-color-fitted-level-0: #f0f8ff;\n",
       "  --sklearn-color-fitted-level-1: #d4ebff;\n",
       "  --sklearn-color-fitted-level-2: #b3dbfd;\n",
       "  --sklearn-color-fitted-level-3: cornflowerblue;\n",
       "\n",
       "  /* Specific color for light theme */\n",
       "  --sklearn-color-text-on-default-background: var(--sg-text-color, var(--theme-code-foreground, var(--jp-content-font-color1, black)));\n",
       "  --sklearn-color-background: var(--sg-background-color, var(--theme-background, var(--jp-layout-color0, white)));\n",
       "  --sklearn-color-border-box: var(--sg-text-color, var(--theme-code-foreground, var(--jp-content-font-color1, black)));\n",
       "  --sklearn-color-icon: #696969;\n",
       "\n",
       "  @media (prefers-color-scheme: dark) {\n",
       "    /* Redefinition of color scheme for dark theme */\n",
       "    --sklearn-color-text-on-default-background: var(--sg-text-color, var(--theme-code-foreground, var(--jp-content-font-color1, white)));\n",
       "    --sklearn-color-background: var(--sg-background-color, var(--theme-background, var(--jp-layout-color0, #111)));\n",
       "    --sklearn-color-border-box: var(--sg-text-color, var(--theme-code-foreground, var(--jp-content-font-color1, white)));\n",
       "    --sklearn-color-icon: #878787;\n",
       "  }\n",
       "}\n",
       "\n",
       "#sk-container-id-1 {\n",
       "  color: var(--sklearn-color-text);\n",
       "}\n",
       "\n",
       "#sk-container-id-1 pre {\n",
       "  padding: 0;\n",
       "}\n",
       "\n",
       "#sk-container-id-1 input.sk-hidden--visually {\n",
       "  border: 0;\n",
       "  clip: rect(1px 1px 1px 1px);\n",
       "  clip: rect(1px, 1px, 1px, 1px);\n",
       "  height: 1px;\n",
       "  margin: -1px;\n",
       "  overflow: hidden;\n",
       "  padding: 0;\n",
       "  position: absolute;\n",
       "  width: 1px;\n",
       "}\n",
       "\n",
       "#sk-container-id-1 div.sk-dashed-wrapped {\n",
       "  border: 1px dashed var(--sklearn-color-line);\n",
       "  margin: 0 0.4em 0.5em 0.4em;\n",
       "  box-sizing: border-box;\n",
       "  padding-bottom: 0.4em;\n",
       "  background-color: var(--sklearn-color-background);\n",
       "}\n",
       "\n",
       "#sk-container-id-1 div.sk-container {\n",
       "  /* jupyter's `normalize.less` sets `[hidden] { display: none; }`\n",
       "     but bootstrap.min.css set `[hidden] { display: none !important; }`\n",
       "     so we also need the `!important` here to be able to override the\n",
       "     default hidden behavior on the sphinx rendered scikit-learn.org.\n",
       "     See: https://github.com/scikit-learn/scikit-learn/issues/21755 */\n",
       "  display: inline-block !important;\n",
       "  position: relative;\n",
       "}\n",
       "\n",
       "#sk-container-id-1 div.sk-text-repr-fallback {\n",
       "  display: none;\n",
       "}\n",
       "\n",
       "div.sk-parallel-item,\n",
       "div.sk-serial,\n",
       "div.sk-item {\n",
       "  /* draw centered vertical line to link estimators */\n",
       "  background-image: linear-gradient(var(--sklearn-color-text-on-default-background), var(--sklearn-color-text-on-default-background));\n",
       "  background-size: 2px 100%;\n",
       "  background-repeat: no-repeat;\n",
       "  background-position: center center;\n",
       "}\n",
       "\n",
       "/* Parallel-specific style estimator block */\n",
       "\n",
       "#sk-container-id-1 div.sk-parallel-item::after {\n",
       "  content: \"\";\n",
       "  width: 100%;\n",
       "  border-bottom: 2px solid var(--sklearn-color-text-on-default-background);\n",
       "  flex-grow: 1;\n",
       "}\n",
       "\n",
       "#sk-container-id-1 div.sk-parallel {\n",
       "  display: flex;\n",
       "  align-items: stretch;\n",
       "  justify-content: center;\n",
       "  background-color: var(--sklearn-color-background);\n",
       "  position: relative;\n",
       "}\n",
       "\n",
       "#sk-container-id-1 div.sk-parallel-item {\n",
       "  display: flex;\n",
       "  flex-direction: column;\n",
       "}\n",
       "\n",
       "#sk-container-id-1 div.sk-parallel-item:first-child::after {\n",
       "  align-self: flex-end;\n",
       "  width: 50%;\n",
       "}\n",
       "\n",
       "#sk-container-id-1 div.sk-parallel-item:last-child::after {\n",
       "  align-self: flex-start;\n",
       "  width: 50%;\n",
       "}\n",
       "\n",
       "#sk-container-id-1 div.sk-parallel-item:only-child::after {\n",
       "  width: 0;\n",
       "}\n",
       "\n",
       "/* Serial-specific style estimator block */\n",
       "\n",
       "#sk-container-id-1 div.sk-serial {\n",
       "  display: flex;\n",
       "  flex-direction: column;\n",
       "  align-items: center;\n",
       "  background-color: var(--sklearn-color-background);\n",
       "  padding-right: 1em;\n",
       "  padding-left: 1em;\n",
       "}\n",
       "\n",
       "\n",
       "/* Toggleable style: style used for estimator/Pipeline/ColumnTransformer box that is\n",
       "clickable and can be expanded/collapsed.\n",
       "- Pipeline and ColumnTransformer use this feature and define the default style\n",
       "- Estimators will overwrite some part of the style using the `sk-estimator` class\n",
       "*/\n",
       "\n",
       "/* Pipeline and ColumnTransformer style (default) */\n",
       "\n",
       "#sk-container-id-1 div.sk-toggleable {\n",
       "  /* Default theme specific background. It is overwritten whether we have a\n",
       "  specific estimator or a Pipeline/ColumnTransformer */\n",
       "  background-color: var(--sklearn-color-background);\n",
       "}\n",
       "\n",
       "/* Toggleable label */\n",
       "#sk-container-id-1 label.sk-toggleable__label {\n",
       "  cursor: pointer;\n",
       "  display: block;\n",
       "  width: 100%;\n",
       "  margin-bottom: 0;\n",
       "  padding: 0.5em;\n",
       "  box-sizing: border-box;\n",
       "  text-align: center;\n",
       "}\n",
       "\n",
       "#sk-container-id-1 label.sk-toggleable__label-arrow:before {\n",
       "  /* Arrow on the left of the label */\n",
       "  content: \"▸\";\n",
       "  float: left;\n",
       "  margin-right: 0.25em;\n",
       "  color: var(--sklearn-color-icon);\n",
       "}\n",
       "\n",
       "#sk-container-id-1 label.sk-toggleable__label-arrow:hover:before {\n",
       "  color: var(--sklearn-color-text);\n",
       "}\n",
       "\n",
       "/* Toggleable content - dropdown */\n",
       "\n",
       "#sk-container-id-1 div.sk-toggleable__content {\n",
       "  max-height: 0;\n",
       "  max-width: 0;\n",
       "  overflow: hidden;\n",
       "  text-align: left;\n",
       "  /* unfitted */\n",
       "  background-color: var(--sklearn-color-unfitted-level-0);\n",
       "}\n",
       "\n",
       "#sk-container-id-1 div.sk-toggleable__content.fitted {\n",
       "  /* fitted */\n",
       "  background-color: var(--sklearn-color-fitted-level-0);\n",
       "}\n",
       "\n",
       "#sk-container-id-1 div.sk-toggleable__content pre {\n",
       "  margin: 0.2em;\n",
       "  border-radius: 0.25em;\n",
       "  color: var(--sklearn-color-text);\n",
       "  /* unfitted */\n",
       "  background-color: var(--sklearn-color-unfitted-level-0);\n",
       "}\n",
       "\n",
       "#sk-container-id-1 div.sk-toggleable__content.fitted pre {\n",
       "  /* unfitted */\n",
       "  background-color: var(--sklearn-color-fitted-level-0);\n",
       "}\n",
       "\n",
       "#sk-container-id-1 input.sk-toggleable__control:checked~div.sk-toggleable__content {\n",
       "  /* Expand drop-down */\n",
       "  max-height: 200px;\n",
       "  max-width: 100%;\n",
       "  overflow: auto;\n",
       "}\n",
       "\n",
       "#sk-container-id-1 input.sk-toggleable__control:checked~label.sk-toggleable__label-arrow:before {\n",
       "  content: \"▾\";\n",
       "}\n",
       "\n",
       "/* Pipeline/ColumnTransformer-specific style */\n",
       "\n",
       "#sk-container-id-1 div.sk-label input.sk-toggleable__control:checked~label.sk-toggleable__label {\n",
       "  color: var(--sklearn-color-text);\n",
       "  background-color: var(--sklearn-color-unfitted-level-2);\n",
       "}\n",
       "\n",
       "#sk-container-id-1 div.sk-label.fitted input.sk-toggleable__control:checked~label.sk-toggleable__label {\n",
       "  background-color: var(--sklearn-color-fitted-level-2);\n",
       "}\n",
       "\n",
       "/* Estimator-specific style */\n",
       "\n",
       "/* Colorize estimator box */\n",
       "#sk-container-id-1 div.sk-estimator input.sk-toggleable__control:checked~label.sk-toggleable__label {\n",
       "  /* unfitted */\n",
       "  background-color: var(--sklearn-color-unfitted-level-2);\n",
       "}\n",
       "\n",
       "#sk-container-id-1 div.sk-estimator.fitted input.sk-toggleable__control:checked~label.sk-toggleable__label {\n",
       "  /* fitted */\n",
       "  background-color: var(--sklearn-color-fitted-level-2);\n",
       "}\n",
       "\n",
       "#sk-container-id-1 div.sk-label label.sk-toggleable__label,\n",
       "#sk-container-id-1 div.sk-label label {\n",
       "  /* The background is the default theme color */\n",
       "  color: var(--sklearn-color-text-on-default-background);\n",
       "}\n",
       "\n",
       "/* On hover, darken the color of the background */\n",
       "#sk-container-id-1 div.sk-label:hover label.sk-toggleable__label {\n",
       "  color: var(--sklearn-color-text);\n",
       "  background-color: var(--sklearn-color-unfitted-level-2);\n",
       "}\n",
       "\n",
       "/* Label box, darken color on hover, fitted */\n",
       "#sk-container-id-1 div.sk-label.fitted:hover label.sk-toggleable__label.fitted {\n",
       "  color: var(--sklearn-color-text);\n",
       "  background-color: var(--sklearn-color-fitted-level-2);\n",
       "}\n",
       "\n",
       "/* Estimator label */\n",
       "\n",
       "#sk-container-id-1 div.sk-label label {\n",
       "  font-family: monospace;\n",
       "  font-weight: bold;\n",
       "  display: inline-block;\n",
       "  line-height: 1.2em;\n",
       "}\n",
       "\n",
       "#sk-container-id-1 div.sk-label-container {\n",
       "  text-align: center;\n",
       "}\n",
       "\n",
       "/* Estimator-specific */\n",
       "#sk-container-id-1 div.sk-estimator {\n",
       "  font-family: monospace;\n",
       "  border: 1px dotted var(--sklearn-color-border-box);\n",
       "  border-radius: 0.25em;\n",
       "  box-sizing: border-box;\n",
       "  margin-bottom: 0.5em;\n",
       "  /* unfitted */\n",
       "  background-color: var(--sklearn-color-unfitted-level-0);\n",
       "}\n",
       "\n",
       "#sk-container-id-1 div.sk-estimator.fitted {\n",
       "  /* fitted */\n",
       "  background-color: var(--sklearn-color-fitted-level-0);\n",
       "}\n",
       "\n",
       "/* on hover */\n",
       "#sk-container-id-1 div.sk-estimator:hover {\n",
       "  /* unfitted */\n",
       "  background-color: var(--sklearn-color-unfitted-level-2);\n",
       "}\n",
       "\n",
       "#sk-container-id-1 div.sk-estimator.fitted:hover {\n",
       "  /* fitted */\n",
       "  background-color: var(--sklearn-color-fitted-level-2);\n",
       "}\n",
       "\n",
       "/* Specification for estimator info (e.g. \"i\" and \"?\") */\n",
       "\n",
       "/* Common style for \"i\" and \"?\" */\n",
       "\n",
       ".sk-estimator-doc-link,\n",
       "a:link.sk-estimator-doc-link,\n",
       "a:visited.sk-estimator-doc-link {\n",
       "  float: right;\n",
       "  font-size: smaller;\n",
       "  line-height: 1em;\n",
       "  font-family: monospace;\n",
       "  background-color: var(--sklearn-color-background);\n",
       "  border-radius: 1em;\n",
       "  height: 1em;\n",
       "  width: 1em;\n",
       "  text-decoration: none !important;\n",
       "  margin-left: 1ex;\n",
       "  /* unfitted */\n",
       "  border: var(--sklearn-color-unfitted-level-1) 1pt solid;\n",
       "  color: var(--sklearn-color-unfitted-level-1);\n",
       "}\n",
       "\n",
       ".sk-estimator-doc-link.fitted,\n",
       "a:link.sk-estimator-doc-link.fitted,\n",
       "a:visited.sk-estimator-doc-link.fitted {\n",
       "  /* fitted */\n",
       "  border: var(--sklearn-color-fitted-level-1) 1pt solid;\n",
       "  color: var(--sklearn-color-fitted-level-1);\n",
       "}\n",
       "\n",
       "/* On hover */\n",
       "div.sk-estimator:hover .sk-estimator-doc-link:hover,\n",
       ".sk-estimator-doc-link:hover,\n",
       "div.sk-label-container:hover .sk-estimator-doc-link:hover,\n",
       ".sk-estimator-doc-link:hover {\n",
       "  /* unfitted */\n",
       "  background-color: var(--sklearn-color-unfitted-level-3);\n",
       "  color: var(--sklearn-color-background);\n",
       "  text-decoration: none;\n",
       "}\n",
       "\n",
       "div.sk-estimator.fitted:hover .sk-estimator-doc-link.fitted:hover,\n",
       ".sk-estimator-doc-link.fitted:hover,\n",
       "div.sk-label-container:hover .sk-estimator-doc-link.fitted:hover,\n",
       ".sk-estimator-doc-link.fitted:hover {\n",
       "  /* fitted */\n",
       "  background-color: var(--sklearn-color-fitted-level-3);\n",
       "  color: var(--sklearn-color-background);\n",
       "  text-decoration: none;\n",
       "}\n",
       "\n",
       "/* Span, style for the box shown on hovering the info icon */\n",
       ".sk-estimator-doc-link span {\n",
       "  display: none;\n",
       "  z-index: 9999;\n",
       "  position: relative;\n",
       "  font-weight: normal;\n",
       "  right: .2ex;\n",
       "  padding: .5ex;\n",
       "  margin: .5ex;\n",
       "  width: min-content;\n",
       "  min-width: 20ex;\n",
       "  max-width: 50ex;\n",
       "  color: var(--sklearn-color-text);\n",
       "  box-shadow: 2pt 2pt 4pt #999;\n",
       "  /* unfitted */\n",
       "  background: var(--sklearn-color-unfitted-level-0);\n",
       "  border: .5pt solid var(--sklearn-color-unfitted-level-3);\n",
       "}\n",
       "\n",
       ".sk-estimator-doc-link.fitted span {\n",
       "  /* fitted */\n",
       "  background: var(--sklearn-color-fitted-level-0);\n",
       "  border: var(--sklearn-color-fitted-level-3);\n",
       "}\n",
       "\n",
       ".sk-estimator-doc-link:hover span {\n",
       "  display: block;\n",
       "}\n",
       "\n",
       "/* \"?\"-specific style due to the `<a>` HTML tag */\n",
       "\n",
       "#sk-container-id-1 a.estimator_doc_link {\n",
       "  float: right;\n",
       "  font-size: 1rem;\n",
       "  line-height: 1em;\n",
       "  font-family: monospace;\n",
       "  background-color: var(--sklearn-color-background);\n",
       "  border-radius: 1rem;\n",
       "  height: 1rem;\n",
       "  width: 1rem;\n",
       "  text-decoration: none;\n",
       "  /* unfitted */\n",
       "  color: var(--sklearn-color-unfitted-level-1);\n",
       "  border: var(--sklearn-color-unfitted-level-1) 1pt solid;\n",
       "}\n",
       "\n",
       "#sk-container-id-1 a.estimator_doc_link.fitted {\n",
       "  /* fitted */\n",
       "  border: var(--sklearn-color-fitted-level-1) 1pt solid;\n",
       "  color: var(--sklearn-color-fitted-level-1);\n",
       "}\n",
       "\n",
       "/* On hover */\n",
       "#sk-container-id-1 a.estimator_doc_link:hover {\n",
       "  /* unfitted */\n",
       "  background-color: var(--sklearn-color-unfitted-level-3);\n",
       "  color: var(--sklearn-color-background);\n",
       "  text-decoration: none;\n",
       "}\n",
       "\n",
       "#sk-container-id-1 a.estimator_doc_link.fitted:hover {\n",
       "  /* fitted */\n",
       "  background-color: var(--sklearn-color-fitted-level-3);\n",
       "}\n",
       "</style><div id=\"sk-container-id-1\" class=\"sk-top-container\"><div class=\"sk-text-repr-fallback\"><pre>GridSearchCV(cv=3, estimator=RandomForestClassifier(random_state=123),\n",
       "             param_grid={&#x27;max_depth&#x27;: [1, 2, 3], &#x27;n_estimators&#x27;: [100, 200]})</pre><b>In a Jupyter environment, please rerun this cell to show the HTML representation or trust the notebook. <br />On GitHub, the HTML representation is unable to render, please try loading this page with nbviewer.org.</b></div><div class=\"sk-container\" hidden><div class=\"sk-item sk-dashed-wrapped\"><div class=\"sk-label-container\"><div class=\"sk-label fitted sk-toggleable\"><input class=\"sk-toggleable__control sk-hidden--visually\" id=\"sk-estimator-id-1\" type=\"checkbox\" ><label for=\"sk-estimator-id-1\" class=\"sk-toggleable__label fitted sk-toggleable__label-arrow fitted\">&nbsp;&nbsp;GridSearchCV<a class=\"sk-estimator-doc-link fitted\" rel=\"noreferrer\" target=\"_blank\" href=\"https://scikit-learn.org/1.5/modules/generated/sklearn.model_selection.GridSearchCV.html\">?<span>Documentation for GridSearchCV</span></a><span class=\"sk-estimator-doc-link fitted\">i<span>Fitted</span></span></label><div class=\"sk-toggleable__content fitted\"><pre>GridSearchCV(cv=3, estimator=RandomForestClassifier(random_state=123),\n",
       "             param_grid={&#x27;max_depth&#x27;: [1, 2, 3], &#x27;n_estimators&#x27;: [100, 200]})</pre></div> </div></div><div class=\"sk-parallel\"><div class=\"sk-parallel-item\"><div class=\"sk-item\"><div class=\"sk-label-container\"><div class=\"sk-label fitted sk-toggleable\"><input class=\"sk-toggleable__control sk-hidden--visually\" id=\"sk-estimator-id-2\" type=\"checkbox\" ><label for=\"sk-estimator-id-2\" class=\"sk-toggleable__label fitted sk-toggleable__label-arrow fitted\">best_estimator_: RandomForestClassifier</label><div class=\"sk-toggleable__content fitted\"><pre>RandomForestClassifier(max_depth=3, n_estimators=200, random_state=123)</pre></div> </div></div><div class=\"sk-serial\"><div class=\"sk-item\"><div class=\"sk-estimator fitted sk-toggleable\"><input class=\"sk-toggleable__control sk-hidden--visually\" id=\"sk-estimator-id-3\" type=\"checkbox\" ><label for=\"sk-estimator-id-3\" class=\"sk-toggleable__label fitted sk-toggleable__label-arrow fitted\">&nbsp;RandomForestClassifier<a class=\"sk-estimator-doc-link fitted\" rel=\"noreferrer\" target=\"_blank\" href=\"https://scikit-learn.org/1.5/modules/generated/sklearn.ensemble.RandomForestClassifier.html\">?<span>Documentation for RandomForestClassifier</span></a></label><div class=\"sk-toggleable__content fitted\"><pre>RandomForestClassifier(max_depth=3, n_estimators=200, random_state=123)</pre></div> </div></div></div></div></div></div></div></div></div>"
      ]
     },
     "execution_count": 110,
     "metadata": {},
     "output_type": "execute_result"
    }
   ],
   "execution_count": 110
  },
  {
   "metadata": {
    "ExecuteTime": {
     "end_time": "2024-10-11T11:42:05.953622Z",
     "start_time": "2024-10-11T11:42:05.943533Z"
    }
   },
   "cell_type": "code",
   "source": "gs.cv_results_",
   "id": "c73ebc5b6e7d4dff",
   "outputs": [
    {
     "data": {
      "text/plain": [
       "{'mean_fit_time': array([0.41446098, 0.71715879, 0.42199524, 0.7707773 , 0.44611176,\n",
       "        0.82662892]),\n",
       " 'std_fit_time': array([0.01708373, 0.02999938, 0.01260252, 0.02800989, 0.01484968,\n",
       "        0.02939055]),\n",
       " 'mean_score_time': array([0.12853416, 0.20716453, 0.11685069, 0.21443089, 0.11911869,\n",
       "        0.20820268]),\n",
       " 'std_score_time': array([0.01842562, 0.00986269, 0.00030928, 0.01497384, 0.00031958,\n",
       "        0.00047139]),\n",
       " 'param_max_depth': masked_array(data=[1, 1, 2, 2, 3, 3],\n",
       "              mask=[False, False, False, False, False, False],\n",
       "        fill_value=999999),\n",
       " 'param_n_estimators': masked_array(data=[100, 200, 100, 200, 100, 200],\n",
       "              mask=[False, False, False, False, False, False],\n",
       "        fill_value=999999),\n",
       " 'params': [{'max_depth': 1, 'n_estimators': 100},\n",
       "  {'max_depth': 1, 'n_estimators': 200},\n",
       "  {'max_depth': 2, 'n_estimators': 100},\n",
       "  {'max_depth': 2, 'n_estimators': 200},\n",
       "  {'max_depth': 3, 'n_estimators': 100},\n",
       "  {'max_depth': 3, 'n_estimators': 200}],\n",
       " 'split0_test_score': array([0.28530216, 0.28530216, 0.28695495, 0.28557262, 0.29011029,\n",
       "        0.29026054]),\n",
       " 'split1_test_score': array([0.28528068, 0.28528068, 0.28735425, 0.28546099, 0.29029931,\n",
       "        0.28978844]),\n",
       " 'split2_test_score': array([0.28531073, 0.28531073, 0.28660296, 0.2855812 , 0.28990864,\n",
       "        0.29047962]),\n",
       " 'mean_test_score': array([0.28529786, 0.28529786, 0.28697072, 0.28553827, 0.29010608,\n",
       "        0.2901762 ]),\n",
       " 'std_test_score': array([1.26399431e-05, 1.26399431e-05, 3.06916309e-04, 5.47554293e-05,\n",
       "        1.59518872e-04, 2.88409909e-04]),\n",
       " 'rank_test_score': array([5, 5, 3, 4, 2, 1], dtype=int32)}"
      ]
     },
     "execution_count": 111,
     "metadata": {},
     "output_type": "execute_result"
    }
   ],
   "execution_count": 111
  },
  {
   "metadata": {
    "ExecuteTime": {
     "end_time": "2024-10-11T11:42:57.034377Z",
     "start_time": "2024-10-11T11:42:57.028887Z"
    }
   },
   "cell_type": "code",
   "source": "gs.best_params_",
   "id": "6cb1f2234be4685",
   "outputs": [
    {
     "data": {
      "text/plain": [
       "{'max_depth': 3, 'n_estimators': 200}"
      ]
     },
     "execution_count": 112,
     "metadata": {},
     "output_type": "execute_result"
    }
   ],
   "execution_count": 112
  },
  {
   "metadata": {
    "ExecuteTime": {
     "end_time": "2024-10-11T11:43:03.035565Z",
     "start_time": "2024-10-11T11:43:03.032177Z"
    }
   },
   "cell_type": "code",
   "source": "gs.best_score_",
   "id": "2fbc621f7013b037",
   "outputs": [
    {
     "data": {
      "text/plain": [
       "np.float64(0.290176200459387)"
      ]
     },
     "execution_count": 113,
     "metadata": {},
     "output_type": "execute_result"
    }
   ],
   "execution_count": 113
  },
  {
   "metadata": {},
   "cell_type": "code",
   "outputs": [],
   "execution_count": null,
   "source": "model = RandomForestClassifier(**gs.best_params_).fit(x_train_bow, y_train)",
   "id": "55a1f2813ecb18f4"
  }
 ],
 "metadata": {
  "kernelspec": {
   "display_name": "Python 3",
   "language": "python",
   "name": "python3"
  },
  "language_info": {
   "codemirror_mode": {
    "name": "ipython",
    "version": 2
   },
   "file_extension": ".py",
   "mimetype": "text/x-python",
   "name": "python",
   "nbconvert_exporter": "python",
   "pygments_lexer": "ipython2",
   "version": "2.7.6"
  }
 },
 "nbformat": 4,
 "nbformat_minor": 5
}
