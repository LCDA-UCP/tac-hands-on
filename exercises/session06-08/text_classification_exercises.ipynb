{
 "cells": [
  {
   "metadata": {},
   "cell_type": "markdown",
   "source": "# Text Classification Exercises",
   "id": "5455135070daf480"
  },
  {
   "metadata": {},
   "cell_type": "markdown",
   "source": [
    "## Exercise 1: Dataset Exploration\n",
    "\n",
    "**Objective**: Familiarize yourself with the dataset.\n",
    "\n",
    "1. Load the **News Category Dataset** (News_Category_Dataset_v3.json), which contains approximately 210,000 news headlines from 2012 to 2022. **Hint: read the file with Python, parse it with the json library and convert it to a pandas DataFrame.** **Note: you need to extract the file from the zip archive before loading it.**\n",
    "2. Identify the target label.\n",
    "3. Which features do you find relevant for the classification task?\n",
    "4. Perform exploratory data analysis (EDA):\n",
    "   - Check for any missing values.\n",
    "   - Visualize the distribution of categories.\n"
   ],
   "id": "f6a004ba75b584a4"
  },
  {
   "metadata": {
    "ExecuteTime": {
     "end_time": "2024-10-11T11:20:51.585322Z",
     "start_time": "2024-10-11T11:20:48.054704Z"
    }
   },
   "cell_type": "code",
   "source": [
    "import json\n",
    "\n",
    "import matplotlib.pyplot as plt\n",
    "import pandas as pd\n",
    "from nltk import WordNetLemmatizer\n",
    "\n",
    "with open('../../data/News_Category_Dataset_v3.json', 'r') as f:\n",
    "    data = f.read()\n",
    "data_json =  [json.loads(line) for line in data.split('\\n') if line][:1000]\n",
    "df = pd.DataFrame(data_json)\n",
    "df.head()"
   ],
   "id": "f0ae9fc46f891e20",
   "outputs": [
    {
     "data": {
      "text/plain": [
       "                                                link  \\\n",
       "0  https://www.huffpost.com/entry/covid-boosters-...   \n",
       "1  https://www.huffpost.com/entry/american-airlin...   \n",
       "2  https://www.huffpost.com/entry/funniest-tweets...   \n",
       "3  https://www.huffpost.com/entry/funniest-parent...   \n",
       "4  https://www.huffpost.com/entry/amy-cooper-lose...   \n",
       "\n",
       "                                            headline   category  \\\n",
       "0  Over 4 Million Americans Roll Up Sleeves For O...  U.S. NEWS   \n",
       "1  American Airlines Flyer Charged, Banned For Li...  U.S. NEWS   \n",
       "2  23 Of The Funniest Tweets About Cats And Dogs ...     COMEDY   \n",
       "3  The Funniest Tweets From Parents This Week (Se...  PARENTING   \n",
       "4  Woman Who Called Cops On Black Bird-Watcher Lo...  U.S. NEWS   \n",
       "\n",
       "                                   short_description               authors  \\\n",
       "0  Health experts said it is too early to predict...  Carla K. Johnson, AP   \n",
       "1  He was subdued by passengers and crew when he ...        Mary Papenfuss   \n",
       "2  \"Until you have a dog you don't understand wha...         Elyse Wanshel   \n",
       "3  \"Accidentally put grown-up toothpaste on my to...      Caroline Bologna   \n",
       "4  Amy Cooper accused investment firm Franklin Te...        Nina Golgowski   \n",
       "\n",
       "         date  \n",
       "0  2022-09-23  \n",
       "1  2022-09-23  \n",
       "2  2022-09-23  \n",
       "3  2022-09-23  \n",
       "4  2022-09-22  "
      ],
      "text/html": [
       "<div>\n",
       "<style scoped>\n",
       "    .dataframe tbody tr th:only-of-type {\n",
       "        vertical-align: middle;\n",
       "    }\n",
       "\n",
       "    .dataframe tbody tr th {\n",
       "        vertical-align: top;\n",
       "    }\n",
       "\n",
       "    .dataframe thead th {\n",
       "        text-align: right;\n",
       "    }\n",
       "</style>\n",
       "<table border=\"1\" class=\"dataframe\">\n",
       "  <thead>\n",
       "    <tr style=\"text-align: right;\">\n",
       "      <th></th>\n",
       "      <th>link</th>\n",
       "      <th>headline</th>\n",
       "      <th>category</th>\n",
       "      <th>short_description</th>\n",
       "      <th>authors</th>\n",
       "      <th>date</th>\n",
       "    </tr>\n",
       "  </thead>\n",
       "  <tbody>\n",
       "    <tr>\n",
       "      <th>0</th>\n",
       "      <td>https://www.huffpost.com/entry/covid-boosters-...</td>\n",
       "      <td>Over 4 Million Americans Roll Up Sleeves For O...</td>\n",
       "      <td>U.S. NEWS</td>\n",
       "      <td>Health experts said it is too early to predict...</td>\n",
       "      <td>Carla K. Johnson, AP</td>\n",
       "      <td>2022-09-23</td>\n",
       "    </tr>\n",
       "    <tr>\n",
       "      <th>1</th>\n",
       "      <td>https://www.huffpost.com/entry/american-airlin...</td>\n",
       "      <td>American Airlines Flyer Charged, Banned For Li...</td>\n",
       "      <td>U.S. NEWS</td>\n",
       "      <td>He was subdued by passengers and crew when he ...</td>\n",
       "      <td>Mary Papenfuss</td>\n",
       "      <td>2022-09-23</td>\n",
       "    </tr>\n",
       "    <tr>\n",
       "      <th>2</th>\n",
       "      <td>https://www.huffpost.com/entry/funniest-tweets...</td>\n",
       "      <td>23 Of The Funniest Tweets About Cats And Dogs ...</td>\n",
       "      <td>COMEDY</td>\n",
       "      <td>\"Until you have a dog you don't understand wha...</td>\n",
       "      <td>Elyse Wanshel</td>\n",
       "      <td>2022-09-23</td>\n",
       "    </tr>\n",
       "    <tr>\n",
       "      <th>3</th>\n",
       "      <td>https://www.huffpost.com/entry/funniest-parent...</td>\n",
       "      <td>The Funniest Tweets From Parents This Week (Se...</td>\n",
       "      <td>PARENTING</td>\n",
       "      <td>\"Accidentally put grown-up toothpaste on my to...</td>\n",
       "      <td>Caroline Bologna</td>\n",
       "      <td>2022-09-23</td>\n",
       "    </tr>\n",
       "    <tr>\n",
       "      <th>4</th>\n",
       "      <td>https://www.huffpost.com/entry/amy-cooper-lose...</td>\n",
       "      <td>Woman Who Called Cops On Black Bird-Watcher Lo...</td>\n",
       "      <td>U.S. NEWS</td>\n",
       "      <td>Amy Cooper accused investment firm Franklin Te...</td>\n",
       "      <td>Nina Golgowski</td>\n",
       "      <td>2022-09-22</td>\n",
       "    </tr>\n",
       "  </tbody>\n",
       "</table>\n",
       "</div>"
      ]
     },
     "execution_count": 43,
     "metadata": {},
     "output_type": "execute_result"
    }
   ],
   "execution_count": 43
  },
  {
   "metadata": {
    "ExecuteTime": {
     "end_time": "2024-10-11T11:20:51.616897Z",
     "start_time": "2024-10-11T11:20:51.588669Z"
    }
   },
   "cell_type": "code",
   "source": [
    "top10 = df['category'].value_counts().nlargest(10)\n",
    "top10 = top10.index\n",
    "df_i = df[df['category'].isin(top10)]"
   ],
   "id": "a982935caba9f460",
   "outputs": [],
   "execution_count": 44
  },
  {
   "metadata": {
    "ExecuteTime": {
     "end_time": "2024-10-11T11:20:51.648540Z",
     "start_time": "2024-10-11T11:20:51.616897Z"
    }
   },
   "cell_type": "code",
   "source": "df_i.head()",
   "id": "96481d1100210e87",
   "outputs": [
    {
     "data": {
      "text/plain": [
       "                                                link  \\\n",
       "0  https://www.huffpost.com/entry/covid-boosters-...   \n",
       "1  https://www.huffpost.com/entry/american-airlin...   \n",
       "3  https://www.huffpost.com/entry/funniest-parent...   \n",
       "4  https://www.huffpost.com/entry/amy-cooper-lose...   \n",
       "5  https://www.huffpost.com/entry/belk-worker-fou...   \n",
       "\n",
       "                                            headline   category  \\\n",
       "0  Over 4 Million Americans Roll Up Sleeves For O...  U.S. NEWS   \n",
       "1  American Airlines Flyer Charged, Banned For Li...  U.S. NEWS   \n",
       "3  The Funniest Tweets From Parents This Week (Se...  PARENTING   \n",
       "4  Woman Who Called Cops On Black Bird-Watcher Lo...  U.S. NEWS   \n",
       "5  Cleaner Was Dead In Belk Bathroom For 4 Days B...  U.S. NEWS   \n",
       "\n",
       "                                   short_description               authors  \\\n",
       "0  Health experts said it is too early to predict...  Carla K. Johnson, AP   \n",
       "1  He was subdued by passengers and crew when he ...        Mary Papenfuss   \n",
       "3  \"Accidentally put grown-up toothpaste on my to...      Caroline Bologna   \n",
       "4  Amy Cooper accused investment firm Franklin Te...        Nina Golgowski   \n",
       "5  The 63-year-old woman was seen working at the ...                         \n",
       "\n",
       "         date  \n",
       "0  2022-09-23  \n",
       "1  2022-09-23  \n",
       "3  2022-09-23  \n",
       "4  2022-09-22  \n",
       "5  2022-09-22  "
      ],
      "text/html": [
       "<div>\n",
       "<style scoped>\n",
       "    .dataframe tbody tr th:only-of-type {\n",
       "        vertical-align: middle;\n",
       "    }\n",
       "\n",
       "    .dataframe tbody tr th {\n",
       "        vertical-align: top;\n",
       "    }\n",
       "\n",
       "    .dataframe thead th {\n",
       "        text-align: right;\n",
       "    }\n",
       "</style>\n",
       "<table border=\"1\" class=\"dataframe\">\n",
       "  <thead>\n",
       "    <tr style=\"text-align: right;\">\n",
       "      <th></th>\n",
       "      <th>link</th>\n",
       "      <th>headline</th>\n",
       "      <th>category</th>\n",
       "      <th>short_description</th>\n",
       "      <th>authors</th>\n",
       "      <th>date</th>\n",
       "    </tr>\n",
       "  </thead>\n",
       "  <tbody>\n",
       "    <tr>\n",
       "      <th>0</th>\n",
       "      <td>https://www.huffpost.com/entry/covid-boosters-...</td>\n",
       "      <td>Over 4 Million Americans Roll Up Sleeves For O...</td>\n",
       "      <td>U.S. NEWS</td>\n",
       "      <td>Health experts said it is too early to predict...</td>\n",
       "      <td>Carla K. Johnson, AP</td>\n",
       "      <td>2022-09-23</td>\n",
       "    </tr>\n",
       "    <tr>\n",
       "      <th>1</th>\n",
       "      <td>https://www.huffpost.com/entry/american-airlin...</td>\n",
       "      <td>American Airlines Flyer Charged, Banned For Li...</td>\n",
       "      <td>U.S. NEWS</td>\n",
       "      <td>He was subdued by passengers and crew when he ...</td>\n",
       "      <td>Mary Papenfuss</td>\n",
       "      <td>2022-09-23</td>\n",
       "    </tr>\n",
       "    <tr>\n",
       "      <th>3</th>\n",
       "      <td>https://www.huffpost.com/entry/funniest-parent...</td>\n",
       "      <td>The Funniest Tweets From Parents This Week (Se...</td>\n",
       "      <td>PARENTING</td>\n",
       "      <td>\"Accidentally put grown-up toothpaste on my to...</td>\n",
       "      <td>Caroline Bologna</td>\n",
       "      <td>2022-09-23</td>\n",
       "    </tr>\n",
       "    <tr>\n",
       "      <th>4</th>\n",
       "      <td>https://www.huffpost.com/entry/amy-cooper-lose...</td>\n",
       "      <td>Woman Who Called Cops On Black Bird-Watcher Lo...</td>\n",
       "      <td>U.S. NEWS</td>\n",
       "      <td>Amy Cooper accused investment firm Franklin Te...</td>\n",
       "      <td>Nina Golgowski</td>\n",
       "      <td>2022-09-22</td>\n",
       "    </tr>\n",
       "    <tr>\n",
       "      <th>5</th>\n",
       "      <td>https://www.huffpost.com/entry/belk-worker-fou...</td>\n",
       "      <td>Cleaner Was Dead In Belk Bathroom For 4 Days B...</td>\n",
       "      <td>U.S. NEWS</td>\n",
       "      <td>The 63-year-old woman was seen working at the ...</td>\n",
       "      <td></td>\n",
       "      <td>2022-09-22</td>\n",
       "    </tr>\n",
       "  </tbody>\n",
       "</table>\n",
       "</div>"
      ]
     },
     "execution_count": 45,
     "metadata": {},
     "output_type": "execute_result"
    }
   ],
   "execution_count": 45
  },
  {
   "metadata": {},
   "cell_type": "markdown",
   "source": [
    "## Exercise 2: Text Preprocessing\n",
    "\n",
    "**Objective**: Prepare the text data for classification tasks.\n",
    "\n",
    "1. Preprocess the \"headline\" and \"short_description\" fields by performing the following steps:\n",
    "   - Convert all text to lowercase.\n",
    "   - Remove punctuation, digits, and any other irrelevant characters.\n",
    "   - Remove stop words.\n",
    "   - Apply either stemming or lemmatization.\n",
    "2. Observe how the data changes at each step of preprocessing.\n",
    "3. Create a new column that concatenates the processed \"headline\" and \"short_description\" fields."
   ],
   "id": "190f3e008f235d44"
  },
  {
   "metadata": {
    "ExecuteTime": {
     "end_time": "2024-10-11T11:20:51.679990Z",
     "start_time": "2024-10-11T11:20:51.648540Z"
    }
   },
   "cell_type": "code",
   "source": [
    "import re \n",
    "import string\n",
    "from nltk.corpus import stopwords\n",
    "import nltk\n",
    "from nltk.stem import PorterStemmer, WordNetLemmatizer\n",
    "nltk.download('stopwords')\n",
    "nltk.download('wordnet')\n",
    "\n",
    "def process_text(text):\n",
    "    text = text.lower()\n",
    "    text = re.sub(r'https\\S+', ' ',text)\n",
    "    text = re.sub(r\"\\d\",\" \",text)\n",
    "    punct = string.punctuation\n",
    "    text = text.replace(punct,\"\")\n",
    "    text = re.sub(r\"\\W\",\" \",text)\n",
    "    return \" \".join(text.split())\n",
    "\n",
    "def eliminate_stop_words(text):\n",
    "    stop_words = set(stopwords.words('english'))\n",
    "    words = text.split()\n",
    "    \"\"\"for word in words:\n",
    "        if word in stop_words:\n",
    "            words.remove(word) OU\"\"\"\n",
    "    words = [word for word in words if word not in stop_words]\n",
    "    return \" \".join(words)\n",
    "\n",
    "def apply_stemming(text):\n",
    "    stemmer = PorterStemmer()\n",
    "    words = text.split()\n",
    "    words = [stemmer.stem(word) for word in words]\n",
    "    return \" \".join(words)\n",
    "\n",
    "def apply_lemmatization(text):\n",
    "    lemmatizer = WordNetLemmatizer()\n",
    "    words = text.split()\n",
    "    words = [lemmatizer.lemmatize(word) for word in words]\n",
    "    return \" \".join(words)\n",
    "\n",
    "def process_and_clean(text):\n",
    "    text = process_text(text)\n",
    "    text = eliminate_stop_words(text)\n",
    "    text = apply_stemming(text)\n",
    "    return text"
   ],
   "id": "35eabf9cfd8d3e6a",
   "outputs": [
    {
     "name": "stderr",
     "output_type": "stream",
     "text": [
      "[nltk_data] Downloading package stopwords to\n",
      "[nltk_data]     C:\\Users\\Francisco\\AppData\\Roaming\\nltk_data...\n",
      "[nltk_data]   Package stopwords is already up-to-date!\n",
      "[nltk_data] Downloading package wordnet to\n",
      "[nltk_data]     C:\\Users\\Francisco\\AppData\\Roaming\\nltk_data...\n",
      "[nltk_data]   Package wordnet is already up-to-date!\n"
     ]
    }
   ],
   "execution_count": 46
  },
  {
   "metadata": {
    "ExecuteTime": {
     "end_time": "2024-10-11T11:20:51.711125Z",
     "start_time": "2024-10-11T11:20:51.684509Z"
    }
   },
   "cell_type": "code",
   "source": [
    "print(df_i.iloc[0]['headline'])\n",
    "iter1 = process_text(df_i.iloc[0]['headline'])\n",
    "iter1"
   ],
   "id": "f71aae3c9796fbb6",
   "outputs": [
    {
     "name": "stdout",
     "output_type": "stream",
     "text": [
      "Over 4 Million Americans Roll Up Sleeves For Omicron-Targeted COVID Boosters\n"
     ]
    },
    {
     "data": {
      "text/plain": [
       "'over million americans roll up sleeves for omicron targeted covid boosters'"
      ]
     },
     "execution_count": 47,
     "metadata": {},
     "output_type": "execute_result"
    }
   ],
   "execution_count": 47
  },
  {
   "metadata": {
    "ExecuteTime": {
     "end_time": "2024-10-11T11:20:52.044722Z",
     "start_time": "2024-10-11T11:20:52.017026Z"
    }
   },
   "cell_type": "code",
   "source": [
    "iter2 = eliminate_stop_words(iter1)\n",
    "iter2"
   ],
   "id": "265b954a3e4fbb7e",
   "outputs": [
    {
     "data": {
      "text/plain": [
       "'million americans roll sleeves omicron targeted covid boosters'"
      ]
     },
     "execution_count": 48,
     "metadata": {},
     "output_type": "execute_result"
    }
   ],
   "execution_count": 48
  },
  {
   "metadata": {
    "ExecuteTime": {
     "end_time": "2024-10-11T11:20:52.515392Z",
     "start_time": "2024-10-11T11:20:52.485645Z"
    }
   },
   "cell_type": "code",
   "source": [
    "iter3 = apply_stemming(iter2)\n",
    "iter3"
   ],
   "id": "fff8cf32ab5318e7",
   "outputs": [
    {
     "data": {
      "text/plain": [
       "'million american roll sleev omicron target covid booster'"
      ]
     },
     "execution_count": 49,
     "metadata": {},
     "output_type": "execute_result"
    }
   ],
   "execution_count": 49
  },
  {
   "metadata": {
    "ExecuteTime": {
     "end_time": "2024-10-11T11:20:53.289700Z",
     "start_time": "2024-10-11T11:20:53.266192Z"
    }
   },
   "cell_type": "code",
   "source": [
    "iter4 = apply_lemmatization(iter2)\n",
    "iter4"
   ],
   "id": "78adae687691a5b9",
   "outputs": [
    {
     "data": {
      "text/plain": [
       "'million american roll sleeve omicron targeted covid booster'"
      ]
     },
     "execution_count": 50,
     "metadata": {},
     "output_type": "execute_result"
    }
   ],
   "execution_count": 50
  },
  {
   "metadata": {
    "ExecuteTime": {
     "end_time": "2024-10-11T11:20:55.037879Z",
     "start_time": "2024-10-11T11:20:55.008810Z"
    }
   },
   "cell_type": "code",
   "source": "df_i['text'] = df_i['headline'] + df_i['short_description']",
   "id": "388abf962618455b",
   "outputs": [
    {
     "name": "stderr",
     "output_type": "stream",
     "text": [
      "C:\\Users\\Francisco\\AppData\\Local\\Temp\\ipykernel_14828\\1535403598.py:1: SettingWithCopyWarning: \n",
      "A value is trying to be set on a copy of a slice from a DataFrame.\n",
      "Try using .loc[row_indexer,col_indexer] = value instead\n",
      "\n",
      "See the caveats in the documentation: https://pandas.pydata.org/pandas-docs/stable/user_guide/indexing.html#returning-a-view-versus-a-copy\n",
      "  df_i['text'] = df_i['headline'] + df_i['short_description']\n"
     ]
    }
   ],
   "execution_count": 51
  },
  {
   "metadata": {
    "ExecuteTime": {
     "end_time": "2024-10-11T11:20:55.372348Z",
     "start_time": "2024-10-11T11:20:55.342101Z"
    }
   },
   "cell_type": "code",
   "source": "df_i.head()",
   "id": "55b0c81eec682564",
   "outputs": [
    {
     "data": {
      "text/plain": [
       "                                                link  \\\n",
       "0  https://www.huffpost.com/entry/covid-boosters-...   \n",
       "1  https://www.huffpost.com/entry/american-airlin...   \n",
       "3  https://www.huffpost.com/entry/funniest-parent...   \n",
       "4  https://www.huffpost.com/entry/amy-cooper-lose...   \n",
       "5  https://www.huffpost.com/entry/belk-worker-fou...   \n",
       "\n",
       "                                            headline   category  \\\n",
       "0  Over 4 Million Americans Roll Up Sleeves For O...  U.S. NEWS   \n",
       "1  American Airlines Flyer Charged, Banned For Li...  U.S. NEWS   \n",
       "3  The Funniest Tweets From Parents This Week (Se...  PARENTING   \n",
       "4  Woman Who Called Cops On Black Bird-Watcher Lo...  U.S. NEWS   \n",
       "5  Cleaner Was Dead In Belk Bathroom For 4 Days B...  U.S. NEWS   \n",
       "\n",
       "                                   short_description               authors  \\\n",
       "0  Health experts said it is too early to predict...  Carla K. Johnson, AP   \n",
       "1  He was subdued by passengers and crew when he ...        Mary Papenfuss   \n",
       "3  \"Accidentally put grown-up toothpaste on my to...      Caroline Bologna   \n",
       "4  Amy Cooper accused investment firm Franklin Te...        Nina Golgowski   \n",
       "5  The 63-year-old woman was seen working at the ...                         \n",
       "\n",
       "         date                                               text  \n",
       "0  2022-09-23  Over 4 Million Americans Roll Up Sleeves For O...  \n",
       "1  2022-09-23  American Airlines Flyer Charged, Banned For Li...  \n",
       "3  2022-09-23  The Funniest Tweets From Parents This Week (Se...  \n",
       "4  2022-09-22  Woman Who Called Cops On Black Bird-Watcher Lo...  \n",
       "5  2022-09-22  Cleaner Was Dead In Belk Bathroom For 4 Days B...  "
      ],
      "text/html": [
       "<div>\n",
       "<style scoped>\n",
       "    .dataframe tbody tr th:only-of-type {\n",
       "        vertical-align: middle;\n",
       "    }\n",
       "\n",
       "    .dataframe tbody tr th {\n",
       "        vertical-align: top;\n",
       "    }\n",
       "\n",
       "    .dataframe thead th {\n",
       "        text-align: right;\n",
       "    }\n",
       "</style>\n",
       "<table border=\"1\" class=\"dataframe\">\n",
       "  <thead>\n",
       "    <tr style=\"text-align: right;\">\n",
       "      <th></th>\n",
       "      <th>link</th>\n",
       "      <th>headline</th>\n",
       "      <th>category</th>\n",
       "      <th>short_description</th>\n",
       "      <th>authors</th>\n",
       "      <th>date</th>\n",
       "      <th>text</th>\n",
       "    </tr>\n",
       "  </thead>\n",
       "  <tbody>\n",
       "    <tr>\n",
       "      <th>0</th>\n",
       "      <td>https://www.huffpost.com/entry/covid-boosters-...</td>\n",
       "      <td>Over 4 Million Americans Roll Up Sleeves For O...</td>\n",
       "      <td>U.S. NEWS</td>\n",
       "      <td>Health experts said it is too early to predict...</td>\n",
       "      <td>Carla K. Johnson, AP</td>\n",
       "      <td>2022-09-23</td>\n",
       "      <td>Over 4 Million Americans Roll Up Sleeves For O...</td>\n",
       "    </tr>\n",
       "    <tr>\n",
       "      <th>1</th>\n",
       "      <td>https://www.huffpost.com/entry/american-airlin...</td>\n",
       "      <td>American Airlines Flyer Charged, Banned For Li...</td>\n",
       "      <td>U.S. NEWS</td>\n",
       "      <td>He was subdued by passengers and crew when he ...</td>\n",
       "      <td>Mary Papenfuss</td>\n",
       "      <td>2022-09-23</td>\n",
       "      <td>American Airlines Flyer Charged, Banned For Li...</td>\n",
       "    </tr>\n",
       "    <tr>\n",
       "      <th>3</th>\n",
       "      <td>https://www.huffpost.com/entry/funniest-parent...</td>\n",
       "      <td>The Funniest Tweets From Parents This Week (Se...</td>\n",
       "      <td>PARENTING</td>\n",
       "      <td>\"Accidentally put grown-up toothpaste on my to...</td>\n",
       "      <td>Caroline Bologna</td>\n",
       "      <td>2022-09-23</td>\n",
       "      <td>The Funniest Tweets From Parents This Week (Se...</td>\n",
       "    </tr>\n",
       "    <tr>\n",
       "      <th>4</th>\n",
       "      <td>https://www.huffpost.com/entry/amy-cooper-lose...</td>\n",
       "      <td>Woman Who Called Cops On Black Bird-Watcher Lo...</td>\n",
       "      <td>U.S. NEWS</td>\n",
       "      <td>Amy Cooper accused investment firm Franklin Te...</td>\n",
       "      <td>Nina Golgowski</td>\n",
       "      <td>2022-09-22</td>\n",
       "      <td>Woman Who Called Cops On Black Bird-Watcher Lo...</td>\n",
       "    </tr>\n",
       "    <tr>\n",
       "      <th>5</th>\n",
       "      <td>https://www.huffpost.com/entry/belk-worker-fou...</td>\n",
       "      <td>Cleaner Was Dead In Belk Bathroom For 4 Days B...</td>\n",
       "      <td>U.S. NEWS</td>\n",
       "      <td>The 63-year-old woman was seen working at the ...</td>\n",
       "      <td></td>\n",
       "      <td>2022-09-22</td>\n",
       "      <td>Cleaner Was Dead In Belk Bathroom For 4 Days B...</td>\n",
       "    </tr>\n",
       "  </tbody>\n",
       "</table>\n",
       "</div>"
      ]
     },
     "execution_count": 52,
     "metadata": {},
     "output_type": "execute_result"
    }
   ],
   "execution_count": 52
  },
  {
   "metadata": {
    "ExecuteTime": {
     "end_time": "2024-10-11T11:20:57.009580Z",
     "start_time": "2024-10-11T11:20:56.244150Z"
    }
   },
   "cell_type": "code",
   "source": [
    "df_i['preprocessed_text'] = df_i['text'].apply(process_and_clean)\n",
    "df_i = df_i[['preprocessed_text','category']]\n"
   ],
   "id": "71f95f69b2b0da18",
   "outputs": [
    {
     "name": "stderr",
     "output_type": "stream",
     "text": [
      "C:\\Users\\Francisco\\AppData\\Local\\Temp\\ipykernel_14828\\3291518897.py:1: SettingWithCopyWarning: \n",
      "A value is trying to be set on a copy of a slice from a DataFrame.\n",
      "Try using .loc[row_indexer,col_indexer] = value instead\n",
      "\n",
      "See the caveats in the documentation: https://pandas.pydata.org/pandas-docs/stable/user_guide/indexing.html#returning-a-view-versus-a-copy\n",
      "  df_i['preprocessed_text'] = df_i['text'].apply(process_and_clean)\n"
     ]
    }
   ],
   "execution_count": 53
  },
  {
   "metadata": {},
   "cell_type": "markdown",
   "source": [
    "## Exercise 3: Data Splitting\n",
    "\n",
    "**Objective**: Split the dataset into training and testing sets.\n",
    "\n",
    "1. Divide the data into **training** and **testing** sets.\n",
    "   - Use an appropriate train-test split ratio (e.g., 80-20 or 70-30).\n",
    "   - Ensure the split is **stratified** to maintain the distribution of categories.\n",
    "   "
   ],
   "id": "90a25d9a89306675"
  },
  {
   "metadata": {
    "ExecuteTime": {
     "end_time": "2024-10-11T11:20:57.685699Z",
     "start_time": "2024-10-11T11:20:57.656769Z"
    }
   },
   "cell_type": "code",
   "source": [
    "from sklearn.model_selection import train_test_split\n",
    "train,test = train_test_split(df_i,test_size=0.2,random_state=42,stratify=df_i['category'])\n",
    "train.shape , test.shape"
   ],
   "id": "9c977860c53a1890",
   "outputs": [
    {
     "data": {
      "text/plain": [
       "((728, 2), (182, 2))"
      ]
     },
     "execution_count": 54,
     "metadata": {},
     "output_type": "execute_result"
    }
   ],
   "execution_count": 54
  },
  {
   "metadata": {
    "ExecuteTime": {
     "end_time": "2024-10-11T11:20:58.490476Z",
     "start_time": "2024-10-11T11:20:58.482449Z"
    }
   },
   "cell_type": "code",
   "source": [
    "x_train = train['preprocessed_text']\n",
    "y_train = train['category']\n",
    "x_test = test['preprocessed_text']\n",
    "y_test = test['category']    "
   ],
   "id": "aaaa2fdc0158351d",
   "outputs": [],
   "execution_count": 55
  },
  {
   "metadata": {
    "ExecuteTime": {
     "end_time": "2024-10-11T11:20:59.097178Z",
     "start_time": "2024-10-11T11:20:59.092166Z"
    }
   },
   "cell_type": "code",
   "source": "",
   "id": "ca6e246d45ec0338",
   "outputs": [],
   "execution_count": 55
  },
  {
   "metadata": {},
   "cell_type": "markdown",
   "source": [
    "## Exercise 4: Feature Extraction\n",
    "\n",
    "**Objective**: Convert the text data into numerical features.\n",
    "\n",
    "1. Apply one of the following feature extraction techniques:\n",
    "   - **Bag-of-Words (BoW)**\n",
    "   - **TF-IDF**\n",
    "   - Optionally, apply N-grams (unigrams, bigrams, etc.) before feature extraction.\n",
    "2. Use either the **sklearn** or **nltk** packages for feature extraction."
   ],
   "id": "e0a5fca79bcca55f"
  },
  {
   "metadata": {
    "ExecuteTime": {
     "end_time": "2024-10-11T11:21:01.648770Z",
     "start_time": "2024-10-11T11:21:01.570365Z"
    }
   },
   "cell_type": "code",
   "source": [
    "from sklearn.feature_extraction.text import CountVectorizer  \n",
    "vectorize = CountVectorizer(max_features=500)\n",
    "x_train_bow = vectorize.fit_transform(x_train) \n",
    "x_test_bow = vectorize.transform(x_test)\n"
   ],
   "id": "e1204f7b398b8a19",
   "outputs": [],
   "execution_count": 56
  },
  {
   "metadata": {
    "ExecuteTime": {
     "end_time": "2024-10-11T11:21:03.442936Z",
     "start_time": "2024-10-11T11:21:03.416572Z"
    }
   },
   "cell_type": "code",
   "source": "x_train ",
   "id": "5c1870c5a1bb4f",
   "outputs": [
    {
     "data": {
      "text/plain": [
       "811    suprem court reviv fight paint stolen nazisth ...\n",
       "982    batman still cross million batman still go str...\n",
       "386    punk band respond former oath keeper wear shir...\n",
       "730    lawyer roe call overturn law giant step backwa...\n",
       "876    ohio fairground turn upcom trump polit rallyth...\n",
       "                             ...                        \n",
       "227    salman rushdi road recoveri agent saysth autho...\n",
       "45     meet alex aster tiktok chang publish industri ...\n",
       "369    school board member say black princip activ go...\n",
       "419    rock legend carlo santana collaps stageaudi me...\n",
       "86     michigan suprem court reviv abort right amend ...\n",
       "Name: preprocessed_text, Length: 728, dtype: object"
      ]
     },
     "execution_count": 57,
     "metadata": {},
     "output_type": "execute_result"
    }
   ],
   "execution_count": 57
  },
  {
   "metadata": {
    "ExecuteTime": {
     "end_time": "2024-10-11T11:21:05.889905Z",
     "start_time": "2024-10-11T11:21:05.874570Z"
    }
   },
   "cell_type": "code",
   "source": "",
   "id": "5db4e6e475359f1f",
   "outputs": [],
   "execution_count": 57
  },
  {
   "metadata": {
    "ExecuteTime": {
     "end_time": "2024-10-11T11:21:06.212784Z",
     "start_time": "2024-10-11T11:21:06.197103Z"
    }
   },
   "cell_type": "code",
   "source": "",
   "id": "17ef8f88417cbbdf",
   "outputs": [],
   "execution_count": 57
  },
  {
   "metadata": {},
   "cell_type": "markdown",
   "source": [
    "## Exercise 5: Clustering\n",
    "\n",
    "**Objective**: Cluster news articles based on their content.\n",
    "\n",
    "1. Apply KMeans clustering to group news articles into 42 clusters.\n",
    "2. Visualize the clusters using PCA or t-SNE."
   ],
   "id": "e4c0485d1397a8c7"
  },
  {
   "metadata": {
    "ExecuteTime": {
     "end_time": "2024-10-11T11:21:08.487486Z",
     "start_time": "2024-10-11T11:21:07.768987Z"
    }
   },
   "cell_type": "code",
   "source": [
    "from sklearn.cluster import KMeans\n",
    "k = 10\n",
    "kmeans = KMeans(n_clusters=k, random_state=42).fit(x_train_bow)\n"
   ],
   "id": "618184bbf1586562",
   "outputs": [],
   "execution_count": 58
  },
  {
   "metadata": {
    "ExecuteTime": {
     "end_time": "2024-10-11T11:21:09.131397Z",
     "start_time": "2024-10-11T11:21:09.052320Z"
    }
   },
   "cell_type": "code",
   "source": [
    "from sklearn.decomposition import PCA\n",
    "pca = PCA(n_components=2).fit(x_train_bow)\n",
    "X_reduced = pca.fit_transform(x_train_bow)"
   ],
   "id": "f9d62f80e0fcbae",
   "outputs": [],
   "execution_count": 59
  },
  {
   "metadata": {
    "ExecuteTime": {
     "end_time": "2024-10-11T11:21:13.068057Z",
     "start_time": "2024-10-11T11:21:12.239674Z"
    }
   },
   "cell_type": "code",
   "source": [
    "color_map = {cat : i for i, cat in enumerate(set(y_train))}\n",
    "colors = y_train.map(color_map)\n",
    "plt.figure(figsize=(8,6))\n",
    "scatter = plt.scatter(X_reduced[:,0],X_reduced[:,1],c=colors,cmap = 'rainbow',\n",
    "                      label=y_train)\n",
    "plt.title('Kmeans Clusters')\n",
    "plt.xlabel('PCA 1')\n",
    "plt.ylabel('PCA 2')\n",
    "plt.legend(*scatter.legend_elements(), loc='center left')\n",
    "\n"
   ],
   "id": "f09fe8151939a692",
   "outputs": [
    {
     "data": {
      "text/plain": [
       "<matplotlib.legend.Legend at 0x16d53c0f700>"
      ]
     },
     "execution_count": 60,
     "metadata": {},
     "output_type": "execute_result"
    },
    {
     "data": {
      "text/plain": [
       "<Figure size 800x600 with 1 Axes>"
      ],
      "image/png": "[encoded data removed]"
     },
     "metadata": {},
     "output_type": "display_data"
    }
   ],
   "execution_count": 60
  },
  {
   "metadata": {},
   "cell_type": "markdown",
   "source": [
    "## Exercise 6: Model Training\n",
    "\n",
    "**Objective**: Train machine learning models for text classification.\n",
    "\n",
    "1. Train various machine learning models on the preprocessed and vectorized data.\n",
    "   - Choose models from the **sklearn** library (e.g., Logistic Regression, Random Forest, SVM).\n",
    "   "
   ],
   "id": "c384b0a5acc0b062"
  },
  {
   "metadata": {
    "ExecuteTime": {
     "end_time": "2024-10-11T11:21:23.066329Z",
     "start_time": "2024-10-11T11:21:22.988590Z"
    }
   },
   "cell_type": "code",
   "source": [
    "from sklearn.ensemble import RandomForestClassifier\n",
    "rf = RandomForestClassifier(n_estimators=10, random_state=42).fit(x_train_bow, y_train)"
   ],
   "id": "a26c181298845ca4",
   "outputs": [],
   "execution_count": 61
  },
  {
   "metadata": {
    "ExecuteTime": {
     "end_time": "2024-10-11T11:27:20.356340Z",
     "start_time": "2024-10-11T11:27:20.317552Z"
    }
   },
   "cell_type": "code",
   "source": [
    "from sklearn.metrics import accuracy_score,precision_score,recall_score,f1_score\n",
    "y_pred_lr = rf.predict(x_test_bow)\n",
    "acc = accuracy_score(y_test,y_pred_lr)\n",
    "precision = precision_score(y_test,y_pred_lr,average='weighted')\n",
    "recall = recall_score(y_test,y_pred_lr, average='weighted')\n",
    "f1 = f1_score(y_test,y_pred_lr,average='weighted')\n",
    "\n",
    "acc,precision,recall,f1"
   ],
   "id": "de89bd92eb9e729f",
   "outputs": [
    {
     "name": "stderr",
     "output_type": "stream",
     "text": [
      "C:\\Users\\Francisco\\miniconda3\\envs\\tac-hands-on\\lib\\site-packages\\sklearn\\metrics\\_classification.py:1531: UndefinedMetricWarning: Precision is ill-defined and being set to 0.0 in labels with no predicted samples. Use `zero_division` parameter to control this behavior.\n",
      "  _warn_prf(average, modifier, f\"{metric.capitalize()} is\", len(result))\n"
     ]
    },
    {
     "data": {
      "text/plain": [
       "(0.5989010989010989,\n",
       " np.float64(0.5993394798403743),\n",
       " np.float64(0.5989010989010989),\n",
       " np.float64(0.5828366098898841))"
      ]
     },
     "execution_count": 65,
     "metadata": {},
     "output_type": "execute_result"
    }
   ],
   "execution_count": 65
  },
  {
   "metadata": {
    "ExecuteTime": {
     "end_time": "2024-10-11T11:29:58.724806Z",
     "start_time": "2024-10-11T11:29:58.680108Z"
    }
   },
   "cell_type": "code",
   "source": [
    "from sklearn.metrics import classification_report\n",
    "import pprint\n",
    "pprint.pp(classification_report(y_test,y_pred_lr,target_names=set(y_train)))"
   ],
   "id": "7d48b0da7d9b1a4f",
   "outputs": [
    {
     "name": "stdout",
     "output_type": "stream",
     "text": [
      "('                precision    recall  f1-score   support\\n'\n",
      " '\\n'\n",
      " '      WELLNESS       1.00      0.20      0.33         5\\n'\n",
      " '   ENVIRONMENT       0.00      0.00      0.00         5\\n'\n",
      " 'CULTURE & ARTS       0.60      0.70      0.65        37\\n'\n",
      " '     U.S. NEWS       0.00      0.00      0.00         5\\n'\n",
      " '     PARENTING       0.40      0.67      0.50         3\\n'\n",
      " ' ENTERTAINMENT       0.75      0.72      0.74        54\\n'\n",
      " '        SPORTS       1.00      0.43      0.60         7\\n'\n",
      " '         CRIME       0.42      0.60      0.49        35\\n'\n",
      " '      POLITICS       0.00      0.00      0.00         3\\n'\n",
      " '    WORLD NEWS       0.65      0.61      0.63        28\\n'\n",
      " '\\n'\n",
      " '      accuracy                           0.60       182\\n'\n",
      " '     macro avg       0.48      0.39      0.39       182\\n'\n",
      " '  weighted avg       0.60      0.60      0.58       182\\n')\n"
     ]
    },
    {
     "name": "stderr",
     "output_type": "stream",
     "text": [
      "C:\\Users\\Francisco\\miniconda3\\envs\\tac-hands-on\\lib\\site-packages\\sklearn\\metrics\\_classification.py:1531: UndefinedMetricWarning: Precision is ill-defined and being set to 0.0 in labels with no predicted samples. Use `zero_division` parameter to control this behavior.\n",
      "  _warn_prf(average, modifier, f\"{metric.capitalize()} is\", len(result))\n",
      "C:\\Users\\Francisco\\miniconda3\\envs\\tac-hands-on\\lib\\site-packages\\sklearn\\metrics\\_classification.py:1531: UndefinedMetricWarning: Precision is ill-defined and being set to 0.0 in labels with no predicted samples. Use `zero_division` parameter to control this behavior.\n",
      "  _warn_prf(average, modifier, f\"{metric.capitalize()} is\", len(result))\n",
      "C:\\Users\\Francisco\\miniconda3\\envs\\tac-hands-on\\lib\\site-packages\\sklearn\\metrics\\_classification.py:1531: UndefinedMetricWarning: Precision is ill-defined and being set to 0.0 in labels with no predicted samples. Use `zero_division` parameter to control this behavior.\n",
      "  _warn_prf(average, modifier, f\"{metric.capitalize()} is\", len(result))\n"
     ]
    }
   ],
   "execution_count": 66
  },
  {
   "metadata": {},
   "cell_type": "markdown",
   "source": [
    "## Exercise 7: Model Evaluation\n",
    "\n",
    "**Objective**: Evaluate the performance of the trained models.\n",
    "\n",
    "1. Evaluate the models using appropriate metrics such as accuracy, precision, recall, and F1-score.\n",
    "2. Perform **cross-validation** on at least one model to ensure reliable performance evaluation.\n"
   ],
   "id": "67d1c24939321e06"
  },
  {
   "metadata": {},
   "cell_type": "code",
   "outputs": [],
   "execution_count": null,
   "source": "",
   "id": "55c8fdbf9aace97e"
  },
  {
   "metadata": {},
   "cell_type": "code",
   "outputs": [],
   "execution_count": null,
   "source": "",
   "id": "dc93d4f22fedbe00"
  },
  {
   "metadata": {},
   "cell_type": "code",
   "outputs": [],
   "execution_count": null,
   "source": "",
   "id": "9088fc738117a2b6"
  }
 ],
 "metadata": {
  "kernelspec": {
   "display_name": "Python 3",
   "language": "python",
   "name": "python3"
  },
  "language_info": {
   "codemirror_mode": {
    "name": "ipython",
    "version": 2
   },
   "file_extension": ".py",
   "mimetype": "text/x-python",
   "name": "python",
   "nbconvert_exporter": "python",
   "pygments_lexer": "ipython2",
   "version": "2.7.6"
  }
 },
 "nbformat": 4,
 "nbformat_minor": 5
}
