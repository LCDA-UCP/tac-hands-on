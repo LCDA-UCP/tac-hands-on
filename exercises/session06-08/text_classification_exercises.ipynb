{
 "cells": [
  {
   "metadata": {},
   "cell_type": "markdown",
   "source": [
    "# Text Classification Exercises"
   ],
   "id": "5455135070daf480"
  },
  {
   "metadata": {},
   "cell_type": "markdown",
   "source": [
    "## Exercise 1: Dataset Exploration\n",
    "\n",
    "**Objective**: Familiarize yourself with the dataset.\n",
    "\n",
    "1. Load the **News Category Dataset** (News_Category_Dataset_v3.json), which contains approximately 210,000 news headlines from 2012 to 2022. **Hint: read the file with Python, parse it with the json library and convert it to a pandas DataFrame.** **Note: you need to extract the file from the zip archive before loading it.**\n",
    "2. Identify the target label.\n",
    "3. Which features do you find relevant for the classification task?\n",
    "4. Perform exploratory data analysis (EDA):\n",
    "   - Check for any missing values.\n",
    "   - Visualize the distribution of categories.\n"
   ],
   "id": "f6a004ba75b584a4"
  },
  {
   "metadata": {
    "ExecuteTime": {
     "end_time": "2024-10-11T09:44:04.263473Z",
     "start_time": "2024-10-11T09:44:03.746385Z"
    }
   },
   "cell_type": "code",
   "outputs": [
    {
     "data": {
      "text/plain": "                                                link  \\\n0  https://www.huffpost.com/entry/covid-boosters-...   \n1  https://www.huffpost.com/entry/american-airlin...   \n2  https://www.huffpost.com/entry/funniest-tweets...   \n3  https://www.huffpost.com/entry/funniest-parent...   \n4  https://www.huffpost.com/entry/amy-cooper-lose...   \n\n                                            headline   category  \\\n0  Over 4 Million Americans Roll Up Sleeves For O...  U.S. NEWS   \n1  American Airlines Flyer Charged, Banned For Li...  U.S. NEWS   \n2  23 Of The Funniest Tweets About Cats And Dogs ...     COMEDY   \n3  The Funniest Tweets From Parents This Week (Se...  PARENTING   \n4  Woman Who Called Cops On Black Bird-Watcher Lo...  U.S. NEWS   \n\n                                   short_description               authors  \\\n0  Health experts said it is too early to predict...  Carla K. Johnson, AP   \n1  He was subdued by passengers and crew when he ...        Mary Papenfuss   \n2  \"Until you have a dog you don't understand wha...         Elyse Wanshel   \n3  \"Accidentally put grown-up toothpaste on my to...      Caroline Bologna   \n4  Amy Cooper accused investment firm Franklin Te...        Nina Golgowski   \n\n         date  \n0  2022-09-23  \n1  2022-09-23  \n2  2022-09-23  \n3  2022-09-23  \n4  2022-09-22  ",
      "text/html": "<div>\n<style scoped>\n    .dataframe tbody tr th:only-of-type {\n        vertical-align: middle;\n    }\n\n    .dataframe tbody tr th {\n        vertical-align: top;\n    }\n\n    .dataframe thead th {\n        text-align: right;\n    }\n</style>\n<table border=\"1\" class=\"dataframe\">\n  <thead>\n    <tr style=\"text-align: right;\">\n      <th></th>\n      <th>link</th>\n      <th>headline</th>\n      <th>category</th>\n      <th>short_description</th>\n      <th>authors</th>\n      <th>date</th>\n    </tr>\n  </thead>\n  <tbody>\n    <tr>\n      <th>0</th>\n      <td>https://www.huffpost.com/entry/covid-boosters-...</td>\n      <td>Over 4 Million Americans Roll Up Sleeves For O...</td>\n      <td>U.S. NEWS</td>\n      <td>Health experts said it is too early to predict...</td>\n      <td>Carla K. Johnson, AP</td>\n      <td>2022-09-23</td>\n    </tr>\n    <tr>\n      <th>1</th>\n      <td>https://www.huffpost.com/entry/american-airlin...</td>\n      <td>American Airlines Flyer Charged, Banned For Li...</td>\n      <td>U.S. NEWS</td>\n      <td>He was subdued by passengers and crew when he ...</td>\n      <td>Mary Papenfuss</td>\n      <td>2022-09-23</td>\n    </tr>\n    <tr>\n      <th>2</th>\n      <td>https://www.huffpost.com/entry/funniest-tweets...</td>\n      <td>23 Of The Funniest Tweets About Cats And Dogs ...</td>\n      <td>COMEDY</td>\n      <td>\"Until you have a dog you don't understand wha...</td>\n      <td>Elyse Wanshel</td>\n      <td>2022-09-23</td>\n    </tr>\n    <tr>\n      <th>3</th>\n      <td>https://www.huffpost.com/entry/funniest-parent...</td>\n      <td>The Funniest Tweets From Parents This Week (Se...</td>\n      <td>PARENTING</td>\n      <td>\"Accidentally put grown-up toothpaste on my to...</td>\n      <td>Caroline Bologna</td>\n      <td>2022-09-23</td>\n    </tr>\n    <tr>\n      <th>4</th>\n      <td>https://www.huffpost.com/entry/amy-cooper-lose...</td>\n      <td>Woman Who Called Cops On Black Bird-Watcher Lo...</td>\n      <td>U.S. NEWS</td>\n      <td>Amy Cooper accused investment firm Franklin Te...</td>\n      <td>Nina Golgowski</td>\n      <td>2022-09-22</td>\n    </tr>\n  </tbody>\n</table>\n</div>"
     },
     "execution_count": 291,
     "metadata": {},
     "output_type": "execute_result"
    }
   ],
   "execution_count": 291,
   "source": [
    "import pandas as pd\n",
    "import json\n",
    "\n",
    "from nltk import PorterStemmer, WordNetLemmatizer\n",
    "from sklearn.ensemble._forest import ForestClassifier\n",
    "\n",
    "with open (\"../../data/News_Category_Dataset_v3.json\", 'r') as f:\n",
    "    data = f.read()\n",
    "    \n",
    "json_data = [json.loads(line) for line in data.split('\\n') if line] [:1000]\n",
    "df = pd.DataFrame(json_data)\n",
    "\n",
    "df.head()"
   ],
   "id": "f0ae9fc46f891e20"
  },
  {
   "metadata": {
    "ExecuteTime": {
     "end_time": "2024-10-11T09:44:04.267362Z",
     "start_time": "2024-10-11T09:44:04.265110Z"
    }
   },
   "cell_type": "code",
   "outputs": [
    {
     "data": {
      "text/plain": "                                            headline   category  \\\n0  Over 4 Million Americans Roll Up Sleeves For O...  U.S. NEWS   \n1  American Airlines Flyer Charged, Banned For Li...  U.S. NEWS   \n2  23 Of The Funniest Tweets About Cats And Dogs ...     COMEDY   \n3  The Funniest Tweets From Parents This Week (Se...  PARENTING   \n4  Woman Who Called Cops On Black Bird-Watcher Lo...  U.S. NEWS   \n\n                                   short_description  \n0  Health experts said it is too early to predict...  \n1  He was subdued by passengers and crew when he ...  \n2  \"Until you have a dog you don't understand wha...  \n3  \"Accidentally put grown-up toothpaste on my to...  \n4  Amy Cooper accused investment firm Franklin Te...  ",
      "text/html": "<div>\n<style scoped>\n    .dataframe tbody tr th:only-of-type {\n        vertical-align: middle;\n    }\n\n    .dataframe tbody tr th {\n        vertical-align: top;\n    }\n\n    .dataframe thead th {\n        text-align: right;\n    }\n</style>\n<table border=\"1\" class=\"dataframe\">\n  <thead>\n    <tr style=\"text-align: right;\">\n      <th></th>\n      <th>headline</th>\n      <th>category</th>\n      <th>short_description</th>\n    </tr>\n  </thead>\n  <tbody>\n    <tr>\n      <th>0</th>\n      <td>Over 4 Million Americans Roll Up Sleeves For O...</td>\n      <td>U.S. NEWS</td>\n      <td>Health experts said it is too early to predict...</td>\n    </tr>\n    <tr>\n      <th>1</th>\n      <td>American Airlines Flyer Charged, Banned For Li...</td>\n      <td>U.S. NEWS</td>\n      <td>He was subdued by passengers and crew when he ...</td>\n    </tr>\n    <tr>\n      <th>2</th>\n      <td>23 Of The Funniest Tweets About Cats And Dogs ...</td>\n      <td>COMEDY</td>\n      <td>\"Until you have a dog you don't understand wha...</td>\n    </tr>\n    <tr>\n      <th>3</th>\n      <td>The Funniest Tweets From Parents This Week (Se...</td>\n      <td>PARENTING</td>\n      <td>\"Accidentally put grown-up toothpaste on my to...</td>\n    </tr>\n    <tr>\n      <th>4</th>\n      <td>Woman Who Called Cops On Black Bird-Watcher Lo...</td>\n      <td>U.S. NEWS</td>\n      <td>Amy Cooper accused investment firm Franklin Te...</td>\n    </tr>\n  </tbody>\n</table>\n</div>"
     },
     "execution_count": 292,
     "metadata": {},
     "output_type": "execute_result"
    }
   ],
   "execution_count": 292,
   "source": [
    "df = df[['headline', 'category' , 'short_description']]\n",
    "df.head()"
   ],
   "id": "a982935caba9f460"
  },
  {
   "metadata": {
    "ExecuteTime": {
     "end_time": "2024-10-11T09:44:04.271340Z",
     "start_time": "2024-10-11T09:44:04.269282Z"
    }
   },
   "cell_type": "code",
   "outputs": [
    {
     "data": {
      "text/plain": "category\nPOLITICS          272\nENTERTAINMENT     185\nU.S. NEWS         174\nWORLD NEWS        138\nSPORTS             36\nCRIME              26\nENVIRONMENT        25\nCULTURE & ARTS     23\nWELLNESS           16\nPARENTING          15\nName: count, dtype: int64"
     },
     "execution_count": 293,
     "metadata": {},
     "output_type": "execute_result"
    }
   ],
   "execution_count": 293,
   "source": [
    "top10 = df['category'].value_counts().nlargest(10)\n",
    "top10"
   ],
   "id": "96481d1100210e87"
  },
  {
   "cell_type": "code",
   "outputs": [
    {
     "data": {
      "text/plain": "                                              headline    category  \\\n0    Over 4 Million Americans Roll Up Sleeves For O...   U.S. NEWS   \n1    American Airlines Flyer Charged, Banned For Li...   U.S. NEWS   \n3    The Funniest Tweets From Parents This Week (Se...   PARENTING   \n4    Woman Who Called Cops On Black Bird-Watcher Lo...   U.S. NEWS   \n5    Cleaner Was Dead In Belk Bathroom For 4 Days B...   U.S. NEWS   \n..                                                 ...         ...   \n995  China Weighs Exit From 'Zero COVID' And The Ri...  WORLD NEWS   \n996  Russian Missiles Hit Near Lviv Airport As Stri...  WORLD NEWS   \n997  Syria's Assad Visits UAE, 1st Trip To Arab Cou...  WORLD NEWS   \n998       Strong Japan Earthquake Kills 4, Injures 107  WORLD NEWS   \n999  9 Dead, 2 Injured In Fiery Crash Involving Uni...   U.S. NEWS   \n\n                                     short_description  \n0    Health experts said it is too early to predict...  \n1    He was subdued by passengers and crew when he ...  \n3    \"Accidentally put grown-up toothpaste on my to...  \n4    Amy Cooper accused investment firm Franklin Te...  \n5    The 63-year-old woman was seen working at the ...  \n..                                                 ...  \n995  The change does not appear imminent as the gov...  \n996  World leaders have been calling for an investi...  \n997  Assad's office said he met with Sheikh Mohamed...  \n998  The 7.4-magnitude temblor knocked out power an...  \n999  Two Canadian students were also hospitalized i...  \n\n[910 rows x 3 columns]",
      "text/html": "<div>\n<style scoped>\n    .dataframe tbody tr th:only-of-type {\n        vertical-align: middle;\n    }\n\n    .dataframe tbody tr th {\n        vertical-align: top;\n    }\n\n    .dataframe thead th {\n        text-align: right;\n    }\n</style>\n<table border=\"1\" class=\"dataframe\">\n  <thead>\n    <tr style=\"text-align: right;\">\n      <th></th>\n      <th>headline</th>\n      <th>category</th>\n      <th>short_description</th>\n    </tr>\n  </thead>\n  <tbody>\n    <tr>\n      <th>0</th>\n      <td>Over 4 Million Americans Roll Up Sleeves For O...</td>\n      <td>U.S. NEWS</td>\n      <td>Health experts said it is too early to predict...</td>\n    </tr>\n    <tr>\n      <th>1</th>\n      <td>American Airlines Flyer Charged, Banned For Li...</td>\n      <td>U.S. NEWS</td>\n      <td>He was subdued by passengers and crew when he ...</td>\n    </tr>\n    <tr>\n      <th>3</th>\n      <td>The Funniest Tweets From Parents This Week (Se...</td>\n      <td>PARENTING</td>\n      <td>\"Accidentally put grown-up toothpaste on my to...</td>\n    </tr>\n    <tr>\n      <th>4</th>\n      <td>Woman Who Called Cops On Black Bird-Watcher Lo...</td>\n      <td>U.S. NEWS</td>\n      <td>Amy Cooper accused investment firm Franklin Te...</td>\n    </tr>\n    <tr>\n      <th>5</th>\n      <td>Cleaner Was Dead In Belk Bathroom For 4 Days B...</td>\n      <td>U.S. NEWS</td>\n      <td>The 63-year-old woman was seen working at the ...</td>\n    </tr>\n    <tr>\n      <th>...</th>\n      <td>...</td>\n      <td>...</td>\n      <td>...</td>\n    </tr>\n    <tr>\n      <th>995</th>\n      <td>China Weighs Exit From 'Zero COVID' And The Ri...</td>\n      <td>WORLD NEWS</td>\n      <td>The change does not appear imminent as the gov...</td>\n    </tr>\n    <tr>\n      <th>996</th>\n      <td>Russian Missiles Hit Near Lviv Airport As Stri...</td>\n      <td>WORLD NEWS</td>\n      <td>World leaders have been calling for an investi...</td>\n    </tr>\n    <tr>\n      <th>997</th>\n      <td>Syria's Assad Visits UAE, 1st Trip To Arab Cou...</td>\n      <td>WORLD NEWS</td>\n      <td>Assad's office said he met with Sheikh Mohamed...</td>\n    </tr>\n    <tr>\n      <th>998</th>\n      <td>Strong Japan Earthquake Kills 4, Injures 107</td>\n      <td>WORLD NEWS</td>\n      <td>The 7.4-magnitude temblor knocked out power an...</td>\n    </tr>\n    <tr>\n      <th>999</th>\n      <td>9 Dead, 2 Injured In Fiery Crash Involving Uni...</td>\n      <td>U.S. NEWS</td>\n      <td>Two Canadian students were also hospitalized i...</td>\n    </tr>\n  </tbody>\n</table>\n<p>910 rows × 3 columns</p>\n</div>"
     },
     "execution_count": 294,
     "metadata": {},
     "output_type": "execute_result"
    }
   ],
   "source": [
    "top10 = top10.index\n",
    "\n",
    "df_i = df[df['category'].isin(top10)]\n",
    "df_i"
   ],
   "metadata": {
    "collapsed": false,
    "ExecuteTime": {
     "end_time": "2024-10-11T09:44:04.277110Z",
     "start_time": "2024-10-11T09:44:04.272571Z"
    }
   },
   "id": "f107fa1fcbe4c254",
   "execution_count": 294
  },
  {
   "cell_type": "code",
   "outputs": [
    {
     "data": {
      "text/plain": "<Figure size 600x600 with 1 Axes>",
      "image/png": "[encoded data removed]"
     },
     "metadata": {},
     "output_type": "display_data"
    }
   ],
   "source": [
    "import matplotlib.pyplot as plt\n",
    "category_counts = df_i['category'].value_counts()\n",
    "\n",
    "plt.figure(figsize=(6,6))\n",
    "plt.pie(category_counts, labels=category_counts.index, autopct='%1.1f', startangle=140)\n",
    "plt.title(\" Distribution of Top 10 Category\")\n",
    "plt.axis('equal')\n",
    "plt.show()"
   ],
   "metadata": {
    "collapsed": false,
    "ExecuteTime": {
     "end_time": "2024-10-11T09:44:04.348334Z",
     "start_time": "2024-10-11T09:44:04.283461Z"
    }
   },
   "id": "61c946e7a71f4747",
   "execution_count": 295
  },
  {
   "metadata": {},
   "cell_type": "markdown",
   "source": [
    "## Exercise 2: Text Preprocessing\n",
    "\n",
    "**Objective**: Prepare the text data for classification tasks.\n",
    "\n",
    "1. Preprocess the \"headline\" and \"short_description\" fields by performing the following steps:\n",
    "   - Convert all text to lowercase.\n",
    "   - Remove punctuation, digits, and any other irrelevant characters.\n",
    "   - Remove stop words.\n",
    "   - Apply either stemming or lemmatization.\n",
    "2. Observe how the data changes at each step of preprocessing.\n",
    "3. Create a new column that concatenates the processed \"headline\" and \"short_description\" fields."
   ],
   "id": "190f3e008f235d44"
  },
  {
   "metadata": {
    "ExecuteTime": {
     "end_time": "2024-10-11T09:44:04.348898Z",
     "start_time": "2024-10-11T09:44:04.333554Z"
    }
   },
   "cell_type": "code",
   "outputs": [
    {
     "name": "stderr",
     "output_type": "stream",
     "text": [
      "[nltk_data] Downloading package stopwords to\n",
      "[nltk_data]     /Users/beatrizdias/nltk_data...\n",
      "[nltk_data]   Package stopwords is already up-to-date!\n",
      "[nltk_data] Downloading package wordnet to\n",
      "[nltk_data]     /Users/beatrizdias/nltk_data...\n",
      "[nltk_data]   Package wordnet is already up-to-date!\n"
     ]
    }
   ],
   "execution_count": 296,
   "source": [
    "import re \n",
    "import string \n",
    "from nltk.corpus import stopwords\n",
    "import nltk\n",
    "from nltk.stem import PorterStemmer, WordNetLemmatizer\n",
    "\n",
    "nltk.download('stopwords')\n",
    "nltk.download('wordnet') \n",
    "\n",
    "def preprocess_text(text):\n",
    "    text = text.lower() \n",
    "    text = re.sub(r\"http\\S+\", ' ', text) \n",
    "    text = re.sub(r\"\\d\" , \" \" , text) \n",
    "    punctuations = string.punctuation \n",
    "    text = text.replace(punctuations, \" \") #remove a pontuação \n",
    "    text = re.sub(r\"\\W\", \" \" , text) # remove as palavras não alfabeticas\n",
    "    return \" \".join(text.split()) \n",
    "\n",
    "def eliminate_stop_words(text):\n",
    "    stop_words = set(stopwords.words('english'))\n",
    "    words = text.split()\n",
    "    for word in words: \n",
    "        if word  in stop_words:\n",
    "            words.remove(word)\n",
    "    return \" \".join(words)\n",
    "\n",
    "def apply_stemming(text):\n",
    "    stemer = PorterStemmer()\n",
    "    words = text.split()\n",
    "    words = [stemer.stem(word) for word in words]\n",
    "    return \" \".join(words)\n",
    "\n",
    "def apply_lemmatization(text):\n",
    "    lemmatizer = WordNetLemmatizer()\n",
    "    words = text.split()\n",
    "    words = [lemmatizer.lemmatize(word) for word in words]\n",
    "    return \" \".join(words)\n",
    "\n",
    "def preprocess_and_clean(text: str):\n",
    "    text = preprocess_text(text)\n",
    "    text = eliminate_stop_words(text)\n",
    "    text = apply_stemming(text)\n",
    "    \n",
    "    return text\n",
    "    "
   ],
   "id": "35eabf9cfd8d3e6a"
  },
  {
   "metadata": {
    "ExecuteTime": {
     "end_time": "2024-10-11T09:44:04.349515Z",
     "start_time": "2024-10-11T09:44:04.337296Z"
    }
   },
   "cell_type": "code",
   "outputs": [
    {
     "name": "stdout",
     "output_type": "stream",
     "text": [
      "Over 4 Million Americans Roll Up Sleeves For Omicron-Targeted COVID Boosters\n"
     ]
    }
   ],
   "execution_count": 297,
   "source": [
    "print(df_i.iloc[0]['headline'])"
   ],
   "id": "f71aae3c9796fbb6"
  },
  {
   "metadata": {
    "ExecuteTime": {
     "end_time": "2024-10-11T09:44:04.349966Z",
     "start_time": "2024-10-11T09:44:04.340768Z"
    }
   },
   "cell_type": "code",
   "outputs": [
    {
     "data": {
      "text/plain": "'over million americans roll up sleeves for omicron targeted covid boosters'"
     },
     "execution_count": 298,
     "metadata": {},
     "output_type": "execute_result"
    }
   ],
   "execution_count": 298,
   "source": [
    "iter1 = preprocess_text(df_i.iloc[0]['headline'])\n",
    "iter1"
   ],
   "id": "265b954a3e4fbb7e"
  },
  {
   "cell_type": "code",
   "outputs": [
    {
     "data": {
      "text/plain": "'million americans roll sleeves omicron targeted covid boosters'"
     },
     "execution_count": 299,
     "metadata": {},
     "output_type": "execute_result"
    }
   ],
   "source": [
    "iter2 = eliminate_stop_words(iter1)\n",
    "iter2"
   ],
   "metadata": {
    "collapsed": false,
    "ExecuteTime": {
     "end_time": "2024-10-11T09:44:04.350426Z",
     "start_time": "2024-10-11T09:44:04.344067Z"
    }
   },
   "id": "f98aecf90ebe70ef",
   "execution_count": 299
  },
  {
   "cell_type": "code",
   "outputs": [
    {
     "data": {
      "text/plain": "'million american roll sleev omicron target covid booster'"
     },
     "execution_count": 300,
     "metadata": {},
     "output_type": "execute_result"
    }
   ],
   "source": [
    "iter3 = apply_stemming(iter2)\n",
    "iter3"
   ],
   "metadata": {
    "collapsed": false,
    "ExecuteTime": {
     "end_time": "2024-10-11T09:44:04.368447Z",
     "start_time": "2024-10-11T09:44:04.351836Z"
    }
   },
   "id": "36f36ae81d6f0cfe",
   "execution_count": 300
  },
  {
   "cell_type": "code",
   "outputs": [
    {
     "data": {
      "text/plain": "'million american roll sleeve omicron targeted covid booster'"
     },
     "execution_count": 301,
     "metadata": {},
     "output_type": "execute_result"
    }
   ],
   "source": [
    "iter4 = apply_lemmatization(iter2)\n",
    "iter4"
   ],
   "metadata": {
    "collapsed": false,
    "ExecuteTime": {
     "end_time": "2024-10-11T09:44:04.372490Z",
     "start_time": "2024-10-11T09:44:04.355562Z"
    }
   },
   "id": "c83eb5f082b6eb4a",
   "execution_count": 301
  },
  {
   "cell_type": "code",
   "outputs": [
    {
     "name": "stderr",
     "output_type": "stream",
     "text": [
      "/var/folders/26/7s9y6vdj3xs20whynm5xn0500000gn/T/ipykernel_4557/362540386.py:1: SettingWithCopyWarning: \n",
      "A value is trying to be set on a copy of a slice from a DataFrame.\n",
      "Try using .loc[row_indexer,col_indexer] = value instead\n",
      "\n",
      "See the caveats in the documentation: https://pandas.pydata.org/pandas-docs/stable/user_guide/indexing.html#returning-a-view-versus-a-copy\n",
      "  df_i['text'] = df_i['headline'] + df_i['short_description']\n",
      "/var/folders/26/7s9y6vdj3xs20whynm5xn0500000gn/T/ipykernel_4557/362540386.py:3: SettingWithCopyWarning: \n",
      "A value is trying to be set on a copy of a slice from a DataFrame.\n",
      "Try using .loc[row_indexer,col_indexer] = value instead\n",
      "\n",
      "See the caveats in the documentation: https://pandas.pydata.org/pandas-docs/stable/user_guide/indexing.html#returning-a-view-versus-a-copy\n",
      "  df_i['prepocessed_text'] = df_i['text'].apply(preprocess_and_clean)\n"
     ]
    },
    {
     "data": {
      "text/plain": "                                    prepocessed_text   category\n0  million american roll sleev omicron target cov...  U.S. NEWS\n1  american airlin flyer charg ban life punch fli...  U.S. NEWS\n3  funniest tweet parent week sept accident put g...  PARENTING\n4  woman call cop black bird watcher lose lawsuit...  U.S. NEWS\n5  cleaner dead belk bathroom day bodi found poli...  U.S. NEWS",
      "text/html": "<div>\n<style scoped>\n    .dataframe tbody tr th:only-of-type {\n        vertical-align: middle;\n    }\n\n    .dataframe tbody tr th {\n        vertical-align: top;\n    }\n\n    .dataframe thead th {\n        text-align: right;\n    }\n</style>\n<table border=\"1\" class=\"dataframe\">\n  <thead>\n    <tr style=\"text-align: right;\">\n      <th></th>\n      <th>prepocessed_text</th>\n      <th>category</th>\n    </tr>\n  </thead>\n  <tbody>\n    <tr>\n      <th>0</th>\n      <td>million american roll sleev omicron target cov...</td>\n      <td>U.S. NEWS</td>\n    </tr>\n    <tr>\n      <th>1</th>\n      <td>american airlin flyer charg ban life punch fli...</td>\n      <td>U.S. NEWS</td>\n    </tr>\n    <tr>\n      <th>3</th>\n      <td>funniest tweet parent week sept accident put g...</td>\n      <td>PARENTING</td>\n    </tr>\n    <tr>\n      <th>4</th>\n      <td>woman call cop black bird watcher lose lawsuit...</td>\n      <td>U.S. NEWS</td>\n    </tr>\n    <tr>\n      <th>5</th>\n      <td>cleaner dead belk bathroom day bodi found poli...</td>\n      <td>U.S. NEWS</td>\n    </tr>\n  </tbody>\n</table>\n</div>"
     },
     "execution_count": 302,
     "metadata": {},
     "output_type": "execute_result"
    }
   ],
   "source": [
    "df_i['text'] = df_i['headline'] + df_i['short_description']\n",
    "\n",
    "df_i['prepocessed_text'] = df_i['text'].apply(preprocess_and_clean)\n",
    "\n",
    "data = df_i[['prepocessed_text', 'category']]\n",
    "data.head()"
   ],
   "metadata": {
    "collapsed": false,
    "ExecuteTime": {
     "end_time": "2024-10-11T09:44:04.587536Z",
     "start_time": "2024-10-11T09:44:04.360960Z"
    }
   },
   "id": "1a7a7899f8d2e587",
   "execution_count": 302
  },
  {
   "metadata": {},
   "cell_type": "markdown",
   "source": [
    "## Exercise 3: Data Splitting\n",
    "\n",
    "**Objective**: Split the dataset into training and testing sets.\n",
    "\n",
    "1. Divide the data into **training** and **testing** sets.\n",
    "   - Use an appropriate train-test split ratio (e.g., 80-20 or 70-30).\n",
    "   - Ensure the split is **stratified** to maintain the distribution of categories.\n",
    "   "
   ],
   "id": "90a25d9a89306675"
  },
  {
   "metadata": {
    "ExecuteTime": {
     "end_time": "2024-10-11T10:30:08.367913Z",
     "start_time": "2024-10-11T10:30:08.356222Z"
    }
   },
   "cell_type": "code",
   "outputs": [
    {
     "data": {
      "text/plain": "((728, 2), (182, 2))"
     },
     "execution_count": 310,
     "metadata": {},
     "output_type": "execute_result"
    }
   ],
   "execution_count": 310,
   "source": [
    "from sklearn.model_selection import train_test_split\n",
    "\n",
    "train, test = train_test_split(data, test_size=0.2, random_state=42, stratify=data['category'])\n",
    "train.shape, test.shape "
   ],
   "id": "9c977860c53a1890"
  },
  {
   "metadata": {
    "ExecuteTime": {
     "end_time": "2024-10-11T10:30:09.561830Z",
     "start_time": "2024-10-11T10:30:09.559513Z"
    }
   },
   "cell_type": "code",
   "outputs": [
    {
     "data": {
      "text/plain": "                                      prepocessed_text       category\n811  suprem court reviv fight paint stolen nazisth ...      U.S. NEWS\n982  batman still cross million batman still go str...  ENTERTAINMENT\n386  punk band respond former oath keeper wear shir...      U.S. NEWS\n730  lawyer roe call overturn law giant step backwa...       POLITICS\n876  ohio fairground turn upcom trump polit rallyth...       POLITICS",
      "text/html": "<div>\n<style scoped>\n    .dataframe tbody tr th:only-of-type {\n        vertical-align: middle;\n    }\n\n    .dataframe tbody tr th {\n        vertical-align: top;\n    }\n\n    .dataframe thead th {\n        text-align: right;\n    }\n</style>\n<table border=\"1\" class=\"dataframe\">\n  <thead>\n    <tr style=\"text-align: right;\">\n      <th></th>\n      <th>prepocessed_text</th>\n      <th>category</th>\n    </tr>\n  </thead>\n  <tbody>\n    <tr>\n      <th>811</th>\n      <td>suprem court reviv fight paint stolen nazisth ...</td>\n      <td>U.S. NEWS</td>\n    </tr>\n    <tr>\n      <th>982</th>\n      <td>batman still cross million batman still go str...</td>\n      <td>ENTERTAINMENT</td>\n    </tr>\n    <tr>\n      <th>386</th>\n      <td>punk band respond former oath keeper wear shir...</td>\n      <td>U.S. NEWS</td>\n    </tr>\n    <tr>\n      <th>730</th>\n      <td>lawyer roe call overturn law giant step backwa...</td>\n      <td>POLITICS</td>\n    </tr>\n    <tr>\n      <th>876</th>\n      <td>ohio fairground turn upcom trump polit rallyth...</td>\n      <td>POLITICS</td>\n    </tr>\n  </tbody>\n</table>\n</div>"
     },
     "execution_count": 311,
     "metadata": {},
     "output_type": "execute_result"
    }
   ],
   "execution_count": 311,
   "source": [
    "train.head()"
   ],
   "id": "aaaa2fdc0158351d"
  },
  {
   "metadata": {
    "ExecuteTime": {
     "end_time": "2024-10-11T10:30:09.906125Z",
     "start_time": "2024-10-11T10:30:09.902587Z"
    }
   },
   "cell_type": "code",
   "outputs": [],
   "execution_count": 312,
   "source": [
    "x_train = train['prepocessed_text']\n",
    "y_train = train['category']\n",
    "x_text = test['prepocessed_text']\n",
    "y_text = test['category']"
   ],
   "id": "ca6e246d45ec0338"
  },
  {
   "metadata": {},
   "cell_type": "markdown",
   "source": [
    "## Exercise 4: Feature Extraction\n",
    "\n",
    "**Objective**: Convert the text data into numerical features.\n",
    "\n",
    "1. Apply one of the following feature extraction techniques:\n",
    "   - **Bag-of-Words (BoW)**\n",
    "   - **TF-IDF**\n",
    "   - Optionally, apply N-grams (unigrams, bigrams, etc.) before feature extraction.\n",
    "2. Use either the **sklearn** or **nltk** packages for feature extraction."
   ],
   "id": "e0a5fca79bcca55f"
  },
  {
   "metadata": {
    "ExecuteTime": {
     "end_time": "2024-10-11T10:30:10.964234Z",
     "start_time": "2024-10-11T10:30:10.954796Z"
    }
   },
   "cell_type": "code",
   "outputs": [
    {
     "data": {
      "text/plain": "((728, 500), (182, 500))"
     },
     "execution_count": 313,
     "metadata": {},
     "output_type": "execute_result"
    }
   ],
   "execution_count": 313,
   "source": [
    "from sklearn.feature_extraction.text import CountVectorizer\n",
    "\n",
    "vectorizer = CountVectorizer(max_features=500)\n",
    "\n",
    "x_train_bow = vectorizer.fit_transform(x_train)\n",
    "x_test_bow = vectorizer.transform(x_text)\n",
    "\n",
    "x_train_bow.shape, x_test_bow.shape"
   ],
   "id": "e1204f7b398b8a19"
  },
  {
   "metadata": {
    "ExecuteTime": {
     "end_time": "2024-10-11T10:33:30.492071Z",
     "start_time": "2024-10-11T10:33:30.480703Z"
    }
   },
   "cell_type": "code",
   "outputs": [],
   "execution_count": 313,
   "source": [],
   "id": "5db4e6e475359f1f"
  },
  {
   "metadata": {
    "ExecuteTime": {
     "start_time": "2024-10-11T09:44:04.620400Z"
    }
   },
   "cell_type": "code",
   "outputs": [],
   "execution_count": null,
   "source": [],
   "id": "17ef8f88417cbbdf"
  },
  {
   "metadata": {},
   "cell_type": "markdown",
   "source": [
    "## Exercise 5: Clustering\n",
    "\n",
    "**Objective**: Cluster news articles based on their content.\n",
    "\n",
    "1. Apply KMeans clustering to group news articles into 42 clusters.\n",
    "2. Visualize the clusters using PCA or t-SNE."
   ],
   "id": "e4c0485d1397a8c7"
  },
  {
   "metadata": {
    "ExecuteTime": {
     "end_time": "2024-10-11T10:47:53.252700Z",
     "start_time": "2024-10-11T10:47:52.531885Z"
    }
   },
   "cell_type": "code",
   "outputs": [],
   "execution_count": 314,
   "source": [
    "from sklearn.cluster import KMeans\n",
    "\n",
    "k = 10\n",
    "kmeans = KMeans(n_clusters=k, random_state=42).fit(x_train_bow)"
   ],
   "id": "618184bbf1586562"
  },
  {
   "metadata": {
    "ExecuteTime": {
     "end_time": "2024-10-11T10:48:06.097032Z",
     "start_time": "2024-10-11T10:48:06.085363Z"
    }
   },
   "cell_type": "code",
   "outputs": [
    {
     "data": {
      "text/plain": "array([7, 2, 3, 3, 7, 3, 3, 7, 7, 7], dtype=int32)"
     },
     "execution_count": 316,
     "metadata": {},
     "output_type": "execute_result"
    }
   ],
   "execution_count": 316,
   "source": [
    "kmeans.labels_[:10]\n"
   ],
   "id": "f9d62f80e0fcbae"
  },
  {
   "metadata": {
    "ExecuteTime": {
     "end_time": "2024-10-11T10:49:24.910410Z",
     "start_time": "2024-10-11T10:49:24.898745Z"
    }
   },
   "cell_type": "code",
   "outputs": [
    {
     "data": {
      "text/plain": "811         U.S. NEWS\n982     ENTERTAINMENT\n386         U.S. NEWS\n730          POLITICS\n876          POLITICS\n307       ENVIRONMENT\n580    CULTURE & ARTS\n148          POLITICS\n550     ENTERTAINMENT\n699          POLITICS\nName: category, dtype: object"
     },
     "execution_count": 317,
     "metadata": {},
     "output_type": "execute_result"
    }
   ],
   "execution_count": 317,
   "source": [
    "y_train[:10]"
   ],
   "id": "f09fe8151939a692"
  },
  {
   "cell_type": "code",
   "outputs": [
    {
     "data": {
      "text/plain": "array([[-0.65901009, -0.23392999],\n       [ 1.39020093, -0.24496951],\n       [ 0.37995826,  0.16403151],\n       ...,\n       [-0.75871215, -0.12585613],\n       [ 1.36197995, -0.13083642],\n       [ 1.26227882, -0.2257048 ]])"
     },
     "execution_count": 320,
     "metadata": {},
     "output_type": "execute_result"
    }
   ],
   "source": [
    "from sklearn.decomposition import PCA\n",
    "\n",
    "pca = PCA(n_components=2)\n",
    "X_reduced = pca.fit_transform(x_train_bow)\n",
    "X_reduced"
   ],
   "metadata": {
    "collapsed": false,
    "ExecuteTime": {
     "end_time": "2024-10-11T10:57:34.702252Z",
     "start_time": "2024-10-11T10:57:34.671326Z"
    }
   },
   "id": "75b9e18ca398a9a",
   "execution_count": 320
  },
  {
   "cell_type": "code",
   "outputs": [
    {
     "data": {
      "text/plain": "<Figure size 800x600 with 1 Axes>",
      "image/png": "[encoded data removed]"
     },
     "metadata": {},
     "output_type": "display_data"
    }
   ],
   "source": [
    "color_map = {cat: i for i, cat in enumerate(set(y_train))}\n",
    "colors = y_train.map(color_map)\n",
    "\n",
    "plt.figure(figsize=(8,6))\n",
    "scatter = plt.scatter(X_reduced[:, 0], X_reduced[:, 1], c=colors, cmap=\"rainbow\", label = y_train)\n",
    "plt.title('KMeans clustering')\n",
    "plt.xlabel(\" PC 1\")\n",
    "plt.ylabel(\" PC 2\")\n",
    "\n",
    "plt.legend(*scatter.legend_elements(), loc=\"center left\", bbox_to_anchor=(1, 0.5), title = \"Clusters\")\n",
    "plt.show()"
   ],
   "metadata": {
    "collapsed": false,
    "ExecuteTime": {
     "end_time": "2024-10-11T11:08:35.583831Z",
     "start_time": "2024-10-11T11:08:35.427059Z"
    }
   },
   "id": "14f47952a3000dd0",
   "execution_count": 327
  },
  {
   "metadata": {},
   "cell_type": "markdown",
   "source": [
    "## Exercise 6: Model Training\n",
    "\n",
    "**Objective**: Train machine learning models for text classification.\n",
    "\n",
    "1. Train various machine learning models on the preprocessed and vectorized data.\n",
    "   - Choose models from the **sklearn** library (e.g., Logistic Regression, Random Forest, SVM).\n",
    "   "
   ],
   "id": "c384b0a5acc0b062"
  },
  {
   "metadata": {
    "ExecuteTime": {
     "end_time": "2024-10-11T11:14:53.608719Z",
     "start_time": "2024-10-11T11:14:53.582829Z"
    }
   },
   "cell_type": "code",
   "outputs": [],
   "execution_count": 329,
   "source": [
    "from sklearn.linear_model import LogisticRegression\n",
    "\n",
    "model = LogisticRegression(random_state=123).fit(x_train_bow, y_train)\n"
   ],
   "id": "a26c181298845ca4"
  },
  {
   "metadata": {
    "ExecuteTime": {
     "end_time": "2024-10-11T11:17:41.005486Z",
     "start_time": "2024-10-11T11:17:40.631827Z"
    }
   },
   "cell_type": "code",
   "outputs": [],
   "execution_count": 330,
   "source": [
    "from sklearn.ensemble import RandomForestClassifier\n",
    "\n",
    "rf = RandomForestClassifier(random_state=123).fit(x_train_bow, y_train)"
   ],
   "id": "de89bd92eb9e729f"
  },
  {
   "metadata": {
    "ExecuteTime": {
     "start_time": "2024-10-11T09:44:04.626502Z"
    }
   },
   "cell_type": "code",
   "outputs": [],
   "execution_count": null,
   "source": [],
   "id": "7d48b0da7d9b1a4f"
  },
  {
   "metadata": {},
   "cell_type": "markdown",
   "source": [
    "## Exercise 7: Model Evaluation\n",
    "\n",
    "**Objective**: Evaluate the performance of the trained models.\n",
    "\n",
    "1. Evaluate the models using appropriate metrics such as accuracy, precision, recall, and F1-score.\n",
    "2. Perform **cross-validation** on at least one model to ensure reliable performance evaluation.\n"
   ],
   "id": "67d1c24939321e06"
  },
  {
   "metadata": {
    "ExecuteTime": {
     "end_time": "2024-10-11T11:27:01.828805Z",
     "start_time": "2024-10-11T11:27:01.816379Z"
    }
   },
   "cell_type": "code",
   "outputs": [
    {
     "name": "stderr",
     "output_type": "stream",
     "text": [
      "/Users/beatrizdias/anaconda3/envs/tac-hands-on/lib/python3.10/site-packages/sklearn/metrics/_classification.py:1531: UndefinedMetricWarning: Precision is ill-defined and being set to 0.0 in labels with no predicted samples. Use `zero_division` parameter to control this behavior.\n",
      "  _warn_prf(average, modifier, f\"{metric.capitalize()} is\", len(result))\n"
     ]
    },
    {
     "data": {
      "text/plain": "(0.6208791208791209, 0.6098691672529349, 0.6208791208791209, 0.60319478253255)"
     },
     "execution_count": 333,
     "metadata": {},
     "output_type": "execute_result"
    }
   ],
   "execution_count": 333,
   "source": [
    "from sklearn.metrics import accuracy_score, precision_score, recall_score, f1_score\n",
    "\n",
    "y_pred_lr = model.predict(x_test_bow)\n",
    "acc = accuracy_score(y_text, y_pred_lr)\n",
    "precision = precision_score(y_text, y_pred_lr, average=\"weighted\")\n",
    "recall = recall_score(y_text, y_pred_lr, average=\"weighted\")\n",
    "f1 = f1_score(y_text, y_pred_lr, average=\"weighted\")\n",
    "\n",
    "acc, precision, recall, f1\n"
   ],
   "id": "55c8fdbf9aace97e"
  },
  {
   "metadata": {
    "ExecuteTime": {
     "end_time": "2024-10-11T11:31:19.772898Z",
     "start_time": "2024-10-11T11:31:19.754245Z"
    }
   },
   "cell_type": "code",
   "outputs": [
    {
     "name": "stderr",
     "output_type": "stream",
     "text": [
      "/Users/beatrizdias/anaconda3/envs/tac-hands-on/lib/python3.10/site-packages/sklearn/metrics/_classification.py:1531: UndefinedMetricWarning: Precision is ill-defined and being set to 0.0 in labels with no predicted samples. Use `zero_division` parameter to control this behavior.\n",
      "  _warn_prf(average, modifier, f\"{metric.capitalize()} is\", len(result))\n"
     ]
    },
    {
     "data": {
      "text/plain": "(0.5879120879120879,\n 0.5753267784846732,\n 0.5879120879120879,\n 0.5711820913562569)"
     },
     "execution_count": 334,
     "metadata": {},
     "output_type": "execute_result"
    }
   ],
   "execution_count": 334,
   "source": [
    "from sklearn.metrics import accuracy_score, precision_score, recall_score, f1_score\n",
    "\n",
    "y_pred_rf = rf.predict(x_test_bow)\n",
    "acc = accuracy_score(y_text, y_pred_rf)\n",
    "precision = precision_score(y_text, y_pred_rf, average=\"weighted\")\n",
    "recall = recall_score(y_text, y_pred_rf, average=\"weighted\")\n",
    "f1 = f1_score(y_text, y_pred_rf, average=\"weighted\")\n",
    "\n",
    "acc, precision, recall, f1"
   ],
   "id": "dc93d4f22fedbe00"
  },
  {
   "metadata": {
    "ExecuteTime": {
     "end_time": "2024-10-11T11:33:21.302269Z",
     "start_time": "2024-10-11T11:33:21.248856Z"
    }
   },
   "cell_type": "code",
   "outputs": [
    {
     "name": "stdout",
     "output_type": "stream",
     "text": [
      "[0.62962963 0.57613169 0.59090909]\n"
     ]
    }
   ],
   "execution_count": 335,
   "source": [
    "from sklearn.model_selection import cross_val_score\n",
    "\n",
    "print(cross_val_score(model, x_train_bow, y_train, cv=3))"
   ],
   "id": "9088fc738117a2b6"
  },
  {
   "cell_type": "code",
   "outputs": [],
   "source": [
    "from sklearn\n",
    "model = RadomForestClassifier(random_state=123)"
   ],
   "metadata": {
    "collapsed": false
   },
   "id": "d76d8f366395fd"
  }
 ],
 "metadata": {
  "kernelspec": {
   "display_name": "Python 3",
   "language": "python",
   "name": "python3"
  },
  "language_info": {
   "codemirror_mode": {
    "name": "ipython",
    "version": 2
   },
   "file_extension": ".py",
   "mimetype": "text/x-python",
   "name": "python",
   "nbconvert_exporter": "python",
   "pygments_lexer": "ipython2",
   "version": "2.7.6"
  }
 },
 "nbformat": 4,
 "nbformat_minor": 5
}
