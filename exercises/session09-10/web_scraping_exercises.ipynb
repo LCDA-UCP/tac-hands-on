{
 "cells": [
  {
   "cell_type": "markdown",
   "id": "dd0745f53f218a78",
   "metadata": {},
   "source": [
    "# Introduction to Web Scraping in Python\n",
    "\n",
    "Web scraping involves extracting and processing data from websites.\n",
    "\n",
    "The web is one of the richest sources of information available today. Fields like data science, business intelligence, and journalism can gain valuable insights by collecting and analyzing web data.\n",
    "\n",
    "In this tutorial, you will learn how to:\n",
    "\n",
    "- Extract website data using string manipulation and regular expressions\n",
    "- Parse HTML content with an HTML parser\n",
    "- Interact with forms and dynamic web elements\n",
    "\n",
    "\n"
   ]
  },
  {
   "cell_type": "markdown",
   "id": "94dbcba63286c8ab",
   "metadata": {},
   "source": [
    "**Before using Python for web scraping, always review the website's terms of service to ensure automated access is allowed. Scraping a website without permission can be legally unclear, and violating its terms may lead to potential issues.**"
   ]
  },
  {
   "cell_type": "markdown",
   "id": "9087d0a69b913560",
   "metadata": {},
   "source": [
    "---"
   ]
  },
  {
   "cell_type": "markdown",
   "id": "3a33d317d9cf3574",
   "metadata": {},
   "source": [
    "## Building Our First Web Scraper\n",
    "\n",
    "A useful package for web scraping in Python’s standard library is `urllib`, which provides tools for handling URLs. Specifically, the `urllib.request` module includes the `urlopen()` function, allowing you to open a URL directly within your program.\n"
   ]
  },
  {
   "cell_type": "markdown",
   "id": "b502640d0e7def95",
   "metadata": {},
   "source": [
    "For this tutorial, we’ll use a page that’s hosted on Real Python’s server. The page that we’ll access has been set up for use with these kind of tutorials."
   ]
  },
  {
   "cell_type": "markdown",
   "id": "f4a21802551516b",
   "metadata": {},
   "source": [
    "### 1. - Using ```urllib``` "
   ]
  },
  {
   "cell_type": "markdown",
   "id": "8b6ce76c8f0df69",
   "metadata": {},
   "source": [
    "### 1.1 - Import the `urlopen` Function from the `urllib.request` Module"
   ]
  },
  {
   "cell_type": "code",
   "execution_count": 146,
   "id": "535e0225fa4db892",
   "metadata": {
    "ExecuteTime": {
     "end_time": "2024-10-15T20:45:17.913920Z",
     "start_time": "2024-10-15T20:45:17.910837Z"
    }
   },
   "outputs": [],
   "source": [
    "from urllib.request import urlopen"
   ]
  },
  {
   "cell_type": "markdown",
   "id": "6dd87cb8befe33c5",
   "metadata": {},
   "source": [
    "### 1.2 - Define the URL to Scrape"
   ]
  },
  {
   "cell_type": "code",
   "execution_count": 147,
   "id": "21ccb6a6bc72bb79",
   "metadata": {
    "ExecuteTime": {
     "end_time": "2024-10-15T20:45:17.958533Z",
     "start_time": "2024-10-15T20:45:17.956338Z"
    }
   },
   "outputs": [],
   "source": [
    "url = \"http://olympus.realpython.org/profiles/aphrodite\""
   ]
  },
  {
   "cell_type": "markdown",
   "id": "786ed0b1c7332fb6",
   "metadata": {},
   "source": [
    "### 1.3 - Open a URL Using `urlopen()`"
   ]
  },
  {
   "cell_type": "code",
   "execution_count": 148,
   "id": "69c2d49727d4d5d",
   "metadata": {
    "ExecuteTime": {
     "end_time": "2024-10-15T20:45:18.039904Z",
     "start_time": "2024-10-15T20:45:18.038274Z"
    }
   },
   "outputs": [],
   "source": [
    "page = urlopen(url)"
   ]
  },
  {
   "cell_type": "code",
   "execution_count": 149,
   "id": "6d652046a6be82c0",
   "metadata": {
    "ExecuteTime": {
     "end_time": "2024-10-15T20:45:18.102180Z",
     "start_time": "2024-10-15T20:45:18.100297Z"
    }
   },
   "outputs": [
    {
     "data": {
      "text/plain": [
       "<http.client.HTTPResponse at 0x2bda09af4c0>"
      ]
     },
     "execution_count": 149,
     "metadata": {},
     "output_type": "execute_result"
    }
   ],
   "source": [
    "page"
   ]
  },
  {
   "cell_type": "markdown",
   "id": "3a656c439f563efd",
   "metadata": {},
   "source": [
    "### 1.4 - Extract the HTML Content of the Page\n",
    "\n",
    "TTo extract the HTML from a webpage, first use the `.read()` method of the `HTTPResponse` object, which returns the data as a sequence of bytes. Then, apply the `.decode()` method to convert the bytes into a string, typically using UTF-8 encoding.\n"
   ]
  },
  {
   "cell_type": "code",
   "execution_count": 150,
   "id": "4e76725b105a7fb7",
   "metadata": {
    "ExecuteTime": {
     "end_time": "2024-10-15T20:45:18.148907Z",
     "start_time": "2024-10-15T20:45:18.146267Z"
    }
   },
   "outputs": [
    {
     "name": "stdout",
     "output_type": "stream",
     "text": [
      "<html>\n",
      "<head>\n",
      "<title>Profile: Aphrodite</title>\n",
      "</head>\n",
      "<body bgcolor=\"yellow\">\n",
      "<center>\n",
      "<br><br>\n",
      "<img src=\"/static/aphrodite.gif\" />\n",
      "<h2>Name: Aphrodite</h2>\n",
      "<br><br>\n",
      "Favorite animal: Dove\n",
      "<br><br>\n",
      "Favorite color: Red\n",
      "<br><br>\n",
      "Hometown: Mount Olympus\n",
      "</center>\n",
      "</body>\n",
      "</html>\n",
      "\n"
     ]
    }
   ],
   "source": [
    "html_bytes = page.read()\n",
    "html = html_bytes.decode(\"utf-8\")\n",
    "print(html)"
   ]
  },
  {
   "cell_type": "code",
   "execution_count": 6,
   "id": "bc5d5281cc98e5d4",
   "metadata": {
    "ExecuteTime": {
     "end_time": "2024-10-15T20:45:18.209640Z",
     "start_time": "2024-10-15T20:45:18.207714Z"
    }
   },
   "outputs": [],
   "source": []
  },
  {
   "cell_type": "markdown",
   "id": "2063008f4a6a126f",
   "metadata": {},
   "source": [
    "The output you're viewing is the HTML code of the website, which your browser interprets and renders when you visit [http://olympus.realpython.org/profiles/aphrodite](http://olympus.realpython.org/profiles/aphrodite).\n",
    "\n",
    "Using `urllib`, you accessed the website just like a browser would. However, instead of displaying the content visually, you retrieved the source code as text. Now that you have the HTML as text, you can extract information from it in several ways.\n",
    "\n"
   ]
  },
  {
   "cell_type": "markdown",
   "id": "6c2a6091859278a8",
   "metadata": {},
   "source": [
    "---"
   ]
  },
  {
   "cell_type": "markdown",
   "id": "a3bb49d6f050bd2",
   "metadata": {},
   "source": [
    "## 2. - Extract Text From HTML With String Methods"
   ]
  },
  {
   "cell_type": "markdown",
   "id": "f70bb8d7f099879f",
   "metadata": {},
   "source": [
    "One way to extract information from a webpage's HTML is by using string methods. For example, you can use `.find()` to search through the HTML text for the `<title>` tags and extract the page's title.\n",
    "\n",
    "To begin, you'll extract the title from the webpage you requested earlier. If you know the index of the first character of the title and the index of the closing `</title>` tag, you can use a string slice to retrieve the title.\n",
    "\n",
    "Since `.find()` returns the index of the first occurrence of a substring, you can get the index of the opening `<title>` tag by passing the string `\"<title>\"` to `.find()`:\n"
   ]
  },
  {
   "cell_type": "markdown",
   "id": "8185335f09d44d77",
   "metadata": {},
   "source": [
    "### 2.1 - Extract the Title of the Page"
   ]
  },
  {
   "cell_type": "code",
   "execution_count": 151,
   "id": "47ef6265dd5ce906",
   "metadata": {
    "ExecuteTime": {
     "end_time": "2024-10-15T20:45:18.267751Z",
     "start_time": "2024-10-15T20:45:18.265671Z"
    }
   },
   "outputs": [
    {
     "data": {
      "text/plain": [
       "14"
      ]
     },
     "execution_count": 151,
     "metadata": {},
     "output_type": "execute_result"
    }
   ],
   "source": [
    "title_index = html.find(\"<title>\")\n",
    "title_index"
   ]
  },
  {
   "cell_type": "markdown",
   "id": "2dff76a24bdf683f",
   "metadata": {},
   "source": [
    "You don't actually want the index of the `<title>` tag itself, but rather the index of the title text. To get the index of the first letter in the title, simply add the length of the string `\"<title>\"` to the `title_index` value:\n"
   ]
  },
  {
   "cell_type": "code",
   "execution_count": 152,
   "id": "fcdd7afb0e7c1cd3",
   "metadata": {
    "ExecuteTime": {
     "end_time": "2024-10-15T20:45:18.325241Z",
     "start_time": "2024-10-15T20:45:18.323045Z"
    }
   },
   "outputs": [
    {
     "data": {
      "text/plain": [
       "21"
      ]
     },
     "execution_count": 152,
     "metadata": {},
     "output_type": "execute_result"
    }
   ],
   "source": [
    "first_letter_index = title_index + len(\"<title>\")\n",
    "first_letter_index"
   ]
  },
  {
   "cell_type": "markdown",
   "id": "f5f2ed76ebf077e6",
   "metadata": {},
   "source": [
    "Next, get the index of the closing `</title>` tag by passing the string `\"</title>\"` to `.find()`:\n"
   ]
  },
  {
   "cell_type": "code",
   "execution_count": 153,
   "id": "34425e1ab61c61bb",
   "metadata": {
    "ExecuteTime": {
     "end_time": "2024-10-15T20:45:18.382585Z",
     "start_time": "2024-10-15T20:45:18.380313Z"
    }
   },
   "outputs": [
    {
     "data": {
      "text/plain": [
       "39"
      ]
     },
     "execution_count": 153,
     "metadata": {},
     "output_type": "execute_result"
    }
   ],
   "source": [
    "end_title = html.find(\"</title>\")\n",
    "end_title"
   ]
  },
  {
   "cell_type": "markdown",
   "id": "37a116f579ca618",
   "metadata": {},
   "source": [
    "Finally, you can extract the title by slicing the HTML string:"
   ]
  },
  {
   "cell_type": "code",
   "execution_count": 154,
   "id": "ee07accbc60f67b6",
   "metadata": {
    "ExecuteTime": {
     "end_time": "2024-10-15T20:45:18.440517Z",
     "start_time": "2024-10-15T20:45:18.438189Z"
    }
   },
   "outputs": [
    {
     "data": {
      "text/plain": [
       "'Profile: Aphrodite'"
      ]
     },
     "execution_count": 154,
     "metadata": {},
     "output_type": "execute_result"
    }
   ],
   "source": [
    "html[first_letter_index:end_title]"
   ]
  },
  {
   "cell_type": "markdown",
   "id": "70ad4c083ef91019",
   "metadata": {},
   "source": [
    "Real-world HTML can be much more complex and unpredictable compared to the HTML on the Aphrodite profile page. Here’s [another profile page](http://olympus.realpython.org/profiles/poseidon) with messier HTML that you can scrape:\n"
   ]
  },
  {
   "cell_type": "code",
   "execution_count": 155,
   "id": "406c2b8ac3b3a737",
   "metadata": {
    "ExecuteTime": {
     "end_time": "2024-10-15T20:45:18.485971Z",
     "start_time": "2024-10-15T20:45:18.483798Z"
    }
   },
   "outputs": [
    {
     "data": {
      "text/plain": [
       "<http.client.HTTPResponse at 0x2bda0a3eda0>"
      ]
     },
     "execution_count": 155,
     "metadata": {},
     "output_type": "execute_result"
    }
   ],
   "source": [
    "url2 = \"http://olympus.realpython.org/profiles/poseidon\"\n",
    "page2 = urlopen(url2)\n",
    "page2\n"
   ]
  },
  {
   "cell_type": "code",
   "execution_count": 156,
   "id": "86519da3",
   "metadata": {},
   "outputs": [
    {
     "name": "stdout",
     "output_type": "stream",
     "text": [
      "<html>\n",
      "<head>\n",
      "<title >Profile: Poseidon</title>\n",
      "</head>\n",
      "<body bgcolor=\"yellow\">\n",
      "<center>\n",
      "<br><br>\n",
      "<img src=\"/static/poseidon.jpg\" />\n",
      "<h2>Name: Poseidon</h2>\n",
      "<br><br>\n",
      "Favorite animal: Dolphin\n",
      "<br><br>\n",
      "Favorite color: Blue\n",
      "<br><br>\n",
      "Hometown: Sea\n",
      "</center>\n",
      "</body>\n",
      "</html>\n",
      "\n"
     ]
    }
   ],
   "source": [
    "html_bytes2 = page2.read()\n",
    "html2 = html_bytes2.decode(\"utf-8\")\n",
    "print(html2)"
   ]
  },
  {
   "cell_type": "code",
   "execution_count": 157,
   "id": "2ac35917",
   "metadata": {},
   "outputs": [
    {
     "data": {
      "text/plain": [
       "14"
      ]
     },
     "execution_count": 157,
     "metadata": {},
     "output_type": "execute_result"
    }
   ],
   "source": [
    "title_index2 = html2.find(\"<title >\")\n",
    "title_index2"
   ]
  },
  {
   "cell_type": "code",
   "execution_count": 158,
   "id": "c3979746",
   "metadata": {},
   "outputs": [
    {
     "data": {
      "text/plain": [
       "22"
      ]
     },
     "execution_count": 158,
     "metadata": {},
     "output_type": "execute_result"
    }
   ],
   "source": [
    "first_letter_index2 = title_index2 + len(\"<title >\")\n",
    "first_letter_index2"
   ]
  },
  {
   "cell_type": "code",
   "execution_count": 159,
   "id": "a4bc575d",
   "metadata": {},
   "outputs": [
    {
     "data": {
      "text/plain": [
       "39"
      ]
     },
     "execution_count": 159,
     "metadata": {},
     "output_type": "execute_result"
    }
   ],
   "source": [
    "end_title2 = html2.find(\"</title>\")\n",
    "end_title2"
   ]
  },
  {
   "cell_type": "markdown",
   "id": "3d4deb25be1931b1",
   "metadata": {},
   "source": [
    "### 2.2 - Extract the Title of the New Page"
   ]
  },
  {
   "cell_type": "code",
   "execution_count": 160,
   "id": "89e397c1fa523fc3",
   "metadata": {
    "ExecuteTime": {
     "end_time": "2024-10-15T20:45:18.543110Z",
     "start_time": "2024-10-15T20:45:18.540959Z"
    }
   },
   "outputs": [
    {
     "data": {
      "text/plain": [
       "'Profile: Poseidon'"
      ]
     },
     "execution_count": 160,
     "metadata": {},
     "output_type": "execute_result"
    }
   ],
   "source": [
    "html2[first_letter_index2:end_title2]"
   ]
  },
  {
   "cell_type": "markdown",
   "id": "f0557f55b699e2d4",
   "metadata": {},
   "source": [
    "Whoops! There’s a bit of HTML mixed in with the title. Why is that?\n",
    "\n",
    "The HTML for the `/profiles/poseidon` page looks similar to the `/profiles/aphrodite` page, but there’s a small difference: the opening `<title>` tag has an extra space before the closing angle bracket (>), rendering it as `<title >`.\n",
    "\n",
    "As a result, `html.find(\"<title>\")` returns -1 because the exact substring `\"<title>\"` doesn’t exist. When -1 is added to `len(\"<title>\")`, which is 7, the `start_index` variable is assigned the value 6.\n",
    "\n",
    "The character at index 6 of the `html` string is a newline character (`\\n`), right before the opening angle bracket (<) of the `<head>` tag. This means that `html[start_index:end_index]` returns all the HTML starting from that newline and ending just before the `</title>` tag.\n",
    "\n",
    "These types of issues can arise in many unpredictable ways, highlighting the need for a more reliable method to extract text from HTML.\n"
   ]
  },
  {
   "cell_type": "markdown",
   "id": "d0ae3167dfac58d9",
   "metadata": {},
   "source": [
    "---"
   ]
  },
  {
   "cell_type": "markdown",
   "id": "c1942a086ce96a8c",
   "metadata": {},
   "source": [
    "## 3. - Extract Text From HTML With Regular Expressions\n",
    "\n",
    "Regular expressions—or regexes for short—are patterns used to search for text within a string. Python supports regular expressions through the standard library's `re` module.\n"
   ]
  },
  {
   "cell_type": "markdown",
   "id": "b46c9792ae1d1a63",
   "metadata": {},
   "source": [
    "### 3.1 - Import the `re` Module"
   ]
  },
  {
   "cell_type": "code",
   "execution_count": 161,
   "id": "f50872da7683c7d1",
   "metadata": {
    "ExecuteTime": {
     "end_time": "2024-10-15T20:45:18.588681Z",
     "start_time": "2024-10-15T20:45:18.586722Z"
    }
   },
   "outputs": [],
   "source": [
    "import re"
   ]
  },
  {
   "cell_type": "markdown",
   "id": "ae538dae049a5d3f",
   "metadata": {},
   "source": [
    "### 3.2 - Try to parse out the title [from another profile page](http://olympus.realpython.org/profiles/dionysus), which contains this rather carelessly written line of HTML:\n",
    "\n",
    "```html\n",
    "<TITLE >Profile: Dionysus</title  / >\n",
    "```"
   ]
  },
  {
   "cell_type": "code",
   "execution_count": null,
   "id": "aea30f81514ef1ad",
   "metadata": {
    "ExecuteTime": {
     "end_time": "2024-10-15T20:45:18.649544Z",
     "start_time": "2024-10-15T20:45:18.647300Z"
    }
   },
   "outputs": [],
   "source": []
  },
  {
   "cell_type": "markdown",
   "id": "2351aff03480bd2d",
   "metadata": {},
   "source": [
    "Let's break down the first regular expression in the pattern string into three components:\n",
    "\n",
    "1. `<title.*?>` matches the opening `<TITLE>` tag in the HTML. The `<title` portion aligns with `<TITLE` because `re.search()` is invoked with `re.IGNORECASE`. The `.*?>` portion matches any text that follows `<TITLE` up to the first occurrence of `>`.\n",
    "\n",
    "2. `.*?` matches all text following the opening `<TITLE>`, but does so non-greedily, meaning it stops at the first instance of `</title.*?>`.\n",
    "\n",
    "3. `</title.*?>` is similar to the first pattern, but it includes the `/` character, allowing it to match the closing `</title>` tag in the HTML.\n",
    "\n",
    "The second regular expression, `<.*?>`, also employs the non-greedy `.*?` to match all HTML tags within the title string. By replacing any found matches with `\"\"`, the `re.sub()` function effectively removes all tags, leaving only the text.\n",
    "\n"
   ]
  },
  {
   "cell_type": "markdown",
   "id": "e4069a696c1bf89f",
   "metadata": {},
   "source": [
    "---"
   ]
  },
  {
   "cell_type": "markdown",
   "id": "f8a46405bb98c5a9",
   "metadata": {},
   "source": [
    "## 4. - Check Your Understanding"
   ]
  },
  {
   "cell_type": "markdown",
   "id": "49ed555681157330",
   "metadata": {},
   "source": [
    "### Write a program that grabs the full HTML from the following URL:\n",
    "\n",
    "### [http://olympus.realpython.org/profiles/dionysus](http://olympus.realpython.org/profiles/dionysus)\n",
    "\n",
    "### Next, use `.find()` to extract the text following \"Name:\" and \"Favorite Color:\". Ensure that you do not include any leading spaces or trailing HTML tags that may be present on the same line.\n"
   ]
  },
  {
   "cell_type": "code",
   "execution_count": 162,
   "id": "18a8e01dcdd1f0c1",
   "metadata": {
    "ExecuteTime": {
     "end_time": "2024-10-15T20:45:18.696636Z",
     "start_time": "2024-10-15T20:45:18.694267Z"
    }
   },
   "outputs": [],
   "source": [
    "# ..."
   ]
  },
  {
   "cell_type": "code",
   "execution_count": 163,
   "id": "eb71f61c68e27a6e",
   "metadata": {
    "ExecuteTime": {
     "end_time": "2024-10-15T20:45:18.744289Z",
     "start_time": "2024-10-15T20:45:18.741657Z"
    }
   },
   "outputs": [],
   "source": [
    "# ..."
   ]
  },
  {
   "cell_type": "code",
   "execution_count": 164,
   "id": "f4145c0318fb8093",
   "metadata": {
    "ExecuteTime": {
     "end_time": "2024-10-15T20:45:18.810Z",
     "start_time": "2024-10-15T20:45:18.808036Z"
    }
   },
   "outputs": [],
   "source": [
    "# ..."
   ]
  },
  {
   "cell_type": "markdown",
   "id": "bd4712d9967893ab",
   "metadata": {},
   "source": [
    "---"
   ]
  },
  {
   "cell_type": "markdown",
   "id": "faab8557d6bf907f",
   "metadata": {},
   "source": [
    "## 5. - Parsing HTML Content With an HTML Parser\n",
    "\n",
    "While regular expressions are powerful for pattern matching, using an HTML parser specifically designed for parsing HTML pages can often be more straightforward. There are several Python tools available for this purpose, but the [Beautiful Soup](https://beautiful-soup-4.readthedocs.io/en/latest/) library is an excellent choice for beginners.\n"
   ]
  },
  {
   "cell_type": "markdown",
   "id": "f6210e98d2a6cf4",
   "metadata": {},
   "source": [
    "### 5.1 - Install the `beautifulsoup4` Package\n",
    "\n",
    "You can install Beautiful Soup using pip:\n",
    "\n",
    "```bash\n",
    "pip install beautifulsoup4\n",
    "```\n",
    "\n",
    "Because we defined a requirement file, you can install all the packages needed for this class by running the following command:\n",
    "\n",
    "```bash\n",
    "pip install -r requirements.txt\n",
    "```"
   ]
  },
  {
   "cell_type": "markdown",
   "id": "c2789fb09e7508cf",
   "metadata": {},
   "source": [
    "### 5.2 - Import the `BeautifulSoup` Class and Create a BeautifulSoup Object"
   ]
  },
  {
   "cell_type": "code",
   "execution_count": 165,
   "id": "faffbc73229ccad6",
   "metadata": {
    "ExecuteTime": {
     "end_time": "2024-10-15T20:45:18.867999Z",
     "start_time": "2024-10-15T20:45:18.866064Z"
    }
   },
   "outputs": [],
   "source": [
    "# ..."
   ]
  },
  {
   "cell_type": "markdown",
   "id": "c8e7721a662a6dc",
   "metadata": {},
   "source": [
    "This code performs three main tasks:\n",
    "\n",
    "1. Opens the URL [http://olympus.realpython.org/profiles/dionysus](http://olympus.realpython.org/profiles/dionysus) using `urlopen()` from the `urllib.request` module.\n",
    "\n",
    "2. Reads the HTML from the page as a string and assigns it to the `html` variable.\n",
    "\n",
    "3. Creates a BeautifulSoup object, assigning it to the `soup` variable.\n",
    "\n",
    "The BeautifulSoup object created and assigned to `soup` is initialized with two arguments. The first argument is the HTML to be parsed, while the second argument, `\"html.parser\"`, specifies the parser to use. This indicates that Python's built-in HTML parser should be employed.\n"
   ]
  },
  {
   "cell_type": "markdown",
   "id": "a85eb77d8fd247b5",
   "metadata": {},
   "source": [
    "### 5.3 - Using a BeautifulSoup Object\n",
    "\n",
    "For instance, BeautifulSoup objects include a `.get_text()` method that allows you to extract all the text from the document while automatically removing any HTML tags."
   ]
  },
  {
   "cell_type": "code",
   "execution_count": 166,
   "id": "c082b0ed12f3c574",
   "metadata": {
    "ExecuteTime": {
     "end_time": "2024-10-15T20:45:18.925827Z",
     "start_time": "2024-10-15T20:45:18.923925Z"
    }
   },
   "outputs": [],
   "source": [
    "# ..."
   ]
  },
  {
   "cell_type": "markdown",
   "id": "fb8552f39a314d19",
   "metadata": {},
   "source": [
    "The output contains many blank lines, which are caused by newline characters in the HTML document's text. If necessary, you can remove these blank lines using the `.replace()` string method."
   ]
  },
  {
   "cell_type": "markdown",
   "id": "fc0538dc5a3c6710",
   "metadata": {},
   "source": [
    "### 5.4 - Extracting Text From the HTML using BeautifulSoup\n",
    "\n",
    "Frequently, you may want to extract only specific text from an HTML document. In such cases, using Beautiful Soup to extract the text and then applying the `.find()` string method can be easier than working directly with regular expressions.\n",
    "\n",
    "However, there are times when the HTML tags themselves indicate the data you want to retrieve. For example, if you want to gather the URLs for all the images on a page, these links are found in the `src` attribute of `<img>` HTML tags.\n",
    "\n",
    "In this scenario, you can use `find_all()` to return a list of all instances of that specific tag:\n"
   ]
  },
  {
   "cell_type": "code",
   "execution_count": 167,
   "id": "4fe19ce9ad9f711a",
   "metadata": {
    "ExecuteTime": {
     "end_time": "2024-10-15T20:45:18.985745Z",
     "start_time": "2024-10-15T20:45:18.983855Z"
    }
   },
   "outputs": [],
   "source": [
    "# ..."
   ]
  },
  {
   "cell_type": "markdown",
   "id": "243b19cfdacc6237",
   "metadata": {},
   "source": [
    "This will return a list of all `<img>` tags in the HTML document. Although the objects in the list may appear to be strings representing the tags, they are actually instances of the Tag object provided by Beautiful Soup. Tag objects offer a straightforward interface for interacting with the information they contain.\n"
   ]
  },
  {
   "cell_type": "code",
   "execution_count": 168,
   "id": "d7030f525920f72",
   "metadata": {
    "ExecuteTime": {
     "end_time": "2024-10-15T20:45:19.032869Z",
     "start_time": "2024-10-15T20:45:19.030191Z"
    }
   },
   "outputs": [],
   "source": [
    "# ..."
   ]
  },
  {
   "cell_type": "markdown",
   "id": "df08734a295b0106",
   "metadata": {},
   "source": [
    "Each Tag object has a .name property that returns a string containing the HTML tag type:"
   ]
  },
  {
   "cell_type": "code",
   "execution_count": 169,
   "id": "af62b8891ec4b815",
   "metadata": {
    "ExecuteTime": {
     "end_time": "2024-10-15T20:45:19.092733Z",
     "start_time": "2024-10-15T20:45:19.090818Z"
    }
   },
   "outputs": [],
   "source": [
    "# ..."
   ]
  },
  {
   "cell_type": "markdown",
   "id": "e7c8f19bad6484e9",
   "metadata": {},
   "source": [
    "You can access the HTML attributes of a Tag object by placing their names within square brackets, similar to how you would access values in a dictionary.\n",
    "\n",
    "For instance, the `<img src=\"/static/dionysus.jpg\"/>` tag has a single attribute, `src`, with the value `\"/static/dionysus.jpg\"`. Similarly, an HTML tag like the link `<a href=\"https://realpython.com\" target=\"_blank\">` has two attributes, `href` and `target`.\n",
    "\n",
    "To retrieve the source of the images on the Dionysus profile page, you can access the `src` attribute using the dictionary notation described above:\n"
   ]
  },
  {
   "cell_type": "markdown",
   "id": "4167ecaef4ad10ac",
   "metadata": {},
   "source": [
    "You can check the attributes of a Tag object by using the `.attrs` property:"
   ]
  },
  {
   "cell_type": "code",
   "execution_count": 170,
   "id": "11e6f94494ead768",
   "metadata": {
    "ExecuteTime": {
     "end_time": "2024-10-15T20:45:19.152704Z",
     "start_time": "2024-10-15T20:45:19.150623Z"
    }
   },
   "outputs": [],
   "source": [
    "# ..."
   ]
  },
  {
   "cell_type": "markdown",
   "id": "24772a6871c08e06",
   "metadata": {},
   "source": [
    "Certain tags in HTML documents can be accessed through properties of the Tag object. For example, to retrieve the `<title>` tag in a document, you can use the `.title` property:"
   ]
  },
  {
   "cell_type": "code",
   "execution_count": 171,
   "id": "56b4884bcfd2271f",
   "metadata": {
    "ExecuteTime": {
     "end_time": "2024-10-15T20:45:19.209427Z",
     "start_time": "2024-10-15T20:45:19.207289Z"
    }
   },
   "outputs": [],
   "source": [
    "# ..."
   ]
  },
  {
   "cell_type": "code",
   "execution_count": 172,
   "id": "8713c0f8ea5dda74",
   "metadata": {
    "ExecuteTime": {
     "end_time": "2024-10-15T20:45:19.269066Z",
     "start_time": "2024-10-15T20:45:19.266851Z"
    }
   },
   "outputs": [],
   "source": [
    "# ..."
   ]
  },
  {
   "cell_type": "markdown",
   "id": "fd1f9c7b92c4e295",
   "metadata": {},
   "source": [
    "---"
   ]
  },
  {
   "cell_type": "markdown",
   "id": "91f8fb4bffe5d713",
   "metadata": {},
   "source": [
    "## 6. - Check Your Understanding\n",
    "\n",
    "### Write a program that grabs the full HTML from the following URL:\n",
    "\n",
    "### [http://olympus.realpython.org/profiles](http://olympus.realpython.org/profiles)\n",
    "\n",
    "### Next, use Beautiful Soup to extract a list of all the links on the page by looking for HTML tags with the name `a` and retrieving the value taken on by the href attribute of each tag.\n",
    "\n",
    "### The final output should look like this:\n",
    "\n",
    "```shell\n",
    "http://olympus.realpython.org/profiles/aphrodite\n",
    "http://olympus.realpython.org/profiles/poseidon\n",
    "http://olympus.realpython.org/profiles/dionysus\n",
    "```\n"
   ]
  },
  {
   "cell_type": "code",
   "execution_count": 173,
   "id": "ebb9b519ec46b1cd",
   "metadata": {
    "ExecuteTime": {
     "end_time": "2024-10-15T20:45:19.315352Z",
     "start_time": "2024-10-15T20:45:19.313455Z"
    }
   },
   "outputs": [],
   "source": [
    "# ..."
   ]
  },
  {
   "cell_type": "code",
   "execution_count": 174,
   "id": "3ff352bca72bdd9",
   "metadata": {
    "ExecuteTime": {
     "end_time": "2024-10-15T20:45:19.361960Z",
     "start_time": "2024-10-15T20:45:19.359080Z"
    }
   },
   "outputs": [],
   "source": [
    "# ..."
   ]
  },
  {
   "cell_type": "code",
   "execution_count": 175,
   "id": "1d38e9ff2ed3512f",
   "metadata": {
    "ExecuteTime": {
     "end_time": "2024-10-15T20:45:19.408776Z",
     "start_time": "2024-10-15T20:45:19.406026Z"
    }
   },
   "outputs": [],
   "source": [
    "# ..."
   ]
  },
  {
   "cell_type": "code",
   "execution_count": 176,
   "id": "d0fdf52448cbc36e",
   "metadata": {
    "ExecuteTime": {
     "end_time": "2024-10-15T20:45:19.455988Z",
     "start_time": "2024-10-15T20:45:19.453012Z"
    }
   },
   "outputs": [],
   "source": [
    "# ..."
   ]
  },
  {
   "cell_type": "code",
   "execution_count": 177,
   "id": "687359f656b739b6",
   "metadata": {
    "ExecuteTime": {
     "end_time": "2024-10-15T20:45:19.515379Z",
     "start_time": "2024-10-15T20:45:19.513267Z"
    }
   },
   "outputs": [],
   "source": [
    "# ..."
   ]
  },
  {
   "cell_type": "markdown",
   "id": "8bd956d8706ebe49",
   "metadata": {},
   "source": [
    "---"
   ]
  },
  {
   "cell_type": "markdown",
   "id": "481887c79fd01572",
   "metadata": {},
   "source": [
    "## 7. - Interacting With Forms and Dynamic Web Elements\n",
    "\n",
    "The `urllib` module you've been using in this tutorial is great for requesting the contents of a web page. However, there are instances when you need to interact with a web page to obtain the necessary content. For example, you might need to submit a form or click a button to reveal hidden content.\n",
    "\n",
    "The Python standard library does not include built-in functionality for interacting with web pages, but many third-party packages are available on PyPI. One popular and relatively straightforward option is [MechanicalSoup](https://mechanicalsoup.readthedocs.io/en/stable/).\n",
    "\n",
    "Essentially, MechanicalSoup acts as a headless browser—a web browser that operates without a graphical user interface. This headless browser can be controlled programmatically through a Python script.\n"
   ]
  },
  {
   "cell_type": "markdown",
   "id": "202f119d5b00864f",
   "metadata": {},
   "source": [
    "### 7.1 - Install the `mechanicalsoup` Package\n",
    "\n",
    "You can install MechanicalSoup using pip:\n",
    "\n",
    "```bash\n",
    "pip install MechanicalSoup\n",
    "```\n",
    "\n",
    "Because we defined a requirement file, you can install all the packages needed for this class by running the following command:\n",
    "\n",
    "```bash\n",
    "pip install -r requirements.txt\n",
    "```"
   ]
  },
  {
   "cell_type": "markdown",
   "id": "9911c0931a8d5c53",
   "metadata": {},
   "source": [
    "**Note: You may need to restart your Jupyter Notebook kernel after installing MechanicalSoup.**"
   ]
  },
  {
   "cell_type": "markdown",
   "id": "cebb0647a4733b43",
   "metadata": {},
   "source": [
    "### 7.2 - Create a Browser Object"
   ]
  },
  {
   "cell_type": "code",
   "execution_count": 178,
   "id": "ed02b49761d3f2fa",
   "metadata": {
    "ExecuteTime": {
     "end_time": "2024-10-15T20:45:19.561455Z",
     "start_time": "2024-10-15T20:45:19.558942Z"
    }
   },
   "outputs": [],
   "source": [
    "# ..."
   ]
  },
  {
   "cell_type": "markdown",
   "id": "dbace85b8c3d176e",
   "metadata": {},
   "source": [
    "Browser objects represent the headless web browser. You can utilize these objects to request a page from the Internet by passing a URL to their `.get()` method:"
   ]
  },
  {
   "cell_type": "code",
   "execution_count": 179,
   "id": "29450b5b1a46b1ed",
   "metadata": {
    "ExecuteTime": {
     "end_time": "2024-10-15T20:45:19.621084Z",
     "start_time": "2024-10-15T20:45:19.618891Z"
    }
   },
   "outputs": [],
   "source": [
    "# ..."
   ]
  },
  {
   "cell_type": "markdown",
   "id": "5bfa083b8ad68afc",
   "metadata": {},
   "source": [
    "The number 200 represents the status code returned by the request. A status code of 200 indicates that the request was successful. Conversely, an unsuccessful request might return a status code of 404 if the URL does not exist, or 500 if there is a server error during the request.\n"
   ]
  },
  {
   "cell_type": "markdown",
   "id": "7abad3f0f1568622",
   "metadata": {},
   "source": [
    "MechanicalSoup utilizes BeautifulSoup to parse the HTML obtained from the request. The `page` object includes a `.soup` attribute, which represents a BeautifulSoup object:"
   ]
  },
  {
   "cell_type": "code",
   "execution_count": 180,
   "id": "2b3c16b8eb1f05f9",
   "metadata": {
    "ExecuteTime": {
     "end_time": "2024-10-15T20:45:19.679969Z",
     "start_time": "2024-10-15T20:45:19.677874Z"
    }
   },
   "outputs": [],
   "source": [
    "# ..."
   ]
  },
  {
   "cell_type": "code",
   "execution_count": 181,
   "id": "2f00d72b00fb4dac",
   "metadata": {
    "ExecuteTime": {
     "end_time": "2024-10-15T20:45:19.738913Z",
     "start_time": "2024-10-15T20:45:19.736737Z"
    }
   },
   "outputs": [],
   "source": [
    "# ..."
   ]
  },
  {
   "cell_type": "markdown",
   "id": "1858c17c75763150",
   "metadata": {},
   "source": [
    "Notice this page has a `<form>` on it with `<input>` elements for a username and a password."
   ]
  },
  {
   "cell_type": "markdown",
   "id": "44bf552e86d69959",
   "metadata": {},
   "source": [
    "### 7.3 - Filling Out and Submitting a Form"
   ]
  },
  {
   "cell_type": "markdown",
   "id": "ea4d47d80907cd07",
   "metadata": {},
   "source": [
    "Before proceeding, open the [/login](http://olympus.realpython.org/login) page from the previous example in a browser and take a look at it yourself.\n"
   ]
  },
  {
   "cell_type": "markdown",
   "id": "2ea9858ab4351a7f",
   "metadata": {},
   "source": [
    "Try entering a random username and password combination. If your guess is incorrect, the message \"Wrong username or password!\" will appear at the bottom of the page.\n",
    "\n",
    "On the other hand, if you enter the correct login credentials, you will be redirected to the [/profiles](http://olympus.realpython.org/profiles) page:\n",
    "\n",
    "| Username | Password       |\n",
    "|----------|----------------|\n",
    "| zeus     | ThunderDude    |\n"
   ]
  },
  {
   "cell_type": "markdown",
   "id": "916166b8173465af",
   "metadata": {},
   "source": [
    "In the following example, you'll learn how to use MechanicalSoup to fill out and submit this form using Python!\n",
    "\n",
    "The key part of the HTML code is the login form, which includes everything inside the `<form>` tags. This form has its `name` attribute set to \"login\" and contains two `<input>` elements: one named `user` and the other named `pwd`. Additionally, there is a third `<input>` element for the Submit button.\n",
    "\n",
    "With an understanding of the login form's structure and the required credentials, let's examine a program that fills out the form and submits it.\n"
   ]
  },
  {
   "cell_type": "code",
   "execution_count": 182,
   "id": "6f8e412bbb96743b",
   "metadata": {
    "ExecuteTime": {
     "end_time": "2024-10-15T20:45:19.785949Z",
     "start_time": "2024-10-15T20:45:19.783315Z"
    }
   },
   "outputs": [],
   "source": [
    "# ..."
   ]
  },
  {
   "cell_type": "code",
   "execution_count": 183,
   "id": "232584c529dc211c",
   "metadata": {
    "ExecuteTime": {
     "end_time": "2024-10-15T20:45:19.843721Z",
     "start_time": "2024-10-15T20:45:19.841532Z"
    }
   },
   "outputs": [],
   "source": [
    "# ..."
   ]
  },
  {
   "cell_type": "markdown",
   "id": "635da44fd3f79b6a",
   "metadata": {},
   "source": [
    "Now, let's break down the example:\n",
    "\n",
    "1. You create a `Browser` instance and use it to request the URL `http://olympus.realpython.org/login`. The HTML content of the page is assigned to the `login_html` variable using the `.soup` property.\n",
    "\n",
    "2. `login_html.select(\"form\")` returns a list of all `<form>` elements on the page. Since there is only one `<form>` element, you can access it by retrieving the element at index 0 of the list. Alternatively, if there's only one form on the page, you can also use `login_html.form`.\n",
    "\n",
    "3. The next two lines select the username and password input fields and set their values to \"zeus\" and \"ThunderDude\", respectively.\n",
    "\n",
    "4. You submit the form using `browser.submit()`. Note that you pass two arguments to this method: the form object and the URL of the login page, which you can access via `login_page.url`.\n",
    "\n",
    "5. In the interactive window, you confirm that the submission successfully redirected to the `/profiles` page. If something had gone wrong, the value of `profiles_page.url` would still be `\"http://olympus.realpython.org/login\"`.\n"
   ]
  },
  {
   "cell_type": "markdown",
   "id": "993774cebd424c13",
   "metadata": {},
   "source": [
    "Now that you have the `profiles_page` variable set, it's time to programmatically obtain the URL for each link on the `/profiles` page.\n",
    "\n",
    "To achieve this, you can use the `.select()` method again, this time passing the string `\"a\"` to select all `<a>` anchor elements on the page:\n"
   ]
  },
  {
   "cell_type": "code",
   "execution_count": 184,
   "id": "319389af5371f6e7",
   "metadata": {
    "ExecuteTime": {
     "end_time": "2024-10-15T20:45:19.890821Z",
     "start_time": "2024-10-15T20:45:19.888094Z"
    }
   },
   "outputs": [],
   "source": [
    "# ..."
   ]
  },
  {
   "cell_type": "code",
   "execution_count": 185,
   "id": "e20435f4f1157adf",
   "metadata": {
    "ExecuteTime": {
     "end_time": "2024-10-15T20:45:19.949615Z",
     "start_time": "2024-10-15T20:45:19.947333Z"
    }
   },
   "outputs": [],
   "source": [
    "# ..."
   ]
  },
  {
   "cell_type": "markdown",
   "id": "91c9c761306d2d16",
   "metadata": {},
   "source": [
    "The URLs contained in each `href` attribute are relative URLs, which can be less useful if you want to navigate to them later using MechanicalSoup. If you know the full URL, you can easily construct the complete URL.\n",
    "\n",
    "In this case, the base URL is `http://olympus.realpython.org`. You can concatenate this base URL with the relative URLs found in the `href` attributes to form complete URLs.\n"
   ]
  },
  {
   "cell_type": "code",
   "execution_count": 186,
   "id": "432d7a4942688e75",
   "metadata": {
    "ExecuteTime": {
     "end_time": "2024-10-15T20:45:20.008469Z",
     "start_time": "2024-10-15T20:45:20.006250Z"
    }
   },
   "outputs": [],
   "source": [
    "# ..."
   ]
  },
  {
   "cell_type": "markdown",
   "id": "35afb6128a744920",
   "metadata": {},
   "source": [
    "---"
   ]
  },
  {
   "cell_type": "markdown",
   "id": "4549588dada0d90",
   "metadata": {},
   "source": [
    "## 8. - Check Your Understanding\n",
    "\n",
    "### Use MechanicalSoup to provide the correct username (zeus) and password (ThunderDude) to the login form located at the URL http://olympus.realpython.org/login.\n",
    "\n",
    "### Once the form is submitted, display the title of the current page to determine that you’ve been redirected to the /profiles page.\n",
    "\n",
    "### Your program should print the text `<title>All Profiles</title>`.\n",
    "\n"
   ]
  },
  {
   "cell_type": "code",
   "execution_count": 187,
   "id": "f4a730333a390156",
   "metadata": {
    "ExecuteTime": {
     "end_time": "2024-10-15T20:45:20.056033Z",
     "start_time": "2024-10-15T20:45:20.053348Z"
    }
   },
   "outputs": [],
   "source": [
    "# ..."
   ]
  },
  {
   "cell_type": "code",
   "execution_count": 188,
   "id": "5be0ea4b6443762",
   "metadata": {
    "ExecuteTime": {
     "end_time": "2024-10-15T20:45:20.105717Z",
     "start_time": "2024-10-15T20:45:20.103172Z"
    }
   },
   "outputs": [],
   "source": [
    "# ..."
   ]
  },
  {
   "cell_type": "code",
   "execution_count": 189,
   "id": "93f09517b9c88cf7",
   "metadata": {
    "ExecuteTime": {
     "end_time": "2024-10-15T20:45:20.153125Z",
     "start_time": "2024-10-15T20:45:20.150608Z"
    }
   },
   "outputs": [],
   "source": [
    "# ..."
   ]
  },
  {
   "cell_type": "code",
   "execution_count": 190,
   "id": "32d019fc87ae04e",
   "metadata": {
    "ExecuteTime": {
     "end_time": "2024-10-15T20:45:20.199342Z",
     "start_time": "2024-10-15T20:45:20.196854Z"
    }
   },
   "outputs": [],
   "source": [
    "# ..."
   ]
  },
  {
   "cell_type": "code",
   "execution_count": 191,
   "id": "84b3f12b93c79a08",
   "metadata": {
    "ExecuteTime": {
     "end_time": "2024-10-15T20:45:20.247972Z",
     "start_time": "2024-10-15T20:45:20.245540Z"
    }
   },
   "outputs": [],
   "source": [
    "# ..."
   ]
  },
  {
   "cell_type": "markdown",
   "id": "8e6681126b6c8477",
   "metadata": {},
   "source": [
    "---"
   ]
  },
  {
   "cell_type": "markdown",
   "id": "9426f4db2c895bc3",
   "metadata": {},
   "source": [
    "## 9. - Interacting With Websites in Real Time\n",
    "\n",
    "Sometimes, you may want to fetch real-time data from a website that provides continually updated information.\n",
    "\n",
    "In the past, before learning Python programming, you might have had to sit in front of a browser, clicking the Refresh button to reload the page every time you wanted to check for updated content. Now, you can automate this process using the `.get()` method of the MechanicalSoup Browser object.\n",
    "\n",
    "To see this in action, open your preferred browser and navigate to the URL: [http://olympus.realpython.org/dice](http://olympus.realpython.org/dice).\n"
   ]
  },
  {
   "cell_type": "markdown",
   "id": "c1a124dbc65874f3",
   "metadata": {},
   "source": [
    "The [/dice](http://olympus.realpython.org/dice) page simulates a roll of a six-sided die, updating the result with each browser refresh. Below, you'll write a program that repeatedly scrapes the page for a new result.\n",
    "\n",
    "First, you need to identify which element on the page contains the die roll result. To do this, right-click anywhere on the page and select **View Page Source**. Look for an `<h2>` tag about halfway down the HTML code that appears as follows:\n",
    "\n",
    "```html\n",
    "<h2 id=\"result\">3</h2>\n",
    "```\n",
    "\n"
   ]
  },
  {
   "cell_type": "markdown",
   "id": "4e03a224ce579dbe",
   "metadata": {},
   "source": [
    "### 9.1 - To begin, write a simple program that opens the `/dice` page, scrapes the result, and prints it to the console. Here’s a basic example to get you started:"
   ]
  },
  {
   "cell_type": "code",
   "execution_count": 192,
   "id": "e177582e3003e910",
   "metadata": {
    "ExecuteTime": {
     "end_time": "2024-10-15T20:45:20.296242Z",
     "start_time": "2024-10-15T20:45:20.293746Z"
    }
   },
   "outputs": [],
   "source": [
    "# ..."
   ]
  },
  {
   "cell_type": "markdown",
   "id": "43ba88c3ec139b3",
   "metadata": {},
   "source": [
    "This example uses the `BeautifulSoup` object’s `.select()` method to find the element with `id=result`. The string `#result`, which you pass to `.select()`, utilizes the CSS ID selector `#` to indicate that `result` is an ID value.\n",
    "\n",
    "To periodically get a new result, you’ll need to create a loop that loads the page at each step. Therefore, everything below the line `browser = mechanicalsoup.Browser()` in the above code needs to be placed inside the loop.\n",
    "\n",
    "For this example, you want to roll the dice four times at ten-second intervals. To achieve this, the last line of your code needs to instruct Python to pause execution for ten seconds. You can do this with `time.sleep()` from Python’s time module. The `.sleep()` method takes a single argument that represents the amount of time to sleep in seconds.\n"
   ]
  },
  {
   "cell_type": "markdown",
   "id": "40772474df1e4fa8",
   "metadata": {},
   "source": [
    "Here’s an example that illustrates how sleep() works:"
   ]
  },
  {
   "cell_type": "code",
   "execution_count": 193,
   "id": "994be4e6e3af3996",
   "metadata": {
    "ExecuteTime": {
     "end_time": "2024-10-15T20:45:20.344969Z",
     "start_time": "2024-10-15T20:45:20.342486Z"
    }
   },
   "outputs": [],
   "source": [
    "# ..."
   ]
  },
  {
   "cell_type": "markdown",
   "id": "138c9779dbca34de",
   "metadata": {},
   "source": [
    "When you run this code, you’ll notice that the \"Done waiting!\" message isn’t displayed until five seconds have passed since the first `print()` function was executed."
   ]
  },
  {
   "cell_type": "markdown",
   "id": "7915dca8f40a8330",
   "metadata": {},
   "source": [
    "### 9.2 - Now, combine the code snippets above to create a program that rolls the die four times at ten-second intervals:"
   ]
  },
  {
   "cell_type": "code",
   "execution_count": 194,
   "id": "18484315d90b07e0",
   "metadata": {
    "ExecuteTime": {
     "end_time": "2024-10-15T20:45:20.392909Z",
     "start_time": "2024-10-15T20:45:20.390583Z"
    }
   },
   "outputs": [],
   "source": [
    "# ..."
   ]
  },
  {
   "cell_type": "markdown",
   "id": "ee1c46352b40171b",
   "metadata": {},
   "source": [
    "When you run the program, you’ll immediately see the first result printed to the console. After ten seconds, the second result is displayed, then the third, and finally the fourth. What happens after the fourth result is printed?\n",
    "\n",
    "The program continues running for another ten seconds before it finally stops. That’s kind of a waste of time! You can stop it from doing this by using an if statement to run `time.sleep()` for only the first three requests:\n"
   ]
  },
  {
   "cell_type": "code",
   "execution_count": 195,
   "id": "9c77b4ab2dda9811",
   "metadata": {
    "ExecuteTime": {
     "end_time": "2024-10-15T20:45:20.441217Z",
     "start_time": "2024-10-15T20:45:20.438652Z"
    }
   },
   "outputs": [],
   "source": [
    "# ..."
   ]
  },
  {
   "cell_type": "markdown",
   "id": "62aa12494ab6ce51",
   "metadata": {},
   "source": [
    "**With techniques like this, you can scrape data from websites that periodically update their data. However, you should be aware that requesting a page multiple times in rapid succession can be seen as suspicious, or even malicious, use of a website.**\n"
   ]
  },
  {
   "cell_type": "markdown",
   "id": "37a803d52665b68a",
   "metadata": {},
   "source": [
    "It’s even possible to crash a server with an excessive number of requests, so you can imagine that many websites are concerned about the volume of requests to their server! Always check the Terms of Use and be respectful when sending multiple requests to a website.\n"
   ]
  },
  {
   "cell_type": "markdown",
   "id": "b5cd44a225c3b1f",
   "metadata": {},
   "source": [
    "---"
   ]
  },
  {
   "cell_type": "markdown",
   "id": "e6224518e855cb7c",
   "metadata": {},
   "source": [
    "# Conclusion"
   ]
  },
  {
   "cell_type": "markdown",
   "id": "49705dba3e640ce1",
   "metadata": {},
   "source": [
    "Although it’s possible to parse data from the Web using tools in Python’s standard library, there are many tools on PyPI that can help simplify the process.\n",
    "\n",
    "In this tutorial, you learned how to:\n",
    "\n",
    "- Request a web page using Python’s built-in urllib module\n",
    "- Parse HTML using Beautiful Soup\n",
    "- Interact with web forms using MechanicalSoup\n",
    "- Repeatedly request data from a website to check for updates\n",
    "\n",
    "Writing automated web scraping programs is fun, and the Internet has no shortage of content that can lead to all sorts of exciting projects.\n",
    "\n",
    "Just remember, not everyone wants you pulling data from their web servers. Always check a website’s Terms of Use before you start scraping, and be respectful about how you time your web requests so that you don’t flood a server with traffic.\n"
   ]
  },
  {
   "cell_type": "markdown",
   "id": "367e1c6648b006c",
   "metadata": {},
   "source": [
    "---"
   ]
  },
  {
   "cell_type": "markdown",
   "id": "1ee4809143813d97",
   "metadata": {},
   "source": [
    "# Additional Resources\n",
    "\n"
   ]
  },
  {
   "cell_type": "markdown",
   "id": "17846e2d9f04168e",
   "metadata": {},
   "source": [
    "For more information on web scraping with Python, check out the following resources:\n",
    "\n",
    "- [Beautiful Soup: Build a Web Scraper With Python](https://realpython.com/beautiful-soup-web-scraper-python/)\n",
    "- [urllib Documentation](https://docs.python.org/3/library/urllib.html)\n",
    "- [Beautiful Soup Documentation](https://www.crummy.com/software/BeautifulSoup/bs4/doc/)\n",
    "- [MechanicalSoup documentation](https://mechanicalsoup.readthedocs.io/en/stable/)"
   ]
  }
 ],
 "metadata": {
  "kernelspec": {
   "display_name": "TACHANDSON",
   "language": "python",
   "name": "python3"
  },
  "language_info": {
   "codemirror_mode": {
    "name": "ipython",
    "version": 3
   },
   "file_extension": ".py",
   "mimetype": "text/x-python",
   "name": "python",
   "nbconvert_exporter": "python",
   "pygments_lexer": "ipython3",
   "version": "3.10.14"
  }
 },
 "nbformat": 4,
 "nbformat_minor": 5
}
