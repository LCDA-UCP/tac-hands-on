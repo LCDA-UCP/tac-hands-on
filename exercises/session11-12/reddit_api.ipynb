{
 "cells": [
  {
   "metadata": {},
   "cell_type": "markdown",
   "source": [
    "# Using the praw library to interact with the Reddit API"
   ],
   "id": "ddb88b017a581c2d"
  },
  {
   "metadata": {},
   "cell_type": "markdown",
   "source": [
    "## Pre-requisites\n",
    "\n",
    "### 1. Create a Reddit account\n",
    "\n",
    "I recommend creating a separate account for your bot. \n",
    "\n",
    "You can use your personal account, but it's not recommended. \n",
    "\n",
    "You may accidentally do something that gets your account banned.\n",
    "    \n",
    "### 2. Create a Reddit App\n",
    "\n",
    "After creating an account, make sure you're logged in and go to https://www.reddit.com/prefs/apps.\n",
    "\n",
    "Click the \"are you a developer? create an app...\" or \"create another app...\" button.\n",
    "\n",
    "Fill out the form like so:\n",
    "- name: My Bot (or whatever you want to call it)\n",
    "- App type: script\n",
    "- description: My Bot (or whatever you want to call it)\n",
    "- about url: leave blank\n",
    "- redirect uri: http://localhost:8080\n",
    "\n",
    "Click the \"create app\" button.\n",
    "\n",
    "You should now see a page with your app's client ID and client secret.\n",
    "\n",
    "You will need these to authenticate with the Reddit API.\n",
    "\n",
    "### 3. Install praw\n",
    "\n",
    "Praw is a Python wrapper for the Reddit API.\n",
    "\n",
    "You can install it with pip:\n",
    "\n",
    "```bash\n",
    "pip install praw\n",
    "```\n",
    "\n",
    "Because praw it already listed in the requirements.txt file, you can install it by running the following command:\n",
    "    \n",
    "```bash\n",
    "pip install -r requirements.txt\n",
    "``` \n",
    "\n",
    "### 4. Create a .env file in the root directory of the project\n",
    "\n",
    "Create a file called `.env` in the root directory of the project.\n",
    "\n",
    "Add the following lines to the file:\n",
    "\n",
    "```txt\n",
    "R_CLIENT_ID=\"your_client_id\"\n",
    "R_CLIENT_SECRET=\"your_client_secret\"\n",
    "R_USER_AGENT=\"your_user_agent\"\n",
    "R_USERNAME=\"your_username\"\n",
    "R_PASSWORD=\"your_password\"\n",
    "```\n",
    "\n",
    "Replace the values with the client ID and client secret from the Reddit app you created earlier.\n",
    "Replace the user agent with a unique string that describes your bot.\n",
    "Replace the username and password with the credentials for the Reddit account you created earlier.\n",
    "\n",
    "Add the `.env` file to your `.gitignore` file to prevent it from being committed to the repository. Note: our current `.gitignore` file already has the `.env` file added to it. So you don't need to add it again.\n",
    "\n",
    "### 5. Install the python-dotenv library\n",
    "\n",
    "The python-dotenv library is used to load environment variables from a .env file.\n",
    "\n",
    "You can install it with pip:\n",
    "\n",
    "```bash\n",
    "pip install python-dotenv\n",
    "```\n",
    "    \n",
    "Because python-dotenv it already listed in the requirements.txt file, you can install it by running the following command:\n",
    "        \n",
    "```bash\n",
    "pip install -r requirements.txt\n",
    "```\n",
    "    \n",
    "\n",
    "\n",
    "\n",
    "\n",
    "\n",
    "\n",
    "\n",
    "\n",
    "\n",
    "\n",
    "\n",
    "\n"
   ],
   "id": "4463adab692d4f9e"
  },
  {
   "metadata": {},
   "cell_type": "markdown",
   "source": [
    "# Let's Get Started"
   ],
   "id": "9753aae7160d3c5d"
  },
  {
   "metadata": {},
   "cell_type": "markdown",
   "source": [
    "## 1. Let's Start by Importing the praw Library"
   ],
   "id": "be38035c6bf87b20"
  },
  {
   "cell_type": "markdown",
   "source": [],
   "metadata": {
    "collapsed": false
   },
   "id": "9084e2093102566e"
  },
  {
   "metadata": {
    "ExecuteTime": {
     "end_time": "2024-10-25T08:29:07.457314Z",
     "start_time": "2024-10-25T08:29:07.318318Z"
    }
   },
   "cell_type": "code",
   "source": [
    "import os\n",
    "\n",
    "import praw"
   ],
   "id": "e893c7500b96018b",
   "outputs": [],
   "execution_count": 1
  },
  {
   "metadata": {},
   "cell_type": "markdown",
   "source": [
    "## 2. Load the environment variables\n",
    "\n",
    "To use the Reddit API, you need to authenticate with your Reddit account."
   ],
   "id": "e4f47ae7a6c65728"
  },
  {
   "metadata": {
    "ExecuteTime": {
     "end_time": "2024-10-25T08:29:07.465871Z",
     "start_time": "2024-10-25T08:29:07.447993Z"
    }
   },
   "cell_type": "code",
   "source": [
    "from dotenv import load_dotenv\n",
    "import os\n",
    "\n",
    "load_dotenv()\n",
    "\n",
    "CLIENT_ID = os.getenv(\"R_CLIENT_ID\")\n",
    "CLIENT_SECRET = os.getenv(\"R_CLIENT_SECRET\")\n",
    "USER_AGENT = os.getenv(\"R_USER_AGENT\")\n",
    "USERNAME = os.getenv(\"R_USERNAME\")\n",
    "PASSWORD = os.getenv(\"R_PASSWORD\")"
   ],
   "id": "86688eaa4ea1d3a9",
   "outputs": [],
   "execution_count": 2
  },
  {
   "metadata": {},
   "cell_type": "markdown",
   "source": [
    "## 3. Create a Reddit Instance  \n",
    "\n",
    "You can create a Reddit instance by passing the client ID, client secret, user agent, username, and password to the praw.Reddit class.\n",
    "You can then check if the instance was created successfully by printing the username of the authenticated user."
   ],
   "id": "2e2547dcf00905ad"
  },
  {
   "metadata": {
    "ExecuteTime": {
     "end_time": "2024-10-25T08:29:07.531494Z",
     "start_time": "2024-10-25T08:29:07.457793Z"
    }
   },
   "cell_type": "code",
   "source": [
    "reddit_instance =  praw.Reddit(\n",
    "    client_id=CLIENT_ID,\n",
    "    client_secret=CLIENT_SECRET,\n",
    "    user_agent=USER_AGENT,\n",
    "    username=USERNAME,\n",
    "    password=PASSWORD\n",
    "    )"
   ],
   "id": "234d11a3c12a3d42",
   "outputs": [],
   "execution_count": 3
  },
  {
   "metadata": {
    "ExecuteTime": {
     "end_time": "2024-10-25T08:29:08.471912Z",
     "start_time": "2024-10-25T08:29:07.522254Z"
    }
   },
   "cell_type": "code",
   "source": [
    "print(reddit_instance.user.me())"
   ],
   "id": "a2d228df0c51547b",
   "outputs": [
    {
     "name": "stdout",
     "output_type": "stream",
     "text": [
      "Ok_War6662\n"
     ]
    }
   ],
   "execution_count": 4
  },
  {
   "metadata": {
    "ExecuteTime": {
     "end_time": "2024-10-25T08:31:53.210028Z",
     "start_time": "2024-10-25T08:31:53.185064Z"
    }
   },
   "cell_type": "code",
   "source": [
    "reddit_instance.read_only"
   ],
   "id": "bea5656f217a5b38",
   "outputs": [
    {
     "data": {
      "text/plain": "False"
     },
     "execution_count": 22,
     "metadata": {},
     "output_type": "execute_result"
    }
   ],
   "execution_count": 22
  },
  {
   "metadata": {},
   "cell_type": "markdown",
   "source": [
    "## 4. Interacting with Subreddits\n",
    "\n",
    "You can interact with subreddits by using the subreddit method of the Reddit instance.\n",
    "\n",
    "In this example, we will interact with the \"devpt\" subreddit. You can replace it with any other subreddit you want to interact with."
   ],
   "id": "3dd0e7a7919a3b86"
  },
  {
   "metadata": {
    "ExecuteTime": {
     "end_time": "2024-10-25T08:33:34.271291Z",
     "start_time": "2024-10-25T08:33:34.252968Z"
    }
   },
   "cell_type": "code",
   "source": [
    "subreddit = reddit_instance.subreddit(\"devpt\")\n",
    "subreddit"
   ],
   "id": "62f1785e3c73db85",
   "outputs": [
    {
     "data": {
      "text/plain": "Subreddit(display_name='devpt')"
     },
     "execution_count": 23,
     "metadata": {},
     "output_type": "execute_result"
    }
   ],
   "execution_count": 23
  },
  {
   "metadata": {},
   "cell_type": "markdown",
   "source": [
    "## Getting Information About a Subreddit"
   ],
   "id": "48566b68dbaa0261"
  },
  {
   "metadata": {
    "ExecuteTime": {
     "end_time": "2024-10-25T08:38:04.446108Z",
     "start_time": "2024-10-25T08:38:04.424453Z"
    }
   },
   "cell_type": "code",
   "source": [
    "subreddit.subscribers"
   ],
   "id": "f0fa3daafb4f7dc9",
   "outputs": [
    {
     "data": {
      "text/plain": "45675"
     },
     "execution_count": 24,
     "metadata": {},
     "output_type": "execute_result"
    }
   ],
   "execution_count": 24
  },
  {
   "metadata": {
    "ExecuteTime": {
     "end_time": "2024-10-25T08:29:08.481407Z",
     "start_time": "2024-10-25T08:29:08.477615Z"
    }
   },
   "cell_type": "code",
   "source": [
    "# ..."
   ],
   "id": "a15f60260174c68a",
   "outputs": [],
   "execution_count": 7
  },
  {
   "metadata": {
    "ExecuteTime": {
     "end_time": "2024-10-25T08:29:08.486976Z",
     "start_time": "2024-10-25T08:29:08.480829Z"
    }
   },
   "cell_type": "code",
   "source": [
    "# ..."
   ],
   "id": "2bdc3405caf8fe83",
   "outputs": [],
   "execution_count": 8
  },
  {
   "metadata": {
    "ExecuteTime": {
     "end_time": "2024-10-25T08:29:08.515423Z",
     "start_time": "2024-10-25T08:29:08.486340Z"
    }
   },
   "cell_type": "code",
   "source": [
    "# ..."
   ],
   "id": "e511d90b56f783db",
   "outputs": [],
   "execution_count": 9
  },
  {
   "metadata": {},
   "cell_type": "markdown",
   "source": [
    "## 5. Getting the Top 25 Posts in a Subreddit\n",
    "\n",
    "You can get the top 25 posts in a subreddit by using the top method of the subreddit instance.\n",
    "\n",
    "In this example, we will get the top 25 posts in the \"devpt\" subreddit. You can replace it with any other subreddit you want to get the top posts from.\n",
    "\n",
    "We will also define the time filter to get the top posts of the week."
   ],
   "id": "a2e07cf35379b939"
  },
  {
   "metadata": {
    "ExecuteTime": {
     "end_time": "2024-10-25T08:40:23.952625Z",
     "start_time": "2024-10-25T08:40:23.609789Z"
    }
   },
   "cell_type": "code",
   "source": [
    "top_posts = subreddit.top(limit=25, time_filter=\"week\")\n",
    "\n",
    "for post in top_posts:\n",
    "    print(post.title)"
   ],
   "id": "1a44a5dd22ce4488",
   "outputs": [
    {
     "name": "stdout",
     "output_type": "stream",
     "text": [
      "Ferramentas Open-Source\n",
      "Ajuda\n",
      "Manter o trabalho ou trocar por um estágio hibrido a 250km\n",
      "Entrevista - teste na Codility\n",
      "Data Analytics Engineer Cloudfare\n",
      "Será que o curso vale a Pena?\n",
      "Sebentas de Matemática Discreta, Cálculo, Álgebra Linear, Estatística\n",
      "Quanto cobrar à hora?\n",
      "Candidatura estágio EDP \n",
      "Trabalho há 1 ano e meio como consultor SAP ABAP e Fiori - vale a pena inscrever-me numa licenciatura?\n",
      "Ajuda técnica\n",
      "Hetzner vs OvhCloud vs Contabo vs Algum em Portugal ? \n",
      "Renderizar gráfico de relação semântica em react\n",
      "Envision Pharma Group\n",
      "Faculdade e tecnólogo juntos\n",
      "O que ensinam hoje em dia nas faculdades...\n"
     ]
    }
   ],
   "execution_count": 28
  },
  {
   "metadata": {},
   "cell_type": "markdown",
   "source": [
    "## Hot, Top, New, Controversial, Rising posts\n",
    "\n",
    "You can get the hot, top, new, controversial, and rising posts in a subreddit by using the hot, top, new, controversial, and rising methods of the subreddit instance.\n",
    "\n",
    "**Note: sometimes some posts are sticked by the moderators, so they will always appear in the top posts. You can confirm if a post is sticked with `post.stickied`**"
   ],
   "id": "2dbf857266581e5f"
  },
  {
   "metadata": {
    "ExecuteTime": {
     "end_time": "2024-10-25T08:29:08.517358Z",
     "start_time": "2024-10-25T08:29:08.492358Z"
    }
   },
   "cell_type": "code",
   "source": [
    "# ..."
   ],
   "id": "2192d91c202d9e41",
   "outputs": [],
   "execution_count": 11
  },
  {
   "metadata": {},
   "cell_type": "markdown",
   "source": [
    "### Some examples of information you can get from a post\n",
    "\n",
    "- Tile: post.title\n",
    "- ID: post.id\n",
    "- URL: post.url\n",
    "- Score: post.score\n",
    "- Number of Comments: post.num_comments\n",
    "- Self Text: post.selftext\n",
    "- Created UTC: post.created_utc\n",
    "- Author: post.author\n",
    "- Upvote Ratio: post.upvote_ratio\n",
    "- Upvotes: post.ups\n",
    "- Downvotes: post.downs\n",
    "- etc"
   ],
   "id": "5f905e955e3eba7b"
  },
  {
   "metadata": {
    "ExecuteTime": {
     "end_time": "2024-10-25T08:29:08.518064Z",
     "start_time": "2024-10-25T08:29:08.497217Z"
    }
   },
   "cell_type": "code",
   "source": [],
   "id": "6e3f03060fd3fb7e",
   "outputs": [],
   "execution_count": 12
  },
  {
   "metadata": {},
   "cell_type": "markdown",
   "source": [
    "## Some Actions you can perform on a post\n",
    "\n",
    "- Upvote: post.upvote()\n",
    "- Downvote: post.downvote()\n",
    "- Clear Vote: post.clear_vote()\n",
    "- Reply: post.reply(\"your reply\")\n",
    "\n",
    "## Some Actions you can perform on subreddit\n",
    "\n",
    "- Subscribe: subreddit.subscribe()\n",
    "- Unsubscribe: subreddit.unsubscribe()\n",
    "\n",
    "## Some Actions you can perform on a comment\n",
    "\n",
    "- Upvote: comment.upvote()\n",
    "- Downvote: comment.downvote()\n",
    "- Clear Vote: comment.clear_vote()\n",
    "- Reply: comment.reply(\"your reply\")\n",
    "\n",
    "**Note: Upvotes and downvotes are meant to be done by humans, not bots. Doing so recurrently can get your account banned.**\n",
    "\n"
   ],
   "id": "9c31817ed80d4b67"
  },
  {
   "metadata": {},
   "cell_type": "markdown",
   "source": [
    "## 6. Getting the comments of a post \n",
    "\n",
    "You can get the comments of a post by using the comments method of the post instance.\n",
    "\n",
    "In this example, we will get the comments of the top post in the \"devpt\" subreddit. You can replace it with any other post you want to get the comments from."
   ],
   "id": "d12922845da5f135"
  },
  {
   "metadata": {
    "ExecuteTime": {
     "end_time": "2024-10-25T08:29:08.519053Z",
     "start_time": "2024-10-25T08:29:08.500749Z"
    }
   },
   "cell_type": "code",
   "source": [
    "# ..."
   ],
   "id": "896f8edbf64ea52d",
   "outputs": [],
   "execution_count": 13
  },
  {
   "metadata": {},
   "cell_type": "markdown",
   "source": [
    "## 7. Getting the comments of a comment\n",
    "\n",
    "You can get the comments of a comment by using the replies method of the comment instance."
   ],
   "id": "3baee8622d089a9b"
  },
  {
   "metadata": {
    "ExecuteTime": {
     "end_time": "2024-10-25T08:29:08.519810Z",
     "start_time": "2024-10-25T08:29:08.503938Z"
    }
   },
   "cell_type": "code",
   "source": [
    "# ..."
   ],
   "id": "9bbf8ab76d99d08e",
   "outputs": [],
   "execution_count": 14
  },
  {
   "metadata": {},
   "cell_type": "markdown",
   "source": [
    "## 8. Posting a submission\n",
    "\n",
    "You can post a submission to a subreddit by using the submit method of the subreddit instance.\n",
    "\n",
    "We will use a subreddit named \"testingground4bots\" that is used for testing bots."
   ],
   "id": "3ffae08ee40fd357"
  },
  {
   "metadata": {
    "ExecuteTime": {
     "end_time": "2024-10-25T09:11:24.644749Z",
     "start_time": "2024-10-25T09:11:24.640863Z"
    }
   },
   "cell_type": "code",
   "source": [
    "subreddit = reddit_instance.subreddit(\"testingground4bots\")\n",
    "subreddit.display_name"
   ],
   "id": "e2395a2cf7f63858",
   "outputs": [
    {
     "data": {
      "text/plain": "'testingground4bots'"
     },
     "execution_count": 29,
     "metadata": {},
     "output_type": "execute_result"
    }
   ],
   "execution_count": 29
  },
  {
   "cell_type": "code",
   "outputs": [],
   "source": [
    "post = subreddit.submit(\"Dummy Submission from Povoa de Lanhoso\", selftext=\"VIVA AO MARIA DA FONTE\")"
   ],
   "metadata": {
    "collapsed": false,
    "ExecuteTime": {
     "end_time": "2024-10-25T09:13:53.510083Z",
     "start_time": "2024-10-25T09:13:52.948931Z"
    }
   },
   "id": "32ba49278ba65bdc",
   "execution_count": 31
  },
  {
   "metadata": {},
   "cell_type": "markdown",
   "source": [
    "## 9. Making a comment\n",
    "\n",
    "You can make a comment on a post by using the reply method of the post instance."
   ],
   "id": "de5787b2d0b3079"
  },
  {
   "metadata": {
    "ExecuteTime": {
     "end_time": "2024-10-25T09:16:33.325871Z",
     "start_time": "2024-10-25T09:16:32.962031Z"
    }
   },
   "cell_type": "code",
   "source": [
    "reply = post.reply(\"This is a dummy reply\")"
   ],
   "id": "70310ef376c8c102",
   "outputs": [],
   "execution_count": 32
  },
  {
   "metadata": {},
   "cell_type": "markdown",
   "source": [
    "## Commenting a comment"
   ],
   "id": "18fe9e0c8f316c3"
  },
  {
   "metadata": {
    "ExecuteTime": {
     "end_time": "2024-10-25T09:19:57.915783Z",
     "start_time": "2024-10-25T09:19:57.542045Z"
    }
   },
   "cell_type": "code",
   "source": [
    "reply_2 = reply.reply(\"Hello best student in Data Science\")"
   ],
   "id": "be1d01fa2ee6a111",
   "outputs": [],
   "execution_count": 33
  },
  {
   "metadata": {},
   "cell_type": "markdown",
   "source": [
    "## 10. Upvoting a post and a comment"
   ],
   "id": "3a43dfbe91756efe"
  },
  {
   "metadata": {
    "ExecuteTime": {
     "end_time": "2024-10-25T09:28:34.482386Z",
     "start_time": "2024-10-25T09:28:34.297797Z"
    }
   },
   "cell_type": "code",
   "source": [
    "post = reddit_instance.submission(id=\"1gbq4e1\")\n",
    "post.upvote()"
   ],
   "id": "a687fda63618d62d",
   "outputs": [],
   "execution_count": 39
  },
  {
   "metadata": {
    "ExecuteTime": {
     "end_time": "2024-10-25T08:29:08.573987Z",
     "start_time": "2024-10-25T08:29:08.518406Z"
    }
   },
   "cell_type": "code",
   "source": [
    "# ..."
   ],
   "id": "125761e7cb03137a",
   "outputs": [],
   "execution_count": 19
  },
  {
   "metadata": {},
   "cell_type": "markdown",
   "source": [
    "## 11. Searching reddit and subreddits"
   ],
   "id": "8fe22081f5dd1294"
  },
  {
   "metadata": {
    "ExecuteTime": {
     "end_time": "2024-10-25T08:29:08.580591Z",
     "start_time": "2024-10-25T08:29:08.521904Z"
    }
   },
   "cell_type": "code",
   "source": [
    "# ..."
   ],
   "id": "96ea2d57584f3b39",
   "outputs": [],
   "execution_count": 20
  },
  {
   "metadata": {
    "ExecuteTime": {
     "end_time": "2024-10-25T08:29:08.581284Z",
     "start_time": "2024-10-25T08:29:08.525246Z"
    }
   },
   "cell_type": "code",
   "source": [
    "# ..."
   ],
   "id": "63b2506217586ce9",
   "outputs": [],
   "execution_count": 21
  }
 ],
 "metadata": {
  "kernelspec": {
   "display_name": "Python 3",
   "language": "python",
   "name": "python3"
  },
  "language_info": {
   "codemirror_mode": {
    "name": "ipython",
    "version": 2
   },
   "file_extension": ".py",
   "mimetype": "text/x-python",
   "name": "python",
   "nbconvert_exporter": "python",
   "pygments_lexer": "ipython2",
   "version": "2.7.6"
  }
 },
 "nbformat": 4,
 "nbformat_minor": 5
}
