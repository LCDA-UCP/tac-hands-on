{
 "cells": [
  {
   "metadata": {},
   "cell_type": "markdown",
   "source": [
    "# Using the praw library to interact with the Reddit API"
   ],
   "id": "ddb88b017a581c2d"
  },
  {
   "metadata": {},
   "cell_type": "markdown",
   "source": [
    "## Pre-requisites\n",
    "\n",
    "### 1. Create a Reddit account\n",
    "\n",
    "I recommend creating a separate account for your bot. \n",
    "\n",
    "You can use your personal account, but it's not recommended. \n",
    "\n",
    "You may accidentally do something that gets your account banned.\n",
    "    \n",
    "### 2. Create a Reddit App\n",
    "\n",
    "After creating an account, make sure you're logged in and go to https://www.reddit.com/prefs/apps.\n",
    "\n",
    "Click the \"are you a developer? create an app...\" or \"create another app...\" button.\n",
    "\n",
    "Fill out the form like so:\n",
    "- name: My Bot (or whatever you want to call it)\n",
    "- App type: script\n",
    "- description: My Bot (or whatever you want to call it)\n",
    "- about url: leave blank\n",
    "- redirect uri: http://localhost:8080\n",
    "\n",
    "Click the \"create app\" button.\n",
    "\n",
    "You should now see a page with your app's client ID and client secret.\n",
    "\n",
    "You will need these to authenticate with the Reddit API.\n",
    "\n",
    "### 3. Install praw\n",
    "\n",
    "Praw is a Python wrapper for the Reddit API.\n",
    "\n",
    "You can install it with pip:\n",
    "\n",
    "```bash\n",
    "pip install praw\n",
    "```\n",
    "\n",
    "Because praw it already listed in the requirements.txt file, you can install it by running the following command:\n",
    "    \n",
    "```bash\n",
    "pip install -r requirements.txt\n",
    "``` \n",
    "\n",
    "### 4. Create a .env file in the root directory of the project\n",
    "\n",
    "Create a file called `.env` in the root directory of the project.\n",
    "\n",
    "Add the following lines to the file:\n",
    "\n",
    "```txt\n",
    "R_CLIENT_ID=\"your_client_id\"\n",
    "R_CLIENT_SECRET=\"your_client_secret\"\n",
    "R_USER_AGENT=\"your_user_agent\"\n",
    "R_USERNAME=\"your_username\"\n",
    "R_PASSWORD=\"your_password\"\n",
    "```\n",
    "\n",
    "Replace the values with the client ID and client secret from the Reddit app you created earlier.\n",
    "Replace the user agent with a unique string that describes your bot.\n",
    "Replace the username and password with the credentials for the Reddit account you created earlier.\n",
    "\n",
    "Add the `.env` file to your `.gitignore` file to prevent it from being committed to the repository. Note: our current `.gitignore` file already has the `.env` file added to it. So you don't need to add it again.\n",
    "\n",
    "### 5. Install the python-dotenv library\n",
    "\n",
    "The python-dotenv library is used to load environment variables from a .env file.\n",
    "\n",
    "You can install it with pip:\n",
    "\n",
    "```bash\n",
    "pip install python-dotenv\n",
    "```\n",
    "    \n",
    "Because python-dotenv it already listed in the requirements.txt file, you can install it by running the following command:\n",
    "        \n",
    "```bash\n",
    "pip install -r requirements.txt\n",
    "```\n",
    "    \n",
    "\n",
    "\n",
    "\n",
    "\n",
    "\n",
    "\n",
    "\n",
    "\n",
    "\n",
    "\n",
    "\n",
    "\n"
   ],
   "id": "4463adab692d4f9e"
  },
  {
   "metadata": {},
   "cell_type": "markdown",
   "source": [
    "# Let's Get Started"
   ],
   "id": "9753aae7160d3c5d"
  },
  {
   "metadata": {},
   "cell_type": "markdown",
   "source": [
    "## 1. Let's Start by Importing the praw Library"
   ],
   "id": "be38035c6bf87b20"
  },
  {
   "metadata": {
    "ExecuteTime": {
     "end_time": "2024-10-25T09:08:17.589501Z",
     "start_time": "2024-10-25T09:08:17.539121Z"
    }
   },
   "cell_type": "code",
   "source": [
    "import praw"
   ],
   "id": "e893c7500b96018b",
   "outputs": [],
   "execution_count": 124
  },
  {
   "metadata": {},
   "cell_type": "markdown",
   "source": [
    "## 2. Load the environment variables\n",
    "\n",
    "To use the Reddit API, you need to authenticate with your Reddit account."
   ],
   "id": "e4f47ae7a6c65728"
  },
  {
   "metadata": {
    "ExecuteTime": {
     "end_time": "2024-10-25T09:08:17.599439Z",
     "start_time": "2024-10-25T09:08:17.591661Z"
    }
   },
   "cell_type": "code",
   "source": [
    "from dotenv import load_dotenv \n",
    "import os\n",
    "\n",
    "load_dotenv()\n",
    "\n",
    "CLIENT_ID = os.getenv(\"R_CLIENT_ID\")\n",
    "CLIENT_SECRET = os.getenv(\"R_CLIENT_SECRET\")\n",
    "USER_AGENT = os.getenv(\"R_USER_AGENT\")\n",
    "USERNAME = os.getenv(\"R_USERNAME\")\n",
    "PASSWORD = os.getenv(\"R_PASSWORD\")"
   ],
   "id": "86688eaa4ea1d3a9",
   "outputs": [],
   "execution_count": 125
  },
  {
   "metadata": {},
   "cell_type": "markdown",
   "source": [
    "## 3. Create a Reddit Instance\n",
    "\n",
    "You can create a Reddit instance by passing the client ID, client secret, user agent, username, and password to the praw.Reddit class.\n",
    "You can then check if the instance was created successfully by printing the username of the authenticated user."
   ],
   "id": "2e2547dcf00905ad"
  },
  {
   "metadata": {
    "ExecuteTime": {
     "end_time": "2024-10-25T09:08:17.609716Z",
     "start_time": "2024-10-25T09:08:17.600940Z"
    }
   },
   "cell_type": "code",
   "source": [
    "reddit_instance = praw.Reddit(\n",
    "    client_id=CLIENT_ID,\n",
    "    client_secret=CLIENT_SECRET,\n",
    "    user_agent=USER_AGENT,\n",
    "    username=USERNAME,\n",
    "    password=PASSWORD\n",
    ")"
   ],
   "id": "234d11a3c12a3d42",
   "outputs": [],
   "execution_count": 126
  },
  {
   "cell_type": "code",
   "outputs": [
    {
     "data": {
      "text/plain": "'MY Bot'"
     },
     "execution_count": 127,
     "metadata": {},
     "output_type": "execute_result"
    }
   ],
   "source": [
    "USERNAME\n",
    "PASSWORD\n",
    "CLIENT_ID\n",
    "USER_AGENT"
   ],
   "metadata": {
    "collapsed": false,
    "ExecuteTime": {
     "end_time": "2024-10-25T09:08:17.611370Z",
     "start_time": "2024-10-25T09:08:17.603973Z"
    }
   },
   "id": "93a3be089d5f6fc4",
   "execution_count": 127
  },
  {
   "metadata": {
    "ExecuteTime": {
     "end_time": "2024-10-25T09:08:18.696649Z",
     "start_time": "2024-10-25T09:08:17.611150Z"
    }
   },
   "cell_type": "code",
   "source": [
    "print(reddit_instance.user.me())"
   ],
   "id": "a2d228df0c51547b",
   "outputs": [
    {
     "name": "stdout",
     "output_type": "stream",
     "text": [
      "tizdias011\n"
     ]
    }
   ],
   "execution_count": 128
  },
  {
   "metadata": {
    "ExecuteTime": {
     "end_time": "2024-10-25T09:08:18.704846Z",
     "start_time": "2024-10-25T09:08:18.697522Z"
    }
   },
   "cell_type": "code",
   "source": [
    "# ..."
   ],
   "id": "bea5656f217a5b38",
   "outputs": [],
   "execution_count": 129
  },
  {
   "metadata": {},
   "cell_type": "markdown",
   "source": [
    "## 4. Interacting with Subreddits\n",
    "\n",
    "You can interact with subreddits by using the subreddit method of the Reddit instance.\n",
    "\n",
    "In this example, we will interact with the \"devpt\" subreddit. You can replace it with any other subreddit you want to interact with."
   ],
   "id": "3dd0e7a7919a3b86"
  },
  {
   "metadata": {
    "ExecuteTime": {
     "end_time": "2024-10-25T09:08:18.707897Z",
     "start_time": "2024-10-25T09:08:18.703192Z"
    }
   },
   "cell_type": "code",
   "source": [
    "subreddit = reddit_instance.subreddit(\"devpt\")\n",
    "subreddit"
   ],
   "id": "62f1785e3c73db85",
   "outputs": [
    {
     "data": {
      "text/plain": "Subreddit(display_name='devpt')"
     },
     "execution_count": 130,
     "metadata": {},
     "output_type": "execute_result"
    }
   ],
   "execution_count": 130
  },
  {
   "metadata": {},
   "cell_type": "markdown",
   "source": [
    "## Getting Information About a Subreddit"
   ],
   "id": "48566b68dbaa0261"
  },
  {
   "metadata": {
    "ExecuteTime": {
     "end_time": "2024-10-25T09:08:18.714153Z",
     "start_time": "2024-10-25T09:08:18.709065Z"
    }
   },
   "cell_type": "code",
   "source": [
    "subreddit.display_name"
   ],
   "id": "f0fa3daafb4f7dc9",
   "outputs": [
    {
     "data": {
      "text/plain": "'devpt'"
     },
     "execution_count": 131,
     "metadata": {},
     "output_type": "execute_result"
    }
   ],
   "execution_count": 131
  },
  {
   "metadata": {
    "ExecuteTime": {
     "end_time": "2024-10-25T09:08:18.905485Z",
     "start_time": "2024-10-25T09:08:18.713283Z"
    }
   },
   "cell_type": "code",
   "source": [
    "subreddit.title"
   ],
   "id": "a15f60260174c68a",
   "outputs": [
    {
     "data": {
      "text/plain": "'DevPT - Comunidade de Developers Portugueses'"
     },
     "execution_count": 132,
     "metadata": {},
     "output_type": "execute_result"
    }
   ],
   "execution_count": 132
  },
  {
   "metadata": {
    "ExecuteTime": {
     "end_time": "2024-10-25T09:08:18.907497Z",
     "start_time": "2024-10-25T09:08:18.903018Z"
    }
   },
   "cell_type": "code",
   "source": [
    "subreddit.description"
   ],
   "id": "2bdc3405caf8fe83",
   "outputs": [
    {
     "data": {
      "text/plain": "'##Bem-vindo ao DevPT!\\n\\nSomos uma comunidade de developers portugueses.\\n\\nSe quiseres saber mais dá uma olhadela em **[devpt.co](https://devpt.co)**.\\n\\nTemos ainda um **Discord**:\\n\\n**[Visitem o nosso Discord](https://devpt.co/discord)**\\n\\n^URL: ^`https://devpt.co/discord`\\n\\n###Regras\\n\\n 1. Faz perguntas acertadamente, esclarece o teu ponto de vista ou dúvida o mais breve possível.\\n 2. **Não são permitidos estudos de mercado e/ou inquéritos**\\n 3. Usa um titulo descritivo em que especifiques a linguagem ou tecnologia com que estas a trabalhar.\\n\\n    Ex:[C++] Bug no ciclo while\\n\\n 4. Este é um subreddit com o objetivo de entre-ajuda e discussão e, para isso, pedimos a colaboração de todos para ser possível tirar o melhor proveito do mesmo.\\n\\n 5. É obrigatório usar a flair correcta\\n\\n 6. Não são permitidos outros assuntos fora da esfera do DevPT\\n\\n###Ferramentas aconselhadas\\nSempre que precisares de colar código usa uma das ferramentas seguintes (ou semelhantes):\\n\\n - Gist: para muito código e/ou diferentes ficheiros.\\n - IDEone: para código que deve ser executado.\\n - JSFiddle: para HTML, CSS ou JavaScript.\\n\\n### Subs associados:\\n\\n/r/EngineeringResumes'"
     },
     "execution_count": 133,
     "metadata": {},
     "output_type": "execute_result"
    }
   ],
   "execution_count": 133
  },
  {
   "metadata": {
    "ExecuteTime": {
     "end_time": "2024-10-25T09:08:18.910018Z",
     "start_time": "2024-10-25T09:08:18.907238Z"
    }
   },
   "cell_type": "code",
   "source": [
    "subreddit.subscribers"
   ],
   "id": "e511d90b56f783db",
   "outputs": [
    {
     "data": {
      "text/plain": "45675"
     },
     "execution_count": 134,
     "metadata": {},
     "output_type": "execute_result"
    }
   ],
   "execution_count": 134
  },
  {
   "metadata": {},
   "cell_type": "markdown",
   "source": [
    "## 5. Getting the Top 25 Posts in a Subreddit\n",
    "\n",
    "You can get the top 25 posts in a subreddit by using the top method of the subreddit instance.\n",
    "\n",
    "In this example, we will get the top 25 posts in the \"devpt\" subreddit. You can replace it with any other subreddit you want to get the top posts from.\n",
    "\n",
    "We will also define the time filter to get the top posts of the week."
   ],
   "id": "a2e07cf35379b939"
  },
  {
   "metadata": {
    "ExecuteTime": {
     "end_time": "2024-10-25T09:08:19.568847Z",
     "start_time": "2024-10-25T09:08:18.911510Z"
    }
   },
   "cell_type": "code",
   "source": [
    "top_posts = subreddit.top(limit=25, time_filter=\"week\")\n",
    "\n",
    "for post in top_posts:\n",
    "    print(post.title)"
   ],
   "id": "1a44a5dd22ce4488",
   "outputs": [
    {
     "name": "stdout",
     "output_type": "stream",
     "text": [
      "Ferramentas Open-Source\n",
      "Ajuda\n",
      "Manter o trabalho ou trocar por um estágio hibrido a 250km\n",
      "Entrevista - teste na Codility\n",
      "Data Analytics Engineer Cloudfare\n",
      "Será que o curso vale a Pena?\n",
      "Sebentas de Matemática Discreta, Cálculo, Álgebra Linear, Estatística\n",
      "Quanto cobrar à hora?\n",
      "Candidatura estágio EDP \n",
      "Trabalho há 1 ano e meio como consultor SAP ABAP e Fiori - vale a pena inscrever-me numa licenciatura?\n",
      "Ajuda técnica\n",
      "Hetzner vs OvhCloud vs Contabo vs Algum em Portugal ? \n",
      "Renderizar gráfico de relação semântica em react\n",
      "Envision Pharma Group\n",
      "Faculdade e tecnólogo juntos\n",
      "O que ensinam hoje em dia nas faculdades...\n"
     ]
    }
   ],
   "execution_count": 135
  },
  {
   "metadata": {},
   "cell_type": "markdown",
   "source": [
    "## Hot, Top, New, Controversial, Rising posts\n",
    "\n",
    "You can get the hot, top, new, controversial, and rising posts in a subreddit by using the hot, top, new, controversial, and rising methods of the subreddit instance.\n",
    "\n",
    "**Note: sometimes some posts are sticked by the moderators, so they will always appear in the top posts. You can confirm if a post is sticked with `post.stickied`**"
   ],
   "id": "2dbf857266581e5f"
  },
  {
   "metadata": {
    "ExecuteTime": {
     "end_time": "2024-10-25T09:08:20.614016Z",
     "start_time": "2024-10-25T09:08:19.567185Z"
    }
   },
   "cell_type": "code",
   "source": [
    "hot_posts = subreddit.hot(limit=25)\n",
    "\n",
    "for post in hot_posts:\n",
    "    print(post.title)"
   ],
   "id": "2192d91c202d9e41",
   "outputs": [
    {
     "name": "stdout",
     "output_type": "stream",
     "text": [
      "Quem Está a Contratar? - 10/2024\n",
      "[META] - Novas Flairs & Regras\n",
      "Manter o trabalho ou trocar por um estágio hibrido a 250km\n",
      "Envision Pharma Group\n",
      "Candidatura estágio EDP \n",
      "Ajuda\n",
      "Ajuda técnica\n",
      "Sebentas de Matemática Discreta, Cálculo, Álgebra Linear, Estatística\n",
      "Hetzner vs OvhCloud vs Contabo vs Algum em Portugal ? \n",
      "O que ensinam hoje em dia nas faculdades...\n",
      "Ferramentas Open-Source\n",
      "Faculdade e tecnólogo juntos\n",
      "Data Analytics Engineer Cloudfare\n",
      "Entrevista - teste na Codility\n",
      "Trabalho há 1 ano e meio como consultor SAP ABAP e Fiori - vale a pena inscrever-me numa licenciatura?\n",
      "Quanto cobrar à hora?\n",
      "Renderizar gráfico de relação semântica em react\n",
      "Será que o curso vale a Pena?\n",
      "Sap\n",
      "Comunidades de Machine Learning?\n",
      "300 candidaturas, 2 entrevistas: preciso de ajuda urgente!\n",
      "Estágio Curricular\n",
      "WYSIWYG editor para React\n",
      "Estágio INICIAR  C#/.net core Braga e arredores\n",
      "Procuro Estágio Curricular | Cibersegurança - IEFP recusou assinar cláusula com Big4\n"
     ]
    }
   ],
   "execution_count": 136
  },
  {
   "cell_type": "code",
   "outputs": [
    {
     "name": "stdout",
     "output_type": "stream",
     "text": [
      "Despedimentos em Empresas de IT - Falta de liquidez ou Fraco desempenho dos colaboradores?\n",
      "O trabalho de programador torna'se mais dificil ano após ano, não mais fácil\n",
      "[AMA] Carreira em Tecnologia\n",
      "Proposta abaixo das minhas expectativas\n",
      "Mentir em entrevistas é imoral?\n",
      "Não consigo encontrar trabalho\n",
      "Dificuldade em arranjar novo contract\n",
      "Vou ficar desempregado\n",
      "O estado atual da profissão de IT dev é um caça níquel cash grab\n",
      "Mudar para Desenvolvimento ou permanecer em QA\n",
      "Conversão para IT\n",
      "Qual melhor IA para gerar codigo\n",
      "Como proceder para tirar Engenharia Informática em Portugal\n",
      "A definição de um pais teimoso. Aprende inglês como o resto\n",
      "6 meses para entrar em IT - Let the games begin\n",
      "Dúvida: É possível iniciar no desenvolvimento web apenas como backend?\n",
      "Entrevista fora do esperado\n",
      "core.js developer história triste\n",
      "[Dúvida] Pretensão salarial\n",
      "Melhor curso para tirar ?\n",
      "Instagram Bot\n",
      "Salario carreira UI/UX designer\n",
      "ChatGPT VS mudança de carreira.\n",
      "Qual é o problema da PrimeIT?\n",
      "Um novo rumo profissional - opiniões?\n"
     ]
    }
   ],
   "source": [
    "controversial_posts = subreddit.controversial(limit=25)\n",
    "\n",
    "for post in controversial_posts:\n",
    "    print(post.title)"
   ],
   "metadata": {
    "collapsed": false,
    "ExecuteTime": {
     "end_time": "2024-10-25T09:08:21.408020Z",
     "start_time": "2024-10-25T09:08:20.614825Z"
    }
   },
   "id": "40499c39827e0d37",
   "execution_count": 137
  },
  {
   "cell_type": "code",
   "outputs": [
    {
     "name": "stdout",
     "output_type": "stream",
     "text": [
      "Envision Pharma Group\n",
      "Manter o trabalho ou trocar por um estágio hibrido a 250km\n",
      "Candidatura estágio EDP \n",
      "Ajuda técnica\n",
      "Ajuda\n",
      "Hetzner vs OvhCloud vs Contabo vs Algum em Portugal ? \n",
      "Sebentas de Matemática Discreta, Cálculo, Álgebra Linear, Estatística\n",
      "O que ensinam hoje em dia nas faculdades...\n",
      "Faculdade e tecnólogo juntos\n",
      "Data Analytics Engineer Cloudfare\n",
      "Entrevista - teste na Codility\n",
      "Ferramentas Open-Source\n",
      "Trabalho há 1 ano e meio como consultor SAP ABAP e Fiori - vale a pena inscrever-me numa licenciatura?\n",
      "Renderizar gráfico de relação semântica em react\n",
      "Quanto cobrar à hora?\n",
      "Será que o curso vale a Pena?\n",
      "WYSIWYG editor para React\n",
      "Comunidades de Machine Learning?\n",
      "300 candidaturas, 2 entrevistas: preciso de ajuda urgente!\n",
      "Sap\n",
      "Estágio Curricular\n",
      "Estágio INICIAR  C#/.net core Braga e arredores\n",
      "Procuro Estágio Curricular | Cibersegurança - IEFP recusou assinar cláusula com Big4\n",
      "Qual linguagem devo aprender a seguir para maximizar  oportunidades?\n",
      "Five9 feedback\n"
     ]
    }
   ],
   "source": [
    "new_posts = subreddit.new(limit=25)\n",
    "\n",
    "for post in new_posts:\n",
    "    print(post.title)"
   ],
   "metadata": {
    "collapsed": false,
    "ExecuteTime": {
     "end_time": "2024-10-25T09:08:22.089212Z",
     "start_time": "2024-10-25T09:08:21.408721Z"
    }
   },
   "id": "d8c22a9d8e32aa7a",
   "execution_count": 138
  },
  {
   "metadata": {},
   "cell_type": "markdown",
   "source": [
    "### Some examples of information you can get from a post\n",
    "\n",
    "- Tile: post.title\n",
    "- ID: post.id\n",
    "- URL: post.url\n",
    "- Score: post.score\n",
    "- Number of Comments: post.num_comments\n",
    "- Self Text: post.selftext\n",
    "- Created UTC: post.created_utc\n",
    "- Author: post.author\n",
    "- Upvote Ratio: post.upvote_ratio\n",
    "- Upvotes: post.ups\n",
    "- Downvotes: post.downs\n",
    "- etc"
   ],
   "id": "5f905e955e3eba7b"
  },
  {
   "metadata": {
    "ExecuteTime": {
     "end_time": "2024-10-25T09:08:22.894680Z",
     "start_time": "2024-10-25T09:08:22.086060Z"
    }
   },
   "cell_type": "code",
   "source": [
    "new_posts = subreddit.new(limit=25)\n",
    "\n",
    "for post in new_posts:\n",
    "    print(post.id)\n",
    "    print(post.num_comments)"
   ],
   "id": "6e3f03060fd3fb7e",
   "outputs": [
    {
     "name": "stdout",
     "output_type": "stream",
     "text": [
      "1gac8c1\n",
      "4\n",
      "1gabgn0\n",
      "51\n",
      "1g9v2ls\n",
      "10\n",
      "1g9u7fw\n",
      "7\n",
      "1g9echw\n",
      "35\n",
      "1g94a6y\n",
      "3\n",
      "1g8y1t0\n",
      "9\n",
      "1g8xwe2\n",
      "23\n",
      "1g8pq6x\n",
      "4\n",
      "1g81g6r\n",
      "18\n",
      "1g7wssa\n",
      "22\n",
      "1g7vjd6\n",
      "27\n",
      "1g7cv2o\n",
      "3\n",
      "1g6vm9e\n",
      "4\n",
      "1g6rzlg\n",
      "22\n",
      "1g6ebdv\n",
      "48\n",
      "1g5xcv5\n",
      "13\n",
      "1g5vyjn\n",
      "3\n",
      "1g5qtv6\n",
      "44\n",
      "1g5uhjn\n",
      "5\n",
      "1g5u0um\n",
      "3\n",
      "1g5rntv\n",
      "4\n",
      "1g510n2\n",
      "42\n",
      "1g46899\n",
      "17\n",
      "1g44gx2\n",
      "12\n"
     ]
    }
   ],
   "execution_count": 139
  },
  {
   "metadata": {},
   "cell_type": "markdown",
   "source": [
    "## Some Actions you can perform on a post\n",
    "\n",
    "- Upvote: post.upvote()\n",
    "- Downvote: post.downvote()\n",
    "- Clear Vote: post.clear_vote()\n",
    "- Reply: post.reply(\"your reply\")\n",
    "\n",
    "## Some Actions you can perform on subreddit\n",
    "\n",
    "- Subscribe: subreddit.subscribe()\n",
    "- Unsubscribe: subreddit.unsubscribe()\n",
    "\n",
    "## Some Actions you can perform on a comment\n",
    "\n",
    "- Upvote: comment.upvote()\n",
    "- Downvote: comment.downvote()\n",
    "- Clear Vote: comment.clear_vote()\n",
    "- Reply: comment.reply(\"your reply\")\n",
    "\n",
    "**Note: Upvotes and downvotes are meant to be done by humans, not bots. Doing so recurrently can get your account banned.**\n",
    "\n"
   ],
   "id": "9c31817ed80d4b67"
  },
  {
   "metadata": {},
   "cell_type": "markdown",
   "source": [
    "## 6. Getting the comments of a post \n",
    "\n",
    "You can get the comments of a post by using the comments method of the post instance.\n",
    "\n",
    "In this example, we will get the comments of the top post in the \"devpt\" subreddit. You can replace it with any other post you want to get the comments from."
   ],
   "id": "d12922845da5f135"
  },
  {
   "metadata": {
    "ExecuteTime": {
     "end_time": "2024-10-25T09:08:23.506787Z",
     "start_time": "2024-10-25T09:08:22.894073Z"
    }
   },
   "cell_type": "code",
   "source": [
    "top_posts = next(subreddit.top(limit=1, time_filter=\"week\"))\n",
    "\n",
    "print(f\"Top {top_posts.num_comments}\")\n",
    "for i,comment in enumerate(top_posts.comments):\n",
    "    print(f\"Comment {i}: {comment.body}\")"
   ],
   "id": "896f8edbf64ea52d",
   "outputs": [
    {
     "name": "stdout",
     "output_type": "stream",
     "text": [
      "Top 27\n",
      "Comment 0: - [fzf](https://github.com/junegunn/fzf) Incrivel para procurar rapidamente ficheiros no disco e comandos que usaste\n",
      "- [jq](https://github.com/jqlang/jq) Para quem tem de processar rapidamente ficheiros JSON\n",
      "- [lazygit](https://github.com/jesseduffield/lazygit) UI simples no terminal\n",
      "- (Não é open source) [Obsidian](https://obsidian.md/) Incrivel ferramenta de organizaçao toda em Markdown. Faz com que possa usar onde for msm que nao tenha a app nesse dispositivo. Usar o sistema de tags ajudou me imenso a organizar informaço e escrever a tese\n",
      "\n",
      "Depois ha o neovim que recomendo mas isso já é outro caso.\n",
      "\n",
      "Edit: Obsidian não é open source. No entanto, tds os ficheiros estão em markdoen\n",
      "Comment 1: [Bruno](https://www.usebruno.com/), [Firecamp](https://firecamp.io/).\n",
      "Comment 2: Visual studio code\n",
      "Comment 3: Draw.io, nmap, wireshark.\n",
      "Comment 4: qgis\n",
      "Comment 5: [flameshot](https://flameshot.org)\n",
      "Comment 6: O conjunto de ferramentas descrito em [Modern Unix](https://github.com/ibraheemdev/modern-unix) - acima de tudo alternativas melhore/mais modernas aos comandos de todos os dias.\n",
      "\n",
      "zsh + [ohmyzsh](https://ohmyz.sh/) + [powerlevel10k](https://github.com/romkatv/powerlevel10k) para a minha maquina. Fequentemente instalo [Starship](https://starship.rs/) até em servidores remotos, só mesmo por conveniencia.\n",
      "\n",
      "[asdf](https://github.com/asdf-vm/asdf) como gestor de versoes de linguagens de programacao, versoes locais de bases de dados, e basicamente tudo e mais um par de botas.\n",
      "\n",
      "[direnv](https://direnv.net/) para gerir variaveis de ambiente por directoria, mais fazer autoswitching to virtualenvs de python\n",
      "\n",
      "Eh pah.. e mais... tanta cena. Mas isto é o que tenho automatizado instalar numa maquina nova.\n",
      "Comment 7: [doomemacs](https://github.com/doomemacs/doomemacs)\n",
      "Comment 8: [mcfly](https://github.com/cantino/mcfly) - para navegar rapidamente pelos comandos do terminal\n",
      "\n",
      "tldr - obter a documentação mais relevante de CLIs\n",
      "\n",
      "normcap - ferramenta de OCR do ecrã\n",
      "\n",
      "Assim de cabeça e excepto o que já foi mencionado, são das ferramentas que mais utilizo\n",
      "Comment 9: Quase tudo o que uso em Linux é open source, suponho \n",
      "\n",
      "Se usam ou têm de usar Mac, muCommander. Se têm um mac antigo: OpenCore Legacy Patcher.\n",
      "\n",
      "Shelter no telemóvel (Android) para separar trabalho da vida pessoal.\n",
      "Comment 10: Fora os que já foram aqui mencionados, Neovim, tmux, midnight commander e pgsql + as suas fantásticas extensões \n",
      "Comment 11: vê isto: https://github.com/agarrharr/awesome-cli-apps\n",
      "Comment 12: i3wm, dmenu, alacritty, vim, mupdf, bat, eza, yazi\n",
      "Comment 13: Chatgpt\n"
     ]
    }
   ],
   "execution_count": 140
  },
  {
   "metadata": {},
   "cell_type": "markdown",
   "source": [
    "## 7. Getting the comments of a comment\n",
    "\n",
    "You can get the comments of a comment by using the replies method of the comment instance."
   ],
   "id": "3baee8622d089a9b"
  },
  {
   "metadata": {
    "ExecuteTime": {
     "end_time": "2024-10-25T09:08:23.509599Z",
     "start_time": "2024-10-25T09:08:23.505346Z"
    }
   },
   "cell_type": "code",
   "source": [
    "print(f\"Top {top_posts.num_comments}\")\n",
    "for i,comment in enumerate(top_posts.comments):\n",
    "    print(f\"Comment {i}: {comment.body}\")\n",
    "    for j, comment_comment in enumerate(comment.replies):\n",
    "        print(f\"Secon Level Comment {i}: {comment_comment.body}\")\n",
    "        "
   ],
   "id": "9bbf8ab76d99d08e",
   "outputs": [
    {
     "name": "stdout",
     "output_type": "stream",
     "text": [
      "Top 27\n",
      "Comment 0: - [fzf](https://github.com/junegunn/fzf) Incrivel para procurar rapidamente ficheiros no disco e comandos que usaste\n",
      "- [jq](https://github.com/jqlang/jq) Para quem tem de processar rapidamente ficheiros JSON\n",
      "- [lazygit](https://github.com/jesseduffield/lazygit) UI simples no terminal\n",
      "- (Não é open source) [Obsidian](https://obsidian.md/) Incrivel ferramenta de organizaçao toda em Markdown. Faz com que possa usar onde for msm que nao tenha a app nesse dispositivo. Usar o sistema de tags ajudou me imenso a organizar informaço e escrever a tese\n",
      "\n",
      "Depois ha o neovim que recomendo mas isso já é outro caso.\n",
      "\n",
      "Edit: Obsidian não é open source. No entanto, tds os ficheiros estão em markdoen\n",
      "Secon Level Comment 0: > jq Para quem tem de processar rapidamente ficheiros JSON\n",
      "\n",
      "E yq para yaml\n",
      "Secon Level Comment 0: Obsidian é _muito_ bom, mas olha que não é Open Source - a coisa mais próxima Open Source seria o [Logseq](https://logseq.com/).\n",
      "Comment 1: [Bruno](https://www.usebruno.com/), [Firecamp](https://firecamp.io/).\n",
      "Secon Level Comment 1: Bruno é vida! Se eles implementarem algo tipo interceptor, fica perfeito\n",
      "Secon Level Comment 1: Tens alguma preferência entre os dois?\n",
      "\n",
      "edit: instalei o bruno e isto é muito mais leve que o postman, incrível!\n",
      "Comment 2: Visual studio code\n",
      "Comment 3: Draw.io, nmap, wireshark.\n",
      "Secon Level Comment 3: Pelas ferramentas digo que é Network admin ou DevOps 😁\n",
      "Comment 4: qgis\n",
      "Comment 5: [flameshot](https://flameshot.org)\n",
      "Secon Level Comment 5: Nem me lembrava que esse existia, também é bastante interessante.\n",
      "Comment 6: O conjunto de ferramentas descrito em [Modern Unix](https://github.com/ibraheemdev/modern-unix) - acima de tudo alternativas melhore/mais modernas aos comandos de todos os dias.\n",
      "\n",
      "zsh + [ohmyzsh](https://ohmyz.sh/) + [powerlevel10k](https://github.com/romkatv/powerlevel10k) para a minha maquina. Fequentemente instalo [Starship](https://starship.rs/) até em servidores remotos, só mesmo por conveniencia.\n",
      "\n",
      "[asdf](https://github.com/asdf-vm/asdf) como gestor de versoes de linguagens de programacao, versoes locais de bases de dados, e basicamente tudo e mais um par de botas.\n",
      "\n",
      "[direnv](https://direnv.net/) para gerir variaveis de ambiente por directoria, mais fazer autoswitching to virtualenvs de python\n",
      "\n",
      "Eh pah.. e mais... tanta cena. Mas isto é o que tenho automatizado instalar numa maquina nova.\n",
      "Comment 7: [doomemacs](https://github.com/doomemacs/doomemacs)\n",
      "Secon Level Comment 7: org mode for life\n",
      "Comment 8: [mcfly](https://github.com/cantino/mcfly) - para navegar rapidamente pelos comandos do terminal\n",
      "\n",
      "tldr - obter a documentação mais relevante de CLIs\n",
      "\n",
      "normcap - ferramenta de OCR do ecrã\n",
      "\n",
      "Assim de cabeça e excepto o que já foi mencionado, são das ferramentas que mais utilizo\n",
      "Comment 9: Quase tudo o que uso em Linux é open source, suponho \n",
      "\n",
      "Se usam ou têm de usar Mac, muCommander. Se têm um mac antigo: OpenCore Legacy Patcher.\n",
      "\n",
      "Shelter no telemóvel (Android) para separar trabalho da vida pessoal.\n",
      "Comment 10: Fora os que já foram aqui mencionados, Neovim, tmux, midnight commander e pgsql + as suas fantásticas extensões \n",
      "Secon Level Comment 10: hot **mc**\n",
      "Comment 11: vê isto: https://github.com/agarrharr/awesome-cli-apps\n",
      "Comment 12: i3wm, dmenu, alacritty, vim, mupdf, bat, eza, yazi\n",
      "Comment 13: Chatgpt\n",
      "Secon Level Comment 13: Diz-me que não sabes o que é open source sem me dizeres que não sabes o que é open source\n"
     ]
    }
   ],
   "execution_count": 141
  },
  {
   "metadata": {},
   "cell_type": "markdown",
   "source": [
    "## 8. Posting a submission\n",
    "\n",
    "You can post a submission to a subreddit by using the submit method of the subreddit instance.\n",
    "\n",
    "We will use a subreddit named \"testingground4bots\" that is used for testing bots."
   ],
   "id": "3ffae08ee40fd357"
  },
  {
   "metadata": {
    "ExecuteTime": {
     "end_time": "2024-10-25T09:10:13.188349Z",
     "start_time": "2024-10-25T09:10:13.180955Z"
    }
   },
   "cell_type": "code",
   "source": [
    "subreddit = reddit_instance.subreddit(\"testingground4bots\")\n",
    "subreddit.display_name"
   ],
   "id": "e2395a2cf7f63858",
   "outputs": [
    {
     "data": {
      "text/plain": "'testingground4bots'"
     },
     "execution_count": 150,
     "metadata": {},
     "output_type": "execute_result"
    }
   ],
   "execution_count": 150
  },
  {
   "cell_type": "code",
   "outputs": [],
   "source": [
    "post = subreddit.submit(\"Test\", selftext= \"This is a test\")"
   ],
   "metadata": {
    "collapsed": false,
    "ExecuteTime": {
     "end_time": "2024-10-25T09:12:49.031148Z",
     "start_time": "2024-10-25T09:12:48.654923Z"
    }
   },
   "id": "201b5459cc85c27e",
   "execution_count": 151
  },
  {
   "metadata": {},
   "cell_type": "markdown",
   "source": [
    "## 9. Making a comment\n",
    "\n",
    "You can make a comment on a post by using the reply method of the post instance."
   ],
   "id": "de5787b2d0b3079"
  },
  {
   "metadata": {
    "ExecuteTime": {
     "end_time": "2024-10-25T09:16:43.789744Z",
     "start_time": "2024-10-25T09:16:43.422706Z"
    }
   },
   "cell_type": "code",
   "source": [
    "reply = post.reply(\"This is a test\")\n",
    "reply"
   ],
   "id": "70310ef376c8c102",
   "outputs": [
    {
     "data": {
      "text/plain": "Comment(id='ltnmr7e')"
     },
     "execution_count": 152,
     "metadata": {},
     "output_type": "execute_result"
    }
   ],
   "execution_count": 152
  },
  {
   "metadata": {},
   "cell_type": "markdown",
   "source": [
    "## Commenting a comment"
   ],
   "id": "18fe9e0c8f316c3"
  },
  {
   "metadata": {
    "ExecuteTime": {
     "end_time": "2024-10-25T09:08:23.517603Z",
     "start_time": "2024-10-25T09:08:23.514334Z"
    }
   },
   "cell_type": "code",
   "source": [
    "reply"
   ],
   "id": "be1d01fa2ee6a111",
   "outputs": [],
   "execution_count": 144
  },
  {
   "metadata": {},
   "cell_type": "markdown",
   "source": [
    "## 10. Upvoting a post and a comment"
   ],
   "id": "3a43dfbe91756efe"
  },
  {
   "metadata": {
    "ExecuteTime": {
     "end_time": "2024-10-25T09:08:23.519966Z",
     "start_time": "2024-10-25T09:08:23.517271Z"
    }
   },
   "cell_type": "code",
   "source": [
    "# ..."
   ],
   "id": "a687fda63618d62d",
   "outputs": [],
   "execution_count": 145
  },
  {
   "metadata": {
    "ExecuteTime": {
     "end_time": "2024-10-25T09:08:23.524079Z",
     "start_time": "2024-10-25T09:08:23.519560Z"
    }
   },
   "cell_type": "code",
   "source": [
    "# ..."
   ],
   "id": "125761e7cb03137a",
   "outputs": [],
   "execution_count": 146
  },
  {
   "metadata": {},
   "cell_type": "markdown",
   "source": [
    "## 11. Searching reddit and subreddits"
   ],
   "id": "8fe22081f5dd1294"
  },
  {
   "metadata": {
    "ExecuteTime": {
     "end_time": "2024-10-25T09:08:23.548683Z",
     "start_time": "2024-10-25T09:08:23.522081Z"
    }
   },
   "cell_type": "code",
   "source": [
    "# ..."
   ],
   "id": "96ea2d57584f3b39",
   "outputs": [],
   "execution_count": 147
  },
  {
   "metadata": {
    "ExecuteTime": {
     "end_time": "2024-10-25T09:08:23.549746Z",
     "start_time": "2024-10-25T09:08:23.524529Z"
    }
   },
   "cell_type": "code",
   "source": [
    "# ..."
   ],
   "id": "63b2506217586ce9",
   "outputs": [],
   "execution_count": 148
  }
 ],
 "metadata": {
  "kernelspec": {
   "display_name": "Python 3",
   "language": "python",
   "name": "python3"
  },
  "language_info": {
   "codemirror_mode": {
    "name": "ipython",
    "version": 2
   },
   "file_extension": ".py",
   "mimetype": "text/x-python",
   "name": "python",
   "nbconvert_exporter": "python",
   "pygments_lexer": "ipython2",
   "version": "2.7.6"
  }
 },
 "nbformat": 4,
 "nbformat_minor": 5
}
