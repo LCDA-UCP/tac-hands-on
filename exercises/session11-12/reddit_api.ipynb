{
 "cells": [
  {
   "metadata": {},
   "cell_type": "markdown",
   "source": "# Using the praw library to interact with the Reddit API",
   "id": "ddb88b017a581c2d"
  },
  {
   "metadata": {},
   "cell_type": "markdown",
   "source": [
    "## Pre-requisites\n",
    "\n",
    "### 1. Create a Reddit account\n",
    "\n",
    "I recommend creating a separate account for your bot. \n",
    "\n",
    "You can use your personal account, but it's not recommended. \n",
    "\n",
    "You may accidentally do something that gets your account banned.\n",
    "    \n",
    "### 2. Create a Reddit App\n",
    "\n",
    "After creating an account, make sure you're logged in and go to https://www.reddit.com/prefs/apps.\n",
    "\n",
    "Click the \"are you a developer? create an app...\" or \"create another app...\" button.\n",
    "\n",
    "Fill out the form like so:\n",
    "- name: My Bot (or whatever you want to call it)\n",
    "- App type: script\n",
    "- description: My Bot (or whatever you want to call it)\n",
    "- about url: leave blank\n",
    "- redirect uri: http://localhost:8080\n",
    "\n",
    "Click the \"create app\" button.\n",
    "\n",
    "You should now see a page with your app's client ID and client secret.\n",
    "\n",
    "You will need these to authenticate with the Reddit API.\n",
    "\n",
    "### 3. Install praw\n",
    "\n",
    "Praw is a Python wrapper for the Reddit API.\n",
    "\n",
    "You can install it with pip:\n",
    "\n",
    "```bash\n",
    "pip install praw\n",
    "```\n",
    "\n",
    "Because praw it already listed in the requirements.txt file, you can install it by running the following command:\n",
    "    \n",
    "```bash\n",
    "pip install -r requirements.txt\n",
    "``` \n",
    "\n",
    "### 4. Create a .env file in the root directory of the project\n",
    "\n",
    "Create a file called `.env` in the root directory of the project.\n",
    "\n",
    "Add the following lines to the file:\n",
    "\n",
    "```txt\n",
    "R_CLIENT_ID=\"your_client_id\"\n",
    "R_CLIENT_SECRET=\"your_client_secret\"\n",
    "R_USER_AGENT=\"your_user_agent\"\n",
    "R_USERNAME=\"your_username\"\n",
    "R_PASSWORD=\"your_password\"\n",
    "```\n",
    "\n",
    "Replace the values with the client ID and client secret from the Reddit app you created earlier.\n",
    "Replace the user agent with a unique string that describes your bot.\n",
    "Replace the username and password with the credentials for the Reddit account you created earlier.\n",
    "\n",
    "Add the `.env` file to your `.gitignore` file to prevent it from being committed to the repository. Note: our current `.gitignore` file already has the `.env` file added to it. So you don't need to add it again.\n",
    "\n",
    "### 5. Install the python-dotenv library\n",
    "\n",
    "The python-dotenv library is used to load environment variables from a .env file.\n",
    "\n",
    "You can install it with pip:\n",
    "\n",
    "```bash\n",
    "pip install python-dotenv\n",
    "```\n",
    "    \n",
    "Because python-dotenv it already listed in the requirements.txt file, you can install it by running the following command:\n",
    "        \n",
    "```bash\n",
    "pip install -r requirements.txt\n",
    "```\n",
    "    \n",
    "\n",
    "\n",
    "\n",
    "\n",
    "\n",
    "\n",
    "\n",
    "\n",
    "\n",
    "\n",
    "\n",
    "\n"
   ],
   "id": "4463adab692d4f9e"
  },
  {
   "metadata": {},
   "cell_type": "markdown",
   "source": "# Let's Get Started",
   "id": "9753aae7160d3c5d"
  },
  {
   "metadata": {},
   "cell_type": "markdown",
   "source": "## 1. Let's Start by Importing the praw Library",
   "id": "be38035c6bf87b20"
  },
  {
   "metadata": {
    "ExecuteTime": {
     "end_time": "2024-10-25T08:16:21.942869Z",
     "start_time": "2024-10-25T08:16:21.876577Z"
    }
   },
   "cell_type": "code",
   "source": "import praw",
   "id": "e893c7500b96018b",
   "outputs": [],
   "execution_count": 1
  },
  {
   "metadata": {},
   "cell_type": "markdown",
   "source": [
    "## 2. Load the environment variables\n",
    "\n",
    "To use the Reddit API, you need to authenticate with your Reddit account."
   ],
   "id": "e4f47ae7a6c65728"
  },
  {
   "metadata": {
    "ExecuteTime": {
     "end_time": "2024-10-25T08:16:23.606817Z",
     "start_time": "2024-10-25T08:16:23.596404Z"
    }
   },
   "cell_type": "code",
   "source": [
    "from dotenv import load_dotenv\n",
    "import os\n",
    "\n",
    "load_dotenv()\n",
    "\n",
    "CLIENT_ID = os.getenv(\"R_CLIENT_ID\")\n",
    "CLIENT_SECRET = os.getenv(\"R_CLIENT_SECRET\")\n",
    "USER_AGENT = os.getenv(\"R_USER_AGENT\")\n",
    "USERNAME = os.getenv(\"R_USERNAME\")\n",
    "PASSWORD = os.getenv(\"R_PASSWORD\")"
   ],
   "id": "86688eaa4ea1d3a9",
   "outputs": [],
   "execution_count": 2
  },
  {
   "metadata": {},
   "cell_type": "markdown",
   "source": [
    "## 3. Create a Reddit Instance\n",
    "\n",
    "You can create a Reddit instance by passing the client ID, client secret, user agent, username, and password to the praw.Reddit class.\n",
    "You can then check if the instance was created successfully by printing the username of the authenticated user."
   ],
   "id": "2e2547dcf00905ad"
  },
  {
   "metadata": {
    "ExecuteTime": {
     "end_time": "2024-10-25T08:16:26.302407Z",
     "start_time": "2024-10-25T08:16:26.264296Z"
    }
   },
   "cell_type": "code",
   "source": [
    "reddit_instance = praw.Reddit(\n",
    "    client_id=CLIENT_ID,\n",
    "    client_secret=CLIENT_SECRET,\n",
    "    user_agent=USER_AGENT,\n",
    "    username=USERNAME,\n",
    "    password=PASSWORD,\n",
    ")"
   ],
   "id": "234d11a3c12a3d42",
   "outputs": [],
   "execution_count": 3
  },
  {
   "metadata": {
    "ExecuteTime": {
     "end_time": "2024-10-25T08:16:28.434484Z",
     "start_time": "2024-10-25T08:16:27.522730Z"
    }
   },
   "cell_type": "code",
   "source": "print(reddit_instance.user.me())",
   "id": "a2d228df0c51547b",
   "outputs": [
    {
     "name": "stdout",
     "output_type": "stream",
     "text": [
      "random_learner11\n"
     ]
    }
   ],
   "execution_count": 4
  },
  {
   "metadata": {
    "ExecuteTime": {
     "end_time": "2024-10-25T08:31:23.694329Z",
     "start_time": "2024-10-25T08:31:23.691401Z"
    }
   },
   "cell_type": "code",
   "source": "reddit_instance.read_only",
   "id": "bea5656f217a5b38",
   "outputs": [
    {
     "data": {
      "text/plain": [
       "False"
      ]
     },
     "execution_count": 7,
     "metadata": {},
     "output_type": "execute_result"
    }
   ],
   "execution_count": 7
  },
  {
   "metadata": {},
   "cell_type": "markdown",
   "source": [
    "## 4. Interacting with Subreddits\n",
    "\n",
    "You can interact with subreddits by using the subreddit method of the Reddit instance.\n",
    "\n",
    "In this example, we will interact with the \"devpt\" subreddit. You can replace it with any other subreddit you want to interact with."
   ],
   "id": "3dd0e7a7919a3b86"
  },
  {
   "metadata": {
    "ExecuteTime": {
     "end_time": "2024-10-25T08:32:57.880215Z",
     "start_time": "2024-10-25T08:32:57.876852Z"
    }
   },
   "cell_type": "code",
   "source": [
    "subreddit = reddit_instance.subreddit(\"devpt\")\n",
    "subreddit"
   ],
   "id": "62f1785e3c73db85",
   "outputs": [
    {
     "data": {
      "text/plain": [
       "Subreddit(display_name='devpt')"
      ]
     },
     "execution_count": 8,
     "metadata": {},
     "output_type": "execute_result"
    }
   ],
   "execution_count": 8
  },
  {
   "metadata": {},
   "cell_type": "markdown",
   "source": "## Getting Information About a Subreddit",
   "id": "48566b68dbaa0261"
  },
  {
   "metadata": {
    "ExecuteTime": {
     "end_time": "2024-10-25T08:36:08.938989Z",
     "start_time": "2024-10-25T08:36:08.935580Z"
    }
   },
   "cell_type": "code",
   "source": "subreddit.display_name",
   "id": "f0fa3daafb4f7dc9",
   "outputs": [
    {
     "data": {
      "text/plain": [
       "'devpt'"
      ]
     },
     "execution_count": 9,
     "metadata": {},
     "output_type": "execute_result"
    }
   ],
   "execution_count": 9
  },
  {
   "metadata": {
    "ExecuteTime": {
     "end_time": "2024-10-25T08:36:21.608557Z",
     "start_time": "2024-10-25T08:36:21.605743Z"
    }
   },
   "cell_type": "code",
   "source": "subreddit.title",
   "id": "a15f60260174c68a",
   "outputs": [
    {
     "data": {
      "text/plain": [
       "'DevPT - Comunidade de Developers Portugueses'"
      ]
     },
     "execution_count": 10,
     "metadata": {},
     "output_type": "execute_result"
    }
   ],
   "execution_count": 10
  },
  {
   "metadata": {
    "ExecuteTime": {
     "end_time": "2024-10-25T08:36:40.452895Z",
     "start_time": "2024-10-25T08:36:40.447642Z"
    }
   },
   "cell_type": "code",
   "source": "subreddit.description",
   "id": "2bdc3405caf8fe83",
   "outputs": [
    {
     "data": {
      "text/plain": [
       "'##Bem-vindo ao DevPT!\\n\\nSomos uma comunidade de developers portugueses.\\n\\nSe quiseres saber mais dá uma olhadela em **[devpt.co](https://devpt.co)**.\\n\\nTemos ainda um **Discord**:\\n\\n**[Visitem o nosso Discord](https://devpt.co/discord)**\\n\\n^URL: ^`https://devpt.co/discord`\\n\\n###Regras\\n\\n 1. Faz perguntas acertadamente, esclarece o teu ponto de vista ou dúvida o mais breve possível.\\n 2. **Não são permitidos estudos de mercado e/ou inquéritos**\\n 3. Usa um titulo descritivo em que especifiques a linguagem ou tecnologia com que estas a trabalhar.\\n\\n    Ex:[C++] Bug no ciclo while\\n\\n 4. Este é um subreddit com o objetivo de entre-ajuda e discussão e, para isso, pedimos a colaboração de todos para ser possível tirar o melhor proveito do mesmo.\\n\\n 5. É obrigatório usar a flair correcta\\n\\n 6. Não são permitidos outros assuntos fora da esfera do DevPT\\n\\n###Ferramentas aconselhadas\\nSempre que precisares de colar código usa uma das ferramentas seguintes (ou semelhantes):\\n\\n - Gist: para muito código e/ou diferentes ficheiros.\\n - IDEone: para código que deve ser executado.\\n - JSFiddle: para HTML, CSS ou JavaScript.\\n\\n### Subs associados:\\n\\n/r/EngineeringResumes'"
      ]
     },
     "execution_count": 11,
     "metadata": {},
     "output_type": "execute_result"
    }
   ],
   "execution_count": 11
  },
  {
   "metadata": {
    "ExecuteTime": {
     "end_time": "2024-10-25T08:37:18.470647Z",
     "start_time": "2024-10-25T08:37:18.466553Z"
    }
   },
   "cell_type": "code",
   "source": "subreddit.subscribers",
   "id": "e511d90b56f783db",
   "outputs": [
    {
     "data": {
      "text/plain": [
       "45675"
      ]
     },
     "execution_count": 12,
     "metadata": {},
     "output_type": "execute_result"
    }
   ],
   "execution_count": 12
  },
  {
   "metadata": {},
   "cell_type": "markdown",
   "source": [
    "## 5. Getting the Top 25 Posts in a Subreddit\n",
    "\n",
    "You can get the top 25 posts in a subreddit by using the top method of the subreddit instance.\n",
    "\n",
    "In this example, we will get the top 25 posts in the \"devpt\" subreddit. You can replace it with any other subreddit you want to get the top posts from.\n",
    "\n",
    "We will also define the time filter to get the top posts of the week."
   ],
   "id": "a2e07cf35379b939"
  },
  {
   "metadata": {
    "ExecuteTime": {
     "end_time": "2024-10-25T08:44:11.252987Z",
     "start_time": "2024-10-25T08:44:10.931544Z"
    }
   },
   "cell_type": "code",
   "source": [
    "top_posts = subreddit.top(limit=25, time_filter=\"week\")\n",
    "\n",
    "for post in top_posts:\n",
    "    print(post.title)"
   ],
   "id": "1a44a5dd22ce4488",
   "outputs": [
    {
     "name": "stdout",
     "output_type": "stream",
     "text": [
      "Ferramentas Open-Source\n",
      "Ajuda\n",
      "Manter o trabalho ou trocar por um estágio hibrido a 250km\n",
      "Entrevista - teste na Codility\n",
      "Data Analytics Engineer Cloudfare\n",
      "Será que o curso vale a Pena?\n",
      "Sebentas de Matemática Discreta, Cálculo, Álgebra Linear, Estatística\n",
      "Quanto cobrar à hora?\n",
      "Candidatura estágio EDP \n",
      "Trabalho há 1 ano e meio como consultor SAP ABAP e Fiori - vale a pena inscrever-me numa licenciatura?\n",
      "Ajuda técnica\n",
      "Hetzner vs OvhCloud vs Contabo vs Algum em Portugal ? \n",
      "Renderizar gráfico de relação semântica em react\n",
      "Envision Pharma Group\n",
      "Faculdade e tecnólogo juntos\n",
      "O que ensinam hoje em dia nas faculdades...\n"
     ]
    }
   ],
   "execution_count": 15
  },
  {
   "metadata": {},
   "cell_type": "markdown",
   "source": [
    "## Hot, Top, New, Controversial, Rising posts\n",
    "\n",
    "You can get the hot, top, new, controversial, and rising posts in a subreddit by using the hot, top, new, controversial, and rising methods of the subreddit instance.\n",
    "\n",
    "**Note: sometimes some posts are sticked by the moderators, so they will always appear in the top posts. You can confirm if a post is sticked with `post.stickied`**"
   ],
   "id": "2dbf857266581e5f"
  },
  {
   "metadata": {
    "ExecuteTime": {
     "end_time": "2024-10-25T08:56:25.908015Z",
     "start_time": "2024-10-25T08:56:25.324878Z"
    }
   },
   "cell_type": "code",
   "source": [
    "new_posts = subreddit.new(limit=25)\n",
    "\n",
    "for post in new_posts:\n",
    "    print(post.title)\n",
    "    print(post.selftext)\n",
    "    print(post.ups)\n",
    "    print(\"\\n\\n\\n\")"
   ],
   "id": "2192d91c202d9e41",
   "outputs": [
    {
     "name": "stdout",
     "output_type": "stream",
     "text": [
      "Envision Pharma Group\n",
      "Boas peeps. Eu passei recentemente pelo processo de recrutamento desta empresa e acabei por receber oferta. Não encontro muita informação sobre a mesma.. o que existe no glassdoor é mais relativo a outros cargos. \n",
      "\n",
      "Sei que têm alguns trabalhadores tugas por lá. Alguém tem opiniões da mesma :)?\n",
      "\n",
      "Obrigado meus putos da pesada.\n",
      "\n",
      "Edit: Vou entrar para Engenheiro de Software.\n",
      "0\n",
      "\n",
      "\n",
      "\n",
      "\n",
      "Manter o trabalho ou trocar por um estágio hibrido a 250km\n",
      "Boas pessoal,\n",
      "\n",
      "Recentemente recebi uma proposta de estágio como tester na parte de automação em Lisboa numa empresa na qual tenho bastante interesse. Em termos de condições iria receber +100€ brutos por mês e um pouco mais de subsidio de alimentação.\n",
      "\n",
      "Tenho aqui alguns pontos que me faz querer aceitar tal como: a empresa em si e o peso que eu penso que tenha no curriculo, o cargo (neste momento estou num cargo que quase não existe na europa, é maior na américa do sul) e o facto de não gostar do ambiente da equipa onde estou atualmente. \n",
      "\n",
      "Agora a parte negativa, sendo que é um estágio em Lisboa teria que ficar duas noites por semana em lisboa na casa de amigos e também obviamente iria ter que fazer uma viagem de transportes publicos de 250km 2x por semana. \n",
      "\n",
      "Em termos de futuro sinto que isto ia-me ajudar a abrir portas e a ter mais oportunidades dentro da área visto que o plano a longo prazo será mudar-me para Lisboa ou Porto. A área de testes é algo pela qual tenho desenvolvido interesse nos ultimos tempos e gostaria de explorar mais. \n",
      "\n",
      "Aqui a verdadeira questão é compensa fazer esta mudança agora e ter esta \"vida de cão\" durante algum tempo? Para contexto tenho 25 anos e vivo com a minha namorada e isso faz-me achar que mais vale fazer este sacrificio agora do que daqui a 10 anos.\n",
      "12\n",
      "\n",
      "\n",
      "\n",
      "\n",
      "Candidatura estágio EDP \n",
      "Boas a todos! Como refere o título candidatei me a um estágio profissional EDP, fui para a fase que pedem avaliações, fi-las e terminaram com uma entrevista assíncrona, tudo através de um site que tem essas tais avaliações. \n",
      "No fim de ter concluído tudo não recebi nada sobre o assunto do género \"concluíste tudo vamos analisar\" nada simplesmente... Entretanto o prazo pra concluir tudo era no dia que terminei às 22h.\n",
      "\n",
      "É normal não dizerem nada nesta fase? Deveria mandar algum email a questionar se as minhas avaliações estão registadas?\n",
      "\n",
      "Ps: É a minha primeira vez nestas candidaturas, acabei de terminar a minha licenciatura, sou leiga :) \n",
      "3\n",
      "\n",
      "\n",
      "\n",
      "\n",
      "Ajuda técnica\n",
      "Boa Noite equipa,\n",
      "\n",
      "  \n",
      "Recentemente propuseram-me um desafio em javaFX framework, em que o tópico irá ser sobre navegação.\n",
      "\n",
      "O que é que eu pensei? Pensei em fazer um aplicativo web, tal como o moovit, mas só da STCP (\"https://moovitapp.com/index/pt/transportes\\_p%C3%BAblicos-Porto-Porto-city\\_20479-1904\"), mas não sei por onde começar, estou a desenvolver o código em java no visual studio, já andei para aqui a \"brincar\" mas  quando me abre o ficheiro do SceneBuilder, o .jxml, diz que não consegue abrir o ficheiro .zip onde contém as rotas, as paragens, ... dos autocarros. Por isso, estava a pensar em fazer pelo API mas não sei como é que isso funciona. \n",
      "\n",
      "O meu objetivo, para já, era escolher um autocarro ou alguém digitar o número do autocarro pretendido e ele responder a rota que ele faz num mapa com o API do maps. Alguém com conhecimento vasto me poderá ajudar?\n",
      "\n",
      "  \n",
      "Com os melhores cumprimentos,\n",
      "\n",
      "Dadycol.\n",
      "1\n",
      "\n",
      "\n",
      "\n",
      "\n",
      "Ajuda\n",
      "Boas, é o seguinte. \n",
      "\n",
      "Queria ter entrado em Engenharia Informática este ano mas não consegui, então o objetivo é fazer para entrar para o próximo. \n",
      "\n",
      "Estou a trabalhar mas o meu pai diz que não me quer ver a parar os estudos 1 ano e que devia ir fazer cursos ou bootcamps. \n",
      "\n",
      "Que recomendação dariam, sendo que não pode ser assim tao caro como alguns cursos que encontro aqui?\n",
      "12\n",
      "\n",
      "\n",
      "\n",
      "\n",
      "Hetzner vs OvhCloud vs Contabo vs Algum em Portugal ? \n",
      "Hetzner vs OVHCloud vs Contabo vs Provedores Locais em Portugal: Qual é o Melhor?\n",
      "\n",
      "Estou a avaliar diferentes opções de servidores e estou indeciso entre Hetzner, OVHCloud, Contabo, e talvez algum provedor local em Portugal. O meu objetivo é encontrar um serviço que ofereça uma boa relação custo-benefício, desempenho sólido e suporte adequado.\n",
      "\n",
      "O que preciso:\n",
      "\n",
      "\t•\tBoa performance para um projeto de médio porte.\n",
      "\t•\tUptime confiável e boa segurança.\n",
      "\t•\tSuporte técnico acessível (não precisa ser ultra-rápido, mas eficiente).\n",
      "\t•\tLatência razoável, principalmente para utilizadores em Portugal e na Europa.\n",
      "\n",
      "O que estou a considerar:\n",
      "\n",
      "\t•\tHetzner: Preços super competitivos, principalmente para servidores dedicados e VPS. Como está a vossa experiência com a latência e o suporte deles?\n",
      "\t•\tOVHCloud: Parece oferecer muita versatilidade, especialmente em soluções de nuvem. No entanto, ouvi dizer que o suporte pode ser lento. Isso tem sido um problema para vocês?\n",
      "\t•\tContabo: Ótimos preços, mas será que compensa em termos de performance e confiabilidade para algo mais exigente?\n",
      "\t•\tProvedores Locais em Portugal: Já experimentaram algum? Vale a pena pela latência e suporte local, ou o custo extra não justifica?\n",
      "\n",
      "Estou curioso para saber a vossa opinião e experiências pessoais. Qual escolheriam e porquê? Qual é o melhor para balancear custo e desempenho?\n",
      "\n",
      "Agradeço desde já!\n",
      "1\n",
      "\n",
      "\n",
      "\n",
      "\n",
      "Sebentas de Matemática Discreta, Cálculo, Álgebra Linear, Estatística\n",
      "Boa noite.\n",
      "\n",
      "Eu vou reingressar na licenciatura de Engenharia de Sistemas Informáticos no IPCA no próximo ano letivo, e para evitar que volte acontecer o mesmo que há 10 anos, quando frequentei o curso pela primeira vez,  decidi arranjar uma explicadora que me ajude a preparar para aprovar logo no primeiro ano, as disciplinas mencionadas acima.\n",
      "\n",
      "A explicadora pediu-me para lhe arranjar sebentas destas disciplinas de forma a que ela possa preparar os conteúdos a serem lecionados nas explicações. \n",
      "\n",
      "A questão é que eu não conheço ninguém que tenha frequentado o curso recentemente. Será que é apropriado enviar um mail ao diretor do curso a solicitar ajuda com esta questão? Vou até ao ipca um dia qualquer e abordo o pessoal do curso na tentativa de encontar alguém disposto a ajudar-me?\n",
      "\n",
      "Não andará alguém por aqui que tenha frequentado ou esteja neste momento a frequentar o curso em questão e me possa facultar este material?\n",
      "\n",
      "Agradeço desde já por qualquer tipo de ajuda que me possam dar.\n",
      "7\n",
      "\n",
      "\n",
      "\n",
      "\n",
      "O que ensinam hoje em dia nas faculdades...\n",
      "Boa tarde,\n",
      "\n",
      "Estou a tirar o mestrado numa faculdade de Lisboa e na aula de BI hoje apresentaram 3 formas de editar dados numa tabela, no qual a terceira fiquei chocado:\n",
      "\n",
      "https://preview.redd.it/0qjb1wxtq5wd1.png?width=2160&format=png&auto=webp&s=03b13627893e74c7d8fbd81b2d482d39275e5890\n",
      "\n",
      "Este totalmente normal, um simple update\n",
      "\n",
      "https://preview.redd.it/put4f0t1r5wd1.png?width=2090&format=png&auto=webp&s=80f7db55165ab5f54a54b764ceab63ebb21c75a5\n",
      "\n",
      "Ok, este também poderá fazer sentido caso queiram guardar histórico\n",
      "\n",
      "https://preview.redd.it/bt91xnc6r5wd1.png?width=2240&format=png&auto=webp&s=b1fca5657d092c5496559b62e62035c8d1622f64\n",
      "\n",
      "**AGORA ESTE FIQUEI CHOCADO!**\n",
      "\n",
      "**Devo mencionar que isto foi dado para estudantes de mestrado que 90% deles não têm background em IT portanto SQL é novo para eles.**\n",
      "\n",
      "**Acham isto normal ou sou só eu que estou a dramatizar?**\n",
      "0\n",
      "\n",
      "\n",
      "\n",
      "\n",
      "Faculdade e tecnólogo juntos\n",
      "Atualmente faço engenharia de software (2 semestre) e comecei um curso de ADS mês passado, vocês acham que vale a pena fazer dois cursos de uma vez ou é meio nada a ver?\n",
      "0\n",
      "\n",
      "\n",
      "\n",
      "\n",
      "Data Analytics Engineer Cloudfare\n",
      "Hello malta, fiz ontem o challenge para a posição de Data Analytics Engineer, remote, para Cloufare. Era relativamente simples. Estou à espera de feedback. Alguém tem experiência na empresa? E em termos de ordenados? \n",
      "10\n",
      "\n",
      "\n",
      "\n",
      "\n",
      "Entrevista - teste na Codility\n",
      "Olá pessoal! Estou em fase de entrevista para a Bosch e neste momento tenho de fazer uma parte técnica no Codility, sabendo que tem o FAQ e testes treino, gostaria de saber se já alguém fez, qual o feedback e umas dicas. Obrigado.\n",
      "12\n",
      "\n",
      "\n",
      "\n",
      "\n",
      "Ferramentas Open-Source\n",
      "Que ferramentas, open-souce utilizam que acham que são um must-have ou que dão bastante jeito ocasionalmente para desenvolvimento, seja ele qual for?\n",
      "\n",
      "Começando por mim, gosto de utilizar o [readme.so](https://readme.so/pt/editor) para criar documentação de uma maneira mais intuitiva e o [excalidraw](https://excalidraw.com/) para fazer uns esboços e live sharing.\n",
      "\n",
      "edit: esqueci-me de referir, um dos melhores que já utilizei, que não está diretamente relacionado com o desenvolvimento de software, mas dá uma ajuda do caraças. Simplesmente, [Sharex](https://getsharex.com/) para screenshots e tools de desenho na tela antes de fazer print e muitas outras funções.\n",
      "61\n",
      "\n",
      "\n",
      "\n",
      "\n",
      "Trabalho há 1 ano e meio como consultor SAP ABAP e Fiori - vale a pena inscrever-me numa licenciatura?\n",
      "Boa tarde a todos,  \n",
      "O título já explica a questão, mas vou elaborar.\n",
      "\n",
      "  \n",
      "O meu percurso académico é peculiar. Acabei um curso técnico profissional em ótimas condições - média de 18, nota final de 20 a programação - mas não comecei logo a trabalhar na área para me desviar e ir estudar uma área diferente no ensino superior. Foram 6 anos longe dum ambiente de informática, apesar de me manter minimamente informado. Não terminei o curso que ingressei porque me surgiu esta oportunidade para retomar o rumo da informática e a minha situação financeira não era a melhor. \n",
      "\n",
      "  \n",
      "Eis que escrevo este post. Não sei o que me reserva o futuro, e não tenho pressas para mudar de emprego porque gosto do que faço e estou a ser bem pago. Acham que fazer a licenciatura me abre portas caso no futuro pretenda abandonar o ramo SAP? Não sei motivos pelo qual o faria, mas a vida reserva surpresas e poderei, um dia, querer mudar o meu percurso novamente devido a ter outros interesses como desenvolvimento mobile.\n",
      "\n",
      "  \n",
      "Obrigado!\n",
      "3\n",
      "\n",
      "\n",
      "\n",
      "\n",
      "Renderizar gráfico de relação semântica em react\n",
      "Boas, A minha experiência não é significativa, mas estou num curso e já trabalho há mais de 1 ano nesta área. Eu sei os limites do meu conhecimento. E sei que de momento não sou capaz de concluir uma tarefa. Essa tarefa é no frontend. A partir do resultado buscado, quando a pessoa da \"hover\" no que está está destacado, deve aparecer um gráfico de relações semânticas. Eu já tratei de tudo no backend a resposta é em json etc.. a dificuldade é de design e de fazer com que o gráfico apareça corretamente. Eu venho aqui solicitar a ajuda de quem poder estar disponível. Desculpem estar a incomodar. Em caso de alguém poder dar apoio, mande msg. Eu demonstro total abertura de aprendizagem, quero quebrar esta barreira de ignorância. Agradeço qualquer feedback.\n",
      "0\n",
      "\n",
      "\n",
      "\n",
      "\n",
      "Quanto cobrar à hora?\n",
      "Boa noite, sou Front End com 5 de experiência, fui contactado com uma proposta de fazer o FE para uma app e não faço ideia do que cobrar.\n",
      "\n",
      "Alguém me dá um ajuda\n",
      "4\n",
      "\n",
      "\n",
      "\n",
      "\n",
      "Será que o curso vale a Pena?\n",
      "Boas malta\n",
      "\n",
      "Eu tenho andado a fazer algumas consideraçoes e precisava de input de malta da área .\n",
      "\n",
      "Atualmente estou com 3 anos de experiencia como Full Stack web Developer onde tambem  trabalhei com area de DevOps.\n",
      "\n",
      "Eu tenho a Licenciatura \" congelada\" porque comecei a trabalhar e deixei de ter tempo para estudar.\n",
      "\n",
      "Será que ainda vale a pena voltar aos estudos para concluir o curso ou a experiencia prática que tenho já é suficiente \n",
      "\n",
      "For context tou empregado na area e nao tou com grandes ideias de mudar de empresa a short term.\n",
      "\n",
      "PS: O politecnico onde estava a tirar a licenciatura nao tem aulas de noite e eu trabalho em Lisboa, a cerca de 2 horas do politecnico.\n",
      "\n",
      "Edit: decidi pedir transferencia para a UAB uma vez que minha maior barreira é a logistica de ir para o Politecnico \n",
      "Obrigado pelas respostas\n",
      "9\n",
      "\n",
      "\n",
      "\n",
      "\n",
      "WYSIWYG editor para React\n",
      "Estou à procura de uma boa biblioteca para editor WYSIWYG para React só preciso do básico e que tenha já integrado: \n",
      "\n",
      "- upload de imagens em base64 para o editor a partir do sistema de ficheiros;\n",
      "\n",
      "- redimensionamento destas imagens;\n",
      "\n",
      "- (se possível) emojis.\n",
      "\n",
      "O melhor que testei foi o TinyMCE, tem tudo o que preciso mas a versão free tem limite de acesso, depois o React-Quill não consegui implementar o modulo de imageResize, depois o Mui Draft.js parece que não é compatível com React 18.\n",
      "\n",
      "Qual recomendam / usam? \n",
      "0\n",
      "\n",
      "\n",
      "\n",
      "\n",
      "Comunidades de Machine Learning?\n",
      "(sem certeza de que flair usar para isto)\n",
      "\n",
      "Alguém sabe de alguma comunidade ML em Portugal? Uma que se foque mais na parte de implementação e teoria, e não pessoal que mete \"AI\" e depois é uma regressão linear ou mais um chatbot para selecionar vinhos do Porto.\n",
      "5\n",
      "\n",
      "\n",
      "\n",
      "\n",
      "300 candidaturas, 2 entrevistas: preciso de ajuda urgente!\n",
      "Olá pessoal,\n",
      "\n",
      "Estou mesmo a precisar de umas opiniões e conselhos sobre o meu currículo e sobre o que mais posso fazer na minha procura de emprego. Desde o final de agosto que ando à procura de posições júnior, trainee ou estágios nas áreas de backend, DevOps ou cloud, mas não tenho tido sorte nenhuma. Já devo ter enviado uns 300 currículos e só fui chamado para duas entrevistas. A maior parte das respostas que recebo são automáticas a dizer que decidiram seguir com outros candidatos.\n",
      "\n",
      "Tenho treinado questões no LeetCode para melhorar nas entrevistas. Procuro oportunidades no LinkedIn, depois no Indeed e no ITJobs. Também procuro empresas nestas áreas, visito as páginas de carreiras e envio o meu currículo para várias posições que estejam minimamente relacionadas com o que quero: desenvolvimento backend, cloud, cibersegurança, full stack, DevOps, o que aparecer.\n",
      "\n",
      "No meu currículo, não coloquei muito ênfase nos meus trabalhos anteriores e preferi dar esse espaço aos projetos mais relacionados com o que quero fazer. Estava a tentar não recorrer ao IEFP porque, como ainda não terminei a licenciatura, o que vou receber é mesmo muito pouco. Estou a ficar um bocado desesperado porque estou a viver fora de casa dos meus pais e já estou a gastar as minhas poupanças para pagar as contas. Ainda não terminei a licenciatura — falta-me só uma cadeira do último ano. Acham que isso tem um grande impacto nas minhas candidaturas?\n",
      "\n",
      "Além disso, trabalhei desde miúdo numa fábrica aos fins de semana e cheguei a gestor de instalações. Acham que vale a pena incluir essa experiência no currículo?\n",
      "\n",
      "Muito obrigado pelo vosso tempo e desculpem estar a contribuir para o \"spam\" neste sub de pessoal acabado de sair da universidade que não arranja trabalho ou está a mudar de área. Agradeço qualquer conselho ou opinião que me possam dar.\n",
      "\n",
      "https://preview.redd.it/tau4d1ybxbvd1.png?width=586&format=png&auto=webp&s=23341df2a9cdbda1198392d379413ae9cfac4c56\n",
      "\n",
      "\n",
      "6\n",
      "\n",
      "\n",
      "\n",
      "\n",
      "Sap\n",
      "SAP - Mudar de carreira \n",
      "\n",
      "\n",
      "Olá a todos,\n",
      "Trabalho há cerca de 12 anos no setor logístico e, embora tenha ganho experiência em várias empresas, sinto-me estagnado, sem oportunidades de progressão na minha carreira e como é óbvio também sem progressão de salário. Não tenho licenciatura, pois não consegui continuar a estudar após o ensino secundário por motivos económicos.\n",
      "\n",
      "Ao longo da minha experiencia de trabalho percebi que sempre me dei bem com sistemas ERP e trabalhei com SAP, Sage e PHC na ótica de utilizador. A área da tecnologia tem estado sempre presente na minha vida e gostaria de explorar uma carreira como consultor SAP.\n",
      "\n",
      " Vi que existe um curso de iniciação na Valantic (ex-Abaco) com especialização em MM, FI, SF, que me parece muito interessante.\n",
      "No entanto, ao pesquisar as ofertas de emprego, notei que muitas delas exigem uma licenciatura e mais de 5 anos de experiência. Pergunto-me se vale a pena arriscar e tirar o curso de consultor SAP mesmo sem ter esses requisitos académicos. Alguém na mesma situação? Quais são as vossas opiniões ou conselhos?\n",
      "Agradeço desde já pela ajuda\n",
      "8\n",
      "\n",
      "\n",
      "\n",
      "\n",
      "Estágio Curricular\n",
      "Olá a todos, resumidamente eu ando á procura de um estágio curricular para completar o meu curso de comunicação multimédia e pretendo prosseguir por um caminho mais direcionado pelo desenvolvimento web, já enviei vários emails para possiveis vagas frontend que vi no linkedin e não recebi qualquer tipo de resposta.\n",
      "\n",
      "Contactei algumas empresas anteriormente no linkedin em que afirmaram para enviar mail para o seus respetivos recrutamentos. Ao que ainda nenhuma delas me respondeu.\n",
      "\n",
      "Existe algo que possa fazer ou conhecem alguma empresa nos lados de leiria ou coimbra que aceitam estagiários? Obrigado desde já\n",
      "3\n",
      "\n",
      "\n",
      "\n",
      "\n",
      "Estágio INICIAR  C#/.net core Braga e arredores\n",
      "Procuro empresa programação C#/.net core para Estágio INICIAR e possibilidade de posto de trabalho.\n",
      "\n",
      "\n",
      "0\n",
      "\n",
      "\n",
      "\n",
      "\n",
      "Procuro Estágio Curricular | Cibersegurança - IEFP recusou assinar cláusula com Big4\n",
      "Olá a todos. Espero que estejam bem.\n",
      "\n",
      "Em seguimento do post que fiz há uns dias acerca do \"[IEFP não me assinar cláusula exigida pela Big4](https://www.reddit.com/r/portugal/comments/1g0nk7a/ajuda_iefp_recusa_assinar_realiza%C3%A7%C3%A3o_de_est%C3%A1gio/)\", foi-me hoje confirmado que não há nada a fazer e preciso mesmo de encontrar uma nova empresa para o realizar (são 560h, cerca de 3 meses).\n",
      "\n",
      "Tenho um CV bastante completo (envio por PM), e inclusive já tinha recebido 4 propostas para começar a contrato com boas empresas da área (e com boas condições...). Mas, infelizmente, preciso de realizar este estágio para terminar o curso...\n",
      "\n",
      "Se souberem de alguma empresa aberta a Estágios Curriculares, nesta altura, ou alguém que me possa ajudar...\n",
      "\n",
      "Obrigado a todos mais uma vez pela ajuda.\n",
      "6\n",
      "\n",
      "\n",
      "\n",
      "\n",
      "Qual linguagem devo aprender a seguir para maximizar  oportunidades?\n",
      "Boas a todos,\n",
      "\n",
      "Atualmente, trabalho com PHP e Laravel, mas tenho notado uma mudança no mercado de trabalho, com muitas empresas a procurarem desenvolvedores que dominem React, Vue ou Angular. Estou a considerar expandir os meus conhecimentos e gostaria de saber a vossa opinião sobre qual linguagem ou tecnologia de back-end seria mais vantajosa para aprender a seguir.\n",
      "\n",
      "Embora  uma grande parte da web ainda é construída em PHP, a verdade é que a remuneração para desenvolvedores de PHP não se comparam aos de desenvolvedores de React ou Node.js.\n",
      "\n",
      "Portanto, queria saber: qual linguagem ou framework recomendariam aprender para estar mais alinhado com as tendências do mercado e aumentar as minhas oportunidades de emprego?\n",
      "\n",
      "Obrigado pela ajuda!\n",
      "\n",
      "Ps: Pergunto de back-end porque para front-end sei que provavelmente recomendariam react ou vue <3\n",
      "7\n",
      "\n",
      "\n",
      "\n",
      "\n",
      "Five9 feedback\n",
      "Olá a todos,\n",
      "\n",
      "estou a iniciar um processo de recrutamente para Software Engineer na  empresa Five9.  \n",
      "conseguem-me dar feedback sobre a empresa, entrevistas etc?\n",
      "6\n",
      "\n",
      "\n",
      "\n",
      "\n"
     ]
    }
   ],
   "execution_count": 19
  },
  {
   "metadata": {},
   "cell_type": "markdown",
   "source": [
    "### Some examples of information you can get from a post\n",
    "\n",
    "- Tile: post.title\n",
    "- ID: post.id\n",
    "- URL: post.url\n",
    "- Score: post.score\n",
    "- Number of Comments: post.num_comments\n",
    "- Self Text: post.selftext\n",
    "- Created UTC: post.created_utc\n",
    "- Author: post.author\n",
    "- Upvote Ratio: post.upvote_ratio\n",
    "- Upvotes: post.ups\n",
    "- Downvotes: post.downs\n",
    "- etc"
   ],
   "id": "5f905e955e3eba7b"
  },
  {
   "metadata": {
    "ExecuteTime": {
     "end_time": "2024-10-21T13:16:08.215083Z",
     "start_time": "2024-10-21T13:16:08.212182Z"
    }
   },
   "cell_type": "code",
   "source": "# ...",
   "id": "6e3f03060fd3fb7e",
   "outputs": [],
   "execution_count": 81
  },
  {
   "metadata": {},
   "cell_type": "markdown",
   "source": [
    "## Some Actions you can perform on a post\n",
    "\n",
    "- Upvote: post.upvote()\n",
    "- Downvote: post.downvote()\n",
    "- Clear Vote: post.clear_vote()\n",
    "- Reply: post.reply(\"your reply\")\n",
    "\n",
    "## Some Actions you can perform on subreddit\n",
    "\n",
    "- Subscribe: subreddit.subscribe()\n",
    "- Unsubscribe: subreddit.unsubscribe()\n",
    "\n",
    "## Some Actions you can perform on a comment\n",
    "\n",
    "- Upvote: comment.upvote()\n",
    "- Downvote: comment.downvote()\n",
    "- Clear Vote: comment.clear_vote()\n",
    "- Reply: comment.reply(\"your reply\")\n",
    "\n",
    "**Note: Upvotes and downvotes are meant to be done by humans, not bots. Doing so recurrently can get your account banned.**\n",
    "\n"
   ],
   "id": "9c31817ed80d4b67"
  },
  {
   "metadata": {},
   "cell_type": "markdown",
   "source": [
    "## 6. Getting the comments of a post \n",
    "\n",
    "You can get the comments of a post by using the comments method of the post instance.\n",
    "\n",
    "In this example, we will get the comments of the top post in the \"devpt\" subreddit. You can replace it with any other post you want to get the comments from."
   ],
   "id": "d12922845da5f135"
  },
  {
   "metadata": {
    "ExecuteTime": {
     "end_time": "2024-10-25T09:01:07.965624Z",
     "start_time": "2024-10-25T09:01:07.335166Z"
    }
   },
   "cell_type": "code",
   "source": [
    "top_posts = next(subreddit.top(limit=1, time_filter=\"week\"))\n",
    "\n",
    "print(f\"Top post: {top_posts.title}\")\n",
    "for i, comment in enumerate(top_posts.comments):\n",
    "    print(f\"Comment {i + 1}: {comment.body}\")"
   ],
   "id": "896f8edbf64ea52d",
   "outputs": [
    {
     "name": "stdout",
     "output_type": "stream",
     "text": [
      "Top post: Ferramentas Open-Source\n",
      "Comment 1: - [fzf](https://github.com/junegunn/fzf) Incrivel para procurar rapidamente ficheiros no disco e comandos que usaste\n",
      "- [jq](https://github.com/jqlang/jq) Para quem tem de processar rapidamente ficheiros JSON\n",
      "- [lazygit](https://github.com/jesseduffield/lazygit) UI simples no terminal\n",
      "- (Não é open source) [Obsidian](https://obsidian.md/) Incrivel ferramenta de organizaçao toda em Markdown. Faz com que possa usar onde for msm que nao tenha a app nesse dispositivo. Usar o sistema de tags ajudou me imenso a organizar informaço e escrever a tese\n",
      "\n",
      "Depois ha o neovim que recomendo mas isso já é outro caso.\n",
      "\n",
      "Edit: Obsidian não é open source. No entanto, tds os ficheiros estão em markdoen\n",
      "Comment 2: [Bruno](https://www.usebruno.com/), [Firecamp](https://firecamp.io/).\n",
      "Comment 3: Visual studio code\n",
      "Comment 4: Draw.io, nmap, wireshark.\n",
      "Comment 5: qgis\n",
      "Comment 6: [flameshot](https://flameshot.org)\n",
      "Comment 7: O conjunto de ferramentas descrito em [Modern Unix](https://github.com/ibraheemdev/modern-unix) - acima de tudo alternativas melhore/mais modernas aos comandos de todos os dias.\n",
      "\n",
      "zsh + [ohmyzsh](https://ohmyz.sh/) + [powerlevel10k](https://github.com/romkatv/powerlevel10k) para a minha maquina. Fequentemente instalo [Starship](https://starship.rs/) até em servidores remotos, só mesmo por conveniencia.\n",
      "\n",
      "[asdf](https://github.com/asdf-vm/asdf) como gestor de versoes de linguagens de programacao, versoes locais de bases de dados, e basicamente tudo e mais um par de botas.\n",
      "\n",
      "[direnv](https://direnv.net/) para gerir variaveis de ambiente por directoria, mais fazer autoswitching to virtualenvs de python\n",
      "\n",
      "Eh pah.. e mais... tanta cena. Mas isto é o que tenho automatizado instalar numa maquina nova.\n",
      "Comment 8: [doomemacs](https://github.com/doomemacs/doomemacs)\n",
      "Comment 9: [mcfly](https://github.com/cantino/mcfly) - para navegar rapidamente pelos comandos do terminal\n",
      "\n",
      "tldr - obter a documentação mais relevante de CLIs\n",
      "\n",
      "normcap - ferramenta de OCR do ecrã\n",
      "\n",
      "Assim de cabeça e excepto o que já foi mencionado, são das ferramentas que mais utilizo\n",
      "Comment 10: Quase tudo o que uso em Linux é open source, suponho \n",
      "\n",
      "Se usam ou têm de usar Mac, muCommander. Se têm um mac antigo: OpenCore Legacy Patcher.\n",
      "\n",
      "Shelter no telemóvel (Android) para separar trabalho da vida pessoal.\n",
      "Comment 11: Fora os que já foram aqui mencionados, Neovim, tmux, midnight commander e pgsql + as suas fantásticas extensões \n",
      "Comment 12: vê isto: https://github.com/agarrharr/awesome-cli-apps\n",
      "Comment 13: i3wm, dmenu, alacritty, vim, mupdf, bat, eza, yazi\n",
      "Comment 14: Chatgpt\n"
     ]
    }
   ],
   "execution_count": 20
  },
  {
   "metadata": {},
   "cell_type": "markdown",
   "source": [
    "## 7. Getting the comments of a comment\n",
    "\n",
    "You can get the comments of a comment by using the replies method of the comment instance."
   ],
   "id": "3baee8622d089a9b"
  },
  {
   "metadata": {
    "ExecuteTime": {
     "end_time": "2024-10-25T09:05:52.461419Z",
     "start_time": "2024-10-25T09:05:52.457639Z"
    }
   },
   "cell_type": "code",
   "source": [
    "print(f\"Top post: {top_posts.title}\")\n",
    "for i, comment in enumerate(top_posts.comments):\n",
    "    print(f\"First Level Comment {i + 1}: {comment.body}\")\n",
    "    for j, comment_comment in enumerate(comment.replies):\n",
    "        print(f\"Secon Level Comment {i + 1}: {comment_comment.body}\")"
   ],
   "id": "9bbf8ab76d99d08e",
   "outputs": [
    {
     "name": "stdout",
     "output_type": "stream",
     "text": [
      "Top post: Ferramentas Open-Source\n",
      "First Level Comment 1: - [fzf](https://github.com/junegunn/fzf) Incrivel para procurar rapidamente ficheiros no disco e comandos que usaste\n",
      "- [jq](https://github.com/jqlang/jq) Para quem tem de processar rapidamente ficheiros JSON\n",
      "- [lazygit](https://github.com/jesseduffield/lazygit) UI simples no terminal\n",
      "- (Não é open source) [Obsidian](https://obsidian.md/) Incrivel ferramenta de organizaçao toda em Markdown. Faz com que possa usar onde for msm que nao tenha a app nesse dispositivo. Usar o sistema de tags ajudou me imenso a organizar informaço e escrever a tese\n",
      "\n",
      "Depois ha o neovim que recomendo mas isso já é outro caso.\n",
      "\n",
      "Edit: Obsidian não é open source. No entanto, tds os ficheiros estão em markdoen\n",
      "Secon Level Comment 1: > jq Para quem tem de processar rapidamente ficheiros JSON\n",
      "\n",
      "E yq para yaml\n",
      "Secon Level Comment 1: Obsidian é _muito_ bom, mas olha que não é Open Source - a coisa mais próxima Open Source seria o [Logseq](https://logseq.com/).\n",
      "First Level Comment 2: [Bruno](https://www.usebruno.com/), [Firecamp](https://firecamp.io/).\n",
      "Secon Level Comment 2: Bruno é vida! Se eles implementarem algo tipo interceptor, fica perfeito\n",
      "Secon Level Comment 2: Tens alguma preferência entre os dois?\n",
      "\n",
      "edit: instalei o bruno e isto é muito mais leve que o postman, incrível!\n",
      "First Level Comment 3: Visual studio code\n",
      "First Level Comment 4: Draw.io, nmap, wireshark.\n",
      "Secon Level Comment 4: Pelas ferramentas digo que é Network admin ou DevOps 😁\n",
      "First Level Comment 5: qgis\n",
      "First Level Comment 6: [flameshot](https://flameshot.org)\n",
      "Secon Level Comment 6: Nem me lembrava que esse existia, também é bastante interessante.\n",
      "First Level Comment 7: O conjunto de ferramentas descrito em [Modern Unix](https://github.com/ibraheemdev/modern-unix) - acima de tudo alternativas melhore/mais modernas aos comandos de todos os dias.\n",
      "\n",
      "zsh + [ohmyzsh](https://ohmyz.sh/) + [powerlevel10k](https://github.com/romkatv/powerlevel10k) para a minha maquina. Fequentemente instalo [Starship](https://starship.rs/) até em servidores remotos, só mesmo por conveniencia.\n",
      "\n",
      "[asdf](https://github.com/asdf-vm/asdf) como gestor de versoes de linguagens de programacao, versoes locais de bases de dados, e basicamente tudo e mais um par de botas.\n",
      "\n",
      "[direnv](https://direnv.net/) para gerir variaveis de ambiente por directoria, mais fazer autoswitching to virtualenvs de python\n",
      "\n",
      "Eh pah.. e mais... tanta cena. Mas isto é o que tenho automatizado instalar numa maquina nova.\n",
      "First Level Comment 8: [doomemacs](https://github.com/doomemacs/doomemacs)\n",
      "Secon Level Comment 8: org mode for life\n",
      "First Level Comment 9: [mcfly](https://github.com/cantino/mcfly) - para navegar rapidamente pelos comandos do terminal\n",
      "\n",
      "tldr - obter a documentação mais relevante de CLIs\n",
      "\n",
      "normcap - ferramenta de OCR do ecrã\n",
      "\n",
      "Assim de cabeça e excepto o que já foi mencionado, são das ferramentas que mais utilizo\n",
      "First Level Comment 10: Quase tudo o que uso em Linux é open source, suponho \n",
      "\n",
      "Se usam ou têm de usar Mac, muCommander. Se têm um mac antigo: OpenCore Legacy Patcher.\n",
      "\n",
      "Shelter no telemóvel (Android) para separar trabalho da vida pessoal.\n",
      "First Level Comment 11: Fora os que já foram aqui mencionados, Neovim, tmux, midnight commander e pgsql + as suas fantásticas extensões \n",
      "Secon Level Comment 11: hot **mc**\n",
      "First Level Comment 12: vê isto: https://github.com/agarrharr/awesome-cli-apps\n",
      "First Level Comment 13: i3wm, dmenu, alacritty, vim, mupdf, bat, eza, yazi\n",
      "First Level Comment 14: Chatgpt\n",
      "Secon Level Comment 14: Diz-me que não sabes o que é open source sem me dizeres que não sabes o que é open source\n"
     ]
    }
   ],
   "execution_count": 22
  },
  {
   "metadata": {},
   "cell_type": "markdown",
   "source": [
    "## 8. Posting a submission\n",
    "\n",
    "You can post a submission to a subreddit by using the submit method of the subreddit instance.\n",
    "\n",
    "We will use a subreddit named \"testingground4bots\" that is used for testing bots."
   ],
   "id": "3ffae08ee40fd357"
  },
  {
   "metadata": {
    "ExecuteTime": {
     "end_time": "2024-10-25T09:09:19.289719Z",
     "start_time": "2024-10-25T09:09:19.286321Z"
    }
   },
   "cell_type": "code",
   "source": [
    "subreddit = reddit_instance.subreddit(\"testingground4bots\")\n",
    "subreddit.display_name"
   ],
   "id": "e2395a2cf7f63858",
   "outputs": [
    {
     "data": {
      "text/plain": [
       "'testingground4bots'"
      ]
     },
     "execution_count": 23,
     "metadata": {},
     "output_type": "execute_result"
    }
   ],
   "execution_count": 23
  },
  {
   "metadata": {
    "ExecuteTime": {
     "end_time": "2024-10-25T09:11:47.504573Z",
     "start_time": "2024-10-25T09:11:47.233195Z"
    }
   },
   "cell_type": "code",
   "source": "post = subreddit.submit(\"Dummy Submission from Braga\", selftext=\"This is a dummy post\")",
   "id": "d0ebeab9fb0fa514",
   "outputs": [],
   "execution_count": 24
  },
  {
   "metadata": {},
   "cell_type": "markdown",
   "source": [
    "## 9. Making a comment\n",
    "\n",
    "You can make a comment on a post by using the reply method of the post instance."
   ],
   "id": "de5787b2d0b3079"
  },
  {
   "metadata": {
    "ExecuteTime": {
     "end_time": "2024-10-21T13:16:08.421280Z",
     "start_time": "2024-10-21T13:16:08.418619Z"
    }
   },
   "cell_type": "code",
   "source": "# ...",
   "id": "70310ef376c8c102",
   "outputs": [],
   "execution_count": 85
  },
  {
   "metadata": {},
   "cell_type": "markdown",
   "source": "## Commenting a comment",
   "id": "18fe9e0c8f316c3"
  },
  {
   "metadata": {
    "ExecuteTime": {
     "end_time": "2024-10-21T13:16:08.468499Z",
     "start_time": "2024-10-21T13:16:08.466027Z"
    }
   },
   "cell_type": "code",
   "source": "# ...",
   "id": "be1d01fa2ee6a111",
   "outputs": [],
   "execution_count": 86
  },
  {
   "metadata": {},
   "cell_type": "markdown",
   "source": "## 10. Upvoting a post and a comment",
   "id": "3a43dfbe91756efe"
  },
  {
   "metadata": {
    "ExecuteTime": {
     "end_time": "2024-10-21T13:16:08.514652Z",
     "start_time": "2024-10-21T13:16:08.512188Z"
    }
   },
   "cell_type": "code",
   "source": "# ...",
   "id": "a687fda63618d62d",
   "outputs": [],
   "execution_count": 87
  },
  {
   "metadata": {
    "ExecuteTime": {
     "end_time": "2024-10-21T13:16:08.563281Z",
     "start_time": "2024-10-21T13:16:08.560590Z"
    }
   },
   "cell_type": "code",
   "source": "# ...",
   "id": "125761e7cb03137a",
   "outputs": [],
   "execution_count": 88
  },
  {
   "metadata": {},
   "cell_type": "markdown",
   "source": "## 11. Searching reddit and subreddits",
   "id": "8fe22081f5dd1294"
  },
  {
   "metadata": {
    "ExecuteTime": {
     "end_time": "2024-10-21T13:16:08.612279Z",
     "start_time": "2024-10-21T13:16:08.609840Z"
    }
   },
   "cell_type": "code",
   "source": "# ...",
   "id": "96ea2d57584f3b39",
   "outputs": [],
   "execution_count": 89
  },
  {
   "metadata": {
    "ExecuteTime": {
     "end_time": "2024-10-21T13:16:08.659774Z",
     "start_time": "2024-10-21T13:16:08.657712Z"
    }
   },
   "cell_type": "code",
   "source": "# ...",
   "id": "63b2506217586ce9",
   "outputs": [],
   "execution_count": null
  }
 ],
 "metadata": {
  "kernelspec": {
   "display_name": "Python 3",
   "language": "python",
   "name": "python3"
  },
  "language_info": {
   "codemirror_mode": {
    "name": "ipython",
    "version": 2
   },
   "file_extension": ".py",
   "mimetype": "text/x-python",
   "name": "python",
   "nbconvert_exporter": "python",
   "pygments_lexer": "ipython2",
   "version": "2.7.6"
  }
 },
 "nbformat": 4,
 "nbformat_minor": 5
}
