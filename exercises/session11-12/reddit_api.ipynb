{
 "cells": [
  {
   "cell_type": "markdown",
   "id": "ddb88b017a581c2d",
   "metadata": {},
   "source": [
    "# Using the praw library to interact with the Reddit API"
   ]
  },
  {
   "cell_type": "markdown",
   "id": "4463adab692d4f9e",
   "metadata": {},
   "source": [
    "## Pre-requisites\n",
    "\n",
    "### 1. Create a Reddit account\n",
    "\n",
    "I recommend creating a separate account for your bot. \n",
    "\n",
    "You can use your personal account, but it's not recommended. \n",
    "\n",
    "You may accidentally do something that gets your account banned.\n",
    "    \n",
    "### 2. Create a Reddit App\n",
    "\n",
    "After creating an account, make sure you're logged in and go to https://www.reddit.com/prefs/apps.\n",
    "\n",
    "Click the \"are you a developer? create an app...\" or \"create another app...\" button.\n",
    "\n",
    "Fill out the form like so:\n",
    "- name: My Bot (or whatever you want to call it)\n",
    "- App type: script\n",
    "- description: My Bot (or whatever you want to call it)\n",
    "- about url: leave blank\n",
    "- redirect uri: http://localhost:8080\n",
    "\n",
    "Click the \"create app\" button.\n",
    "\n",
    "You should now see a page with your app's client ID and client secret.\n",
    "\n",
    "You will need these to authenticate with the Reddit API.\n",
    "\n",
    "### 3. Install praw\n",
    "\n",
    "Praw is a Python wrapper for the Reddit API.\n",
    "\n",
    "You can install it with pip:\n",
    "\n",
    "```bash\n",
    "pip install praw\n",
    "```\n",
    "\n",
    "Because praw it already listed in the requirements.txt file, you can install it by running the following command:\n",
    "    \n",
    "```bash\n",
    "pip install -r requirements.txt\n",
    "``` \n",
    "\n",
    "### 4. Create a .env file in the root directory of the project\n",
    "\n",
    "Create a file called `.env` in the root directory of the project.\n",
    "\n",
    "Add the following lines to the file:\n",
    "\n",
    "```txt\n",
    "R_CLIENT_ID=\"your_client_id\"\n",
    "R_CLIENT_SECRET=\"your_client_secret\"\n",
    "R_USER_AGENT=\"your_user_agent\"\n",
    "R_USERNAME=\"your_username\"\n",
    "R_PASSWORD=\"your_password\"\n",
    "```\n",
    "\n",
    "Replace the values with the client ID and client secret from the Reddit app you created earlier.\n",
    "Replace the user agent with a unique string that describes your bot.\n",
    "Replace the username and password with the credentials for the Reddit account you created earlier.\n",
    "\n",
    "Add the `.env` file to your `.gitignore` file to prevent it from being committed to the repository. Note: our current `.gitignore` file already has the `.env` file added to it. So you don't need to add it again.\n",
    "\n",
    "### 5. Install the python-dotenv library\n",
    "\n",
    "The python-dotenv library is used to load environment variables from a .env file.\n",
    "\n",
    "You can install it with pip:\n",
    "\n",
    "```bash\n",
    "pip install python-dotenv\n",
    "```\n",
    "    \n",
    "Because python-dotenv it already listed in the requirements.txt file, you can install it by running the following command:\n",
    "        \n",
    "```bash\n",
    "pip install -r requirements.txt\n",
    "```\n",
    "    \n",
    "\n",
    "\n",
    "\n",
    "\n",
    "\n",
    "\n",
    "\n",
    "\n",
    "\n",
    "\n",
    "\n",
    "\n"
   ]
  },
  {
   "cell_type": "markdown",
   "id": "9753aae7160d3c5d",
   "metadata": {},
   "source": [
    "# Let's Get Started"
   ]
  },
  {
   "cell_type": "markdown",
   "id": "be38035c6bf87b20",
   "metadata": {},
   "source": [
    "## 1. Let's Start by Importing the praw Library"
   ]
  },
  {
   "cell_type": "code",
   "execution_count": 3,
   "id": "e893c7500b96018b",
   "metadata": {
    "ExecuteTime": {
     "end_time": "2024-10-21T13:16:07.651149Z",
     "start_time": "2024-10-21T13:16:07.643467Z"
    }
   },
   "outputs": [],
   "source": [
    "import praw"
   ]
  },
  {
   "cell_type": "markdown",
   "id": "e4f47ae7a6c65728",
   "metadata": {},
   "source": [
    "## 2. Load the environment variables\n",
    "\n",
    "To use the Reddit API, you need to authenticate with your Reddit account."
   ]
  },
  {
   "cell_type": "code",
   "execution_count": 4,
   "id": "86688eaa4ea1d3a9",
   "metadata": {
    "ExecuteTime": {
     "end_time": "2024-10-21T13:16:07.657601Z",
     "start_time": "2024-10-21T13:16:07.655577Z"
    }
   },
   "outputs": [],
   "source": [
    "import os\n",
    "from dotenv import load_dotenv\n",
    "load_dotenv()\n",
    "\n",
    "CLIENT_ID=os.getenv(\"R_CLIENT_ID\")\n",
    "CLIENT_SECRET=os.getenv(\"R_CLIENT_SECRET\")\n",
    "USER_AGENT=os.getenv(\"R_USER_AGENT\")\n",
    "USERNAME=os.getenv(\"R_USERNAME\")\n",
    "PASSWORD=os.getenv(\"R_PASSWORD\")"
   ]
  },
  {
   "cell_type": "markdown",
   "id": "2e2547dcf00905ad",
   "metadata": {},
   "source": [
    "## 3. Create a Reddit Instance\n",
    "\n",
    "You can create a Reddit instance by passing the client ID, client secret, user agent, username, and password to the praw.Reddit class.\n",
    "You can then check if the instance was created successfully by printing the username of the authenticated user."
   ]
  },
  {
   "cell_type": "code",
   "execution_count": 5,
   "id": "234d11a3c12a3d42",
   "metadata": {
    "ExecuteTime": {
     "end_time": "2024-10-21T13:16:07.703542Z",
     "start_time": "2024-10-21T13:16:07.701260Z"
    }
   },
   "outputs": [],
   "source": [
    "reddit_instance = praw.Reddit(\n",
    "    client_id=CLIENT_ID,\n",
    "    client_secret=CLIENT_SECRET,\n",
    "    password=PASSWORD,\n",
    "    user_agent=USER_AGENT,\n",
    "    username=USERNAME\n",
    ")"
   ]
  },
  {
   "cell_type": "code",
   "execution_count": 6,
   "id": "a2d228df0c51547b",
   "metadata": {
    "ExecuteTime": {
     "end_time": "2024-10-21T13:16:07.756415Z",
     "start_time": "2024-10-21T13:16:07.754043Z"
    }
   },
   "outputs": [
    {
     "name": "stdout",
     "output_type": "stream",
     "text": [
      "DiogoR23\n"
     ]
    }
   ],
   "source": [
    "print(reddit_instance.user.me())"
   ]
  },
  {
   "cell_type": "code",
   "execution_count": 9,
   "id": "bea5656f217a5b38",
   "metadata": {
    "ExecuteTime": {
     "end_time": "2024-10-21T13:16:07.809207Z",
     "start_time": "2024-10-21T13:16:07.806574Z"
    }
   },
   "outputs": [
    {
     "data": {
      "text/plain": [
       "False"
      ]
     },
     "execution_count": 9,
     "metadata": {},
     "output_type": "execute_result"
    }
   ],
   "source": [
    "reddit_instance.read_only   # só dá permissão ao Bot para ler"
   ]
  },
  {
   "cell_type": "markdown",
   "id": "3dd0e7a7919a3b86",
   "metadata": {},
   "source": [
    "## 4. Interacting with Subreddits\n",
    "\n",
    "You can interact with subreddits by using the subreddit method of the Reddit instance.\n",
    "\n",
    "In this example, we will interact with the \"devpt\" subreddit. You can replace it with any other subreddit you want to interact with."
   ]
  },
  {
   "cell_type": "code",
   "execution_count": 11,
   "id": "62f1785e3c73db85",
   "metadata": {
    "ExecuteTime": {
     "end_time": "2024-10-21T13:16:07.861676Z",
     "start_time": "2024-10-21T13:16:07.859068Z"
    }
   },
   "outputs": [
    {
     "data": {
      "text/plain": [
       "Subreddit(display_name='devpt')"
      ]
     },
     "execution_count": 11,
     "metadata": {},
     "output_type": "execute_result"
    }
   ],
   "source": [
    "# Obter informação sobre um subreddit\n",
    "subreddit = reddit_instance.subreddit(\"devpt\")  # Neste caso entramos no subreddit 'devpt'\n",
    "subreddit"
   ]
  },
  {
   "cell_type": "markdown",
   "id": "48566b68dbaa0261",
   "metadata": {},
   "source": [
    "## Getting Information About a Subreddit"
   ]
  },
  {
   "cell_type": "code",
   "execution_count": 12,
   "id": "f0fa3daafb4f7dc9",
   "metadata": {
    "ExecuteTime": {
     "end_time": "2024-10-21T13:16:07.913507Z",
     "start_time": "2024-10-21T13:16:07.910927Z"
    }
   },
   "outputs": [
    {
     "data": {
      "text/plain": [
       "'devpt'"
      ]
     },
     "execution_count": 12,
     "metadata": {},
     "output_type": "execute_result"
    }
   ],
   "source": [
    "# Obter o nome do subreddit\n",
    "subreddit.display_name"
   ]
  },
  {
   "cell_type": "code",
   "execution_count": 13,
   "id": "a15f60260174c68a",
   "metadata": {
    "ExecuteTime": {
     "end_time": "2024-10-21T13:16:07.961672Z",
     "start_time": "2024-10-21T13:16:07.959649Z"
    }
   },
   "outputs": [
    {
     "data": {
      "text/plain": [
       "'DevPT - Comunidade de Developers Portugueses'"
      ]
     },
     "execution_count": 13,
     "metadata": {},
     "output_type": "execute_result"
    }
   ],
   "source": [
    "# Obter o titulo do subreddit\n",
    "subreddit.title"
   ]
  },
  {
   "cell_type": "code",
   "execution_count": 14,
   "id": "2bdc3405caf8fe83",
   "metadata": {
    "ExecuteTime": {
     "end_time": "2024-10-21T13:16:08.013482Z",
     "start_time": "2024-10-21T13:16:08.011075Z"
    }
   },
   "outputs": [
    {
     "data": {
      "text/plain": [
       "'##Bem-vindo ao DevPT!\\n\\nSomos uma comunidade de developers portugueses.\\n\\nSe quiseres saber mais dá uma olhadela em **[devpt.co](https://devpt.co)**.\\n\\nTemos ainda um **Discord**:\\n\\n**[Visitem o nosso Discord](https://devpt.co/discord)**\\n\\n^URL: ^`https://devpt.co/discord`\\n\\n###Regras\\n\\n 1. Faz perguntas acertadamente, esclarece o teu ponto de vista ou dúvida o mais breve possível.\\n 2. **Não são permitidos estudos de mercado e/ou inquéritos**\\n 3. Usa um titulo descritivo em que especifiques a linguagem ou tecnologia com que estas a trabalhar.\\n\\n    Ex:[C++] Bug no ciclo while\\n\\n 4. Este é um subreddit com o objetivo de entre-ajuda e discussão e, para isso, pedimos a colaboração de todos para ser possível tirar o melhor proveito do mesmo.\\n\\n 5. É obrigatório usar a flair correcta\\n\\n 6. Não são permitidos outros assuntos fora da esfera do DevPT\\n\\n###Ferramentas aconselhadas\\nSempre que precisares de colar código usa uma das ferramentas seguintes (ou semelhantes):\\n\\n - Gist: para muito código e/ou diferentes ficheiros.\\n - IDEone: para código que deve ser executado.\\n - JSFiddle: para HTML, CSS ou JavaScript.\\n\\n### Subs associados:\\n\\n/r/EngineeringResumes'"
      ]
     },
     "execution_count": 14,
     "metadata": {},
     "output_type": "execute_result"
    }
   ],
   "source": [
    "# Mensagem de Boas Vindas, e Mensagem de aviso do subreddit\n",
    "subreddit.description"
   ]
  },
  {
   "cell_type": "code",
   "execution_count": 16,
   "id": "e511d90b56f783db",
   "metadata": {
    "ExecuteTime": {
     "end_time": "2024-10-21T13:16:08.064948Z",
     "start_time": "2024-10-21T13:16:08.062503Z"
    }
   },
   "outputs": [
    {
     "data": {
      "text/plain": [
       "45675"
      ]
     },
     "execution_count": 16,
     "metadata": {},
     "output_type": "execute_result"
    }
   ],
   "source": [
    "# Ver Subscritores\n",
    "subreddit.subscribers"
   ]
  },
  {
   "cell_type": "markdown",
   "id": "a2e07cf35379b939",
   "metadata": {},
   "source": [
    "## 5. Getting the Top 25 Posts in a Subreddit\n",
    "\n",
    "You can get the top 25 posts in a subreddit by using the top method of the subreddit instance.\n",
    "\n",
    "In this example, we will get the top 25 posts in the \"devpt\" subreddit. You can replace it with any other subreddit you want to get the top posts from.\n",
    "\n",
    "We will also define the time filter to get the top posts of the week."
   ]
  },
  {
   "cell_type": "code",
   "execution_count": 21,
   "id": "1a44a5dd22ce4488",
   "metadata": {
    "ExecuteTime": {
     "end_time": "2024-10-21T13:16:08.117630Z",
     "start_time": "2024-10-21T13:16:08.115200Z"
    }
   },
   "outputs": [
    {
     "name": "stdout",
     "output_type": "stream",
     "text": [
      "Ferramentas Open-Source\n",
      "Ajuda\n",
      "Manter o trabalho ou trocar por um estágio hibrido a 250km\n",
      "Entrevista - teste na Codility\n",
      "Data Analytics Engineer Cloudfare\n",
      "Será que o curso vale a Pena?\n",
      "Sebentas de Matemática Discreta, Cálculo, Álgebra Linear, Estatística\n",
      "Quanto cobrar à hora?\n",
      "Candidatura estágio EDP \n",
      "Trabalho há 1 ano e meio como consultor SAP ABAP e Fiori - vale a pena inscrever-me numa licenciatura?\n",
      "Ajuda técnica\n",
      "Hetzner vs OvhCloud vs Contabo vs Algum em Portugal ? \n",
      "Renderizar gráfico de relação semântica em react\n",
      "Envision Pharma Group\n",
      "Faculdade e tecnólogo juntos\n",
      "O que ensinam hoje em dia nas faculdades...\n"
     ]
    }
   ],
   "source": [
    "# Buscar o top 25 posts da semana\n",
    "top_posts = subreddit.top(limit=25, time_filter=\"week\")\n",
    "\n",
    "for post in top_posts:\n",
    "    print(post.title) # Obter o titulo de cada post"
   ]
  },
  {
   "cell_type": "markdown",
   "id": "2dbf857266581e5f",
   "metadata": {},
   "source": [
    "## Hot, Top, New, Controversial, Rising posts\n",
    "\n",
    "You can get the hot, top, new, controversial, and rising posts in a subreddit by using the hot, top, new, controversial, and rising methods of the subreddit instance.\n",
    "\n",
    "**Note: sometimes some posts are sticked by the moderators, so they will always appear in the top posts. You can confirm if a post is sticked with `post.stickied`**"
   ]
  },
  {
   "cell_type": "code",
   "execution_count": 22,
   "id": "2192d91c202d9e41",
   "metadata": {
    "ExecuteTime": {
     "end_time": "2024-10-21T13:16:08.164418Z",
     "start_time": "2024-10-21T13:16:08.161224Z"
    }
   },
   "outputs": [
    {
     "name": "stdout",
     "output_type": "stream",
     "text": [
      "Envision Pharma Group\n",
      "Manter o trabalho ou trocar por um estágio hibrido a 250km\n",
      "Candidatura estágio EDP \n",
      "Ajuda técnica\n",
      "Ajuda\n",
      "Hetzner vs OvhCloud vs Contabo vs Algum em Portugal ? \n",
      "Sebentas de Matemática Discreta, Cálculo, Álgebra Linear, Estatística\n",
      "O que ensinam hoje em dia nas faculdades...\n",
      "Faculdade e tecnólogo juntos\n",
      "Data Analytics Engineer Cloudfare\n",
      "Entrevista - teste na Codility\n",
      "Ferramentas Open-Source\n",
      "Trabalho há 1 ano e meio como consultor SAP ABAP e Fiori - vale a pena inscrever-me numa licenciatura?\n",
      "Renderizar gráfico de relação semântica em react\n",
      "Quanto cobrar à hora?\n",
      "Será que o curso vale a Pena?\n",
      "WYSIWYG editor para React\n",
      "Comunidades de Machine Learning?\n",
      "300 candidaturas, 2 entrevistas: preciso de ajuda urgente!\n",
      "Sap\n",
      "Estágio Curricular\n",
      "Estágio INICIAR  C#/.net core Braga e arredores\n",
      "Procuro Estágio Curricular | Cibersegurança - IEFP recusou assinar cláusula com Big4\n",
      "Qual linguagem devo aprender a seguir para maximizar  oportunidades?\n",
      "Five9 feedback\n"
     ]
    }
   ],
   "source": [
    "new_posts = subreddit.new(limit=25) # Encontrar os 25 novos posts\n",
    "\n",
    "for post in new_posts:\n",
    "    print(post.title)"
   ]
  },
  {
   "cell_type": "code",
   "execution_count": 23,
   "id": "292e2fcb",
   "metadata": {},
   "outputs": [
    {
     "name": "stdout",
     "output_type": "stream",
     "text": [
      "Quem Está a Contratar? - 10/2024\n",
      "[META] - Novas Flairs & Regras\n",
      "Manter o trabalho ou trocar por um estágio hibrido a 250km\n",
      "Envision Pharma Group\n",
      "Candidatura estágio EDP \n",
      "Ajuda\n",
      "Ajuda técnica\n",
      "Sebentas de Matemática Discreta, Cálculo, Álgebra Linear, Estatística\n",
      "Hetzner vs OvhCloud vs Contabo vs Algum em Portugal ? \n",
      "O que ensinam hoje em dia nas faculdades...\n",
      "Ferramentas Open-Source\n",
      "Faculdade e tecnólogo juntos\n",
      "Data Analytics Engineer Cloudfare\n",
      "Entrevista - teste na Codility\n",
      "Trabalho há 1 ano e meio como consultor SAP ABAP e Fiori - vale a pena inscrever-me numa licenciatura?\n",
      "Quanto cobrar à hora?\n",
      "Renderizar gráfico de relação semântica em react\n",
      "Será que o curso vale a Pena?\n",
      "Sap\n",
      "Comunidades de Machine Learning?\n",
      "300 candidaturas, 2 entrevistas: preciso de ajuda urgente!\n",
      "Estágio Curricular\n",
      "WYSIWYG editor para React\n",
      "Estágio INICIAR  C#/.net core Braga e arredores\n",
      "Procuro Estágio Curricular | Cibersegurança - IEFP recusou assinar cláusula com Big4\n"
     ]
    }
   ],
   "source": [
    "hot_posts = subreddit.hot(limit=25)\n",
    "\n",
    "for post in hot_posts:\n",
    "    print(post.title)"
   ]
  },
  {
   "cell_type": "code",
   "execution_count": 24,
   "id": "f8079f07",
   "metadata": {},
   "outputs": [
    {
     "name": "stdout",
     "output_type": "stream",
     "text": [
      "Despedimentos em Empresas de IT - Falta de liquidez ou Fraco desempenho dos colaboradores?\n",
      "O trabalho de programador torna'se mais dificil ano após ano, não mais fácil\n",
      "[AMA] Carreira em Tecnologia\n",
      "Proposta abaixo das minhas expectativas\n",
      "Mentir em entrevistas é imoral?\n",
      "Não consigo encontrar trabalho\n",
      "Dificuldade em arranjar novo contract\n",
      "Vou ficar desempregado\n",
      "O estado atual da profissão de IT dev é um caça níquel cash grab\n",
      "Mudar para Desenvolvimento ou permanecer em QA\n",
      "Conversão para IT\n",
      "Qual melhor IA para gerar codigo\n",
      "Como proceder para tirar Engenharia Informática em Portugal\n",
      "A definição de um pais teimoso. Aprende inglês como o resto\n",
      "6 meses para entrar em IT - Let the games begin\n",
      "Dúvida: É possível iniciar no desenvolvimento web apenas como backend?\n",
      "Entrevista fora do esperado\n",
      "core.js developer história triste\n",
      "[Dúvida] Pretensão salarial\n",
      "Melhor curso para tirar ?\n",
      "Instagram Bot\n",
      "Salario carreira UI/UX designer\n",
      "ChatGPT VS mudança de carreira.\n",
      "Qual é o problema da PrimeIT?\n",
      "Um novo rumo profissional - opiniões?\n"
     ]
    }
   ],
   "source": [
    "controversional_posts = subreddit.controversial(limit=25)\n",
    "\n",
    "for post in controversional_posts:\n",
    "    print(post.title)"
   ]
  },
  {
   "cell_type": "code",
   "execution_count": 25,
   "id": "b5b0e66f",
   "metadata": {},
   "outputs": [
    {
     "name": "stdout",
     "output_type": "stream",
     "text": [
      "Manter o trabalho ou trocar por um estágio hibrido a 250km\n",
      "Envision Pharma Group\n",
      "Candidatura estágio EDP \n",
      "Ajuda\n",
      "Ajuda técnica\n",
      "Sebentas de Matemática Discreta, Cálculo, Álgebra Linear, Estatística\n",
      "Hetzner vs OvhCloud vs Contabo vs Algum em Portugal ? \n",
      "O que ensinam hoje em dia nas faculdades...\n",
      "Ferramentas Open-Source\n",
      "Faculdade e tecnólogo juntos\n",
      "Data Analytics Engineer Cloudfare\n",
      "Entrevista - teste na Codility\n",
      "Trabalho há 1 ano e meio como consultor SAP ABAP e Fiori - vale a pena inscrever-me numa licenciatura?\n",
      "Quanto cobrar à hora?\n",
      "Renderizar gráfico de relação semântica em react\n",
      "Será que o curso vale a Pena?\n",
      "Sap\n",
      "Comunidades de Machine Learning?\n",
      "300 candidaturas, 2 entrevistas: preciso de ajuda urgente!\n",
      "Estágio Curricular\n",
      "WYSIWYG editor para React\n"
     ]
    }
   ],
   "source": [
    "rising_posts = subreddit.rising(limit=25)\n",
    "\n",
    "for post in rising_posts:\n",
    "    print(post.title)"
   ]
  },
  {
   "cell_type": "markdown",
   "id": "5f905e955e3eba7b",
   "metadata": {},
   "source": [
    "### Some examples of information you can get from a post\n",
    "\n",
    "- Tile: post.title\n",
    "- ID: post.id\n",
    "- URL: post.url\n",
    "- Score: post.score\n",
    "- Number of Comments: post.num_comments\n",
    "- Self Text: post.selftext\n",
    "- Created UTC: post.created_utc\n",
    "- Author: post.author\n",
    "- Upvote Ratio: post.upvote_ratio\n",
    "- Upvotes: post.ups\n",
    "- Downvotes: post.downs\n",
    "- etc"
   ]
  },
  {
   "cell_type": "code",
   "execution_count": 29,
   "id": "6e3f03060fd3fb7e",
   "metadata": {
    "ExecuteTime": {
     "end_time": "2024-10-21T13:16:08.215083Z",
     "start_time": "2024-10-21T13:16:08.212182Z"
    }
   },
   "outputs": [
    {
     "name": "stdout",
     "output_type": "stream",
     "text": [
      "Quem Está a Contratar? - 10/2024\n",
      "Aquela megathread mensal para anunciarem as posições abertas da vossa empresa. [Threads dos meses anteriores.](https://www.reddit.com/r/devpt/search/?q=\"Quem%20Está%20a%20Contratar%3F\"&restrict_sr=1&sort=new)\n",
      "\n",
      "Modelo que devem usar para cada posição:\n",
      "\n",
      "    * Empresa\n",
      "    * Salário Base (intervalo salarial bruto)\n",
      "    * Cargo: Backend Dev, Full Stack Dev, Mobile Dev, DevOps, UX/UI Designer …\n",
      "    * Modelo de Trabalho: Remoto, Híbrido ou Presencial\n",
      "    * Localização (se aplicável)\n",
      "    * Tipo de Contrato: Permanente, Contrato a termo, Part-time, ...\n",
      "    * Nível de Experiência: Júnior, Médio, Sénior\n",
      "    * Tech Stack\n",
      "    * Descrição Sumária\n",
      "\n",
      "Conforme preferirem também poderão fazer algo do género:\n",
      "\n",
      "    Empresa | Salário | Cargo | Modelo | Localização | ...\n",
      "    Descrição Sumária\n",
      "\n",
      "Temos algumas regras que devem cumprir:\n",
      "\n",
      "* Todas as posições têm de ser remuneradas e com intervalo salarial.\n",
      "* Apenas são aceites posições de pessoas que pertencem à empresa a contratar. Não são permitidas posições para empresas de recrutamento ou afins.\n",
      "* Apenas um comentário por empresa - salvo caso haja abertura de novas posições.\n",
      "51\n",
      "\n",
      "\n",
      "\n",
      "\n",
      "[META] - Novas Flairs & Regras\n",
      "Boas,\n",
      "\n",
      "Abaixo breve esclarecimento sobre as novas *flairs* e respectiva utilização:\n",
      "\n",
      "\n",
      "## Flairs\n",
      "\n",
      "**Ajuda Técnica** - Pedidos de ajuda, esclarecimento, revisão de código. Para ser utilizada **única e exclusivamente em questões técnicas relacionadas com programação**. Neste tipo de tópicos não haverá grande tolerância para piadas ou comentários que em nada ajudem o OP.\n",
      "\n",
      "**Ferramentas** - Questões relacionadas com ferramentas ou utilitários do dia-a-dia (ex. Visual Studio, Git, Eclipse, etc); Estão excluídas quaisquer ferramentas fora da esfera de desenvolvimento ou de utilização comum. \n",
      "\n",
      "**WebDev** - Dúvidas relacionadas com desenvolvimento web, hosting, domínios, etc.\n",
      "\n",
      "**Projecto Nacional (OC)** - Para apresentação e divulgação de projectos nacionais; preferencialmente desenvolvidos pelo OP.\n",
      "\n",
      "**Notícias/Eventos** - Divulgação de notícias ou eventos relevantes na área de programação/desenvolvimento e directamente relacionados com estes.\n",
      "\n",
      "**Empresas** - Temas relacionados com uma empresa específica, o nome é obrigatório (salários, metodologias e linguagens utilizadas, ambiente, condições, etc)\n",
      "\n",
      "**Carreira** - Conselhos para progressão, mudança ou reconversão de carreira\n",
      "\n",
      "**Cursos/Formação** - Qualquer questão relacionada com cursos e/ou formações\n",
      "\n",
      "**Humor** - Posts humorísticos relacionados directamente com a temática do sub\n",
      "\n",
      "##Regras\n",
      "\n",
      "1 - Coloca as tuas questões acertadamente, esclarece o teu ponto de vista ou dúvida o mais breve possível.\n",
      "\n",
      "2 - Não é permitido spam, estudos de mercado, inquéritos\n",
      "\n",
      "3 - Sempre que seja uma dúvida técnica, utilizem uma tag com a linguagem ou tecnologia usada no título, por exemplo: [.NET], [Python]\n",
      "\n",
      "4 - Este é um subreddit com o objectivo de entre-ajuda e discussão; drama, metadrama, offtopics não têm lugar aqui\n",
      "\n",
      "5 - É **obrigatório** usar a flair correcta\n",
      "\n",
      "6 - Não são permitidos outros assuntos fora do âmbito do DevPT\n",
      "\n",
      "## SUBS ALTERNATIVOS\n",
      "\n",
      "- /r/TecnologiaPT - Para qualquer dúvida geral sobre sistemas operativos, tecnologias, dispositivos mobile em PT-PT\n",
      "\n",
      "- /r/ITSistemasPT - Administração de sistemas e devops\n",
      "\n",
      "- /r/homenetworking - Redes domésticas e de pequena dimensão\n",
      "\n",
      "- /r/networking - Redes profissionais e conceitos avançados\n",
      "\n",
      "- /r/informaticaPT - IT no geral\n",
      "\n",
      "## Outros\n",
      "\n",
      "- Agradecemos que façam uso da pesquisa antes de submeter um novo tópico\n",
      "\n",
      "- O sub está restrito em determinados aspectos para contas novas. **Não** é necessário contactar os moderadores, consultem os posts existentes, leiam as regras, percebam o funcionamento do sub e do Reddit no geral antes de submeter/comentar. Para uma melhor experiência: https://old.reddit.com/r/DevPT\n",
      "\n",
      "Obrigado.\n",
      "13\n",
      "\n",
      "\n",
      "\n",
      "\n",
      "Manter o trabalho ou trocar por um estágio hibrido a 250km\n",
      "Boas pessoal,\n",
      "\n",
      "Recentemente recebi uma proposta de estágio como tester na parte de automação em Lisboa numa empresa na qual tenho bastante interesse. Em termos de condições iria receber +100€ brutos por mês e um pouco mais de subsidio de alimentação.\n",
      "\n",
      "Tenho aqui alguns pontos que me faz querer aceitar tal como: a empresa em si e o peso que eu penso que tenha no curriculo, o cargo (neste momento estou num cargo que quase não existe na europa, é maior na américa do sul) e o facto de não gostar do ambiente da equipa onde estou atualmente. \n",
      "\n",
      "Agora a parte negativa, sendo que é um estágio em Lisboa teria que ficar duas noites por semana em lisboa na casa de amigos e também obviamente iria ter que fazer uma viagem de transportes publicos de 250km 2x por semana. \n",
      "\n",
      "Em termos de futuro sinto que isto ia-me ajudar a abrir portas e a ter mais oportunidades dentro da área visto que o plano a longo prazo será mudar-me para Lisboa ou Porto. A área de testes é algo pela qual tenho desenvolvido interesse nos ultimos tempos e gostaria de explorar mais. \n",
      "\n",
      "Aqui a verdadeira questão é compensa fazer esta mudança agora e ter esta \"vida de cão\" durante algum tempo? Para contexto tenho 25 anos e vivo com a minha namorada e isso faz-me achar que mais vale fazer este sacrificio agora do que daqui a 10 anos.\n",
      "13\n",
      "\n",
      "\n",
      "\n",
      "\n",
      "Envision Pharma Group\n",
      "Boas peeps. Eu passei recentemente pelo processo de recrutamento desta empresa e acabei por receber oferta. Não encontro muita informação sobre a mesma.. o que existe no glassdoor é mais relativo a outros cargos. \n",
      "\n",
      "Sei que têm alguns trabalhadores tugas por lá. Alguém tem opiniões da mesma :)?\n",
      "\n",
      "Obrigado meus putos da pesada.\n",
      "\n",
      "Edit: Vou entrar para Engenheiro de Software.\n",
      "0\n",
      "\n",
      "\n",
      "\n",
      "\n",
      "Candidatura estágio EDP \n",
      "Boas a todos! Como refere o título candidatei me a um estágio profissional EDP, fui para a fase que pedem avaliações, fi-las e terminaram com uma entrevista assíncrona, tudo através de um site que tem essas tais avaliações. \n",
      "No fim de ter concluído tudo não recebi nada sobre o assunto do género \"concluíste tudo vamos analisar\" nada simplesmente... Entretanto o prazo pra concluir tudo era no dia que terminei às 22h.\n",
      "\n",
      "É normal não dizerem nada nesta fase? Deveria mandar algum email a questionar se as minhas avaliações estão registadas?\n",
      "\n",
      "Ps: É a minha primeira vez nestas candidaturas, acabei de terminar a minha licenciatura, sou leiga :) \n",
      "2\n",
      "\n",
      "\n",
      "\n",
      "\n",
      "Ajuda\n",
      "Boas, é o seguinte. \n",
      "\n",
      "Queria ter entrado em Engenharia Informática este ano mas não consegui, então o objetivo é fazer para entrar para o próximo. \n",
      "\n",
      "Estou a trabalhar mas o meu pai diz que não me quer ver a parar os estudos 1 ano e que devia ir fazer cursos ou bootcamps. \n",
      "\n",
      "Que recomendação dariam, sendo que não pode ser assim tao caro como alguns cursos que encontro aqui?\n",
      "13\n",
      "\n",
      "\n",
      "\n",
      "\n",
      "Ajuda técnica\n",
      "Boa Noite equipa,\n",
      "\n",
      "  \n",
      "Recentemente propuseram-me um desafio em javaFX framework, em que o tópico irá ser sobre navegação.\n",
      "\n",
      "O que é que eu pensei? Pensei em fazer um aplicativo web, tal como o moovit, mas só da STCP (\"https://moovitapp.com/index/pt/transportes\\_p%C3%BAblicos-Porto-Porto-city\\_20479-1904\"), mas não sei por onde começar, estou a desenvolver o código em java no visual studio, já andei para aqui a \"brincar\" mas  quando me abre o ficheiro do SceneBuilder, o .jxml, diz que não consegue abrir o ficheiro .zip onde contém as rotas, as paragens, ... dos autocarros. Por isso, estava a pensar em fazer pelo API mas não sei como é que isso funciona. \n",
      "\n",
      "O meu objetivo, para já, era escolher um autocarro ou alguém digitar o número do autocarro pretendido e ele responder a rota que ele faz num mapa com o API do maps. Alguém com conhecimento vasto me poderá ajudar?\n",
      "\n",
      "  \n",
      "Com os melhores cumprimentos,\n",
      "\n",
      "Dadycol.\n",
      "1\n",
      "\n",
      "\n",
      "\n",
      "\n",
      "Sebentas de Matemática Discreta, Cálculo, Álgebra Linear, Estatística\n",
      "Boa noite.\n",
      "\n",
      "Eu vou reingressar na licenciatura de Engenharia de Sistemas Informáticos no IPCA no próximo ano letivo, e para evitar que volte acontecer o mesmo que há 10 anos, quando frequentei o curso pela primeira vez,  decidi arranjar uma explicadora que me ajude a preparar para aprovar logo no primeiro ano, as disciplinas mencionadas acima.\n",
      "\n",
      "A explicadora pediu-me para lhe arranjar sebentas destas disciplinas de forma a que ela possa preparar os conteúdos a serem lecionados nas explicações. \n",
      "\n",
      "A questão é que eu não conheço ninguém que tenha frequentado o curso recentemente. Será que é apropriado enviar um mail ao diretor do curso a solicitar ajuda com esta questão? Vou até ao ipca um dia qualquer e abordo o pessoal do curso na tentativa de encontar alguém disposto a ajudar-me?\n",
      "\n",
      "Não andará alguém por aqui que tenha frequentado ou esteja neste momento a frequentar o curso em questão e me possa facultar este material?\n",
      "\n",
      "Agradeço desde já por qualquer tipo de ajuda que me possam dar.\n",
      "8\n",
      "\n",
      "\n",
      "\n",
      "\n",
      "Hetzner vs OvhCloud vs Contabo vs Algum em Portugal ? \n",
      "Hetzner vs OVHCloud vs Contabo vs Provedores Locais em Portugal: Qual é o Melhor?\n",
      "\n",
      "Estou a avaliar diferentes opções de servidores e estou indeciso entre Hetzner, OVHCloud, Contabo, e talvez algum provedor local em Portugal. O meu objetivo é encontrar um serviço que ofereça uma boa relação custo-benefício, desempenho sólido e suporte adequado.\n",
      "\n",
      "O que preciso:\n",
      "\n",
      "\t•\tBoa performance para um projeto de médio porte.\n",
      "\t•\tUptime confiável e boa segurança.\n",
      "\t•\tSuporte técnico acessível (não precisa ser ultra-rápido, mas eficiente).\n",
      "\t•\tLatência razoável, principalmente para utilizadores em Portugal e na Europa.\n",
      "\n",
      "O que estou a considerar:\n",
      "\n",
      "\t•\tHetzner: Preços super competitivos, principalmente para servidores dedicados e VPS. Como está a vossa experiência com a latência e o suporte deles?\n",
      "\t•\tOVHCloud: Parece oferecer muita versatilidade, especialmente em soluções de nuvem. No entanto, ouvi dizer que o suporte pode ser lento. Isso tem sido um problema para vocês?\n",
      "\t•\tContabo: Ótimos preços, mas será que compensa em termos de performance e confiabilidade para algo mais exigente?\n",
      "\t•\tProvedores Locais em Portugal: Já experimentaram algum? Vale a pena pela latência e suporte local, ou o custo extra não justifica?\n",
      "\n",
      "Estou curioso para saber a vossa opinião e experiências pessoais. Qual escolheriam e porquê? Qual é o melhor para balancear custo e desempenho?\n",
      "\n",
      "Agradeço desde já!\n",
      "1\n",
      "\n",
      "\n",
      "\n",
      "\n",
      "O que ensinam hoje em dia nas faculdades...\n",
      "Boa tarde,\n",
      "\n",
      "Estou a tirar o mestrado numa faculdade de Lisboa e na aula de BI hoje apresentaram 3 formas de editar dados numa tabela, no qual a terceira fiquei chocado:\n",
      "\n",
      "https://preview.redd.it/0qjb1wxtq5wd1.png?width=2160&format=png&auto=webp&s=03b13627893e74c7d8fbd81b2d482d39275e5890\n",
      "\n",
      "Este totalmente normal, um simple update\n",
      "\n",
      "https://preview.redd.it/put4f0t1r5wd1.png?width=2090&format=png&auto=webp&s=80f7db55165ab5f54a54b764ceab63ebb21c75a5\n",
      "\n",
      "Ok, este também poderá fazer sentido caso queiram guardar histórico\n",
      "\n",
      "https://preview.redd.it/bt91xnc6r5wd1.png?width=2240&format=png&auto=webp&s=b1fca5657d092c5496559b62e62035c8d1622f64\n",
      "\n",
      "**AGORA ESTE FIQUEI CHOCADO!**\n",
      "\n",
      "**Devo mencionar que isto foi dado para estudantes de mestrado que 90% deles não têm background em IT portanto SQL é novo para eles.**\n",
      "\n",
      "**Acham isto normal ou sou só eu que estou a dramatizar?**\n",
      "0\n",
      "\n",
      "\n",
      "\n",
      "\n",
      "Ferramentas Open-Source\n",
      "Que ferramentas, open-souce utilizam que acham que são um must-have ou que dão bastante jeito ocasionalmente para desenvolvimento, seja ele qual for?\n",
      "\n",
      "Começando por mim, gosto de utilizar o [readme.so](https://readme.so/pt/editor) para criar documentação de uma maneira mais intuitiva e o [excalidraw](https://excalidraw.com/) para fazer uns esboços e live sharing.\n",
      "\n",
      "edit: esqueci-me de referir, um dos melhores que já utilizei, que não está diretamente relacionado com o desenvolvimento de software, mas dá uma ajuda do caraças. Simplesmente, [Sharex](https://getsharex.com/) para screenshots e tools de desenho na tela antes de fazer print e muitas outras funções.\n",
      "63\n",
      "\n",
      "\n",
      "\n",
      "\n",
      "Faculdade e tecnólogo juntos\n",
      "Atualmente faço engenharia de software (2 semestre) e comecei um curso de ADS mês passado, vocês acham que vale a pena fazer dois cursos de uma vez ou é meio nada a ver?\n",
      "0\n",
      "\n",
      "\n",
      "\n",
      "\n",
      "Data Analytics Engineer Cloudfare\n",
      "Hello malta, fiz ontem o challenge para a posição de Data Analytics Engineer, remote, para Cloufare. Era relativamente simples. Estou à espera de feedback. Alguém tem experiência na empresa? E em termos de ordenados? \n",
      "8\n",
      "\n",
      "\n",
      "\n",
      "\n",
      "Entrevista - teste na Codility\n",
      "Olá pessoal! Estou em fase de entrevista para a Bosch e neste momento tenho de fazer uma parte técnica no Codility, sabendo que tem o FAQ e testes treino, gostaria de saber se já alguém fez, qual o feedback e umas dicas. Obrigado.\n",
      "12\n",
      "\n",
      "\n",
      "\n",
      "\n",
      "Trabalho há 1 ano e meio como consultor SAP ABAP e Fiori - vale a pena inscrever-me numa licenciatura?\n",
      "Boa tarde a todos,  \n",
      "O título já explica a questão, mas vou elaborar.\n",
      "\n",
      "  \n",
      "O meu percurso académico é peculiar. Acabei um curso técnico profissional em ótimas condições - média de 18, nota final de 20 a programação - mas não comecei logo a trabalhar na área para me desviar e ir estudar uma área diferente no ensino superior. Foram 6 anos longe dum ambiente de informática, apesar de me manter minimamente informado. Não terminei o curso que ingressei porque me surgiu esta oportunidade para retomar o rumo da informática e a minha situação financeira não era a melhor. \n",
      "\n",
      "  \n",
      "Eis que escrevo este post. Não sei o que me reserva o futuro, e não tenho pressas para mudar de emprego porque gosto do que faço e estou a ser bem pago. Acham que fazer a licenciatura me abre portas caso no futuro pretenda abandonar o ramo SAP? Não sei motivos pelo qual o faria, mas a vida reserva surpresas e poderei, um dia, querer mudar o meu percurso novamente devido a ter outros interesses como desenvolvimento mobile.\n",
      "\n",
      "  \n",
      "Obrigado!\n",
      "3\n",
      "\n",
      "\n",
      "\n",
      "\n",
      "Quanto cobrar à hora?\n",
      "Boa noite, sou Front End com 5 de experiência, fui contactado com uma proposta de fazer o FE para uma app e não faço ideia do que cobrar.\n",
      "\n",
      "Alguém me dá um ajuda\n",
      "4\n",
      "\n",
      "\n",
      "\n",
      "\n",
      "Renderizar gráfico de relação semântica em react\n",
      "Boas, A minha experiência não é significativa, mas estou num curso e já trabalho há mais de 1 ano nesta área. Eu sei os limites do meu conhecimento. E sei que de momento não sou capaz de concluir uma tarefa. Essa tarefa é no frontend. A partir do resultado buscado, quando a pessoa da \"hover\" no que está está destacado, deve aparecer um gráfico de relações semânticas. Eu já tratei de tudo no backend a resposta é em json etc.. a dificuldade é de design e de fazer com que o gráfico apareça corretamente. Eu venho aqui solicitar a ajuda de quem poder estar disponível. Desculpem estar a incomodar. Em caso de alguém poder dar apoio, mande msg. Eu demonstro total abertura de aprendizagem, quero quebrar esta barreira de ignorância. Agradeço qualquer feedback.\n",
      "0\n",
      "\n",
      "\n",
      "\n",
      "\n",
      "Será que o curso vale a Pena?\n",
      "Boas malta\n",
      "\n",
      "Eu tenho andado a fazer algumas consideraçoes e precisava de input de malta da área .\n",
      "\n",
      "Atualmente estou com 3 anos de experiencia como Full Stack web Developer onde tambem  trabalhei com area de DevOps.\n",
      "\n",
      "Eu tenho a Licenciatura \" congelada\" porque comecei a trabalhar e deixei de ter tempo para estudar.\n",
      "\n",
      "Será que ainda vale a pena voltar aos estudos para concluir o curso ou a experiencia prática que tenho já é suficiente \n",
      "\n",
      "For context tou empregado na area e nao tou com grandes ideias de mudar de empresa a short term.\n",
      "\n",
      "PS: O politecnico onde estava a tirar a licenciatura nao tem aulas de noite e eu trabalho em Lisboa, a cerca de 2 horas do politecnico.\n",
      "\n",
      "Edit: decidi pedir transferencia para a UAB uma vez que minha maior barreira é a logistica de ir para o Politecnico \n",
      "Obrigado pelas respostas\n",
      "9\n",
      "\n",
      "\n",
      "\n",
      "\n",
      "Sap\n",
      "SAP - Mudar de carreira \n",
      "\n",
      "\n",
      "Olá a todos,\n",
      "Trabalho há cerca de 12 anos no setor logístico e, embora tenha ganho experiência em várias empresas, sinto-me estagnado, sem oportunidades de progressão na minha carreira e como é óbvio também sem progressão de salário. Não tenho licenciatura, pois não consegui continuar a estudar após o ensino secundário por motivos económicos.\n",
      "\n",
      "Ao longo da minha experiencia de trabalho percebi que sempre me dei bem com sistemas ERP e trabalhei com SAP, Sage e PHC na ótica de utilizador. A área da tecnologia tem estado sempre presente na minha vida e gostaria de explorar uma carreira como consultor SAP.\n",
      "\n",
      " Vi que existe um curso de iniciação na Valantic (ex-Abaco) com especialização em MM, FI, SF, que me parece muito interessante.\n",
      "No entanto, ao pesquisar as ofertas de emprego, notei que muitas delas exigem uma licenciatura e mais de 5 anos de experiência. Pergunto-me se vale a pena arriscar e tirar o curso de consultor SAP mesmo sem ter esses requisitos académicos. Alguém na mesma situação? Quais são as vossas opiniões ou conselhos?\n",
      "Agradeço desde já pela ajuda\n",
      "7\n",
      "\n",
      "\n",
      "\n",
      "\n",
      "Comunidades de Machine Learning?\n",
      "(sem certeza de que flair usar para isto)\n",
      "\n",
      "Alguém sabe de alguma comunidade ML em Portugal? Uma que se foque mais na parte de implementação e teoria, e não pessoal que mete \"AI\" e depois é uma regressão linear ou mais um chatbot para selecionar vinhos do Porto.\n",
      "5\n",
      "\n",
      "\n",
      "\n",
      "\n",
      "300 candidaturas, 2 entrevistas: preciso de ajuda urgente!\n",
      "Olá pessoal,\n",
      "\n",
      "Estou mesmo a precisar de umas opiniões e conselhos sobre o meu currículo e sobre o que mais posso fazer na minha procura de emprego. Desde o final de agosto que ando à procura de posições júnior, trainee ou estágios nas áreas de backend, DevOps ou cloud, mas não tenho tido sorte nenhuma. Já devo ter enviado uns 300 currículos e só fui chamado para duas entrevistas. A maior parte das respostas que recebo são automáticas a dizer que decidiram seguir com outros candidatos.\n",
      "\n",
      "Tenho treinado questões no LeetCode para melhorar nas entrevistas. Procuro oportunidades no LinkedIn, depois no Indeed e no ITJobs. Também procuro empresas nestas áreas, visito as páginas de carreiras e envio o meu currículo para várias posições que estejam minimamente relacionadas com o que quero: desenvolvimento backend, cloud, cibersegurança, full stack, DevOps, o que aparecer.\n",
      "\n",
      "No meu currículo, não coloquei muito ênfase nos meus trabalhos anteriores e preferi dar esse espaço aos projetos mais relacionados com o que quero fazer. Estava a tentar não recorrer ao IEFP porque, como ainda não terminei a licenciatura, o que vou receber é mesmo muito pouco. Estou a ficar um bocado desesperado porque estou a viver fora de casa dos meus pais e já estou a gastar as minhas poupanças para pagar as contas. Ainda não terminei a licenciatura — falta-me só uma cadeira do último ano. Acham que isso tem um grande impacto nas minhas candidaturas?\n",
      "\n",
      "Além disso, trabalhei desde miúdo numa fábrica aos fins de semana e cheguei a gestor de instalações. Acham que vale a pena incluir essa experiência no currículo?\n",
      "\n",
      "Muito obrigado pelo vosso tempo e desculpem estar a contribuir para o \"spam\" neste sub de pessoal acabado de sair da universidade que não arranja trabalho ou está a mudar de área. Agradeço qualquer conselho ou opinião que me possam dar.\n",
      "\n",
      "https://preview.redd.it/tau4d1ybxbvd1.png?width=586&format=png&auto=webp&s=23341df2a9cdbda1198392d379413ae9cfac4c56\n",
      "\n",
      "\n",
      "6\n",
      "\n",
      "\n",
      "\n",
      "\n",
      "Estágio Curricular\n",
      "Olá a todos, resumidamente eu ando á procura de um estágio curricular para completar o meu curso de comunicação multimédia e pretendo prosseguir por um caminho mais direcionado pelo desenvolvimento web, já enviei vários emails para possiveis vagas frontend que vi no linkedin e não recebi qualquer tipo de resposta.\n",
      "\n",
      "Contactei algumas empresas anteriormente no linkedin em que afirmaram para enviar mail para o seus respetivos recrutamentos. Ao que ainda nenhuma delas me respondeu.\n",
      "\n",
      "Existe algo que possa fazer ou conhecem alguma empresa nos lados de leiria ou coimbra que aceitam estagiários? Obrigado desde já\n",
      "3\n",
      "\n",
      "\n",
      "\n",
      "\n",
      "WYSIWYG editor para React\n",
      "Estou à procura de uma boa biblioteca para editor WYSIWYG para React só preciso do básico e que tenha já integrado: \n",
      "\n",
      "- upload de imagens em base64 para o editor a partir do sistema de ficheiros;\n",
      "\n",
      "- redimensionamento destas imagens;\n",
      "\n",
      "- (se possível) emojis.\n",
      "\n",
      "O melhor que testei foi o TinyMCE, tem tudo o que preciso mas a versão free tem limite de acesso, depois o React-Quill não consegui implementar o modulo de imageResize, depois o Mui Draft.js parece que não é compatível com React 18.\n",
      "\n",
      "Qual recomendam / usam? \n",
      "0\n",
      "\n",
      "\n",
      "\n",
      "\n",
      "Estágio INICIAR  C#/.net core Braga e arredores\n",
      "Procuro empresa programação C#/.net core para Estágio INICIAR e possibilidade de posto de trabalho.\n",
      "\n",
      "\n",
      "0\n",
      "\n",
      "\n",
      "\n",
      "\n",
      "Procuro Estágio Curricular | Cibersegurança - IEFP recusou assinar cláusula com Big4\n",
      "Olá a todos. Espero que estejam bem.\n",
      "\n",
      "Em seguimento do post que fiz há uns dias acerca do \"[IEFP não me assinar cláusula exigida pela Big4](https://www.reddit.com/r/portugal/comments/1g0nk7a/ajuda_iefp_recusa_assinar_realiza%C3%A7%C3%A3o_de_est%C3%A1gio/)\", foi-me hoje confirmado que não há nada a fazer e preciso mesmo de encontrar uma nova empresa para o realizar (são 560h, cerca de 3 meses).\n",
      "\n",
      "Tenho um CV bastante completo (envio por PM), e inclusive já tinha recebido 4 propostas para começar a contrato com boas empresas da área (e com boas condições...). Mas, infelizmente, preciso de realizar este estágio para terminar o curso...\n",
      "\n",
      "Se souberem de alguma empresa aberta a Estágios Curriculares, nesta altura, ou alguém que me possa ajudar...\n",
      "\n",
      "Obrigado a todos mais uma vez pela ajuda.\n",
      "7\n",
      "\n",
      "\n",
      "\n",
      "\n"
     ]
    }
   ],
   "source": [
    "hot_posts = subreddit.hot(limit=25)\n",
    "\n",
    "for post in hot_posts:\n",
    "    print(post.title)\n",
    "    print(post.selftext)\n",
    "    print(post.ups)\n",
    "    print(\"\\n\\n\\n\")"
   ]
  },
  {
   "cell_type": "markdown",
   "id": "9c31817ed80d4b67",
   "metadata": {},
   "source": [
    "## Some Actions you can perform on a post\n",
    "\n",
    "- Upvote: post.upvote()\n",
    "- Downvote: post.downvote()\n",
    "- Clear Vote: post.clear_vote()\n",
    "- Reply: post.reply(\"your reply\")\n",
    "\n",
    "## Some Actions you can perform on subreddit\n",
    "\n",
    "- Subscribe: subreddit.subscribe()\n",
    "- Unsubscribe: subreddit.unsubscribe()\n",
    "\n",
    "## Some Actions you can perform on a comment\n",
    "\n",
    "- Upvote: comment.upvote()\n",
    "- Downvote: comment.downvote()\n",
    "- Clear Vote: comment.clear_vote()\n",
    "- Reply: comment.reply(\"your reply\")\n",
    "\n",
    "**Note: Upvotes and downvotes are meant to be done by humans, not bots. Doing so recurrently can get your account banned.**\n",
    "\n"
   ]
  },
  {
   "cell_type": "markdown",
   "id": "d12922845da5f135",
   "metadata": {},
   "source": [
    "## 6. Getting the comments of a post \n",
    "\n",
    "You can get the comments of a post by using the comments method of the post instance.\n",
    "\n",
    "In this example, we will get the comments of the top post in the \"devpt\" subreddit. You can replace it with any other post you want to get the comments from."
   ]
  },
  {
   "cell_type": "code",
   "execution_count": 36,
   "id": "896f8edbf64ea52d",
   "metadata": {
    "ExecuteTime": {
     "end_time": "2024-10-21T13:16:08.267306Z",
     "start_time": "2024-10-21T13:16:08.264426Z"
    }
   },
   "outputs": [
    {
     "name": "stdout",
     "output_type": "stream",
     "text": [
      "Top post: Ferramentas Open-Source\n",
      "Comment1: - [fzf](https://github.com/junegunn/fzf) Incrivel para procurar rapidamente ficheiros no disco e comandos que usaste\n",
      "- [jq](https://github.com/jqlang/jq) Para quem tem de processar rapidamente ficheiros JSON\n",
      "- [lazygit](https://github.com/jesseduffield/lazygit) UI simples no terminal\n",
      "- (Não é open source) [Obsidian](https://obsidian.md/) Incrivel ferramenta de organizaçao toda em Markdown. Faz com que possa usar onde for msm que nao tenha a app nesse dispositivo. Usar o sistema de tags ajudou me imenso a organizar informaço e escrever a tese\n",
      "\n",
      "Depois ha o neovim que recomendo mas isso já é outro caso.\n",
      "\n",
      "Edit: Obsidian não é open source. No entanto, tds os ficheiros estão em markdoen\n",
      "Comment2: [Bruno](https://www.usebruno.com/), [Firecamp](https://firecamp.io/).\n",
      "Comment3: Visual studio code\n",
      "Comment4: Draw.io, nmap, wireshark.\n",
      "Comment5: qgis\n",
      "Comment6: [flameshot](https://flameshot.org)\n",
      "Comment7: O conjunto de ferramentas descrito em [Modern Unix](https://github.com/ibraheemdev/modern-unix) - acima de tudo alternativas melhore/mais modernas aos comandos de todos os dias.\n",
      "\n",
      "zsh + [ohmyzsh](https://ohmyz.sh/) + [powerlevel10k](https://github.com/romkatv/powerlevel10k) para a minha maquina. Fequentemente instalo [Starship](https://starship.rs/) até em servidores remotos, só mesmo por conveniencia.\n",
      "\n",
      "[asdf](https://github.com/asdf-vm/asdf) como gestor de versoes de linguagens de programacao, versoes locais de bases de dados, e basicamente tudo e mais um par de botas.\n",
      "\n",
      "[direnv](https://direnv.net/) para gerir variaveis de ambiente por directoria, mais fazer autoswitching to virtualenvs de python\n",
      "\n",
      "Eh pah.. e mais... tanta cena. Mas isto é o que tenho automatizado instalar numa maquina nova.\n",
      "Comment8: [doomemacs](https://github.com/doomemacs/doomemacs)\n",
      "Comment9: [mcfly](https://github.com/cantino/mcfly) - para navegar rapidamente pelos comandos do terminal\n",
      "\n",
      "tldr - obter a documentação mais relevante de CLIs\n",
      "\n",
      "normcap - ferramenta de OCR do ecrã\n",
      "\n",
      "Assim de cabeça e excepto o que já foi mencionado, são das ferramentas que mais utilizo\n",
      "Comment10: Quase tudo o que uso em Linux é open source, suponho \n",
      "\n",
      "Se usam ou têm de usar Mac, muCommander. Se têm um mac antigo: OpenCore Legacy Patcher.\n",
      "\n",
      "Shelter no telemóvel (Android) para separar trabalho da vida pessoal.\n",
      "Comment11: Fora os que já foram aqui mencionados, Neovim, tmux, midnight commander e pgsql + as suas fantásticas extensões \n",
      "Comment12: vê isto: https://github.com/agarrharr/awesome-cli-apps\n",
      "Comment13: i3wm, dmenu, alacritty, vim, mupdf, bat, eza, yazi\n",
      "Comment14: Chatgpt\n"
     ]
    }
   ],
   "source": [
    "# Acessar aos comentários do post\n",
    "top_posts = next(subreddit.top(limit=1, time_filter=\"week\"))\n",
    "\n",
    "print(f\"Top post: {top_posts.title}\")\n",
    "for i, comment in enumerate(top_posts.comments):\n",
    "    print(f\"Comment{i + 1}: {comment.body}\")"
   ]
  },
  {
   "cell_type": "markdown",
   "id": "3baee8622d089a9b",
   "metadata": {},
   "source": [
    "## 7. Getting the comments of a comment\n",
    "\n",
    "You can get the comments of a comment by using the replies method of the comment instance."
   ]
  },
  {
   "cell_type": "code",
   "execution_count": 40,
   "id": "9bbf8ab76d99d08e",
   "metadata": {
    "ExecuteTime": {
     "end_time": "2024-10-21T13:16:08.318733Z",
     "start_time": "2024-10-21T13:16:08.315917Z"
    }
   },
   "outputs": [
    {
     "name": "stdout",
     "output_type": "stream",
     "text": [
      "Top post: Ferramentas Open-Source\n",
      "Comment1: - [fzf](https://github.com/junegunn/fzf) Incrivel para procurar rapidamente ficheiros no disco e comandos que usaste\n",
      "- [jq](https://github.com/jqlang/jq) Para quem tem de processar rapidamente ficheiros JSON\n",
      "- [lazygit](https://github.com/jesseduffield/lazygit) UI simples no terminal\n",
      "- (Não é open source) [Obsidian](https://obsidian.md/) Incrivel ferramenta de organizaçao toda em Markdown. Faz com que possa usar onde for msm que nao tenha a app nesse dispositivo. Usar o sistema de tags ajudou me imenso a organizar informaço e escrever a tese\n",
      "\n",
      "Depois ha o neovim que recomendo mas isso já é outro caso.\n",
      "\n",
      "Edit: Obsidian não é open source. No entanto, tds os ficheiros estão em markdoen\n",
      "Replys 1: > jq Para quem tem de processar rapidamente ficheiros JSON\n",
      "\n",
      "E yq para yaml\n",
      "Replys 1: Obsidian é _muito_ bom, mas olha que não é Open Source - a coisa mais próxima Open Source seria o [Logseq](https://logseq.com/).\n",
      "Comment2: [Bruno](https://www.usebruno.com/), [Firecamp](https://firecamp.io/).\n",
      "Replys 2: Bruno é vida! Se eles implementarem algo tipo interceptor, fica perfeito\n",
      "Replys 2: Tens alguma preferência entre os dois?\n",
      "\n",
      "edit: instalei o bruno e isto é muito mais leve que o postman, incrível!\n",
      "Comment3: Visual studio code\n",
      "Comment4: Draw.io, nmap, wireshark.\n",
      "Replys 4: Pelas ferramentas digo que é Network admin ou DevOps 😁\n",
      "Comment5: qgis\n",
      "Comment6: [flameshot](https://flameshot.org)\n",
      "Replys 6: Nem me lembrava que esse existia, também é bastante interessante.\n",
      "Comment7: O conjunto de ferramentas descrito em [Modern Unix](https://github.com/ibraheemdev/modern-unix) - acima de tudo alternativas melhore/mais modernas aos comandos de todos os dias.\n",
      "\n",
      "zsh + [ohmyzsh](https://ohmyz.sh/) + [powerlevel10k](https://github.com/romkatv/powerlevel10k) para a minha maquina. Fequentemente instalo [Starship](https://starship.rs/) até em servidores remotos, só mesmo por conveniencia.\n",
      "\n",
      "[asdf](https://github.com/asdf-vm/asdf) como gestor de versoes de linguagens de programacao, versoes locais de bases de dados, e basicamente tudo e mais um par de botas.\n",
      "\n",
      "[direnv](https://direnv.net/) para gerir variaveis de ambiente por directoria, mais fazer autoswitching to virtualenvs de python\n",
      "\n",
      "Eh pah.. e mais... tanta cena. Mas isto é o que tenho automatizado instalar numa maquina nova.\n",
      "Comment8: [doomemacs](https://github.com/doomemacs/doomemacs)\n",
      "Replys 8: org mode for life\n",
      "Comment9: [mcfly](https://github.com/cantino/mcfly) - para navegar rapidamente pelos comandos do terminal\n",
      "\n",
      "tldr - obter a documentação mais relevante de CLIs\n",
      "\n",
      "normcap - ferramenta de OCR do ecrã\n",
      "\n",
      "Assim de cabeça e excepto o que já foi mencionado, são das ferramentas que mais utilizo\n",
      "Comment10: Quase tudo o que uso em Linux é open source, suponho \n",
      "\n",
      "Se usam ou têm de usar Mac, muCommander. Se têm um mac antigo: OpenCore Legacy Patcher.\n",
      "\n",
      "Shelter no telemóvel (Android) para separar trabalho da vida pessoal.\n",
      "Comment11: Fora os que já foram aqui mencionados, Neovim, tmux, midnight commander e pgsql + as suas fantásticas extensões \n",
      "Replys 11: hot **mc**\n",
      "Comment12: vê isto: https://github.com/agarrharr/awesome-cli-apps\n",
      "Comment13: i3wm, dmenu, alacritty, vim, mupdf, bat, eza, yazi\n",
      "Comment14: Chatgpt\n",
      "Replys 14: Diz-me que não sabes o que é open source sem me dizeres que não sabes o que é open source\n"
     ]
    }
   ],
   "source": [
    "print(f\"Top post: {top_posts.title}\")\n",
    "for i, comment in enumerate(top_posts.comments):\n",
    "    print(f\"Comment{i + 1}: {comment.body}\")\n",
    "    for j, comment_comment in enumerate(comment.replies):\n",
    "        print(f\"Replys {i + 1}: {comment_comment.body}\")"
   ]
  },
  {
   "cell_type": "markdown",
   "id": "3ffae08ee40fd357",
   "metadata": {},
   "source": [
    "## 8. Posting a submission\n",
    "\n",
    "You can post a submission to a subreddit by using the submit method of the subreddit instance.\n",
    "\n",
    "We will use a subreddit named \"testingground4bots\" that is used for testing bots."
   ]
  },
  {
   "cell_type": "code",
   "execution_count": 44,
   "id": "e2395a2cf7f63858",
   "metadata": {
    "ExecuteTime": {
     "end_time": "2024-10-21T13:16:08.369927Z",
     "start_time": "2024-10-21T13:16:08.366399Z"
    }
   },
   "outputs": [
    {
     "data": {
      "text/plain": [
       "'testingground4bots'"
      ]
     },
     "execution_count": 44,
     "metadata": {},
     "output_type": "execute_result"
    }
   ],
   "source": [
    "subreddit = reddit_instance.subreddit(\"testingground4bots\")\n",
    "subreddit.display_name"
   ]
  },
  {
   "cell_type": "code",
   "execution_count": 45,
   "id": "70310ef376c8c102",
   "metadata": {
    "ExecuteTime": {
     "end_time": "2024-10-21T13:16:08.421280Z",
     "start_time": "2024-10-21T13:16:08.418619Z"
    }
   },
   "outputs": [],
   "source": [
    "post = subreddit.submit(title=\"Dummy Test Post\", selftext=\"This is a test post.\")"
   ]
  },
  {
   "cell_type": "code",
   "execution_count": 46,
   "id": "4529c0ea",
   "metadata": {},
   "outputs": [
    {
     "data": {
      "text/plain": [
       "Submission(id='1gbq08m')"
      ]
     },
     "execution_count": 46,
     "metadata": {},
     "output_type": "execute_result"
    }
   ],
   "source": [
    "post"
   ]
  },
  {
   "cell_type": "markdown",
   "id": "de5787b2d0b3079",
   "metadata": {},
   "source": [
    "## 9. Making a comment\n",
    "\n",
    "You can make a comment on a post by using the reply method of the post instance."
   ]
  },
  {
   "cell_type": "code",
   "execution_count": 47,
   "id": "be1d01fa2ee6a111",
   "metadata": {
    "ExecuteTime": {
     "end_time": "2024-10-21T13:16:08.468499Z",
     "start_time": "2024-10-21T13:16:08.466027Z"
    }
   },
   "outputs": [],
   "source": [
    "reply = post.reply(\"This is a test reply!\")"
   ]
  },
  {
   "cell_type": "code",
   "execution_count": 48,
   "id": "27f82bc0",
   "metadata": {},
   "outputs": [
    {
     "data": {
      "text/plain": [
       "Comment(id='ltnmq6l')"
      ]
     },
     "execution_count": 48,
     "metadata": {},
     "output_type": "execute_result"
    }
   ],
   "source": [
    "reply"
   ]
  },
  {
   "cell_type": "markdown",
   "id": "18fe9e0c8f316c3",
   "metadata": {},
   "source": [
    "## Commenting a comment"
   ]
  },
  {
   "cell_type": "code",
   "execution_count": 49,
   "id": "b3d5867d",
   "metadata": {},
   "outputs": [],
   "source": [
    "comment_reply = reply.reply(\"This is a comment reply\")"
   ]
  },
  {
   "cell_type": "code",
   "execution_count": 50,
   "id": "c6f30441",
   "metadata": {},
   "outputs": [
    {
     "data": {
      "text/plain": [
       "Comment(id='ltnn1p4')"
      ]
     },
     "execution_count": 50,
     "metadata": {},
     "output_type": "execute_result"
    }
   ],
   "source": [
    "comment_reply"
   ]
  },
  {
   "cell_type": "markdown",
   "id": "3a43dfbe91756efe",
   "metadata": {},
   "source": [
    "## 10. Upvoting a post and a comment"
   ]
  },
  {
   "cell_type": "code",
   "execution_count": 63,
   "id": "a687fda63618d62d",
   "metadata": {
    "ExecuteTime": {
     "end_time": "2024-10-21T13:16:08.514652Z",
     "start_time": "2024-10-21T13:16:08.512188Z"
    }
   },
   "outputs": [],
   "source": [
    "post = reddit_instance.submission(id=\"1gbq4e1\")\n",
    "\n",
    "post.upvote()"
   ]
  },
  {
   "cell_type": "markdown",
   "id": "8fe22081f5dd1294",
   "metadata": {},
   "source": [
    "## 11. Searching reddit and subreddits"
   ]
  },
  {
   "cell_type": "code",
   "execution_count": 94,
   "id": "96ea2d57584f3b39",
   "metadata": {
    "ExecuteTime": {
     "end_time": "2024-10-21T13:16:08.612279Z",
     "start_time": "2024-10-21T13:16:08.609840Z"
    }
   },
   "outputs": [],
   "source": [
    "vagas = reddit_instance.subreddit(\"all\").search(\"Ponte de Lima\", limit=5, time_filter=\"year\")"
   ]
  },
  {
   "cell_type": "code",
   "execution_count": 95,
   "id": "63b2506217586ce9",
   "metadata": {
    "ExecuteTime": {
     "end_time": "2024-10-21T13:16:08.659774Z",
     "start_time": "2024-10-21T13:16:08.657712Z"
    }
   },
   "outputs": [
    {
     "name": "stdout",
     "output_type": "stream",
     "text": [
      "Vaga 1: Ponte de Lima\n",
      "Hi guys, anyone living up this way? I am looking into it, I really love the area, but wondering if it’s a bit remote since my Portuguese is still quite poor (currently in Porto and surrounded by expats so it makes it easier) \n",
      "1f5mtnk\n",
      "https://www.reddit.com/r/PortugalExpats/comments/1f5mtnk/ponte_de_lima/\n",
      "\n",
      "\n",
      "\n",
      "\n",
      "Vaga 2: To all solo women walkers - be careful around Ponte de Lima\n",
      "I am walking Camino Português, Central, and this morning walking out from Ponte de Lima, walking through that narrow path between a wall and a ditch, a man approached me and grabbed my thigh. I was walking slower due to a narrow path and an injury, and I heard someone coming, thought they paused to allow me ahead, but then I felt the hand, looked back and saw a man in a mask, he put his hand on his crotch, and looked like he was begging me in such a sad way. It all happened in miliseconds, I got away as fast as I could, shaken.\n",
      "\n",
      "Not sure if I have any wise advise other than to stay aware of your surroundings. I always felt very safe on the Camino and while I'm okay, it feels very violating.\n",
      "\n",
      "I've been having such a beautiful day otherwise and encountering such kind people. But I guess this happens too. Please take care.\n",
      "1diq1es\n",
      "https://www.reddit.com/r/CaminoDeSantiago/comments/1diq1es/to_all_solo_women_walkers_be_careful_around_ponte/\n",
      "\n",
      "\n",
      "\n",
      "\n",
      "Vaga 3: Dia mais normal em Ponte de Lima\n",
      "\n",
      "1fbboa7\n",
      "https://v.redd.it/psh78ar54fnd1\n",
      "\n",
      "\n",
      "\n",
      "\n",
      "Vaga 4: Paço de Curutelo: um acto de violência sobre o património medieval (Ponte de Lima) - In Repensando a Idade Média\n",
      "Texto publicado na página \"Repensando a Idade Média\":\n",
      "\n",
      " \n",
      "\n",
      "https://preview.redd.it/ygcm8mg3m0td1.png?width=720&format=png&auto=webp&s=0b029e802df59f72c6f6ee09f6f53a95e973c51e\n",
      "\n",
      "\n",
      "\n",
      "\"O “Repensando a Idade Média” tem denunciado diversas lesões infligidas ao longo dos anos sobre os marcos materiais que nos restaram do período medieval em Portugal, e infelizmente teremos de o voltar a fazer a propósito do Paço de Curutelo, uma casa-torre medieval expandida com um novo paço em inícios do século XVI, situada no concelho de [Ponte de Lima](https://www.facebook.com/municipiopontedelima?__cft__[0]=AZX1QMMJlka2IjQGDepCwDwgT6CGqW-Rync-qlLtddvIRnAtMF4q22aJVFrUFapuVVDU93zmTG0WhD_-7ISJHVL15Jpx8M8cCbbg4UxXVkDdiKme9Z_BRlnyhmAZ61CEpQ6PbWX6XMAI11acNsuuZGQTu3_BKQQlVKRULx-cjV2YZg&__tn__=-]K-R). Estando em curso obras de conversão num hotel de 4 estrelas com o objectivo de atrair o turismo vinícola, tem-se observado uma total destruição da envolvente paisagística e de boa parte dos anexos do paço, ao completo arrepio de todo e qualquer princípio de preservação do Património, mas com aprovação das autoridades supostamente responsáveis pelo seu cuidado. Mais uma vez, em nome da preservação do Património e da sua rentabilização – e note-se a ironia de o novo hotel prever um museu -, acelera-se a sua destruição. É precisamente todo este processo que os nossos autores convidados abordam no texto de hoje, e a eles damos a palavra...\n",
      "\n",
      "\\_\\_\\_\\_\\_\\_\\_\\_\\_\\_\\_\\_\\_\\_\\_\\_\\_\\_\\_\\_\\_\\_\\_\\_\\_\\_\\_\\_\\_\\_\\_\\_\\_\n",
      "\n",
      "Falam por si estas imagens recentes da obra em curso no Paço de Curutelo (Freixo, Ponte de Lima) no seguimento da aquisição da propriedade pelo grupo hoteleiro [Vila Galé](https://www.facebook.com/vilagale?__cft__[0]=AZX1QMMJlka2IjQGDepCwDwgT6CGqW-Rync-qlLtddvIRnAtMF4q22aJVFrUFapuVVDU93zmTG0WhD_-7ISJHVL15Jpx8M8cCbbg4UxXVkDdiKme9Z_BRlnyhmAZ61CEpQ6PbWX6XMAI11acNsuuZGQTu3_BKQQlVKRULx-cjV2YZg&__tn__=-]K-R).\n",
      "\n",
      "Espécime emblemático de morada senhorial medieva e quinhentista do Entre-Douro-e-Minho, o solar foi desde o século XII sede da linhagem dos Curutelo, cuja acção sobre o território circunvizinho se documenta largamente nas Inquirições afonsinas e cuja gesta familiar se plasma expressivamente nos livros de linhagens trecentistas. O edificado tem por peça central uma casa forte de origens românicas, a que subsistem testemunhos raros duma cinta muralhada de configuração arredondada. Num momento de revitalização da família por ocasião da sua aliança aos Regos, linhagem ascendente entre os reinados de D. Fernando e D. João I, a torre foi reconfigurada segundo a feição que ainda hoje, grosso modo, preserva. Com a alienação da velha honra de Curutelo aos duques de Bragança, a habitação senhorial veio a ser engrandecida por uma residência paçã de feição horizontal, parcialmente assente sobre a velha cerca defensiva. Esta obra, de que é coeva toda a presente crenelação do conjunto, data-se seguramente por epígrafes e documentos como pertencendo à primeira metade do século XVI; o investimento na propriedade pelos duques de Bragança explica-se plausivelmente pela sua localização conveniente entre a sede do seu condado de Barcelos e o Couto da Correlhã, que tutelavam junto a Ponte de Lima. \n",
      "\n",
      "A preservação do cerne da antiga honra medieva por via dum duradouro aforamento à descendência de João Rodrigues do Lago, aqui radicada desde 1532, contribuiu seguramente para conservar o precioso documento de toda uma territorialidade alargada, que confere ao domínio de Curutelo o estatuto de verdadeiro caso de estudo no domínio da cultura senhorial medieva e proto-moderna da região — uma paisagem cultural de pleno direito.\n",
      "\n",
      "A despeito do regime de protecção vigente desde 1977 (Decreto nº 129/77, DR, 1.ª série, n.º 226 de 29 setembro 1977) e não obstante o imenso e amplamente reconhecido valor patrimonial que este conjunto reveste — quer como monumento histórico-arquitectónico, quer como raro testemunho paisagístico dum ecossistema agrário de raízes medievas — o que se verifica hoje é uma total descaracterização do edificado, da sua envolvência e da sua relação com o meio. Além da inexplicável aposição de construção dissonante e em grande escala ao núcleo monumental, verificam-se obliterações substanciais ao nível da malha anciliar do paço, nomeadamente da sua infraestrutura agrícola configurada entre os séculos XVI e XVIII, e transformações violentas da secular modulação da paisagem imediatamente envolvente. O espírito da intervenção que agora se perfila é dum completo desrespeito por qualquer noção integral do património representado pelo Paço de Curutelo, entendido na sua dignidade, na sua autonomia e na organicidade da sua implantação no território.\n",
      "\n",
      "É de importância capital aclarar e escrutinar os trâmites que levaram à sua aprovação.\n",
      "\n",
      "Dada a celeridade dos trabalhos, o seu inusitado volume e a manifesta desconsideração tida para com o valor histórico do imóvel, impõem-se também questões prementes acerca do acompanhamento arqueológico prestado à obra, visto que esta terá seguramente transtornado testemunhos da ocupação medieval do sítio e da sua há muito suposta pré-ocupação castreja.\n",
      "\n",
      "Nada do que concerne ao imenso valor patrimonial do Paço de Curutelo podia ser desconhecido dos promotores da obra, dado que o mesmo grupo encomendou a historiadores um dossier detalhado acerca da história familiar, evolução arquitectónica e significado contextual do conjunto. São estes, os dois primeiros subscritores do presente texto, os primeiros a denunciar o que entendem como uma grave violação do compromisso expresso pelo Grupo Vila Galé para com a devida valorização do monumento.Além da necessária aprovação pelas entidades competentes, o processo de transformação de que estas fotografias testemunham foi acolhido e aprovado pela autarquia local — a Câmara Municipal de Ponte de Lima — que emitiu dois votos de interesse público municipal a favor do empreendimento. O pronunciamento acerca dos factos pelas referidas entidades é também merecido pelo público, e deve ser por ele exigido.\n",
      "\n",
      "Se todo o sucedido em Curutelo é lamentável, e até irreversível, cumpre fazer todos os possíveis para converter o infortúnio num momento pedagógico, de reflexão alargada e de exercício de cidadania.\n",
      "\n",
      "Subscritores:\n",
      "\n",
      "Miguel Ayres de Campos Tovar, historiador\n",
      "\n",
      "Gonçalo Vidal Palmeira, historiador\n",
      "\n",
      "António Matos Reis, historiador\n",
      "\n",
      "Teresa Andresen, arquitecta paisagista\n",
      "\n",
      "João Gomes de Abreu e Lima, arquitecto\n",
      "\n",
      "Álvaro Campelo, antropólogo\n",
      "\n",
      "BIBLIOGRAFIA\n",
      "\n",
      "GUERRA, Luís Figueiredo da — “Tôrres solarengas do Alto Minho”, in O Instituto, 4.ª série, vol. 1, 1925, pp. 415-465.\n",
      "\n",
      "MATTOSO, José — Ricos-homens, infanções e cavaleiros. A nobreza medieval portuguesa nos séculos XI e XII, 2ª edição, Lisboa, Guimarães Editores, 1985.\n",
      "\n",
      "PALMEIRA, Gonçalo; TOVAR, Miguel Ayres de Campos — “Gerações medievais do paço de Curutelo: dos Curutelos aos Viegas (séculos XII a XIV), in Actas do 6.º Congresso Internacional Casa Nobre: Um Património para o Futuro, 2024, pp. 307-325.REIS, António Matos — “Itinerários de Ponte de Lima”, Ponte de Lima, s.n., 1973.\n",
      "\n",
      "Idem — “Ponte de lima no tempo e no espaço”, Ponte de Lima, Município de Ponte de Lima, 2000.\n",
      "\n",
      "SILVA, António Lambert Pereira da – Nobres casas de Portugal, Porto, Livraria Tavares Martins\n",
      "\n",
      "  \n",
      "Mais imagens aqui: \n",
      "\n",
      "  \n",
      "- Facebook: [https://www.facebook.com/permalink.php?story\\_fbid=pfbid0CuY6VCGrjvUdfUEr2gwPZCT92HeRdATVzQiw4CAJYcgwki1hjgzL4eKFZSucGtyCl&id=100072822075986](https://www.facebook.com/permalink.php?story_fbid=pfbid0CuY6VCGrjvUdfUEr2gwPZCT92HeRdATVzQiw4CAJYcgwki1hjgzL4eKFZSucGtyCl&id=100072822075986)\n",
      "\n",
      "- Instagram: [https://www.instagram.com/p/DAwfFIlAyGv/?img\\_index=1](https://www.instagram.com/p/DAwfFIlAyGv/?img_index=1)\n",
      "\n",
      "  \n",
      "\n",
      "1fx28gr\n",
      "https://www.reddit.com/r/PORTUGALCARALHO/comments/1fx28gr/paço_de_curutelo_um_acto_de_violência_sobre_o/\n",
      "\n",
      "\n",
      "\n",
      "\n",
      "Vaga 5: Presidente do Vila Galé diz que embargo em Ponte de Lima é “injusto”\n",
      "\n",
      "1g2nf2t\n",
      "https://ominho.pt/presidente-do-vila-gale-diz-que-embargo-em-ponte-de-lima-e-injusto/\n",
      "\n",
      "\n",
      "\n",
      "\n"
     ]
    }
   ],
   "source": [
    "for i, vaga in enumerate(vagas):\n",
    "    print(f\"Vaga {i + 1}: {vaga.title}\")\n",
    "    print(vaga.selftext)\n",
    "    print(vaga.id)\n",
    "    print(vaga.url)\n",
    "    print(\"\\n\\n\\n\")"
   ]
  }
 ],
 "metadata": {
  "kernelspec": {
   "display_name": "tac-hands-on",
   "language": "python",
   "name": "python3"
  },
  "language_info": {
   "codemirror_mode": {
    "name": "ipython",
    "version": 3
   },
   "file_extension": ".py",
   "mimetype": "text/x-python",
   "name": "python",
   "nbconvert_exporter": "python",
   "pygments_lexer": "ipython3",
   "version": "3.10.14"
  }
 },
 "nbformat": 4,
 "nbformat_minor": 5
}
