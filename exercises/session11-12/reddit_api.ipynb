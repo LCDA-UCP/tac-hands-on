{
 "cells": [
  {
   "cell_type": "markdown",
   "id": "ddb88b017a581c2d",
   "metadata": {},
   "source": [
    "# Using the praw library to interact with the Reddit API"
   ]
  },
  {
   "cell_type": "markdown",
   "id": "4463adab692d4f9e",
   "metadata": {},
   "source": [
    "## Pre-requisites\n",
    "\n",
    "### 1. Create a Reddit account\n",
    "\n",
    "I recommend creating a separate account for your bot. \n",
    "\n",
    "You can use your personal account, but it's not recommended. \n",
    "\n",
    "You may accidentally do something that gets your account banned.\n",
    "    \n",
    "### 2. Create a Reddit App\n",
    "\n",
    "After creating an account, make sure you're logged in and go to https://www.reddit.com/prefs/apps.\n",
    "\n",
    "Click the \"are you a developer? create an app...\" or \"create another app...\" button.\n",
    "\n",
    "Fill out the form like so:\n",
    "- name: My Bot (or whatever you want to call it)\n",
    "- App type: script\n",
    "- description: My Bot (or whatever you want to call it)\n",
    "- about url: leave blank\n",
    "- redirect uri: http://localhost:8080\n",
    "\n",
    "Click the \"create app\" button.\n",
    "\n",
    "You should now see a page with your app's client ID and client secret.\n",
    "\n",
    "You will need these to authenticate with the Reddit API.\n",
    "\n",
    "### 3. Install praw\n",
    "\n",
    "Praw is a Python wrapper for the Reddit API.\n",
    "\n",
    "You can install it with pip:\n",
    "\n",
    "```bash\n",
    "pip install praw\n",
    "```\n",
    "\n",
    "Because praw it already listed in the requirements.txt file, you can install it by running the following command:\n",
    "    \n",
    "```bash\n",
    "pip install -r requirements.txt\n",
    "``` \n",
    "\n",
    "### 4. Create a .env file in the root directory of the project\n",
    "\n",
    "Create a file called `.env` in the root directory of the project.\n",
    "\n",
    "Add the following lines to the file:\n",
    "\n",
    "```txt\n",
    "R_CLIENT_ID=\"your_client_id\"\n",
    "R_CLIENT_SECRET=\"your_client_secret\"\n",
    "R_USER_AGENT=\"your_user_agent\"\n",
    "R_USERNAME=\"your_username\"\n",
    "R_PASSWORD=\"your_password\"\n",
    "```\n",
    "\n",
    "Replace the values with the client ID and client secret from the Reddit app you created earlier.\n",
    "Replace the user agent with a unique string that describes your bot.\n",
    "Replace the username and password with the credentials for the Reddit account you created earlier.\n",
    "\n",
    "Add the `.env` file to your `.gitignore` file to prevent it from being committed to the repository. Note: our current `.gitignore` file already has the `.env` file added to it. So you don't need to add it again.\n",
    "\n",
    "### 5. Install the python-dotenv library\n",
    "\n",
    "The python-dotenv library is used to load environment variables from a .env file.\n",
    "\n",
    "You can install it with pip:\n",
    "\n",
    "```bash\n",
    "pip install python-dotenv\n",
    "```\n",
    "    \n",
    "Because python-dotenv it already listed in the requirements.txt file, you can install it by running the following command:\n",
    "        \n",
    "```bash\n",
    "pip install -r requirements.txt\n",
    "```\n",
    "    \n",
    "\n",
    "\n",
    "\n",
    "\n",
    "\n",
    "\n",
    "\n",
    "\n",
    "\n",
    "\n",
    "\n",
    "\n"
   ]
  },
  {
   "cell_type": "markdown",
   "id": "9753aae7160d3c5d",
   "metadata": {},
   "source": [
    "# Let's Get Started"
   ]
  },
  {
   "cell_type": "markdown",
   "id": "be38035c6bf87b20",
   "metadata": {},
   "source": [
    "## 1. Let's Start by Importing the praw Library"
   ]
  },
  {
   "cell_type": "code",
   "execution_count": 5,
   "id": "e893c7500b96018b",
   "metadata": {
    "ExecuteTime": {
     "end_time": "2024-10-21T13:16:07.651149Z",
     "start_time": "2024-10-21T13:16:07.643467Z"
    }
   },
   "outputs": [],
   "source": [
    "import praw"
   ]
  },
  {
   "cell_type": "markdown",
   "id": "e4f47ae7a6c65728",
   "metadata": {},
   "source": [
    "## 2. Load the environment variables\n",
    "\n",
    "To use the Reddit API, you need to authenticate with your Reddit account."
   ]
  },
  {
   "cell_type": "code",
   "execution_count": 6,
   "id": "86688eaa4ea1d3a9",
   "metadata": {
    "ExecuteTime": {
     "end_time": "2024-10-21T13:16:07.657601Z",
     "start_time": "2024-10-21T13:16:07.655577Z"
    }
   },
   "outputs": [],
   "source": [
    "import os\n",
    "from dotenv import load_dotenv\n",
    "\n",
    "load_dotenv()\n",
    "CLIENT_ID=os.getenv(\"R_CLIENT_ID\")\n",
    "CLIENT_SECRET=os.getenv(\"R_CLIENT_SECRET\")\n",
    "USER_AGENT=os.getenv(\"R_USER_AGENT\")\n",
    "USERNAME=os.getenv(\"R_USERNAME\")\n",
    "PASSWORD=os.getenv(\"R_PASSWORD\")"
   ]
  },
  {
   "cell_type": "markdown",
   "id": "2e2547dcf00905ad",
   "metadata": {},
   "source": [
    "## 3. Create a Reddit Instance\n",
    "\n",
    "You can create a Reddit instance by passing the client ID, client secret, user agent, username, and password to the praw.Reddit class.\n",
    "You can then check if the instance was created successfully by printing the username of the authenticated user."
   ]
  },
  {
   "cell_type": "code",
   "execution_count": 7,
   "id": "234d11a3c12a3d42",
   "metadata": {
    "ExecuteTime": {
     "end_time": "2024-10-21T13:16:07.703542Z",
     "start_time": "2024-10-21T13:16:07.701260Z"
    }
   },
   "outputs": [],
   "source": [
    "reddit_instance = praw.Reddit(\n",
    "    client_id = CLIENT_ID,\n",
    "    client_secret = CLIENT_SECRET,\n",
    "    user_agent = USER_AGENT,\n",
    "    username = USERNAME,\n",
    "    password = PASSWORD,\n",
    ")"
   ]
  },
  {
   "cell_type": "code",
   "execution_count": 8,
   "id": "a2d228df0c51547b",
   "metadata": {
    "ExecuteTime": {
     "end_time": "2024-10-21T13:16:07.756415Z",
     "start_time": "2024-10-21T13:16:07.754043Z"
    }
   },
   "outputs": [
    {
     "name": "stdout",
     "output_type": "stream",
     "text": [
      "LLIMPENSS\n"
     ]
    }
   ],
   "source": [
    "print(reddit_instance.user.me())"
   ]
  },
  {
   "cell_type": "code",
   "execution_count": 9,
   "id": "bea5656f217a5b38",
   "metadata": {
    "ExecuteTime": {
     "end_time": "2024-10-21T13:16:07.809207Z",
     "start_time": "2024-10-21T13:16:07.806574Z"
    }
   },
   "outputs": [
    {
     "data": {
      "text/plain": [
       "False"
      ]
     },
     "execution_count": 9,
     "metadata": {},
     "output_type": "execute_result"
    }
   ],
   "source": [
    "reddit_instance.read_only"
   ]
  },
  {
   "cell_type": "markdown",
   "id": "3dd0e7a7919a3b86",
   "metadata": {},
   "source": [
    "## 4. Interacting with Subreddits\n",
    "\n",
    "You can interact with subreddits by using the subreddit method of the Reddit instance.\n",
    "\n",
    "In this example, we will interact with the \"devpt\" subreddit. You can replace it with any other subreddit you want to interact with."
   ]
  },
  {
   "cell_type": "code",
   "execution_count": 10,
   "id": "62f1785e3c73db85",
   "metadata": {
    "ExecuteTime": {
     "end_time": "2024-10-21T13:16:07.861676Z",
     "start_time": "2024-10-21T13:16:07.859068Z"
    }
   },
   "outputs": [
    {
     "data": {
      "text/plain": [
       "Subreddit(display_name='devpt')"
      ]
     },
     "execution_count": 10,
     "metadata": {},
     "output_type": "execute_result"
    }
   ],
   "source": [
    "subreddit = reddit_instance.subreddit(\"devpt\")\n",
    "subreddit"
   ]
  },
  {
   "cell_type": "markdown",
   "id": "48566b68dbaa0261",
   "metadata": {},
   "source": [
    "## Getting Information About a Subreddit"
   ]
  },
  {
   "cell_type": "code",
   "execution_count": 11,
   "id": "f0fa3daafb4f7dc9",
   "metadata": {
    "ExecuteTime": {
     "end_time": "2024-10-21T13:16:07.913507Z",
     "start_time": "2024-10-21T13:16:07.910927Z"
    }
   },
   "outputs": [
    {
     "data": {
      "text/plain": [
       "'devpt'"
      ]
     },
     "execution_count": 11,
     "metadata": {},
     "output_type": "execute_result"
    }
   ],
   "source": [
    "subreddit.display_name"
   ]
  },
  {
   "cell_type": "code",
   "execution_count": 12,
   "id": "a15f60260174c68a",
   "metadata": {
    "ExecuteTime": {
     "end_time": "2024-10-21T13:16:07.961672Z",
     "start_time": "2024-10-21T13:16:07.959649Z"
    }
   },
   "outputs": [
    {
     "data": {
      "text/plain": [
       "'DevPT - Comunidade de Developers Portugueses'"
      ]
     },
     "execution_count": 12,
     "metadata": {},
     "output_type": "execute_result"
    }
   ],
   "source": [
    "subreddit.title"
   ]
  },
  {
   "cell_type": "code",
   "execution_count": 13,
   "id": "2bdc3405caf8fe83",
   "metadata": {
    "ExecuteTime": {
     "end_time": "2024-10-21T13:16:08.013482Z",
     "start_time": "2024-10-21T13:16:08.011075Z"
    }
   },
   "outputs": [
    {
     "data": {
      "text/plain": [
       "'##Bem-vindo ao DevPT!\\n\\nSomos uma comunidade de developers portugueses.\\n\\nSe quiseres saber mais dá uma olhadela em **[devpt.co](https://devpt.co)**.\\n\\nTemos ainda um **Discord**:\\n\\n**[Visitem o nosso Discord](https://devpt.co/discord)**\\n\\n^URL: ^`https://devpt.co/discord`\\n\\n###Regras\\n\\n 1. Faz perguntas acertadamente, esclarece o teu ponto de vista ou dúvida o mais breve possível.\\n 2. **Não são permitidos estudos de mercado e/ou inquéritos**\\n 3. Usa um titulo descritivo em que especifiques a linguagem ou tecnologia com que estas a trabalhar.\\n\\n    Ex:[C++] Bug no ciclo while\\n\\n 4. Este é um subreddit com o objetivo de entre-ajuda e discussão e, para isso, pedimos a colaboração de todos para ser possível tirar o melhor proveito do mesmo.\\n\\n 5. É obrigatório usar a flair correcta\\n\\n 6. Não são permitidos outros assuntos fora da esfera do DevPT\\n\\n###Ferramentas aconselhadas\\nSempre que precisares de colar código usa uma das ferramentas seguintes (ou semelhantes):\\n\\n - Gist: para muito código e/ou diferentes ficheiros.\\n - IDEone: para código que deve ser executado.\\n - JSFiddle: para HTML, CSS ou JavaScript.\\n\\n### Subs associados:\\n\\n/r/EngineeringResumes'"
      ]
     },
     "execution_count": 13,
     "metadata": {},
     "output_type": "execute_result"
    }
   ],
   "source": [
    "subreddit.description"
   ]
  },
  {
   "cell_type": "code",
   "execution_count": 14,
   "id": "e511d90b56f783db",
   "metadata": {
    "ExecuteTime": {
     "end_time": "2024-10-21T13:16:08.064948Z",
     "start_time": "2024-10-21T13:16:08.062503Z"
    }
   },
   "outputs": [
    {
     "data": {
      "text/plain": [
       "45675"
      ]
     },
     "execution_count": 14,
     "metadata": {},
     "output_type": "execute_result"
    }
   ],
   "source": [
    "subreddit .subscribers"
   ]
  },
  {
   "cell_type": "markdown",
   "id": "a2e07cf35379b939",
   "metadata": {},
   "source": [
    "## 5. Getting the Top 25 Posts in a Subreddit\n",
    "\n",
    "You can get the top 25 posts in a subreddit by using the top method of the subreddit instance.\n",
    "\n",
    "In this example, we will get the top 25 posts in the \"devpt\" subreddit. You can replace it with any other subreddit you want to get the top posts from.\n",
    "\n",
    "We will also define the time filter to get the top posts of the week."
   ]
  },
  {
   "cell_type": "code",
   "execution_count": 20,
   "id": "1a44a5dd22ce4488",
   "metadata": {
    "ExecuteTime": {
     "end_time": "2024-10-21T13:16:08.117630Z",
     "start_time": "2024-10-21T13:16:08.115200Z"
    }
   },
   "outputs": [
    {
     "name": "stdout",
     "output_type": "stream",
     "text": [
      "Ferramentas Open-Source\n",
      "Ajuda\n",
      "Manter o trabalho ou trocar por um estágio hibrido a 250km\n",
      "Entrevista - teste na Codility\n",
      "Data Analytics Engineer Cloudfare\n",
      "Será que o curso vale a Pena?\n",
      "Sebentas de Matemática Discreta, Cálculo, Álgebra Linear, Estatística\n",
      "Quanto cobrar à hora?\n",
      "Candidatura estágio EDP \n",
      "Trabalho há 1 ano e meio como consultor SAP ABAP e Fiori - vale a pena inscrever-me numa licenciatura?\n",
      "Ajuda técnica\n",
      "Hetzner vs OvhCloud vs Contabo vs Algum em Portugal ? \n",
      "Renderizar gráfico de relação semântica em react\n",
      "Envision Pharma Group\n",
      "Faculdade e tecnólogo juntos\n",
      "O que ensinam hoje em dia nas faculdades...\n"
     ]
    }
   ],
   "source": [
    "top_posts = subreddit.top(limit = 25, time_filter = \"week\")\n",
    "\n",
    "for post in top_posts:\n",
    "    print(post.title)"
   ]
  },
  {
   "cell_type": "markdown",
   "id": "2dbf857266581e5f",
   "metadata": {},
   "source": [
    "## Hot, Top, New, Controversial, Rising posts\n",
    "\n",
    "You can get the hot, top, new, controversial, and rising posts in a subreddit by using the hot, top, new, controversial, and rising methods of the subreddit instance.\n",
    "\n",
    "**Note: sometimes some posts are sticked by the moderators, so they will always appear in the top posts. You can confirm if a post is sticked with `post.stickied`**"
   ]
  },
  {
   "cell_type": "code",
   "execution_count": 80,
   "id": "2192d91c202d9e41",
   "metadata": {
    "ExecuteTime": {
     "end_time": "2024-10-21T13:16:08.164418Z",
     "start_time": "2024-10-21T13:16:08.161224Z"
    }
   },
   "outputs": [],
   "source": [
    "# ..."
   ]
  },
  {
   "cell_type": "markdown",
   "id": "5f905e955e3eba7b",
   "metadata": {},
   "source": [
    "### Some examples of information you can get from a post\n",
    "\n",
    "- Tile: post.title\n",
    "- ID: post.id\n",
    "- URL: post.url\n",
    "- Score: post.score\n",
    "- Number of Comments: post.num_comments\n",
    "- Self Text: post.selftext\n",
    "- Created UTC: post.created_utc\n",
    "- Author: post.author\n",
    "- Upvote Ratio: post.upvote_ratio\n",
    "- Upvotes: post.ups\n",
    "- Downvotes: post.downs\n",
    "- etc"
   ]
  },
  {
   "cell_type": "code",
   "execution_count": 81,
   "id": "6e3f03060fd3fb7e",
   "metadata": {
    "ExecuteTime": {
     "end_time": "2024-10-21T13:16:08.215083Z",
     "start_time": "2024-10-21T13:16:08.212182Z"
    }
   },
   "outputs": [],
   "source": [
    "# ..."
   ]
  },
  {
   "cell_type": "markdown",
   "id": "9c31817ed80d4b67",
   "metadata": {},
   "source": [
    "## Some Actions you can perform on a post\n",
    "\n",
    "- Upvote: post.upvote()\n",
    "- Downvote: post.downvote()\n",
    "- Clear Vote: post.clear_vote()\n",
    "- Reply: post.reply(\"your reply\")\n",
    "\n",
    "## Some Actions you can perform on subreddit\n",
    "\n",
    "- Subscribe: subreddit.subscribe()\n",
    "- Unsubscribe: subreddit.unsubscribe()\n",
    "\n",
    "## Some Actions you can perform on a comment\n",
    "\n",
    "- Upvote: comment.upvote()\n",
    "- Downvote: comment.downvote()\n",
    "- Clear Vote: comment.clear_vote()\n",
    "- Reply: comment.reply(\"your reply\")\n",
    "\n",
    "**Note: Upvotes and downvotes are meant to be done by humans, not bots. Doing so recurrently can get your account banned.**\n",
    "\n"
   ]
  },
  {
   "cell_type": "markdown",
   "id": "d12922845da5f135",
   "metadata": {},
   "source": [
    "## 6. Getting the comments of a post \n",
    "\n",
    "You can get the comments of a post by using the comments method of the post instance.\n",
    "\n",
    "In this example, we will get the comments of the top post in the \"devpt\" subreddit. You can replace it with any other post you want to get the comments from."
   ]
  },
  {
   "cell_type": "code",
   "execution_count": 82,
   "id": "896f8edbf64ea52d",
   "metadata": {
    "ExecuteTime": {
     "end_time": "2024-10-21T13:16:08.267306Z",
     "start_time": "2024-10-21T13:16:08.264426Z"
    }
   },
   "outputs": [],
   "source": [
    "# ..."
   ]
  },
  {
   "cell_type": "markdown",
   "id": "3baee8622d089a9b",
   "metadata": {},
   "source": [
    "## 7. Getting the comments of a comment\n",
    "\n",
    "You can get the comments of a comment by using the replies method of the comment instance."
   ]
  },
  {
   "cell_type": "code",
   "execution_count": 83,
   "id": "9bbf8ab76d99d08e",
   "metadata": {
    "ExecuteTime": {
     "end_time": "2024-10-21T13:16:08.318733Z",
     "start_time": "2024-10-21T13:16:08.315917Z"
    }
   },
   "outputs": [],
   "source": [
    "# ..."
   ]
  },
  {
   "cell_type": "markdown",
   "id": "3ffae08ee40fd357",
   "metadata": {},
   "source": [
    "## 8. Posting a submission\n",
    "\n",
    "You can post a submission to a subreddit by using the submit method of the subreddit instance.\n",
    "\n",
    "We will use a subreddit named \"testingground4bots\" that is used for testing bots."
   ]
  },
  {
   "cell_type": "code",
   "execution_count": 24,
   "id": "246b67df",
   "metadata": {},
   "outputs": [],
   "source": [
    "subreddit = reddit_instance.subreddit(\"testingground4bots\")"
   ]
  },
  {
   "cell_type": "code",
   "execution_count": 26,
   "id": "e2395a2cf7f63858",
   "metadata": {
    "ExecuteTime": {
     "end_time": "2024-10-21T13:16:08.369927Z",
     "start_time": "2024-10-21T13:16:08.366399Z"
    }
   },
   "outputs": [],
   "source": [
    "post = subreddit.submit(title = \"HELLOOOOOOOOO\", selftext = \"this is a dummy post\")"
   ]
  },
  {
   "cell_type": "markdown",
   "id": "de5787b2d0b3079",
   "metadata": {},
   "source": [
    "## 9. Making a comment\n",
    "\n",
    "You can make a comment on a post by using the reply method of the post instance."
   ]
  },
  {
   "cell_type": "code",
   "execution_count": 27,
   "id": "70310ef376c8c102",
   "metadata": {
    "ExecuteTime": {
     "end_time": "2024-10-21T13:16:08.421280Z",
     "start_time": "2024-10-21T13:16:08.418619Z"
    }
   },
   "outputs": [],
   "source": [
    "comment_text = \"This is a comment on the post!\"\n",
    "comment = post.reply(comment_text)"
   ]
  },
  {
   "cell_type": "markdown",
   "id": "18fe9e0c8f316c3",
   "metadata": {},
   "source": [
    "## Commenting a comment"
   ]
  },
  {
   "cell_type": "code",
   "execution_count": 86,
   "id": "be1d01fa2ee6a111",
   "metadata": {
    "ExecuteTime": {
     "end_time": "2024-10-21T13:16:08.468499Z",
     "start_time": "2024-10-21T13:16:08.466027Z"
    }
   },
   "outputs": [],
   "source": [
    "# ..."
   ]
  },
  {
   "cell_type": "markdown",
   "id": "3a43dfbe91756efe",
   "metadata": {},
   "source": [
    "## 10. Upvoting a post and a comment"
   ]
  },
  {
   "cell_type": "code",
   "execution_count": 28,
   "id": "a687fda63618d62d",
   "metadata": {
    "ExecuteTime": {
     "end_time": "2024-10-21T13:16:08.514652Z",
     "start_time": "2024-10-21T13:16:08.512188Z"
    }
   },
   "outputs": [],
   "source": [
    "post = reddit_instance.submission(id=\"1gbq4e1\")\n",
    "post.upvote()"
   ]
  },
  {
   "cell_type": "code",
   "execution_count": 88,
   "id": "125761e7cb03137a",
   "metadata": {
    "ExecuteTime": {
     "end_time": "2024-10-21T13:16:08.563281Z",
     "start_time": "2024-10-21T13:16:08.560590Z"
    }
   },
   "outputs": [],
   "source": [
    "# ..."
   ]
  },
  {
   "cell_type": "markdown",
   "id": "8fe22081f5dd1294",
   "metadata": {},
   "source": [
    "## 11. Searching reddit and subreddits"
   ]
  },
  {
   "cell_type": "code",
   "execution_count": 30,
   "id": "96ea2d57584f3b39",
   "metadata": {
    "ExecuteTime": {
     "end_time": "2024-10-21T13:16:08.612279Z",
     "start_time": "2024-10-21T13:16:08.609840Z"
    }
   },
   "outputs": [],
   "source": [
    "vagas = reddit_instance.subreddit(\"devpt\").search(\"vaga python\", limit = 5, time_filter= \"year\")\n"
   ]
  },
  {
   "cell_type": "code",
   "execution_count": 31,
   "id": "63b2506217586ce9",
   "metadata": {
    "ExecuteTime": {
     "end_time": "2024-10-21T13:16:08.659774Z",
     "start_time": "2024-10-21T13:16:08.657712Z"
    }
   },
   "outputs": [
    {
     "name": "stdout",
     "output_type": "stream",
     "text": [
      "Entrevista fora do esperado\n",
      "Bom dia r/devpt,\n",
      "Estou a escrever aqui pela primeira vez para vos perguntar o que têm a dizer sobre o que se passou comigo\n",
      "Acabei agora o terceiro ano de licenciatura em engenharia informática mas como deixei algumas cadeiras para trás vou ter de as acabar no segundo semestre deste ano que está a começar, devido a ainda ter um semestre inteiro sem aulas decidi começar a procurar emprego.\n",
      "Mandei montes de candidaturas e até agora das poucas respostas que tive só uma foi positiva numa consultora para o cargo de .net developer.\n",
      "Marcaram uma entrevista on-line para me conhecerem e durante a entrevista disseram que ainda iria ter outras entrevistas incluindo uma entrevista técnica que seria uma especie de “teste” em que teria de resolver umas tasks.\n",
      "Mandaram me o link do “teste” no codility e ontem tive tempo então decidi fazer.\n",
      "Na entrevista que tive por chamada com eles falei que sabia python e c# e de ferramentas .net, vue, selenium e que também sabia usar unity.\n",
      "Quando abro a primeira task fico espantado pois era uma pergunta que qualquer estudante ao fim da primeira semana de aulas de programação resolve. Era algo do tipo uma função que recebia um int de 1 a 10 e uma string que podia ser “um” até “cinco” escrito por extenso e o objetivo era retornar a multiplicação do primeiro número com o número correspondente da string.\n",
      "Quando vejo isto fico entusiasmado pois penso que o teste vai ser todo assim e que faço aquilo com uma perna às costas.\n",
      "Chega a segunda pergunta e tudo muda. Era para criar uma função de uma view em django Python que permitisse receber um request GET ou POST e que respondesse de forma adequada, no caso do POST teria de ler os dados de nome, email, telefone etc. e valida-los.\n",
      "Está pergunta só podia ser resolvida em Python com django.\n",
      "Tudo o que eu lhes disse e o que tinha no currículo era que sabia python. Nunca foi falado em django.\n",
      "Ao ver isto colei tudo no chatgpt e ele deu me a resposta.\n",
      "Quando cheguei à 3° pergunta, ao ver que era obrigatório usar Python e preencher o que já estava feito eu nem tentei resolver por mim. Colei outra vez no chatgpt e ele deu me a resposta. Só depois que li melhor é que vi que aquilo era algo que eu facilmente fazia sozinho.\n",
      "\n",
      "Ao concluir o teste aquilo deu me o resultado de 94%, falhando um teste na segunda pergunta e um teste na terceira.\n",
      "\n",
      "Gostava de saber o que têm a dizer sobre isto visto que eles pediram me para fazer coisas que nunca disse que sabia e nem era falado na vaga e se há algum problema em usar o chatgpt.\n",
      "\n",
      "\n",
      "\n",
      "\n",
      "Requisitos para entry DS/DA/ML roles são irrealistas (rant)\n",
      "Normalmente o processo tem sido este: questoes SQL/python/pseudocodigo, questões fundamentais de estatística, experiência com XYZ framework. Tudo OK. Ou acaba por aqui, ou começam a fazer me questões mais especificas (tipo otimização de bases de dados SQL e queries, design patterns e system design, tecnologias Cloud). Muito conteúdo que não faz sentido para o tipo de roles que é.\n",
      "\n",
      "Na ultima entrevista para uma consultora, atiraram me a cara que nao tinha bases porque não tenho as bases de IE para systems design. Fiquei fodido porque nem isso estava nos requirements, nem é suposto um junior andar a fazer isso.  Sai da entrevista com o feeling de que o gajo me chamou lá com o bait da vaga de DS sabendo perfeitamente que nao havia vaga nenhuma para me convencar a ir para outra merda qualquer onde precisavam de pessoal.\n",
      "\n",
      "Recapitulando, é suposto ter:\n",
      "\n",
      "* background de matematica e estatistica fortissimo\n",
      "* proficiencia com SQL, R, Matlab, Python. saber powerquey, dax\n",
      "* trabalhar com powerbi/tableau\n",
      "* experiencia com torch, spark, tensorflow, apache \\*\\*insert as 1001 techs\\*\\*\n",
      "* experiencia com tecnologias cloud, tipo sagemaker, azure ml, databricks, etc\n",
      "* experiencia com SQL/nosql e dar uns toques na parte de data engineering\n",
      "* CICD, experiencie design/experience tracking\n",
      "* alguns ainda pedem experiencia com tecnologias frontend, javascript, django, fastapi e cenas assim\n",
      "* infrastrutura cloud Azure ou AWS normalmente\n",
      "\n",
      "Deem me um reality check. Tenho razão para me queixar?\n",
      "\n",
      "\n",
      "\n",
      "\n",
      "Sugestões primeiro emprego?\n",
      "Hey devs!\n",
      "\n",
      "Encontro-me a estagiar numa consultora muito conhecida mas não há projetos para mim e vou ser dispensado. Já estou e enviar CVs para muitas outras consultoras e outras empresas de IT mas sem resposta ou até agora com respostas negativas.\n",
      "\n",
      "  \n",
      "Estou no inicio da minha \"carreira\". O meu estágio foi feito como software tester, tendo algum conhecimento básico em testes manuais, robot framework, UiPath, python, sql, html, git, jira.\n",
      "\n",
      "  \n",
      "Estou com algum medo que não tenha skills suficientes para ser contratado. As vagas que vejo no linkedin pedem montes de tools e tecnologias que desconheço e anos de experiência que ainda não possuo.\n",
      "\n",
      "  \n",
      "Algum conselho? Gracias\n",
      "\n",
      "\n",
      "\n",
      "\n",
      "Opinião\n",
      "Tenho 22 anos, tirei um curso profissional de programação há uns 4 anos, desde então não trabalhei na área. Tirei no último ano, 2 cursos de Python, Fundamentos e Avançado. Onde é que aconselham a procurar uma vaga de Júnior, seja a mexer em Python, ou a fazer papel de DA Júnior, algo dentro deste tipo ?\n",
      "Tudo o que encontro nas plataformas de anúncios, requer tudo uma vasta experiência. Obrigado!\n",
      "\n",
      "\n",
      "\n",
      "\n",
      "O que procurar para novo emprego\n",
      "Olá.\n",
      "\n",
      "Estive numa empresa durante cerca de ano e meio onde desempenhei algumas funções, maioritariamente foi mexer com C++ em Arduino, mas foi tudo super superficial, não foi nada aprofundado. Não só, também fiz uma ou outra API com Flask e duas aplicações para android.\n",
      "\n",
      "Dentro destas áreas, o desenvolvimento android e python foi o que mais gostei, detestei mexer com Arduino e C++, não consigo gostar do tipo de linguagem.\n",
      "\n",
      "Entretanto o meu contrato acabou e fiquei desempregado e para ser sincero, estou um bocado perdido na procura de um novo emprego. Não sei para que posições me candidatar, gostava que fosse algo que não fosse relacionado com C++, porém tenho pouca experiência.\n",
      "\n",
      "Parece que tudo o que encontro é vagas sénior, pelo menos para desenvolvimento android, ou que existe procura em outras áreas que nunca mexi, como por exemplo Java ou Front-end.\n",
      "\n",
      "Como é que entraram na área em que hoje trabalham? Têm algum conselho na procura de um novo emprego?\n",
      "\n",
      "\n",
      "\n",
      "\n"
     ]
    }
   ],
   "source": [
    "for vaga in vagas:\n",
    "    print(vaga.title)\n",
    "    print(vaga.selftext)\n",
    "    print(\"\\n\\n\\n\")"
   ]
  }
 ],
 "metadata": {
  "kernelspec": {
   "display_name": "TACHANDSON",
   "language": "python",
   "name": "python3"
  },
  "language_info": {
   "codemirror_mode": {
    "name": "ipython",
    "version": 3
   },
   "file_extension": ".py",
   "mimetype": "text/x-python",
   "name": "python",
   "nbconvert_exporter": "python",
   "pygments_lexer": "ipython3",
   "version": "3.10.14"
  }
 },
 "nbformat": 4,
 "nbformat_minor": 5
}
