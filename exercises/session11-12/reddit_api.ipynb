{
 "cells": [
  {
   "metadata": {},
   "cell_type": "markdown",
   "source": "# Using the praw library to interact with the Reddit API",
   "id": "ddb88b017a581c2d"
  },
  {
   "metadata": {},
   "cell_type": "markdown",
   "source": [
    "## Pre-requisites\n",
    "\n",
    "### 1. Create a Reddit account\n",
    "\n",
    "I recommend creating a separate account for your bot. \n",
    "\n",
    "You can use your personal account, but it's not recommended. \n",
    "\n",
    "You may accidentally do something that gets your account banned.\n",
    "    \n",
    "### 2. Create a Reddit App\n",
    "\n",
    "After creating an account, make sure you're logged in and go to https://www.reddit.com/prefs/apps.\n",
    "\n",
    "Click the \"are you a developer? create an app...\" or \"create another app...\" button.\n",
    "\n",
    "Fill out the form like so:\n",
    "- name: My Bot (or whatever you want to call it)\n",
    "- App type: script\n",
    "- description: My Bot (or whatever you want to call it)\n",
    "- about url: leave blank\n",
    "- redirect uri: http://localhost:8080\n",
    "\n",
    "Click the \"create app\" button.\n",
    "\n",
    "You should now see a page with your app's client ID and client secret.\n",
    "\n",
    "You will need these to authenticate with the Reddit API.\n",
    "\n",
    "### 3. Install praw\n",
    "\n",
    "Praw is a Python wrapper for the Reddit API.\n",
    "\n",
    "You can install it with pip:\n",
    "\n",
    "```bash\n",
    "pip install praw\n",
    "```\n",
    "\n",
    "Because praw it already listed in the requirements.txt file, you can install it by running the following command:\n",
    "    \n",
    "```bash\n",
    "pip install -r requirements.txt\n",
    "``` \n",
    "\n",
    "### 4. Create a .env file in the root directory of the project\n",
    "\n",
    "Create a file called `.env` in the root directory of the project.\n",
    "\n",
    "Add the following lines to the file:\n",
    "\n",
    "```txt\n",
    "R_CLIENT_ID=\"your_client_id\"\n",
    "R_CLIENT_SECRET=\"your_client_secret\"\n",
    "R_USER_AGENT=\"your_user_agent\"\n",
    "R_USERNAME=\"your_username\"\n",
    "R_PASSWORD=\"your_password\"\n",
    "```\n",
    "\n",
    "Replace the values with the client ID and client secret from the Reddit app you created earlier.\n",
    "Replace the user agent with a unique string that describes your bot.\n",
    "Replace the username and password with the credentials for the Reddit account you created earlier.\n",
    "\n",
    "Add the `.env` file to your `.gitignore` file to prevent it from being committed to the repository. Note: our current `.gitignore` file already has the `.env` file added to it. So you don't need to add it again.\n",
    "\n",
    "### 5. Install the python-dotenv library\n",
    "\n",
    "The python-dotenv library is used to load environment variables from a .env file.\n",
    "\n",
    "You can install it with pip:\n",
    "\n",
    "```bash\n",
    "pip install python-dotenv\n",
    "```\n",
    "    \n",
    "Because python-dotenv it already listed in the requirements.txt file, you can install it by running the following command:\n",
    "        \n",
    "```bash\n",
    "pip install -r requirements.txt\n",
    "```\n",
    "    \n",
    "\n",
    "\n",
    "\n",
    "\n",
    "\n",
    "\n",
    "\n",
    "\n",
    "\n",
    "\n",
    "\n",
    "\n"
   ],
   "id": "4463adab692d4f9e"
  },
  {
   "metadata": {},
   "cell_type": "markdown",
   "source": "# Let's Get Started",
   "id": "9753aae7160d3c5d"
  },
  {
   "metadata": {},
   "cell_type": "markdown",
   "source": "## 1. Let's Start by Importing the praw Library",
   "id": "be38035c6bf87b20"
  },
  {
   "metadata": {
    "ExecuteTime": {
     "end_time": "2024-10-24T14:59:05.529913Z",
     "start_time": "2024-10-24T14:59:05.459454Z"
    }
   },
   "cell_type": "code",
   "source": "import praw",
   "id": "e893c7500b96018b",
   "outputs": [],
   "execution_count": 1
  },
  {
   "metadata": {},
   "cell_type": "markdown",
   "source": [
    "## 2. Load the environment variables\n",
    "\n",
    "To use the Reddit API, you need to authenticate with your Reddit account."
   ],
   "id": "e4f47ae7a6c65728"
  },
  {
   "metadata": {
    "ExecuteTime": {
     "end_time": "2024-10-24T15:01:44.737893Z",
     "start_time": "2024-10-24T15:01:44.732807Z"
    }
   },
   "cell_type": "code",
   "source": [
    "from dotenv import load_dotenv\n",
    "import os\n",
    "\n",
    "load_dotenv()\n",
    "\n",
    "CLIENT_ID = os.getenv(\"R_CLIENT_ID\")\n",
    "CLIENT_SECRET = os.getenv(\"R_CLIENT_SECRET\")\n",
    "USER_AGENT = os.getenv(\"R_USER_AGENT\")\n",
    "USERNAME = os.getenv(\"R_USERNAME\")\n",
    "PASSWORD = os.getenv(\"R_PASSWORD\")"
   ],
   "id": "86688eaa4ea1d3a9",
   "outputs": [],
   "execution_count": 2
  },
  {
   "metadata": {},
   "cell_type": "markdown",
   "source": [
    "## 3. Create a Reddit Instance\n",
    "\n",
    "You can create a Reddit instance by passing the client ID, client secret, user agent, username, and password to the praw.Reddit class.\n",
    "You can then check if the instance was created successfully by printing the username of the authenticated user."
   ],
   "id": "2e2547dcf00905ad"
  },
  {
   "metadata": {
    "ExecuteTime": {
     "end_time": "2024-10-24T15:04:39.453391Z",
     "start_time": "2024-10-24T15:04:35.440750Z"
    }
   },
   "cell_type": "code",
   "source": [
    "reddit_instance = praw.Reddit(\n",
    "    client_id=CLIENT_ID,\n",
    "    client_secret=CLIENT_SECRET,\n",
    "    user_agent=USER_AGENT,\n",
    "    username=USERNAME,\n",
    "    password=PASSWORD,\n",
    ")"
   ],
   "id": "234d11a3c12a3d42",
   "outputs": [],
   "execution_count": 6
  },
  {
   "metadata": {
    "ExecuteTime": {
     "end_time": "2024-10-24T15:11:50.897339Z",
     "start_time": "2024-10-24T15:10:59.516621Z"
    }
   },
   "cell_type": "code",
   "source": "print(reddit_instance.user.me())",
   "id": "a2d228df0c51547b",
   "outputs": [
    {
     "name": "stderr",
     "output_type": "stream",
     "text": [
      "\n",
      "KeyboardInterrupt\n",
      "\n"
     ]
    }
   ],
   "execution_count": 9
  },
  {
   "metadata": {
    "ExecuteTime": {
     "end_time": "2024-10-21T13:16:07.809207Z",
     "start_time": "2024-10-21T13:16:07.806574Z"
    }
   },
   "cell_type": "code",
   "source": "# ...",
   "id": "bea5656f217a5b38",
   "outputs": [],
   "execution_count": 73
  },
  {
   "metadata": {},
   "cell_type": "markdown",
   "source": [
    "## 4. Interacting with Subreddits\n",
    "\n",
    "You can interact with subreddits by using the subreddit method of the Reddit instance.\n",
    "\n",
    "In this example, we will interact with the \"devpt\" subreddit. You can replace it with any other subreddit you want to interact with."
   ],
   "id": "3dd0e7a7919a3b86"
  },
  {
   "metadata": {
    "ExecuteTime": {
     "end_time": "2024-10-21T13:16:07.861676Z",
     "start_time": "2024-10-21T13:16:07.859068Z"
    }
   },
   "cell_type": "code",
   "source": "# ...",
   "id": "62f1785e3c73db85",
   "outputs": [],
   "execution_count": 74
  },
  {
   "metadata": {},
   "cell_type": "markdown",
   "source": "## Getting Information About a Subreddit",
   "id": "48566b68dbaa0261"
  },
  {
   "metadata": {
    "ExecuteTime": {
     "end_time": "2024-10-21T13:16:07.913507Z",
     "start_time": "2024-10-21T13:16:07.910927Z"
    }
   },
   "cell_type": "code",
   "source": "# ...",
   "id": "f0fa3daafb4f7dc9",
   "outputs": [],
   "execution_count": 75
  },
  {
   "metadata": {
    "ExecuteTime": {
     "end_time": "2024-10-21T13:16:07.961672Z",
     "start_time": "2024-10-21T13:16:07.959649Z"
    }
   },
   "cell_type": "code",
   "source": "# ...",
   "id": "a15f60260174c68a",
   "outputs": [],
   "execution_count": 76
  },
  {
   "metadata": {
    "ExecuteTime": {
     "end_time": "2024-10-21T13:16:08.013482Z",
     "start_time": "2024-10-21T13:16:08.011075Z"
    }
   },
   "cell_type": "code",
   "source": "# ...",
   "id": "2bdc3405caf8fe83",
   "outputs": [],
   "execution_count": 77
  },
  {
   "metadata": {
    "ExecuteTime": {
     "end_time": "2024-10-21T13:16:08.064948Z",
     "start_time": "2024-10-21T13:16:08.062503Z"
    }
   },
   "cell_type": "code",
   "source": "# ...",
   "id": "e511d90b56f783db",
   "outputs": [],
   "execution_count": 78
  },
  {
   "metadata": {},
   "cell_type": "markdown",
   "source": [
    "## 5. Getting the Top 25 Posts in a Subreddit\n",
    "\n",
    "You can get the top 25 posts in a subreddit by using the top method of the subreddit instance.\n",
    "\n",
    "In this example, we will get the top 25 posts in the \"devpt\" subreddit. You can replace it with any other subreddit you want to get the top posts from.\n",
    "\n",
    "We will also define the time filter to get the top posts of the week."
   ],
   "id": "a2e07cf35379b939"
  },
  {
   "metadata": {
    "ExecuteTime": {
     "end_time": "2024-10-21T13:16:08.117630Z",
     "start_time": "2024-10-21T13:16:08.115200Z"
    }
   },
   "cell_type": "code",
   "source": "# ...",
   "id": "1a44a5dd22ce4488",
   "outputs": [],
   "execution_count": 79
  },
  {
   "metadata": {},
   "cell_type": "markdown",
   "source": [
    "## Hot, Top, New, Controversial, Rising posts\n",
    "\n",
    "You can get the hot, top, new, controversial, and rising posts in a subreddit by using the hot, top, new, controversial, and rising methods of the subreddit instance.\n",
    "\n",
    "**Note: sometimes some posts are sticked by the moderators, so they will always appear in the top posts. You can confirm if a post is sticked with `post.stickied`**"
   ],
   "id": "2dbf857266581e5f"
  },
  {
   "metadata": {
    "ExecuteTime": {
     "end_time": "2024-10-21T13:16:08.164418Z",
     "start_time": "2024-10-21T13:16:08.161224Z"
    }
   },
   "cell_type": "code",
   "source": "# ...",
   "id": "2192d91c202d9e41",
   "outputs": [],
   "execution_count": 80
  },
  {
   "metadata": {},
   "cell_type": "markdown",
   "source": [
    "### Some examples of information you can get from a post\n",
    "\n",
    "- Tile: post.title\n",
    "- ID: post.id\n",
    "- URL: post.url\n",
    "- Score: post.score\n",
    "- Number of Comments: post.num_comments\n",
    "- Self Text: post.selftext\n",
    "- Created UTC: post.created_utc\n",
    "- Author: post.author\n",
    "- Upvote Ratio: post.upvote_ratio\n",
    "- Upvotes: post.ups\n",
    "- Downvotes: post.downs\n",
    "- etc"
   ],
   "id": "5f905e955e3eba7b"
  },
  {
   "metadata": {
    "ExecuteTime": {
     "end_time": "2024-10-21T13:16:08.215083Z",
     "start_time": "2024-10-21T13:16:08.212182Z"
    }
   },
   "cell_type": "code",
   "source": "# ...",
   "id": "6e3f03060fd3fb7e",
   "outputs": [],
   "execution_count": 81
  },
  {
   "metadata": {},
   "cell_type": "markdown",
   "source": [
    "## Some Actions you can perform on a post\n",
    "\n",
    "- Upvote: post.upvote()\n",
    "- Downvote: post.downvote()\n",
    "- Clear Vote: post.clear_vote()\n",
    "- Reply: post.reply(\"your reply\")\n",
    "\n",
    "## Some Actions you can perform on subreddit\n",
    "\n",
    "- Subscribe: subreddit.subscribe()\n",
    "- Unsubscribe: subreddit.unsubscribe()\n",
    "\n",
    "## Some Actions you can perform on a comment\n",
    "\n",
    "- Upvote: comment.upvote()\n",
    "- Downvote: comment.downvote()\n",
    "- Clear Vote: comment.clear_vote()\n",
    "- Reply: comment.reply(\"your reply\")\n",
    "\n",
    "**Note: Upvotes and downvotes are meant to be done by humans, not bots. Doing so recurrently can get your account banned.**\n",
    "\n"
   ],
   "id": "9c31817ed80d4b67"
  },
  {
   "metadata": {},
   "cell_type": "markdown",
   "source": [
    "## 6. Getting the comments of a post \n",
    "\n",
    "You can get the comments of a post by using the comments method of the post instance.\n",
    "\n",
    "In this example, we will get the comments of the top post in the \"devpt\" subreddit. You can replace it with any other post you want to get the comments from."
   ],
   "id": "d12922845da5f135"
  },
  {
   "metadata": {
    "ExecuteTime": {
     "end_time": "2024-10-21T13:16:08.267306Z",
     "start_time": "2024-10-21T13:16:08.264426Z"
    }
   },
   "cell_type": "code",
   "source": "# ...",
   "id": "896f8edbf64ea52d",
   "outputs": [],
   "execution_count": 82
  },
  {
   "metadata": {},
   "cell_type": "markdown",
   "source": [
    "## 7. Getting the comments of a comment\n",
    "\n",
    "You can get the comments of a comment by using the replies method of the comment instance."
   ],
   "id": "3baee8622d089a9b"
  },
  {
   "metadata": {
    "ExecuteTime": {
     "end_time": "2024-10-21T13:16:08.318733Z",
     "start_time": "2024-10-21T13:16:08.315917Z"
    }
   },
   "cell_type": "code",
   "source": "# ...",
   "id": "9bbf8ab76d99d08e",
   "outputs": [],
   "execution_count": 83
  },
  {
   "metadata": {},
   "cell_type": "markdown",
   "source": [
    "## 8. Posting a submission\n",
    "\n",
    "You can post a submission to a subreddit by using the submit method of the subreddit instance.\n",
    "\n",
    "We will use a subreddit named \"testingground4bots\" that is used for testing bots."
   ],
   "id": "3ffae08ee40fd357"
  },
  {
   "metadata": {
    "ExecuteTime": {
     "end_time": "2024-10-21T13:16:08.369927Z",
     "start_time": "2024-10-21T13:16:08.366399Z"
    }
   },
   "cell_type": "code",
   "source": "# ...",
   "id": "e2395a2cf7f63858",
   "outputs": [],
   "execution_count": 84
  },
  {
   "metadata": {},
   "cell_type": "markdown",
   "source": [
    "## 9. Making a comment\n",
    "\n",
    "You can make a comment on a post by using the reply method of the post instance."
   ],
   "id": "de5787b2d0b3079"
  },
  {
   "metadata": {
    "ExecuteTime": {
     "end_time": "2024-10-21T13:16:08.421280Z",
     "start_time": "2024-10-21T13:16:08.418619Z"
    }
   },
   "cell_type": "code",
   "source": "# ...",
   "id": "70310ef376c8c102",
   "outputs": [],
   "execution_count": 85
  },
  {
   "metadata": {},
   "cell_type": "markdown",
   "source": "## Commenting a comment",
   "id": "18fe9e0c8f316c3"
  },
  {
   "metadata": {
    "ExecuteTime": {
     "end_time": "2024-10-21T13:16:08.468499Z",
     "start_time": "2024-10-21T13:16:08.466027Z"
    }
   },
   "cell_type": "code",
   "source": "# ...",
   "id": "be1d01fa2ee6a111",
   "outputs": [],
   "execution_count": 86
  },
  {
   "metadata": {},
   "cell_type": "markdown",
   "source": "## 10. Upvoting a post and a comment",
   "id": "3a43dfbe91756efe"
  },
  {
   "metadata": {
    "ExecuteTime": {
     "end_time": "2024-10-21T13:16:08.514652Z",
     "start_time": "2024-10-21T13:16:08.512188Z"
    }
   },
   "cell_type": "code",
   "source": "# ...",
   "id": "a687fda63618d62d",
   "outputs": [],
   "execution_count": 87
  },
  {
   "metadata": {
    "ExecuteTime": {
     "end_time": "2024-10-21T13:16:08.563281Z",
     "start_time": "2024-10-21T13:16:08.560590Z"
    }
   },
   "cell_type": "code",
   "source": "# ...",
   "id": "125761e7cb03137a",
   "outputs": [],
   "execution_count": 88
  },
  {
   "metadata": {},
   "cell_type": "markdown",
   "source": "## 11. Searching reddit and subreddits",
   "id": "8fe22081f5dd1294"
  },
  {
   "metadata": {
    "ExecuteTime": {
     "end_time": "2024-10-21T13:16:08.612279Z",
     "start_time": "2024-10-21T13:16:08.609840Z"
    }
   },
   "cell_type": "code",
   "source": "# ...",
   "id": "96ea2d57584f3b39",
   "outputs": [],
   "execution_count": 89
  },
  {
   "metadata": {
    "ExecuteTime": {
     "end_time": "2024-10-21T13:16:08.659774Z",
     "start_time": "2024-10-21T13:16:08.657712Z"
    }
   },
   "cell_type": "code",
   "source": "# ...",
   "id": "63b2506217586ce9",
   "outputs": [],
   "execution_count": null
  }
 ],
 "metadata": {
  "kernelspec": {
   "display_name": "Python 3",
   "language": "python",
   "name": "python3"
  },
  "language_info": {
   "codemirror_mode": {
    "name": "ipython",
    "version": 2
   },
   "file_extension": ".py",
   "mimetype": "text/x-python",
   "name": "python",
   "nbconvert_exporter": "python",
   "pygments_lexer": "ipython2",
   "version": "2.7.6"
  }
 },
 "nbformat": 4,
 "nbformat_minor": 5
}
