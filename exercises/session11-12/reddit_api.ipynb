{
 "cells": [
  {
   "metadata": {},
   "cell_type": "markdown",
   "source": [
    "# Using the praw library to interact with the Reddit API"
   ],
   "id": "ddb88b017a581c2d"
  },
  {
   "metadata": {},
   "cell_type": "markdown",
   "source": [
    "## Pre-requisites\n",
    "\n",
    "### 1. Create a Reddit account\n",
    "\n",
    "I recommend creating a separate account for your bot. \n",
    "\n",
    "You can use your personal account, but it's not recommended. \n",
    "\n",
    "You may accidentally do something that gets your account banned.\n",
    "    \n",
    "### 2. Create a Reddit App\n",
    "\n",
    "After creating an account, make sure you're logged in and go to https://www.reddit.com/prefs/apps.\n",
    "\n",
    "Click the \"are you a developer? create an app...\" or \"create another app...\" button.\n",
    "\n",
    "Fill out the form like so:\n",
    "- name: My Bot (or whatever you want to call it)\n",
    "- App type: script\n",
    "- description: My Bot (or whatever you want to call it)\n",
    "- about url: leave blank\n",
    "- redirect uri: http://localhost:8080\n",
    "\n",
    "Click the \"create app\" button.\n",
    "\n",
    "You should now see a page with your app's client ID and client secret.\n",
    "\n",
    "You will need these to authenticate with the Reddit API.\n",
    "\n",
    "### 3. Install praw\n",
    "\n",
    "Praw is a Python wrapper for the Reddit API.\n",
    "\n",
    "You can install it with pip:\n",
    "\n",
    "```bash\n",
    "pip install praw\n",
    "```\n",
    "\n",
    "Because praw it already listed in the requirements.txt file, you can install it by running the following command:\n",
    "    \n",
    "```bash\n",
    "pip install -r requirements.txt\n",
    "``` \n",
    "\n",
    "### 4. Create a .env file in the root directory of the project\n",
    "\n",
    "Create a file called `.env` in the root directory of the project.\n",
    "\n",
    "Add the following lines to the file:\n",
    "\n",
    "```txt\n",
    "R_CLIENT_ID=\"your_client_id\"\n",
    "R_CLIENT_SECRET=\"your_client_secret\"\n",
    "R_USER_AGENT=\"your_user_agent\"\n",
    "R_USERNAME=\"your_username\"\n",
    "R_PASSWORD=\"your_password\"\n",
    "```\n",
    "\n",
    "Replace the values with the client ID and client secret from the Reddit app you created earlier.\n",
    "Replace the user agent with a unique string that describes your bot.\n",
    "Replace the username and password with the credentials for the Reddit account you created earlier.\n",
    "\n",
    "Add the `.env` file to your `.gitignore` file to prevent it from being committed to the repository. Note: our current `.gitignore` file already has the `.env` file added to it. So you don't need to add it again.\n",
    "\n",
    "### 5. Install the python-dotenv library\n",
    "\n",
    "The python-dotenv library is used to load environment variables from a .env file.\n",
    "\n",
    "You can install it with pip:\n",
    "\n",
    "```bash\n",
    "pip install python-dotenv\n",
    "```\n",
    "    \n",
    "Because python-dotenv it already listed in the requirements.txt file, you can install it by running the following command:\n",
    "        \n",
    "```bash\n",
    "pip install -r requirements.txt\n",
    "```\n",
    "    \n",
    "\n",
    "\n",
    "\n",
    "\n",
    "\n",
    "\n",
    "\n",
    "\n",
    "\n",
    "\n",
    "\n",
    "\n"
   ],
   "id": "4463adab692d4f9e"
  },
  {
   "metadata": {},
   "cell_type": "markdown",
   "source": [
    "# Let's Get Started"
   ],
   "id": "9753aae7160d3c5d"
  },
  {
   "metadata": {},
   "cell_type": "markdown",
   "source": [
    "## 1. Let's Start by Importing the praw Library"
   ],
   "id": "be38035c6bf87b20"
  },
  {
   "metadata": {
    "ExecuteTime": {
     "start_time": "2024-10-25T09:36:58.372056600Z"
    }
   },
   "cell_type": "code",
   "source": [
    "import praw"
   ],
   "id": "e893c7500b96018b",
   "outputs": [],
   "execution_count": null
  },
  {
   "metadata": {},
   "cell_type": "markdown",
   "source": [
    "## 2. Load the environment variables\n",
    "\n",
    "To use the Reddit API, you need to authenticate with your Reddit account."
   ],
   "id": "e4f47ae7a6c65728"
  },
  {
   "metadata": {
    "ExecuteTime": {
     "start_time": "2024-10-25T09:36:58.375058100Z"
    }
   },
   "cell_type": "code",
   "source": [
    "from dotenv import load_dotenv\n",
    "import os\n",
    "\n",
    "load_dotenv()\n",
    "\n",
    "CLIENT_ID = os.getenv('R_CLIENT_ID')\n",
    "CLIENT_SECRET = os.getenv('R_CLIENT_SECRET')\n",
    "USER_AGENT = os.getenv('R_USER_AGENT')\n",
    "USERNAME = os.getenv('R_USERNAME')\n",
    "PASSWORD = os.getenv('R_PASSWORD')"
   ],
   "id": "86688eaa4ea1d3a9",
   "outputs": [],
   "execution_count": null
  },
  {
   "metadata": {},
   "cell_type": "markdown",
   "source": [
    "## 3. Create a Reddit Instance\n",
    "\n",
    "You can create a Reddit instance by passing the client ID, client secret, user agent, username, and password to the praw.Reddit class.\n",
    "You can then check if the instance was created successfully by printing the username of the authenticated user."
   ],
   "id": "2e2547dcf00905ad"
  },
  {
   "metadata": {
    "ExecuteTime": {
     "start_time": "2024-10-25T09:36:58.378055300Z"
    }
   },
   "cell_type": "code",
   "source": [
    "reddit_instance = praw.Reddit(\n",
    "    client_id=CLIENT_ID,\n",
    "    client_secret=CLIENT_SECRET,\n",
    "    user_agent=USER_AGENT,\n",
    "    username=USERNAME,\n",
    "    password=PASSWORD,\n",
    ")"
   ],
   "id": "234d11a3c12a3d42",
   "outputs": [],
   "execution_count": null
  },
  {
   "metadata": {
    "ExecuteTime": {
     "start_time": "2024-10-25T09:36:58.381055300Z"
    }
   },
   "cell_type": "code",
   "source": [
    "print(reddit_instance.user.me())"
   ],
   "id": "a2d228df0c51547b",
   "outputs": [],
   "execution_count": null
  },
  {
   "metadata": {
    "ExecuteTime": {
     "end_time": "2024-10-25T09:36:58.400054500Z",
     "start_time": "2024-10-25T09:36:58.384055800Z"
    }
   },
   "cell_type": "code",
   "source": [
    "reddit_instance.read_only"
   ],
   "id": "bea5656f217a5b38",
   "outputs": [],
   "execution_count": null
  },
  {
   "metadata": {},
   "cell_type": "markdown",
   "source": [
    "## 4. Interacting with Subreddits\n",
    "\n",
    "You can interact with subreddits by using the subreddit method of the Reddit instance.\n",
    "\n",
    "In this example, we will interact with the \"devpt\" subreddit. You can replace it with any other subreddit you want to interact with."
   ],
   "id": "3dd0e7a7919a3b86"
  },
  {
   "metadata": {
    "ExecuteTime": {
     "start_time": "2024-10-25T09:36:58.388071300Z"
    }
   },
   "cell_type": "code",
   "source": [
    "subreddit = reddit_instance.subreddit(\"devpt\")\n",
    "subreddit"
   ],
   "id": "62f1785e3c73db85",
   "outputs": [],
   "execution_count": null
  },
  {
   "metadata": {},
   "cell_type": "markdown",
   "source": [
    "## Getting Information About a Subreddit"
   ],
   "id": "48566b68dbaa0261"
  },
  {
   "metadata": {
    "ExecuteTime": {
     "start_time": "2024-10-25T09:36:58.391056400Z"
    }
   },
   "cell_type": "code",
   "source": [
    "subreddit.display_name"
   ],
   "id": "f0fa3daafb4f7dc9",
   "outputs": [],
   "execution_count": null
  },
  {
   "metadata": {
    "ExecuteTime": {
     "start_time": "2024-10-25T09:36:58.394056200Z"
    }
   },
   "cell_type": "code",
   "source": [
    "subreddit.title"
   ],
   "id": "a15f60260174c68a",
   "outputs": [],
   "execution_count": null
  },
  {
   "metadata": {
    "ExecuteTime": {
     "start_time": "2024-10-25T09:36:58.396054900Z"
    }
   },
   "cell_type": "code",
   "source": [
    "subreddit.subscribers"
   ],
   "id": "2bdc3405caf8fe83",
   "outputs": [],
   "execution_count": null
  },
  {
   "metadata": {
    "ExecuteTime": {
     "start_time": "2024-10-25T09:36:58.399055Z"
    }
   },
   "cell_type": "code",
   "source": [
    "# ..."
   ],
   "id": "e511d90b56f783db",
   "outputs": [],
   "execution_count": null
  },
  {
   "metadata": {},
   "cell_type": "markdown",
   "source": [
    "## 5. Getting the Top 25 Posts in a Subreddit\n",
    "\n",
    "You can get the top 25 posts in a subreddit by using the top method of the subreddit instance.\n",
    "\n",
    "In this example, we will get the top 25 posts in the \"devpt\" subreddit. You can replace it with any other subreddit you want to get the top posts from.\n",
    "\n",
    "We will also define the time filter to get the top posts of the week."
   ],
   "id": "a2e07cf35379b939"
  },
  {
   "metadata": {
    "ExecuteTime": {
     "end_time": "2024-10-25T09:36:58.402092600Z",
     "start_time": "2024-10-25T09:36:58.401091700Z"
    }
   },
   "cell_type": "code",
   "source": [
    "top_posts = subreddit.top(limit=25, time_filter='week')\n",
    "\n",
    "for post in top_posts:\n",
    "    print(post.title)"
   ],
   "id": "1a44a5dd22ce4488",
   "outputs": [],
   "execution_count": null
  },
  {
   "metadata": {},
   "cell_type": "markdown",
   "source": [
    "## Hot, Top, New, Controversial, Rising posts\n",
    "\n",
    "You can get the hot, top, new, controversial, and rising posts in a subreddit by using the hot, top, new, controversial, and rising methods of the subreddit instance.\n",
    "\n",
    "**Note: sometimes some posts are sticked by the moderators, so they will always appear in the top posts. You can confirm if a post is sticked with `post.stickied`**"
   ],
   "id": "2dbf857266581e5f"
  },
  {
   "metadata": {
    "ExecuteTime": {
     "start_time": "2024-10-25T09:36:58.404057300Z"
    }
   },
   "cell_type": "code",
   "source": [],
   "id": "2192d91c202d9e41",
   "outputs": [],
   "execution_count": null
  },
  {
   "metadata": {},
   "cell_type": "markdown",
   "source": [
    "### Some examples of information you can get from a post\n",
    "\n",
    "- Tile: post.title\n",
    "- ID: post.id\n",
    "- URL: post.url\n",
    "- Score: post.score\n",
    "- Number of Comments: post.num_comments\n",
    "- Self Text: post.selftext\n",
    "- Created UTC: post.created_utc\n",
    "- Author: post.author\n",
    "- Upvote Ratio: post.upvote_ratio\n",
    "- Upvotes: post.ups\n",
    "- Downvotes: post.downs\n",
    "- etc"
   ],
   "id": "5f905e955e3eba7b"
  },
  {
   "metadata": {
    "ExecuteTime": {
     "start_time": "2024-10-25T09:36:58.406089400Z"
    }
   },
   "cell_type": "code",
   "source": [
    "# ..."
   ],
   "id": "6e3f03060fd3fb7e",
   "outputs": [],
   "execution_count": null
  },
  {
   "metadata": {},
   "cell_type": "markdown",
   "source": [
    "## Some Actions you can perform on a post\n",
    "\n",
    "- Upvote: post.upvote()\n",
    "- Downvote: post.downvote()\n",
    "- Clear Vote: post.clear_vote()\n",
    "- Reply: post.reply(\"your reply\")\n",
    "\n",
    "## Some Actions you can perform on subreddit\n",
    "\n",
    "- Subscribe: subreddit.subscribe()\n",
    "- Unsubscribe: subreddit.unsubscribe()\n",
    "\n",
    "## Some Actions you can perform on a comment\n",
    "\n",
    "- Upvote: comment.upvote()\n",
    "- Downvote: comment.downvote()\n",
    "- Clear Vote: comment.clear_vote()\n",
    "- Reply: comment.reply(\"your reply\")\n",
    "\n",
    "**Note: Upvotes and downvotes are meant to be done by humans, not bots. Doing so recurrently can get your account banned.**\n",
    "\n"
   ],
   "id": "9c31817ed80d4b67"
  },
  {
   "metadata": {},
   "cell_type": "markdown",
   "source": [
    "## 6. Getting the comments of a post \n",
    "\n",
    "You can get the comments of a post by using the comments method of the post instance.\n",
    "\n",
    "In this example, we will get the comments of the top post in the \"devpt\" subreddit. You can replace it with any other post you want to get the comments from."
   ],
   "id": "d12922845da5f135"
  },
  {
   "metadata": {
    "ExecuteTime": {
     "end_time": "2024-10-25T09:36:58.457749500Z",
     "start_time": "2024-10-25T09:36:58.408089400Z"
    }
   },
   "cell_type": "code",
   "source": [
    "top_posts = next(subreddit.top(limit=1, time_filter=\"week\"))\n",
    "print(f\"Top post: {top_posts.title}\")\n",
    "for i, comment in enumerate(top_posts.comments):\n",
    "    print(f\"Comment{i + 1}: {comment.body}\")"
   ],
   "id": "896f8edbf64ea52d",
   "outputs": [],
   "execution_count": null
  },
  {
   "metadata": {},
   "cell_type": "markdown",
   "source": [
    "## 7. Getting the comments of a comment\n",
    "\n",
    "You can get the comments of a comment by using the replies method of the comment instance."
   ],
   "id": "3baee8622d089a9b"
  },
  {
   "metadata": {
    "ExecuteTime": {
     "start_time": "2024-10-25T09:36:58.409080900Z"
    }
   },
   "cell_type": "code",
   "source": [
    "print(f\"Top posts: {top_posts.title}\")\n",
    "for i, comment in enumerate(top_posts.comments):\n",
    "    print(f\"First Level Comment {i + 1}: {comment.body}\")\n",
    "    for j, comment_comment in enumerate(comment.replies):\n",
    "        print(f\"Second Level Comment {i + 1}\")"
   ],
   "id": "9bbf8ab76d99d08e",
   "outputs": [],
   "execution_count": null
  },
  {
   "metadata": {},
   "cell_type": "markdown",
   "source": [
    "## 8. Posting a submission\n",
    "\n",
    "You can post a submission to a subreddit by using the submit method of the subreddit instance.\n",
    "\n",
    "We will use a subreddit named \"testingground4bots\" that is used for testing bots."
   ],
   "id": "3ffae08ee40fd357"
  },
  {
   "cell_type": "code",
   "outputs": [],
   "source": [],
   "metadata": {
    "collapsed": false,
    "ExecuteTime": {
     "start_time": "2024-10-25T09:36:58.411075Z"
    }
   },
   "id": "5280973ba58de8bf",
   "execution_count": null
  },
  {
   "metadata": {
    "ExecuteTime": {
     "start_time": "2024-10-25T09:36:58.413088600Z"
    }
   },
   "cell_type": "code",
   "source": [
    "subreddit = reddit_instance.subreddit(\"testingground4bots\")\n",
    "subreddit.display_name"
   ],
   "id": "e2395a2cf7f63858",
   "outputs": [],
   "execution_count": null
  },
  {
   "cell_type": "code",
   "outputs": [],
   "source": [
    "post = subreddit.submit(\"Realization from Porto\", selftext=\"This is a Realization post\")\n",
    "print(post)"
   ],
   "metadata": {
    "collapsed": false,
    "ExecuteTime": {
     "start_time": "2024-10-25T09:36:58.414088400Z"
    }
   },
   "id": "1c0fa53c3e1db656",
   "execution_count": null
  },
  {
   "cell_type": "code",
   "outputs": [],
   "source": [],
   "metadata": {
    "collapsed": false,
    "ExecuteTime": {
     "start_time": "2024-10-25T09:36:58.416091300Z"
    }
   },
   "id": "4d974d57ae84ab11",
   "execution_count": null
  },
  {
   "metadata": {},
   "cell_type": "markdown",
   "source": [
    "## 9. Making a comment\n",
    "\n",
    "You can make a comment on a post by using the reply method of the post instance."
   ],
   "id": "de5787b2d0b3079"
  },
  {
   "metadata": {
    "ExecuteTime": {
     "start_time": "2024-10-25T09:36:58.418088600Z"
    }
   },
   "cell_type": "code",
   "source": [
    "reply = post.reply(\"This is a dummy reply.\")\n"
   ],
   "id": "70310ef376c8c102",
   "outputs": [],
   "execution_count": null
  },
  {
   "metadata": {},
   "cell_type": "markdown",
   "source": [
    "## Commenting a comment"
   ],
   "id": "18fe9e0c8f316c3"
  },
  {
   "metadata": {
    "ExecuteTime": {
     "start_time": "2024-10-25T09:36:58.420088800Z"
    }
   },
   "cell_type": "code",
   "source": [
    "reply_2 = reply.reply (\"I love Sport Lisboa Benfica\")"
   ],
   "id": "be1d01fa2ee6a111",
   "outputs": [],
   "execution_count": null
  },
  {
   "cell_type": "code",
   "outputs": [],
   "source": [],
   "metadata": {
    "collapsed": false,
    "ExecuteTime": {
     "start_time": "2024-10-25T09:36:58.422088900Z"
    }
   },
   "id": "51633757a213a4a3",
   "execution_count": null
  },
  {
   "metadata": {},
   "cell_type": "markdown",
   "source": [
    "## 10. Upvoting a post and a comment"
   ],
   "id": "3a43dfbe91756efe"
  },
  {
   "metadata": {
    "ExecuteTime": {
     "start_time": "2024-10-25T09:36:58.423055900Z"
    }
   },
   "cell_type": "code",
   "source": [
    "idx = \"1gbq4e1\"\\\n",
    "post = reddit_instance.submission(id=idx)\\\n",
    "post."
   ],
   "id": "a687fda63618d62d",
   "outputs": [],
   "execution_count": null
  },
  {
   "metadata": {
    "ExecuteTime": {
     "start_time": "2024-10-25T09:36:58.425089300Z"
    }
   },
   "cell_type": "code",
   "source": [
    "# ..."
   ],
   "id": "125761e7cb03137a",
   "outputs": [],
   "execution_count": null
  },
  {
   "metadata": {},
   "cell_type": "markdown",
   "source": [
    "## 11. Searching reddit and subreddits"
   ],
   "id": "8fe22081f5dd1294"
  },
  {
   "metadata": {
    "ExecuteTime": {
     "end_time": "2024-10-25T09:37:12.328804500Z",
     "start_time": "2024-10-25T09:37:12.307786500Z"
    }
   },
   "cell_type": "code",
   "source": [
    "vagas = reddit_instance.subreddit(\"devpt\").search(\"vagas python\", limit=5, time_filter=\"year\")"
   ],
   "id": "96ea2d57584f3b39",
   "outputs": [],
   "execution_count": 197
  },
  {
   "metadata": {
    "ExecuteTime": {
     "end_time": "2024-10-25T09:37:13.193899900Z",
     "start_time": "2024-10-25T09:37:12.913059400Z"
    }
   },
   "cell_type": "code",
   "source": [
    "for vaga in vagas:\n",
    "    print(vaga.title)\n",
    "    print(vaga.selftext)\n",
    "    print(\"\\n\\n\\n\")\n",
    "    "
   ],
   "id": "63b2506217586ce9",
   "outputs": [
    {
     "name": "stdout",
     "output_type": "stream",
     "text": [
      "Entrevista fora do esperado\n",
      "Bom dia r/devpt,\n",
      "Estou a escrever aqui pela primeira vez para vos perguntar o que têm a dizer sobre o que se passou comigo\n",
      "Acabei agora o terceiro ano de licenciatura em engenharia informática mas como deixei algumas cadeiras para trás vou ter de as acabar no segundo semestre deste ano que está a começar, devido a ainda ter um semestre inteiro sem aulas decidi começar a procurar emprego.\n",
      "Mandei montes de candidaturas e até agora das poucas respostas que tive só uma foi positiva numa consultora para o cargo de .net developer.\n",
      "Marcaram uma entrevista on-line para me conhecerem e durante a entrevista disseram que ainda iria ter outras entrevistas incluindo uma entrevista técnica que seria uma especie de “teste” em que teria de resolver umas tasks.\n",
      "Mandaram me o link do “teste” no codility e ontem tive tempo então decidi fazer.\n",
      "Na entrevista que tive por chamada com eles falei que sabia python e c# e de ferramentas .net, vue, selenium e que também sabia usar unity.\n",
      "Quando abro a primeira task fico espantado pois era uma pergunta que qualquer estudante ao fim da primeira semana de aulas de programação resolve. Era algo do tipo uma função que recebia um int de 1 a 10 e uma string que podia ser “um” até “cinco” escrito por extenso e o objetivo era retornar a multiplicação do primeiro número com o número correspondente da string.\n",
      "Quando vejo isto fico entusiasmado pois penso que o teste vai ser todo assim e que faço aquilo com uma perna às costas.\n",
      "Chega a segunda pergunta e tudo muda. Era para criar uma função de uma view em django Python que permitisse receber um request GET ou POST e que respondesse de forma adequada, no caso do POST teria de ler os dados de nome, email, telefone etc. e valida-los.\n",
      "Está pergunta só podia ser resolvida em Python com django.\n",
      "Tudo o que eu lhes disse e o que tinha no currículo era que sabia python. Nunca foi falado em django.\n",
      "Ao ver isto colei tudo no chatgpt e ele deu me a resposta.\n",
      "Quando cheguei à 3° pergunta, ao ver que era obrigatório usar Python e preencher o que já estava feito eu nem tentei resolver por mim. Colei outra vez no chatgpt e ele deu me a resposta. Só depois que li melhor é que vi que aquilo era algo que eu facilmente fazia sozinho.\n",
      "\n",
      "Ao concluir o teste aquilo deu me o resultado de 94%, falhando um teste na segunda pergunta e um teste na terceira.\n",
      "\n",
      "Gostava de saber o que têm a dizer sobre isto visto que eles pediram me para fazer coisas que nunca disse que sabia e nem era falado na vaga e se há algum problema em usar o chatgpt.\n",
      "\n",
      "\n",
      "\n",
      "\n",
      "Requisitos para entry DS/DA/ML roles são irrealistas (rant)\n",
      "Normalmente o processo tem sido este: questoes SQL/python/pseudocodigo, questões fundamentais de estatística, experiência com XYZ framework. Tudo OK. Ou acaba por aqui, ou começam a fazer me questões mais especificas (tipo otimização de bases de dados SQL e queries, design patterns e system design, tecnologias Cloud). Muito conteúdo que não faz sentido para o tipo de roles que é.\n",
      "\n",
      "Na ultima entrevista para uma consultora, atiraram me a cara que nao tinha bases porque não tenho as bases de IE para systems design. Fiquei fodido porque nem isso estava nos requirements, nem é suposto um junior andar a fazer isso.  Sai da entrevista com o feeling de que o gajo me chamou lá com o bait da vaga de DS sabendo perfeitamente que nao havia vaga nenhuma para me convencar a ir para outra merda qualquer onde precisavam de pessoal.\n",
      "\n",
      "Recapitulando, é suposto ter:\n",
      "\n",
      "* background de matematica e estatistica fortissimo\n",
      "* proficiencia com SQL, R, Matlab, Python. saber powerquey, dax\n",
      "* trabalhar com powerbi/tableau\n",
      "* experiencia com torch, spark, tensorflow, apache \\*\\*insert as 1001 techs\\*\\*\n",
      "* experiencia com tecnologias cloud, tipo sagemaker, azure ml, databricks, etc\n",
      "* experiencia com SQL/nosql e dar uns toques na parte de data engineering\n",
      "* CICD, experiencie design/experience tracking\n",
      "* alguns ainda pedem experiencia com tecnologias frontend, javascript, django, fastapi e cenas assim\n",
      "* infrastrutura cloud Azure ou AWS normalmente\n",
      "\n",
      "Deem me um reality check. Tenho razão para me queixar?\n",
      "\n",
      "\n",
      "\n",
      "\n",
      "Sugestões primeiro emprego?\n",
      "Hey devs!\n",
      "\n",
      "Encontro-me a estagiar numa consultora muito conhecida mas não há projetos para mim e vou ser dispensado. Já estou e enviar CVs para muitas outras consultoras e outras empresas de IT mas sem resposta ou até agora com respostas negativas.\n",
      "\n",
      "  \n",
      "Estou no inicio da minha \"carreira\". O meu estágio foi feito como software tester, tendo algum conhecimento básico em testes manuais, robot framework, UiPath, python, sql, html, git, jira.\n",
      "\n",
      "  \n",
      "Estou com algum medo que não tenha skills suficientes para ser contratado. As vagas que vejo no linkedin pedem montes de tools e tecnologias que desconheço e anos de experiência que ainda não possuo.\n",
      "\n",
      "  \n",
      "Algum conselho? Gracias\n",
      "\n",
      "\n",
      "\n",
      "\n",
      "Opinião\n",
      "Tenho 22 anos, tirei um curso profissional de programação há uns 4 anos, desde então não trabalhei na área. Tirei no último ano, 2 cursos de Python, Fundamentos e Avançado. Onde é que aconselham a procurar uma vaga de Júnior, seja a mexer em Python, ou a fazer papel de DA Júnior, algo dentro deste tipo ?\n",
      "Tudo o que encontro nas plataformas de anúncios, requer tudo uma vasta experiência. Obrigado!\n",
      "\n",
      "\n",
      "\n",
      "\n",
      "O que procurar para novo emprego\n",
      "Olá.\n",
      "\n",
      "Estive numa empresa durante cerca de ano e meio onde desempenhei algumas funções, maioritariamente foi mexer com C++ em Arduino, mas foi tudo super superficial, não foi nada aprofundado. Não só, também fiz uma ou outra API com Flask e duas aplicações para android.\n",
      "\n",
      "Dentro destas áreas, o desenvolvimento android e python foi o que mais gostei, detestei mexer com Arduino e C++, não consigo gostar do tipo de linguagem.\n",
      "\n",
      "Entretanto o meu contrato acabou e fiquei desempregado e para ser sincero, estou um bocado perdido na procura de um novo emprego. Não sei para que posições me candidatar, gostava que fosse algo que não fosse relacionado com C++, porém tenho pouca experiência.\n",
      "\n",
      "Parece que tudo o que encontro é vagas sénior, pelo menos para desenvolvimento android, ou que existe procura em outras áreas que nunca mexi, como por exemplo Java ou Front-end.\n",
      "\n",
      "Como é que entraram na área em que hoje trabalham? Têm algum conselho na procura de um novo emprego?\n",
      "\n",
      "\n",
      "\n"
     ]
    }
   ],
   "execution_count": 198
  },
  {
   "cell_type": "code",
   "outputs": [],
   "source": [],
   "metadata": {
    "collapsed": false,
    "ExecuteTime": {
     "start_time": "2024-10-25T09:36:58.430097900Z"
    }
   },
   "id": "3f55223d3758e0b2"
  }
 ],
 "metadata": {
  "kernelspec": {
   "display_name": "Python 3",
   "language": "python",
   "name": "python3"
  },
  "language_info": {
   "codemirror_mode": {
    "name": "ipython",
    "version": 2
   },
   "file_extension": ".py",
   "mimetype": "text/x-python",
   "name": "python",
   "nbconvert_exporter": "python",
   "pygments_lexer": "ipython2",
   "version": "2.7.6"
  }
 },
 "nbformat": 4,
 "nbformat_minor": 5
}
