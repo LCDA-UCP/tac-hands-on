{
 "cells": [
  {
   "metadata": {},
   "cell_type": "markdown",
   "source": "# Using the praw library to interact with the Reddit API",
   "id": "ddb88b017a581c2d"
  },
  {
   "metadata": {},
   "cell_type": "markdown",
   "source": [
    "## Pre-requisites\n",
    "\n",
    "### 1. Create a Reddit account\n",
    "\n",
    "I recommend creating a separate account for your bot. \n",
    "\n",
    "You can use your personal account, but it's not recommended. \n",
    "\n",
    "You may accidentally do something that gets your account banned.\n",
    "    \n",
    "### 2. Create a Reddit App\n",
    "\n",
    "After creating an account, make sure you're logged in and go to https://www.reddit.com/prefs/apps.\n",
    "\n",
    "Click the \"are you a developer? create an app...\" or \"create another app...\" button.\n",
    "\n",
    "Fill out the form like so:\n",
    "- name: My Bot (or whatever you want to call it)\n",
    "- App type: script\n",
    "- description: My Bot (or whatever you want to call it)\n",
    "- about url: leave blank\n",
    "- redirect uri: http://localhost:8080\n",
    "\n",
    "Click the \"create app\" button.\n",
    "\n",
    "You should now see a page with your app's client ID and client secret.\n",
    "\n",
    "You will need these to authenticate with the Reddit API.\n",
    "\n",
    "### 3. Install praw\n",
    "\n",
    "Praw is a Python wrapper for the Reddit API.\n",
    "\n",
    "You can install it with pip:\n",
    "\n",
    "```bash\n",
    "pip install praw\n",
    "```\n",
    "\n",
    "Because praw it already listed in the requirements.txt file, you can install it by running the following command:\n",
    "    \n",
    "```bash\n",
    "pip install -r requirements.txt\n",
    "``` \n",
    "\n",
    "### 4. Create a .env file in the root directory of the project\n",
    "\n",
    "Create a file called `.env` in the root directory of the project.\n",
    "\n",
    "Add the following lines to the file:\n",
    "\n",
    "```txt\n",
    "R_CLIENT_ID=\"your_client_id\"\n",
    "R_CLIENT_SECRET=\"your_client_secret\"\n",
    "R_USER_AGENT=\"your_user_agent\"\n",
    "R_USERNAME=\"your_username\"\n",
    "R_PASSWORD=\"your_password\"\n",
    "```\n",
    "\n",
    "Replace the values with the client ID and client secret from the Reddit app you created earlier.\n",
    "Replace the user agent with a unique string that describes your bot.\n",
    "Replace the username and password with the credentials for the Reddit account you created earlier.\n",
    "\n",
    "Add the `.env` file to your `.gitignore` file to prevent it from being committed to the repository. Note: our current `.gitignore` file already has the `.env` file added to it. So you don't need to add it again.\n",
    "\n",
    "### 5. Install the python-dotenv library\n",
    "\n",
    "The python-dotenv library is used to load environment variables from a .env file.\n",
    "\n",
    "You can install it with pip:\n",
    "\n",
    "```bash\n",
    "pip install python-dotenv\n",
    "```\n",
    "    \n",
    "Because python-dotenv it already listed in the requirements.txt file, you can install it by running the following command:\n",
    "        \n",
    "```bash\n",
    "pip install -r requirements.txt\n",
    "```\n",
    "    \n",
    "\n",
    "\n",
    "\n",
    "\n",
    "\n",
    "\n",
    "\n",
    "\n",
    "\n",
    "\n",
    "\n",
    "\n"
   ],
   "id": "4463adab692d4f9e"
  },
  {
   "metadata": {},
   "cell_type": "markdown",
   "source": "# Let's Get Started",
   "id": "9753aae7160d3c5d"
  },
  {
   "metadata": {},
   "cell_type": "markdown",
   "source": "## 1. Let's Start by Importing the praw Library",
   "id": "be38035c6bf87b20"
  },
  {
   "metadata": {
    "ExecuteTime": {
     "end_time": "2024-10-24T15:11:40.103858Z",
     "start_time": "2024-10-24T15:11:39.991560Z"
    }
   },
   "cell_type": "code",
   "source": "import praw",
   "id": "e893c7500b96018b",
   "outputs": [],
   "execution_count": 1
  },
  {
   "metadata": {},
   "cell_type": "markdown",
   "source": [
    "## 2. Load the environment variables\n",
    "\n",
    "To use the Reddit API, you need to authenticate with your Reddit account."
   ],
   "id": "e4f47ae7a6c65728"
  },
  {
   "metadata": {
    "ExecuteTime": {
     "end_time": "2024-10-24T15:11:40.127766Z",
     "start_time": "2024-10-24T15:11:40.117382Z"
    }
   },
   "cell_type": "code",
   "source": [
    "from dotenv import load_dotenv\n",
    "import os\n",
    "\n",
    "load_dotenv()\n",
    "\n",
    "CLIENT_ID = os.getenv(\"R_CLIENT_ID\")\n",
    "CLIENT_SECRET = os.getenv(\"R_CLIENT_SECRET\")\n",
    "USER_AGENT = os.getenv(\"R_USER_AGENT\")\n",
    "USERNAME = os.getenv(\"R_USERNAME\")\n",
    "PASSWORD = os.getenv(\"R_PASSWORD\")"
   ],
   "id": "86688eaa4ea1d3a9",
   "outputs": [],
   "execution_count": 2
  },
  {
   "metadata": {},
   "cell_type": "markdown",
   "source": [
    "## 3. Create a Reddit Instance\n",
    "\n",
    "You can create a Reddit instance by passing the client ID, client secret, user agent, username, and password to the praw.Reddit class.\n",
    "You can then check if the instance was created successfully by printing the username of the authenticated user."
   ],
   "id": "2e2547dcf00905ad"
  },
  {
   "metadata": {
    "ExecuteTime": {
     "end_time": "2024-10-24T15:11:47.030020Z",
     "start_time": "2024-10-24T15:11:42.886248Z"
    }
   },
   "cell_type": "code",
   "source": [
    "reddit_instance = praw.Reddit(\n",
    "    client_id=CLIENT_ID,\n",
    "    client_secret=CLIENT_SECRET,\n",
    "    user_agent=USER_AGENT,\n",
    "    username=USERNAME,\n",
    "    password=PASSWORD\n",
    ")"
   ],
   "id": "234d11a3c12a3d42",
   "outputs": [],
   "execution_count": 3
  },
  {
   "metadata": {
    "jupyter": {
     "is_executing": true
    },
    "ExecuteTime": {
     "start_time": "2024-10-24T15:11:47.837311Z"
    }
   },
   "cell_type": "code",
   "source": "print(reddit_instance.user.me())",
   "id": "a2d228df0c51547b",
   "outputs": [],
   "execution_count": null
  },
  {
   "metadata": {
    "ExecuteTime": {
     "end_time": "2024-10-18T21:00:52.511102Z",
     "start_time": "2024-10-18T21:00:52.507973Z"
    }
   },
   "cell_type": "code",
   "source": "print(reddit_instance.read_only) # you can set your instance to read only by doint \"reddit.read_only = True\"",
   "id": "bea5656f217a5b38",
   "outputs": [
    {
     "name": "stdout",
     "output_type": "stream",
     "text": [
      "False\n"
     ]
    }
   ],
   "execution_count": 47
  },
  {
   "metadata": {},
   "cell_type": "markdown",
   "source": [
    "## 4. Interacting with Subreddits\n",
    "\n",
    "You can interact with subreddits by using the subreddit method of the Reddit instance.\n",
    "\n",
    "In this example, we will interact with the \"devpt\" subreddit. You can replace it with any other subreddit you want to interact with."
   ],
   "id": "3dd0e7a7919a3b86"
  },
  {
   "metadata": {
    "ExecuteTime": {
     "end_time": "2024-10-18T20:22:22.231416Z",
     "start_time": "2024-10-18T20:22:22.227509Z"
    }
   },
   "cell_type": "code",
   "source": [
    "subreddit = reddit_instance.subreddit(\"devpt\")\n",
    "subreddit"
   ],
   "id": "62f1785e3c73db85",
   "outputs": [
    {
     "data": {
      "text/plain": [
       "Subreddit(display_name='devpt')"
      ]
     },
     "execution_count": 22,
     "metadata": {},
     "output_type": "execute_result"
    }
   ],
   "execution_count": 22
  },
  {
   "metadata": {},
   "cell_type": "markdown",
   "source": "## Getting Information About a Subreddit",
   "id": "48566b68dbaa0261"
  },
  {
   "metadata": {
    "ExecuteTime": {
     "end_time": "2024-10-18T20:22:45.907151Z",
     "start_time": "2024-10-18T20:22:45.904057Z"
    }
   },
   "cell_type": "code",
   "source": "print(subreddit.display_name)",
   "id": "f0fa3daafb4f7dc9",
   "outputs": [
    {
     "name": "stdout",
     "output_type": "stream",
     "text": [
      "devpt\n"
     ]
    }
   ],
   "execution_count": 23
  },
  {
   "metadata": {
    "ExecuteTime": {
     "end_time": "2024-10-18T20:22:49.814819Z",
     "start_time": "2024-10-18T20:22:49.811696Z"
    }
   },
   "cell_type": "code",
   "source": "print(subreddit.title)",
   "id": "a15f60260174c68a",
   "outputs": [
    {
     "name": "stdout",
     "output_type": "stream",
     "text": [
      "DevPT - Comunidade de Developers Portugueses\n"
     ]
    }
   ],
   "execution_count": 24
  },
  {
   "metadata": {
    "ExecuteTime": {
     "end_time": "2024-10-18T20:23:06.378666Z",
     "start_time": "2024-10-18T20:23:06.375631Z"
    }
   },
   "cell_type": "code",
   "source": "print(subreddit.description)",
   "id": "2bdc3405caf8fe83",
   "outputs": [
    {
     "name": "stdout",
     "output_type": "stream",
     "text": [
      "##Bem-vindo ao DevPT!\n",
      "\n",
      "Somos uma comunidade de developers portugueses.\n",
      "\n",
      "Se quiseres saber mais dá uma olhadela em **[devpt.co](https://devpt.co)**.\n",
      "\n",
      "Temos ainda um **Discord**:\n",
      "\n",
      "**[Visitem o nosso Discord](https://devpt.co/discord)**\n",
      "\n",
      "^URL: ^`https://devpt.co/discord`\n",
      "\n",
      "###Regras\n",
      "\n",
      " 1. Faz perguntas acertadamente, esclarece o teu ponto de vista ou dúvida o mais breve possível.\n",
      " 2. **Não são permitidos estudos de mercado e/ou inquéritos**\n",
      " 3. Usa um titulo descritivo em que especifiques a linguagem ou tecnologia com que estas a trabalhar.\n",
      "\n",
      "    Ex:[C++] Bug no ciclo while\n",
      "\n",
      " 4. Este é um subreddit com o objetivo de entre-ajuda e discussão e, para isso, pedimos a colaboração de todos para ser possível tirar o melhor proveito do mesmo.\n",
      "\n",
      " 5. É obrigatório usar a flair correcta\n",
      "\n",
      " 6. Não são permitidos outros assuntos fora da esfera do DevPT\n",
      "\n",
      "###Ferramentas aconselhadas\n",
      "Sempre que precisares de colar código usa uma das ferramentas seguintes (ou semelhantes):\n",
      "\n",
      " - Gist: para muito código e/ou diferentes ficheiros.\n",
      " - IDEone: para código que deve ser executado.\n",
      " - JSFiddle: para HTML, CSS ou JavaScript.\n",
      "\n",
      "### Subs associados:\n",
      "\n",
      "/r/EngineeringResumes\n"
     ]
    }
   ],
   "execution_count": 25
  },
  {
   "metadata": {
    "ExecuteTime": {
     "end_time": "2024-10-18T20:23:57.257126Z",
     "start_time": "2024-10-18T20:23:57.253674Z"
    }
   },
   "cell_type": "code",
   "source": "print(subreddit.subscribers)",
   "id": "e511d90b56f783db",
   "outputs": [
    {
     "name": "stdout",
     "output_type": "stream",
     "text": [
      "45615\n"
     ]
    }
   ],
   "execution_count": 26
  },
  {
   "metadata": {},
   "cell_type": "markdown",
   "source": [
    "## 5. Getting the Top 25 Posts in a Subreddit\n",
    "\n",
    "You can get the top 25 posts in a subreddit by using the top method of the subreddit instance.\n",
    "\n",
    "In this example, we will get the top 25 posts in the \"devpt\" subreddit. You can replace it with any other subreddit you want to get the top posts from.\n",
    "\n",
    "We will also define the time filter to get the top posts of the week."
   ],
   "id": "a2e07cf35379b939"
  },
  {
   "metadata": {
    "ExecuteTime": {
     "end_time": "2024-10-18T20:25:28.803456Z",
     "start_time": "2024-10-18T20:25:28.034158Z"
    }
   },
   "cell_type": "code",
   "source": [
    "top_25_posts = subreddit.top(limit=25, time_filter=\"week\")\n",
    "\n",
    "for post in top_25_posts:\n",
    "    print(post.title)"
   ],
   "id": "1a44a5dd22ce4488",
   "outputs": [
    {
     "name": "stdout",
     "output_type": "stream",
     "text": [
      "Modelo de previsão de resultados da NBA\n",
      "Procuramos Data Engineers e Analysts\n",
      "Taxa Diária Justa para Software Engineers: Estou a ser explorado?\n",
      "Wars are won with code, says German military AI maker\n",
      "Opiniões sobre entrevista para a Ntt Data\n",
      "Iniciar carreira como data analyst\n",
      "Sap\n",
      "Procuro Estágio Curricular | Cibersegurança - IEFP recusou assinar cláusula com Big4\n",
      "Currículo para empresas de IT - Desenvolvimento\n",
      "Qual linguagem devo aprender a seguir para maximizar  oportunidades?\n",
      "Five9 feedback\n",
      "Trabalho part-time como estudante de mestrado em Portugal\n",
      "Comunidades de Machine Learning?\n",
      " SWitCH IoT\n",
      "Ofertas administrador sus\n",
      "Mudar para QA Tester, mas sem experiência.\n",
      "Formação em Cibersegurança\n",
      "Será que o curso vale a Pena?\n",
      "Empresas e os seus requisitos\n",
      "Estágio Curricular\n",
      "AI/ML FOMO como um recém-licenciado \n",
      "300 candidaturas, 2 entrevistas: preciso de ajuda urgente!\n",
      "Engenharia de sistemas informáticos em 2024, vale a pena?\n",
      "WYSIWYG editor para React\n",
      "☁️ Join Us for the Big Comeback: #17 Cloud Native Lisbon Meetup! ☁️\n"
     ]
    }
   ],
   "execution_count": 31
  },
  {
   "metadata": {},
   "cell_type": "markdown",
   "source": [
    "## Hot, Top, New, Controversial, Rising posts\n",
    "\n",
    "You can get the hot, top, new, controversial, and rising posts in a subreddit by using the hot, top, new, controversial, and rising methods of the subreddit instance.\n",
    "\n",
    "**Note: sometimes some posts are sticked by the moderators, so they will always appear in the top posts. You can confirm if a post is sticked with `post.stickied`**"
   ],
   "id": "2dbf857266581e5f"
  },
  {
   "metadata": {
    "ExecuteTime": {
     "end_time": "2024-10-18T20:42:00.959639Z",
     "start_time": "2024-10-18T20:42:00.957253Z"
    }
   },
   "cell_type": "code",
   "source": [
    "#hot = subreddit.hot(limit=5)\n",
    "#top = subreddit.top(limit=5, time_filter=\"week\") # it can be hour, day, week, month, year, all\n",
    "#new = subreddit.new(limit=5)\n",
    "#controversial = subreddit.controversial(limit=5, time_filter=\"day\") # it can be hour, day, week, month, year, all\n",
    "#rising = subreddit.rising(limit=5)"
   ],
   "id": "2192d91c202d9e41",
   "outputs": [],
   "execution_count": 43
  },
  {
   "metadata": {},
   "cell_type": "markdown",
   "source": [
    "### Some examples of information you can get from a post\n",
    "\n",
    "- Tile: post.title\n",
    "- ID: post.id\n",
    "- URL: post.url\n",
    "- Score: post.score\n",
    "- Number of Comments: post.num_comments\n",
    "- Self Text: post.selftext\n",
    "- Created UTC: post.created_utc\n",
    "- Author: post.author\n",
    "- Upvote Ratio: post.upvote_ratio\n",
    "- Upvotes: post.ups\n",
    "- Downvotes: post.downs\n",
    "- etc"
   ],
   "id": "5f905e955e3eba7b"
  },
  {
   "metadata": {
    "ExecuteTime": {
     "end_time": "2024-10-18T20:42:25.039184Z",
     "start_time": "2024-10-18T20:42:24.820588Z"
    }
   },
   "cell_type": "code",
   "source": [
    "from time import strftime, localtime\n",
    "\n",
    "top_post = next(subreddit.top(limit=1))\n",
    "print(f\"Title: {top_post.title}\")\n",
    "print(f\"ID: {top_post.id}\")\n",
    "print(f\"URL: {top_post.url}\")\n",
    "print(f\"Score: {top_post.score}\")\n",
    "print(f\"Number of Comments: {top_post.num_comments}\")\n",
    "print(f\"Self Text: {top_post.selftext}\")\n",
    "print(f\"Created UTC: {strftime('%Y-%m-%d %H:%M:%S', localtime(top_post.created_utc))}\")\n",
    "print(f\"Author: {top_post.author}\")\n",
    "print(f\"Upvote Ratio: {top_post.upvote_ratio}\")\n",
    "print(f\"Upvotes: {top_post.ups}\")\n",
    "print(f\"Downvotes: {top_post.downs}\")"
   ],
   "id": "6e3f03060fd3fb7e",
   "outputs": [
    {
     "name": "stdout",
     "output_type": "stream",
     "text": [
      "Title: Passo-me com estas coisas\n",
      "ID: 1er5r39\n",
      "URL: https://i.redd.it/6ykdd4er5fid1.jpeg\n",
      "Score: 580\n",
      "Number of Comments: 79\n",
      "Self Text: A pergunta retórica de 1M de Euros... Confiar no Entry level ou nos +5 anos? 🤡\n",
      "\n",
      "Antes de entrar no mercado achava que isto era só meme, mas já percebi que há disto a dar com pau. Se calhar se eu lhes disser que já fiz \"Atividades do Primeiro Ano de OutSystems\" 5 vezes, eles até gostem de mim. Enfim. É chato quando uma pessoa quer confiar nas ferramentas de pesquisa para encontrar trabalho mas depara-se com estas aboborinhas. \n",
      "\n",
      "Olha, é mesmo isso. Abóboras. Vou-me dedicar à cultura de abóboras.\n",
      "Created UTC: 2024-08-13 12:46:07\n",
      "Author: Flymania117\n",
      "Upvote Ratio: 0.98\n",
      "Upvotes: 580\n",
      "Downvotes: 0\n"
     ]
    }
   ],
   "execution_count": 44
  },
  {
   "metadata": {},
   "cell_type": "markdown",
   "source": [
    "## Some Actions you can perform on a post\n",
    "\n",
    "- Upvote: post.upvote()\n",
    "- Downvote: post.downvote()\n",
    "- Clear Vote: post.clear_vote()\n",
    "- Reply: post.reply(\"your reply\")\n",
    "\n",
    "## Some Actions you can perform on subreddit\n",
    "\n",
    "- Subscribe: subreddit.subscribe()\n",
    "- Unsubscribe: subreddit.unsubscribe()\n",
    "\n",
    "## Some Actions you can perform on a comment\n",
    "\n",
    "- Upvote: comment.upvote()\n",
    "- Downvote: comment.downvote()\n",
    "- Clear Vote: comment.clear_vote()\n",
    "- Reply: comment.reply(\"your reply\")\n",
    "\n",
    "**Note: Upvotes and downvotes are meant to be done by humans, not bots. Doing so recurrently can get your account banned.**\n",
    "\n"
   ],
   "id": "9c31817ed80d4b67"
  },
  {
   "metadata": {},
   "cell_type": "markdown",
   "source": [
    "## 6. Getting the comments of a post \n",
    "\n",
    "You can get the comments of a post by using the comments method of the post instance.\n",
    "\n",
    "In this example, we will get the comments of the top post in the \"devpt\" subreddit. You can replace it with any other post you want to get the comments from."
   ],
   "id": "d12922845da5f135"
  },
  {
   "metadata": {
    "ExecuteTime": {
     "end_time": "2024-10-18T21:03:12.370597Z",
     "start_time": "2024-10-18T21:03:11.340106Z"
    }
   },
   "cell_type": "code",
   "source": [
    "top_post = next(subreddit.top(limit=1))\n",
    "\n",
    "print(f\"Post Title: {top_post.title}\")\n",
    "for i, comment in enumerate(top_post.comments):\n",
    "    print(f\"Comment {i+1}: {comment.body}\")"
   ],
   "id": "896f8edbf64ea52d",
   "outputs": [
    {
     "name": "stdout",
     "output_type": "stream",
     "text": [
      "Post Title: Passo-me com estas coisas\n",
      "Comment 1: Entry level é para teres ideia do que te querem pagar. ;)\n",
      "Comment 2: Basicamente querem experiência +5 anos com um salário de \"entry level\".\n",
      "Comment 3: Innotech foi a empresa que após 2 entrevistas muito positivas cagaram na minha existência e não me voltaram a contactar.\n",
      "Comment 4: Faz me lembrar das propostas que no título dizem “100% remote” e na descrição diz dois dias obrigatórios no escritório por semana\n",
      "Comment 5: Se isso é entry level… senior é 40 anos?\n",
      "Comment 6: Dropdown é sempre uma coisa complicada para HR. Esqueceram-se de mudar isso.\n",
      "Comment 7: Entre level apenas quer dizer que vais mamar salario minimo xD\n",
      "Comment 8: A job offer está certa, querem alguém com 5 anos de experiência e pagam um salário entry level.\n",
      "\n",
      "Se queres aceitar isso já é contigo 😂\n",
      "Comment 9: EU TENHO ODIO PURO, PURO!  por essas merdas! A quantidade de \"entry level\" , \"part time\",\"iniciante\" só que desces nos requerimentos e logo depois das linguagens que tu sabes. Pedem 5 anos de experiencia profissional!  Não querem saber de projetos individuais que fizeste, de faculdade, do mestrado não. 5 anos de experiencia pra um trabalho de iniciante hahahaha.  Ser iniciante é fudido por isso que sempre digo é entrar na primeira empresa e ficar no grind pelo menos por 1/2 anos até conseguires algo melhor.\n",
      "Comment 10: A 10 anos saí de Portugal, troquei de carreira e comecei a programar, agora estou a planear voltar. Isto é o tipo de merdas q não tenho saudades. \n",
      "Uma das experiências que mais me marcou, foi alguém me pedir 5 anos de experiência em Swift pra IOS (tinha saído meses antes).\n",
      "Outra também me marcou, foi, posição de junior/estágio, mas precisavam de mim para ensinar a pessoa que lá estava a ser paga full time.\n",
      "Tive que me rir, pois na minha entrevista estavam 6 miúdas, que nem 25 anos tinham, que no final me disseram que de qualquer forma a posição não era minha pois já tinha 31...\n",
      "Foram 6 meses de procura para não ter nem uma posição.\n",
      "Vim para Londres e estava a trabalhar 23 dias depois de chegar.\n",
      "Talvez voltar não será a melhor decisão 😆\n",
      "Comment 11: Entry level é o salário, trabalho eles querem o de um sénior\n",
      "Comment 12: Consultating gonna consultate.  InnoTech diz tudo.\n",
      "Comment 13: Devia ser crime contratar o pessoal de RH/Recrutamento que põe isto online.\n",
      "Comment 14: Essa empresa tentou contratar me por duas vezes..\n",
      "\n",
      "Ambas por menos do que eu estava a ganhar na altura, porque \"seria uma ótima oportunidade de crescimento\"\n",
      "Comment 15: Gosto da grafia Crud em vez de CRUD.\n",
      "Comment 16: Prato do dia. Melhor e queimando dizem que é remoto e Júnior e depois na descrição tens de ter 5 anos de experiência e afinal é presencial.\n",
      "\n",
      "Ou então aquelas vagas Júnior que precisas de ser muito bom em 30 linguagens…\n",
      "Comment 17: Mais uma consultoria que é uma piada. Te consideram junior já com mais de 4 anos de experiência e cargos anteriores como nivel pleno. E o ordenamento... risos\n",
      "Comment 18: Deixei de acreditar nestas merdas quando vi um post de alguém estrangeiro sobre uma empresa a pedir 5 anos de experiência num programa que existia há 3 anos e foi criado pelo criador do post\n",
      "Comment 19: Vou vos dar um insight do lado do recrutamento.\n",
      "\n",
      "As definições do ATS e do nível que decidimos para a vaga tem de “coordenar” com várias plataformas, porque quando lanças a vaga é deployed simultaneamente em todos os sítios que estão a publicar.\n",
      "\n",
      "Tanto quanto me lembro, o LinkedIn não tem um equivalente a “mid”, eu na minha empresa também tenho este problema, então tenho de manualmente mudar as vagas especificamente no LinkedIn.\n",
      "\n",
      "Se não se tiver essa atenção ao detalhe (ou se de lidar com um volume maior), este tipo de coisas passam sem ninguém notar.\n",
      "\n",
      "Agora também dou a dica à malta do lado dos devs, às vezes vocês “exigem” que não haja estas falhas, mas depois recebemos os CVs das pessoas e também vêm cheios de calinadas.\n",
      "\n",
      "Conclusão, sejam mais compreensivos overall, ajuda imenso a toda a gente.\n",
      "\n",
      "E em relação à vaga, se diz 5 anos eu guiava-me por aí.\n",
      "Comment 20: Ah uns tempos atrás encontrei uma que pedia um especialista para o lugar de assistente. Com tantas propostas parolas que tenho visto e contactos que parecem programas para os apanhados, é de concluir que os Recursos Humanos são a prova viva de que actualmente podes ir para a universidade tirar um curso e sair de lá a não saber nada nem ser ninguém.\n",
      "Comment 21: It is a scam\n",
      "Comment 22: Pode ter sido um erro criar a job listing também :/ \n",
      "\n",
      "Ou copiaram de outra e ficou assim.... \n",
      "\n",
      "Eu confiava mais na descrição do que no \"Entry Level\" mas é uma merda porque nem eles vão conseguir encontrar pessoas, nem as pessoas encontram a oferta lol\n",
      "Comment 23: Já trabalhei com várias pessoas com vários anos de experiência e eram autênticos juniors...\n",
      "Comment 24: Pah, ler propostas mal feitas a mim já nem me afeta, mas a avalanche de recrutadores a fazer propostas ridículas… já me tira o ar… nunca respondo a tugas e faço um esforço para não os eliminar logo da rede…\n",
      "Comment 25: Podes sempre questionar. Também podes candidatar e depois logo se vê.\n",
      "Comment 26: Foge desses gajos, é só esquemas para não pagarem o que devem. Ex: milímetros fictícios, tickets e afins... deprimente!\n",
      "Comment 27: Precisam de uma pessoa fraquinha… depois de 5 anos de XP continua a ser Júnior. 🤩\n",
      "Comment 28: Geralmente quem escreve descrição de uma vaga não faz ideia do que tá fazendo haha, uma pessoa vai lá e fala que busca um profissional assim, assim e assim, ela só copia e cola, por isso que já vi vaga de Back end e nos requisitos estava que deveria saber Python, c#, Java, php e rust… \n",
      "Já vi vaga que era fronte end, mas pedia que você soubesse gerenciamento de email marketing, SEO,  php com laravel, gerenciar servidor, além de conseguir da manutenção ao servidor ( fisicamente ) sim isso era uma vaga front end que vi no it Jobs kkkkk\n",
      "Comment 29: [removed]\n",
      "Comment 30: Tenho lá amigos e ganham bem\n",
      "Comment 31: Enganaram se a por um dos parâmetros, geralmente usam um predefinido e mudam, só chorões neste sub\n"
     ]
    }
   ],
   "execution_count": 49
  },
  {
   "metadata": {},
   "cell_type": "markdown",
   "source": [
    "## 7. Getting the comments of a comment\n",
    "\n",
    "You can get the comments of a comment by using the replies method of the comment instance."
   ],
   "id": "3baee8622d089a9b"
  },
  {
   "metadata": {
    "ExecuteTime": {
     "end_time": "2024-10-18T21:18:18.460913Z",
     "start_time": "2024-10-18T21:18:17.524665Z"
    }
   },
   "cell_type": "code",
   "source": [
    "top_post = next(subreddit.top(limit=1))\n",
    "\n",
    "for i, top_level_comment in enumerate(top_post.comments):\n",
    "    print(f\"Comment {i+1}: {top_level_comment.body}\")\n",
    "    for j, second_level_comment in enumerate(top_level_comment.replies):\n",
    "        print(f\"Second Level Comment {j+1}: {second_level_comment.body}\")"
   ],
   "id": "9bbf8ab76d99d08e",
   "outputs": [
    {
     "name": "stdout",
     "output_type": "stream",
     "text": [
      "Comment 1: Entry level é para teres ideia do que te querem pagar. ;)\n",
      "Comment 2: Basicamente querem experiência +5 anos com um salário de \"entry level\".\n",
      "Second Level Comment 1: 900 paus , trabalhas de segunda a domingo sempre em reuniões e atarefado mal tens tempo pra sair de casa e quando sais é pra ir a empresa fisicamente.\n",
      "Comment 3: Innotech foi a empresa que após 2 entrevistas muito positivas cagaram na minha existência e não me voltaram a contactar.\n",
      "Second Level Comment 1: Por acaso tive um contacto com eles para um projeto na Bélgica e eles foram bastante agradáveis. Conheço quem esteve lá pela empresa e correu bem apesar de poucos meses de lá chegarem terem mudado de empresa...parece ser um sítio razoável para estar num início de carreira. Uma consultora.\n",
      "Second Level Comment 2: Essa empresa tentou contratar me por duas vezes..\n",
      "\n",
      "Ambas por menos do que eu estava a ganhar na altura, porque \"seria uma ótima oportunidade de crescimento\"\n",
      "Comment 4: Faz me lembrar das propostas que no título dizem “100% remote” e na descrição diz dois dias obrigatórios no escritório por semana\n",
      "Comment 5: Se isso é entry level… senior é 40 anos?\n",
      "Second Level Comment 1: Já vi um auto-intitulado de sénior com 34 anos. No mínimo ridículo, mas é feliz assim.\n",
      "Comment 6: Dropdown é sempre uma coisa complicada para HR. Esqueceram-se de mudar isso.\n",
      "Comment 7: Entre level apenas quer dizer que vais mamar salario minimo xD\n",
      "Comment 8: A job offer está certa, querem alguém com 5 anos de experiência e pagam um salário entry level.\n",
      "\n",
      "Se queres aceitar isso já é contigo 😂\n",
      "Second Level Comment 1: O pior é que tens razão 😂\n",
      "Comment 9: EU TENHO ODIO PURO, PURO!  por essas merdas! A quantidade de \"entry level\" , \"part time\",\"iniciante\" só que desces nos requerimentos e logo depois das linguagens que tu sabes. Pedem 5 anos de experiencia profissional!  Não querem saber de projetos individuais que fizeste, de faculdade, do mestrado não. 5 anos de experiencia pra um trabalho de iniciante hahahaha.  Ser iniciante é fudido por isso que sempre digo é entrar na primeira empresa e ficar no grind pelo menos por 1/2 anos até conseguires algo melhor.\n",
      "Second Level Comment 1: Mestrado tb é engraçado + 300 anos de experiência e saber 10 linguagens.\n",
      " Eu tenho o 9 ano, e trabalho em Londres a 10 anos, aqui só se dá um teste, sabes ou não sabes.\n",
      "Second Level Comment 2: Eu trabalho num nicho de mercado, cobol, odeio quando pedem mestrado ou até mesmo licenciatura, isto nem sequer se ensina na universidade há dezenas de anos…\n",
      "Ou depois pedem com experiência em Java por exemplo, são duas coisas tão diferentes que acho que a quantidade de pessoas a saber as duas linguagens deve ser tipo 0,0001% do mercado mas depois vão-te oferecer 3 sandes de rissois e um ucal em vez de um salário multi milionário que merecias\n",
      "Comment 10: A 10 anos saí de Portugal, troquei de carreira e comecei a programar, agora estou a planear voltar. Isto é o tipo de merdas q não tenho saudades. \n",
      "Uma das experiências que mais me marcou, foi alguém me pedir 5 anos de experiência em Swift pra IOS (tinha saído meses antes).\n",
      "Outra também me marcou, foi, posição de junior/estágio, mas precisavam de mim para ensinar a pessoa que lá estava a ser paga full time.\n",
      "Tive que me rir, pois na minha entrevista estavam 6 miúdas, que nem 25 anos tinham, que no final me disseram que de qualquer forma a posição não era minha pois já tinha 31...\n",
      "Foram 6 meses de procura para não ter nem uma posição.\n",
      "Vim para Londres e estava a trabalhar 23 dias depois de chegar.\n",
      "Talvez voltar não será a melhor decisão 😆\n",
      "Second Level Comment 1: Queres voltar pq já recebeste o suficiente aí? Ou por outras razões?\n",
      "Comment 11: Entry level é o salário, trabalho eles querem o de um sénior\n",
      "Comment 12: Consultating gonna consultate.  InnoTech diz tudo.\n",
      "Comment 13: Devia ser crime contratar o pessoal de RH/Recrutamento que põe isto online.\n",
      "Second Level Comment 1: A culpa não é da malta de RH\n",
      "Comment 14: Essa empresa tentou contratar me por duas vezes..\n",
      "\n",
      "Ambas por menos do que eu estava a ganhar na altura, porque \"seria uma ótima oportunidade de crescimento\"\n",
      "Second Level Comment 1: O crescimento (€) era para eles, não para ti lol\n",
      "Second Level Comment 2: A  mim já tentaram 3x, nunca passamos da fase inicial porque + de 2.4k  brutos para tech lead com + de 10 anos de xp é muito para eles... degradante.\n",
      "Comment 15: Gosto da grafia Crud em vez de CRUD.\n",
      "Second Level Comment 1: Se calhar eles querem veteranos do SQL que trabalharam com servidores que deixam sedimentos oleosos no chão\n",
      "Comment 16: Prato do dia. Melhor e queimando dizem que é remoto e Júnior e depois na descrição tens de ter 5 anos de experiência e afinal é presencial.\n",
      "\n",
      "Ou então aquelas vagas Júnior que precisas de ser muito bom em 30 linguagens…\n",
      "Second Level Comment 1: Só 30 linguagens? Adiciona cloud, containers e ci pipelines.\n",
      "Comment 17: Mais uma consultoria que é uma piada. Te consideram junior já com mais de 4 anos de experiência e cargos anteriores como nivel pleno. E o ordenamento... risos\n",
      "Comment 18: Deixei de acreditar nestas merdas quando vi um post de alguém estrangeiro sobre uma empresa a pedir 5 anos de experiência num programa que existia há 3 anos e foi criado pelo criador do post\n",
      "Second Level Comment 1: Eu recordo vagamente dessa situação, fartei-me de rir com isso e gozei muito com a malta dos RH 🤣\n",
      "Second Level Comment 2: Tb me aconteceu o mm, swift pra IOS em 2014, saiu meses antes, mas as bestas queriam 5 anos de experiência.\n",
      "Comment 19: Vou vos dar um insight do lado do recrutamento.\n",
      "\n",
      "As definições do ATS e do nível que decidimos para a vaga tem de “coordenar” com várias plataformas, porque quando lanças a vaga é deployed simultaneamente em todos os sítios que estão a publicar.\n",
      "\n",
      "Tanto quanto me lembro, o LinkedIn não tem um equivalente a “mid”, eu na minha empresa também tenho este problema, então tenho de manualmente mudar as vagas especificamente no LinkedIn.\n",
      "\n",
      "Se não se tiver essa atenção ao detalhe (ou se de lidar com um volume maior), este tipo de coisas passam sem ninguém notar.\n",
      "\n",
      "Agora também dou a dica à malta do lado dos devs, às vezes vocês “exigem” que não haja estas falhas, mas depois recebemos os CVs das pessoas e também vêm cheios de calinadas.\n",
      "\n",
      "Conclusão, sejam mais compreensivos overall, ajuda imenso a toda a gente.\n",
      "\n",
      "E em relação à vaga, se diz 5 anos eu guiava-me por aí.\n",
      "Second Level Comment 1: Escreves com bom senso a uma pessoa perfeita que faz todos os seus desenvolvimentos à primeira sem bugs /s\n",
      "Second Level Comment 2: Bom insight :)\n",
      "\n",
      "Claro que neste caso não deve passar de um lapso... No entanto, também me preocupa muitas vezes a falta de brio com que a malta aparenta postar estas vagas. Claro que um CV sem calinadas é o mínimo, mas caramba já vi vagas em Inglês a pedir \"fluência\" mas depois escrevem tretas como \"destinies\" como tradução de \"destinatários\", \"an company\", vírgulas entre o sujeito e o predicado e coisas do género. Isso passa 0 confiança.\n",
      "Comment 20: Ah uns tempos atrás encontrei uma que pedia um especialista para o lugar de assistente. Com tantas propostas parolas que tenho visto e contactos que parecem programas para os apanhados, é de concluir que os Recursos Humanos são a prova viva de que actualmente podes ir para a universidade tirar um curso e sair de lá a não saber nada nem ser ninguém.\n",
      "Comment 21: It is a scam\n",
      "Comment 22: Pode ter sido um erro criar a job listing também :/ \n",
      "\n",
      "Ou copiaram de outra e ficou assim.... \n",
      "\n",
      "Eu confiava mais na descrição do que no \"Entry Level\" mas é uma merda porque nem eles vão conseguir encontrar pessoas, nem as pessoas encontram a oferta lol\n",
      "Comment 23: Já trabalhei com várias pessoas com vários anos de experiência e eram autênticos juniors...\n",
      "Second Level Comment 1: Está frase também é uma treta, eram juniores em quê? Tooling? Mudaram de stack tecnologica? Não sabiam algum tipo de conceito? Não percebiam o negócio?\n",
      "\n",
      "Há tanto que se lhe diga nestes rótulos, já vi malta classificada como junior a dar 10 a zero a seniores e já vi seniores a mostrar exatamente o que isso significa.\n",
      "\n",
      "\n",
      "Há bons e maus profissionais, a única coisa que concordo é que anos de experiência não querem dizer grande coisa, e isso é igual em tudo, 10 anos a fazer a mesma coisa da mesma maneira não dá para aprender, apenas para mecanizar.\n",
      "Second Level Comment 2: Junim de 10anos\n",
      "Second Level Comment 3: Com todo o respeito, se tens vários anos de experiência e n progrides isso diz muito do nivel de intelecto\n",
      "A n ser q o teu trabalho deja super repetitivo tens q ir evoluindo com o tempo\n",
      "Comment 24: Pah, ler propostas mal feitas a mim já nem me afeta, mas a avalanche de recrutadores a fazer propostas ridículas… já me tira o ar… nunca respondo a tugas e faço um esforço para não os eliminar logo da rede…\n",
      "Comment 25: Podes sempre questionar. Também podes candidatar e depois logo se vê.\n",
      "Second Level Comment 1: Agradeço a sugestão, mas sinceramente era mais um desabafo/rant depois de ter visto aquilo. Nem estou interessado na empresa\n",
      "Comment 26: Foge desses gajos, é só esquemas para não pagarem o que devem. Ex: milímetros fictícios, tickets e afins... deprimente!\n",
      "Comment 27: Precisam de uma pessoa fraquinha… depois de 5 anos de XP continua a ser Júnior. 🤩\n",
      "Comment 28: Geralmente quem escreve descrição de uma vaga não faz ideia do que tá fazendo haha, uma pessoa vai lá e fala que busca um profissional assim, assim e assim, ela só copia e cola, por isso que já vi vaga de Back end e nos requisitos estava que deveria saber Python, c#, Java, php e rust… \n",
      "Já vi vaga que era fronte end, mas pedia que você soubesse gerenciamento de email marketing, SEO,  php com laravel, gerenciar servidor, além de conseguir da manutenção ao servidor ( fisicamente ) sim isso era uma vaga front end que vi no it Jobs kkkkk\n",
      "Comment 29: [removed]\n",
      "Second Level Comment 1: Obrigado pelo teu interesse em utilizar este subreddit. Para combater spam e throwaways, contas recentes **não** podem submeter conteúdo ou comentar. Por favor **NÃO** contactes via modmail a pedir aprovação, explora o Reddit e utiliza outros subs primeiro. Obrigado.\n",
      "\n",
      "*I am a bot, and this action was performed automatically. Please [contact the moderators of this subreddit](/message/compose/?to=/r/devpt) if you have any questions or concerns.*\n",
      "Comment 30: Tenho lá amigos e ganham bem\n",
      "Second Level Comment 1: Quanto?\n",
      "Second Level Comment 2: BS... pagam mal que doi.\n",
      "Comment 31: Enganaram se a por um dos parâmetros, geralmente usam um predefinido e mudam, só chorões neste sub\n",
      "Second Level Comment 1: Lol não é nada. 1 em cada 3 ofertas de entry level são assim. Não cometem todos o mesmo \"erro\". Anda lá.\n",
      "Second Level Comment 2: Não se enganaram não :)\n",
      "Second Level Comment 3: E com razão. As pessoas que filtram por uma vaga de senior/mid nao vão ver essa vaga porque está mal configurada.\n",
      "\n",
      "A meu ver, isto significa menos job offers que aparecem para essas pessoas; desperdício de tempo dos juniors; menos candidatos para a vaga; e mais candidaturas de juniors para os recrutadores, que presumo que não seja esse o objetivo\n"
     ]
    }
   ],
   "execution_count": 54
  },
  {
   "metadata": {},
   "cell_type": "markdown",
   "source": [
    "## 8. Posting a submission\n",
    "\n",
    "You can post a submission to a subreddit by using the submit method of the subreddit instance.\n",
    "\n",
    "We will use a subreddit named \"testingground4bots\" that is used for testing bots."
   ],
   "id": "3ffae08ee40fd357"
  },
  {
   "metadata": {
    "ExecuteTime": {
     "end_time": "2024-10-18T21:22:46.580449Z",
     "start_time": "2024-10-18T21:22:46.092273Z"
    }
   },
   "cell_type": "code",
   "source": [
    "subreddit = reddit_instance.subreddit(\"testingground4bots\")\n",
    "post = subreddit.submit(\"Dummy Submission\", selftext=\"This is a dummy submission.\")"
   ],
   "id": "e2395a2cf7f63858",
   "outputs": [
    {
     "data": {
      "text/plain": [
       "Submission(id='1g6t1ub')"
      ]
     },
     "execution_count": 55,
     "metadata": {},
     "output_type": "execute_result"
    }
   ],
   "execution_count": 55
  },
  {
   "metadata": {},
   "cell_type": "markdown",
   "source": [
    "## 9. Making a comment\n",
    "\n",
    "You can make a comment on a post by using the reply method of the post instance."
   ],
   "id": "de5787b2d0b3079"
  },
  {
   "metadata": {
    "ExecuteTime": {
     "end_time": "2024-10-18T21:25:47.443750Z",
     "start_time": "2024-10-18T21:25:47.049076Z"
    }
   },
   "cell_type": "code",
   "source": [
    "# post = reddit_instance.submission(id=\"1g6t1ub\")\n",
    "reply = post.reply(\"This is a dummy comment.\")"
   ],
   "id": "70310ef376c8c102",
   "outputs": [
    {
     "data": {
      "text/plain": [
       "Comment(id='lslb6s1')"
      ]
     },
     "execution_count": 56,
     "metadata": {},
     "output_type": "execute_result"
    }
   ],
   "execution_count": 56
  },
  {
   "metadata": {},
   "cell_type": "markdown",
   "source": "## Commenting a comment",
   "id": "18fe9e0c8f316c3"
  },
  {
   "metadata": {
    "ExecuteTime": {
     "end_time": "2024-10-18T21:28:53.371445Z",
     "start_time": "2024-10-18T21:28:52.891598Z"
    }
   },
   "cell_type": "code",
   "source": [
    "# reply = reddit_instance.comment(id=\"lslb6s1\")\n",
    "reply_reply = reply.reply(\"This is a dummy reply to a comment.\")"
   ],
   "id": "be1d01fa2ee6a111",
   "outputs": [],
   "execution_count": 59
  },
  {
   "metadata": {},
   "cell_type": "markdown",
   "source": "## 10. Upvoting a post and a comment",
   "id": "3a43dfbe91756efe"
  },
  {
   "metadata": {
    "ExecuteTime": {
     "end_time": "2024-10-18T21:29:51.917557Z",
     "start_time": "2024-10-18T21:29:51.710633Z"
    }
   },
   "cell_type": "code",
   "source": "post.upvote()",
   "id": "a687fda63618d62d",
   "outputs": [],
   "execution_count": 60
  },
  {
   "metadata": {
    "ExecuteTime": {
     "end_time": "2024-10-18T21:30:51.976099Z",
     "start_time": "2024-10-18T21:30:51.750673Z"
    }
   },
   "cell_type": "code",
   "source": "reply.upvote()",
   "id": "125761e7cb03137a",
   "outputs": [],
   "execution_count": 61
  },
  {
   "metadata": {},
   "cell_type": "markdown",
   "source": "## 11. Searching reddit and subreddits",
   "id": "8fe22081f5dd1294"
  },
  {
   "metadata": {
    "ExecuteTime": {
     "end_time": "2024-10-21T12:58:04.619257Z",
     "start_time": "2024-10-21T12:58:04.126892Z"
    }
   },
   "cell_type": "code",
   "source": [
    "vagas = reddit_instance.subreddit(\"all\").search(\"vaga python\", limit=5, time_filter=\"month\")\n",
    "for vaga in vagas:\n",
    "    print(vaga.title)"
   ],
   "id": "96ea2d57584f3b39",
   "outputs": [
    {
     "name": "stdout",
     "output_type": "stream",
     "text": [
      "Vaga remota - Senior e intermediate python developers\n",
      "Querido(a) dev: o fim do brilhantismo (testao.txt)\n",
      "Crise dos 30\n",
      "Surpreso com a quantidade de gente tentando vagas de embarcados\n",
      "Esse mercado ta acabando comigo\n"
     ]
    }
   ],
   "execution_count": 68
  },
  {
   "metadata": {},
   "cell_type": "code",
   "outputs": [],
   "execution_count": null,
   "source": "",
   "id": "63b2506217586ce9"
  }
 ],
 "metadata": {
  "kernelspec": {
   "display_name": "Python 3",
   "language": "python",
   "name": "python3"
  },
  "language_info": {
   "codemirror_mode": {
    "name": "ipython",
    "version": 2
   },
   "file_extension": ".py",
   "mimetype": "text/x-python",
   "name": "python",
   "nbconvert_exporter": "python",
   "pygments_lexer": "ipython2",
   "version": "2.7.6"
  }
 },
 "nbformat": 4,
 "nbformat_minor": 5
}
