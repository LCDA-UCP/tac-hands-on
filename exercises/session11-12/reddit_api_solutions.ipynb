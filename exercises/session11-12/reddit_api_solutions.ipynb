{
 "cells": [
  {
   "cell_type": "markdown",
   "id": "ddb88b017a581c2d",
   "metadata": {},
   "source": [
    "# Using the praw library to interact with the Reddit API"
   ]
  },
  {
   "cell_type": "markdown",
   "id": "4463adab692d4f9e",
   "metadata": {},
   "source": [
    "## Pre-requisites\n",
    "\n",
    "### 1. Create a Reddit account\n",
    "\n",
    "I recommend creating a separate account for your bot. \n",
    "\n",
    "You can use your personal account, but it's not recommended. \n",
    "\n",
    "You may accidentally do something that gets your account banned.\n",
    "    \n",
    "### 2. Create a Reddit App\n",
    "\n",
    "After creating an account, make sure you're logged in and go to https://www.reddit.com/prefs/apps.\n",
    "\n",
    "Click the \"are you a developer? create an app...\" or \"create another app...\" button.\n",
    "\n",
    "Fill out the form like so:\n",
    "- name: My Bot (or whatever you want to call it)\n",
    "- App type: script\n",
    "- description: My Bot (or whatever you want to call it)\n",
    "- about url: leave blank\n",
    "- redirect uri: http://localhost:8080\n",
    "\n",
    "Click the \"create app\" button.\n",
    "\n",
    "You should now see a page with your app's client ID and client secret.\n",
    "\n",
    "You will need these to authenticate with the Reddit API.\n",
    "\n",
    "### 3. Install praw\n",
    "\n",
    "Praw is a Python wrapper for the Reddit API.\n",
    "\n",
    "You can install it with pip:\n",
    "\n",
    "```bash\n",
    "pip install praw\n",
    "```\n",
    "\n",
    "Because praw it already listed in the requirements.txt file, you can install it by running the following command:\n",
    "    \n",
    "```bash\n",
    "pip install -r requirements.txt\n",
    "``` \n",
    "\n",
    "### 4. Create a .env file in the root directory of the project\n",
    "\n",
    "Create a file called `.env` in the root directory of the project.\n",
    "\n",
    "Add the following lines to the file:\n",
    "\n",
    "```txt\n",
    "R_CLIENT_ID=\"your_client_id\"\n",
    "R_CLIENT_SECRET=\"your_client_secret\"\n",
    "R_USER_AGENT=\"your_user_agent\"\n",
    "R_USERNAME=\"your_username\"\n",
    "\n",
    "R_PASSWORD=\"your_password\"\n",
    "```\n",
    "\n",
    "Replace the values with the client ID and client secret from the Reddit app you created earlier.\n",
    "Replace the user agent with a unique string that describes your bot.\n",
    "Replace the username and password with the credentials for the Reddit account you created earlier.\n",
    "\n",
    "Add the `.env` file to your `.gitignore` file to prevent it from being committed to the repository. Note: our current `.gitignore` file already has the `.env` file added to it. So you don't need to add it again.\n",
    "\n",
    "### 5. Install the python-dotenv library\n",
    "\n",
    "The python-dotenv library is used to load environment variables from a .env file.\n",
    "\n",
    "You can install it with pip:\n",
    "\n",
    "```bash\n",
    "pip install python-dotenv\n",
    "```\n",
    "    \n",
    "Because python-dotenv it already listed in the requirements.txt file, you can install it by running the following command:\n",
    "        \n",
    "```bash\n",
    "pip install -r requirements.txt\n",
    "```\n",
    "    \n",
    "\n",
    "\n",
    "\n",
    "\n",
    "\n",
    "\n",
    "\n",
    "\n",
    "\n",
    "\n",
    "\n",
    "\n"
   ]
  },
  {
   "cell_type": "markdown",
   "id": "9753aae7160d3c5d",
   "metadata": {},
   "source": [
    "# Let's Get Started"
   ]
  },
  {
   "cell_type": "markdown",
   "id": "be38035c6bf87b20",
   "metadata": {},
   "source": [
    "## 1. Let's Start by Importing the praw Library"
   ]
  },
  {
   "cell_type": "code",
   "execution_count": 1,
   "id": "e893c7500b96018b",
   "metadata": {
    "ExecuteTime": {
     "end_time": "2024-10-24T15:11:40.103858Z",
     "start_time": "2024-10-24T15:11:39.991560Z"
    }
   },
   "outputs": [],
   "source": [
    "import praw"
   ]
  },
  {
   "cell_type": "markdown",
   "id": "e4f47ae7a6c65728",
   "metadata": {},
   "source": [
    "## 2. Load the environment variables\n",
    "\n",
    "To use the Reddit API, you need to authenticate with your Reddit account."
   ]
  },
  {
   "cell_type": "code",
   "execution_count": 2,
   "id": "86688eaa4ea1d3a9",
   "metadata": {
    "ExecuteTime": {
     "end_time": "2024-10-24T15:11:40.127766Z",
     "start_time": "2024-10-24T15:11:40.117382Z"
    }
   },
   "outputs": [],
   "source": [
    "from dotenv import load_dotenv\n",
    "import os\n",
    "\n",
    "load_dotenv()\n",
    "\n",
    "CLIENT_ID = os.getenv(\"R_CLIENT_ID\")\n",
    "CLIENT_SECRET = os.getenv(\"R_CLIENT_SECRET\")\n",
    "USER_AGENT = os.getenv(\"R_USER_AGENT\")\n",
    "USERNAME = os.getenv(\"R_USERNAME\")\n",
    "PASSWORD = os.getenv(\"R_PASSWORD\")"
   ]
  },
  {
   "cell_type": "markdown",
   "id": "2e2547dcf00905ad",
   "metadata": {},
   "source": [
    "## 3. Create a Reddit Instance\n",
    "\n",
    "You can create a Reddit instance by passing the client ID, client secret, user agent, username, and password to the praw.Reddit class.\n",
    "You can then check if the instance was created successfully by printing the username of the authenticated user."
   ]
  },
  {
   "cell_type": "code",
   "execution_count": 3,
   "id": "234d11a3c12a3d42",
   "metadata": {
    "ExecuteTime": {
     "end_time": "2024-10-24T15:11:47.030020Z",
     "start_time": "2024-10-24T15:11:42.886248Z"
    }
   },
   "outputs": [
    {
     "name": "stderr",
     "output_type": "stream",
     "text": [
      "Version 7.8.0 of praw is outdated. Version 7.8.1 was released Friday October 25, 2024.\n"
     ]
    }
   ],
   "source": [
    "reddit_instance = praw.Reddit(\n",
    "    client_id=CLIENT_ID,\n",
    "    client_secret=CLIENT_SECRET,\n",
    "    user_agent=USER_AGENT,\n",
    "    username=USERNAME,\n",
    "    password=PASSWORD\n",
    ")"
   ]
  },
  {
   "cell_type": "code",
   "execution_count": 4,
   "id": "a2d228df0c51547b",
   "metadata": {
    "ExecuteTime": {
     "start_time": "2024-10-24T15:11:47.837311Z"
    },
    "jupyter": {
     "is_executing": true
    }
   },
   "outputs": [
    {
     "ename": "ResponseException",
     "evalue": "received 401 HTTP response",
     "output_type": "error",
     "traceback": [
      "\u001b[1;31m---------------------------------------------------------------------------\u001b[0m",
      "\u001b[1;31mResponseException\u001b[0m                         Traceback (most recent call last)",
      "Cell \u001b[1;32mIn[4], line 1\u001b[0m\n\u001b[1;32m----> 1\u001b[0m \u001b[38;5;28mprint\u001b[39m(\u001b[43mreddit_instance\u001b[49m\u001b[38;5;241;43m.\u001b[39;49m\u001b[43muser\u001b[49m\u001b[38;5;241;43m.\u001b[39;49m\u001b[43mme\u001b[49m\u001b[43m(\u001b[49m\u001b[43m)\u001b[49m)\n",
      "File \u001b[1;32mc:\\Users\\diogo\\miniconda3\\envs\\tac-hands-on\\lib\\site-packages\\praw\\util\\deprecate_args.py:46\u001b[0m, in \u001b[0;36m_deprecate_args.<locals>.wrapper.<locals>.wrapped\u001b[1;34m(*args, **kwargs)\u001b[0m\n\u001b[0;32m     39\u001b[0m     arg_string \u001b[38;5;241m=\u001b[39m _generate_arg_string(_old_args[: \u001b[38;5;28mlen\u001b[39m(args)])\n\u001b[0;32m     40\u001b[0m     warn(\n\u001b[0;32m     41\u001b[0m         \u001b[38;5;124mf\u001b[39m\u001b[38;5;124m\"\u001b[39m\u001b[38;5;124mPositional arguments for \u001b[39m\u001b[38;5;132;01m{\u001b[39;00mfunc\u001b[38;5;241m.\u001b[39m\u001b[38;5;18m__qualname__\u001b[39m\u001b[38;5;132;01m!r}\u001b[39;00m\u001b[38;5;124m will no longer be\u001b[39m\u001b[38;5;124m\"\u001b[39m\n\u001b[0;32m     42\u001b[0m         \u001b[38;5;124mf\u001b[39m\u001b[38;5;124m\"\u001b[39m\u001b[38;5;124m supported in PRAW 8.\u001b[39m\u001b[38;5;130;01m\\n\u001b[39;00m\u001b[38;5;124mCall this function with \u001b[39m\u001b[38;5;132;01m{\u001b[39;00marg_string\u001b[38;5;132;01m}\u001b[39;00m\u001b[38;5;124m.\u001b[39m\u001b[38;5;124m\"\u001b[39m,\n\u001b[0;32m     43\u001b[0m         \u001b[38;5;167;01mDeprecationWarning\u001b[39;00m,\n\u001b[0;32m     44\u001b[0m         stacklevel\u001b[38;5;241m=\u001b[39m\u001b[38;5;241m2\u001b[39m,\n\u001b[0;32m     45\u001b[0m     )\n\u001b[1;32m---> 46\u001b[0m \u001b[38;5;28;01mreturn\u001b[39;00m func(\u001b[38;5;241m*\u001b[39m\u001b[38;5;241m*\u001b[39m\u001b[38;5;28mdict\u001b[39m(\u001b[38;5;28mzip\u001b[39m(_old_args, args)), \u001b[38;5;241m*\u001b[39m\u001b[38;5;241m*\u001b[39mkwargs)\n",
      "File \u001b[1;32mc:\\Users\\diogo\\miniconda3\\envs\\tac-hands-on\\lib\\site-packages\\praw\\models\\user.py:170\u001b[0m, in \u001b[0;36mUser.me\u001b[1;34m(self, use_cache)\u001b[0m\n\u001b[0;32m    168\u001b[0m     \u001b[38;5;28;01mraise\u001b[39;00m ReadOnlyException(msg)\n\u001b[0;32m    169\u001b[0m \u001b[38;5;28;01mif\u001b[39;00m \u001b[38;5;124m\"\u001b[39m\u001b[38;5;124m_me\u001b[39m\u001b[38;5;124m\"\u001b[39m \u001b[38;5;129;01mnot\u001b[39;00m \u001b[38;5;129;01min\u001b[39;00m \u001b[38;5;28mself\u001b[39m\u001b[38;5;241m.\u001b[39m\u001b[38;5;18m__dict__\u001b[39m \u001b[38;5;129;01mor\u001b[39;00m \u001b[38;5;129;01mnot\u001b[39;00m use_cache:\n\u001b[1;32m--> 170\u001b[0m     user_data \u001b[38;5;241m=\u001b[39m \u001b[38;5;28;43mself\u001b[39;49m\u001b[38;5;241;43m.\u001b[39;49m\u001b[43m_reddit\u001b[49m\u001b[38;5;241;43m.\u001b[39;49m\u001b[43mget\u001b[49m\u001b[43m(\u001b[49m\u001b[43mAPI_PATH\u001b[49m\u001b[43m[\u001b[49m\u001b[38;5;124;43m\"\u001b[39;49m\u001b[38;5;124;43mme\u001b[39;49m\u001b[38;5;124;43m\"\u001b[39;49m\u001b[43m]\u001b[49m\u001b[43m)\u001b[49m\n\u001b[0;32m    171\u001b[0m     \u001b[38;5;28mself\u001b[39m\u001b[38;5;241m.\u001b[39m_me \u001b[38;5;241m=\u001b[39m Redditor(\u001b[38;5;28mself\u001b[39m\u001b[38;5;241m.\u001b[39m_reddit, _data\u001b[38;5;241m=\u001b[39muser_data)\n\u001b[0;32m    172\u001b[0m \u001b[38;5;28;01mreturn\u001b[39;00m \u001b[38;5;28mself\u001b[39m\u001b[38;5;241m.\u001b[39m_me\n",
      "File \u001b[1;32mc:\\Users\\diogo\\miniconda3\\envs\\tac-hands-on\\lib\\site-packages\\praw\\util\\deprecate_args.py:46\u001b[0m, in \u001b[0;36m_deprecate_args.<locals>.wrapper.<locals>.wrapped\u001b[1;34m(*args, **kwargs)\u001b[0m\n\u001b[0;32m     39\u001b[0m     arg_string \u001b[38;5;241m=\u001b[39m _generate_arg_string(_old_args[: \u001b[38;5;28mlen\u001b[39m(args)])\n\u001b[0;32m     40\u001b[0m     warn(\n\u001b[0;32m     41\u001b[0m         \u001b[38;5;124mf\u001b[39m\u001b[38;5;124m\"\u001b[39m\u001b[38;5;124mPositional arguments for \u001b[39m\u001b[38;5;132;01m{\u001b[39;00mfunc\u001b[38;5;241m.\u001b[39m\u001b[38;5;18m__qualname__\u001b[39m\u001b[38;5;132;01m!r}\u001b[39;00m\u001b[38;5;124m will no longer be\u001b[39m\u001b[38;5;124m\"\u001b[39m\n\u001b[0;32m     42\u001b[0m         \u001b[38;5;124mf\u001b[39m\u001b[38;5;124m\"\u001b[39m\u001b[38;5;124m supported in PRAW 8.\u001b[39m\u001b[38;5;130;01m\\n\u001b[39;00m\u001b[38;5;124mCall this function with \u001b[39m\u001b[38;5;132;01m{\u001b[39;00marg_string\u001b[38;5;132;01m}\u001b[39;00m\u001b[38;5;124m.\u001b[39m\u001b[38;5;124m\"\u001b[39m,\n\u001b[0;32m     43\u001b[0m         \u001b[38;5;167;01mDeprecationWarning\u001b[39;00m,\n\u001b[0;32m     44\u001b[0m         stacklevel\u001b[38;5;241m=\u001b[39m\u001b[38;5;241m2\u001b[39m,\n\u001b[0;32m     45\u001b[0m     )\n\u001b[1;32m---> 46\u001b[0m \u001b[38;5;28;01mreturn\u001b[39;00m func(\u001b[38;5;241m*\u001b[39m\u001b[38;5;241m*\u001b[39m\u001b[38;5;28mdict\u001b[39m(\u001b[38;5;28mzip\u001b[39m(_old_args, args)), \u001b[38;5;241m*\u001b[39m\u001b[38;5;241m*\u001b[39mkwargs)\n",
      "File \u001b[1;32mc:\\Users\\diogo\\miniconda3\\envs\\tac-hands-on\\lib\\site-packages\\praw\\reddit.py:731\u001b[0m, in \u001b[0;36mReddit.get\u001b[1;34m(self, path, params)\u001b[0m\n\u001b[0;32m    718\u001b[0m \u001b[38;5;129m@_deprecate_args\u001b[39m(\u001b[38;5;124m\"\u001b[39m\u001b[38;5;124mpath\u001b[39m\u001b[38;5;124m\"\u001b[39m, \u001b[38;5;124m\"\u001b[39m\u001b[38;5;124mparams\u001b[39m\u001b[38;5;124m\"\u001b[39m)\n\u001b[0;32m    719\u001b[0m \u001b[38;5;28;01mdef\u001b[39;00m \u001b[38;5;21mget\u001b[39m(\n\u001b[0;32m    720\u001b[0m     \u001b[38;5;28mself\u001b[39m,\n\u001b[1;32m   (...)\u001b[0m\n\u001b[0;32m    723\u001b[0m     params: \u001b[38;5;28mstr\u001b[39m \u001b[38;5;241m|\u001b[39m \u001b[38;5;28mdict\u001b[39m[\u001b[38;5;28mstr\u001b[39m, \u001b[38;5;28mstr\u001b[39m \u001b[38;5;241m|\u001b[39m \u001b[38;5;28mint\u001b[39m] \u001b[38;5;241m|\u001b[39m \u001b[38;5;28;01mNone\u001b[39;00m \u001b[38;5;241m=\u001b[39m \u001b[38;5;28;01mNone\u001b[39;00m,\n\u001b[0;32m    724\u001b[0m ) \u001b[38;5;241m-\u001b[39m\u001b[38;5;241m>\u001b[39m Any:\n\u001b[0;32m    725\u001b[0m \u001b[38;5;250m    \u001b[39m\u001b[38;5;124;03m\"\"\"Return parsed objects returned from a GET request to ``path``.\u001b[39;00m\n\u001b[0;32m    726\u001b[0m \n\u001b[0;32m    727\u001b[0m \u001b[38;5;124;03m    :param path: The path to fetch.\u001b[39;00m\n\u001b[0;32m    728\u001b[0m \u001b[38;5;124;03m    :param params: The query parameters to add to the request (default: ``None``).\u001b[39;00m\n\u001b[0;32m    729\u001b[0m \n\u001b[0;32m    730\u001b[0m \u001b[38;5;124;03m    \"\"\"\u001b[39;00m\n\u001b[1;32m--> 731\u001b[0m     \u001b[38;5;28;01mreturn\u001b[39;00m \u001b[38;5;28;43mself\u001b[39;49m\u001b[38;5;241;43m.\u001b[39;49m\u001b[43m_objectify_request\u001b[49m\u001b[43m(\u001b[49m\u001b[43mmethod\u001b[49m\u001b[38;5;241;43m=\u001b[39;49m\u001b[38;5;124;43m\"\u001b[39;49m\u001b[38;5;124;43mGET\u001b[39;49m\u001b[38;5;124;43m\"\u001b[39;49m\u001b[43m,\u001b[49m\u001b[43m \u001b[49m\u001b[43mparams\u001b[49m\u001b[38;5;241;43m=\u001b[39;49m\u001b[43mparams\u001b[49m\u001b[43m,\u001b[49m\u001b[43m \u001b[49m\u001b[43mpath\u001b[49m\u001b[38;5;241;43m=\u001b[39;49m\u001b[43mpath\u001b[49m\u001b[43m)\u001b[49m\n",
      "File \u001b[1;32mc:\\Users\\diogo\\miniconda3\\envs\\tac-hands-on\\lib\\site-packages\\praw\\reddit.py:514\u001b[0m, in \u001b[0;36mReddit._objectify_request\u001b[1;34m(self, data, files, json, method, params, path)\u001b[0m\n\u001b[0;32m    488\u001b[0m \u001b[38;5;28;01mdef\u001b[39;00m \u001b[38;5;21m_objectify_request\u001b[39m(\n\u001b[0;32m    489\u001b[0m     \u001b[38;5;28mself\u001b[39m,\n\u001b[0;32m    490\u001b[0m     \u001b[38;5;241m*\u001b[39m,\n\u001b[1;32m   (...)\u001b[0m\n\u001b[0;32m    496\u001b[0m     path: \u001b[38;5;28mstr\u001b[39m \u001b[38;5;241m=\u001b[39m \u001b[38;5;124m\"\u001b[39m\u001b[38;5;124m\"\u001b[39m,\n\u001b[0;32m    497\u001b[0m ) \u001b[38;5;241m-\u001b[39m\u001b[38;5;241m>\u001b[39m Any:\n\u001b[0;32m    498\u001b[0m \u001b[38;5;250m    \u001b[39m\u001b[38;5;124;03m\"\"\"Run a request through the ``Objector``.\u001b[39;00m\n\u001b[0;32m    499\u001b[0m \n\u001b[0;32m    500\u001b[0m \u001b[38;5;124;03m    :param data: Dictionary, bytes, or file-like object to send in the body of the\u001b[39;00m\n\u001b[1;32m   (...)\u001b[0m\n\u001b[0;32m    511\u001b[0m \n\u001b[0;32m    512\u001b[0m \u001b[38;5;124;03m    \"\"\"\u001b[39;00m\n\u001b[0;32m    513\u001b[0m     \u001b[38;5;28;01mreturn\u001b[39;00m \u001b[38;5;28mself\u001b[39m\u001b[38;5;241m.\u001b[39m_objector\u001b[38;5;241m.\u001b[39mobjectify(\n\u001b[1;32m--> 514\u001b[0m         \u001b[38;5;28;43mself\u001b[39;49m\u001b[38;5;241;43m.\u001b[39;49m\u001b[43mrequest\u001b[49m\u001b[43m(\u001b[49m\n\u001b[0;32m    515\u001b[0m \u001b[43m            \u001b[49m\u001b[43mdata\u001b[49m\u001b[38;5;241;43m=\u001b[39;49m\u001b[43mdata\u001b[49m\u001b[43m,\u001b[49m\n\u001b[0;32m    516\u001b[0m \u001b[43m            \u001b[49m\u001b[43mfiles\u001b[49m\u001b[38;5;241;43m=\u001b[39;49m\u001b[43mfiles\u001b[49m\u001b[43m,\u001b[49m\n\u001b[0;32m    517\u001b[0m \u001b[43m            \u001b[49m\u001b[43mjson\u001b[49m\u001b[38;5;241;43m=\u001b[39;49m\u001b[43mjson\u001b[49m\u001b[43m,\u001b[49m\n\u001b[0;32m    518\u001b[0m \u001b[43m            \u001b[49m\u001b[43mmethod\u001b[49m\u001b[38;5;241;43m=\u001b[39;49m\u001b[43mmethod\u001b[49m\u001b[43m,\u001b[49m\n\u001b[0;32m    519\u001b[0m \u001b[43m            \u001b[49m\u001b[43mparams\u001b[49m\u001b[38;5;241;43m=\u001b[39;49m\u001b[43mparams\u001b[49m\u001b[43m,\u001b[49m\n\u001b[0;32m    520\u001b[0m \u001b[43m            \u001b[49m\u001b[43mpath\u001b[49m\u001b[38;5;241;43m=\u001b[39;49m\u001b[43mpath\u001b[49m\u001b[43m,\u001b[49m\n\u001b[0;32m    521\u001b[0m \u001b[43m        \u001b[49m\u001b[43m)\u001b[49m\n\u001b[0;32m    522\u001b[0m     )\n",
      "File \u001b[1;32mc:\\Users\\diogo\\miniconda3\\envs\\tac-hands-on\\lib\\site-packages\\praw\\util\\deprecate_args.py:46\u001b[0m, in \u001b[0;36m_deprecate_args.<locals>.wrapper.<locals>.wrapped\u001b[1;34m(*args, **kwargs)\u001b[0m\n\u001b[0;32m     39\u001b[0m     arg_string \u001b[38;5;241m=\u001b[39m _generate_arg_string(_old_args[: \u001b[38;5;28mlen\u001b[39m(args)])\n\u001b[0;32m     40\u001b[0m     warn(\n\u001b[0;32m     41\u001b[0m         \u001b[38;5;124mf\u001b[39m\u001b[38;5;124m\"\u001b[39m\u001b[38;5;124mPositional arguments for \u001b[39m\u001b[38;5;132;01m{\u001b[39;00mfunc\u001b[38;5;241m.\u001b[39m\u001b[38;5;18m__qualname__\u001b[39m\u001b[38;5;132;01m!r}\u001b[39;00m\u001b[38;5;124m will no longer be\u001b[39m\u001b[38;5;124m\"\u001b[39m\n\u001b[0;32m     42\u001b[0m         \u001b[38;5;124mf\u001b[39m\u001b[38;5;124m\"\u001b[39m\u001b[38;5;124m supported in PRAW 8.\u001b[39m\u001b[38;5;130;01m\\n\u001b[39;00m\u001b[38;5;124mCall this function with \u001b[39m\u001b[38;5;132;01m{\u001b[39;00marg_string\u001b[38;5;132;01m}\u001b[39;00m\u001b[38;5;124m.\u001b[39m\u001b[38;5;124m\"\u001b[39m,\n\u001b[0;32m     43\u001b[0m         \u001b[38;5;167;01mDeprecationWarning\u001b[39;00m,\n\u001b[0;32m     44\u001b[0m         stacklevel\u001b[38;5;241m=\u001b[39m\u001b[38;5;241m2\u001b[39m,\n\u001b[0;32m     45\u001b[0m     )\n\u001b[1;32m---> 46\u001b[0m \u001b[38;5;28;01mreturn\u001b[39;00m func(\u001b[38;5;241m*\u001b[39m\u001b[38;5;241m*\u001b[39m\u001b[38;5;28mdict\u001b[39m(\u001b[38;5;28mzip\u001b[39m(_old_args, args)), \u001b[38;5;241m*\u001b[39m\u001b[38;5;241m*\u001b[39mkwargs)\n",
      "File \u001b[1;32mc:\\Users\\diogo\\miniconda3\\envs\\tac-hands-on\\lib\\site-packages\\praw\\reddit.py:963\u001b[0m, in \u001b[0;36mReddit.request\u001b[1;34m(self, data, files, json, method, params, path)\u001b[0m\n\u001b[0;32m    961\u001b[0m     \u001b[38;5;28;01mraise\u001b[39;00m ClientException(msg)\n\u001b[0;32m    962\u001b[0m \u001b[38;5;28;01mtry\u001b[39;00m:\n\u001b[1;32m--> 963\u001b[0m     \u001b[38;5;28;01mreturn\u001b[39;00m \u001b[38;5;28;43mself\u001b[39;49m\u001b[38;5;241;43m.\u001b[39;49m\u001b[43m_core\u001b[49m\u001b[38;5;241;43m.\u001b[39;49m\u001b[43mrequest\u001b[49m\u001b[43m(\u001b[49m\n\u001b[0;32m    964\u001b[0m \u001b[43m        \u001b[49m\u001b[43mdata\u001b[49m\u001b[38;5;241;43m=\u001b[39;49m\u001b[43mdata\u001b[49m\u001b[43m,\u001b[49m\n\u001b[0;32m    965\u001b[0m \u001b[43m        \u001b[49m\u001b[43mfiles\u001b[49m\u001b[38;5;241;43m=\u001b[39;49m\u001b[43mfiles\u001b[49m\u001b[43m,\u001b[49m\n\u001b[0;32m    966\u001b[0m \u001b[43m        \u001b[49m\u001b[43mjson\u001b[49m\u001b[38;5;241;43m=\u001b[39;49m\u001b[43mjson\u001b[49m\u001b[43m,\u001b[49m\n\u001b[0;32m    967\u001b[0m \u001b[43m        \u001b[49m\u001b[43mmethod\u001b[49m\u001b[38;5;241;43m=\u001b[39;49m\u001b[43mmethod\u001b[49m\u001b[43m,\u001b[49m\n\u001b[0;32m    968\u001b[0m \u001b[43m        \u001b[49m\u001b[43mparams\u001b[49m\u001b[38;5;241;43m=\u001b[39;49m\u001b[43mparams\u001b[49m\u001b[43m,\u001b[49m\n\u001b[0;32m    969\u001b[0m \u001b[43m        \u001b[49m\u001b[43mpath\u001b[49m\u001b[38;5;241;43m=\u001b[39;49m\u001b[43mpath\u001b[49m\u001b[43m,\u001b[49m\n\u001b[0;32m    970\u001b[0m \u001b[43m    \u001b[49m\u001b[43m)\u001b[49m\n\u001b[0;32m    971\u001b[0m \u001b[38;5;28;01mexcept\u001b[39;00m BadRequest \u001b[38;5;28;01mas\u001b[39;00m exception:\n\u001b[0;32m    972\u001b[0m     \u001b[38;5;28;01mtry\u001b[39;00m:\n",
      "File \u001b[1;32mc:\\Users\\diogo\\miniconda3\\envs\\tac-hands-on\\lib\\site-packages\\prawcore\\sessions.py:328\u001b[0m, in \u001b[0;36mSession.request\u001b[1;34m(self, method, path, data, files, json, params, timeout)\u001b[0m\n\u001b[0;32m    326\u001b[0m     json[\u001b[38;5;124m\"\u001b[39m\u001b[38;5;124mapi_type\u001b[39m\u001b[38;5;124m\"\u001b[39m] \u001b[38;5;241m=\u001b[39m \u001b[38;5;124m\"\u001b[39m\u001b[38;5;124mjson\u001b[39m\u001b[38;5;124m\"\u001b[39m\n\u001b[0;32m    327\u001b[0m url \u001b[38;5;241m=\u001b[39m urljoin(\u001b[38;5;28mself\u001b[39m\u001b[38;5;241m.\u001b[39m_requestor\u001b[38;5;241m.\u001b[39moauth_url, path)\n\u001b[1;32m--> 328\u001b[0m \u001b[38;5;28;01mreturn\u001b[39;00m \u001b[38;5;28;43mself\u001b[39;49m\u001b[38;5;241;43m.\u001b[39;49m\u001b[43m_request_with_retries\u001b[49m\u001b[43m(\u001b[49m\n\u001b[0;32m    329\u001b[0m \u001b[43m    \u001b[49m\u001b[43mdata\u001b[49m\u001b[38;5;241;43m=\u001b[39;49m\u001b[43mdata\u001b[49m\u001b[43m,\u001b[49m\n\u001b[0;32m    330\u001b[0m \u001b[43m    \u001b[49m\u001b[43mfiles\u001b[49m\u001b[38;5;241;43m=\u001b[39;49m\u001b[43mfiles\u001b[49m\u001b[43m,\u001b[49m\n\u001b[0;32m    331\u001b[0m \u001b[43m    \u001b[49m\u001b[43mjson\u001b[49m\u001b[38;5;241;43m=\u001b[39;49m\u001b[43mjson\u001b[49m\u001b[43m,\u001b[49m\n\u001b[0;32m    332\u001b[0m \u001b[43m    \u001b[49m\u001b[43mmethod\u001b[49m\u001b[38;5;241;43m=\u001b[39;49m\u001b[43mmethod\u001b[49m\u001b[43m,\u001b[49m\n\u001b[0;32m    333\u001b[0m \u001b[43m    \u001b[49m\u001b[43mparams\u001b[49m\u001b[38;5;241;43m=\u001b[39;49m\u001b[43mparams\u001b[49m\u001b[43m,\u001b[49m\n\u001b[0;32m    334\u001b[0m \u001b[43m    \u001b[49m\u001b[43mtimeout\u001b[49m\u001b[38;5;241;43m=\u001b[39;49m\u001b[43mtimeout\u001b[49m\u001b[43m,\u001b[49m\n\u001b[0;32m    335\u001b[0m \u001b[43m    \u001b[49m\u001b[43murl\u001b[49m\u001b[38;5;241;43m=\u001b[39;49m\u001b[43murl\u001b[49m\u001b[43m,\u001b[49m\n\u001b[0;32m    336\u001b[0m \u001b[43m\u001b[49m\u001b[43m)\u001b[49m\n",
      "File \u001b[1;32mc:\\Users\\diogo\\miniconda3\\envs\\tac-hands-on\\lib\\site-packages\\prawcore\\sessions.py:234\u001b[0m, in \u001b[0;36mSession._request_with_retries\u001b[1;34m(self, data, files, json, method, params, timeout, url, retry_strategy_state)\u001b[0m\n\u001b[0;32m    232\u001b[0m retry_strategy_state\u001b[38;5;241m.\u001b[39msleep()\n\u001b[0;32m    233\u001b[0m \u001b[38;5;28mself\u001b[39m\u001b[38;5;241m.\u001b[39m_log_request(data, method, params, url)\n\u001b[1;32m--> 234\u001b[0m response, saved_exception \u001b[38;5;241m=\u001b[39m \u001b[38;5;28;43mself\u001b[39;49m\u001b[38;5;241;43m.\u001b[39;49m\u001b[43m_make_request\u001b[49m\u001b[43m(\u001b[49m\n\u001b[0;32m    235\u001b[0m \u001b[43m    \u001b[49m\u001b[43mdata\u001b[49m\u001b[43m,\u001b[49m\n\u001b[0;32m    236\u001b[0m \u001b[43m    \u001b[49m\u001b[43mfiles\u001b[49m\u001b[43m,\u001b[49m\n\u001b[0;32m    237\u001b[0m \u001b[43m    \u001b[49m\u001b[43mjson\u001b[49m\u001b[43m,\u001b[49m\n\u001b[0;32m    238\u001b[0m \u001b[43m    \u001b[49m\u001b[43mmethod\u001b[49m\u001b[43m,\u001b[49m\n\u001b[0;32m    239\u001b[0m \u001b[43m    \u001b[49m\u001b[43mparams\u001b[49m\u001b[43m,\u001b[49m\n\u001b[0;32m    240\u001b[0m \u001b[43m    \u001b[49m\u001b[43mretry_strategy_state\u001b[49m\u001b[43m,\u001b[49m\n\u001b[0;32m    241\u001b[0m \u001b[43m    \u001b[49m\u001b[43mtimeout\u001b[49m\u001b[43m,\u001b[49m\n\u001b[0;32m    242\u001b[0m \u001b[43m    \u001b[49m\u001b[43murl\u001b[49m\u001b[43m,\u001b[49m\n\u001b[0;32m    243\u001b[0m \u001b[43m\u001b[49m\u001b[43m)\u001b[49m\n\u001b[0;32m    245\u001b[0m do_retry \u001b[38;5;241m=\u001b[39m \u001b[38;5;28;01mFalse\u001b[39;00m\n\u001b[0;32m    246\u001b[0m \u001b[38;5;28;01mif\u001b[39;00m response \u001b[38;5;129;01mis\u001b[39;00m \u001b[38;5;129;01mnot\u001b[39;00m \u001b[38;5;28;01mNone\u001b[39;00m \u001b[38;5;129;01mand\u001b[39;00m response\u001b[38;5;241m.\u001b[39mstatus_code \u001b[38;5;241m==\u001b[39m codes[\u001b[38;5;124m\"\u001b[39m\u001b[38;5;124munauthorized\u001b[39m\u001b[38;5;124m\"\u001b[39m]:\n",
      "File \u001b[1;32mc:\\Users\\diogo\\miniconda3\\envs\\tac-hands-on\\lib\\site-packages\\prawcore\\sessions.py:186\u001b[0m, in \u001b[0;36mSession._make_request\u001b[1;34m(self, data, files, json, method, params, retry_strategy_state, timeout, url)\u001b[0m\n\u001b[0;32m    174\u001b[0m \u001b[38;5;28;01mdef\u001b[39;00m \u001b[38;5;21m_make_request\u001b[39m(\n\u001b[0;32m    175\u001b[0m     \u001b[38;5;28mself\u001b[39m,\n\u001b[0;32m    176\u001b[0m     data: \u001b[38;5;28mlist\u001b[39m[\u001b[38;5;28mtuple\u001b[39m[\u001b[38;5;28mstr\u001b[39m, Any]],\n\u001b[1;32m   (...)\u001b[0m\n\u001b[0;32m    183\u001b[0m     url: \u001b[38;5;28mstr\u001b[39m,\n\u001b[0;32m    184\u001b[0m ) \u001b[38;5;241m-\u001b[39m\u001b[38;5;241m>\u001b[39m \u001b[38;5;28mtuple\u001b[39m[Response, \u001b[38;5;28;01mNone\u001b[39;00m] \u001b[38;5;241m|\u001b[39m \u001b[38;5;28mtuple\u001b[39m[\u001b[38;5;28;01mNone\u001b[39;00m, \u001b[38;5;167;01mException\u001b[39;00m]:\n\u001b[0;32m    185\u001b[0m     \u001b[38;5;28;01mtry\u001b[39;00m:\n\u001b[1;32m--> 186\u001b[0m         response \u001b[38;5;241m=\u001b[39m \u001b[38;5;28;43mself\u001b[39;49m\u001b[38;5;241;43m.\u001b[39;49m\u001b[43m_rate_limiter\u001b[49m\u001b[38;5;241;43m.\u001b[39;49m\u001b[43mcall\u001b[49m\u001b[43m(\u001b[49m\n\u001b[0;32m    187\u001b[0m \u001b[43m            \u001b[49m\u001b[38;5;28;43mself\u001b[39;49m\u001b[38;5;241;43m.\u001b[39;49m\u001b[43m_requestor\u001b[49m\u001b[38;5;241;43m.\u001b[39;49m\u001b[43mrequest\u001b[49m\u001b[43m,\u001b[49m\n\u001b[0;32m    188\u001b[0m \u001b[43m            \u001b[49m\u001b[38;5;28;43mself\u001b[39;49m\u001b[38;5;241;43m.\u001b[39;49m\u001b[43m_set_header_callback\u001b[49m\u001b[43m,\u001b[49m\n\u001b[0;32m    189\u001b[0m \u001b[43m            \u001b[49m\u001b[43mmethod\u001b[49m\u001b[43m,\u001b[49m\n\u001b[0;32m    190\u001b[0m \u001b[43m            \u001b[49m\u001b[43murl\u001b[49m\u001b[43m,\u001b[49m\n\u001b[0;32m    191\u001b[0m \u001b[43m            \u001b[49m\u001b[43mallow_redirects\u001b[49m\u001b[38;5;241;43m=\u001b[39;49m\u001b[38;5;28;43;01mFalse\u001b[39;49;00m\u001b[43m,\u001b[49m\n\u001b[0;32m    192\u001b[0m \u001b[43m            \u001b[49m\u001b[43mdata\u001b[49m\u001b[38;5;241;43m=\u001b[39;49m\u001b[43mdata\u001b[49m\u001b[43m,\u001b[49m\n\u001b[0;32m    193\u001b[0m \u001b[43m            \u001b[49m\u001b[43mfiles\u001b[49m\u001b[38;5;241;43m=\u001b[39;49m\u001b[43mfiles\u001b[49m\u001b[43m,\u001b[49m\n\u001b[0;32m    194\u001b[0m \u001b[43m            \u001b[49m\u001b[43mjson\u001b[49m\u001b[38;5;241;43m=\u001b[39;49m\u001b[43mjson\u001b[49m\u001b[43m,\u001b[49m\n\u001b[0;32m    195\u001b[0m \u001b[43m            \u001b[49m\u001b[43mparams\u001b[49m\u001b[38;5;241;43m=\u001b[39;49m\u001b[43mparams\u001b[49m\u001b[43m,\u001b[49m\n\u001b[0;32m    196\u001b[0m \u001b[43m            \u001b[49m\u001b[43mtimeout\u001b[49m\u001b[38;5;241;43m=\u001b[39;49m\u001b[43mtimeout\u001b[49m\u001b[43m,\u001b[49m\n\u001b[0;32m    197\u001b[0m \u001b[43m        \u001b[49m\u001b[43m)\u001b[49m\n\u001b[0;32m    198\u001b[0m         log\u001b[38;5;241m.\u001b[39mdebug(\n\u001b[0;32m    199\u001b[0m             \u001b[38;5;124m\"\u001b[39m\u001b[38;5;124mResponse: \u001b[39m\u001b[38;5;132;01m%s\u001b[39;00m\u001b[38;5;124m (\u001b[39m\u001b[38;5;132;01m%s\u001b[39;00m\u001b[38;5;124m bytes) (rst-\u001b[39m\u001b[38;5;132;01m%s\u001b[39;00m\u001b[38;5;124m:rem-\u001b[39m\u001b[38;5;132;01m%s\u001b[39;00m\u001b[38;5;124m:used-\u001b[39m\u001b[38;5;132;01m%s\u001b[39;00m\u001b[38;5;124m ratelimit) at \u001b[39m\u001b[38;5;132;01m%s\u001b[39;00m\u001b[38;5;124m\"\u001b[39m,\n\u001b[0;32m    200\u001b[0m             response\u001b[38;5;241m.\u001b[39mstatus_code,\n\u001b[1;32m   (...)\u001b[0m\n\u001b[0;32m    205\u001b[0m             time\u001b[38;5;241m.\u001b[39mtime(),\n\u001b[0;32m    206\u001b[0m         )\n\u001b[0;32m    207\u001b[0m         \u001b[38;5;28;01mreturn\u001b[39;00m response, \u001b[38;5;28;01mNone\u001b[39;00m\n",
      "File \u001b[1;32mc:\\Users\\diogo\\miniconda3\\envs\\tac-hands-on\\lib\\site-packages\\prawcore\\rate_limit.py:46\u001b[0m, in \u001b[0;36mRateLimiter.call\u001b[1;34m(self, request_function, set_header_callback, *args, **kwargs)\u001b[0m\n\u001b[0;32m     36\u001b[0m \u001b[38;5;250m\u001b[39m\u001b[38;5;124;03m\"\"\"Rate limit the call to ``request_function``.\u001b[39;00m\n\u001b[0;32m     37\u001b[0m \n\u001b[0;32m     38\u001b[0m \u001b[38;5;124;03m:param request_function: A function call that returns an HTTP response object.\u001b[39;00m\n\u001b[1;32m   (...)\u001b[0m\n\u001b[0;32m     43\u001b[0m \n\u001b[0;32m     44\u001b[0m \u001b[38;5;124;03m\"\"\"\u001b[39;00m\n\u001b[0;32m     45\u001b[0m \u001b[38;5;28mself\u001b[39m\u001b[38;5;241m.\u001b[39mdelay()\n\u001b[1;32m---> 46\u001b[0m kwargs[\u001b[38;5;124m\"\u001b[39m\u001b[38;5;124mheaders\u001b[39m\u001b[38;5;124m\"\u001b[39m] \u001b[38;5;241m=\u001b[39m \u001b[43mset_header_callback\u001b[49m\u001b[43m(\u001b[49m\u001b[43m)\u001b[49m\n\u001b[0;32m     47\u001b[0m response \u001b[38;5;241m=\u001b[39m request_function(\u001b[38;5;241m*\u001b[39margs, \u001b[38;5;241m*\u001b[39m\u001b[38;5;241m*\u001b[39mkwargs)\n\u001b[0;32m     48\u001b[0m \u001b[38;5;28mself\u001b[39m\u001b[38;5;241m.\u001b[39mupdate(response\u001b[38;5;241m.\u001b[39mheaders)\n",
      "File \u001b[1;32mc:\\Users\\diogo\\miniconda3\\envs\\tac-hands-on\\lib\\site-packages\\prawcore\\sessions.py:282\u001b[0m, in \u001b[0;36mSession._set_header_callback\u001b[1;34m(self)\u001b[0m\n\u001b[0;32m    280\u001b[0m \u001b[38;5;28;01mdef\u001b[39;00m \u001b[38;5;21m_set_header_callback\u001b[39m(\u001b[38;5;28mself\u001b[39m) \u001b[38;5;241m-\u001b[39m\u001b[38;5;241m>\u001b[39m \u001b[38;5;28mdict\u001b[39m[\u001b[38;5;28mstr\u001b[39m, \u001b[38;5;28mstr\u001b[39m]:\n\u001b[0;32m    281\u001b[0m     \u001b[38;5;28;01mif\u001b[39;00m \u001b[38;5;129;01mnot\u001b[39;00m \u001b[38;5;28mself\u001b[39m\u001b[38;5;241m.\u001b[39m_authorizer\u001b[38;5;241m.\u001b[39mis_valid() \u001b[38;5;129;01mand\u001b[39;00m \u001b[38;5;28mhasattr\u001b[39m(\u001b[38;5;28mself\u001b[39m\u001b[38;5;241m.\u001b[39m_authorizer, \u001b[38;5;124m\"\u001b[39m\u001b[38;5;124mrefresh\u001b[39m\u001b[38;5;124m\"\u001b[39m):\n\u001b[1;32m--> 282\u001b[0m         \u001b[38;5;28;43mself\u001b[39;49m\u001b[38;5;241;43m.\u001b[39;49m\u001b[43m_authorizer\u001b[49m\u001b[38;5;241;43m.\u001b[39;49m\u001b[43mrefresh\u001b[49m\u001b[43m(\u001b[49m\u001b[43m)\u001b[49m\n\u001b[0;32m    283\u001b[0m     \u001b[38;5;28;01mreturn\u001b[39;00m {\u001b[38;5;124m\"\u001b[39m\u001b[38;5;124mAuthorization\u001b[39m\u001b[38;5;124m\"\u001b[39m: \u001b[38;5;124mf\u001b[39m\u001b[38;5;124m\"\u001b[39m\u001b[38;5;124mbearer \u001b[39m\u001b[38;5;132;01m{\u001b[39;00m\u001b[38;5;28mself\u001b[39m\u001b[38;5;241m.\u001b[39m_authorizer\u001b[38;5;241m.\u001b[39maccess_token\u001b[38;5;132;01m}\u001b[39;00m\u001b[38;5;124m\"\u001b[39m}\n",
      "File \u001b[1;32mc:\\Users\\diogo\\miniconda3\\envs\\tac-hands-on\\lib\\site-packages\\prawcore\\auth.py:425\u001b[0m, in \u001b[0;36mScriptAuthorizer.refresh\u001b[1;34m(self)\u001b[0m\n\u001b[0;32m    423\u001b[0m \u001b[38;5;28;01mif\u001b[39;00m two_factor_code:\n\u001b[0;32m    424\u001b[0m     additional_kwargs[\u001b[38;5;124m\"\u001b[39m\u001b[38;5;124motp\u001b[39m\u001b[38;5;124m\"\u001b[39m] \u001b[38;5;241m=\u001b[39m two_factor_code\n\u001b[1;32m--> 425\u001b[0m \u001b[38;5;28mself\u001b[39m\u001b[38;5;241m.\u001b[39m_request_token(\n\u001b[0;32m    426\u001b[0m     grant_type\u001b[38;5;241m=\u001b[39m\u001b[38;5;124m\"\u001b[39m\u001b[38;5;124mpassword\u001b[39m\u001b[38;5;124m\"\u001b[39m,\n\u001b[0;32m    427\u001b[0m     username\u001b[38;5;241m=\u001b[39m\u001b[38;5;28mself\u001b[39m\u001b[38;5;241m.\u001b[39m_username,\n\u001b[0;32m    428\u001b[0m     password\u001b[38;5;241m=\u001b[39m\u001b[38;5;28mself\u001b[39m\u001b[38;5;241m.\u001b[39m_password,\n\u001b[0;32m    429\u001b[0m     \u001b[38;5;241m*\u001b[39m\u001b[38;5;241m*\u001b[39madditional_kwargs,\n\u001b[0;32m    430\u001b[0m )\n",
      "File \u001b[1;32mc:\\Users\\diogo\\miniconda3\\envs\\tac-hands-on\\lib\\site-packages\\prawcore\\auth.py:155\u001b[0m, in \u001b[0;36mBaseAuthorizer._request_token\u001b[1;34m(self, **data)\u001b[0m\n\u001b[0;32m    153\u001b[0m url \u001b[38;5;241m=\u001b[39m \u001b[38;5;28mself\u001b[39m\u001b[38;5;241m.\u001b[39m_authenticator\u001b[38;5;241m.\u001b[39m_requestor\u001b[38;5;241m.\u001b[39mreddit_url \u001b[38;5;241m+\u001b[39m const\u001b[38;5;241m.\u001b[39mACCESS_TOKEN_PATH\n\u001b[0;32m    154\u001b[0m pre_request_time \u001b[38;5;241m=\u001b[39m time\u001b[38;5;241m.\u001b[39mtime()\n\u001b[1;32m--> 155\u001b[0m response \u001b[38;5;241m=\u001b[39m \u001b[38;5;28mself\u001b[39m\u001b[38;5;241m.\u001b[39m_authenticator\u001b[38;5;241m.\u001b[39m_post(url\u001b[38;5;241m=\u001b[39murl, \u001b[38;5;241m*\u001b[39m\u001b[38;5;241m*\u001b[39mdata)\n\u001b[0;32m    156\u001b[0m payload \u001b[38;5;241m=\u001b[39m response\u001b[38;5;241m.\u001b[39mjson()\n\u001b[0;32m    157\u001b[0m \u001b[38;5;28;01mif\u001b[39;00m \u001b[38;5;124m\"\u001b[39m\u001b[38;5;124merror\u001b[39m\u001b[38;5;124m\"\u001b[39m \u001b[38;5;129;01min\u001b[39;00m payload:  \u001b[38;5;66;03m# Why are these OKAY responses?\u001b[39;00m\n",
      "File \u001b[1;32mc:\\Users\\diogo\\miniconda3\\envs\\tac-hands-on\\lib\\site-packages\\prawcore\\auth.py:59\u001b[0m, in \u001b[0;36mBaseAuthenticator._post\u001b[1;34m(self, url, success_status, **data)\u001b[0m\n\u001b[0;32m     51\u001b[0m response \u001b[38;5;241m=\u001b[39m \u001b[38;5;28mself\u001b[39m\u001b[38;5;241m.\u001b[39m_requestor\u001b[38;5;241m.\u001b[39mrequest(\n\u001b[0;32m     52\u001b[0m     \u001b[38;5;124m\"\u001b[39m\u001b[38;5;124mpost\u001b[39m\u001b[38;5;124m\"\u001b[39m,\n\u001b[0;32m     53\u001b[0m     url,\n\u001b[1;32m   (...)\u001b[0m\n\u001b[0;32m     56\u001b[0m     headers\u001b[38;5;241m=\u001b[39m{\u001b[38;5;124m\"\u001b[39m\u001b[38;5;124mConnection\u001b[39m\u001b[38;5;124m\"\u001b[39m: \u001b[38;5;124m\"\u001b[39m\u001b[38;5;124mclose\u001b[39m\u001b[38;5;124m\"\u001b[39m},\n\u001b[0;32m     57\u001b[0m )\n\u001b[0;32m     58\u001b[0m \u001b[38;5;28;01mif\u001b[39;00m response\u001b[38;5;241m.\u001b[39mstatus_code \u001b[38;5;241m!=\u001b[39m success_status:\n\u001b[1;32m---> 59\u001b[0m     \u001b[38;5;28;01mraise\u001b[39;00m ResponseException(response)\n\u001b[0;32m     60\u001b[0m \u001b[38;5;28;01mreturn\u001b[39;00m response\n",
      "\u001b[1;31mResponseException\u001b[0m: received 401 HTTP response"
     ]
    }
   ],
   "source": [
    "print(reddit_instance.user.me())"
   ]
  },
  {
   "cell_type": "code",
   "execution_count": 47,
   "id": "bea5656f217a5b38",
   "metadata": {
    "ExecuteTime": {
     "end_time": "2024-10-18T21:00:52.511102Z",
     "start_time": "2024-10-18T21:00:52.507973Z"
    }
   },
   "outputs": [
    {
     "name": "stdout",
     "output_type": "stream",
     "text": [
      "False\n"
     ]
    }
   ],
   "source": [
    "print(reddit_instance.read_only) # you can set your instance to read only by doint \"reddit.read_only = True\""
   ]
  },
  {
   "cell_type": "markdown",
   "id": "3dd0e7a7919a3b86",
   "metadata": {},
   "source": [
    "## 4. Interacting with Subreddits\n",
    "\n",
    "You can interact with subreddits by using the subreddit method of the Reddit instance.\n",
    "\n",
    "In this example, we will interact with the \"devpt\" subreddit. You can replace it with any other subreddit you want to interact with."
   ]
  },
  {
   "cell_type": "code",
   "execution_count": 22,
   "id": "62f1785e3c73db85",
   "metadata": {
    "ExecuteTime": {
     "end_time": "2024-10-18T20:22:22.231416Z",
     "start_time": "2024-10-18T20:22:22.227509Z"
    }
   },
   "outputs": [
    {
     "data": {
      "text/plain": [
       "Subreddit(display_name='devpt')"
      ]
     },
     "execution_count": 22,
     "metadata": {},
     "output_type": "execute_result"
    }
   ],
   "source": [
    "subreddit = reddit_instance.subreddit(\"devpt\")\n",
    "subreddit"
   ]
  },
  {
   "cell_type": "markdown",
   "id": "48566b68dbaa0261",
   "metadata": {},
   "source": [
    "## Getting Information About a Subreddit"
   ]
  },
  {
   "cell_type": "code",
   "execution_count": 23,
   "id": "f0fa3daafb4f7dc9",
   "metadata": {
    "ExecuteTime": {
     "end_time": "2024-10-18T20:22:45.907151Z",
     "start_time": "2024-10-18T20:22:45.904057Z"
    }
   },
   "outputs": [
    {
     "name": "stdout",
     "output_type": "stream",
     "text": [
      "devpt\n"
     ]
    }
   ],
   "source": [
    "print(subreddit.display_name)"
   ]
  },
  {
   "cell_type": "code",
   "execution_count": 24,
   "id": "a15f60260174c68a",
   "metadata": {
    "ExecuteTime": {
     "end_time": "2024-10-18T20:22:49.814819Z",
     "start_time": "2024-10-18T20:22:49.811696Z"
    }
   },
   "outputs": [
    {
     "name": "stdout",
     "output_type": "stream",
     "text": [
      "DevPT - Comunidade de Developers Portugueses\n"
     ]
    }
   ],
   "source": [
    "print(subreddit.title)"
   ]
  },
  {
   "cell_type": "code",
   "execution_count": 25,
   "id": "2bdc3405caf8fe83",
   "metadata": {
    "ExecuteTime": {
     "end_time": "2024-10-18T20:23:06.378666Z",
     "start_time": "2024-10-18T20:23:06.375631Z"
    }
   },
   "outputs": [
    {
     "name": "stdout",
     "output_type": "stream",
     "text": [
      "##Bem-vindo ao DevPT!\n",
      "\n",
      "Somos uma comunidade de developers portugueses.\n",
      "\n",
      "Se quiseres saber mais dá uma olhadela em **[devpt.co](https://devpt.co)**.\n",
      "\n",
      "Temos ainda um **Discord**:\n",
      "\n",
      "**[Visitem o nosso Discord](https://devpt.co/discord)**\n",
      "\n",
      "^URL: ^`https://devpt.co/discord`\n",
      "\n",
      "###Regras\n",
      "\n",
      " 1. Faz perguntas acertadamente, esclarece o teu ponto de vista ou dúvida o mais breve possível.\n",
      " 2. **Não são permitidos estudos de mercado e/ou inquéritos**\n",
      " 3. Usa um titulo descritivo em que especifiques a linguagem ou tecnologia com que estas a trabalhar.\n",
      "\n",
      "    Ex:[C++] Bug no ciclo while\n",
      "\n",
      " 4. Este é um subreddit com o objetivo de entre-ajuda e discussão e, para isso, pedimos a colaboração de todos para ser possível tirar o melhor proveito do mesmo.\n",
      "\n",
      " 5. É obrigatório usar a flair correcta\n",
      "\n",
      " 6. Não são permitidos outros assuntos fora da esfera do DevPT\n",
      "\n",
      "###Ferramentas aconselhadas\n",
      "Sempre que precisares de colar código usa uma das ferramentas seguintes (ou semelhantes):\n",
      "\n",
      " - Gist: para muito código e/ou diferentes ficheiros.\n",
      " - IDEone: para código que deve ser executado.\n",
      " - JSFiddle: para HTML, CSS ou JavaScript.\n",
      "\n",
      "### Subs associados:\n",
      "\n",
      "/r/EngineeringResumes\n"
     ]
    }
   ],
   "source": [
    "print(subreddit.description)"
   ]
  },
  {
   "cell_type": "code",
   "execution_count": 26,
   "id": "e511d90b56f783db",
   "metadata": {
    "ExecuteTime": {
     "end_time": "2024-10-18T20:23:57.257126Z",
     "start_time": "2024-10-18T20:23:57.253674Z"
    }
   },
   "outputs": [
    {
     "name": "stdout",
     "output_type": "stream",
     "text": [
      "45615\n"
     ]
    }
   ],
   "source": [
    "print(subreddit.subscribers)"
   ]
  },
  {
   "cell_type": "markdown",
   "id": "a2e07cf35379b939",
   "metadata": {},
   "source": [
    "## 5. Getting the Top 25 Posts in a Subreddit\n",
    "\n",
    "You can get the top 25 posts in a subreddit by using the top method of the subreddit instance.\n",
    "\n",
    "In this example, we will get the top 25 posts in the \"devpt\" subreddit. You can replace it with any other subreddit you want to get the top posts from.\n",
    "\n",
    "We will also define the time filter to get the top posts of the week."
   ]
  },
  {
   "cell_type": "code",
   "execution_count": 31,
   "id": "1a44a5dd22ce4488",
   "metadata": {
    "ExecuteTime": {
     "end_time": "2024-10-18T20:25:28.803456Z",
     "start_time": "2024-10-18T20:25:28.034158Z"
    }
   },
   "outputs": [
    {
     "name": "stdout",
     "output_type": "stream",
     "text": [
      "Modelo de previsão de resultados da NBA\n",
      "Procuramos Data Engineers e Analysts\n",
      "Taxa Diária Justa para Software Engineers: Estou a ser explorado?\n",
      "Wars are won with code, says German military AI maker\n",
      "Opiniões sobre entrevista para a Ntt Data\n",
      "Iniciar carreira como data analyst\n",
      "Sap\n",
      "Procuro Estágio Curricular | Cibersegurança - IEFP recusou assinar cláusula com Big4\n",
      "Currículo para empresas de IT - Desenvolvimento\n",
      "Qual linguagem devo aprender a seguir para maximizar  oportunidades?\n",
      "Five9 feedback\n",
      "Trabalho part-time como estudante de mestrado em Portugal\n",
      "Comunidades de Machine Learning?\n",
      " SWitCH IoT\n",
      "Ofertas administrador sus\n",
      "Mudar para QA Tester, mas sem experiência.\n",
      "Formação em Cibersegurança\n",
      "Será que o curso vale a Pena?\n",
      "Empresas e os seus requisitos\n",
      "Estágio Curricular\n",
      "AI/ML FOMO como um recém-licenciado \n",
      "300 candidaturas, 2 entrevistas: preciso de ajuda urgente!\n",
      "Engenharia de sistemas informáticos em 2024, vale a pena?\n",
      "WYSIWYG editor para React\n",
      "☁️ Join Us for the Big Comeback: #17 Cloud Native Lisbon Meetup! ☁️\n"
     ]
    }
   ],
   "source": [
    "top_25_posts = subreddit.top(limit=25, time_filter=\"week\")\n",
    "\n",
    "for post in top_25_posts:\n",
    "    print(post.title)"
   ]
  },
  {
   "cell_type": "markdown",
   "id": "2dbf857266581e5f",
   "metadata": {},
   "source": [
    "## Hot, Top, New, Controversial, Rising posts\n",
    "\n",
    "You can get the hot, top, new, controversial, and rising posts in a subreddit by using the hot, top, new, controversial, and rising methods of the subreddit instance.\n",
    "\n",
    "**Note: sometimes some posts are sticked by the moderators, so they will always appear in the top posts. You can confirm if a post is sticked with `post.stickied`**"
   ]
  },
  {
   "cell_type": "code",
   "execution_count": 43,
   "id": "2192d91c202d9e41",
   "metadata": {
    "ExecuteTime": {
     "end_time": "2024-10-18T20:42:00.959639Z",
     "start_time": "2024-10-18T20:42:00.957253Z"
    }
   },
   "outputs": [],
   "source": [
    "#hot = subreddit.hot(limit=5)\n",
    "#top = subreddit.top(limit=5, time_filter=\"week\") # it can be hour, day, week, month, year, all\n",
    "#new = subreddit.new(limit=5)\n",
    "#controversial = subreddit.controversial(limit=5, time_filter=\"day\") # it can be hour, day, week, month, year, all\n",
    "#rising = subreddit.rising(limit=5)"
   ]
  },
  {
   "cell_type": "markdown",
   "id": "5f905e955e3eba7b",
   "metadata": {},
   "source": [
    "### Some examples of information you can get from a post\n",
    "\n",
    "- Tile: post.title\n",
    "- ID: post.id\n",
    "- URL: post.url\n",
    "- Score: post.score\n",
    "- Number of Comments: post.num_comments\n",
    "- Self Text: post.selftext\n",
    "- Created UTC: post.created_utc\n",
    "- Author: post.author\n",
    "- Upvote Ratio: post.upvote_ratio\n",
    "- Upvotes: post.ups\n",
    "- Downvotes: post.downs\n",
    "- etc"
   ]
  },
  {
   "cell_type": "code",
   "execution_count": 44,
   "id": "6e3f03060fd3fb7e",
   "metadata": {
    "ExecuteTime": {
     "end_time": "2024-10-18T20:42:25.039184Z",
     "start_time": "2024-10-18T20:42:24.820588Z"
    }
   },
   "outputs": [
    {
     "name": "stdout",
     "output_type": "stream",
     "text": [
      "Title: Passo-me com estas coisas\n",
      "ID: 1er5r39\n",
      "URL: https://i.redd.it/6ykdd4er5fid1.jpeg\n",
      "Score: 580\n",
      "Number of Comments: 79\n",
      "Self Text: A pergunta retórica de 1M de Euros... Confiar no Entry level ou nos +5 anos? 🤡\n",
      "\n",
      "Antes de entrar no mercado achava que isto era só meme, mas já percebi que há disto a dar com pau. Se calhar se eu lhes disser que já fiz \"Atividades do Primeiro Ano de OutSystems\" 5 vezes, eles até gostem de mim. Enfim. É chato quando uma pessoa quer confiar nas ferramentas de pesquisa para encontrar trabalho mas depara-se com estas aboborinhas. \n",
      "\n",
      "Olha, é mesmo isso. Abóboras. Vou-me dedicar à cultura de abóboras.\n",
      "Created UTC: 2024-08-13 12:46:07\n",
      "Author: Flymania117\n",
      "Upvote Ratio: 0.98\n",
      "Upvotes: 580\n",
      "Downvotes: 0\n"
     ]
    }
   ],
   "source": [
    "from time import strftime, localtime\n",
    "\n",
    "top_post = next(subreddit.top(limit=1))\n",
    "print(f\"Title: {top_post.title}\")\n",
    "print(f\"ID: {top_post.id}\")\n",
    "print(f\"URL: {top_post.url}\")\n",
    "print(f\"Score: {top_post.score}\")\n",
    "print(f\"Number of Comments: {top_post.num_comments}\")\n",
    "print(f\"Self Text: {top_post.selftext}\")\n",
    "print(f\"Created UTC: {strftime('%Y-%m-%d %H:%M:%S', localtime(top_post.created_utc))}\")\n",
    "print(f\"Author: {top_post.author}\")\n",
    "print(f\"Upvote Ratio: {top_post.upvote_ratio}\")\n",
    "print(f\"Upvotes: {top_post.ups}\")\n",
    "print(f\"Downvotes: {top_post.downs}\")"
   ]
  },
  {
   "cell_type": "markdown",
   "id": "9c31817ed80d4b67",
   "metadata": {},
   "source": [
    "## Some Actions you can perform on a post\n",
    "\n",
    "- Upvote: post.upvote()\n",
    "- Downvote: post.downvote()\n",
    "- Clear Vote: post.clear_vote()\n",
    "- Reply: post.reply(\"your reply\")\n",
    "\n",
    "## Some Actions you can perform on subreddit\n",
    "\n",
    "- Subscribe: subreddit.subscribe()\n",
    "- Unsubscribe: subreddit.unsubscribe()\n",
    "\n",
    "## Some Actions you can perform on a comment\n",
    "\n",
    "- Upvote: comment.upvote()\n",
    "- Downvote: comment.downvote()\n",
    "- Clear Vote: comment.clear_vote()\n",
    "- Reply: comment.reply(\"your reply\")\n",
    "\n",
    "**Note: Upvotes and downvotes are meant to be done by humans, not bots. Doing so recurrently can get your account banned.**\n",
    "\n"
   ]
  },
  {
   "cell_type": "markdown",
   "id": "d12922845da5f135",
   "metadata": {},
   "source": [
    "## 6. Getting the comments of a post \n",
    "\n",
    "You can get the comments of a post by using the comments method of the post instance.\n",
    "\n",
    "In this example, we will get the comments of the top post in the \"devpt\" subreddit. You can replace it with any other post you want to get the comments from."
   ]
  },
  {
   "cell_type": "code",
   "execution_count": 49,
   "id": "896f8edbf64ea52d",
   "metadata": {
    "ExecuteTime": {
     "end_time": "2024-10-18T21:03:12.370597Z",
     "start_time": "2024-10-18T21:03:11.340106Z"
    }
   },
   "outputs": [
    {
     "name": "stdout",
     "output_type": "stream",
     "text": [
      "Post Title: Passo-me com estas coisas\n",
      "Comment 1: Entry level é para teres ideia do que te querem pagar. ;)\n",
      "Comment 2: Basicamente querem experiência +5 anos com um salário de \"entry level\".\n",
      "Comment 3: Innotech foi a empresa que após 2 entrevistas muito positivas cagaram na minha existência e não me voltaram a contactar.\n",
      "Comment 4: Faz me lembrar das propostas que no título dizem “100% remote” e na descrição diz dois dias obrigatórios no escritório por semana\n",
      "Comment 5: Se isso é entry level… senior é 40 anos?\n",
      "Comment 6: Dropdown é sempre uma coisa complicada para HR. Esqueceram-se de mudar isso.\n",
      "Comment 7: Entre level apenas quer dizer que vais mamar salario minimo xD\n",
      "Comment 8: A job offer está certa, querem alguém com 5 anos de experiência e pagam um salário entry level.\n",
      "\n",
      "Se queres aceitar isso já é contigo 😂\n",
      "Comment 9: EU TENHO ODIO PURO, PURO!  por essas merdas! A quantidade de \"entry level\" , \"part time\",\"iniciante\" só que desces nos requerimentos e logo depois das linguagens que tu sabes. Pedem 5 anos de experiencia profissional!  Não querem saber de projetos individuais que fizeste, de faculdade, do mestrado não. 5 anos de experiencia pra um trabalho de iniciante hahahaha.  Ser iniciante é fudido por isso que sempre digo é entrar na primeira empresa e ficar no grind pelo menos por 1/2 anos até conseguires algo melhor.\n",
      "Comment 10: A 10 anos saí de Portugal, troquei de carreira e comecei a programar, agora estou a planear voltar. Isto é o tipo de merdas q não tenho saudades. \n",
      "Uma das experiências que mais me marcou, foi alguém me pedir 5 anos de experiência em Swift pra IOS (tinha saído meses antes).\n",
      "Outra também me marcou, foi, posição de junior/estágio, mas precisavam de mim para ensinar a pessoa que lá estava a ser paga full time.\n",
      "Tive que me rir, pois na minha entrevista estavam 6 miúdas, que nem 25 anos tinham, que no final me disseram que de qualquer forma a posição não era minha pois já tinha 31...\n",
      "Foram 6 meses de procura para não ter nem uma posição.\n",
      "Vim para Londres e estava a trabalhar 23 dias depois de chegar.\n",
      "Talvez voltar não será a melhor decisão 😆\n",
      "Comment 11: Entry level é o salário, trabalho eles querem o de um sénior\n",
      "Comment 12: Consultating gonna consultate.  InnoTech diz tudo.\n",
      "Comment 13: Devia ser crime contratar o pessoal de RH/Recrutamento que põe isto online.\n",
      "Comment 14: Essa empresa tentou contratar me por duas vezes..\n",
      "\n",
      "Ambas por menos do que eu estava a ganhar na altura, porque \"seria uma ótima oportunidade de crescimento\"\n",
      "Comment 15: Gosto da grafia Crud em vez de CRUD.\n",
      "Comment 16: Prato do dia. Melhor e queimando dizem que é remoto e Júnior e depois na descrição tens de ter 5 anos de experiência e afinal é presencial.\n",
      "\n",
      "Ou então aquelas vagas Júnior que precisas de ser muito bom em 30 linguagens…\n",
      "Comment 17: Mais uma consultoria que é uma piada. Te consideram junior já com mais de 4 anos de experiência e cargos anteriores como nivel pleno. E o ordenamento... risos\n",
      "Comment 18: Deixei de acreditar nestas merdas quando vi um post de alguém estrangeiro sobre uma empresa a pedir 5 anos de experiência num programa que existia há 3 anos e foi criado pelo criador do post\n",
      "Comment 19: Vou vos dar um insight do lado do recrutamento.\n",
      "\n",
      "As definições do ATS e do nível que decidimos para a vaga tem de “coordenar” com várias plataformas, porque quando lanças a vaga é deployed simultaneamente em todos os sítios que estão a publicar.\n",
      "\n",
      "Tanto quanto me lembro, o LinkedIn não tem um equivalente a “mid”, eu na minha empresa também tenho este problema, então tenho de manualmente mudar as vagas especificamente no LinkedIn.\n",
      "\n",
      "Se não se tiver essa atenção ao detalhe (ou se de lidar com um volume maior), este tipo de coisas passam sem ninguém notar.\n",
      "\n",
      "Agora também dou a dica à malta do lado dos devs, às vezes vocês “exigem” que não haja estas falhas, mas depois recebemos os CVs das pessoas e também vêm cheios de calinadas.\n",
      "\n",
      "Conclusão, sejam mais compreensivos overall, ajuda imenso a toda a gente.\n",
      "\n",
      "E em relação à vaga, se diz 5 anos eu guiava-me por aí.\n",
      "Comment 20: Ah uns tempos atrás encontrei uma que pedia um especialista para o lugar de assistente. Com tantas propostas parolas que tenho visto e contactos que parecem programas para os apanhados, é de concluir que os Recursos Humanos são a prova viva de que actualmente podes ir para a universidade tirar um curso e sair de lá a não saber nada nem ser ninguém.\n",
      "Comment 21: It is a scam\n",
      "Comment 22: Pode ter sido um erro criar a job listing também :/ \n",
      "\n",
      "Ou copiaram de outra e ficou assim.... \n",
      "\n",
      "Eu confiava mais na descrição do que no \"Entry Level\" mas é uma merda porque nem eles vão conseguir encontrar pessoas, nem as pessoas encontram a oferta lol\n",
      "Comment 23: Já trabalhei com várias pessoas com vários anos de experiência e eram autênticos juniors...\n",
      "Comment 24: Pah, ler propostas mal feitas a mim já nem me afeta, mas a avalanche de recrutadores a fazer propostas ridículas… já me tira o ar… nunca respondo a tugas e faço um esforço para não os eliminar logo da rede…\n",
      "Comment 25: Podes sempre questionar. Também podes candidatar e depois logo se vê.\n",
      "Comment 26: Foge desses gajos, é só esquemas para não pagarem o que devem. Ex: milímetros fictícios, tickets e afins... deprimente!\n",
      "Comment 27: Precisam de uma pessoa fraquinha… depois de 5 anos de XP continua a ser Júnior. 🤩\n",
      "Comment 28: Geralmente quem escreve descrição de uma vaga não faz ideia do que tá fazendo haha, uma pessoa vai lá e fala que busca um profissional assim, assim e assim, ela só copia e cola, por isso que já vi vaga de Back end e nos requisitos estava que deveria saber Python, c#, Java, php e rust… \n",
      "Já vi vaga que era fronte end, mas pedia que você soubesse gerenciamento de email marketing, SEO,  php com laravel, gerenciar servidor, além de conseguir da manutenção ao servidor ( fisicamente ) sim isso era uma vaga front end que vi no it Jobs kkkkk\n",
      "Comment 29: [removed]\n",
      "Comment 30: Tenho lá amigos e ganham bem\n",
      "Comment 31: Enganaram se a por um dos parâmetros, geralmente usam um predefinido e mudam, só chorões neste sub\n"
     ]
    }
   ],
   "source": [
    "top_post = next(subreddit.top(limit=1))\n",
    "\n",
    "print(f\"Post Title: {top_post.title}\")\n",
    "for i, comment in enumerate(top_post.comments):\n",
    "    print(f\"Comment {i+1}: {comment.body}\")"
   ]
  },
  {
   "cell_type": "markdown",
   "id": "3baee8622d089a9b",
   "metadata": {},
   "source": [
    "## 7. Getting the comments of a comment\n",
    "\n",
    "You can get the comments of a comment by using the replies method of the comment instance."
   ]
  },
  {
   "cell_type": "code",
   "execution_count": 54,
   "id": "9bbf8ab76d99d08e",
   "metadata": {
    "ExecuteTime": {
     "end_time": "2024-10-18T21:18:18.460913Z",
     "start_time": "2024-10-18T21:18:17.524665Z"
    }
   },
   "outputs": [
    {
     "name": "stdout",
     "output_type": "stream",
     "text": [
      "Comment 1: Entry level é para teres ideia do que te querem pagar. ;)\n",
      "Comment 2: Basicamente querem experiência +5 anos com um salário de \"entry level\".\n",
      "Second Level Comment 1: 900 paus , trabalhas de segunda a domingo sempre em reuniões e atarefado mal tens tempo pra sair de casa e quando sais é pra ir a empresa fisicamente.\n",
      "Comment 3: Innotech foi a empresa que após 2 entrevistas muito positivas cagaram na minha existência e não me voltaram a contactar.\n",
      "Second Level Comment 1: Por acaso tive um contacto com eles para um projeto na Bélgica e eles foram bastante agradáveis. Conheço quem esteve lá pela empresa e correu bem apesar de poucos meses de lá chegarem terem mudado de empresa...parece ser um sítio razoável para estar num início de carreira. Uma consultora.\n",
      "Second Level Comment 2: Essa empresa tentou contratar me por duas vezes..\n",
      "\n",
      "Ambas por menos do que eu estava a ganhar na altura, porque \"seria uma ótima oportunidade de crescimento\"\n",
      "Comment 4: Faz me lembrar das propostas que no título dizem “100% remote” e na descrição diz dois dias obrigatórios no escritório por semana\n",
      "Comment 5: Se isso é entry level… senior é 40 anos?\n",
      "Second Level Comment 1: Já vi um auto-intitulado de sénior com 34 anos. No mínimo ridículo, mas é feliz assim.\n",
      "Comment 6: Dropdown é sempre uma coisa complicada para HR. Esqueceram-se de mudar isso.\n",
      "Comment 7: Entre level apenas quer dizer que vais mamar salario minimo xD\n",
      "Comment 8: A job offer está certa, querem alguém com 5 anos de experiência e pagam um salário entry level.\n",
      "\n",
      "Se queres aceitar isso já é contigo 😂\n",
      "Second Level Comment 1: O pior é que tens razão 😂\n",
      "Comment 9: EU TENHO ODIO PURO, PURO!  por essas merdas! A quantidade de \"entry level\" , \"part time\",\"iniciante\" só que desces nos requerimentos e logo depois das linguagens que tu sabes. Pedem 5 anos de experiencia profissional!  Não querem saber de projetos individuais que fizeste, de faculdade, do mestrado não. 5 anos de experiencia pra um trabalho de iniciante hahahaha.  Ser iniciante é fudido por isso que sempre digo é entrar na primeira empresa e ficar no grind pelo menos por 1/2 anos até conseguires algo melhor.\n",
      "Second Level Comment 1: Mestrado tb é engraçado + 300 anos de experiência e saber 10 linguagens.\n",
      " Eu tenho o 9 ano, e trabalho em Londres a 10 anos, aqui só se dá um teste, sabes ou não sabes.\n",
      "Second Level Comment 2: Eu trabalho num nicho de mercado, cobol, odeio quando pedem mestrado ou até mesmo licenciatura, isto nem sequer se ensina na universidade há dezenas de anos…\n",
      "Ou depois pedem com experiência em Java por exemplo, são duas coisas tão diferentes que acho que a quantidade de pessoas a saber as duas linguagens deve ser tipo 0,0001% do mercado mas depois vão-te oferecer 3 sandes de rissois e um ucal em vez de um salário multi milionário que merecias\n",
      "Comment 10: A 10 anos saí de Portugal, troquei de carreira e comecei a programar, agora estou a planear voltar. Isto é o tipo de merdas q não tenho saudades. \n",
      "Uma das experiências que mais me marcou, foi alguém me pedir 5 anos de experiência em Swift pra IOS (tinha saído meses antes).\n",
      "Outra também me marcou, foi, posição de junior/estágio, mas precisavam de mim para ensinar a pessoa que lá estava a ser paga full time.\n",
      "Tive que me rir, pois na minha entrevista estavam 6 miúdas, que nem 25 anos tinham, que no final me disseram que de qualquer forma a posição não era minha pois já tinha 31...\n",
      "Foram 6 meses de procura para não ter nem uma posição.\n",
      "Vim para Londres e estava a trabalhar 23 dias depois de chegar.\n",
      "Talvez voltar não será a melhor decisão 😆\n",
      "Second Level Comment 1: Queres voltar pq já recebeste o suficiente aí? Ou por outras razões?\n",
      "Comment 11: Entry level é o salário, trabalho eles querem o de um sénior\n",
      "Comment 12: Consultating gonna consultate.  InnoTech diz tudo.\n",
      "Comment 13: Devia ser crime contratar o pessoal de RH/Recrutamento que põe isto online.\n",
      "Second Level Comment 1: A culpa não é da malta de RH\n",
      "Comment 14: Essa empresa tentou contratar me por duas vezes..\n",
      "\n",
      "Ambas por menos do que eu estava a ganhar na altura, porque \"seria uma ótima oportunidade de crescimento\"\n",
      "Second Level Comment 1: O crescimento (€) era para eles, não para ti lol\n",
      "Second Level Comment 2: A  mim já tentaram 3x, nunca passamos da fase inicial porque + de 2.4k  brutos para tech lead com + de 10 anos de xp é muito para eles... degradante.\n",
      "Comment 15: Gosto da grafia Crud em vez de CRUD.\n",
      "Second Level Comment 1: Se calhar eles querem veteranos do SQL que trabalharam com servidores que deixam sedimentos oleosos no chão\n",
      "Comment 16: Prato do dia. Melhor e queimando dizem que é remoto e Júnior e depois na descrição tens de ter 5 anos de experiência e afinal é presencial.\n",
      "\n",
      "Ou então aquelas vagas Júnior que precisas de ser muito bom em 30 linguagens…\n",
      "Second Level Comment 1: Só 30 linguagens? Adiciona cloud, containers e ci pipelines.\n",
      "Comment 17: Mais uma consultoria que é uma piada. Te consideram junior já com mais de 4 anos de experiência e cargos anteriores como nivel pleno. E o ordenamento... risos\n",
      "Comment 18: Deixei de acreditar nestas merdas quando vi um post de alguém estrangeiro sobre uma empresa a pedir 5 anos de experiência num programa que existia há 3 anos e foi criado pelo criador do post\n",
      "Second Level Comment 1: Eu recordo vagamente dessa situação, fartei-me de rir com isso e gozei muito com a malta dos RH 🤣\n",
      "Second Level Comment 2: Tb me aconteceu o mm, swift pra IOS em 2014, saiu meses antes, mas as bestas queriam 5 anos de experiência.\n",
      "Comment 19: Vou vos dar um insight do lado do recrutamento.\n",
      "\n",
      "As definições do ATS e do nível que decidimos para a vaga tem de “coordenar” com várias plataformas, porque quando lanças a vaga é deployed simultaneamente em todos os sítios que estão a publicar.\n",
      "\n",
      "Tanto quanto me lembro, o LinkedIn não tem um equivalente a “mid”, eu na minha empresa também tenho este problema, então tenho de manualmente mudar as vagas especificamente no LinkedIn.\n",
      "\n",
      "Se não se tiver essa atenção ao detalhe (ou se de lidar com um volume maior), este tipo de coisas passam sem ninguém notar.\n",
      "\n",
      "Agora também dou a dica à malta do lado dos devs, às vezes vocês “exigem” que não haja estas falhas, mas depois recebemos os CVs das pessoas e também vêm cheios de calinadas.\n",
      "\n",
      "Conclusão, sejam mais compreensivos overall, ajuda imenso a toda a gente.\n",
      "\n",
      "E em relação à vaga, se diz 5 anos eu guiava-me por aí.\n",
      "Second Level Comment 1: Escreves com bom senso a uma pessoa perfeita que faz todos os seus desenvolvimentos à primeira sem bugs /s\n",
      "Second Level Comment 2: Bom insight :)\n",
      "\n",
      "Claro que neste caso não deve passar de um lapso... No entanto, também me preocupa muitas vezes a falta de brio com que a malta aparenta postar estas vagas. Claro que um CV sem calinadas é o mínimo, mas caramba já vi vagas em Inglês a pedir \"fluência\" mas depois escrevem tretas como \"destinies\" como tradução de \"destinatários\", \"an company\", vírgulas entre o sujeito e o predicado e coisas do género. Isso passa 0 confiança.\n",
      "Comment 20: Ah uns tempos atrás encontrei uma que pedia um especialista para o lugar de assistente. Com tantas propostas parolas que tenho visto e contactos que parecem programas para os apanhados, é de concluir que os Recursos Humanos são a prova viva de que actualmente podes ir para a universidade tirar um curso e sair de lá a não saber nada nem ser ninguém.\n",
      "Comment 21: It is a scam\n",
      "Comment 22: Pode ter sido um erro criar a job listing também :/ \n",
      "\n",
      "Ou copiaram de outra e ficou assim.... \n",
      "\n",
      "Eu confiava mais na descrição do que no \"Entry Level\" mas é uma merda porque nem eles vão conseguir encontrar pessoas, nem as pessoas encontram a oferta lol\n",
      "Comment 23: Já trabalhei com várias pessoas com vários anos de experiência e eram autênticos juniors...\n",
      "Second Level Comment 1: Está frase também é uma treta, eram juniores em quê? Tooling? Mudaram de stack tecnologica? Não sabiam algum tipo de conceito? Não percebiam o negócio?\n",
      "\n",
      "Há tanto que se lhe diga nestes rótulos, já vi malta classificada como junior a dar 10 a zero a seniores e já vi seniores a mostrar exatamente o que isso significa.\n",
      "\n",
      "\n",
      "Há bons e maus profissionais, a única coisa que concordo é que anos de experiência não querem dizer grande coisa, e isso é igual em tudo, 10 anos a fazer a mesma coisa da mesma maneira não dá para aprender, apenas para mecanizar.\n",
      "Second Level Comment 2: Junim de 10anos\n",
      "Second Level Comment 3: Com todo o respeito, se tens vários anos de experiência e n progrides isso diz muito do nivel de intelecto\n",
      "A n ser q o teu trabalho deja super repetitivo tens q ir evoluindo com o tempo\n",
      "Comment 24: Pah, ler propostas mal feitas a mim já nem me afeta, mas a avalanche de recrutadores a fazer propostas ridículas… já me tira o ar… nunca respondo a tugas e faço um esforço para não os eliminar logo da rede…\n",
      "Comment 25: Podes sempre questionar. Também podes candidatar e depois logo se vê.\n",
      "Second Level Comment 1: Agradeço a sugestão, mas sinceramente era mais um desabafo/rant depois de ter visto aquilo. Nem estou interessado na empresa\n",
      "Comment 26: Foge desses gajos, é só esquemas para não pagarem o que devem. Ex: milímetros fictícios, tickets e afins... deprimente!\n",
      "Comment 27: Precisam de uma pessoa fraquinha… depois de 5 anos de XP continua a ser Júnior. 🤩\n",
      "Comment 28: Geralmente quem escreve descrição de uma vaga não faz ideia do que tá fazendo haha, uma pessoa vai lá e fala que busca um profissional assim, assim e assim, ela só copia e cola, por isso que já vi vaga de Back end e nos requisitos estava que deveria saber Python, c#, Java, php e rust… \n",
      "Já vi vaga que era fronte end, mas pedia que você soubesse gerenciamento de email marketing, SEO,  php com laravel, gerenciar servidor, além de conseguir da manutenção ao servidor ( fisicamente ) sim isso era uma vaga front end que vi no it Jobs kkkkk\n",
      "Comment 29: [removed]\n",
      "Second Level Comment 1: Obrigado pelo teu interesse em utilizar este subreddit. Para combater spam e throwaways, contas recentes **não** podem submeter conteúdo ou comentar. Por favor **NÃO** contactes via modmail a pedir aprovação, explora o Reddit e utiliza outros subs primeiro. Obrigado.\n",
      "\n",
      "*I am a bot, and this action was performed automatically. Please [contact the moderators of this subreddit](/message/compose/?to=/r/devpt) if you have any questions or concerns.*\n",
      "Comment 30: Tenho lá amigos e ganham bem\n",
      "Second Level Comment 1: Quanto?\n",
      "Second Level Comment 2: BS... pagam mal que doi.\n",
      "Comment 31: Enganaram se a por um dos parâmetros, geralmente usam um predefinido e mudam, só chorões neste sub\n",
      "Second Level Comment 1: Lol não é nada. 1 em cada 3 ofertas de entry level são assim. Não cometem todos o mesmo \"erro\". Anda lá.\n",
      "Second Level Comment 2: Não se enganaram não :)\n",
      "Second Level Comment 3: E com razão. As pessoas que filtram por uma vaga de senior/mid nao vão ver essa vaga porque está mal configurada.\n",
      "\n",
      "A meu ver, isto significa menos job offers que aparecem para essas pessoas; desperdício de tempo dos juniors; menos candidatos para a vaga; e mais candidaturas de juniors para os recrutadores, que presumo que não seja esse o objetivo\n"
     ]
    }
   ],
   "source": [
    "top_post = next(subreddit.top(limit=1))\n",
    "\n",
    "for i, top_level_comment in enumerate(top_post.comments):\n",
    "    print(f\"Comment {i+1}: {top_level_comment.body}\")\n",
    "    for j, second_level_comment in enumerate(top_level_comment.replies):\n",
    "        print(f\"Second Level Comment {j+1}: {second_level_comment.body}\")"
   ]
  },
  {
   "cell_type": "markdown",
   "id": "3ffae08ee40fd357",
   "metadata": {},
   "source": [
    "## 8. Posting a submission\n",
    "\n",
    "You can post a submission to a subreddit by using the submit method of the subreddit instance.\n",
    "\n",
    "We will use a subreddit named \"testingground4bots\" that is used for testing bots."
   ]
  },
  {
   "cell_type": "code",
   "execution_count": 55,
   "id": "e2395a2cf7f63858",
   "metadata": {
    "ExecuteTime": {
     "end_time": "2024-10-18T21:22:46.580449Z",
     "start_time": "2024-10-18T21:22:46.092273Z"
    }
   },
   "outputs": [
    {
     "data": {
      "text/plain": [
       "Submission(id='1g6t1ub')"
      ]
     },
     "execution_count": 55,
     "metadata": {},
     "output_type": "execute_result"
    }
   ],
   "source": [
    "subreddit = reddit_instance.subreddit(\"testingground4bots\")\n",
    "post = subreddit.submit(\"Dummy Submission\", selftext=\"This is a dummy submission.\")"
   ]
  },
  {
   "cell_type": "markdown",
   "id": "de5787b2d0b3079",
   "metadata": {},
   "source": [
    "## 9. Making a comment\n",
    "\n",
    "You can make a comment on a post by using the reply method of the post instance."
   ]
  },
  {
   "cell_type": "code",
   "execution_count": 56,
   "id": "70310ef376c8c102",
   "metadata": {
    "ExecuteTime": {
     "end_time": "2024-10-18T21:25:47.443750Z",
     "start_time": "2024-10-18T21:25:47.049076Z"
    }
   },
   "outputs": [
    {
     "data": {
      "text/plain": [
       "Comment(id='lslb6s1')"
      ]
     },
     "execution_count": 56,
     "metadata": {},
     "output_type": "execute_result"
    }
   ],
   "source": [
    "# post = reddit_instance.submission(id=\"1g6t1ub\")\n",
    "reply = post.reply(\"This is a dummy comment.\")"
   ]
  },
  {
   "cell_type": "markdown",
   "id": "18fe9e0c8f316c3",
   "metadata": {},
   "source": [
    "## Commenting a comment"
   ]
  },
  {
   "cell_type": "code",
   "execution_count": 59,
   "id": "be1d01fa2ee6a111",
   "metadata": {
    "ExecuteTime": {
     "end_time": "2024-10-18T21:28:53.371445Z",
     "start_time": "2024-10-18T21:28:52.891598Z"
    }
   },
   "outputs": [],
   "source": [
    "# reply = reddit_instance.comment(id=\"lslb6s1\")\n",
    "reply_reply = reply.reply(\"This is a dummy reply to a comment.\")"
   ]
  },
  {
   "cell_type": "markdown",
   "id": "3a43dfbe91756efe",
   "metadata": {},
   "source": [
    "## 10. Upvoting a post and a comment"
   ]
  },
  {
   "cell_type": "code",
   "execution_count": 60,
   "id": "a687fda63618d62d",
   "metadata": {
    "ExecuteTime": {
     "end_time": "2024-10-18T21:29:51.917557Z",
     "start_time": "2024-10-18T21:29:51.710633Z"
    }
   },
   "outputs": [],
   "source": [
    "post.upvote()"
   ]
  },
  {
   "cell_type": "code",
   "execution_count": 61,
   "id": "125761e7cb03137a",
   "metadata": {
    "ExecuteTime": {
     "end_time": "2024-10-18T21:30:51.976099Z",
     "start_time": "2024-10-18T21:30:51.750673Z"
    }
   },
   "outputs": [],
   "source": [
    "reply.upvote()"
   ]
  },
  {
   "cell_type": "markdown",
   "id": "8fe22081f5dd1294",
   "metadata": {},
   "source": [
    "## 11. Searching reddit and subreddits"
   ]
  },
  {
   "cell_type": "code",
   "execution_count": 68,
   "id": "96ea2d57584f3b39",
   "metadata": {
    "ExecuteTime": {
     "end_time": "2024-10-21T12:58:04.619257Z",
     "start_time": "2024-10-21T12:58:04.126892Z"
    }
   },
   "outputs": [
    {
     "name": "stdout",
     "output_type": "stream",
     "text": [
      "Vaga remota - Senior e intermediate python developers\n",
      "Querido(a) dev: o fim do brilhantismo (testao.txt)\n",
      "Crise dos 30\n",
      "Surpreso com a quantidade de gente tentando vagas de embarcados\n",
      "Esse mercado ta acabando comigo\n"
     ]
    }
   ],
   "source": [
    "vagas = reddit_instance.subreddit(\"all\").search(\"vaga python\", limit=5, time_filter=\"month\")\n",
    "for vaga in vagas:\n",
    "    print(vaga.title)"
   ]
  },
  {
   "cell_type": "code",
   "execution_count": null,
   "id": "63b2506217586ce9",
   "metadata": {},
   "outputs": [],
   "source": []
  }
 ],
 "metadata": {
  "kernelspec": {
   "display_name": "tac-hands-on",
   "language": "python",
   "name": "python3"
  },
  "language_info": {
   "codemirror_mode": {
    "name": "ipython",
    "version": 3
   },
   "file_extension": ".py",
   "mimetype": "text/x-python",
   "name": "python",
   "nbconvert_exporter": "python",
   "pygments_lexer": "ipython3",
   "version": "3.10.14"
  }
 },
 "nbformat": 4,
 "nbformat_minor": 5
}
