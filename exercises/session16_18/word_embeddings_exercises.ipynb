{
 "cells": [
  {
   "cell_type": "markdown",
   "id": "98c7721accefab59",
   "metadata": {},
   "source": [
    "# Word Embeddings Exercises\n",
    "\n",
    "In these exercises, we'll practice computing word embeddings and using them for sentiment analysis.\n",
    "\n",
    "- For sentiment analysis, we can go beyond simply counting words.\n",
    "- Instead, we can represent each word numerically with a vector.\n",
    "- This vector can capture syntactic (e.g., parts of speech) and semantic (e.g., meaning) structures of words.\n",
    "\n",
    "We'll explore a classic approach for generating word embeddings, implementing a well-known model called the Continuous Bag of Words (CBOW) model.\n",
    "\n",
    "By completing this assignment, we will:\n",
    "\n",
    "- Train word vectors from scratch.\n",
    "- Understand how backpropagation works.\n",
    "- Plot and visualize the learned word vectors.\n",
    "\n",
    "Training these models will deepen our understanding of word vectors, foundational elements in natural language processing and behavior analysis technologies.\n",
    "\n"
   ]
  },
  {
   "cell_type": "markdown",
   "id": "5103d6982ff3de39",
   "metadata": {},
   "source": [
    "#  The Continuous Bag of Words (CBOW) Model\n",
    "\n",
    "Consider the following sentence: \n",
    "> **\"I am happy because I am learning.\"**\n",
    "\n",
    "- In the Continuous Bag of Words (CBOW) model, we aim to predict the center word using a few surrounding context words.\n",
    "- For instance, with a context window size of $C = 2$, we would try to predict the word **\"happy\"** using two words before and two words after the center word:\n",
    "\n",
    "> $C$ words before: [I, am]  \n",
    "> $C$ words after: [because, I]  \n",
    "\n",
    "- This gives us:\n",
    "\n",
    "$$\\text{context} = [I, am, because, I]$$  \n",
    "$$\\text{target} = \\text{happy}$$"
   ]
  },
  {
   "cell_type": "markdown",
   "id": "db2487b67963bb43",
   "metadata": {},
   "source": [
    "The model structure is shown below:\n",
    "\n",
    "<div style=\"width:image width px; font-size:100%; text-align:center;\"><img src='imgs/word2.png' alt=\"CBOW Model Structure\" width=\"600px\" height=\"250px\" /> Figure 1 </div>\n",
    "\n",
    "In this setup, $\\bar x$ represents the average of the one-hot vectors of the context words.\n",
    "\n",
    "<div style=\"width:image width px; font-size:100%; text-align:center;\"><img src='imgs/mean_vec2.png' alt=\"Mean Vector\" width=\"600px\" height=\"250px\" /> Figure 2 </div>\n",
    "\n",
    "Once all context words are encoded, we use $\\bar x$ as the input to our model.\n",
    "\n",
    "The architecture you will implement is structured as follows:\n",
    "\n",
    "\\begin{align}\n",
    " h &= W_1 \\  X + b_1  \\tag{1} \\\\\n",
    " a &= ReLU(h)  \\tag{2} \\\\\n",
    " z &= W_2 \\  a + b_2   \\tag{3} \\\\\n",
    " \\hat y &= softmax(z)   \\tag{4} \\\\\n",
    "\\end{align}"
   ]
  },
  {
   "cell_type": "markdown",
   "id": "74b56f6fe95fbd7e",
   "metadata": {},
   "source": [
    "## Exercise 1 - Data Pre-processing\n",
    "\n",
    "- **1.1 Read the file `data/shakespeare.txt`. Use the python `open` function for reading the file.**\n",
    "- **1.2 Remove punctuation and numbers from the text (`,!?;-`).**\n",
    "- **1.3 Tokenize the text using the `nltk` library.**\n",
    "- **1.4 Lowercase the tokens and keep only words with alphabetical characters.**"
   ]
  },
  {
   "cell_type": "code",
   "execution_count": 1,
   "id": "4cfd0f0cdb4c18a9",
   "metadata": {
    "ExecuteTime": {
     "end_time": "2024-11-10T23:58:58.108483Z",
     "start_time": "2024-11-10T23:58:57.865079Z"
    }
   },
   "outputs": [
    {
     "name": "stdout",
     "output_type": "stream",
     "text": [
      "First 200 lines: O for a Muse of fire, that would ascend\n",
      "The brightest heaven of invention,\n",
      "A kingdom for a stage, princes to act\n",
      "And monarchs to behold the swelling scene!\n",
      "Then should the warlike Harry, like himself,\n",
      "---------------\n",
      "Number of tokens: 51631 \n",
      " ['o', 'for', 'a', 'muse', 'of', 'fire', 'that', 'would', 'ascend', 'the', 'brightest', 'heaven', 'of', 'invention', 'a', 'kingdom', 'for', 'a', 'stage', 'princes', 'to', 'act', 'and', 'monarchs', 'to', 'behold', 'the', 'swelling', 'scene', 'then', 'should', 'the', 'warlike', 'harry', 'like', 'himself', 'assume', 'the', 'port', 'of', 'mars', 'and', 'at', 'his', 'heels', 'leash', 'in', 'like', 'hounds', 'should', 'famine', 'sword', 'and', 'fire', 'crouch', 'for', 'employment', 'but', 'pardon', 'and', 'gentles', 'all', 'the', 'flat', 'unraised', 'spirits', 'that', 'have', 'dared', 'on', 'this', 'unworthy', 'scaffold', 'to', 'bring', 'forth', 'so', 'great', 'an', 'object', 'can', 'this', 'cockpit', 'hold', 'the', 'vasty', 'fields', 'of', 'france', 'or', 'may', 'we', 'cram', 'within', 'this', 'wooden', 'o', 'the', 'very', 'casques', 'that', 'did', 'affright', 'the', 'air', 'at', 'agincourt', 'o', 'pardon', 'since', 'a', 'crooked', 'figure', 'may', 'attest', 'in', 'little', 'place', 'a', 'million', 'and', 'let', 'us', 'ciphers', 'to', 'this', 'great', 'accompt', 'on', 'your', 'imaginary', 'forces', 'work', 'suppose', 'within', 'the', 'girdle', 'of', 'these', 'walls', 'are', 'now', 'confined', 'two', 'mighty', 'monarchies', 'whose', 'high', 'upreared', 'and']\n"
     ]
    }
   ],
   "source": [
    "import re\n",
    "import nltk\n",
    "\n",
    "with open(\"data/shakespeare.txt\", 'r') as f:\n",
    "    docs = f.read()\n",
    "\n",
    "print(f\"First 200 lines: {docs[:200]}\")\n",
    "print(\"---------------\")\n",
    "\n",
    "def preprocess_tokenize(text):\n",
    "    text = re.sub(r'[,!?;-]', '', text)\n",
    "    text = nltk.word_tokenize(text)\n",
    "\n",
    "    return [token.lower() for token in text if token.isalpha()]\n",
    "\n",
    "\n",
    "data = preprocess_tokenize(docs)\n",
    "print(\"Number of tokens:\", len(data),'\\n', data[:150])"
   ]
  },
  {
   "cell_type": "code",
   "execution_count": 2,
   "id": "146fef78d0068478",
   "metadata": {
    "ExecuteTime": {
     "end_time": "2024-11-10T23:58:58.130191Z",
     "start_time": "2024-11-10T23:58:58.127299Z"
    }
   },
   "outputs": [],
   "source": [
    "assert len(data) == 51631, f\"Error in the data length. Expected 26754 but got {len(data)}\"\n",
    "assert data[3] == 'muse', f\"Error: Expected 'muse' but got {data[3]}\"\n",
    "assert data[5] == 'fire', f\"Error: Expected 'fire' but got {data[5]}\""
   ]
  },
  {
   "cell_type": "markdown",
   "id": "d6b5fc471535150",
   "metadata": {},
   "source": [
    "## Exercise 2 - Word Frequency\n",
    "\n",
    "**2. Print the size of the vocabulary and the 10 most frequent tokens.**"
   ]
  },
  {
   "cell_type": "code",
   "execution_count": 3,
   "id": "3e17a0fa7058fefa",
   "metadata": {
    "ExecuteTime": {
     "end_time": "2024-11-10T23:58:58.204740Z",
     "start_time": "2024-11-10T23:58:58.186125Z"
    }
   },
   "outputs": [
    {
     "name": "stdout",
     "output_type": "stream",
     "text": [
      "Size of vocabulary: 5966\n",
      "Most frequent tokens: [('the', 1521), ('and', 1394), ('i', 1271), ('to', 1159), ('of', 1093), ('my', 857), ('that', 781), ('in', 771), ('a', 753), ('you', 748)]\n"
     ]
    }
   ],
   "source": [
    "from nltk import FreqDist\n",
    "\n",
    "fdist = FreqDist(data)\n",
    "\n",
    "print(\"Size of vocabulary:\", len(fdist) )\n",
    "print(\"Most frequent tokens:\", fdist.most_common(10))"
   ]
  },
  {
   "cell_type": "code",
   "execution_count": 4,
   "id": "a3db34d1893fc8e1",
   "metadata": {
    "ExecuteTime": {
     "end_time": "2024-11-10T23:58:58.258156Z",
     "start_time": "2024-11-10T23:58:58.254679Z"
    }
   },
   "outputs": [],
   "source": [
    "assert len(fdist) == 5966, f\"Error: Expected 5841 but got {len(fdist)}\"\n",
    "assert fdist.most_common(1)[0][0] == 'the', f\"Error: The most frequent word should be 'the'\""
   ]
  },
  {
   "cell_type": "markdown",
   "id": "8d2050d43435b99e",
   "metadata": {},
   "source": [
    "## Exercise 3 - Mapping words to indices and indices to words\n",
    "\n",
    "3. Create two dictionaries:\n",
    "    - `word2Ind`: a dictionary that maps words to unique indices.\n",
    "    - `Ind2word`: a dictionary that maps indices to unique words."
   ]
  },
  {
   "cell_type": "code",
   "execution_count": 5,
   "id": "77239a47bee1fb1e",
   "metadata": {
    "ExecuteTime": {
     "end_time": "2024-11-10T23:58:58.313206Z",
     "start_time": "2024-11-10T23:58:58.307862Z"
    }
   },
   "outputs": [
    {
     "data": {
      "text/plain": [
       "(5966, 5966)"
      ]
     },
     "execution_count": 5,
     "metadata": {},
     "output_type": "execute_result"
    }
   ],
   "source": [
    "word2Ind = {word: value for value, word in enumerate(fdist.keys())}\n",
    "Ind2word = {value: word for word, value in word2Ind.items()} \n",
    "len(word2Ind), len(Ind2word)"
   ]
  },
  {
   "cell_type": "code",
   "execution_count": 6,
   "id": "176d03da09a7e4a2",
   "metadata": {
    "ExecuteTime": {
     "end_time": "2024-11-10T23:58:58.373994Z",
     "start_time": "2024-11-10T23:58:58.371192Z"
    }
   },
   "outputs": [
    {
     "name": "stdout",
     "output_type": "stream",
     "text": [
      "Index of the word 'king' :   173\n",
      "Word which has index 2743:   decree\n"
     ]
    }
   ],
   "source": [
    "# example of word to index mapping\n",
    "print(\"Index of the word 'king' :  \", word2Ind['king'] )\n",
    "print(\"Word which has index 2743:  \", Ind2word[2743] )"
   ]
  },
  {
   "cell_type": "code",
   "execution_count": 7,
   "id": "df2c8648daab469a",
   "metadata": {
    "ExecuteTime": {
     "end_time": "2024-11-10T23:58:58.429100Z",
     "start_time": "2024-11-10T23:58:58.426192Z"
    }
   },
   "outputs": [],
   "source": [
    "assert word2Ind['king'] == 173, f\"Error: The index of the word 'king' should be 173 but got {word2Ind['king']}\"\n",
    "assert Ind2word[2743] == 'decree', f\"Error: The word with index 2743 should be 'decree' but got {Ind2word[173]}\""
   ]
  },
  {
   "cell_type": "markdown",
   "id": "7a7a6265be2b66e6",
   "metadata": {},
   "source": [
    "## Exercise 4 - Sliding Window of Words\n",
    "\n",
    "**4. Implement a function `get_windows(words, C)` that returns a list of tuples, each tuple containing:**\n",
    "- a center word\n",
    "- a list of `2*C` context words"
   ]
  },
  {
   "cell_type": "code",
   "execution_count": 8,
   "id": "eb8b89707efbe0be",
   "metadata": {
    "ExecuteTime": {
     "end_time": "2024-11-10T23:58:58.474843Z",
     "start_time": "2024-11-10T23:58:58.472291Z"
    }
   },
   "outputs": [],
   "source": [
    "def get_windows(words, C):\n",
    "    i = C\n",
    "\n",
    "    while i < len(words) - C:\n",
    "        central_word = words[i]\n",
    "        before_words = words[i-C:i]\n",
    "        after_words = words[i+1:i+C+1]\n",
    "\n",
    "        context_words = before_words + after_words\n",
    "        yield context_words, central_word\n",
    "\n",
    "        i += 1"
   ]
  },
  {
   "cell_type": "code",
   "execution_count": 9,
   "id": "1d28c58a4b6c0f95",
   "metadata": {
    "ExecuteTime": {
     "end_time": "2024-11-10T23:58:58.526456Z",
     "start_time": "2024-11-10T23:58:58.524015Z"
    }
   },
   "outputs": [
    {
     "name": "stdout",
     "output_type": "stream",
     "text": [
      "['i', 'am', 'because', 'i']\thappy\n",
      "['am', 'happy', 'i', 'am']\tbecause\n",
      "['happy', 'because', 'am', 'learning']\ti\n"
     ]
    }
   ],
   "source": [
    "# Print 'context_words' and 'center_word' for the new corpus with a 'context half-size' of 2\n",
    "for x, y in get_windows(['i', 'am', 'happy', 'because', 'i', 'am', 'learning'], 2):\n",
    "    print(f'{x}\\t{y}')"
   ]
  },
  {
   "cell_type": "code",
   "execution_count": 10,
   "id": "e82eaa22126683df",
   "metadata": {
    "ExecuteTime": {
     "end_time": "2024-11-10T23:58:58.581514Z",
     "start_time": "2024-11-10T23:58:58.578044Z"
    }
   },
   "outputs": [],
   "source": [
    "assert [x for x in get_windows(['i', 'am', 'happy', 'because', 'i', 'am', 'learning'], 2)] == [(['i', 'am', 'because', 'i'], 'happy'), (['am', 'happy', 'i', 'am'], 'because'), (['happy', 'because', 'am', 'learning'], 'i')], \"Error\""
   ]
  },
  {
   "cell_type": "markdown",
   "id": "207d1ff13c449964",
   "metadata": {},
   "source": [
    "## Exercise 5 - One-hot Encoding\n",
    "\n",
    "**5. Implement a function `word_to_one_hot(word, word2Ind, V)` that gets a word and returns a one-hot encoded vector.**\n",
    "\n",
    "**Note:** \n",
    "- `V` is the size of the vocabulary (the number of words in `word2Ind`).\n",
    "- `word2Ind` is a dictionary that maps words to indices (created previously).\n",
    "- The function should return a 1D numpy array with a length equal to the vocabulary size.\n"
   ]
  },
  {
   "cell_type": "code",
   "execution_count": 11,
   "id": "357b36cf240300d7",
   "metadata": {
    "ExecuteTime": {
     "end_time": "2024-11-10T23:58:58.629534Z",
     "start_time": "2024-11-10T23:58:58.626056Z"
    }
   },
   "outputs": [],
   "source": [
    "import numpy as np\n",
    "\n",
    "def word_to_one_hot(word, word2Ind, V):\n",
    "    one_hot = np.zeros(V)\n",
    "    one_hot[word2Ind[word]] = 1\n",
    "\n",
    "    return one_hot"
   ]
  },
  {
   "cell_type": "code",
   "execution_count": 12,
   "id": "1a49f6ad91875660",
   "metadata": {
    "ExecuteTime": {
     "end_time": "2024-11-10T23:58:58.685276Z",
     "start_time": "2024-11-10T23:58:58.681474Z"
    }
   },
   "outputs": [
    {
     "name": "stdout",
     "output_type": "stream",
     "text": [
      "[0. 0. 0. ... 0. 0. 0.]\n",
      "1.0\n"
     ]
    }
   ],
   "source": [
    "# Example\n",
    "print(word_to_one_hot('muse', word2Ind, len(word2Ind)))\n",
    "\n",
    "print(sum(word_to_one_hot('muse', word2Ind, len(word2Ind))))"
   ]
  },
  {
   "cell_type": "code",
   "execution_count": 13,
   "id": "2a5988c863001efe",
   "metadata": {
    "ExecuteTime": {
     "end_time": "2024-11-10T23:58:58.740054Z",
     "start_time": "2024-11-10T23:58:58.736412Z"
    }
   },
   "outputs": [],
   "source": [
    "assert sum(word_to_one_hot('muse', word2Ind, len(word2Ind))) == 1, f\"Error: The sum of the one-hot vector should be 1\"\n",
    "assert len(word_to_one_hot('muse', word2Ind, len(word2Ind))) == 5966 == len(word2Ind), f\"Error: The length of the vector should be 5841\""
   ]
  },
  {
   "cell_type": "markdown",
   "id": "d3b2cc999540a23b",
   "metadata": {},
   "source": [
    "## Exercise 6 - Context Words to One-hot Encoded Vectors\n",
    "\n",
    "**6. Implement a function `context_words_to_vector(context_words, word2Ind, V)` that returns the average of the one-hot vectors of the words in the context.**\n",
    "\n",
    "**Note:**\n",
    "- `context_words` is a list of words (the context words).\n",
    "- The function should return a 1D numpy array with a length equal to the vocabulary size."
   ]
  },
  {
   "cell_type": "code",
   "execution_count": 14,
   "id": "cf0d3e9b38923ccc",
   "metadata": {
    "ExecuteTime": {
     "end_time": "2024-11-10T23:58:58.787006Z",
     "start_time": "2024-11-10T23:58:58.783725Z"
    }
   },
   "outputs": [],
   "source": [
    "def context_words_to_vector(context_words, word2Ind, V):\n",
    "    one_hot = [word_to_one_hot(word, word2Ind, V) for word in context_words]\n",
    "\n",
    "    return np.mean(one_hot, axis=0)"
   ]
  },
  {
   "cell_type": "code",
   "execution_count": 15,
   "id": "663ae6b3c8f46a30",
   "metadata": {
    "ExecuteTime": {
     "end_time": "2024-11-10T23:58:58.841750Z",
     "start_time": "2024-11-10T23:58:58.838076Z"
    }
   },
   "outputs": [
    {
     "name": "stdout",
     "output_type": "stream",
     "text": [
      "[0.25 0.25 0.   ... 0.   0.   0.  ]\n"
     ]
    }
   ],
   "source": [
    "# Example\n",
    "context_words = list(get_windows(data[:10], 2))[0][0]\n",
    "print(context_words_to_vector(context_words, word2Ind, len(word2Ind)))"
   ]
  },
  {
   "cell_type": "code",
   "execution_count": 16,
   "id": "1ad12a9e398a9639",
   "metadata": {
    "ExecuteTime": {
     "end_time": "2024-11-10T23:58:58.896124Z",
     "start_time": "2024-11-10T23:58:58.892315Z"
    }
   },
   "outputs": [],
   "source": [
    "assert sum(context_words_to_vector(context_words, word2Ind, len(word2Ind))) == 1, f\"Error: The sum of the vector should be 1\"\n",
    "assert len(context_words_to_vector(context_words, word2Ind, len(word2Ind))) == 5966 == len(word2Ind), f\"Error: The length of the vector should be 5841\""
   ]
  },
  {
   "cell_type": "markdown",
   "id": "c5c320d3850fc4fd",
   "metadata": {},
   "source": [
    "## Exercise 7 - Building the Training Set\n",
    "\n",
    "**7. Implement a function `get_training_example(words, C, word2Ind, V)` that returns the center word one-hot encoded vector and the average of the one-hot vectors of the context words.**\n",
    "\n",
    "**Note:**\n",
    "- `words` is a list of words.\n",
    "- `C` is the context half-size.\n",
    "- `word2Ind` is a dictionary that maps words to indices.\n",
    "- `V` is the size of the vocabulary."
   ]
  },
  {
   "cell_type": "code",
   "execution_count": 17,
   "id": "5217aebd24a8cef4",
   "metadata": {
    "ExecuteTime": {
     "end_time": "2024-11-10T23:58:58.942503Z",
     "start_time": "2024-11-10T23:58:58.939031Z"
    }
   },
   "outputs": [],
   "source": [
    "def get_training_example(words, C, word2Ind, V):\n",
    "    for context_word, central_word in get_windows(words, C):\n",
    "        yield word_to_one_hot(central_word, word2Ind, V), context_words_to_vector(context_word, word2Ind, V)"
   ]
  },
  {
   "cell_type": "code",
   "execution_count": 18,
   "id": "7a8835f23e607eac",
   "metadata": {
    "ExecuteTime": {
     "end_time": "2024-11-10T23:58:58.999176Z",
     "start_time": "2024-11-10T23:58:58.993796Z"
    }
   },
   "outputs": [
    {
     "name": "stdout",
     "output_type": "stream",
     "text": [
      "[0. 0. 1. ... 0. 0. 0.]\n",
      "[0.25 0.25 0.   ... 0.   0.   0.  ]\n",
      "[0. 0. 0. ... 0. 0. 0.]\n",
      "[0.   0.25 0.25 ... 0.   0.   0.  ]\n",
      "[0. 0. 0. ... 0. 0. 0.]\n",
      "[0.   0.   0.25 ... 0.   0.   0.  ]\n",
      "[0. 0. 0. ... 0. 0. 0.]\n",
      "[0. 0. 0. ... 0. 0. 0.]\n",
      "[0. 0. 0. ... 0. 0. 0.]\n",
      "[0. 0. 0. ... 0. 0. 0.]\n",
      "[0. 0. 0. ... 0. 0. 0.]\n",
      "[0. 0. 0. ... 0. 0. 0.]\n"
     ]
    }
   ],
   "source": [
    "# Example\n",
    "for center_word_one_hot, context_words_avg in get_training_example(data[:10], 2, word2Ind, len(word2Ind)):\n",
    "    print(center_word_one_hot)\n",
    "    print(context_words_avg)"
   ]
  },
  {
   "cell_type": "markdown",
   "id": "f44907eec15c9f15",
   "metadata": {},
   "source": [
    "# Continuous Bag of Words Model\n",
    "\n",
    "Here is a more complete diagram of the Continuous Bag of Words (CBOW) model:\n",
    "\n",
    "<div style=\"width:image width px; font-size:100%; text-align:center;\"><img src='imgs/cbow_model_architecture2.png' alt=\"CBOW Model Structure\" width=\"600px\" height=\"250px\" /> Figure 3 </div>"
   ]
  },
  {
   "cell_type": "markdown",
   "id": "3429eaf63acb89dd",
   "metadata": {},
   "source": [
    "### Let's start by the activation functions:\n",
    "\n",
    "- **ReLU:** The rectified linear activation function is given by:\n",
    "$$ ReLU(x) = max(0, x) $$\n",
    "- **Softmax:** The softmax function is a generalization of the logistic function that \"squashes\" a K-dimensional vector z of arbitrary real values to a K-dimensional vector $\\sigma(z)$ of real values in the range (0, 1) that add up to 1. The function is given by:\n",
    "$$ \\sigma(z)_j = \\frac{e^{z_j}}{\\sum_{k=1}^{K} e^{z_k}} $$"
   ]
  },
  {
   "cell_type": "markdown",
   "id": "96770e2af4c465bf",
   "metadata": {},
   "source": [
    "## Exercise 8 - Activation Functions\n",
    "\n",
    "**8.1 Implement the ReLU activation function.**\n",
    "- ReLu is used to calculate the values of the hidden layer, in the following way:\n",
    "$$ z_1 = W_1 \\  X + b_1 $$\n",
    "$$ h = ReLU(z_1) $$\n",
    "\n",
    "**8.2 Implement the softmax activation function.**\n",
    "- Softmax is used to calculate the values of the output layer, in the following way:\n",
    "$$ z_2 = W_2 \\  a + b_2 $$\n",
    "$$ \\hat y = softmax(z_2) $$"
   ]
  },
  {
   "cell_type": "code",
   "execution_count": 19,
   "id": "e09cd3bf898ff463",
   "metadata": {
    "ExecuteTime": {
     "end_time": "2024-11-10T23:58:59.108511Z",
     "start_time": "2024-11-10T23:58:59.105328Z"
    }
   },
   "outputs": [],
   "source": [
    "def ReLU(x):\n",
    "    return np.maximum(0, x)"
   ]
  },
  {
   "cell_type": "code",
   "execution_count": 20,
   "id": "36308ef3bfa72d15",
   "metadata": {
    "ExecuteTime": {
     "end_time": "2024-11-10T23:58:59.155406Z",
     "start_time": "2024-11-10T23:58:59.152925Z"
    }
   },
   "outputs": [
    {
     "name": "stdout",
     "output_type": "stream",
     "text": [
      "[1 0 0]\n"
     ]
    }
   ],
   "source": [
    "# Example\n",
    "print(ReLU(np.array([1, -1, 0])))"
   ]
  },
  {
   "cell_type": "code",
   "execution_count": 21,
   "id": "ef455aa9c45ac330",
   "metadata": {
    "ExecuteTime": {
     "end_time": "2024-11-10T23:58:59.205943Z",
     "start_time": "2024-11-10T23:58:59.203466Z"
    }
   },
   "outputs": [],
   "source": [
    "assert np.all(ReLU(np.array([1, -1, 0])) == np.array([1, 0, 0])), f\"Error: The ReLU function is not correct!\""
   ]
  },
  {
   "cell_type": "code",
   "execution_count": 38,
   "id": "3899d90b72da2ce",
   "metadata": {
    "ExecuteTime": {
     "end_time": "2024-11-10T23:58:59.252687Z",
     "start_time": "2024-11-10T23:58:59.249667Z"
    }
   },
   "outputs": [],
   "source": [
    "def softmax(z):\n",
    "    return (np.exp(z)) / np.sum(np.exp(z)) "
   ]
  },
  {
   "cell_type": "code",
   "execution_count": 23,
   "id": "7bfab27f0b27620d",
   "metadata": {
    "ExecuteTime": {
     "end_time": "2024-11-10T23:58:59.302276Z",
     "start_time": "2024-11-10T23:58:59.298626Z"
    }
   },
   "outputs": [
    {
     "name": "stdout",
     "output_type": "stream",
     "text": [
      "[0.09003057 0.24472847 0.66524096]\n"
     ]
    }
   ],
   "source": [
    "# Example\n",
    "print(softmax(np.array([1, 2, 3])))"
   ]
  },
  {
   "cell_type": "code",
   "execution_count": 24,
   "id": "538ad7194c114b1e",
   "metadata": {
    "ExecuteTime": {
     "end_time": "2024-11-10T23:58:59.354512Z",
     "start_time": "2024-11-10T23:58:59.351119Z"
    }
   },
   "outputs": [],
   "source": [
    "assert np.allclose(softmax(np.array([1, 2, 3])), np.array([0.09003057, 0.24472847, 0.66524096])), f\"Error: The softmax function is not correct!\"\n",
    "assert np.allclose(np.sum(softmax(np.array([1, 2, 3]))), 1), f\"Error: The sum of the softmax function should be 1\""
   ]
  },
  {
   "cell_type": "markdown",
   "id": "40d5d5f821381013",
   "metadata": {},
   "source": [
    "# Trainig the CBOW Model\n",
    "\n",
    "<img src=\"imgs/forward.png\">\n",
    "\n",
    "Now that we have implemented the necessary functions to prepare the training data and the activation functions, we can start training the CBOW model.\n",
    "\n",
    "The model will be trained using the following steps:\n",
    "1. Initialize the weights and biases.\n",
    "2. Iterate over the training examples and prepare the input and target output.\n",
    "3. Calculate the predicted output using the forward pass.\n",
    "4. Calculate the loss using the predicted output and the target output.\n",
    "5. Update the weights and biases using backpropagation.\n",
    "6. Repeat the process for a number of epochs.\n"
   ]
  },
  {
   "cell_type": "markdown",
   "id": "da5d50b43257cf79",
   "metadata": {},
   "source": [
    "## Exercise 9 - Initialize the weights and biases\n",
    "\n",
    "**9.1 Initialize the weights `W1` and `W2` with random values from a normal distribution using `np.random.randn` with a seed 0.**\n",
    "- `W1` should be of shape `(N, V)`.\n",
    "- `W2` should be of shape `(V, N)`.\n",
    "- `N` is the dimension of the word embedding.\n",
    "- `V` is the size of the vocabulary.\n",
    "\n",
    "**9.2 Initialize the biases `b1` and `b2` with zeros.**\n",
    "- `b1` should be of shape `(N, 1)`.\n",
    "- `b2` should be of shape `(V, 1)`.\n",
    "\n",
    "**Note:** Use the same function to initialize the weights and biases. Also, set the seed to 42.\n"
   ]
  },
  {
   "cell_type": "code",
   "execution_count": 25,
   "id": "457566eae93bc83",
   "metadata": {
    "ExecuteTime": {
     "end_time": "2024-11-10T23:58:59.401702Z",
     "start_time": "2024-11-10T23:58:59.399017Z"
    }
   },
   "outputs": [],
   "source": [
    "def initialize_model_parameters(V, N, random_seed=42):\n",
    "    np.random.seed(random_seed)\n",
    "    W1 = np.random.randn(N, V)\n",
    "    W2 = np.random.randn(V, N)\n",
    "    b1 = np.zeros((N, 1))\n",
    "    b2 = np.zeros((V, 1))\n",
    "\n",
    "    return W1, W2, b1, b2"
   ]
  },
  {
   "cell_type": "code",
   "execution_count": 27,
   "id": "9881d2018ea4701b",
   "metadata": {
    "ExecuteTime": {
     "end_time": "2024-11-10T23:58:59.452Z",
     "start_time": "2024-11-10T23:58:59.446181Z"
    }
   },
   "outputs": [
    {
     "name": "stdout",
     "output_type": "stream",
     "text": [
      "(10, 5966) (5966, 10) (10, 1) (5966, 1)\n"
     ]
    }
   ],
   "source": [
    "# Example\n",
    "V = len(word2Ind)\n",
    "N = 10\n",
    "W1, W2, b1, b2 = initialize_model_parameters(V, N)\n",
    "print(W1.shape, W2.shape, b1.shape, b2.shape)"
   ]
  },
  {
   "cell_type": "code",
   "execution_count": 28,
   "id": "b14524b5b558c90a",
   "metadata": {
    "ExecuteTime": {
     "end_time": "2024-11-10T23:58:59.502675Z",
     "start_time": "2024-11-10T23:58:59.499124Z"
    }
   },
   "outputs": [],
   "source": [
    "assert W1.shape == (10, 5966), f\"Error: The shape of W1 should be (5841, 10) but got {W1.shape}\"\n",
    "assert W2.shape == (5966, 10), f\"Error: The shape of W2 should be (10, 5841) but got {W2.shape}\"\n",
    "assert b1.shape == (10, 1), f\"Error: The shape of b1 should be (10, 1) but got {b1.shape}\"\n",
    "assert b2.shape == (5966, 1), f\"Error: The shape of b2 should be (5841, 1) but got {b2.shape}\""
   ]
  },
  {
   "cell_type": "markdown",
   "id": "48b47f5340b3e922",
   "metadata": {},
   "source": [
    "## Exercise 10 - Loss Function (Cross-Entropy)\n",
    "\n",
    "**10. Implement the cross-entropy loss function.**\n",
    "- The loss function shoud receive the predicted output `y_hat` and the target output `y`.\n",
    "- The loss function, cross-entropy, is given by:\n",
    "$$ J = - \\sum_{i=1}^{V} y_i \\log(\\hat y_i) $$\n",
    "\n",
    "Where:\n",
    "- $V$ is the size of the vocabulary.\n",
    "- $y$ is the one-hot encoded target word.\n",
    "- $\\hat y$ is the predicted output.\n"
   ]
  },
  {
   "cell_type": "code",
   "execution_count": 31,
   "id": "51a1d5f1a7d2530b",
   "metadata": {
    "ExecuteTime": {
     "end_time": "2024-11-10T23:58:59.549749Z",
     "start_time": "2024-11-10T23:58:59.546895Z"
    }
   },
   "outputs": [],
   "source": [
    "def cross_entropy_loss(y, y_hat):\n",
    "    J = - np.sum(y * np.log(y_hat))\n",
    "    return J"
   ]
  },
  {
   "cell_type": "code",
   "execution_count": 32,
   "id": "b646a044fdc8575a",
   "metadata": {
    "ExecuteTime": {
     "end_time": "2024-11-10T23:58:59.598201Z",
     "start_time": "2024-11-10T23:58:59.594810Z"
    }
   },
   "outputs": [
    {
     "name": "stdout",
     "output_type": "stream",
     "text": [
      "0.35667494393873245\n"
     ]
    }
   ],
   "source": [
    "# Example\n",
    "y = np.array([1, 0, 0])\n",
    "y_hat = np.array([0.7, 0.2, 0.1])\n",
    "print(cross_entropy_loss(y, y_hat))"
   ]
  },
  {
   "cell_type": "code",
   "execution_count": 33,
   "id": "c20f9f4bbe4b24f8",
   "metadata": {
    "ExecuteTime": {
     "end_time": "2024-11-10T23:58:59.652819Z",
     "start_time": "2024-11-10T23:58:59.649611Z"
    }
   },
   "outputs": [],
   "source": [
    "assert np.allclose(cross_entropy_loss(y, y_hat), 0.35667494393873245), f\"Error: The loss is not correct!\""
   ]
  },
  {
   "cell_type": "markdown",
   "id": "d269803ac1e945b9",
   "metadata": {},
   "source": [
    "## Exercise 11 - Forward Pass\n",
    "\n",
    "**11. Implement the forward pass of the CBOW model.**\n",
    "- The forward pass is given by:\n",
    "$$ z_1 = W_1 \\  X + b_1 $$\n",
    "$$ h = ReLU(z_1) $$\n",
    "$$ z_2 = W_2 \\  h + b_2 $$\n",
    "$$ \\hat y = softmax(z_2) $$\n",
    "\n",
    "- The function should return the predicted output $\\hat y$.\n",
    "- The function should also return the hidden layer output $h$.\n",
    "- The input $X$ is the average of the one-hot vectors of the context words.\n",
    "- The target output $y$ is the one-hot encoded vector of the center word.\n",
    "- The weights $W_1$ and $W_2$, and the biases $b_1$ and $b_2$ are the parameters of the model."
   ]
  },
  {
   "cell_type": "code",
   "execution_count": 54,
   "id": "4f022cd901e691ae",
   "metadata": {
    "ExecuteTime": {
     "end_time": "2024-11-10T23:58:59.700398Z",
     "start_time": "2024-11-10T23:58:59.696964Z"
    }
   },
   "outputs": [],
   "source": [
    "def forward_pass(X, W1, W2, b1, b2):\n",
    "    z1 = np.dot(W1, X) + b1\n",
    "    h = ReLU(z1)\n",
    "    z2 = np.dot(W2, h) + b2\n",
    "    y_hat = softmax(z2)\n",
    "\n",
    "    return y_hat, h"
   ]
  },
  {
   "cell_type": "code",
   "execution_count": 55,
   "id": "4561c0e1d3a2ed18",
   "metadata": {
    "ExecuteTime": {
     "end_time": "2024-11-10T23:58:59.746707Z",
     "start_time": "2024-11-10T23:58:59.744168Z"
    }
   },
   "outputs": [],
   "source": [
    "# Example\n",
    "training_examples = get_training_example(data, 2, word2Ind, V)\n",
    "x, y = next(training_examples)"
   ]
  },
  {
   "cell_type": "code",
   "execution_count": 56,
   "id": "187c555721396641",
   "metadata": {
    "ExecuteTime": {
     "end_time": "2024-11-10T23:58:59.794096Z",
     "start_time": "2024-11-10T23:58:59.790620Z"
    }
   },
   "outputs": [
    {
     "name": "stdout",
     "output_type": "stream",
     "text": [
      "[[5.84213270e-05]\n",
      " [1.93369807e-04]\n",
      " [8.42189460e-05]\n",
      " ...\n",
      " [1.79660201e-04]\n",
      " [3.94039390e-05]\n",
      " [3.11104102e-05]]\n"
     ]
    }
   ],
   "source": [
    "x.shape = (V, 1)\n",
    "y.shape = (V, 1)\n",
    "y_hat, h = forward_pass(x, W1, W2, b1, b2)\n",
    "print(y_hat)"
   ]
  },
  {
   "cell_type": "code",
   "execution_count": 57,
   "id": "852f2f7e81d48eb3",
   "metadata": {
    "ExecuteTime": {
     "end_time": "2024-11-10T23:58:59.848710Z",
     "start_time": "2024-11-10T23:58:59.845241Z"
    }
   },
   "outputs": [],
   "source": [
    "assert y_hat.shape == (5966, 1), f\"Error: The shape of y_hat should be (5966, 1) but got {y_hat.shape}\""
   ]
  },
  {
   "cell_type": "markdown",
   "id": "d9965d0e947d9cf4",
   "metadata": {},
   "source": [
    "## Exercise 12 - Backward Pass\n",
    "\n",
    "**12. Implement the backward pass of the CBOW model.**\n",
    "- The backward pass is used to calculate the gradients of the model parameters.\n",
    "- The gradients are used to update the weights and biases during training.\n",
    "- The function should receive the input $X$, the target output $y$, the predicted output $\\hat y$, the hidden layer output $h$, and the model parameters $W1$, $W2$, $b1$, and $b2$ and finally the learning rate $\\alpha$.\n",
    "- The function should return the updated weights and biases.\n",
    "\n",
    "The gradients are calculated as follows:\n",
    "$$ \\frac{\\partial J}{\\partial z_2} = \\hat y - y $$\n",
    "$$ \\frac{\\partial J}{\\partial W_2} = \\frac{\\partial J}{\\partial z_2} \\cdot h^T $$\n",
    "$$ \\frac{\\partial J}{\\partial b_2} = \\frac{\\partial J}{\\partial z_2} $$\n",
    "$$ \\frac{\\partial J}{\\partial z_1} = W_2^T \\cdot \\frac{\\partial J}{\\partial z_2} \\cdot ReLU'(h) $$\n",
    "$$ \\frac{\\partial J}{\\partial W_1} = \\frac{\\partial J}{\\partial z_1} \\cdot X^T $$\n",
    "$$ \\frac{\\partial J}{\\partial b_1} = \\frac{\\partial J}{\\partial z_1} $$\n",
    "\n",
    "The weight and bias updates are calculated using the gradients and the learning rate $\\alpha$:\n",
    "\n",
    "$$ W_1 = W_1 - \\alpha \\cdot \\frac{\\partial J}{\\partial W_1} $$\n",
    "$$ W_2 = W_2 - \\alpha \\cdot \\frac{\\partial J}{\\partial W_2} $$\n",
    "$$ b_1 = b_1 - \\alpha \\cdot \\frac{\\partial J}{\\partial b_1} $$\n",
    "$$ b_2 = b_2 - \\alpha \\cdot \\frac{\\partial J}{\\partial b_2} $$\n"
   ]
  },
  {
   "cell_type": "code",
   "execution_count": 65,
   "id": "27ce7683870a7fd7",
   "metadata": {
    "ExecuteTime": {
     "end_time": "2024-11-11T00:08:29.681337Z",
     "start_time": "2024-11-11T00:08:29.677257Z"
    }
   },
   "outputs": [],
   "source": [
    "def backward_pass(X, y, y_hat, h, W1, W2, b1, b2, alpha=0.03):\n",
    "    dz2 = y_hat-y\n",
    "    dw2 = np.dot(dz2, h.T)\n",
    "    db2 = np.sum(dz2, axis=0, keepdims=True)\n",
    "    dz1 = np.dot(W2.T, dz2) *(h>0)\n",
    "    dw1 = np.dot(dz1, X.T)\n",
    "    db1 = np.sum(dz1, axis=0, keepdims=True)\n",
    "\n",
    "    W1 -= alpha*dw1\n",
    "    W2 -= alpha*dw2\n",
    "    b1 -= alpha*db1\n",
    "    b2 -= alpha*db2\n",
    "\n",
    "    return W1, W2, b1, b2"
   ]
  },
  {
   "cell_type": "code",
   "execution_count": 62,
   "id": "bed6520d82043a78",
   "metadata": {
    "ExecuteTime": {
     "end_time": "2024-11-11T00:08:30.613131Z",
     "start_time": "2024-11-11T00:08:30.605429Z"
    }
   },
   "outputs": [
    {
     "name": "stdout",
     "output_type": "stream",
     "text": [
      "(10, 5966) (5966, 10) (10, 1) (5966, 1)\n"
     ]
    }
   ],
   "source": [
    "# Example\n",
    "V = len(word2Ind)\n",
    "N = 10\n",
    "W1, W2, b1, b2 = initialize_model_parameters(V, N)\n",
    "x, y = next(get_training_example(data, 2, word2Ind, V))\n",
    "x.shape = (V, 1)\n",
    "y.shape = (V, 1)\n",
    "y_hat, h = forward_pass(x, W1, W2, b1, b2)\n",
    "W1, W2, b1, b2 = backward_pass(x, y, y_hat, h, W1, W2, b1, b2)\n",
    "print(W1.shape, W2.shape, b1.shape, b2.shape)"
   ]
  },
  {
   "cell_type": "code",
   "execution_count": 63,
   "id": "145e352e5d9f1992",
   "metadata": {
    "ExecuteTime": {
     "end_time": "2024-11-11T00:08:31.213895Z",
     "start_time": "2024-11-11T00:08:31.210988Z"
    }
   },
   "outputs": [],
   "source": [
    "assert W1.shape == (N, V), f\"Error: The shape of W1 should be ({N}, {V}) but got {W1.shape}\"\n",
    "assert W2.shape == (V, N), f\"Error: The shape of W2 should be ({V}, {N}) but got {W2.shape}\"\n",
    "assert b1.shape == (N, 1), f\"Error: The shape of b1 should be ({N}, 1) but got {b1.shape}\"\n",
    "assert b2.shape == (V, 1), f\"Error: The shape of b2 should be ({V}, 1) but got {b2.shape}\""
   ]
  },
  {
   "cell_type": "markdown",
   "id": "99972f53fba92c7",
   "metadata": {},
   "source": [
    "## Exercise 13 - Training the CBOW Model with Gradient Descent\n",
    "\n",
    "**13. Implement the training loop of the CBOW model.**\n",
    "- The training loop should iterate over the training examples and update the weights and biases using the backward pass.\n",
    "- Compute the loss at each epoch and print it.\n",
    "- The function should return the final weights and biases.\n"
   ]
  },
  {
   "cell_type": "code",
   "execution_count": 70,
   "id": "c89eb38dcd0fcb89",
   "metadata": {
    "ExecuteTime": {
     "end_time": "2024-11-11T00:08:32.257466Z",
     "start_time": "2024-11-11T00:08:32.252730Z"
    }
   },
   "outputs": [],
   "source": [
    "def gradient_descent(data, word2Ind, N, alpha, epochs, seed=42):\n",
    "    V = len(word2Ind)\n",
    "    W1, W2, b1, b2 = initialize_model_parameters(V, N)\n",
    "\n",
    "    for epoch in range(epochs):\n",
    "        training_examples = get_training_example(data, 2, word2Ind, V)\n",
    "        for x, y in training_examples:\n",
    "            x.shape = (V, 1)\n",
    "            y.shape = (V, 1)\n",
    "            y_hat, h = forward_pass(x, W1, W2, b1, b2)\n",
    "            W1, W2, b1, b2 = backward_pass(x, y, y_hat, h, W1, W2, b1, b2, alpha)\n",
    "        \n",
    "        loss = cross_entropy_loss(y, y_hat)\n",
    "        print(f\"Epoch: {epoch}, Loss: {loss}\")\n",
    "\n",
    "    return W1, W2, b1, b2"
   ]
  },
  {
   "cell_type": "code",
   "execution_count": 71,
   "id": "a716941ec121c595",
   "metadata": {
    "ExecuteTime": {
     "end_time": "2024-11-11T00:10:49.811252Z",
     "start_time": "2024-11-11T00:08:33.187158Z"
    }
   },
   "outputs": [
    {
     "name": "stdout",
     "output_type": "stream",
     "text": [
      "Epoch: 0, Loss: 8.693831965074693\n",
      "Epoch: 1, Loss: 8.693831965074693\n",
      "Epoch: 2, Loss: 8.693831965074693\n",
      "Epoch: 3, Loss: 8.693831965074693\n",
      "Epoch: 4, Loss: 8.693831965074693\n"
     ]
    }
   ],
   "source": [
    "# Example\n",
    "N = 10\n",
    "alpha = 0.03\n",
    "epochs = 5\n",
    "W1, W2, b1, b2 = gradient_descent(data, word2Ind, N, alpha, epochs)"
   ]
  },
  {
   "cell_type": "markdown",
   "id": "7cc3fa2ab82dfa20",
   "metadata": {},
   "source": [
    "## Exercise 14 - Extracting the Word Embeddings\n",
    "\n",
    "**14. Implement three versions of the function `extract_word_embedding(W1, word, word2Ind)` that returns the word embedding of a given word.**\n",
    "\n",
    "- 14.1 Extract the embeddings from the weights $W_1$.\n",
    "- 14.2 Extract the embedding from the weights $W_2$.\n",
    "- 14.3 Return the average of the two embeddings."
   ]
  },
  {
   "cell_type": "code",
   "execution_count": 72,
   "id": "ce987fcff2721e66",
   "metadata": {
    "ExecuteTime": {
     "end_time": "2024-11-11T00:15:54.898324Z",
     "start_time": "2024-11-11T00:15:54.895439Z"
    }
   },
   "outputs": [],
   "source": [
    "def extract_word_embedding_w1(W1, word, word2Ind):\n",
    "    idx = word2Ind[word]\n",
    "    return W1[:, idx]"
   ]
  },
  {
   "cell_type": "code",
   "execution_count": 74,
   "id": "a40523ac60093e30",
   "metadata": {
    "ExecuteTime": {
     "end_time": "2024-11-11T00:15:55.136422Z",
     "start_time": "2024-11-11T00:15:55.133589Z"
    }
   },
   "outputs": [],
   "source": [
    "def extract_word_embedding_w2(W2, word, word2Ind):\n",
    "    idx = word2Ind[word]\n",
    "    return W2[idx, :]"
   ]
  },
  {
   "cell_type": "code",
   "execution_count": 76,
   "id": "b278955748c530af",
   "metadata": {
    "ExecuteTime": {
     "end_time": "2024-11-11T00:15:55.378548Z",
     "start_time": "2024-11-11T00:15:55.375289Z"
    }
   },
   "outputs": [],
   "source": [
    "def extract_word_embedding_avg(W1, W2, word, word2Ind):\n",
    "\n",
    "    return (extract_word_embedding_w1(W1, word, word2Ind) + extract_word_embedding_w2(W2, word, word2Ind))/2"
   ]
  },
  {
   "cell_type": "code",
   "execution_count": 77,
   "id": "5445549c60f4f5e",
   "metadata": {
    "ExecuteTime": {
     "end_time": "2024-11-11T00:15:55.665825Z",
     "start_time": "2024-11-11T00:15:55.662041Z"
    }
   },
   "outputs": [
    {
     "data": {
      "text/plain": [
       "array([ 0.34115197,  0.95580275, -1.16750082, -0.37372087,  0.27064489,\n",
       "        0.14966891, -0.5179258 , -0.65786382,  0.70013765, -0.8131994 ])"
      ]
     },
     "execution_count": 77,
     "metadata": {},
     "output_type": "execute_result"
    }
   ],
   "source": [
    "# Example\n",
    "word = 'king'\n",
    "embedding_w1 = extract_word_embedding_w1(W1, word, word2Ind)\n",
    "embedding_w2 = extract_word_embedding_w2(W2, word, word2Ind)\n",
    "embedding_avg = extract_word_embedding_avg(W1, W2, word, word2Ind)\n",
    "embedding_w1"
   ]
  },
  {
   "cell_type": "code",
   "execution_count": 78,
   "id": "82d1f8dd7652696a",
   "metadata": {
    "ExecuteTime": {
     "end_time": "2024-11-11T00:16:16.369656Z",
     "start_time": "2024-11-11T00:16:16.366110Z"
    }
   },
   "outputs": [
    {
     "data": {
      "text/plain": [
       "array([-1.22979337, -0.15416453,  1.27123241,  0.62361908,  0.52446633,\n",
       "        0.7472655 ,  0.32489036, -0.33729146,  0.96482857, -0.47585941])"
      ]
     },
     "execution_count": 78,
     "metadata": {},
     "output_type": "execute_result"
    }
   ],
   "source": [
    "embedding_w2"
   ]
  },
  {
   "cell_type": "code",
   "execution_count": 79,
   "id": "43a453578fc18ff6",
   "metadata": {
    "ExecuteTime": {
     "end_time": "2024-11-11T00:16:19.292939Z",
     "start_time": "2024-11-11T00:16:19.289865Z"
    }
   },
   "outputs": [
    {
     "data": {
      "text/plain": [
       "array([-0.4443207 ,  0.40081911,  0.0518658 ,  0.12494911,  0.39755561,\n",
       "        0.44846721, -0.09651772, -0.49757764,  0.83248311, -0.6445294 ])"
      ]
     },
     "execution_count": 79,
     "metadata": {},
     "output_type": "execute_result"
    }
   ],
   "source": [
    "embedding_avg"
   ]
  },
  {
   "cell_type": "code",
   "execution_count": 80,
   "id": "81fc8adfdb88c754",
   "metadata": {
    "ExecuteTime": {
     "end_time": "2024-11-11T00:16:29.354421Z",
     "start_time": "2024-11-11T00:16:29.351348Z"
    }
   },
   "outputs": [],
   "source": [
    "assert embedding_w1.shape == (N,), f\"Error: The shape of the embedding should be ({N},) but got {embedding_w1.shape}\"\n",
    "assert embedding_w2.shape == (N,), f\"Error: The shape of the embedding should be ({N},) but got {embedding_w2.shape}\"\n",
    "assert embedding_avg.shape == (N,), f\"Error: The shape of the embedding should be ({N},) but got {embedding_avg.shape}\""
   ]
  },
  {
   "cell_type": "markdown",
   "id": "46bf70c30fa8b7b4",
   "metadata": {},
   "source": [
    "## Exercise 15 - Visualizing the Word Embeddings\n",
    "\n",
    "**15. Implement a function `plot_word_embeddings(W, word2Ind, words)` that plots the word embeddings of the given words.**\n",
    "\n",
    "**Note:**\n",
    "- Use the PCA algorithm to reduce the dimensionality of the embeddings to 2D.\n",
    "- Use the `scatter` function from `matplotlib.pyplot` to plot the embeddings."
   ]
  },
  {
   "cell_type": "code",
   "execution_count": 102,
   "id": "a22d7be3cd3572e2",
   "metadata": {
    "ExecuteTime": {
     "end_time": "2024-11-11T00:21:30.787768Z",
     "start_time": "2024-11-11T00:21:30.783486Z"
    }
   },
   "outputs": [],
   "source": [
    "from sklearn.decomposition import PCA\n",
    "import matplotlib.pyplot as plt\n",
    "\n",
    "def plot_word_embeddings(W, word2Ind, words):\n",
    "    pca = PCA(n_components=2)\n",
    "    reduced = pca.fit_transform(W.T)\n",
    "    idx = [word2Ind[word] for word in words]\n",
    "    plt.scatter(reduced[idx, 0], reduced[idx, 1], c='blue')\n",
    "    for i in idx:\n",
    "        plt.text(reduced[i, 0], reduced[i, 1], Ind2word[i])\n",
    "    plt.show()"
   ]
  },
  {
   "cell_type": "code",
   "execution_count": 103,
   "id": "476e153529904a9",
   "metadata": {
    "ExecuteTime": {
     "end_time": "2024-11-11T00:21:31.315991Z",
     "start_time": "2024-11-11T00:21:31.232818Z"
    }
   },
   "outputs": [
    {
     "data": {
      "image/png": "[encoded data removed]",
      "text/plain": [
       "<Figure size 640x480 with 1 Axes>"
      ]
     },
     "metadata": {},
     "output_type": "display_data"
    }
   ],
   "source": [
    "# Example\n",
    "words = ['king', 'queen', 'man', 'woman']\n",
    "plot_word_embeddings(W1, word2Ind, words)"
   ]
  },
  {
   "cell_type": "code",
   "execution_count": 89,
   "id": "3a9842757114ca48",
   "metadata": {
    "ExecuteTime": {
     "end_time": "2024-11-11T00:22:13.904422Z",
     "start_time": "2024-11-11T00:22:13.824589Z"
    }
   },
   "outputs": [
    {
     "data": {
      "image/png": "[encoded data removed]",
      "text/plain": [
       "<Figure size 640x480 with 1 Axes>"
      ]
     },
     "metadata": {},
     "output_type": "display_data"
    }
   ],
   "source": [
    "plot_word_embeddings(W2.T, word2Ind, words)"
   ]
  },
  {
   "cell_type": "code",
   "execution_count": 90,
   "id": "5b61950a3ff20886",
   "metadata": {
    "ExecuteTime": {
     "end_time": "2024-11-11T00:22:31.470688Z",
     "start_time": "2024-11-11T00:22:31.322120Z"
    }
   },
   "outputs": [
    {
     "data": {
      "image/png": "[encoded data removed]",
      "text/plain": [
       "<Figure size 640x480 with 1 Axes>"
      ]
     },
     "metadata": {},
     "output_type": "display_data"
    }
   ],
   "source": [
    "plot_word_embeddings((W1 + W2.T) / 2, word2Ind, words)"
   ]
  }
 ],
 "metadata": {
  "kernelspec": {
   "display_name": "tac-hands-on",
   "language": "python",
   "name": "python3"
  },
  "language_info": {
   "codemirror_mode": {
    "name": "ipython",
    "version": 3
   },
   "file_extension": ".py",
   "mimetype": "text/x-python",
   "name": "python",
   "nbconvert_exporter": "python",
   "pygments_lexer": "ipython3",
   "version": "3.10.14"
  }
 },
 "nbformat": 4,
 "nbformat_minor": 5
}
